{
 "cells": [
  {
   "cell_type": "markdown",
   "metadata": {},
   "source": [
    "# Previously opening emails predicts opening more emails"
   ]
  },
  {
   "cell_type": "code",
   "execution_count": 1,
   "metadata": {},
   "outputs": [],
   "source": [
    "import numpy as np\n",
    "import pandas as pd"
   ]
  },
  {
   "cell_type": "code",
   "execution_count": 2,
   "metadata": {},
   "outputs": [],
   "source": [
    "data = pd.read_csv(\"../data_snippet.csv\") # Load data snippet"
   ]
  },
  {
   "cell_type": "code",
   "execution_count": 3,
   "metadata": {},
   "outputs": [
    {
     "data": {
      "text/html": [
       "<div>\n",
       "<style scoped>\n",
       "    .dataframe tbody tr th:only-of-type {\n",
       "        vertical-align: middle;\n",
       "    }\n",
       "\n",
       "    .dataframe tbody tr th {\n",
       "        vertical-align: top;\n",
       "    }\n",
       "\n",
       "    .dataframe thead th {\n",
       "        text-align: right;\n",
       "    }\n",
       "</style>\n",
       "<table border=\"1\" class=\"dataframe\">\n",
       "  <thead>\n",
       "    <tr style=\"text-align: right;\">\n",
       "      <th></th>\n",
       "      <th>riid</th>\n",
       "      <th>opened</th>\n",
       "      <th>rev_3dv2</th>\n",
       "      <th>unsub</th>\n",
       "      <th>campaign_type</th>\n",
       "      <th>retention_score</th>\n",
       "      <th>recency_score</th>\n",
       "      <th>frequency_score</th>\n",
       "    </tr>\n",
       "  </thead>\n",
       "  <tbody>\n",
       "    <tr>\n",
       "      <th>0</th>\n",
       "      <td>242697842</td>\n",
       "      <td>1</td>\n",
       "      <td>75.00</td>\n",
       "      <td>0</td>\n",
       "      <td>Dedicated</td>\n",
       "      <td>14.000000</td>\n",
       "      <td>1.637422</td>\n",
       "      <td>31</td>\n",
       "    </tr>\n",
       "    <tr>\n",
       "      <th>1</th>\n",
       "      <td>275469002</td>\n",
       "      <td>1</td>\n",
       "      <td>75.00</td>\n",
       "      <td>0</td>\n",
       "      <td>Dedicated</td>\n",
       "      <td>2.800000</td>\n",
       "      <td>0.000000</td>\n",
       "      <td>0</td>\n",
       "    </tr>\n",
       "    <tr>\n",
       "      <th>2</th>\n",
       "      <td>4319542</td>\n",
       "      <td>1</td>\n",
       "      <td>19.98</td>\n",
       "      <td>0</td>\n",
       "      <td>Dedicated</td>\n",
       "      <td>1.000000</td>\n",
       "      <td>0.084239</td>\n",
       "      <td>4</td>\n",
       "    </tr>\n",
       "    <tr>\n",
       "      <th>3</th>\n",
       "      <td>166170102</td>\n",
       "      <td>1</td>\n",
       "      <td>19.98</td>\n",
       "      <td>0</td>\n",
       "      <td>Dedicated</td>\n",
       "      <td>0.756757</td>\n",
       "      <td>0.010870</td>\n",
       "      <td>1</td>\n",
       "    </tr>\n",
       "    <tr>\n",
       "      <th>4</th>\n",
       "      <td>6998482</td>\n",
       "      <td>1</td>\n",
       "      <td>150.00</td>\n",
       "      <td>0</td>\n",
       "      <td>Dedicated</td>\n",
       "      <td>28.000000</td>\n",
       "      <td>1.845885</td>\n",
       "      <td>18</td>\n",
       "    </tr>\n",
       "  </tbody>\n",
       "</table>\n",
       "</div>"
      ],
      "text/plain": [
       "        riid  opened  rev_3dv2  unsub campaign_type  retention_score  \\\n",
       "0  242697842       1     75.00      0     Dedicated        14.000000   \n",
       "1  275469002       1     75.00      0     Dedicated         2.800000   \n",
       "2    4319542       1     19.98      0     Dedicated         1.000000   \n",
       "3  166170102       1     19.98      0     Dedicated         0.756757   \n",
       "4    6998482       1    150.00      0     Dedicated        28.000000   \n",
       "\n",
       "   recency_score  frequency_score  \n",
       "0       1.637422               31  \n",
       "1       0.000000                0  \n",
       "2       0.084239                4  \n",
       "3       0.010870                1  \n",
       "4       1.845885               18  "
      ]
     },
     "execution_count": 3,
     "metadata": {},
     "output_type": "execute_result"
    }
   ],
   "source": [
    "data.head()"
   ]
  },
  {
   "cell_type": "code",
   "execution_count": 4,
   "metadata": {},
   "outputs": [],
   "source": [
    "customers = {} # create customer data dictionary, where key = customer id,\n",
    "               # value = list of tuples (opened, revenue, unsubscribed) for all emails to that customer\n",
    "\n",
    "for index, row in data.iterrows():\n",
    "    if row['riid'] not in customers.keys():\n",
    "        customers[row['riid']] = []\n",
    "    customers[row['riid']].append((row['opened'], row['rev_3dv2'], row['unsub']))"
   ]
  },
  {
   "cell_type": "code",
   "execution_count": 5,
   "metadata": {},
   "outputs": [
    {
     "name": "stdout",
     "output_type": "stream",
     "text": [
      "51\n"
     ]
    }
   ],
   "source": [
    "max_emails = 0 # find maximum number of emails that any customer received\n",
    "i = 0\n",
    "for key in customers.keys():\n",
    "    if len(customers[key]) > max_emails:\n",
    "        max_emails = len(customers[key])\n",
    "print (max_emails)"
   ]
  },
  {
   "cell_type": "code",
   "execution_count": 6,
   "metadata": {},
   "outputs": [],
   "source": [
    "# Find numbers of the following events:\n",
    "# --> customer opened email this time, as well as j emails ago (11)\n",
    "# --> customer opened email this time, but not j emails ago (10)\n",
    "# --> customer did not open email this time, but did j emails ago (01)\n",
    "# --> customer didn't open email this time and j emails ago (00)\n",
    "# for each j value from 1 to max_emails\n",
    "\n",
    "all_corrs = np.zeros(( max_emails - 1, 2, 2 ))\n",
    "\n",
    "last_opened = 0 # number of customers who opened the last email\n",
    "prev_opened = 0 # number of customers who opened the second to last email\n",
    "\n",
    "for key in customers.keys():\n",
    "    last_opened += customers[key][0][0]\n",
    "    if len(customers[key]) != 1: # if customer received only 1 email, no inference based on past behavior possible\n",
    "        prev_opened += customers[key][1][0]\n",
    "        for j in range( len(customers[key]) - 1 ): # otherwise, use data to calculate metrics for j emails ago\n",
    "            all_corrs[j][customers[key][0][0]][customers[key][j+1][0]] += 1"
   ]
  },
  {
   "cell_type": "code",
   "execution_count": 7,
   "metadata": {},
   "outputs": [],
   "source": [
    "# Find total numbers of unopened (0) and opened (1) emails for each j value\n",
    "totals = np.zeros((max_emails - 1, 2))\n",
    "for j in range(len(all_corrs)):\n",
    "    totals[j] = all_corrs[j].sum(axis=(0))"
   ]
  },
  {
   "cell_type": "code",
   "execution_count": 8,
   "metadata": {},
   "outputs": [],
   "source": [
    "# Find the expected fractions of opened and unopened emails for last step,\n",
    "# conditional on the email j emails ago being opened or unopened\n",
    "for j in range(len(all_corrs)):\n",
    "    if totals[j][0] > 0:\n",
    "        all_corrs[j][0] /= totals[j][0]\n",
    "    else:\n",
    "        all_corrs[j][0][0] = 0.\n",
    "        all_corrs[j][0][1] = 0.\n",
    "    if totals[j][1] > 0:\n",
    "        all_corrs[j][1] /= totals[j][1]\n",
    "    else:\n",
    "        all_corrs[j][1][0] = 0.\n",
    "        all_corrs[j][1][1] = 0."
   ]
  },
  {
   "cell_type": "code",
   "execution_count": 9,
   "metadata": {},
   "outputs": [
    {
     "data": {
      "text/plain": [
       "<matplotlib.legend.Legend at 0x7f699389b5b0>"
      ]
     },
     "execution_count": 9,
     "metadata": {},
     "output_type": "execute_result"
    },
    {
     "data": {
      "image/png": "[encoded data removed]",
      "text/plain": [
       "<Figure size 432x288 with 1 Axes>"
      ]
     },
     "metadata": {
      "needs_background": "light"
     },
     "output_type": "display_data"
    }
   ],
   "source": [
    "# First number in legend is the state of the current email (0 - unopened, 1 - opened),\n",
    "# second number is the state for j emails ago \n",
    "import matplotlib.pyplot as plt\n",
    "\n",
    "plt.plot(all_corrs[::,0,0], label='00')\n",
    "plt.plot(all_corrs[::,1,0], label='10')\n",
    "plt.plot(all_corrs[::,0,1], label='01')\n",
    "plt.plot(all_corrs[::,1,1], label='11')\n",
    "plt.xlabel(\"j (number of emails back)\")\n",
    "plt.ylabel(\"Fraction of emails\")\n",
    "plt.legend()"
   ]
  },
  {
   "cell_type": "code",
   "execution_count": 10,
   "metadata": {},
   "outputs": [
    {
     "name": "stdout",
     "output_type": "stream",
     "text": [
      "[[7.56233644e-01 2.34852043e-05]\n",
      " [2.21266319e-01 9.99978683e-01]]\n"
     ]
    },
    {
     "data": {
      "image/png": "[encoded data removed]",
      "text/plain": [
       "<Figure size 432x288 with 1 Axes>"
      ]
     },
     "metadata": {
      "needs_background": "light"
     },
     "output_type": "display_data"
    }
   ],
   "source": [
    "# Data from previous graph for j=1, same colors as above\n",
    "# If previous email was opened, there is over a 99.99% chance the next one will be opened\n",
    "plt.figure().add_subplot(111).tick_params(labelbottom=False)\n",
    "plt.bar(1,all_corrs[0][0][0])\n",
    "plt.bar(2,all_corrs[0][1][0])\n",
    "plt.bar(3,all_corrs[0][0][1])\n",
    "plt.bar(4,all_corrs[0][1][1])\n",
    "\n",
    "print (all_corrs[0])"
   ]
  },
  {
   "cell_type": "code",
   "execution_count": 11,
   "metadata": {},
   "outputs": [
    {
     "name": "stdout",
     "output_type": "stream",
     "text": [
      "Opened last one:\n",
      "99.9976514846588\n",
      "0.002348515341196867\n",
      "Didn't open last one:\n",
      "22.635941437287084\n",
      "77.36405856271291\n"
     ]
    }
   ],
   "source": [
    "total_last1 = all_corrs[0][1][1] + all_corrs[0][0][1]\n",
    "total_last0 = all_corrs[0][1][0] + all_corrs[0][0][0]\n",
    "print (\"Opened last one:\")\n",
    "print (all_corrs[0][1][1]/total_last1*100)\n",
    "print (all_corrs[0][0][1]/total_last1*100)\n",
    "print (\"Didn't open last one:\")\n",
    "print (all_corrs[0][1][0]/total_last0*100)\n",
    "print (all_corrs[0][0][0]/total_last0*100)"
   ]
  },
  {
   "cell_type": "code",
   "execution_count": null,
   "metadata": {},
   "outputs": [],
   "source": []
  }
 ],
 "metadata": {
  "kernelspec": {
   "display_name": "Python [conda env:dl] *",
   "language": "python",
   "name": "conda-env-dl-py"
  },
  "language_info": {
   "codemirror_mode": {
    "name": "ipython",
    "version": 3
   },
   "file_extension": ".py",
   "mimetype": "text/x-python",
   "name": "python",
   "nbconvert_exporter": "python",
   "pygments_lexer": "ipython3",
   "version": "3.8.5"
  }
 },
 "nbformat": 4,
 "nbformat_minor": 4
}
