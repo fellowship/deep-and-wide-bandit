{
 "cells": [
  {
   "cell_type": "code",
   "execution_count": 15,
   "metadata": {},
   "outputs": [],
   "source": [
    "import numpy as np\n",
    "import pandas as pd\n",
    "import matplotlib.pyplot as plt\n",
    "import matplotlib.colors as colors\n",
    "#import mayavi\n",
    "from itertools import product\n",
    "from random import shuffle\n",
    "from copy import deepcopy"
   ]
  },
  {
   "cell_type": "code",
   "execution_count": 2,
   "metadata": {},
   "outputs": [],
   "source": [
    "num_users = 1000 # number of users\n",
    "num_campaigns = 100 # number of campaigns with different options that all samples are equally distributed among\n",
    "samples_per_campaign = 100000 # number of samples per campaign\n",
    "num_actions = 10 # number of actions per campaign\n",
    "\n",
    "num_samples = num_campaigns * samples_per_campaign # total number of samples\n",
    "\n",
    "# Determine number of times that each user is seen\n",
    "\n",
    "# Step 1: draw relative frequencies for seeing different users from a uniform distribution\n",
    "user_nums = np.asarray([np.random.random() for i in range(num_users)])\n",
    "\n",
    "# Step 2: normalize frequencies to get probabilities, multiply by total number of samples,\n",
    "#   and convert to integers to get total numbers of times that each user is seen;\n",
    "#   total number of samples will be < num_samples due to rounding down\n",
    "user_nums = (num_samples*user_nums/user_nums.sum()).astype(int)\n",
    "\n",
    "# Step 3: for any users who are never seen, add 1 time\n",
    "i = 0\n",
    "j = user_nums.argsort()[0]\n",
    "while user_nums[j] == 0:\n",
    "    user_nums[j] += 1\n",
    "    i += 1\n",
    "    j = user_nums.argsort()[i]\n",
    "\n",
    "# Step 4: add 1 to users who are seen the most times to get the total number of samples = num_samples\n",
    "to_add = num_samples - user_nums.sum()\n",
    "for i in range(to_add):\n",
    "    j = user_nums.argsort()[num_users-i-1]\n",
    "    user_nums[j] += 1\n",
    "\n",
    "# Get correct total number of samples with correct numbers of samples for each user in random order\n",
    "user_id = []\n",
    "for user in range(num_users):\n",
    "    for num in range(user_nums[user]):\n",
    "        user_id.append(user+1)\n",
    "shuffle(user_id)"
   ]
  },
  {
   "cell_type": "code",
   "execution_count": 36,
   "metadata": {},
   "outputs": [
    {
     "data": {
      "image/png": "[encoded data removed]",
      "text/plain": [
       "<Figure size 432x288 with 1 Axes>"
      ]
     },
     "metadata": {
      "needs_background": "light"
     },
     "output_type": "display_data"
    }
   ],
   "source": [
    "sorted_user_nums = deepcopy(user_nums)\n",
    "sorted_user_nums.sort()\n",
    "plt.xlabel(\"Users sorted by times seen\")\n",
    "plt.ylabel(\"Times seen\")\n",
    "plt.plot(sorted_user_nums)\n",
    "plt.show()"
   ]
  },
  {
   "cell_type": "code",
   "execution_count": 4,
   "metadata": {},
   "outputs": [],
   "source": [
    "# For every user and each of the two user features, randomly pick the mean from a uniform distribution\n",
    "# over the interval (-0.5, 0.5) and the standard deviation from a uniform distribution over the interval (0, std)\n",
    "\n",
    "user_std1 = 0.2 # maximum standard deviation for user feature 1\n",
    "user_std2 = 0.3 # maximum standard deviation for user feature 2\n",
    "user_meanh = 0.2 # maximum absolute value of the mean for hidden user feature\n",
    "user_stdh = 0.1 # maximum standard deviation for hidden user feature\n",
    "\n",
    "user_feat1_means = {}\n",
    "user_feat1_stds = {}\n",
    "user_feat2_means = {}\n",
    "user_feat2_stds = {}\n",
    "user_hidden_means = {}\n",
    "user_hidden_stds = {}\n",
    "\n",
    "for n in range(num_users):\n",
    "    user_feat1_means[n+1] = np.random.random() - 0.5\n",
    "    user_feat1_stds[n+1] = user_std1 * np.random.random()\n",
    "    user_feat2_means[n+1] = np.random.random() - 0.5\n",
    "    user_feat2_stds[n+1] = user_std2 * np.random.random()\n",
    "    user_hidden_means[n+1] = 2 * user_meanh * (np.random.random() - 0.5)\n",
    "    user_hidden_stds[n+1] = user_stdh * np.random.random()\n",
    "\n",
    "# For every campaign and each of the two campaign features, randomly pick the mean from a uniform distribution\n",
    "# over the interval (-0.5, 0.5) and the standard deviation from a uniform distribution over the interval (0, std)\n",
    "\n",
    "campaign_std1 = 0.1 # maximum standard deviation for campaign feature 1\n",
    "campaign_std2 = 0.05 # maximum standard deviation for campaign feature 2\n",
    "campaign_meanh = 0.15 # maximum absolute value of the mean for hidden campaign feature\n",
    "campaign_stdh = 0.05 # maximum standard deviation for hidden campaign feature\n",
    "\n",
    "campaign_feat1_means = {}\n",
    "campaign_feat1_stds = {}\n",
    "campaign_feat2_means = {}\n",
    "campaign_feat2_stds = {}\n",
    "campaign_hidden_means = {}\n",
    "campaign_hidden_stds = {}\n",
    "\n",
    "for n in range(num_campaigns):\n",
    "    campaign_feat1_means[n+1] = np.random.random() - 0.5\n",
    "    campaign_feat1_stds[n+1] = campaign_std1 * np.random.random()\n",
    "    campaign_feat2_means[n+1] = np.random.random() - 0.5\n",
    "    campaign_feat2_stds[n+1] = campaign_std2 * np.random.random()\n",
    "    campaign_hidden_means[n+1] = 2 * campaign_meanh * (np.random.random() - 0.5)\n",
    "    campaign_hidden_stds[n+1] = campaign_stdh * np.random.random()"
   ]
  },
  {
   "cell_type": "code",
   "execution_count": 5,
   "metadata": {},
   "outputs": [
    {
     "name": "stdout",
     "output_type": "stream",
     "text": [
      "1000000\n",
      "2000000\n",
      "3000000\n",
      "4000000\n",
      "5000000\n",
      "6000000\n",
      "7000000\n",
      "8000000\n",
      "9000000\n",
      "10000000\n"
     ]
    }
   ],
   "source": [
    "campaign_id = []\n",
    "user_feat1 = []\n",
    "user_feat2 = []\n",
    "user_hidden = []\n",
    "campaign_feat1 = []\n",
    "campaign_feat2 = []\n",
    "campaign_hidden = []\n",
    "reward = []\n",
    "optimal = []\n",
    "\n",
    "for n in range(num_samples):\n",
    "    if (n+1) % 1000000 == 0:\n",
    "        print (n+1)\n",
    "    \n",
    "# assign user id for each sample so that each user appears the correct number of times\n",
    "    j = user_id[n]\n",
    "    # sample the values for the user features from normal distributions with pre-defined means and stds\n",
    "    user_feat1.append(np.random.normal(user_feat1_means[j], user_feat1_stds[j]))\n",
    "    user_feat2.append(np.random.normal(user_feat2_means[j], user_feat2_stds[j]))\n",
    "    user_hidden.append(np.random.normal(user_hidden_means[j], user_hidden_stds[j]))\n",
    "    k = n // samples_per_campaign + 1 # assign a campaign id (based on the sample number)\n",
    "    campaign_id.append(k)\n",
    "    campaign_feat1.append(np.random.normal(campaign_feat1_means[k], campaign_feat1_stds[k]))\n",
    "    campaign_feat2.append(np.random.normal(campaign_feat2_means[k], campaign_feat2_stds[k]))\n",
    "    campaign_hidden.append(np.random.normal(campaign_hidden_means[k], campaign_hidden_stds[k]))\n",
    "    # set up 3D user and campaign vectors: (feature 1, feature 2, hidden feature)        \n",
    "    user_vec = np.asarray([user_feat1[-1], user_feat2[-1], user_hidden[-1]])\n",
    "    campaign_vec = np.asarray([campaign_feat1[-1], campaign_feat2[-1], campaign_hidden[-1]])\n",
    "    # find angle between user and campaign vectors\n",
    "    cosphi = np.dot(user_vec, campaign_vec.T) / (np.linalg.norm(user_vec) * np.linalg.norm(campaign_vec))\n",
    "    # define reward as the arccos of this angle, shifted and scaled to be between -0.5 and +0.5\n",
    "    reward.append(np.arccos(cosphi)/np.pi - 0.5)\n",
    "    # select optimal action based on reward value:\n",
    "    #   -0.5 < reward < -0.4 --> action 1, -0.4 < reward < -0.3 --> action 2, etc.\n",
    "    action = 1\n",
    "    while reward[-1] > -0.5 + action/num_actions:\n",
    "        action += 1\n",
    "    optimal.append(action)"
   ]
  },
  {
   "cell_type": "code",
   "execution_count": 34,
   "metadata": {},
   "outputs": [
    {
     "data": {
      "image/png": "[encoded data removed]",
      "text/plain": [
       "<Figure size 432x288 with 1 Axes>"
      ]
     },
     "metadata": {
      "needs_background": "light"
     },
     "output_type": "display_data"
    }
   ],
   "source": [
    "bins = [i*0.01 - 0.5 for i in range(101)]\n",
    "plt.xlim(-0.5, 0.5)\n",
    "plt.xlabel(\"Reward\")\n",
    "plt.ylabel(\"Counts\")\n",
    "plt.hist(reward, bins=bins)\n",
    "plt.show()"
   ]
  },
  {
   "cell_type": "code",
   "execution_count": 7,
   "metadata": {},
   "outputs": [
    {
     "name": "stdout",
     "output_type": "stream",
     "text": [
      "1000000\n",
      "2000000\n",
      "3000000\n",
      "4000000\n",
      "5000000\n",
      "6000000\n",
      "7000000\n",
      "8000000\n",
      "9000000\n",
      "10000000\n"
     ]
    }
   ],
   "source": [
    "# Bin user features\n",
    "bins = [round(i/100 - 1, 2) for i in range(201)] # with a step of 0.01\n",
    "grid_pts = list(product(bins, bins))\n",
    "grid = {}\n",
    "for pt in grid_pts:\n",
    "    grid[pt] = 0\n",
    "\n",
    "for n in range(num_samples):\n",
    "    if (n + 1) % 1000000 == 0:\n",
    "        print (n + 1)\n",
    "    pt = [round(np.ceil(user_feat1[n]*100)/100, 2), round(np.ceil(user_feat2[n]*100)/100, 2)]\n",
    "    # if user features are < -1 or > 1, bin them with -1 or 1 (a few outliers, not visible in graph)\n",
    "    if pt[0] < -1:\n",
    "        pt[0] = -1\n",
    "    if pt[1] < -1:\n",
    "        pt[1] = -1\n",
    "    if pt[0] > 1:\n",
    "        pt[0] = 1\n",
    "    if pt[1] > 1: \n",
    "        pt[1] = 1\n",
    "    pt = tuple(pt)\n",
    "    grid[pt] += 1"
   ]
  },
  {
   "cell_type": "code",
   "execution_count": 20,
   "metadata": {},
   "outputs": [
    {
     "name": "stdout",
     "output_type": "stream",
     "text": [
      "Number of samples with each combination of user features\n"
     ]
    },
    {
     "data": {
      "image/png": "[encoded data removed]",
      "text/plain": [
       "<Figure size 432x288 with 2 Axes>"
      ]
     },
     "metadata": {
      "needs_background": "light"
     },
     "output_type": "display_data"
    }
   ],
   "source": [
    "# Plot distribution of user features\n",
    "matr_user = np.zeros((201, 201))\n",
    "for i in range(201):\n",
    "    for j in range(201):\n",
    "        matr_user[i][j] = grid[(bins[i], bins[j])]\n",
    "\n",
    "print('Number of samples with each combination of user features')\n",
    "plt.imshow(matr_user, cmap = 'hot', norm=colors.PowerNorm(gamma=0.8), extent=[-1,1,-1,1])\n",
    "plt.colorbar()\n",
    "plt.xlabel('User feature 1')\n",
    "plt.ylabel('User feature 2')\n",
    "plt.show()"
   ]
  },
  {
   "cell_type": "code",
   "execution_count": 35,
   "metadata": {},
   "outputs": [
    {
     "data": {
      "image/png": "[encoded data removed]",
      "text/plain": [
       "<Figure size 432x288 with 1 Axes>"
      ]
     },
     "metadata": {
      "needs_background": "light"
     },
     "output_type": "display_data"
    }
   ],
   "source": [
    "# Plot histogram for hidden user feature\n",
    "plt.xlim(-0.5, 0.5)\n",
    "plt.xlabel(\"Hidden user feature\")\n",
    "plt.ylabel(\"Counts\")\n",
    "plt.hist(user_hidden, bins=bins)\n",
    "plt.show()"
   ]
  },
  {
   "cell_type": "code",
   "execution_count": 10,
   "metadata": {},
   "outputs": [
    {
     "name": "stdout",
     "output_type": "stream",
     "text": [
      "1000000\n",
      "2000000\n",
      "3000000\n",
      "4000000\n",
      "5000000\n",
      "6000000\n",
      "7000000\n",
      "8000000\n",
      "9000000\n",
      "10000000\n"
     ]
    }
   ],
   "source": [
    "# Bin campaign features\n",
    "bins = [round(i/100 - 1, 2) for i in range(201)]\n",
    "grid_pts = list(product(bins, bins))\n",
    "grid_campaign = {}\n",
    "for pt in grid_pts:\n",
    "    grid_campaign[pt] = 0\n",
    "\n",
    "for n in range(num_samples):\n",
    "    if (n + 1) % 1000000 == 0:\n",
    "        print (n + 1)\n",
    "    pt = [round(np.ceil(campaign_feat1[n]*100)/100, 2), round(np.ceil(campaign_feat2[n]*100)/100, 2)]\n",
    "    # if campaign features are < -1 or > 1, bin them with -1 or 1 (a few outliers, not visible in graph)\n",
    "    if pt[0] < -1:\n",
    "        pt[0] = -1\n",
    "    if pt[1] < -1:\n",
    "        pt[1] = -1\n",
    "    if pt[0] > 1:\n",
    "        pt[0] = 1\n",
    "    if pt[1] > 1: \n",
    "        pt[1] = 1\n",
    "    pt = tuple(pt)\n",
    "    grid_campaign[pt] += 1"
   ]
  },
  {
   "cell_type": "code",
   "execution_count": 22,
   "metadata": {},
   "outputs": [
    {
     "name": "stdout",
     "output_type": "stream",
     "text": [
      "Number of samples with each combination of campaign features\n"
     ]
    },
    {
     "data": {
      "image/png": "[encoded data removed]",
      "text/plain": [
       "<Figure size 432x288 with 2 Axes>"
      ]
     },
     "metadata": {
      "needs_background": "light"
     },
     "output_type": "display_data"
    }
   ],
   "source": [
    "# Plot campaign features\n",
    "matr_campaign = np.zeros((201, 201))\n",
    "for i in range(201):\n",
    "    for j in range(201):\n",
    "        matr_campaign[i][j] = grid_campaign[(bins[i], bins[j])]\n",
    "\n",
    "print('Number of samples with each combination of campaign features')\n",
    "plt.imshow(matr_campaign, cmap = 'hot', norm=colors.PowerNorm(gamma=0.5), extent=[-1,1,-1,1])\n",
    "plt.colorbar()\n",
    "plt.xlabel('Campaign feature 1')\n",
    "plt.ylabel('Campaign feature 2')\n",
    "plt.show()"
   ]
  },
  {
   "cell_type": "code",
   "execution_count": 38,
   "metadata": {},
   "outputs": [
    {
     "data": {
      "image/png": "[encoded data removed]",
      "text/plain": [
       "<Figure size 432x288 with 1 Axes>"
      ]
     },
     "metadata": {
      "needs_background": "light"
     },
     "output_type": "display_data"
    }
   ],
   "source": [
    "# Plot histogram for hidden campaign feature\n",
    "plt.xlim(-0.3, 0.3)\n",
    "plt.xlabel(\"Hidden campaign feature\")\n",
    "plt.ylabel(\"Counts\")\n",
    "plt.hist(campaign_hidden, bins=bins)\n",
    "plt.show()"
   ]
  },
  {
   "cell_type": "code",
   "execution_count": 42,
   "metadata": {
    "scrolled": true
   },
   "outputs": [
    {
     "data": {
      "image/png": "[encoded data removed]",
      "text/plain": [
       "<Figure size 432x288 with 1 Axes>"
      ]
     },
     "metadata": {
      "needs_background": "light"
     },
     "output_type": "display_data"
    }
   ],
   "source": [
    "# print numbers of samples for all optimal actions\n",
    "opts = np.zeros(10).astype(int)\n",
    "for n in range(num_samples):\n",
    "    opts[optimal[n]-1] += 1\n",
    "\n",
    "a = [i+1 for i in range(num_actions)]\n",
    "s = [opts[i] for i in range(num_actions)]\n",
    "#print (\"{:>12s}{:>12s}\".format(\"Action\", \"# Samples\"))\n",
    "#for n in range(num_actions):\n",
    "#    print (\"{:12d}{:12d}\".format(n+1, opts[n]))\n",
    "\n",
    "plt.xlabel(\"Action\")\n",
    "plt.ylabel(\"Times action is optimal\")\n",
    "plt.bar(a, s)\n",
    "plt.show()"
   ]
  },
  {
   "cell_type": "code",
   "execution_count": 26,
   "metadata": {},
   "outputs": [
    {
     "data": {
      "text/html": [
       "<div>\n",
       "<style scoped>\n",
       "    .dataframe tbody tr th:only-of-type {\n",
       "        vertical-align: middle;\n",
       "    }\n",
       "\n",
       "    .dataframe tbody tr th {\n",
       "        vertical-align: top;\n",
       "    }\n",
       "\n",
       "    .dataframe thead th {\n",
       "        text-align: right;\n",
       "    }\n",
       "</style>\n",
       "<table border=\"1\" class=\"dataframe\">\n",
       "  <thead>\n",
       "    <tr style=\"text-align: right;\">\n",
       "      <th></th>\n",
       "      <th>user_id</th>\n",
       "      <th>user_feature_1</th>\n",
       "      <th>user_feature_2</th>\n",
       "      <th>user_feature_hidden</th>\n",
       "      <th>campaign_id</th>\n",
       "      <th>campaign_feature_1</th>\n",
       "      <th>campaign_feature_2</th>\n",
       "      <th>campaign_feature_hidden</th>\n",
       "      <th>reward</th>\n",
       "      <th>optimal_action</th>\n",
       "    </tr>\n",
       "  </thead>\n",
       "  <tbody>\n",
       "    <tr>\n",
       "      <th>0</th>\n",
       "      <td>897</td>\n",
       "      <td>-0.274970</td>\n",
       "      <td>0.202852</td>\n",
       "      <td>-0.103931</td>\n",
       "      <td>1</td>\n",
       "      <td>-0.231624</td>\n",
       "      <td>0.462141</td>\n",
       "      <td>0.148505</td>\n",
       "      <td>-0.264811</td>\n",
       "      <td>3</td>\n",
       "    </tr>\n",
       "    <tr>\n",
       "      <th>1</th>\n",
       "      <td>35</td>\n",
       "      <td>0.489462</td>\n",
       "      <td>-0.040341</td>\n",
       "      <td>0.066766</td>\n",
       "      <td>1</td>\n",
       "      <td>-0.317610</td>\n",
       "      <td>0.440337</td>\n",
       "      <td>0.149169</td>\n",
       "      <td>0.198915</td>\n",
       "      <td>7</td>\n",
       "    </tr>\n",
       "    <tr>\n",
       "      <th>2</th>\n",
       "      <td>689</td>\n",
       "      <td>-0.458089</td>\n",
       "      <td>0.120899</td>\n",
       "      <td>0.060884</td>\n",
       "      <td>1</td>\n",
       "      <td>-0.234123</td>\n",
       "      <td>0.429651</td>\n",
       "      <td>0.146294</td>\n",
       "      <td>-0.241988</td>\n",
       "      <td>3</td>\n",
       "    </tr>\n",
       "    <tr>\n",
       "      <th>3</th>\n",
       "      <td>350</td>\n",
       "      <td>-0.390775</td>\n",
       "      <td>0.041562</td>\n",
       "      <td>-0.096576</td>\n",
       "      <td>1</td>\n",
       "      <td>-0.233778</td>\n",
       "      <td>0.420403</td>\n",
       "      <td>0.149173</td>\n",
       "      <td>-0.153331</td>\n",
       "      <td>4</td>\n",
       "    </tr>\n",
       "    <tr>\n",
       "      <th>4</th>\n",
       "      <td>854</td>\n",
       "      <td>-0.000106</td>\n",
       "      <td>0.425490</td>\n",
       "      <td>0.181184</td>\n",
       "      <td>1</td>\n",
       "      <td>-0.205593</td>\n",
       "      <td>0.453234</td>\n",
       "      <td>0.149373</td>\n",
       "      <td>-0.367993</td>\n",
       "      <td>2</td>\n",
       "    </tr>\n",
       "  </tbody>\n",
       "</table>\n",
       "</div>"
      ],
      "text/plain": [
       "   user_id  user_feature_1  user_feature_2  user_feature_hidden  campaign_id  \\\n",
       "0      897       -0.274970        0.202852            -0.103931            1   \n",
       "1       35        0.489462       -0.040341             0.066766            1   \n",
       "2      689       -0.458089        0.120899             0.060884            1   \n",
       "3      350       -0.390775        0.041562            -0.096576            1   \n",
       "4      854       -0.000106        0.425490             0.181184            1   \n",
       "\n",
       "   campaign_feature_1  campaign_feature_2  campaign_feature_hidden    reward  \\\n",
       "0           -0.231624            0.462141                 0.148505 -0.264811   \n",
       "1           -0.317610            0.440337                 0.149169  0.198915   \n",
       "2           -0.234123            0.429651                 0.146294 -0.241988   \n",
       "3           -0.233778            0.420403                 0.149173 -0.153331   \n",
       "4           -0.205593            0.453234                 0.149373 -0.367993   \n",
       "\n",
       "   optimal_action  \n",
       "0               3  \n",
       "1               7  \n",
       "2               3  \n",
       "3               4  \n",
       "4               2  "
      ]
     },
     "execution_count": 26,
     "metadata": {},
     "output_type": "execute_result"
    }
   ],
   "source": [
    "# write all features to dataframe\n",
    "df = pd.DataFrame()\n",
    "df['user_id'] = user_id\n",
    "df['user_feature_1'] = user_feat1\n",
    "df['user_feature_2'] = user_feat2\n",
    "df['user_feature_hidden'] = user_hidden\n",
    "df['campaign_id'] = campaign_id\n",
    "df['campaign_feature_1'] = campaign_feat1\n",
    "df['campaign_feature_2'] = campaign_feat2\n",
    "df['campaign_feature_hidden'] = campaign_hidden\n",
    "df['reward'] = reward\n",
    "df['optimal_action'] = optimal\n",
    "df.head()"
   ]
  },
  {
   "cell_type": "code",
   "execution_count": 27,
   "metadata": {},
   "outputs": [],
   "source": [
    "# write dataframe to file\n",
    "df.to_csv('/home/aleksey/Downloads/generated4.csv', index=False)"
   ]
  },
  {
   "cell_type": "code",
   "execution_count": 29,
   "metadata": {},
   "outputs": [
    {
     "name": "stdout",
     "output_type": "stream",
     "text": [
      "Distribution of optimal actions among users\n",
      "      Action    Mean (% total)   Stdev (% total)\n",
      "           1            4.0567            1.7278\n",
      "           2            9.7429            2.3406\n",
      "           3           11.8132            1.7940\n",
      "           4           12.2696            1.9328\n",
      "           5           12.2847            1.8799\n",
      "           6           12.1714            1.8959\n",
      "           7           12.1474            1.9056\n",
      "           8           11.7570            1.7500\n",
      "           9            9.7208            2.4561\n",
      "          10            4.0361            1.8019\n"
     ]
    }
   ],
   "source": [
    "# Find the mean and standard deviation of the numbers of optimal actions over users\n",
    "all_actions = []\n",
    "for user in range(num_users):\n",
    "    df_subset = df.loc[df['user_id'] == user+1]\n",
    "    actions = df_subset.groupby('optimal_action').count()['user_id']\n",
    "    if len(actions) != num_actions:\n",
    "        actions2 = []\n",
    "        keys = list(actions.keys())\n",
    "        for action in range(num_actions):\n",
    "            if action in keys:\n",
    "                actions2.append(actions[action])\n",
    "            else:\n",
    "                actions2.append(0)\n",
    "        actions = np.asarray(actions2)\n",
    "    else:\n",
    "        actions = actions.to_numpy()\n",
    "    all_actions.append(100*actions/actions.sum())\n",
    "all_actions = np.stack(all_actions, axis=0)\n",
    "print (\"Distribution of optimal actions among users\")\n",
    "print (\"{:>12s}{:>18s}{:>18s}\".format(\"Action\", \"Mean (% total)\", \"Stdev (% total)\"))\n",
    "means = all_actions.mean(axis=0)\n",
    "stdevs = all_actions.std(axis=0)\n",
    "for n in range(means.shape[0]):\n",
    "    print(\"{:>12d}{:>18.4f}{:>18.4f}\".format(n+1, means[n], stdevs[n]))"
   ]
  },
  {
   "cell_type": "code",
   "execution_count": 30,
   "metadata": {},
   "outputs": [
    {
     "name": "stdout",
     "output_type": "stream",
     "text": [
      "Distribution of optimal actions among campaigns\n",
      "      Action    Mean (% total)   Stdev (% total)\n",
      "           1            4.0912            1.4276\n",
      "           2            9.7894            1.8876\n",
      "           3           11.8266            1.4253\n",
      "           4           12.2005            1.4549\n",
      "           5           12.2614            2.2261\n",
      "           6           12.2014            2.1947\n",
      "           7           12.1514            1.5408\n",
      "           8           11.7604            1.5302\n",
      "           9            9.6913            1.8123\n",
      "          10            4.0265            1.3604\n"
     ]
    }
   ],
   "source": [
    "# Find the mean and standard deviation of the numbers of optimal actions over campaigns\n",
    "all_actions = []\n",
    "for campaign in range(num_campaigns):\n",
    "    df_subset = df.loc[df['campaign_id'] == campaign+1]\n",
    "    actions = df_subset.groupby('optimal_action').count()['campaign_id']\n",
    "    if len(actions) != num_actions:\n",
    "        actions2 = []\n",
    "        keys = list(actions.keys())\n",
    "        for action in range(num_actions):\n",
    "            if action in keys:\n",
    "                actions2.append(actions[action])\n",
    "            else:\n",
    "                actions2.append(0)\n",
    "        actions = np.asarray(actions2)\n",
    "    else:\n",
    "        actions = actions.to_numpy()\n",
    "    all_actions.append(100*actions/actions.sum())\n",
    "all_actions = np.stack(all_actions, axis=0)\n",
    "print (\"Distribution of optimal actions among campaigns\")\n",
    "print (\"{:>12s}{:>18s}{:>18s}\".format(\"Action\", \"Mean (% total)\", \"Stdev (% total)\"))\n",
    "means = all_actions.mean(axis=0)\n",
    "stdevs = all_actions.std(axis=0)\n",
    "for n in range(means.shape[0]):\n",
    "    print(\"{:>12d}{:>18.4f}{:>18.4f}\".format(n+1, means[n], stdevs[n]))"
   ]
  },
  {
   "cell_type": "code",
   "execution_count": 45,
   "metadata": {},
   "outputs": [
    {
     "name": "stdout",
     "output_type": "stream",
     "text": [
      "User seen maximum number of times: 605 , seen 20044 times\n",
      "User seen minimum number of times: 817 , seen 17 times\n"
     ]
    }
   ],
   "source": [
    "# Users seen maximum and minimum number of times\n",
    "num_times_seen = []\n",
    "for user in range(num_users):\n",
    "    df_subset = df.loc[df['user_id'] == user+1]\n",
    "    num_times_seen.append(df_subset.shape[0])\n",
    "num_times_seen = np.asarray(num_times_seen)\n",
    "print (\"User seen maximum number of times:\", num_times_seen.argmax(), \", seen\", num_times_seen.max(), \"times\")\n",
    "print (\"User seen minimum number of times:\", num_times_seen.argmin(), \", seen\", num_times_seen.min(), \"times\")"
   ]
  },
  {
   "cell_type": "code",
   "execution_count": null,
   "metadata": {},
   "outputs": [],
   "source": []
  }
 ],
 "metadata": {
  "kernelspec": {
   "display_name": "Python 3",
   "language": "python",
   "name": "python3"
  },
  "language_info": {
   "codemirror_mode": {
    "name": "ipython",
    "version": 3
   },
   "file_extension": ".py",
   "mimetype": "text/x-python",
   "name": "python",
   "nbconvert_exporter": "python",
   "pygments_lexer": "ipython3",
   "version": "3.8.5"
  }
 },
 "nbformat": 4,
 "nbformat_minor": 4
}
