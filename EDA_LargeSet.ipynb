{
  "nbformat": 4,
  "nbformat_minor": 0,
  "metadata": {
    "colab": {
      "name": "EDA_LargeSet.ipynb",
      "provenance": [],
      "collapsed_sections": [],
      "toc_visible": true,
      "authorship_tag": "ABX9TyPWEh3snWUbNLFR+Ydxrcy3",
      "include_colab_link": true
    },
    "kernelspec": {
      "name": "python3",
      "display_name": "Python 3"
    }
  },
  "cells": [
    {
      "cell_type": "markdown",
      "metadata": {
        "id": "view-in-github",
        "colab_type": "text"
      },
      "source": [
        "<a href=\"https://colab.research.google.com/github/fellowship/deep-and-wide-bandit/blob/dev/EDA_LargeSet.ipynb\" target=\"_parent\"><img src=\"https://colab.research.google.com/assets/colab-badge.svg\" alt=\"Open In Colab\"/></a>"
      ]
    },
    {
      "cell_type": "markdown",
      "metadata": {
        "id": "lDRWe4op2uqz"
      },
      "source": [
        "# Mount Drive"
      ]
    },
    {
      "cell_type": "code",
      "metadata": {
        "colab": {
          "base_uri": "https://localhost:8080/"
        },
        "id": "o0tLBn4H2p3B",
        "outputId": "d54f3830-8579-4bb0-99e4-4214851a6e64"
      },
      "source": [
        "from google.colab import drive\n",
        "drive.mount(\"/content/GDrive\")"
      ],
      "execution_count": null,
      "outputs": [
        {
          "output_type": "stream",
          "text": [
            "Drive already mounted at /content/GDrive; to attempt to forcibly remount, call drive.mount(\"/content/GDrive\", force_remount=True).\n"
          ],
          "name": "stdout"
        }
      ]
    },
    {
      "cell_type": "code",
      "metadata": {
        "id": "pOSPcr5x3Tv7"
      },
      "source": [
        "import os\n",
        "import pandas as pd\n",
        "import numpy as np\n",
        "from zipfile import ZipFile\n",
        "import re\n",
        "import json\n",
        "import pickle as pkl\n",
        "\n",
        "#Formatting .describe() calls s.t. floats are displayed in non-scientific notation\n",
        "pd.set_option('display.float_format', lambda x: '%.5f' % x)"
      ],
      "execution_count": null,
      "outputs": []
    },
    {
      "cell_type": "code",
      "metadata": {
        "id": "sAdvV6VL6JHI"
      },
      "source": [
        "os.chdir(os.getcwd())\n",
        "zip_path_l = [\"/content/GDrive/MyDrive/Bandit_Project/July_Dec_2019/July_Dec_2019.zip\",\n",
        "               \"/content/GDrive/MyDrive/Bandit_Project/Jan_June_2020/Jan_June_2020.zip\", \n",
        "               \"/content/GDrive/MyDrive/Bandit_Project/Jul_Sep_2020/Jul_Sep_2020.zip\"]\n",
        "\n",
        "file_name_l = ['/content/GDrive/MyDrive/Bandit_Project/July_Dec_2019/sends_july_dec_2019_2000',\n",
        "               '/content/GDrive/MyDrive/Bandit_Project/Jan_June_2020/sends_jan_june_2020_2000',\n",
        "               '/content/GDrive/MyDrive/Bandit_Project/Jul_Sep_2020/sends_july_sept_2020_2000']\n",
        "\n",
        "year_l = [\"2019\", \"2020\", \"2020\"] #For saving\n",
        "\n",
        "folder_name_l = [os.path.split(zip_path)[0] for zip_path in zip_path_l]\n",
        "\n",
        "for (zip_path, file_name, folder_name) in zip(zip_path_l, file_name_l, folder_name_l):\n",
        "  \n",
        "  if not(os.path.exists(file_name)):\n",
        "    \n",
        "    with ZipFile(zip_path, 'r') as zip_obj:\n",
        "\n",
        "      zip_obj.extractall(folder_name)"
      ],
      "execution_count": null,
      "outputs": []
    },
    {
      "cell_type": "code",
      "metadata": {
        "id": "wV7jPfpKBaR8"
      },
      "source": [
        "orig_col_names = ['riid','send_dt','launch_id','sub_sourcedev','opened','unsub',\n",
        "             'rev_3dv2','aq_dt','aq_mo','aq_dow','aq_period','sends_since_last_open',\n",
        "             'wk1_opens','wk4_opens','mo3_opens','mo6_opens','yr1_opens',\n",
        "             'wk1_clicks','wk4_clicks','mo3_clicks','mo6_clicks',\n",
        "             'rev_dec','rev_raw','snds_dec','snds_opens_dec','wk1_vis',\n",
        "             'wk4_vis','mo3_vis','mo6_vis','wk1_pv','wk4_pv','mo3_pv','mo6_pv',\n",
        "             'wk1_secs','wk4_secs','mo3_secs','mo6_secs','prev_optouts',\n",
        "             'last_order','last_click','last_cart','last_visit','last_ded_open',\n",
        "             'sent_time','offer_signature_id','dynamic_content_signature_id',\n",
        "             'message_size','open_cnt','first_open_time','last_open_time',\n",
        "             'hrs_to_first_open','hrs_to_last_open','click_cnt','first_click_time',\n",
        "             'last_click_time','offer_category','hrs_to_first_click','hrs_to_last_click',\n",
        "             'opt_out_cnt','first_opt_out_time','last_opt_out_time','opt_out_source',\n",
        "             'opt_out_reason','hrs_to_first_opt_out','hrs_to_last_opt_out','campaign_id',\n",
        "             'subject','marketing_strategy','campaign_type']"
      ],
      "execution_count": null,
      "outputs": []
    },
    {
      "cell_type": "markdown",
      "metadata": {
        "id": "cYK7GAOeHNK1"
      },
      "source": [
        "# Finalizing data preprocessing steps\n",
        "\n",
        "**QUESTION:** How do we split the train-valid-test set?\n",
        "\n",
        "1.   For each of the provided files, we employ a 80-20 split.\n",
        "2.   For the full set of files, we employ a 80-20 split. i.e., the full first 2 files and a portion of the first half of the last file is used for training and remaining is used for validation.\n",
        "\n"
      ]
    },
    {
      "cell_type": "code",
      "metadata": {
        "id": "pmEQ4PDI-IIa"
      },
      "source": [
        "#Main Control variable: Default behaviour - Drop if True, Process and Drop if False\n",
        "control_variable = {'marketing': True, 'subject':True, 'campaign_type':False,\n",
        "                    'aq': False,'site': True,'last':True, 'promo_ids': True,\n",
        "                    'email_cnts':True, 'email_times':True, 'opt_out':True, \n",
        "                    'offer_cat':True}\n",
        "\n",
        "#Control variable: Whether processed dataset has to be exported OR not\n",
        "#If True, needs to be saved. Otherwise, ignored.\n",
        "save_control_variable = {\n",
        "    'full': True,\n",
        "    'weekly': [True, True, True],\n",
        "    'rolling_stats': True,\n",
        "}\n",
        "\n",
        "#Control variable: Whether files need to be overwritten OR appended\n",
        "#If True, needs to be overwritten. Otherwise, appended.\n",
        "#Weekly —> 3-membered list, where each element corresponds to 1 of 3 Marko's files.\n",
        "overwrite_control_variable = {\n",
        "    'full': True,\n",
        "    'weekly': [True, True, True],\n",
        "}\n",
        "\n",
        "#Appended gzipped filename\n",
        "myfile = \"/content/GDrive/MyDrive/Bandit_Project/dataset_without_time_ohe.csv.gz\"\n",
        "weekly_files_base_folder = \"/content/GDrive/MyDrive/Bandit_Project/\""
      ],
      "execution_count": null,
      "outputs": []
    },
    {
      "cell_type": "code",
      "metadata": {
        "id": "oxt39O1521WG"
      },
      "source": [
        "def rew(row):\n",
        "    sl = -1 * (1+max(row['sends_since_last_open'], 0))\n",
        "    #op = 5  * max(row['opened'], 0)\n",
        "    if row['rev_3dv2'] > 0:\n",
        "        cl = 10\n",
        "    else:\n",
        "        cl = 0\n",
        "    un = -50 * max(row['unsub'], 0)\n",
        "    fu = -50 * row['frequency_score'] * max(row['unsub'],0)\n",
        "    return sl+cl+un+fu"
      ],
      "execution_count": null,
      "outputs": []
    },
    {
      "cell_type": "code",
      "metadata": {
        "id": "BYlnrcDDIB-S"
      },
      "source": [
        "#Create a dictionary that updates values for min, max, mean & std for scaling later\n",
        "moving_col_names = [\"rev_3dv2\", \"sends_since_last_open\", \"message_size\", \"retention_score\", \"recency_score\", \"frequency_score\",\n",
        "                    \"sent_week\", \"sent_dayofweek\", \"sent_hr\", \"discount\", \"days_subscr\"] \n",
        "\n",
        "moving_dict = {name: {} for name in moving_col_names}\n",
        "\n",
        "#Have a variable that also keeps track of the number of elements of the previous chunk\n",
        "moving_dict[\"previous_n_so_far\"] = 0"
      ],
      "execution_count": null,
      "outputs": []
    },
    {
      "cell_type": "code",
      "metadata": {
        "id": "jd6t6SlluIz5",
        "colab": {
          "base_uri": "https://localhost:8080/"
        },
        "outputId": "ad4c5b1c-b8ca-4030-f78a-3279a3bb4a1b"
      },
      "source": [
        "for i in range(1, len(file_name_l)):\n",
        "\n",
        "  #For printing status updates\n",
        "  cnt = 0\n",
        "\n",
        "  #If rolling stats json is present from previous run, load it\n",
        "  pkl_filename_rolling_stats = \"/content/GDrive/MyDrive/Bandit_Project/rolling_statistics.pkl\"\n",
        "  try:\n",
        "    with open(pkl_filename_rolling_stats, 'rb') as file:\n",
        "      moving_dict = pkl.load(file)\n",
        "  except OSError:\n",
        "    pass    \n",
        "\n",
        "  for df_sample in pd.read_csv(file_name_l[i], sep='\\t', header=None, names=orig_col_names, chunksize=1e6):\n",
        "    \n",
        "    print(f\"[INFO] Processing Chunk #{cnt+1} of Dataset #{i+1}\")\n",
        "\n",
        "    \"\"\"\n",
        "    Drop less-frequent AND/OR redundant columns\n",
        "    all team members voted to eliminate\n",
        "    \"\"\"\n",
        "\n",
        "    #Columns that are finalised to be dropped\n",
        "    col_drop_names = [\"send_dt\", \"sub_sourcedev\", \"rev_dec\", \"rev_raw\", \"snds_dec\", \"snds_opens_dec\", \n",
        "                \"dynamic_content_signature_id\"]\n",
        "\n",
        "    df_sample.drop(columns=col_drop_names, inplace=True)\n",
        "    del col_drop_names\n",
        "\n",
        "    \"\"\"\n",
        "    Compute the composite recency, frequency (dropped) & retention scores\n",
        "    Dropping the constituent base columns\n",
        "\n",
        "    NOTE \n",
        "    ----\n",
        "    1) Both recency and frequency are strongly correlated - Remove recency score\n",
        "    3) sends_since_last_open used for retention score AS WELL AS reward\n",
        "    \"\"\"\n",
        "\n",
        "    #Retention Score\n",
        "    df_sample['retention_score'] = df_sample.sends_since_last_open.apply(lambda x: 28/max(1,x)) \n",
        "\n",
        "    #Recency Score\n",
        "    df_sample[\"recency_score\"] = 16/7*(df_sample['wk1_opens'] + df_sample['wk1_clicks']) \n",
        "    + 8/28*(df_sample['wk4_opens'] + df_sample['wk4_clicks']) \n",
        "    + 4/64*(df_sample['mo3_opens'] + df_sample['mo3_clicks']) \n",
        "    + 2/92*(df_sample['mo6_opens'] + df_sample['mo6_clicks']) \n",
        "    + 1/184*df_sample['yr1_opens']\n",
        "\n",
        "    #Frequency Score\n",
        "    df_sample[\"frequency_score\"] = df_sample['wk1_opens'] + df_sample['wk4_opens'] + \\\n",
        "              df_sample['mo3_opens'] + df_sample['mo6_opens']\n",
        "\n",
        "    #Drop the base columns\n",
        "    col_drop_scores = [\"wk1_opens\", \"wk4_opens\", \"mo3_opens\",\"mo6_opens\",\"yr1_opens\",\n",
        "                      \"wk1_clicks\", \"wk4_clicks\", \"mo3_clicks\", \"mo6_clicks\"]\n",
        "\n",
        "    df_sample.drop(columns=col_drop_scores, inplace=True)\n",
        "    del col_drop_scores\n",
        "\n",
        "    \"\"\"\n",
        "    Convert sent_time column to datetime object\n",
        "    Extract useful features like \n",
        "    \"\"\"\n",
        "    datetimes = pd.to_datetime(df_sample.sent_time)\n",
        "    df_sample.drop(columns=[\"sent_time\"], inplace=True)\n",
        "    df_sample[\"sent_week\"] = datetimes.dt.isocalendar().week\n",
        "    df_sample[\"sent_dayofweek\"] = datetimes.dt.dayofweek\n",
        "    df_sample[\"sent_hr\"] = datetimes.dt.hour\n",
        "    #df_sample[\"sent_hm_numeric\"] = datetimes.dt.hour + (datetimes.dt.minute/60)\n",
        "    #df_sample[\"sent_week\"] = datetimes.dt.day//7\n",
        "    #df_sample[\"sent_month\"] = datetimes.dt.month\n",
        "\n",
        "    \"\"\"\n",
        "    Column Name. - marketing_strategy\n",
        "\n",
        "    NOTE\n",
        "    ----\n",
        "    1) AdHoc (1) or Program (0)? Might be useful to keep track of this\n",
        "    2) Whether Promo or not is useful to check perhaps\n",
        "    3) Whether Sale or not is useful to check perhaps\n",
        "    \"\"\"\n",
        "\n",
        "    if control_variable[\"marketing\"]:\n",
        "      #Create a new column for AdHoc OR Program: Seems to be the type of email\n",
        "      #df_sample[\"email_type\"] = df_sample.marketing_strategy.str.contains(\"_Adhoc_\").fillna(0).astype(int) #1 for AdHoc, 0 for Program\n",
        "\n",
        "      #Create columns for Promotional and Sale: Other values do not seem useful - Aleksey to get back about correlations\n",
        "      #df_sample[\"promo\"] = df_sample.marketing_strategy.str.contains(\"Promotional\").fillna(0).astype(int)\n",
        "      #df_sample[\"sale\"] = df_sample.marketing_strategy.str.contains(\"Sale\").fillna(0).astype(int)\n",
        "      \n",
        "      #Drop the column\n",
        "      df_sample.drop(columns=[\"marketing_strategy\"], inplace=True)\n",
        "\n",
        "    \"\"\"\n",
        "    Column - subject\n",
        "\n",
        "    1) Use BERT to convert this into a sentence vector?\n",
        "    2) Check for specific words of interest in the subject?\n",
        "    3) Other handcrafted features like LogReg or NB?\n",
        "    \"\"\"\n",
        "    if control_variable[\"subject\"]:\n",
        "\n",
        "      #Check for Aleksey's words\n",
        "      #feature_words = ['these', 'what', 'that', 'your', 'have', 'holidays', 'flex', 'know', 'fits', '&', 'styles', 'holiday', 'may', 'wear', 'best', 'with', 'gifts']\n",
        "      #col_names = [\"word_\" + word for word in feature_words]\n",
        "      #for (feature_word, col_name) in zip(feature_words, col_names):\n",
        "      #  df_sample[col_name] = df_sample.subject.str.contains(feature_word, case=False)\n",
        "\n",
        "      #Marko's features: 'sl_contains_price', 'is_discount_mentioned'\n",
        "      df_sample[\"sl_contains_price\"] = df_sample.subject.str.contains(\"$\").astype(int)\n",
        "      \n",
        "      ##'is_discount_mentioned' — ' off ' or 'up to'\n",
        "      is_discount_list = ['off', 'up to']\n",
        "      is_discount_pat = \"|\".join(is_discount_list)      \n",
        "      df_sample[\"is_discount_mentioned\"] = df_sample.subject.str.contains(is_discount_pat).astype(int)\n",
        "      df_sample.drop(columns=[\"subject\"], inplace=True)\n",
        "\n",
        "    \"\"\"\n",
        "    Column Name - campaign_type\n",
        "\n",
        "    1) Can get the old campaign_type categorical columns from this\n",
        "    2) Can eliminate EU entries.\n",
        "    3) Discounts can be extracted.\n",
        "    4) Sale and Promotional can be extracted.\n",
        "    \"\"\"\n",
        "\n",
        "    if control_variable[\"campaign_type\"]:\n",
        "      \n",
        "      #Drop the campaign_type column \n",
        "      df_sample.drop(columns=[\"campaign_type\"], inplace=True)\n",
        "\n",
        "    else:\n",
        "      #Do stops and then drop the column\n",
        "      #Eliminate non-US rows\n",
        "      US_mask = df_sample.campaign_type.str.contains('_US_')\n",
        "      df_sample = df_sample[US_mask]\n",
        "      \n",
        "      #Convert a single column into one-hot encoded campaign_type columns\n",
        "      df_sample[\"campaign_Brand\"] = df_sample.campaign_type.str.contains(\"Brand\").astype(int)\n",
        "      df_sample[\"campaign_Collection\"] = df_sample.campaign_type.str.contains(\"Collection\").astype(int)\n",
        "      df_sample[\"campaign_Core\"] = df_sample.campaign_type.str.contains(\"Core\").astype(int)\n",
        "      df_sample[\"campaign_Dedicated\"] = df_sample.campaign_type.str.contains(\"Dedicated\").astype(int)\n",
        "      df_sample[\"campaign_InnovationSpotlight\"] = df_sample.campaign_type.str.contains(\"InnovationSpotlight\").astype(int)\n",
        "      df_sample[\"campaign_NewArrivals\"] = df_sample.campaign_type.str.contains(\"NewArrivals\").astype(int)\n",
        "      df_sample[\"campaign_ProductSpotlight\"] = df_sample.campaign_type.str.contains(\"ProductSpotlight\").astype(int)\n",
        "      df_sample[\"campaign_Replen\"] = df_sample.campaign_type.str.contains(\"Replen\").astype(int)\n",
        "      df_sample[\"campaign_Tops\"] = df_sample.campaign_type.str.contains(\"Tops\").astype(int)\n",
        "      df_sample[\"campaign_Trend\"] = df_sample.campaign_type.str.contains(\"Trend\").astype(int)\n",
        "      \n",
        "      #Sometimes, there are multiple columns that fire for the same row —> -1 value for Other\n",
        "      campaign_type_col_names = [\"campaign_Collection\", \"campaign_Core\", \"campaign_Dedicated\", \"campaign_InnovationSpotlight\",\n",
        "                                \"campaign_NewArrivals\", \"campaign_ProductSpotlight\", \"campaign_Replen\", \"campaign_Tops\",\n",
        "                                \"campaign_Brand\", \"campaign_Trend\"]  \n",
        "      df_sample[\"campaign_Other\"] = 1-df_sample[campaign_type_col_names].any(axis=1).astype(int)\n",
        "\n",
        "      #Create discount columns\n",
        "      df_sample[\"discount\"] = 0\n",
        "      \n",
        "      #Display how the discounts are presented\n",
        "      discount_pattern = re.compile(r\"_[1-9][0-9]off_\", flags = re.I)\n",
        "      discount_mask = df_sample[\"campaign_type\"].str.contains(discount_pattern, regex=True)\n",
        "      df_sample.loc[discount_mask, \"discount\"] = (df_sample[discount_mask])[\"campaign_type\"].str.findall(r\"(?<=_)\\d{2}\").str.get(0).astype(int)\n",
        "\n",
        "      #Check whether the promot \n",
        "      df_sample[\"promo\"] = df_sample.campaign_type.str.contains(\"Promotional\", case=False).fillna(0).astype(int)\n",
        "      df_sample[\"sale\"] = df_sample.campaign_type.str.contains(\"Sale\", case=False).fillna(0).astype(int)\n",
        "\n",
        "      #Check for Marko's columns: [1]'is_one_for_free', [2]'is_exclusive', [3]'free_shipping', [4] 'has_urgency'\n",
        "      df_sample['is_one_for_free'] = df_sample.campaign_type.str.contains(\" for \", case=False).astype(int)\n",
        "      df_sample['free_shipping'] = df_sample.campaign_type.str.contains(\"free shipping\", case=False).astype(int)\n",
        "      \n",
        "      ##'is_exclusive': 'vip' or 'premium' or 'exclusive' or 'earlyaccess'\n",
        "      is_exclusive_list = ['vip', 'premium', 'exclusive', 'earlyaccess']\n",
        "      is_exclusive_pat = '|'.join(is_exclusive_list)\n",
        "      df_sample[\"is_exclusive\"] = df_sample.campaign_type.str.contains(is_exclusive_pat, case=False).astype(int)\n",
        "\n",
        "      ##'has_urgency': 'soon' or 'starts' or 'ends' or 'lastmin' or 'lastday' or 'lastchance' or 'final' or 'tonight'\n",
        "      has_urgency_list = ['soon', 'starts','ends','lastmin', 'lastday', 'lastchance', 'final', 'tonight']\n",
        "      has_urgency_pat = '|'.join(has_urgency_list)\n",
        "      df_sample[\"has_urgency\"] = df_sample.campaign_type.str.contains(has_urgency_pat, case=False).astype(int)\n",
        "\n",
        "      #Drop the campaign_type column \n",
        "      df_sample.drop(columns=[\"campaign_type\"], inplace=True)\n",
        "\n",
        "    if control_variable['offer_cat']:\n",
        "\n",
        "      \"\"\"\n",
        "      Offer_category Columns - \"offer_category\"\n",
        "\n",
        "      NOTE\n",
        "      ----\n",
        "      1) This contains additional info about whether it's promotion, sale, Tops etc.\n",
        "      that are somehow missed by the other columns. We can leverage this?\n",
        "\n",
        "      e.g. \"Mens_Pants...\", \"Mens_ShirtTops...\", \"Mens_BigAndTall...\", \"Mens_Shorts...\",\n",
        "      \"Mens_SweatersJackets...\", \"Mens_Accessories...\", \"Promotion\", \"Sale\", \"Brand\"\n",
        "\n",
        "      2) HORRIBLY BIASED (at least this column is) DATASET because (A) not even a single mention\n",
        "      of womens products along the lines of Mens_Shorts etc. and (B) very few entries\n",
        "      3) But at the end of the day - only 8.3% are filled. Hence, not using.\n",
        "      \"\"\"\n",
        "\n",
        "      #Drop this column as well\n",
        "      df_sample.drop(columns=[\"offer_category\"], inplace=True)\n",
        "\n",
        "    \"\"\"\n",
        "    Acquisiton Columns - \"aq_dt\", \"aq_mo\", \"aq_dow\", \"aq_period\"\n",
        "\n",
        "    NOTE\n",
        "    ----\n",
        "    1) Older customers who have not subscribed — exploit strategy should work better\n",
        "    2) aq_dt has negative numbers - Why?\n",
        "    \"\"\"\n",
        "    \n",
        "    if control_variable[\"aq\"]:\n",
        "    \n",
        "      col_drop_aq = [\"aq_dt\", \"aq_mo\", \"aq_dow\", \"aq_period\"]\n",
        "      df_sample.drop(columns=col_drop_aq, inplace=True)\n",
        "    \n",
        "    else:\n",
        "      \n",
        "      #One-hot encode Holiday and the Rest\n",
        "      df_sample.loc[:, [\"aq_period\"]] = df_sample.aq_period.str.contains(r\"^Holiday\", case=False)\n",
        "      \n",
        "      #Rename aq_dt column name to days_subscr\n",
        "      df_sample.rename(columns = {'aq_dt':'days_subscr'}, inplace = True)\n",
        "\n",
        "      #Drop aq_mo and aq_dow —> Currently not dropping aq_mo and aq_dow \n",
        "      #col_drop_aq = [\"aq_mo\", \"aq_dow\"]\n",
        "      #df_sample.drop(columns=col_drop_aq, inplace=True)\n",
        "      del datetimes\n",
        "      \n",
        "    \"\"\"\n",
        "    Website Data - \"wk1_vis\", \"wk4_vis\", \"mo3_vis\", \"mo6_vis\", \"wk1_pv\",\n",
        "    \"wk4_pv\", \"mo3_pv\", \"mo6_pv\", \"wk1_secs\", \"wk4_secs\", \"mo3_secs\", \"mo6_secs\"\n",
        "\n",
        "    NOTE\n",
        "    ----\n",
        "    1) Extremely sparse - mostly filled with 0s\n",
        "    2) Marko had said website and email integration has not taken place\n",
        "    3) Naturally, this integration will happen in the future. Let the future team take care of it then.\n",
        "    \"\"\"\n",
        "    \n",
        "    if control_variable[\"site\"]:\n",
        "      col_drop_site = [\"wk1_vis\", \"wk4_vis\", \"mo3_vis\", \"mo6_vis\", \"wk1_pv\",\n",
        "    \"wk4_pv\", \"mo3_pv\", \"mo6_pv\", \"wk1_secs\", \"wk4_secs\", \"mo3_secs\", \"mo6_secs\"]\n",
        "      df_sample.drop(columns=col_drop_site, inplace=True)\n",
        "\n",
        "    \"\"\"\n",
        "    The Last Time - \"last_order\", \"last_click\", \"last_cart\",\"last_visit\",\"last_ded_open\"\n",
        "\n",
        "    NOTE\n",
        "    ----\n",
        "    1) Moooostly NaN values currently\n",
        "    2) However, when it is not NaN - especially for last_order - it could be a really useful signal\n",
        "    \"\"\"\n",
        "    if control_variable[\"last\"]:\n",
        "      col_drop_last = [\"last_order\", \"last_click\", \"last_cart\",\"last_visit\",\"last_ded_open\"]\n",
        "      df_sample.drop(columns=col_drop_last, inplace=True)\n",
        "\n",
        "    \"\"\"\n",
        "    Promotion IDs - \"offer_signature_id\", \"launch_id\", \"campaign_id\"\n",
        "\n",
        "    NOTE\n",
        "    ----\n",
        "    1) A bunch of strings - might be useful for either cross-feature interactions or \n",
        "    campaign/promotion embeddings\n",
        "    2) I feel it is a nice-to-have thing, as opposed to a need-to-have-thing\n",
        "    3) Campaign ID is not being dropped\n",
        "    \"\"\"\n",
        "    if control_variable[\"promo_ids\"]:\n",
        "      col_drop_promo_ids = [\"offer_signature_id\", \"launch_id\"]\n",
        "      df_sample.drop(columns=col_drop_promo_ids, inplace=True)\n",
        "\n",
        "    \"\"\"\n",
        "    Detailed user-email interaction COUNTS - \"open_cnt\", \"click_cnt\" \n",
        "    \"\"\n",
        "    NOTE\n",
        "    ----\n",
        "    1) We already have the \"opened\" signal - can it be boosted further with open_cnt and click_cnt?\n",
        "    2) But only 28.2% and 8.3% of these counts are available\n",
        "    \"\"\"\n",
        "    if control_variable[\"email_cnts\"]:\n",
        "      col_drop_email_cnts = [\"open_cnt\", \"click_cnt\"]\n",
        "      df_sample.drop(columns=col_drop_email_cnts, inplace=True)\n",
        "\n",
        "    \"\"\"\n",
        "    Detailed user-email interaction TIMES - \"first_open_time\", \"last_open_time\", \"hrs_to_first_open\", \n",
        "    \"hrs_to_last_open\", \"first_click_time\", \"last_click_time\", \"hrs_to_first_click\", \"hrs_to_last_click\"\n",
        "\n",
        "    NOTE\n",
        "    ----\n",
        "    1) Hmmmm...\n",
        "    \"\"\"\n",
        "    if control_variable[\"email_times\"]:\n",
        "      col_drop_email_times = [\"first_open_time\", \"last_open_time\", \"hrs_to_first_open\", \n",
        "    \"hrs_to_last_open\", \"first_click_time\", \"last_click_time\", \"hrs_to_first_click\", \"hrs_to_last_click\"]\n",
        "      df_sample.drop(columns=col_drop_email_times, inplace=True)\n",
        "\n",
        "    \"\"\"\n",
        "    Opt Out - \"first_opt_out_time\", \"opt_out_cnt\", \"last_opt_out_time\", \"opt_out_source\", \n",
        "    \"opt_out_reason\", \"hrs_to_first_opt_out\", \"hrs_to_last_opt_out\"\n",
        "\n",
        "    NOTE\n",
        "    -----\n",
        "    1) Marko's response: so I think there's a couple of different levels you can opt out on, just promotional emails, all emails etc.\n",
        "    so they probably resubscribed if they got added in later\n",
        "    2) I think the emailer system has checks and balances to see whether people who opt out,\n",
        "    should be sent mails to. But they don't keep track of the past - i.e., when someone opts out,\n",
        "    then resubscribes - he/she does not get counted as an opt out\n",
        "    3) Only 0.3% of entries have opt out filled - prev_opt_outs is 0 for 94% of entries\n",
        "    \"\"\"\n",
        "    if control_variable[\"opt_out\"]:\n",
        "      col_drop_opt_out = [\"prev_optouts\", \"first_opt_out_time\", \"opt_out_cnt\", \"last_opt_out_time\", \"opt_out_source\", \n",
        "    \"opt_out_reason\", \"hrs_to_first_opt_out\", \"hrs_to_last_opt_out\"]\n",
        "      df_sample.drop(columns=col_drop_opt_out, inplace=True)\n",
        "\n",
        "    #Add an optimal action: If unsub OR not opened, 0. If revenue OR open, then 1.\n",
        "    df_sample[\"optimal_action\"] = 1\n",
        "    dont_send_mask = (df_sample[\"unsub\"] == 1) | (df_sample[\"opened\"] == 0)\n",
        "    df_sample.loc[dont_send_mask, [\"optimal_action\"]] = 0\n",
        "\n",
        "    #Add the reward column as per Marko's definition\n",
        "    df_sample['reward'] = df_sample.apply(lambda row: rew(row), axis=1)\n",
        "\n",
        "    #Aleksey: Look Here\n",
        "    #Update the moving dict\n",
        "    current_n = len(df_sample)\n",
        "\n",
        "    #We have updated the dict with values from 1 chunk\n",
        "    if (cnt + i) > 0:\n",
        "      \n",
        "      for col_name in moving_dict.keys():\n",
        "        \n",
        "        #As long as col_name is not \"previous_n_so_far\"\n",
        "        if col_name != \"previous_n_so_far\":\n",
        "        \n",
        "          #Update min & max of col_name if required\n",
        "          min_val = df_sample[col_name].min()\n",
        "          max_val = df_sample[col_name].max()\n",
        "\n",
        "          if min_val < moving_dict[col_name][\"min\"]:\n",
        "            moving_dict[col_name][\"min\"] = min_val\n",
        "          \n",
        "          if max_val > moving_dict[col_name][\"max\"]:\n",
        "            moving_dict[col_name][\"max\"] = max_val\n",
        "\n",
        "          #Update the mean to incorporate the new population\n",
        "          current_mean = df_sample[col_name].mean()\n",
        "          previous_mean = moving_dict[col_name][\"mean\"]\n",
        "          moving_dict[col_name][\"mean\"] = (moving_dict[\"previous_n_so_far\"] * previous_mean + current_n * current_mean)/(moving_dict[\"previous_n_so_far\"] + current_n)\n",
        "          \n",
        "          #Keeping track of std is a real doozy - https://math.stackexchange.com/questions/2971315/how-do-i-combine-standard-deviations-of-two-groups\n",
        "          current_std = df_sample[col_name].std()\n",
        "          previous_std = moving_dict[col_name][\"std\"]\n",
        "          correction_term = (moving_dict[\"previous_n_so_far\"] * current_n * (current_mean - previous_mean)**2)/((moving_dict[\"previous_n_so_far\"] + current_n) * (moving_dict[\"previous_n_so_far\"] + current_n-1))\n",
        "          combined_variance = ((moving_dict[\"previous_n_so_far\"]-1)* (previous_std**2) + (current_n - 1)*(current_std**2))/(moving_dict[\"previous_n_so_far\"] + current_n - 1) + correction_term\n",
        "          moving_dict[col_name][\"std\"] = np.sqrt(combined_variance)\n",
        "\n",
        "      #Update the number of points\n",
        "      moving_dict[\"previous_n_so_far\"] += current_n\n",
        "\n",
        "      #Should we overwrite the file or append to the file?\n",
        "      if save_control_variable[\"full\"]:\n",
        "\n",
        "        #For the first chunk of 2nd and 3rd Dset, check whether we need to overwrite?\n",
        "        #If yes, we need to add it to whatever is there. If no, don't do anything. \n",
        "        if overwrite_control_variable[\"full\"]:\n",
        "          df_sample.to_csv(myfile, index=False, compression=\"gzip\", mode=\"a\", header=False)\n",
        "        \n",
        "      if save_control_variable[\"weekly\"][i]:\n",
        "        \n",
        "        #Create weekly save files\n",
        "        #Year string is accessed by year_l[i]\n",
        "        weekly_l = sorted(list(df_sample[\"sent_week\"].unique()))\n",
        "        weekly_filename_l = [weekly_files_base_folder + \"df_\" +  year_l[i] + \"_\" + str(week) + \".csv.gz\" \n",
        "                            for week in weekly_l]\n",
        "        for counter, week_filename in enumerate(weekly_filename_l):\n",
        "\n",
        "          #Is it the first chunk of the 2nd and 3rd Dset? If yes, check for the\n",
        "          #overwrite flag. If yes, delete existing file. \n",
        "          if not(cnt):\n",
        "            \n",
        "            #Check whether the overwrite flag for this Data Subset is set to True or False.\n",
        "            if overwrite_control_variable[\"weekly\"][i]:\n",
        "          \n",
        "              #If yes, delete the file so that contents will be overwritten.\n",
        "              try:\n",
        "                os.remove(week_filename)\n",
        "              except OSError:\n",
        "                pass\n",
        "\n",
        "          df_sample.loc[df_sample[\"sent_week\"] == weekly_l[counter], :].to_csv(week_filename, index=False, compression='gzip', mode='a', header=False)\n",
        "  \n",
        "    else:\n",
        "\n",
        "      #First chunk\n",
        "      #Set current chunk size to the variable that tracks datapoints\n",
        "      moving_dict[\"previous_n_so_far\"] = current_n\n",
        "      \n",
        "      for col_name in moving_dict.keys():\n",
        "\n",
        "        #As long as col_name is not \"previous_n_so_far\"\n",
        "        if col_name != \"previous_n_so_far\":\n",
        "\n",
        "          moving_dict[col_name][\"min\"] = df_sample[col_name].min() \n",
        "          moving_dict[col_name][\"max\"] = df_sample[col_name].max()\n",
        "          moving_dict[col_name][\"mean\"] = df_sample[col_name].mean()\n",
        "          moving_dict[col_name][\"std\"] = df_sample[col_name].std()\n",
        "\n",
        "      #Delete gzip file it exists\n",
        "      if save_control_variable[\"full\"]:\n",
        "        if os.path.isfile(myfile) and overwrite_control_variable[\"full\"]:\n",
        "          os.remove(myfile)\n",
        "      \n",
        "      #Append chunk to our file\n",
        "      if save_control_variable[\"full\"]:\n",
        "        df_sample.to_csv(myfile, index=False, compression=\"gzip\", mode=\"a\")\n",
        "        \n",
        "      #Create weekly save files\n",
        "      #Year string is accessed by year_l[i]\n",
        "      if save_control_variable[\"weekly\"][i]:\n",
        "\n",
        "        week_l = sorted(list(df_sample[\"sent_week\"].unique()))\n",
        "        week_filename_l = [weekly_files_base_folder + \"df_\" +  year_l[i] + \"_\" + str(week) + \".csv.gz\" \n",
        "                            for week in week_l]\n",
        "        for counter, week_filename in enumerate(week_filename_l):\n",
        "\n",
        "          #Check whether the overwrite flag for this Data Subset is set to True or False.\n",
        "          if overwrite_control_variable[\"weekly\"][i]:\n",
        "            \n",
        "            #If yes, delete the file so that contents will be overwritten.\n",
        "            try:\n",
        "              os.remove(week_filename)\n",
        "            except OSError:\n",
        "              pass\n",
        "\n",
        "          #Append contents of the file\n",
        "          df_sample.loc[df_sample[\"sent_week\"] == week_l[counter], :].to_csv(week_filename, index=False, compression='gzip', mode='a', header=False)\n",
        "\n",
        "      #Save dtypes as a json file once, which can be used by pandas to load the file\n",
        "      df_sample_dtypes = df_sample.dtypes.to_frame('dtypes').reset_index() #First, convert to df\n",
        "      d = df_sample_dtypes.set_index('index')['dtypes'].astype(str).to_dict() #Then, convert to dict with str\n",
        "      json_filename = \"/content/GDrive/MyDrive/Bandit_Project/dtypes.json\"\n",
        "      with open(json_filename, 'w') as f:\n",
        "        json.dump(d, f)\n",
        "\n",
        "    #Delete the dataframe to save space\n",
        "    del df_sample\n",
        "\n",
        "    #Increment display counter\n",
        "    cnt += 1\n",
        "\n",
        "  #Dump the moving_dict dictionary to a json file for later use\n",
        "  if save_control_variable[\"rolling_stats\"]:\n",
        "    with open(pkl_filename_rolling_stats, 'wb') as file:\n",
        "      pkl.dump(moving_dict, file)"
      ],
      "execution_count": null,
      "outputs": [
        {
          "output_type": "stream",
          "text": [
            "/usr/local/lib/python3.6/dist-packages/IPython/core/interactiveshell.py:2718: DtypeWarning: Columns (59,60,61,62) have mixed types.Specify dtype option on import or set low_memory=False.\n",
            "  interactivity=interactivity, compiler=compiler, result=result)\n"
          ],
          "name": "stderr"
        },
        {
          "output_type": "stream",
          "text": [
            "[INFO] Processing Chunk #1 of Dataset #2\n",
            "[INFO] Processing Chunk #2 of Dataset #2\n",
            "[INFO] Processing Chunk #3 of Dataset #2\n"
          ],
          "name": "stdout"
        },
        {
          "output_type": "stream",
          "text": [
            "/usr/local/lib/python3.6/dist-packages/IPython/core/interactiveshell.py:2718: DtypeWarning: Columns (59,60,61,62) have mixed types.Specify dtype option on import or set low_memory=False.\n",
            "  interactivity=interactivity, compiler=compiler, result=result)\n"
          ],
          "name": "stderr"
        },
        {
          "output_type": "stream",
          "text": [
            "[INFO] Processing Chunk #4 of Dataset #2\n",
            "[INFO] Processing Chunk #5 of Dataset #2\n",
            "[INFO] Processing Chunk #6 of Dataset #2\n",
            "[INFO] Processing Chunk #7 of Dataset #2\n",
            "[INFO] Processing Chunk #8 of Dataset #2\n",
            "[INFO] Processing Chunk #9 of Dataset #2\n",
            "[INFO] Processing Chunk #10 of Dataset #2\n",
            "[INFO] Processing Chunk #11 of Dataset #2\n"
          ],
          "name": "stdout"
        },
        {
          "output_type": "stream",
          "text": [
            "/usr/local/lib/python3.6/dist-packages/IPython/core/interactiveshell.py:2718: DtypeWarning: Columns (59,60,61,62) have mixed types.Specify dtype option on import or set low_memory=False.\n",
            "  interactivity=interactivity, compiler=compiler, result=result)\n"
          ],
          "name": "stderr"
        },
        {
          "output_type": "stream",
          "text": [
            "[INFO] Processing Chunk #12 of Dataset #2\n"
          ],
          "name": "stdout"
        },
        {
          "output_type": "stream",
          "text": [
            "/usr/local/lib/python3.6/dist-packages/IPython/core/interactiveshell.py:2718: DtypeWarning: Columns (59,60,61,62) have mixed types.Specify dtype option on import or set low_memory=False.\n",
            "  interactivity=interactivity, compiler=compiler, result=result)\n"
          ],
          "name": "stderr"
        },
        {
          "output_type": "stream",
          "text": [
            "[INFO] Processing Chunk #13 of Dataset #2\n",
            "[INFO] Processing Chunk #14 of Dataset #2\n",
            "[INFO] Processing Chunk #15 of Dataset #2\n",
            "[INFO] Processing Chunk #16 of Dataset #2\n",
            "[INFO] Processing Chunk #17 of Dataset #2\n",
            "[INFO] Processing Chunk #18 of Dataset #2\n"
          ],
          "name": "stdout"
        },
        {
          "output_type": "stream",
          "text": [
            "/usr/local/lib/python3.6/dist-packages/IPython/core/interactiveshell.py:2718: DtypeWarning: Columns (59,60,61,62) have mixed types.Specify dtype option on import or set low_memory=False.\n",
            "  interactivity=interactivity, compiler=compiler, result=result)\n"
          ],
          "name": "stderr"
        },
        {
          "output_type": "stream",
          "text": [
            "[INFO] Processing Chunk #19 of Dataset #2\n",
            "[INFO] Processing Chunk #20 of Dataset #2\n",
            "[INFO] Processing Chunk #21 of Dataset #2\n",
            "[INFO] Processing Chunk #22 of Dataset #2\n",
            "[INFO] Processing Chunk #23 of Dataset #2\n",
            "[INFO] Processing Chunk #24 of Dataset #2\n",
            "[INFO] Processing Chunk #25 of Dataset #2\n",
            "[INFO] Processing Chunk #26 of Dataset #2\n",
            "[INFO] Processing Chunk #27 of Dataset #2\n",
            "[INFO] Processing Chunk #28 of Dataset #2\n",
            "[INFO] Processing Chunk #29 of Dataset #2\n",
            "[INFO] Processing Chunk #30 of Dataset #2\n",
            "[INFO] Processing Chunk #31 of Dataset #2\n",
            "[INFO] Processing Chunk #32 of Dataset #2\n",
            "[INFO] Processing Chunk #33 of Dataset #2\n",
            "[INFO] Processing Chunk #34 of Dataset #2\n",
            "[INFO] Processing Chunk #1 of Dataset #3\n"
          ],
          "name": "stdout"
        },
        {
          "output_type": "stream",
          "text": [
            "/usr/local/lib/python3.6/dist-packages/IPython/core/interactiveshell.py:2718: DtypeWarning: Columns (59,60,61,62) have mixed types.Specify dtype option on import or set low_memory=False.\n",
            "  interactivity=interactivity, compiler=compiler, result=result)\n"
          ],
          "name": "stderr"
        },
        {
          "output_type": "stream",
          "text": [
            "[INFO] Processing Chunk #2 of Dataset #3\n",
            "[INFO] Processing Chunk #3 of Dataset #3\n"
          ],
          "name": "stdout"
        },
        {
          "output_type": "stream",
          "text": [
            "/usr/local/lib/python3.6/dist-packages/IPython/core/interactiveshell.py:2718: DtypeWarning: Columns (59,60,61,62) have mixed types.Specify dtype option on import or set low_memory=False.\n",
            "  interactivity=interactivity, compiler=compiler, result=result)\n"
          ],
          "name": "stderr"
        },
        {
          "output_type": "stream",
          "text": [
            "[INFO] Processing Chunk #4 of Dataset #3\n"
          ],
          "name": "stdout"
        },
        {
          "output_type": "stream",
          "text": [
            "/usr/local/lib/python3.6/dist-packages/IPython/core/interactiveshell.py:2718: DtypeWarning: Columns (59,60,61,62) have mixed types.Specify dtype option on import or set low_memory=False.\n",
            "  interactivity=interactivity, compiler=compiler, result=result)\n"
          ],
          "name": "stderr"
        },
        {
          "output_type": "stream",
          "text": [
            "[INFO] Processing Chunk #5 of Dataset #3\n",
            "[INFO] Processing Chunk #6 of Dataset #3\n",
            "[INFO] Processing Chunk #7 of Dataset #3\n",
            "[INFO] Processing Chunk #8 of Dataset #3\n",
            "[INFO] Processing Chunk #9 of Dataset #3\n",
            "[INFO] Processing Chunk #10 of Dataset #3\n",
            "[INFO] Processing Chunk #11 of Dataset #3\n",
            "[INFO] Processing Chunk #12 of Dataset #3\n"
          ],
          "name": "stdout"
        },
        {
          "output_type": "stream",
          "text": [
            "/usr/local/lib/python3.6/dist-packages/IPython/core/interactiveshell.py:2718: DtypeWarning: Columns (59,60,61,62) have mixed types.Specify dtype option on import or set low_memory=False.\n",
            "  interactivity=interactivity, compiler=compiler, result=result)\n"
          ],
          "name": "stderr"
        },
        {
          "output_type": "stream",
          "text": [
            "[INFO] Processing Chunk #13 of Dataset #3\n",
            "[INFO] Processing Chunk #14 of Dataset #3\n"
          ],
          "name": "stdout"
        },
        {
          "output_type": "stream",
          "text": [
            "/usr/local/lib/python3.6/dist-packages/IPython/core/interactiveshell.py:2718: DtypeWarning: Columns (59,60,61,62) have mixed types.Specify dtype option on import or set low_memory=False.\n",
            "  interactivity=interactivity, compiler=compiler, result=result)\n"
          ],
          "name": "stderr"
        },
        {
          "output_type": "stream",
          "text": [
            "[INFO] Processing Chunk #15 of Dataset #3\n"
          ],
          "name": "stdout"
        },
        {
          "output_type": "stream",
          "text": [
            "/usr/local/lib/python3.6/dist-packages/IPython/core/interactiveshell.py:2718: DtypeWarning: Columns (59,60,61,62) have mixed types.Specify dtype option on import or set low_memory=False.\n",
            "  interactivity=interactivity, compiler=compiler, result=result)\n"
          ],
          "name": "stderr"
        },
        {
          "output_type": "stream",
          "text": [
            "[INFO] Processing Chunk #16 of Dataset #3\n",
            "[INFO] Processing Chunk #17 of Dataset #3\n",
            "[INFO] Processing Chunk #18 of Dataset #3\n",
            "[INFO] Processing Chunk #19 of Dataset #3\n"
          ],
          "name": "stdout"
        }
      ]
    },
    {
      "cell_type": "markdown",
      "metadata": {
        "id": "SPr9LvAhylVq"
      },
      "source": [
        "# Analysing Aleksey's Exported Files\n",
        "\n",
        "Checking both Weekly + Full Dataset"
      ]
    },
    {
      "cell_type": "code",
      "metadata": {
        "id": "EjEM_y78yq7z"
      },
      "source": [
        "\"\"\"\n",
        "aleksey_full_l = ['/content/GDrive/MyDrive/Bandit_Project/BanditsData/Jul_Dec_2019.zip',\n",
        "               '/content/GDrive/MyDrive/Bandit_Project/BanditsData/Jan_Jun_2020.zip',\n",
        "               '/content/GDrive/MyDrive/Bandit_Project/BanditsData/Jul_Sep_2020.zip',]\n",
        "\n",
        "aleksey_weekly_l = ['/content/GDrive/MyDrive/Bandit_Project/BanditsData/2019_wks_26_52.zip', \n",
        "                    '/content/GDrive/MyDrive/Bandit_Project/BanditsData/2020_wks_00_25.zip', \n",
        "                    '/content/GDrive/MyDrive/Bandit_Project/BanditsData/2020_wks_26_38.zip',]\n",
        "\n",
        "\n",
        "#Extract one file from each of the 2 lists\n",
        "zip_path_l = ['/content/GDrive/MyDrive/Bandit_Project/BanditsData/Jul_Dec_2019.zip',\n",
        "              '/content/GDrive/MyDrive/Bandit_Project/BanditsData/2019_wks_26_52.zip',] \n",
        "\n",
        "folder_name_l = ['/content/GDrive/MyDrive/Bandit_Project/Aleksey/Jul_Dec_2019',\n",
        "              '/content/GDrive/MyDrive/Bandit_Project/Aleksey/2019_wks_26_52',] \n",
        "\n",
        "for (zip_path, folder_name) in zip(zip_path_l, folder_name_l):\n",
        "    \n",
        "  if not(os.path.exists(folder_name)):    \n",
        "    \n",
        "    with ZipFile(zip_path, 'r') as zip_obj:\n",
        "\n",
        "      zip_obj.extractall(folder_name)\n",
        "\n",
        "\"\"\""
      ],
      "execution_count": null,
      "outputs": []
    },
    {
      "cell_type": "code",
      "metadata": {
        "id": "_urk2avk78rA"
      },
      "source": [
        "\"\"\"\n",
        "#Extract 1e5 rows from a full and weekly file\n",
        "full_sample = '/content/GDrive/MyDrive/Bandit_Project/Aleksey/Jul_Dec_2019/sends_july_dec_2019_2000_01.csv'\n",
        "weekly_sample = '/content/GDrive/MyDrive/Bandit_Project/Aleksey/2019_wks_26_52/sends_2019_wk26.csv'\n",
        "\n",
        "df_aleksey_full = pd.read_csv(full_sample)\n",
        "df_aleksey_weekly = pd.read_csv(weekly_sample)\n",
        "\"\"\""
      ],
      "execution_count": null,
      "outputs": []
    },
    {
      "cell_type": "code",
      "metadata": {
        "id": "glMxZh-c0D8f"
      },
      "source": [
        "#df_aleksey_full.head(10)"
      ],
      "execution_count": null,
      "outputs": []
    },
    {
      "cell_type": "code",
      "metadata": {
        "id": "CWfMWY0O0ERA"
      },
      "source": [
        "#df_aleksey_weekly.head(10)"
      ],
      "execution_count": null,
      "outputs": []
    }
  ]
}