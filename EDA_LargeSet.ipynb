{
  "nbformat": 4,
  "nbformat_minor": 0,
  "metadata": {
    "colab": {
      "name": "EDA_LargeSet.ipynb",
      "provenance": [],
      "collapsed_sections": [],
      "authorship_tag": "ABX9TyPTs6PTNoU/I4MtGo9pe1ZX",
      "include_colab_link": true
    },
    "kernelspec": {
      "name": "python3",
      "display_name": "Python 3"
    }
  },
  "cells": [
    {
      "cell_type": "markdown",
      "metadata": {
        "id": "view-in-github",
        "colab_type": "text"
      },
      "source": [
        "<a href=\"https://colab.research.google.com/github/fellowship/deep-and-wide-bandit/blob/dev/EDA_LargeSet.ipynb\" target=\"_parent\"><img src=\"https://colab.research.google.com/assets/colab-badge.svg\" alt=\"Open In Colab\"/></a>"
      ]
    },
    {
      "cell_type": "code",
      "metadata": {
        "id": "I4jrSW21U6lY"
      },
      "source": [
        "#!pip install torch\n",
        "#!pip install transformers"
      ],
      "execution_count": 1,
      "outputs": []
    },
    {
      "cell_type": "markdown",
      "metadata": {
        "id": "lDRWe4op2uqz"
      },
      "source": [
        "# Mount Drive"
      ]
    },
    {
      "cell_type": "code",
      "metadata": {
        "colab": {
          "base_uri": "https://localhost:8080/"
        },
        "id": "o0tLBn4H2p3B",
        "outputId": "3c10b674-1e6a-46cd-af74-a246d7c41062"
      },
      "source": [
        "from google.colab import drive\n",
        "drive.mount(\"/content/GDrive\")"
      ],
      "execution_count": 2,
      "outputs": [
        {
          "output_type": "stream",
          "text": [
            "Mounted at /content/GDrive\n"
          ],
          "name": "stdout"
        }
      ]
    },
    {
      "cell_type": "code",
      "metadata": {
        "id": "pOSPcr5x3Tv7"
      },
      "source": [
        "import os\n",
        "import pandas as pd\n",
        "import numpy as np\n",
        "from zipfile import ZipFile\n",
        "import re\n",
        "#from collections import defaultdict\n",
        "import pickle as pkl\n",
        "#from transformers import BertTokenizer, BertModel\n",
        "#import torch\n",
        "\n",
        "#Formatting .describe() calls s.t. floats are displayed in non-scientific notation\n",
        "pd.set_option('display.float_format', lambda x: '%.5f' % x)"
      ],
      "execution_count": 3,
      "outputs": []
    },
    {
      "cell_type": "code",
      "metadata": {
        "id": "sAdvV6VL6JHI"
      },
      "source": [
        "os.chdir(os.getcwd())\n",
        "zip_path_l = [\"/content/GDrive/MyDrive/Bandit_Project/July_Dec_2019/July_Dec_2019.zip\",\n",
        "               \"/content/GDrive/MyDrive/Bandit_Project/Jan_June_2020/Jan_June_2020.zip\", \n",
        "               \"/content/GDrive/MyDrive/Bandit_Project/Jul_Sep_2020/Jul_Sep_2020.zip\"]\n",
        "\n",
        "file_name_l = ['/content/GDrive/MyDrive/Bandit_Project/July_Dec_2019/sends_july_dec_2019_2000',\n",
        "               '/content/GDrive/MyDrive/Bandit_Project/Jan_June_2020/sends_jan_june_2020_2000',\n",
        "               '/content/GDrive/MyDrive/Bandit_Project/Jul_Sep_2020/sends_july_sept_2020_2000']\n",
        "\n",
        "year_l = [\"2019\", \"2020\", \"2020\"] #For saving\n",
        "\n",
        "folder_name_l = [os.path.split(zip_path)[0] for zip_path in zip_path_l]\n",
        "\n",
        "for (zip_path, file_name, folder_name) in zip(zip_path_l, file_name_l, folder_name_l):\n",
        "  \n",
        "  if not(os.path.exists(file_name)):\n",
        "    \n",
        "    with ZipFile(zip_path, 'r') as zip_obj:\n",
        "\n",
        "      zip_obj.extractall(folder_name)"
      ],
      "execution_count": 4,
      "outputs": []
    },
    {
      "cell_type": "code",
      "metadata": {
        "id": "wV7jPfpKBaR8"
      },
      "source": [
        "col_names = ['riid','send_dt','launch_id','sub_sourcedev','opened','unsub',\n",
        "             'rev_3dv2','aq_dt','aq_mo','aq_dow','aq_period','sends_since_last_open',\n",
        "             'wk1_opens','wk4_opens','mo3_opens','mo6_opens','yr1_opens',\n",
        "             'wk1_clicks','wk4_clicks','mo3_clicks','mo6_clicks',\n",
        "             'rev_dec','rev_raw','snds_dec','snds_opens_dec','wk1_vis',\n",
        "             'wk4_vis','mo3_vis','mo6_vis','wk1_pv','wk4_pv','mo3_pv','mo6_pv',\n",
        "             'wk1_secs','wk4_secs','mo3_secs','mo6_secs','prev_optouts',\n",
        "             'last_order','last_click','last_cart','last_visit','last_ded_open',\n",
        "             'sent_time','offer_signature_id','dynamic_content_signature_id',\n",
        "             'message_size','open_cnt','first_open_time','last_open_time',\n",
        "             'hrs_to_first_open','hrs_to_last_open','click_cnt','first_click_time',\n",
        "             'last_click_time','offer_category','hrs_to_first_click','hrs_to_last_click',\n",
        "             'opt_out_cnt','first_opt_out_time','last_opt_out_time','opt_out_source',\n",
        "             'opt_out_reason','hrs_to_first_opt_out','hrs_to_last_opt_out','campaign_id',\n",
        "             'subject','marketing_strategy','campaign_type']"
      ],
      "execution_count": 5,
      "outputs": []
    },
    {
      "cell_type": "code",
      "metadata": {
        "id": "xf5U93WLGq8L"
      },
      "source": [
        "#Inspect the first 1e5 rows of one of the dataframes\n",
        "df = pd.read_csv(file_name_l[0], sep=\"\\t\", header=None, names=col_names, nrows=1e5)"
      ],
      "execution_count": 6,
      "outputs": []
    },
    {
      "cell_type": "markdown",
      "metadata": {
        "id": "cYK7GAOeHNK1"
      },
      "source": [
        "# Finalizing data preprocessing steps\n",
        "\n",
        "**QUESTION:** How do we split the train-valid-test set?\n",
        "\n",
        "1.   For each of the provided files, we employ a 80-20 split.\n",
        "2.   For the full set of files, we employ a 80-20 split. i.e., the full first 2 files and a portion of the first half of the last file is used for training and remaining is used for validation.\n",
        "\n"
      ]
    },
    {
      "cell_type": "code",
      "metadata": {
        "id": "pmEQ4PDI-IIa"
      },
      "source": [
        "#Too many questions around what to keep, what to drop...\n",
        "#Hence, currently default behaviour of drop\n",
        "#Using a control variable dictionary to modify behaviour for relevant column groups\n",
        "control_variable = {'marketing': True, 'subject':True, 'campaign_type':False,\n",
        "                    'aq': True,'site': True,'last':True, 'promo_ids': True,\n",
        "                    'email_cnts':True, 'email_times':True, 'opt_out':True, \n",
        "                    'offer_cat':True}\n",
        "\n",
        "#Another control variable to control whether dataset has to be exported OR not\n",
        "save_control_variable = True\n",
        "\n",
        "#Appended gzipped filename\n",
        "myfile = \"/content/GDrive/MyDrive/Bandit_Project/dataset_without_time_ohe.csv.gz\"\n",
        "month_files_base_folder = \"/content/GDrive/MyDrive/Bandit_Project/\""
      ],
      "execution_count": 7,
      "outputs": []
    },
    {
      "cell_type": "code",
      "metadata": {
        "id": "oxt39O1521WG"
      },
      "source": [
        "def rew(row):\n",
        "    sl = -1 * (1+max(row['sends_since_last_open'], 0))\n",
        "    #op = 5  * max(row['opened'], 0)\n",
        "    if row['rev_3dv2'] > 0:\n",
        "        cl = 10\n",
        "    else:\n",
        "        cl = 0\n",
        "    un = -50 * max(row['unsub'], 0)\n",
        "    fu = -50 * row['frequency_score'] * max(row['unsub'],0)\n",
        "    return sl+cl+un+fu"
      ],
      "execution_count": 8,
      "outputs": []
    },
    {
      "cell_type": "code",
      "metadata": {
        "id": "BYlnrcDDIB-S"
      },
      "source": [
        "#Create a dictionary that updates values for min, max, mean & std for scaling later\n",
        "moving_col_names = [\"rev_3dv2\", \"sends_since_last_open\", \"message_size\", \"retention_score\", \"frequency_score\",\n",
        "                    \"sent_hm_numeric\", \"sent_dayofweek\", \"sent_week\", \"sent_month\", \"discount\"] \n",
        "#moving_dict = {name: defaultdict(int) for name in moving_col_names}\n",
        "moving_dict = {name: {} for name in moving_col_names}\n",
        "\n",
        "#Have a variable that also keeps track of the number of elements of the previous chunk\n",
        "previous_n_so_far = 0"
      ],
      "execution_count": 9,
      "outputs": []
    },
    {
      "cell_type": "code",
      "metadata": {
        "colab": {
          "base_uri": "https://localhost:8080/"
        },
        "id": "jd6t6SlluIz5",
        "outputId": "48e1950d-cd83-4485-e921-0ffd04da1a2f"
      },
      "source": [
        "for i in range(0, len(file_name_l)):\n",
        "\n",
        "  #For printing status updates\n",
        "  cnt = 0\n",
        "\n",
        "  for chunk in pd.read_csv(file_name_l[i], sep='\\t', header=None, names=col_names, chunksize=1e6):\n",
        "\n",
        "    df_sample=chunk.copy()\n",
        "    \n",
        "    #if ((cnt+1)%5 == 0):\n",
        "    print(f\"[INFO] Processing the Chunk #{cnt+1} of Dataset #{i+1}\")\n",
        "\n",
        "    \"\"\"\n",
        "    Drop less-frequent AND/OR redundant columns\n",
        "    all team members voted to eliminate\n",
        "    \"\"\"\n",
        "\n",
        "    #Columns that are finalised to be dropped\n",
        "    col_drop_names = [\"send_dt\", \"sub_sourcedev\", \"rev_dec\", \"rev_raw\", \"snds_dec\", \"snds_opens_dec\", \n",
        "                \"dynamic_content_signature_id\"]\n",
        "\n",
        "    df_sample.drop(columns=col_drop_names, inplace=True)\n",
        "    del col_drop_names\n",
        "\n",
        "    \"\"\"\n",
        "    Compute the composite recency, frequency (dropped) & retention scores\n",
        "    Dropping the constituent base columns\n",
        "\n",
        "    NOTE \n",
        "    ----\n",
        "    1) Both recency and frequency are strongly correlated - Remove recency score\n",
        "    3) sends_since_last_open used for retention score AS WELL AS reward\n",
        "    \"\"\"\n",
        "\n",
        "    #Retention Score\n",
        "    df_sample['retention_score'] = df_sample.sends_since_last_open.apply(lambda x: 28/max(1,x)) \n",
        "\n",
        "    #Recency Score\n",
        "    #df_sample[\"recency_score\"] = 16/7*(df_sample['wk1_opens'] + df_sample['wk1_clicks']) \n",
        "    #+ 8/28*(df_sample['wk4_opens'] + df_sample['wk4_clicks']) \n",
        "    #+ 4/64*(df_sample['mo3_opens'] + df_sample['mo3_clicks']) \n",
        "    #+ 2/92*(df_sample['mo6_opens'] + df_sample['mo6_clicks']) \n",
        "    #+ 1/184*df_sample['yr1_opens']\n",
        "\n",
        "    #Frequency Score\n",
        "    df_sample[\"frequency_score\"] = df_sample['wk1_opens'] + df_sample['wk4_opens'] + \\\n",
        "              df_sample['mo3_opens'] + df_sample['mo6_opens']\n",
        "\n",
        "    #Drop the base columns\n",
        "    col_drop_scores = [\"wk1_opens\", \"wk4_opens\", \"mo3_opens\",\"mo6_opens\",\"yr1_opens\",\n",
        "                      \"wk1_clicks\", \"wk4_clicks\", \"mo3_clicks\", \"mo6_clicks\"]\n",
        "\n",
        "    df_sample.drop(columns=col_drop_scores, inplace=True)\n",
        "    del col_drop_scores\n",
        "\n",
        "    \"\"\"\n",
        "    Convert sent_time column to datetime object\n",
        "    Extract useful features like \n",
        "    \"\"\"\n",
        "    datetimes = pd.to_datetime(df_sample.sent_time)\n",
        "    df_sample.drop(columns=[\"sent_time\"], inplace=True)\n",
        "    df_sample[\"sent_hm_numeric\"] = datetimes.dt.hour + (datetimes.dt.minute/60)\n",
        "    df_sample[\"sent_dayofweek\"] = datetimes.dt.dayofweek\n",
        "    df_sample[\"sent_week\"] = datetimes.dt.day//7\n",
        "    df_sample[\"sent_month\"] = datetimes.dt.month\n",
        "    del datetimes\n",
        "\n",
        "    \"\"\"\n",
        "    Column Name. - marketing_strategy\n",
        "\n",
        "    NOTE\n",
        "    ----\n",
        "    1) AdHoc (1) or Program (0)? Might be useful to keep track of this\n",
        "    2) Whether Promo or not is useful to check perhaps\n",
        "    3) Whether Sale or not is useful to check perhaps\n",
        "    \"\"\"\n",
        "\n",
        "    if control_variable[\"marketing\"]:\n",
        "      #Create a new column for AdHoc OR Program: Seems to be the type of email\n",
        "      #df_sample[\"email_type\"] = df_sample.marketing_strategy.str.contains(\"_Adhoc_\").fillna(0).astype(int) #1 for AdHoc, 0 for Program\n",
        "\n",
        "      #Create columns for Promotional and Sale: Other values do not seem useful - Aleksey to get back about correlations\n",
        "      #df_sample[\"promo\"] = df_sample.marketing_strategy.str.contains(\"Promotional\").fillna(0).astype(int)\n",
        "      #df_sample[\"sale\"] = df_sample.marketing_strategy.str.contains(\"Sale\").fillna(0).astype(int)\n",
        "      \n",
        "      #Drop the column\n",
        "      df_sample.drop(columns=[\"marketing_strategy\"], inplace=True)\n",
        "\n",
        "    \"\"\"\n",
        "    #Initialize the BERT tokenizer and the model\n",
        "    tokenizer = BertTokenizer.from_pretrained('bert-base-uncased')\n",
        "    model = BertModel.from_pretrained('bert-base-uncased', output_hidden_states = True)\n",
        "    model.eval()\n",
        "\n",
        "    def bert_text_preparation(text, tokenizer):\n",
        "        \n",
        "        marked_text = \"[CLS] \" + text + \" [SEP]\"\n",
        "        tokenized_text = tokenizer.tokenize(marked_text)\n",
        "        indexed_tokens = tokenizer.convert_tokens_to_ids(tokenized_text)\n",
        "        segments_ids = [1]*len(indexed_tokens)\n",
        "\n",
        "        # Convert inputs to PyTorch tensors\n",
        "        tokens_tensor = torch.tensor([indexed_tokens])\n",
        "        segments_tensors = torch.tensor([segments_ids])\n",
        "\n",
        "        return tokenized_text, tokens_tensor, segments_tensors\n",
        "\n",
        "    def get_bert_embeddings(tokens_tensor, segments_tensors, model):\n",
        "        \n",
        "        # Gradient calculation id disabled\n",
        "        # Model is in inference mode\n",
        "        with torch.no_grad():\n",
        "            outputs = model(tokens_tensor, segments_tensors)\n",
        "            # Removing the first hidden state\n",
        "            # The first state is the input state\n",
        "            hidden_states = outputs[2][1:]\n",
        "        \n",
        "        #Stack tensors up to give us a proper Pytorch tensor to work with\n",
        "        token_embeddings = torch.stack(hidden_states, dim=0)\n",
        "        \n",
        "        #Remove the batch-dimension because we have only a single sentence\n",
        "        token_embeddings = torch.squeeze(token_embeddings, dim=1)\n",
        "\n",
        "        #Swapping the layer dimension with the token dimension\n",
        "        token_embeddings = token_embeddings.permute(1,0,2)\n",
        "\n",
        "        #For each token, compute average across 1st dimension. Then, average across 0th dimension.\n",
        "        sentence_embedding = torch.mean(token_embeddings, dim=(0, 1))\n",
        "\n",
        "        return sentence_embedding\n",
        "    #Try 3 sentences:\n",
        "    #Sentence 1) \"We bet we have the fit for you\"\n",
        "    #Sentence 2) \"We’ve got your size\"\n",
        "    #Sentence 3) \"Long-weekend savings all week long\"\n",
        "    #Sentence 4) \"Get 50% off— ahead of everyone else\"\n",
        "\n",
        "    s1 = \"Find pants that fit perfectly\"\n",
        "    s2 = \"We bet we have the fit for you\"\n",
        "    s3 = \"50% off absolutely everything + free shipping\"\n",
        "    s4 = \"Get 50% off— ahead of everyone else\"\n",
        "\n",
        "    _, token_ids_s1, segment_ids_s1 = bert_text_preparation(s1, tokenizer)\n",
        "    _, token_ids_s2, segment_ids_s2 = bert_text_preparation(s2, tokenizer)\n",
        "    _, token_ids_s3, segment_ids_s3 = bert_text_preparation(s3, tokenizer)\n",
        "    _, token_ids_s4, segment_ids_s4 = bert_text_preparation(s4, tokenizer)\n",
        "\n",
        "    s1_embedding = get_bert_embeddings(token_ids_s1, segment_ids_s1, model)\n",
        "    s2_embedding = get_bert_embeddings(token_ids_s2, segment_ids_s2, model)\n",
        "    s3_embedding = get_bert_embeddings(token_ids_s3, segment_ids_s3, model)\n",
        "    s4_embedding = get_bert_embeddings(token_ids_s4, segment_ids_s4, model)\n",
        "    from scipy.spatial.distance import cosine\n",
        "\n",
        "    # Calculate the cosine similarity between the S1 and S2 (similar - fit-based)\n",
        "    s1s2sim = 1 - cosine(s1_embedding, s2_embedding)\n",
        "    print(f\"[INFO] Computing cosing similarity between {s1} and {s2}: {s1s2sim}\")\n",
        "\n",
        "    # Calculate the cosine similarity between the S3 and S4 (similar - savings-based)\n",
        "    s3s4sim = 1 - cosine(s3_embedding, s4_embedding)\n",
        "    print(f\"[INFO] Computing cosing similarity between {s3} and {s4}: {s3s4sim}\")\n",
        "\n",
        "    # Calculate the cosine similarity between the S1 and S3 (dissimilar - fit vs savings)\n",
        "    s1s3sim = 1 - cosine(s1_embedding, s3_embedding)\n",
        "    print(f\"[INFO] Computing cosing similarity between {s1} and {s3}: {s1s3sim}\")\n",
        "\n",
        "    # Calculate the cosine similarity between the S2 and S4 (dissimilar - fit vs savings)\n",
        "    s2s4sim = 1 - cosine(s2_embedding, s4_embedding)\n",
        "    print(f\"[INFO] Computing cosing similarity between {s2} and {s4}: {s2s4sim}\")\n",
        "    #Explore the hidden_states more clearly\n",
        "    print (\"Number of layers:\", len(hidden_states))\n",
        "\n",
        "    #Pick any 1 layer\n",
        "    layer_i = 0\n",
        "    print (\"Number of batches:\", len(hidden_states[layer_i]))\n",
        "\n",
        "    #Pick any 1 batch\n",
        "    batch_i = 0\n",
        "    print (\"Number of tokens:\", len(hidden_states[layer_i][batch_i]))\n",
        "\n",
        "    #Pick any 1 token\n",
        "    token_i = 0\n",
        "    print (\"Number of hidden units:\", len(hidden_states[layer_i][batch_i][token_i]))\n",
        "\n",
        "    # Concatenate the tensors for all layers. We use `stack` here to\n",
        "    # create a new dimension in the tensor.\n",
        "    token_embeddings = torch.stack(hidden_states, dim=0)\n",
        "    print(f\"Stacking all the hidden units...Pytorch tensor of shape {token_embeddings.size()} is created\")\n",
        "\n",
        "    #Remove the batch-dimension because we have only a single sentence\n",
        "    token_embeddings = torch.squeeze(token_embeddings, dim=1)\n",
        "    print(f\"Removing batch dimension...Pytorch tensor of shape {token_embeddings.size()} is created\")\n",
        "\n",
        "    #Swapping the layer dimension with the token dimension\n",
        "    token_embeddings = token_embeddings.permute(1,0,2)\n",
        "    print(f\"Swapping layer with token...Pytorch tensor of shape {token_embeddings.size()} is created\")\n",
        "\n",
        "    #For each token, compute average across 1st dimension. Then, average across 0th dimension.\n",
        "    token_vecs = torch.mean(token_embeddings, dim=(0, 1))\n",
        "    print(f\"The embedding for - Sample text - is of size {token_vecs.size()}\")\n",
        "\n",
        "    Column - subject\n",
        "\n",
        "    1) Use BERT to convert this into a sentence vector?\n",
        "    2) Check for specific words of interest in the subject?\n",
        "    3) Other handcrafted features like LogReg or NB?\n",
        "    \"\"\"\n",
        "    if control_variable[\"subject\"]:\n",
        "\n",
        "      #Check for Aleksey's words\n",
        "      feature_words = ['these', 'what', 'that', 'your', 'have', 'holidays', 'flex', 'know', 'fits', '&', 'styles', 'holiday', 'may', 'wear', 'best', 'with', 'gifts']\n",
        "      col_names = [\"word_\" + word for word in feature_words]\n",
        "      for (feature_word, col_name) in zip(feature_words, col_names):\n",
        "        df_sample[col_name] = df_sample.subject.str.contains(feature_word, case=False)\n",
        "      df_sample.drop(columns=[\"subject\"], inplace=True)\n",
        "\n",
        "    \"\"\"\n",
        "    Column Name - campaign_type\n",
        "\n",
        "    1) Can get the old campaign_type categorical columns from this\n",
        "    2) Can eliminate EU entries.\n",
        "    3) Discounts can be extracted.\n",
        "    4) Sale and Promotional can be extracted.\n",
        "    \"\"\"\n",
        "\n",
        "    #Find out how many different ways words like US show up in campaign_type\n",
        "    #country_mask = df_sample[\"campaign_type\"].str.contains(r\"_[A-Z][A-Z]_\", regex=True)\n",
        "    #print(f\"There are {len(df_sample[country_mask])} entries that satisfy _[A-Z][A-Z]_ regex match\\n\")\n",
        "\n",
        "    if control_variable[\"campaign_type\"]:\n",
        "      #Drop the campaign_type column \n",
        "      df_sample.drop(columns=[\"campaign_type\"], inplace=True)\n",
        "\n",
        "    else:\n",
        "      #Do stops and then drop the column\n",
        "      #Eliminate non-US rows\n",
        "      US_mask = df_sample.campaign_type.str.contains('_US_')\n",
        "      df_sample = df_sample[US_mask]\n",
        "      \n",
        "      #Convert a single column into one-hot encoded campaign_type columns\n",
        "      df_sample[\"campaign_Brand\"] = df_sample.campaign_type.str.contains(\"Brand\").astype(int)\n",
        "      df_sample[\"campaign_Collection\"] = df_sample.campaign_type.str.contains(\"Collection\").astype(int)\n",
        "      df_sample[\"campaign_Core\"] = df_sample.campaign_type.str.contains(\"Core\").astype(int)\n",
        "      df_sample[\"campaign_Dedicated\"] = df_sample.campaign_type.str.contains(\"Dedicated\").astype(int)\n",
        "      df_sample[\"campaign_InnovationSpotlight\"] = df_sample.campaign_type.str.contains(\"InnovationSpotlight\").astype(int)\n",
        "      df_sample[\"campaign_NewArrivals\"] = df_sample.campaign_type.str.contains(\"NewArrivals\").astype(int)\n",
        "      df_sample[\"campaign_ProductSpotlight\"] = df_sample.campaign_type.str.contains(\"ProductSpotlight\").astype(int)\n",
        "      df_sample[\"campaign_Replen\"] = df_sample.campaign_type.str.contains(\"Replen\").astype(int)\n",
        "      df_sample[\"campaign_Tops\"] = df_sample.campaign_type.str.contains(\"Tops\").astype(int)\n",
        "      df_sample[\"campaign_Trend\"] = df_sample.campaign_type.str.contains(\"Trend\").astype(int)\n",
        "      \n",
        "      #Sometimes, there are multiple columns that fire for the same row —> -1 value for Other\n",
        "      campaign_type_col_names = [\"campaign_Collection\", \"campaign_Core\", \"campaign_Dedicated\", \"campaign_InnovationSpotlight\",\n",
        "                                \"campaign_NewArrivals\", \"campaign_ProductSpotlight\", \"campaign_Replen\", \"campaign_Tops\",\n",
        "                                \"campaign_Brand\", \"campaign_Trend\"]  \n",
        "      df_sample[\"campaign_Other\"] = 1-df_sample[campaign_type_col_names].any(axis=1).astype(int)\n",
        "\n",
        "      #Create discount columns\n",
        "      df_sample[\"discount\"] = 0\n",
        "      \n",
        "      #Display how the discounts are presented\n",
        "      discount_pattern = re.compile(r\"_[1-9][0-9]off_\", flags = re.I)\n",
        "      discount_mask = df_sample[\"campaign_type\"].str.contains(discount_pattern, regex=True)\n",
        "      \n",
        "      #print(f\"There are {len(df_sample[discount_mask])} entries that satisfy discount regex match\\n\")\n",
        "      #print(\"Some of them include:\")\n",
        "      #print((df_sample[discount_mask]).campaign_type.unique()[:5])\n",
        "\n",
        "      df_sample.loc[discount_mask, \"discount\"] = (df_sample[discount_mask])[\"campaign_type\"].str.findall(r\"(?<=_)\\d{2}\").str.get(0).astype(int)\n",
        "\n",
        "      #Check whether the promot \n",
        "      df_sample[\"promo\"] = df_sample.campaign_type.str.contains(\"Promotional\", case=False).fillna(0).astype(int)\n",
        "      df_sample[\"sale\"] = df_sample.campaign_type.str.contains(\"Sale\", case=False).fillna(0).astype(int)\n",
        "\n",
        "      #Drop the campaign_type column \n",
        "      df_sample.drop(columns=[\"campaign_type\"], inplace=True)\n",
        "\n",
        "    if control_variable['offer_cat']:\n",
        "\n",
        "      \"\"\"\n",
        "      Offer_category Columns - \"offer_category\"\n",
        "\n",
        "      NOTE\n",
        "      ----\n",
        "      1) This contains additional info about whether it's promotion, sale, Tops etc.\n",
        "      that are somehow missed by the other columns. We can leverage this?\n",
        "\n",
        "      e.g. \"Mens_Pants...\", \"Mens_ShirtTops...\", \"Mens_BigAndTall...\", \"Mens_Shorts...\",\n",
        "      \"Mens_SweatersJackets...\", \"Mens_Accessories...\", \"Promotion\", \"Sale\", \"Brand\"\n",
        "\n",
        "      2) HORRIBLY BIASED (at least this column is) DATASET because (A) not even a single mention\n",
        "      of womens products along the lines of Mens_Shorts etc. and (B) very few entries\n",
        "      3) But at the end of the day - only 8.3% are filled. Hence, not using.\n",
        "\n",
        "\n",
        "      #Extract the column as a Series + convert to str\n",
        "      offer_cat_series = df_sample[\"offer_category\"].astype(str)\n",
        "\n",
        "      #Print the unique values corresponding to Mens clothing\n",
        "      mens_clothing_mask = offer_cat_series.str.contains(\"Mens\")\n",
        "      off_cat_mens = offer_cat_series[mens_clothing_mask]\n",
        "      print(f\"[INFO] The number of entries with Mens: {len(off_cat_mens)}\")\n",
        "      print(f\"[INFO] Printing out a few of them: {off_cat_mens.unique()[:10]}\")\n",
        "\n",
        "      womens_clothing_mask = offer_cat_series.str.contains(\"Wom\")\n",
        "      off_cat_womens = offer_cat_series[womens_clothing_mask]\n",
        "      print(f\"\\n[INFO] The number of entries with Womens: {len(off_cat_womens)}\")\n",
        "      print(f\"[INFO] Printing out a few of them: {off_cat_womens.unique()[:-1]}\")\n",
        "      \"\"\"\n",
        "      #Drop this column as well\n",
        "      df_sample.drop(columns=[\"offer_category\"], inplace=True)\n",
        "\n",
        "    \"\"\"\n",
        "    Acquisiton Columns - \"aq_dt\", \"aq_mo\", \"aq_dow\", \"aq_period\"\n",
        "\n",
        "    NOTE\n",
        "    ----\n",
        "    1) Older customers who have not subscribed — exploit strategy should work better\n",
        "    2) aq_dt has negative numbers - Why?\n",
        "    \"\"\"\n",
        "    if control_variable[\"aq\"]:\n",
        "      col_drop_aq = [\"aq_dt\", \"aq_mo\", \"aq_dow\", \"aq_period\"]\n",
        "      df_sample.drop(columns=col_drop_aq, inplace=True)\n",
        "    \"\"\"\n",
        "    Website Data - \"wk1_vis\", \"wk4_vis\", \"mo3_vis\", \"mo6_vis\", \"wk1_pv\",\n",
        "    \"wk4_pv\", \"mo3_pv\", \"mo6_pv\", \"wk1_secs\", \"wk4_secs\", \"mo3_secs\", \"mo6_secs\"\n",
        "\n",
        "    NOTE\n",
        "    ----\n",
        "    1) Extremely sparse - mostly filled with 0s\n",
        "    2) Marko had said website and email integration has not taken place\n",
        "    3) Naturally, this integration will happen in the future. Let the future team take care of it then.\n",
        "    \"\"\"\n",
        "    if control_variable[\"site\"]:\n",
        "      col_drop_site = [\"wk1_vis\", \"wk4_vis\", \"mo3_vis\", \"mo6_vis\", \"wk1_pv\",\n",
        "    \"wk4_pv\", \"mo3_pv\", \"mo6_pv\", \"wk1_secs\", \"wk4_secs\", \"mo3_secs\", \"mo6_secs\"]\n",
        "      df_sample.drop(columns=col_drop_site, inplace=True)\n",
        "\n",
        "    \"\"\"\n",
        "    The Last Time - \"last_order\", \"last_click\", \"last_cart\",\"last_visit\",\"last_ded_open\"\n",
        "\n",
        "    NOTE\n",
        "    ----\n",
        "    1) Moooostly NaN values currently\n",
        "    2) However, when it is not NaN - especially for last_order - it could be a really useful signal\n",
        "    \"\"\"\n",
        "    if control_variable[\"last\"]:\n",
        "      col_drop_last = [\"last_order\", \"last_click\", \"last_cart\",\"last_visit\",\"last_ded_open\"]\n",
        "      df_sample.drop(columns=col_drop_last, inplace=True)\n",
        "\n",
        "    \"\"\"\n",
        "    Promotion IDs - \"offer_signature_id\", \"launch_id\", \"campaign_id\"\n",
        "\n",
        "    NOTE\n",
        "    ----\n",
        "    1) A bunch of strings - might be useful for either cross-feature interactions or \n",
        "    campaign/promotion embeddings\n",
        "    2) I feel it is a nice-to-have thing, as opposed to a need-to-have-thing\n",
        "    \"\"\"\n",
        "    if control_variable[\"promo_ids\"]:\n",
        "      col_drop_promo_ids = [\"offer_signature_id\", \"launch_id\", \"campaign_id\"]\n",
        "      df_sample.drop(columns=col_drop_promo_ids, inplace=True)\n",
        "\n",
        "    \"\"\"\n",
        "    Detailed user-email interaction COUNTS - \"open_cnt\", \"click_cnt\" \n",
        "    \"\"\n",
        "    NOTE\n",
        "    ----\n",
        "    1) We already have the \"opened\" signal - can it be boosted further with open_cnt and click_cnt?\n",
        "    2) But only 28.2% and 8.3% of these counts are available\n",
        "    \"\"\"\n",
        "    if control_variable[\"email_cnts\"]:\n",
        "      col_drop_email_cnts = [\"open_cnt\", \"click_cnt\"]\n",
        "      df_sample.drop(columns=col_drop_email_cnts, inplace=True)\n",
        "\n",
        "    \"\"\"\n",
        "    Detailed user-email interaction TIMES - \"first_open_time\", \"last_open_time\", \"hrs_to_first_open\", \n",
        "    \"hrs_to_last_open\", \"first_click_time\", \"last_click_time\", \"hrs_to_first_click\", \"hrs_to_last_click\"\n",
        "\n",
        "    NOTE\n",
        "    ----\n",
        "    1) Hmmmm...\n",
        "    \"\"\"\n",
        "    if control_variable[\"email_times\"]:\n",
        "      col_drop_email_times = [\"first_open_time\", \"last_open_time\", \"hrs_to_first_open\", \n",
        "    \"hrs_to_last_open\", \"first_click_time\", \"last_click_time\", \"hrs_to_first_click\", \"hrs_to_last_click\"]\n",
        "      df_sample.drop(columns=col_drop_email_times, inplace=True)\n",
        "\n",
        "    \"\"\"\n",
        "    Opt Out - \"first_opt_out_time\", \"opt_out_cnt\", \"last_opt_out_time\", \"opt_out_source\", \n",
        "    \"opt_out_reason\", \"hrs_to_first_opt_out\", \"hrs_to_last_opt_out\"\n",
        "\n",
        "    NOTE\n",
        "    -----\n",
        "    1) Marko's response: so I think there's a couple of different levels you can opt out on, just promotional emails, all emails etc.\n",
        "    so they probably resubscribed if they got added in later\n",
        "    2) I think the emailer system has checks and balances to see whether people who opt out,\n",
        "    should be sent mails to. But they don't keep track of the past - i.e., when someone opts out,\n",
        "    then resubscribes - he/she does not get counted as an opt out\n",
        "    3) Only 0.3% of entries have opt out filled - prev_opt_outs is 0 for 94% of entries\n",
        "    \"\"\"\n",
        "    if control_variable[\"opt_out\"]:\n",
        "      col_drop_opt_out = [\"prev_optouts\", \"first_opt_out_time\", \"opt_out_cnt\", \"last_opt_out_time\", \"opt_out_source\", \n",
        "    \"opt_out_reason\", \"hrs_to_first_opt_out\", \"hrs_to_last_opt_out\"]\n",
        "      df_sample.drop(columns=col_drop_opt_out, inplace=True)\n",
        "\n",
        "    #Add the reward column as per Marko's definition\n",
        "    df_sample['reward'] = df_sample.apply(lambda row: rew(row), axis=1)\n",
        "\n",
        "    #Add an optimal action: If unsub OR not opened, 0. If revenue OR open, then 1.\n",
        "    df_sample[\"optimal_action\"] = 1\n",
        "    df_sample[(df_sample[\"unsub\"] == 1) | (df_sample[\"opened\"] == 0)][\"optimal_action\"] = 0\n",
        "\n",
        "    #Update the moving dict\n",
        "    current_n = len(df_sample)\n",
        "\n",
        "    #We have updated the dict with values from 1 chunk\n",
        "    if (cnt + i) > 0:\n",
        "      \n",
        "      for col_name in moving_dict.keys():\n",
        "        \n",
        "        #Update min & max of col_name if required\n",
        "        min_val = df_sample[col_name].min()\n",
        "        max_val = df_sample[col_name].max()\n",
        "\n",
        "        if min_val < moving_dict[col_name][\"min\"]:\n",
        "          moving_dict[col_name][\"min\"] = min_val\n",
        "        \n",
        "        if max_val > moving_dict[col_name][\"max\"]:\n",
        "          moving_dict[col_name][\"max\"] = max_val\n",
        "\n",
        "        #Update the mean to incorporate the new population\n",
        "        current_mean = df_sample[col_name].mean()\n",
        "        previous_mean = moving_dict[col_name][\"mean\"]\n",
        "        moving_dict[col_name][\"mean\"] = (previous_n_so_far * previous_mean + current_n * current_mean)/(previous_n_so_far + current_n)\n",
        "        \n",
        "        #Keeping track of std is a real doozy - https://math.stackexchange.com/questions/2971315/how-do-i-combine-standard-deviations-of-two-groups\n",
        "        current_std = df_sample[col_name].std()\n",
        "        previous_std = moving_dict[col_name][\"std\"]\n",
        "        correction_term = (previous_n_so_far * current_n * (current_mean - previous_mean)**2)/((previous_n_so_far + current_n) * (previous_n_so_far + current_n-1))\n",
        "        combined_variance = ((previous_n_so_far-1)* (previous_std**2) + (current_n - 1)*(current_std**2))/(previous_n_so_far + current_n - 1) + correction_term\n",
        "        moving_dict[col_name][\"std\"] = np.sqrt(combined_variance)\n",
        "\n",
        "        #Update the number of points\n",
        "        previous_n_so_far += current_n\n",
        "\n",
        "        #Append chunk to our file\n",
        "        if save_control_variable:\n",
        "          df_sample.to_csv(myfile, index=False, compression=\"gzip\", mode=\"a\", header=False)\n",
        "\n",
        "          #Create monthly save files\n",
        "          #Year string is accessed by year_l[i]\n",
        "          month_l = list(df_sample[\"sent_month\"].unique()).sort()\n",
        "          month_filename_l = [month_files_base_folder + \"df_\" +  year_l[i] + \"_\" + str(month) + \".csv.gz\" \n",
        "                              for month in month_l]\n",
        "          for counter, month_filename in enumerate(month_filename_l):\n",
        "            df_sample[df_sample[\"sent_month\"] == month_l[counter]].to_csv(month_filename, index=False, compression='gzip', mode='a', header=False)\n",
        "    \n",
        "    else:\n",
        "\n",
        "      #First chunk\n",
        "      #Set current chunk size to the variable that tracks datapoints\n",
        "      previous_n_so_far = current_n\n",
        "      \n",
        "      for col_name in moving_dict.keys():\n",
        "        moving_dict[col_name][\"min\"] = df_sample[col_name].min() \n",
        "        moving_dict[col_name][\"max\"] = df_sample[col_name].max()\n",
        "        moving_dict[col_name][\"mean\"] = df_sample[col_name].mean()\n",
        "        moving_dict[col_name][\"std\"] = df_sample[col_name].std()\n",
        "\n",
        "      #Delete gzip file it exists\n",
        "      if os.path.isfile(myfile) and save_control_variable:\n",
        "        os.remove(myfile)\n",
        "\n",
        "      #Append chunk to our file\n",
        "      if save_control_variable:\n",
        "        df_sample.to_csv(myfile, index=False, compression=\"gzip\", mode=\"a\")\n",
        "\n",
        "        #Create monthly save files\n",
        "        #Year string is accessed by year_l[i]\n",
        "        month_l = list(df_sample[\"sent_month\"].unique()).sort()\n",
        "        month_filename_l = [month_files_base_folder + \"df_\" +  year_l[i] + \"_\" + str(month) + \".csv.gz\" \n",
        "                            for month in month_l]\n",
        "        for counter, month_filename in enumerate(month_filename_l):\n",
        "          df_sample[df_sample[\"sent_month\"] == month_l[counter]].to_csv(month_filename, index=False, compression='gzip', mode='a', header=False)\n",
        "    \n",
        "    #Delete the dataframe to save space\n",
        "    del df_sample\n",
        "\n",
        "    #Increment display counter\n",
        "    cnt += 1\n",
        "\n",
        "#Dump the moving_dict dictionary to a pickled file for later use\n",
        "if save_control_variable:\n",
        "  pickle_filename = \"/content/GDrive/MyDrive/Bandit_Project/rolling_statistics.pkl\"\n",
        "  with open(pickle_filename, mode='wb') as file:\n",
        "    pkl.dump(moving_dict, file)"
      ],
      "execution_count": 10,
      "outputs": [
        {
          "output_type": "stream",
          "text": [
            "[INFO] Processing the Chunk #1 of Dataset #1\n",
            "[INFO] Processing the Chunk #2 of Dataset #1\n"
          ],
          "name": "stdout"
        },
        {
          "output_type": "stream",
          "text": [
            "/usr/local/lib/python3.6/dist-packages/IPython/core/interactiveshell.py:2718: DtypeWarning: Columns (59,60,61,62) have mixed types.Specify dtype option on import or set low_memory=False.\n",
            "  interactivity=interactivity, compiler=compiler, result=result)\n"
          ],
          "name": "stderr"
        },
        {
          "output_type": "stream",
          "text": [
            "[INFO] Processing the Chunk #3 of Dataset #1\n",
            "[INFO] Processing the Chunk #4 of Dataset #1\n"
          ],
          "name": "stdout"
        },
        {
          "output_type": "stream",
          "text": [
            "/usr/local/lib/python3.6/dist-packages/IPython/core/interactiveshell.py:2718: DtypeWarning: Columns (59,60,61,62) have mixed types.Specify dtype option on import or set low_memory=False.\n",
            "  interactivity=interactivity, compiler=compiler, result=result)\n"
          ],
          "name": "stderr"
        },
        {
          "output_type": "stream",
          "text": [
            "[INFO] Processing the Chunk #5 of Dataset #1\n",
            "[INFO] Processing the Chunk #6 of Dataset #1\n",
            "[INFO] Processing the Chunk #7 of Dataset #1\n",
            "[INFO] Processing the Chunk #8 of Dataset #1\n",
            "[INFO] Processing the Chunk #9 of Dataset #1\n",
            "[INFO] Processing the Chunk #10 of Dataset #1\n",
            "[INFO] Processing the Chunk #11 of Dataset #1\n",
            "[INFO] Processing the Chunk #12 of Dataset #1\n",
            "[INFO] Processing the Chunk #13 of Dataset #1\n",
            "[INFO] Processing the Chunk #14 of Dataset #1\n"
          ],
          "name": "stdout"
        },
        {
          "output_type": "stream",
          "text": [
            "/usr/local/lib/python3.6/dist-packages/IPython/core/interactiveshell.py:2718: DtypeWarning: Columns (59,60,61,62) have mixed types.Specify dtype option on import or set low_memory=False.\n",
            "  interactivity=interactivity, compiler=compiler, result=result)\n"
          ],
          "name": "stderr"
        },
        {
          "output_type": "stream",
          "text": [
            "[INFO] Processing the Chunk #15 of Dataset #1\n",
            "[INFO] Processing the Chunk #16 of Dataset #1\n",
            "[INFO] Processing the Chunk #17 of Dataset #1\n",
            "[INFO] Processing the Chunk #18 of Dataset #1\n"
          ],
          "name": "stdout"
        },
        {
          "output_type": "stream",
          "text": [
            "/usr/local/lib/python3.6/dist-packages/IPython/core/interactiveshell.py:2718: DtypeWarning: Columns (59,60,61,62) have mixed types.Specify dtype option on import or set low_memory=False.\n",
            "  interactivity=interactivity, compiler=compiler, result=result)\n"
          ],
          "name": "stderr"
        },
        {
          "output_type": "stream",
          "text": [
            "[INFO] Processing the Chunk #19 of Dataset #1\n",
            "[INFO] Processing the Chunk #20 of Dataset #1\n",
            "[INFO] Processing the Chunk #21 of Dataset #1\n",
            "[INFO] Processing the Chunk #22 of Dataset #1\n",
            "[INFO] Processing the Chunk #23 of Dataset #1\n",
            "[INFO] Processing the Chunk #24 of Dataset #1\n",
            "[INFO] Processing the Chunk #25 of Dataset #1\n",
            "[INFO] Processing the Chunk #26 of Dataset #1\n",
            "[INFO] Processing the Chunk #27 of Dataset #1\n",
            "[INFO] Processing the Chunk #28 of Dataset #1\n",
            "[INFO] Processing the Chunk #29 of Dataset #1\n",
            "[INFO] Processing the Chunk #30 of Dataset #1\n",
            "[INFO] Processing the Chunk #31 of Dataset #1\n",
            "[INFO] Processing the Chunk #32 of Dataset #1\n",
            "[INFO] Processing the Chunk #33 of Dataset #1\n",
            "[INFO] Processing the Chunk #34 of Dataset #1\n"
          ],
          "name": "stdout"
        },
        {
          "output_type": "stream",
          "text": [
            "/usr/local/lib/python3.6/dist-packages/IPython/core/interactiveshell.py:2718: DtypeWarning: Columns (59,60,61,62) have mixed types.Specify dtype option on import or set low_memory=False.\n",
            "  interactivity=interactivity, compiler=compiler, result=result)\n"
          ],
          "name": "stderr"
        },
        {
          "output_type": "stream",
          "text": [
            "[INFO] Processing the Chunk #35 of Dataset #1\n",
            "[INFO] Processing the Chunk #36 of Dataset #1\n",
            "[INFO] Processing the Chunk #37 of Dataset #1\n",
            "[INFO] Processing the Chunk #38 of Dataset #1\n"
          ],
          "name": "stdout"
        },
        {
          "output_type": "stream",
          "text": [
            "/usr/local/lib/python3.6/dist-packages/IPython/core/interactiveshell.py:2718: DtypeWarning: Columns (59,60,61,62) have mixed types.Specify dtype option on import or set low_memory=False.\n",
            "  interactivity=interactivity, compiler=compiler, result=result)\n"
          ],
          "name": "stderr"
        },
        {
          "output_type": "stream",
          "text": [
            "[INFO] Processing the Chunk #1 of Dataset #2\n",
            "[INFO] Processing the Chunk #2 of Dataset #2\n",
            "[INFO] Processing the Chunk #3 of Dataset #2\n"
          ],
          "name": "stdout"
        },
        {
          "output_type": "stream",
          "text": [
            "/usr/local/lib/python3.6/dist-packages/IPython/core/interactiveshell.py:2718: DtypeWarning: Columns (59,60,61,62) have mixed types.Specify dtype option on import or set low_memory=False.\n",
            "  interactivity=interactivity, compiler=compiler, result=result)\n"
          ],
          "name": "stderr"
        },
        {
          "output_type": "stream",
          "text": [
            "[INFO] Processing the Chunk #4 of Dataset #2\n",
            "[INFO] Processing the Chunk #5 of Dataset #2\n",
            "[INFO] Processing the Chunk #6 of Dataset #2\n",
            "[INFO] Processing the Chunk #7 of Dataset #2\n",
            "[INFO] Processing the Chunk #8 of Dataset #2\n",
            "[INFO] Processing the Chunk #9 of Dataset #2\n",
            "[INFO] Processing the Chunk #10 of Dataset #2\n",
            "[INFO] Processing the Chunk #11 of Dataset #2\n"
          ],
          "name": "stdout"
        },
        {
          "output_type": "stream",
          "text": [
            "/usr/local/lib/python3.6/dist-packages/IPython/core/interactiveshell.py:2718: DtypeWarning: Columns (59,60,61,62) have mixed types.Specify dtype option on import or set low_memory=False.\n",
            "  interactivity=interactivity, compiler=compiler, result=result)\n"
          ],
          "name": "stderr"
        },
        {
          "output_type": "stream",
          "text": [
            "[INFO] Processing the Chunk #12 of Dataset #2\n"
          ],
          "name": "stdout"
        },
        {
          "output_type": "stream",
          "text": [
            "/usr/local/lib/python3.6/dist-packages/IPython/core/interactiveshell.py:2718: DtypeWarning: Columns (59,60,61,62) have mixed types.Specify dtype option on import or set low_memory=False.\n",
            "  interactivity=interactivity, compiler=compiler, result=result)\n"
          ],
          "name": "stderr"
        },
        {
          "output_type": "stream",
          "text": [
            "[INFO] Processing the Chunk #13 of Dataset #2\n",
            "[INFO] Processing the Chunk #14 of Dataset #2\n",
            "[INFO] Processing the Chunk #15 of Dataset #2\n",
            "[INFO] Processing the Chunk #16 of Dataset #2\n",
            "[INFO] Processing the Chunk #17 of Dataset #2\n",
            "[INFO] Processing the Chunk #18 of Dataset #2\n"
          ],
          "name": "stdout"
        },
        {
          "output_type": "stream",
          "text": [
            "/usr/local/lib/python3.6/dist-packages/IPython/core/interactiveshell.py:2718: DtypeWarning: Columns (59,60,61,62) have mixed types.Specify dtype option on import or set low_memory=False.\n",
            "  interactivity=interactivity, compiler=compiler, result=result)\n"
          ],
          "name": "stderr"
        },
        {
          "output_type": "stream",
          "text": [
            "[INFO] Processing the Chunk #19 of Dataset #2\n",
            "[INFO] Processing the Chunk #20 of Dataset #2\n",
            "[INFO] Processing the Chunk #21 of Dataset #2\n",
            "[INFO] Processing the Chunk #22 of Dataset #2\n",
            "[INFO] Processing the Chunk #23 of Dataset #2\n",
            "[INFO] Processing the Chunk #24 of Dataset #2\n",
            "[INFO] Processing the Chunk #25 of Dataset #2\n",
            "[INFO] Processing the Chunk #26 of Dataset #2\n",
            "[INFO] Processing the Chunk #27 of Dataset #2\n",
            "[INFO] Processing the Chunk #28 of Dataset #2\n",
            "[INFO] Processing the Chunk #29 of Dataset #2\n",
            "[INFO] Processing the Chunk #30 of Dataset #2\n",
            "[INFO] Processing the Chunk #31 of Dataset #2\n",
            "[INFO] Processing the Chunk #32 of Dataset #2\n",
            "[INFO] Processing the Chunk #33 of Dataset #2\n",
            "[INFO] Processing the Chunk #34 of Dataset #2\n",
            "[INFO] Processing the Chunk #1 of Dataset #3\n"
          ],
          "name": "stdout"
        },
        {
          "output_type": "stream",
          "text": [
            "/usr/local/lib/python3.6/dist-packages/IPython/core/interactiveshell.py:2718: DtypeWarning: Columns (59,60,61,62) have mixed types.Specify dtype option on import or set low_memory=False.\n",
            "  interactivity=interactivity, compiler=compiler, result=result)\n"
          ],
          "name": "stderr"
        },
        {
          "output_type": "stream",
          "text": [
            "[INFO] Processing the Chunk #2 of Dataset #3\n",
            "[INFO] Processing the Chunk #3 of Dataset #3\n"
          ],
          "name": "stdout"
        },
        {
          "output_type": "stream",
          "text": [
            "/usr/local/lib/python3.6/dist-packages/IPython/core/interactiveshell.py:2718: DtypeWarning: Columns (59,60,61,62) have mixed types.Specify dtype option on import or set low_memory=False.\n",
            "  interactivity=interactivity, compiler=compiler, result=result)\n"
          ],
          "name": "stderr"
        },
        {
          "output_type": "stream",
          "text": [
            "[INFO] Processing the Chunk #4 of Dataset #3\n"
          ],
          "name": "stdout"
        },
        {
          "output_type": "stream",
          "text": [
            "/usr/local/lib/python3.6/dist-packages/IPython/core/interactiveshell.py:2718: DtypeWarning: Columns (59,60,61,62) have mixed types.Specify dtype option on import or set low_memory=False.\n",
            "  interactivity=interactivity, compiler=compiler, result=result)\n"
          ],
          "name": "stderr"
        },
        {
          "output_type": "stream",
          "text": [
            "[INFO] Processing the Chunk #5 of Dataset #3\n",
            "[INFO] Processing the Chunk #6 of Dataset #3\n",
            "[INFO] Processing the Chunk #7 of Dataset #3\n",
            "[INFO] Processing the Chunk #8 of Dataset #3\n",
            "[INFO] Processing the Chunk #9 of Dataset #3\n",
            "[INFO] Processing the Chunk #10 of Dataset #3\n",
            "[INFO] Processing the Chunk #11 of Dataset #3\n",
            "[INFO] Processing the Chunk #12 of Dataset #3\n"
          ],
          "name": "stdout"
        },
        {
          "output_type": "stream",
          "text": [
            "/usr/local/lib/python3.6/dist-packages/IPython/core/interactiveshell.py:2718: DtypeWarning: Columns (59,60,61,62) have mixed types.Specify dtype option on import or set low_memory=False.\n",
            "  interactivity=interactivity, compiler=compiler, result=result)\n"
          ],
          "name": "stderr"
        },
        {
          "output_type": "stream",
          "text": [
            "[INFO] Processing the Chunk #13 of Dataset #3\n",
            "[INFO] Processing the Chunk #14 of Dataset #3\n"
          ],
          "name": "stdout"
        },
        {
          "output_type": "stream",
          "text": [
            "/usr/local/lib/python3.6/dist-packages/IPython/core/interactiveshell.py:2718: DtypeWarning: Columns (59,60,61,62) have mixed types.Specify dtype option on import or set low_memory=False.\n",
            "  interactivity=interactivity, compiler=compiler, result=result)\n"
          ],
          "name": "stderr"
        },
        {
          "output_type": "stream",
          "text": [
            "[INFO] Processing the Chunk #15 of Dataset #3\n"
          ],
          "name": "stdout"
        },
        {
          "output_type": "stream",
          "text": [
            "/usr/local/lib/python3.6/dist-packages/IPython/core/interactiveshell.py:2718: DtypeWarning: Columns (59,60,61,62) have mixed types.Specify dtype option on import or set low_memory=False.\n",
            "  interactivity=interactivity, compiler=compiler, result=result)\n"
          ],
          "name": "stderr"
        },
        {
          "output_type": "stream",
          "text": [
            "[INFO] Processing the Chunk #16 of Dataset #3\n",
            "[INFO] Processing the Chunk #17 of Dataset #3\n",
            "[INFO] Processing the Chunk #18 of Dataset #3\n",
            "[INFO] Processing the Chunk #19 of Dataset #3\n"
          ],
          "name": "stdout"
        }
      ]
    },
    {
      "cell_type": "code",
      "metadata": {
        "colab": {
          "base_uri": "https://localhost:8080/"
        },
        "id": "-kVsBnH2Pq9Q",
        "outputId": "fb2d1d25-2117-43a9-b943-e10c54714d12"
      },
      "source": [
        "for key, value in moving_dict.items():\n",
        "  print(f\"{key} : {value}\\n\")"
      ],
      "execution_count": 11,
      "outputs": [
        {
          "output_type": "stream",
          "text": [
            "rev_3dv2 : {'min': -14.0, 'max': 3526.84, 'mean': 0.8281484860246667, 'std': 10.519036680643051}\n",
            "\n",
            "sends_since_last_open : {'min': 0, 'max': 182, 'mean': 11.614258710460234, 'std': 15.658222596850884}\n",
            "\n",
            "message_size : {'min': 80267, 'max': 354737, 'mean': 153750.9570297518, 'std': 40514.58888464764}\n",
            "\n",
            "retention_score : {'min': 0.15384615384615385, 'max': 28.0, 'mean': 12.025238347455499, 'std': 11.479056910150538}\n",
            "\n",
            "frequency_score : {'min': 0, 'max': 163, 'mean': 16.37320307943908, 'std': 21.918304730832393}\n",
            "\n",
            "sent_hm_numeric : {'min': 0.0, 'max': 23.183333333333334, 'mean': 16.926774430085377, 'std': 4.666712228630996}\n",
            "\n",
            "sent_dayofweek : {'min': 0, 'max': 6, 'mean': 2.8199950563185165, 'std': 2.1693128901977192}\n",
            "\n",
            "sent_week : {'min': 0, 'max': 4, 'mean': 1.9418937306569122, 'std': 1.4402637267866456}\n",
            "\n",
            "sent_month : {'min': 1, 'max': 12, 'mean': 9.476696887296637, 'std': 2.2838700061014556}\n",
            "\n",
            "discount : {'min': 0, 'max': 75, 'mean': 14.385221859553527, 'std': 21.095893062976085}\n",
            "\n"
          ],
          "name": "stdout"
        }
      ]
    }
  ]
}