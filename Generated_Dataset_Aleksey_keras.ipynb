{
  "nbformat": 4,
  "nbformat_minor": 0,
  "metadata": {
    "colab": {
      "name": "Generated_Dataset_Aleksey_keras.ipynb",
      "provenance": [],
      "collapsed_sections": [],
      "toc_visible": true,
      "include_colab_link": true
    },
    "kernelspec": {
      "name": "python3",
      "display_name": "Python 3"
    },
    "accelerator": "GPU"
  },
  "cells": [
    {
      "cell_type": "markdown",
      "metadata": {
        "id": "view-in-github",
        "colab_type": "text"
      },
      "source": [
        "<a href=\"https://colab.research.google.com/github/fellowship/deep-and-wide-bandit/blob/dev/Generated_Dataset_Aleksey_keras.ipynb\" target=\"_parent\"><img src=\"https://colab.research.google.com/assets/colab-badge.svg\" alt=\"Open In Colab\"/></a>"
      ]
    },
    {
      "cell_type": "markdown",
      "metadata": {
        "id": "APMFc3DBzZx2"
      },
      "source": [
        "# Package Imports"
      ]
    },
    {
      "cell_type": "code",
      "metadata": {
        "colab": {
          "base_uri": "https://localhost:8080/",
          "height": 35
        },
        "id": "Xv4ks7Mc0A8A",
        "outputId": "d211d5b7-c99a-4be7-dfe5-8ac82a0ae041"
      },
      "source": [
        "import tensorflow as tf\n",
        "tf.test.gpu_device_name()"
      ],
      "execution_count": 1,
      "outputs": [
        {
          "output_type": "execute_result",
          "data": {
            "application/vnd.google.colaboratory.intrinsic+json": {
              "type": "string"
            },
            "text/plain": [
              "'/device:GPU:0'"
            ]
          },
          "metadata": {
            "tags": []
          },
          "execution_count": 1
        }
      ]
    },
    {
      "cell_type": "code",
      "metadata": {
        "colab": {
          "base_uri": "https://localhost:8080/"
        },
        "id": "SlVg5b3-1MDp",
        "outputId": "b4f27413-1421-4daa-dbcc-265bedd6ec49"
      },
      "source": [
        "#Mount Google Drive\n",
        "from google.colab import drive\n",
        "drive.mount('/content/drive')"
      ],
      "execution_count": 2,
      "outputs": [
        {
          "output_type": "stream",
          "text": [
            "Mounted at /content/drive\n"
          ],
          "name": "stdout"
        }
      ]
    },
    {
      "cell_type": "code",
      "metadata": {
        "id": "tCzbE5P81Pnk"
      },
      "source": [
        "from pathlib import Path\n",
        "import pandas as pd\n",
        "import numpy as np\n",
        "import re\n",
        "import json\n",
        "import pickle as pkl\n",
        "import gc\n",
        "from functools import reduce\n",
        "from collections import defaultdict\n",
        "from tqdm import tqdm\n",
        "\n",
        "%matplotlib inline\n",
        "import matplotlib.pyplot as plt\n",
        "\n",
        "import random\n",
        "import seaborn as sns\n",
        "from pprint import pprint\n",
        "from sklearn.metrics import confusion_matrix\n",
        "\n",
        "from IPython.core.interactiveshell import InteractiveShell  \n",
        "InteractiveShell.ast_node_interactivity = \"all\"\n",
        "\n",
        "#Makes panda and numpy easier to read\n",
        "pd.set_option('display.float_format', lambda x: '%.3f' % x)\n",
        "np.set_printoptions(precision=3, suppress=True)"
      ],
      "execution_count": 3,
      "outputs": []
    },
    {
      "cell_type": "markdown",
      "metadata": {
        "id": "bSmePRcqzc9r"
      },
      "source": [
        "# Importing the Data"
      ]
    },
    {
      "cell_type": "code",
      "metadata": {
        "id": "7GL8gR9W8Rd7"
      },
      "source": [
        "#Initialize a control variable that determines whether we will import data\n",
        "reexport_var = False\n",
        "project_folder = Path(\"/content/drive/MyDrive/Bandit_Project/generated_data_4_project\")\n",
        "train_path = project_folder/\"train.csv\"\n",
        "val_path = project_folder/\"val.csv\"\n",
        "test_path = project_folder/\"test.csv\""
      ],
      "execution_count": 4,
      "outputs": []
    },
    {
      "cell_type": "code",
      "metadata": {
        "id": "XOIU2Kk51X3w"
      },
      "source": [
        "if reexport_var:\n",
        "  input_file = Path(\"/content/drive/MyDrive/Bandit_Project/BanditsData/generated4.csv\")\n",
        "  df = pd.read_csv(input_file, header=[0])\n",
        "\n",
        "  #Subtract the optimal_action by 1 so as to make them compatible with tf.estimator\n",
        "  df[\"optimal_action\"] = df[\"optimal_action\"] - 1\n",
        "  df.head()"
      ],
      "execution_count": 5,
      "outputs": []
    },
    {
      "cell_type": "code",
      "metadata": {
        "id": "_ji1YxSszszZ"
      },
      "source": [
        "if reexport_var:\n",
        "  #Splitting into training & test set - 60-20-20 split\n",
        "  train_split_index = int(0.6 * len(df))\n",
        "  val_split_index = int(0.8 * len(df))\n",
        "\n",
        "  df_temp = df.copy()\n",
        "  df_temp = df_temp.sample(frac=1, random_state=42).reset_index()\n",
        "\n",
        "  train_df = df_temp.loc[:train_split_index, :]\n",
        "  val_df = df_temp.loc[train_split_index:val_split_index, :]\n",
        "  test_df = df_temp.loc[val_split_index:, :]\n",
        "\n",
        "  #Printing the dataframes\n",
        "  print(f\"[INFO] The training dataframe has {len(train_df)} instances from indices {0} to {train_split_index-1}\")\n",
        "  train_df.head()\n",
        "  print(f\"[INFO] The validation dataframe has {len(val_df)} instances from indices {train_split_index} to {val_split_index - 1}\")\n",
        "  val_df.head()\n",
        "  print(f\"[INFO] The training dataframe has {len(test_df)} instances from indices {val_split_index} to {len(df)}\")\n",
        "  test_df.head()\n",
        "\n",
        "  #Export training and test set into separate CSV files\n",
        "  train_df.to_csv(train_path, index=False, header=True)\n",
        "  val_df.to_csv(val_path, index=False, header=True)\n",
        "  test_df.to_csv(test_path, index=False, header=True)"
      ],
      "execution_count": 6,
      "outputs": []
    },
    {
      "cell_type": "code",
      "metadata": {
        "colab": {
          "base_uri": "https://localhost:8080/"
        },
        "id": "CCbTJC0T-M5E",
        "outputId": "8cb3ac47-8c9e-4fed-e879-6f6ff9faa627"
      },
      "source": [
        "print(f\"[INFO] Does training data exist? {train_path.exists()}\")\n",
        "print(f\"[INFO] Does val data exist? {val_path.exists()}\")\n",
        "print(f\"[INFO] Does test data exist? {test_path.exists()}\")"
      ],
      "execution_count": 7,
      "outputs": [
        {
          "output_type": "stream",
          "text": [
            "[INFO] Does training data exist? True\n",
            "[INFO] Does val data exist? True\n",
            "[INFO] Does test data exist? True\n"
          ],
          "name": "stdout"
        }
      ]
    },
    {
      "cell_type": "markdown",
      "metadata": {
        "id": "Xhg07ElKzfgG"
      },
      "source": [
        "# Preparing Dataset for evaluation"
      ]
    },
    {
      "cell_type": "code",
      "metadata": {
        "id": "BGKItoJb12kP"
      },
      "source": [
        "#Given a df patterns, convert them to DL\n",
        "def df_to_dataloader(file_path, feature_columns, target, batch_size=32, shuffle=True, subtract=False):\n",
        "  \n",
        "  use_cols = feature_columns + [target]\n",
        "  dataframe = pd.read_csv(file_path, usecols=use_cols)[use_cols]\n",
        "  labels = dataframe.pop(target)\n",
        "  if subtract:\n",
        "    labels -= 1\n",
        "  labels = tf.one_hot(labels, depth=10)\n",
        "  ds = tf.data.Dataset.from_tensor_slices((dict(dataframe), labels))\n",
        "  if shuffle:\n",
        "    ds = ds.shuffle(buffer_size=len(dataframe))\n",
        "  dl = ds.batch(batch_size)\n",
        "  return dl"
      ],
      "execution_count": 8,
      "outputs": []
    },
    {
      "cell_type": "code",
      "metadata": {
        "id": "HRNgRMezTs-5"
      },
      "source": [
        "#Given CSV file patterns, convert them to DL\n",
        "def csv_to_dataloader(file_pattern, feature_cols, target_col, shuffle=True, \n",
        "                       batch_size=1024, n_epochs = None):\n",
        "  \n",
        "  select_cols = feature_cols + [target_col]\n",
        "  return tf.data.experimental.make_csv_dataset(file_pattern = file_pattern, \n",
        "                                             batch_size = batch_size,\n",
        "                                             label_name = target_col,\n",
        "                                             select_columns = select_cols,\n",
        "                                             header=True, \n",
        "                                             num_epochs=n_epochs,\n",
        "                                             shuffle=shuffle,  \n",
        "                                             shuffle_seed=42,\n",
        "                                             ignore_errors=True)"
      ],
      "execution_count": 9,
      "outputs": []
    },
    {
      "cell_type": "code",
      "metadata": {
        "colab": {
          "base_uri": "https://localhost:8080/"
        },
        "id": "vfGiTQQb8ibn",
        "outputId": "556a8f2c-4549-468a-ce9b-d7c7b0ae9886"
      },
      "source": [
        "batch_size=2048\n",
        "n_epochs=500\n",
        "\n",
        "feature_columns = [\"user_id\", \"user_feature_1\", \"user_feature_2\", \"campaign_id\", \n",
        "\"campaign_feature_1\", \"campaign_feature_2\"]\n",
        "target_column = \"optimal_action\"\n",
        "\n",
        "train_dl = df_to_dataloader(train_path, feature_columns, target_column, batch_size=batch_size)\n",
        "val_dl = df_to_dataloader(val_path, feature_columns, target_column, batch_size=batch_size)\n",
        "test_dl = df_to_dataloader(test_path, feature_columns, target_column, shuffle = False, batch_size=batch_size)\n",
        "\n",
        "#train_dl = csv_to_dataloader(str(train_path), feature_columns, target_column, batch_size=batch_size, n_epochs = n_epochs)\n",
        "#val_dl = csv_to_dataloader(str(val_path), feature_columns, target_column, batch_size=batch_size, n_epochs = n_epochs)\n",
        "#test_dl = csv_to_dataloader(str(test_path), feature_columns, target_column, shuffle = False, batch_size=batch_size, n_epochs = n_epochs)\n",
        "\n",
        "print(\"[INFO] Train dataloader:\")\n",
        "pprint(train_dl)\n",
        "print(\"[INFO] Val dataloader:\")\n",
        "pprint(val_dl)\n",
        "print(\"[INFO] Test dataloader:\")\n",
        "pprint(test_dl)"
      ],
      "execution_count": 10,
      "outputs": [
        {
          "output_type": "stream",
          "text": [
            "[INFO] Train dataloader:\n",
            "<BatchDataset shapes: ({user_id: (None,), user_feature_1: (None,), user_feature_2: (None,), campaign_id: (None,), campaign_feature_1: (None,), campaign_feature_2: (None,)}, (None, 10)), types: ({user_id: tf.int64, user_feature_1: tf.float64, user_feature_2: tf.float64, campaign_id: tf.int64, campaign_feature_1: tf.float64, campaign_feature_2: tf.float64}, tf.float32)>\n",
            "[INFO] Val dataloader:\n",
            "<BatchDataset shapes: ({user_id: (None,), user_feature_1: (None,), user_feature_2: (None,), campaign_id: (None,), campaign_feature_1: (None,), campaign_feature_2: (None,)}, (None, 10)), types: ({user_id: tf.int64, user_feature_1: tf.float64, user_feature_2: tf.float64, campaign_id: tf.int64, campaign_feature_1: tf.float64, campaign_feature_2: tf.float64}, tf.float32)>\n",
            "[INFO] Test dataloader:\n",
            "<BatchDataset shapes: ({user_id: (None,), user_feature_1: (None,), user_feature_2: (None,), campaign_id: (None,), campaign_feature_1: (None,), campaign_feature_2: (None,)}, (None, 10)), types: ({user_id: tf.int64, user_feature_1: tf.float64, user_feature_2: tf.float64, campaign_id: tf.int64, campaign_feature_1: tf.float64, campaign_feature_2: tf.float64}, tf.float32)>\n"
          ],
          "name": "stdout"
        }
      ]
    },
    {
      "cell_type": "markdown",
      "metadata": {
        "id": "7yxYAw5-5dgH"
      },
      "source": [
        "# Creating TF Feature Columns"
      ]
    },
    {
      "cell_type": "markdown",
      "metadata": {
        "id": "Fc7jlP2c3bi8"
      },
      "source": [
        "## Numeric"
      ]
    },
    {
      "cell_type": "code",
      "metadata": {
        "id": "HkJb_Php3qaR"
      },
      "source": [
        "#Initialize\n",
        "numeric_feature_columns = []\n",
        "numeric_feature_column_inputs = {}\n",
        "numeric_df_col_names = [\"user_feature_1\", \"user_feature_2\", \n",
        "                        \"campaign_feature_1\", \"campaign_feature_2\"]\n",
        "\n",
        "for col_name in numeric_df_col_names:\n",
        "  tf_nfc = tf.feature_column.numeric_column(col_name)\n",
        "  numeric_feature_columns.append(tf_nfc)\n",
        "  numeric_feature_column_inputs[col_name] = tf.keras.Input(shape=(), name=col_name)"
      ],
      "execution_count": 11,
      "outputs": []
    },
    {
      "cell_type": "markdown",
      "metadata": {
        "id": "8OBaABIF5VMl"
      },
      "source": [
        "## Embedding\n",
        "\n"
      ]
    },
    {
      "cell_type": "code",
      "metadata": {
        "id": "RRUOexmo5orU"
      },
      "source": [
        "#Initialize\n",
        "embedding_feature_columns = []\n",
        "embedding_feature_column_inputs = {}\n",
        "\n",
        "user_id = tf.feature_column.categorical_column_with_hash_bucket(\"user_id\", hash_bucket_size=1000, dtype=tf.int64)\n",
        "campaign_id = tf.feature_column.categorical_column_with_hash_bucket(\"campaign_id\", hash_bucket_size=100, dtype=tf.int64)\n",
        "\n",
        "user_id_embedding = tf.feature_column.embedding_column(user_id, dimension=16)\n",
        "embedding_feature_columns.append(user_id_embedding)\n",
        "embedding_feature_column_inputs[\"user_id\"] = tf.keras.Input(shape=(), name=\"user_id\", dtype=tf.int64)\n",
        "\n",
        "campaign_id_embedding = tf.feature_column.embedding_column(campaign_id, dimension=7)\n",
        "embedding_feature_columns.append(campaign_id_embedding)\n",
        "embedding_feature_column_inputs[\"campaign_id\"] = tf.keras.Input(shape=(), name=\"campaign_id\", dtype=tf.int64)"
      ],
      "execution_count": 12,
      "outputs": []
    },
    {
      "cell_type": "markdown",
      "metadata": {
        "id": "XVHYdGYd5mBx"
      },
      "source": [
        "## Crossed Columns"
      ]
    },
    {
      "cell_type": "code",
      "metadata": {
        "id": "hL8M3Rf47M1E"
      },
      "source": [
        "user_campaign_cross = tf.feature_column.crossed_column([\"user_id\", \"campaign_id\"], hash_bucket_size=100000)\n",
        "user_campaign_cross_col = [tf.feature_column.indicator_column(user_campaign_cross)]"
      ],
      "execution_count": 13,
      "outputs": []
    },
    {
      "cell_type": "code",
      "metadata": {
        "id": "dUzFoe_TB-wE"
      },
      "source": [
        "#Defining the inputs that will be fed to each model\n",
        "#For W only —> numeric used as it is, categorical used in crosses\n",
        "#For D only —> numeric used as it is, categorical used through embeddings\n",
        "#For W&D —> numeric + categorical embedding IN deep, categorical crosses in Wide\n",
        "inputs = {**numeric_feature_column_inputs, **embedding_feature_column_inputs}"
      ],
      "execution_count": 14,
      "outputs": []
    },
    {
      "cell_type": "markdown",
      "metadata": {
        "id": "QYjRlJP68d2o"
      },
      "source": [
        "# Models"
      ]
    },
    {
      "cell_type": "code",
      "metadata": {
        "id": "G0CSYr4ld4rv"
      },
      "source": [
        "#Results CSV file to save predictions from each of the models\n",
        "#results = pd.DataFrame()\n",
        "result_csv_path = project_folder/\"results.csv\""
      ],
      "execution_count": 15,
      "outputs": []
    },
    {
      "cell_type": "code",
      "metadata": {
        "colab": {
          "base_uri": "https://localhost:8080/"
        },
        "id": "FIr5KAf7-Dc0",
        "outputId": "dea8382b-6ccd-4a07-8053-3f90a4fa2aef"
      },
      "source": [
        "models_dir = project_folder/\"models\"\n",
        "models_dir.mkdir(exist_ok=True)\n",
        "\n",
        "#Create the folders to save the checkpoints\n",
        "wmodel_dir = (models_dir/\"Wide\")\n",
        "dmodel_dir = (models_dir/\"Deep\")\n",
        "wdmodel_dir = (models_dir/\"W&D\")\n",
        "bayesian_dir = (models_dir/\"Bayesian\")\n",
        "\n",
        "wmodel_dir.mkdir(exist_ok=True)\n",
        "print(f\"[INFO] Model folder created for wide only model: {wmodel_dir.exists()}\")\n",
        "dmodel_dir.mkdir(exist_ok=True)\n",
        "print(f\"[INFO] Model folder created for deep only model: {dmodel_dir.exists()}\")\n",
        "wdmodel_dir.mkdir(exist_ok=True)\n",
        "print(f\"[INFO] Model folder created for wide + deep model: {wdmodel_dir.exists()}\")\n",
        "bayesian_dir.mkdir(exist_ok=True)\n",
        "print(f\"[INFO] Model folder created for Bayesian wide + deep model: {bayesian_dir.exists()}\")\n",
        "\n",
        "#Setting hyperparams\n",
        "lr = 1e-3\n",
        "gc.collect()"
      ],
      "execution_count": 16,
      "outputs": [
        {
          "output_type": "stream",
          "text": [
            "[INFO] Model folder created for wide only model: True\n",
            "[INFO] Model folder created for deep only model: True\n",
            "[INFO] Model folder created for wide + deep model: True\n",
            "[INFO] Model folder created for Bayesian wide + deep model: True\n"
          ],
          "name": "stdout"
        },
        {
          "output_type": "execute_result",
          "data": {
            "text/plain": [
              "203"
            ]
          },
          "metadata": {
            "tags": []
          },
          "execution_count": 16
        }
      ]
    },
    {
      "cell_type": "markdown",
      "metadata": {
        "id": "gZa01re48kRt"
      },
      "source": [
        "## Wide Only Model"
      ]
    },
    {
      "cell_type": "code",
      "metadata": {
        "colab": {
          "base_uri": "https://localhost:8080/"
        },
        "id": "XPYYZ5Zw8jTp",
        "outputId": "b4888bc7-2a8a-4b54-cd74-66ecc41df541"
      },
      "source": [
        "wide_only_feature_columns = numeric_feature_columns + user_campaign_cross_col\n",
        "wmodel_path = wmodel_dir/\"wmodel.h5\"\n",
        "wmodel_checkpoint_path = wmodel_dir/\"wmodel_checkpoint.h5\"\n",
        "\n",
        "#simple early stopping\n",
        "w_es = tf.keras.callbacks.EarlyStopping(monitor='val_loss', mode='min', verbose=1, patience=5)\n",
        "w_mc = tf.keras.callbacks.ModelCheckpoint(str(wmodel_checkpoint_path), monitor='val_accuracy', mode='max', verbose=1, save_best_only=True)\n",
        "\n",
        "#Build the Wide Only Model\n",
        "w_feature_layer = tf.keras.layers.DenseFeatures(wide_only_feature_columns, name=\"dense_feature_layer\")(inputs)\n",
        "w_linear_layer = tf.keras.layers.Dense(10, activation=\"softmax\", name=\"wide_output\")(w_feature_layer)\n",
        "wmodel = tf.keras.Model(inputs = inputs, outputs=w_linear_layer)\n",
        "wmodel.compile(optimizer=\"adam\", \n",
        "               loss=\"categorical_crossentropy\", \n",
        "               metrics=['accuracy', tf.keras.metrics.AUC()])\n",
        "wmodel.summary()"
      ],
      "execution_count": 17,
      "outputs": [
        {
          "output_type": "stream",
          "text": [
            "Model: \"model\"\n",
            "__________________________________________________________________________________________________\n",
            "Layer (type)                    Output Shape         Param #     Connected to                     \n",
            "==================================================================================================\n",
            "campaign_feature_1 (InputLayer) [(None,)]            0                                            \n",
            "__________________________________________________________________________________________________\n",
            "campaign_feature_2 (InputLayer) [(None,)]            0                                            \n",
            "__________________________________________________________________________________________________\n",
            "campaign_id (InputLayer)        [(None,)]            0                                            \n",
            "__________________________________________________________________________________________________\n",
            "user_feature_1 (InputLayer)     [(None,)]            0                                            \n",
            "__________________________________________________________________________________________________\n",
            "user_feature_2 (InputLayer)     [(None,)]            0                                            \n",
            "__________________________________________________________________________________________________\n",
            "user_id (InputLayer)            [(None,)]            0                                            \n",
            "__________________________________________________________________________________________________\n",
            "dense_feature_layer (DenseFeatu (None, 100004)       0           campaign_feature_1[0][0]         \n",
            "                                                                 campaign_feature_2[0][0]         \n",
            "                                                                 campaign_id[0][0]                \n",
            "                                                                 user_feature_1[0][0]             \n",
            "                                                                 user_feature_2[0][0]             \n",
            "                                                                 user_id[0][0]                    \n",
            "__________________________________________________________________________________________________\n",
            "wide_output (Dense)             (None, 10)           1000050     dense_feature_layer[0][0]        \n",
            "==================================================================================================\n",
            "Total params: 1,000,050\n",
            "Trainable params: 1,000,050\n",
            "Non-trainable params: 0\n",
            "__________________________________________________________________________________________________\n"
          ],
          "name": "stdout"
        }
      ]
    },
    {
      "cell_type": "code",
      "metadata": {
        "colab": {
          "base_uri": "https://localhost:8080/",
          "height": 52
        },
        "id": "eSNu8LszFaPs",
        "outputId": "98223bda-f254-47c4-db72-36deebe485aa"
      },
      "source": [
        "\"\"\"\n",
        "H = wmodel.fit(train_dl, batch_size=batch_size, epochs=n_epochs, \n",
        "               validation_data=val_dl, shuffle=False, \n",
        "               validation_batch_size=batch_size, callbacks=[w_es, w_mc])\n",
        "\"\"\""
      ],
      "execution_count": 18,
      "outputs": [
        {
          "output_type": "execute_result",
          "data": {
            "application/vnd.google.colaboratory.intrinsic+json": {
              "type": "string"
            },
            "text/plain": [
              "'\\nH = wmodel.fit(train_dl, batch_size=batch_size, epochs=n_epochs, \\n               validation_data=val_dl, shuffle=False, \\n               validation_batch_size=batch_size, callbacks=[w_es, w_mc])\\n'"
            ]
          },
          "metadata": {
            "tags": []
          },
          "execution_count": 18
        }
      ]
    },
    {
      "cell_type": "code",
      "metadata": {
        "colab": {
          "base_uri": "https://localhost:8080/",
          "height": 86
        },
        "id": "tiL8X2_qbuOa",
        "outputId": "53965877-55de-4465-ac81-7246f9b9fb2a"
      },
      "source": [
        "\"\"\"\n",
        "#Plot the training & validation loss/accuracy curve\n",
        "plt.figure()\n",
        "plt.style.use('ggplot')\n",
        "plt.plot(H.history['accuracy'], label='Training Accuracy')\n",
        "plt.plot(H.history['val_accuracy'], label='Validation Accuracy')\n",
        "plt.plot(H.history['loss'], label='Training Loss')\n",
        "plt.plot(H.history['val_loss'], label='Validation Loss')\n",
        "plt.legend()\n",
        "plt.title('Accuracy/Loss vs Epochs')\n",
        "plt.xlabel('Epoch Number')\n",
        "plt.ylabel('Accuracy/Loss')\n",
        "plt.show()\n",
        "\"\"\""
      ],
      "execution_count": 19,
      "outputs": [
        {
          "output_type": "execute_result",
          "data": {
            "application/vnd.google.colaboratory.intrinsic+json": {
              "type": "string"
            },
            "text/plain": [
              "\"\\n#Plot the training & validation loss/accuracy curve\\nplt.figure()\\nplt.style.use('ggplot')\\nplt.plot(H.history['accuracy'], label='Training Accuracy')\\nplt.plot(H.history['val_accuracy'], label='Validation Accuracy')\\nplt.plot(H.history['loss'], label='Training Loss')\\nplt.plot(H.history['val_loss'], label='Validation Loss')\\nplt.legend()\\nplt.title('Accuracy/Loss vs Epochs')\\nplt.xlabel('Epoch Number')\\nplt.ylabel('Accuracy/Loss')\\nplt.show()\\n\""
            ]
          },
          "metadata": {
            "tags": []
          },
          "execution_count": 19
        }
      ]
    },
    {
      "cell_type": "code",
      "metadata": {
        "colab": {
          "base_uri": "https://localhost:8080/",
          "height": 52
        },
        "id": "yViOoW1IevlE",
        "outputId": "c8d4b0d0-5b04-4cb3-b522-cba55f0a8fc2"
      },
      "source": [
        "\"\"\"\n",
        "#Generate the predictions to a variable\n",
        "wmodel_predictions = wmodel.predict(test_dl, batch_size=batch_size, verbose=1)\n",
        "results[\"wide_only\"] = np.argmax(wmodel_predictions, axis=1)\n",
        "\"\"\""
      ],
      "execution_count": 20,
      "outputs": [
        {
          "output_type": "execute_result",
          "data": {
            "application/vnd.google.colaboratory.intrinsic+json": {
              "type": "string"
            },
            "text/plain": [
              "'\\n#Generate the predictions to a variable\\nwmodel_predictions = wmodel.predict(test_dl, batch_size=batch_size, verbose=1)\\nresults[\"wide_only\"] = np.argmax(wmodel_predictions, axis=1)\\n'"
            ]
          },
          "metadata": {
            "tags": []
          },
          "execution_count": 20
        }
      ]
    },
    {
      "cell_type": "code",
      "metadata": {
        "id": "Qa3eDzcXckHc",
        "colab": {
          "base_uri": "https://localhost:8080/",
          "height": 35
        },
        "outputId": "0450065d-8ef5-49a3-ab65-e73d7580da04"
      },
      "source": [
        "\"\"\"\n",
        "wmodel.save(str(wmodel_path))\n",
        "del wmodel\n",
        "del H\n",
        "gc.collect()\n",
        "\"\"\""
      ],
      "execution_count": 21,
      "outputs": [
        {
          "output_type": "execute_result",
          "data": {
            "application/vnd.google.colaboratory.intrinsic+json": {
              "type": "string"
            },
            "text/plain": [
              "'\\nwmodel.save(str(wmodel_path))\\ndel wmodel\\ndel H\\ngc.collect()\\n'"
            ]
          },
          "metadata": {
            "tags": []
          },
          "execution_count": 21
        }
      ]
    },
    {
      "cell_type": "markdown",
      "metadata": {
        "id": "-H6t6jvnWeVy"
      },
      "source": [
        "## Deep Only Model"
      ]
    },
    {
      "cell_type": "code",
      "metadata": {
        "id": "XMVQtiRG6N2G",
        "colab": {
          "base_uri": "https://localhost:8080/"
        },
        "outputId": "6b1acb6d-9b8a-4cf2-bbb2-46c8c690162d"
      },
      "source": [
        "deep_only_feature_columns = numeric_feature_columns + embedding_feature_columns\n",
        "deep_only_hidden_units = [512, 256, 128]\n",
        "dmodel_path = dmodel_dir/\"model.h5\"\n",
        "dmodel_checkpoint_path = dmodel_dir/\"wmodel_checkpoint.h5\"\n",
        "\n",
        "#simple early stopping\n",
        "d_es = tf.keras.callbacks.EarlyStopping(monitor='val_loss', mode='min', verbose=1, patience=5)\n",
        "d_mc = tf.keras.callbacks.ModelCheckpoint(str(dmodel_checkpoint_path), monitor='val_accuracy', mode='max', verbose=1, save_best_only=True)\n",
        "\n",
        "#Build the Wide Only Model\n",
        "d_feature_layer = tf.keras.layers.DenseFeatures(deep_only_feature_columns, name=\"dense_feature_layer\")(inputs)\n",
        "d_hidden_layer_1 = tf.keras.layers.Dense(deep_only_hidden_units[0], activation=\"relu\", name=\"fc_1\")(d_feature_layer)\n",
        "d_hidden_layer_2 = tf.keras.layers.Dense(deep_only_hidden_units[1], activation=\"relu\", name=\"fc_2\")(d_hidden_layer_1)\n",
        "d_hidden_layer_3 = tf.keras.layers.Dense(deep_only_hidden_units[2], activation=\"relu\", name=\"fc_3\")(d_hidden_layer_2)\n",
        "d_output_layer = tf.keras.layers.Dense(10, activation=\"softmax\", name=\"deep_output\")(d_hidden_layer_3)\n",
        "\n",
        "dmodel = tf.keras.Model(inputs = inputs, outputs=d_output_layer)\n",
        "dmodel.compile(optimizer=\"adam\", \n",
        "               loss=\"categorical_crossentropy\", \n",
        "               metrics=['accuracy', tf.keras.metrics.AUC()])\n",
        "dmodel.summary()"
      ],
      "execution_count": 22,
      "outputs": [
        {
          "output_type": "stream",
          "text": [
            "Model: \"model_1\"\n",
            "__________________________________________________________________________________________________\n",
            "Layer (type)                    Output Shape         Param #     Connected to                     \n",
            "==================================================================================================\n",
            "campaign_feature_1 (InputLayer) [(None,)]            0                                            \n",
            "__________________________________________________________________________________________________\n",
            "campaign_feature_2 (InputLayer) [(None,)]            0                                            \n",
            "__________________________________________________________________________________________________\n",
            "campaign_id (InputLayer)        [(None,)]            0                                            \n",
            "__________________________________________________________________________________________________\n",
            "user_feature_1 (InputLayer)     [(None,)]            0                                            \n",
            "__________________________________________________________________________________________________\n",
            "user_feature_2 (InputLayer)     [(None,)]            0                                            \n",
            "__________________________________________________________________________________________________\n",
            "user_id (InputLayer)            [(None,)]            0                                            \n",
            "__________________________________________________________________________________________________\n",
            "dense_feature_layer (DenseFeatu (None, 27)           16700       campaign_feature_1[0][0]         \n",
            "                                                                 campaign_feature_2[0][0]         \n",
            "                                                                 campaign_id[0][0]                \n",
            "                                                                 user_feature_1[0][0]             \n",
            "                                                                 user_feature_2[0][0]             \n",
            "                                                                 user_id[0][0]                    \n",
            "__________________________________________________________________________________________________\n",
            "fc_1 (Dense)                    (None, 512)          14336       dense_feature_layer[0][0]        \n",
            "__________________________________________________________________________________________________\n",
            "fc_2 (Dense)                    (None, 256)          131328      fc_1[0][0]                       \n",
            "__________________________________________________________________________________________________\n",
            "fc_3 (Dense)                    (None, 128)          32896       fc_2[0][0]                       \n",
            "__________________________________________________________________________________________________\n",
            "deep_output (Dense)             (None, 10)           1290        fc_3[0][0]                       \n",
            "==================================================================================================\n",
            "Total params: 196,550\n",
            "Trainable params: 196,550\n",
            "Non-trainable params: 0\n",
            "__________________________________________________________________________________________________\n"
          ],
          "name": "stdout"
        }
      ]
    },
    {
      "cell_type": "code",
      "metadata": {
        "id": "HUuGMh9JZYQA",
        "colab": {
          "base_uri": "https://localhost:8080/",
          "height": 52
        },
        "outputId": "54a2c510-4e23-4881-c83b-25e458357668"
      },
      "source": [
        "\"\"\"\n",
        "H = dmodel.fit(train_dl, batch_size=batch_size, epochs=n_epochs, \n",
        "               validation_data=val_dl, shuffle=False, \n",
        "               validation_batch_size=batch_size, callbacks=[d_es, d_mc])\n",
        "\"\"\""
      ],
      "execution_count": 23,
      "outputs": [
        {
          "output_type": "execute_result",
          "data": {
            "application/vnd.google.colaboratory.intrinsic+json": {
              "type": "string"
            },
            "text/plain": [
              "'\\nH = dmodel.fit(train_dl, batch_size=batch_size, epochs=n_epochs, \\n               validation_data=val_dl, shuffle=False, \\n               validation_batch_size=batch_size, callbacks=[d_es, d_mc])\\n'"
            ]
          },
          "metadata": {
            "tags": []
          },
          "execution_count": 23
        }
      ]
    },
    {
      "cell_type": "code",
      "metadata": {
        "id": "ku5jmqlwd4EA",
        "colab": {
          "base_uri": "https://localhost:8080/",
          "height": 86
        },
        "outputId": "8600075f-6782-436e-b127-30f76eeacac1"
      },
      "source": [
        "\"\"\"\n",
        "#Plot the training & validation loss/accuracy curve\n",
        "plt.figure()\n",
        "plt.style.use('ggplot')\n",
        "plt.plot(H.history['accuracy'], label='Training Accuracy')\n",
        "plt.plot(H.history['val_accuracy'], label='Validation Accuracy')\n",
        "plt.plot(H.history['loss'], label='Training Loss')\n",
        "plt.plot(H.history['val_loss'], label='Validation Loss')\n",
        "plt.legend()\n",
        "plt.title('Accuracy/Loss vs Epochs')\n",
        "plt.xlabel('Epoch Number')\n",
        "plt.ylabel('Accuracy/Loss')\n",
        "plt.show()\n",
        "\"\"\""
      ],
      "execution_count": 24,
      "outputs": [
        {
          "output_type": "execute_result",
          "data": {
            "application/vnd.google.colaboratory.intrinsic+json": {
              "type": "string"
            },
            "text/plain": [
              "\"\\n#Plot the training & validation loss/accuracy curve\\nplt.figure()\\nplt.style.use('ggplot')\\nplt.plot(H.history['accuracy'], label='Training Accuracy')\\nplt.plot(H.history['val_accuracy'], label='Validation Accuracy')\\nplt.plot(H.history['loss'], label='Training Loss')\\nplt.plot(H.history['val_loss'], label='Validation Loss')\\nplt.legend()\\nplt.title('Accuracy/Loss vs Epochs')\\nplt.xlabel('Epoch Number')\\nplt.ylabel('Accuracy/Loss')\\nplt.show()\\n\""
            ]
          },
          "metadata": {
            "tags": []
          },
          "execution_count": 24
        }
      ]
    },
    {
      "cell_type": "code",
      "metadata": {
        "id": "5uESh9vMfheC",
        "colab": {
          "base_uri": "https://localhost:8080/",
          "height": 52
        },
        "outputId": "87aa9c5a-9f8a-438a-ef48-5bd1b69eadeb"
      },
      "source": [
        "\"\"\"\n",
        "#Generate the predictions to a variable\n",
        "dmodel_predictions = dmodel.predict(test_dl, batch_size=batch_size, verbose=1)\n",
        "results[\"deep_only\"] = np.argmax(dmodel_predictions, axis=1)\n",
        "\"\"\""
      ],
      "execution_count": 25,
      "outputs": [
        {
          "output_type": "execute_result",
          "data": {
            "application/vnd.google.colaboratory.intrinsic+json": {
              "type": "string"
            },
            "text/plain": [
              "'\\n#Generate the predictions to a variable\\ndmodel_predictions = dmodel.predict(test_dl, batch_size=batch_size, verbose=1)\\nresults[\"deep_only\"] = np.argmax(dmodel_predictions, axis=1)\\n'"
            ]
          },
          "metadata": {
            "tags": []
          },
          "execution_count": 25
        }
      ]
    },
    {
      "cell_type": "code",
      "metadata": {
        "id": "WFjn3TgeW9JD",
        "colab": {
          "base_uri": "https://localhost:8080/",
          "height": 35
        },
        "outputId": "705911d3-39d1-4304-eebe-92fcd573ad36"
      },
      "source": [
        "\"\"\"\n",
        "dmodel.save(str(dmodel_path))\n",
        "del dmodel\n",
        "del H\n",
        "gc.collect()\n",
        "\"\"\""
      ],
      "execution_count": 26,
      "outputs": [
        {
          "output_type": "execute_result",
          "data": {
            "application/vnd.google.colaboratory.intrinsic+json": {
              "type": "string"
            },
            "text/plain": [
              "'\\ndmodel.save(str(dmodel_path))\\ndel dmodel\\ndel H\\ngc.collect()\\n'"
            ]
          },
          "metadata": {
            "tags": []
          },
          "execution_count": 26
        }
      ]
    },
    {
      "cell_type": "markdown",
      "metadata": {
        "id": "peeUrdzMWmUA"
      },
      "source": [
        "## Wide & Deep Model: 1\n",
        "\n",
        "Wide part receives the crossed columns\n",
        "Deep part receives the numeric features & embeddings"
      ]
    },
    {
      "cell_type": "code",
      "metadata": {
        "id": "_4tu2ezGordw",
        "colab": {
          "base_uri": "https://localhost:8080/",
          "height": 936
        },
        "outputId": "4f611eec-f590-4b09-d1b3-ed905ec9e041"
      },
      "source": [
        "wide_wd_1_feature_columns = user_campaign_cross_col\n",
        "deep_wd_1_feature_columns = numeric_feature_columns + embedding_feature_columns\n",
        "\n",
        "deep_wd_1_hidden_units = [512, 256, 128]\n",
        "\n",
        "wdmodel_1_path = wdmodel_dir/\"wdmodel_1.h5\"\n",
        "wdmodel_1_checkpoint_path = wdmodel_dir/\"wdmodel_1_checkpoint.h5\"\n",
        "\n",
        "wdmodel_1 = tf.keras.models.load_model(wdmodel_1_path)\n",
        "wdmodel_1.summary()\n",
        "\"\"\"\n",
        "#simple early stopping\n",
        "wd_1_es = tf.keras.callbacks.EarlyStopping(monitor='val_loss', mode='min', verbose=1, patience=10)\n",
        "wd_1_mc = tf.keras.callbacks.ModelCheckpoint(str(wdmodel_1_checkpoint_path), monitor='val_accuracy', mode='max', verbose=1, save_best_only=True)\n",
        "\n",
        "#Build the Wide Model\n",
        "w_feature_layer = tf.keras.layers.DenseFeatures(wide_wd_1_feature_columns, name=\"wide_feature_layer\")(inputs)\n",
        "\n",
        "#Build the Deep Model\n",
        "d_feature_layer = tf.keras.layers.DenseFeatures(deep_wd_1_feature_columns, name=\"deep_feature_layer\")(inputs)\n",
        "d_hidden_layer_1 = tf.keras.layers.Dense(deep_wd_1_hidden_units[0], activation=\"relu\", name=\"deep_fc_1\")(d_feature_layer)\n",
        "d_hidden_layer_2 = tf.keras.layers.Dense(deep_wd_1_hidden_units[1], activation=\"relu\", name=\"deep_fc_2\")(d_hidden_layer_1)\n",
        "d_hidden_layer_3 = tf.keras.layers.Dense(deep_wd_1_hidden_units[2], activation=\"relu\", name=\"deep_fc_3\")(d_hidden_layer_2)\n",
        "\n",
        "#Combine the Wide & Deep\n",
        "wd_1_both = tf.keras.layers.concatenate([w_feature_layer, d_hidden_layer_3])\n",
        "wd_1_output_layer = tf.keras.layers.Dense(10, activation=\"softmax\", name=\"deep_output\")(wd_1_both)\n",
        "\n",
        "wd_1_model = tf.keras.Model(inputs = inputs, outputs=wd_1_output_layer)\n",
        "wd_1_model.compile(optimizer=\"adam\", \n",
        "               loss=\"categorical_crossentropy\", \n",
        "               metrics=['accuracy', tf.keras.metrics.AUC()])\n",
        "wd_1_model.summary()\n",
        "\"\"\""
      ],
      "execution_count": 27,
      "outputs": [
        {
          "output_type": "stream",
          "text": [
            "Model: \"model\"\n",
            "__________________________________________________________________________________________________\n",
            "Layer (type)                    Output Shape         Param #     Connected to                     \n",
            "==================================================================================================\n",
            "campaign_feature_1 (InputLayer) [(None,)]            0                                            \n",
            "__________________________________________________________________________________________________\n",
            "campaign_feature_2 (InputLayer) [(None,)]            0                                            \n",
            "__________________________________________________________________________________________________\n",
            "campaign_id (InputLayer)        [(None,)]            0                                            \n",
            "__________________________________________________________________________________________________\n",
            "user_feature_1 (InputLayer)     [(None,)]            0                                            \n",
            "__________________________________________________________________________________________________\n",
            "user_feature_2 (InputLayer)     [(None,)]            0                                            \n",
            "__________________________________________________________________________________________________\n",
            "user_id (InputLayer)            [(None,)]            0                                            \n",
            "__________________________________________________________________________________________________\n",
            "deep_feature_layer (DenseFeatur (None, 27)           16700       campaign_feature_1[0][0]         \n",
            "                                                                 campaign_feature_2[0][0]         \n",
            "                                                                 campaign_id[0][0]                \n",
            "                                                                 user_feature_1[0][0]             \n",
            "                                                                 user_feature_2[0][0]             \n",
            "                                                                 user_id[0][0]                    \n",
            "__________________________________________________________________________________________________\n",
            "deep_fc_1 (Dense)               (None, 512)          14336       deep_feature_layer[0][0]         \n",
            "__________________________________________________________________________________________________\n",
            "deep_fc_2 (Dense)               (None, 256)          131328      deep_fc_1[0][0]                  \n",
            "__________________________________________________________________________________________________\n",
            "wide_feature_layer (DenseFeatur (None, 100000)       0           campaign_feature_1[0][0]         \n",
            "                                                                 campaign_feature_2[0][0]         \n",
            "                                                                 campaign_id[0][0]                \n",
            "                                                                 user_feature_1[0][0]             \n",
            "                                                                 user_feature_2[0][0]             \n",
            "                                                                 user_id[0][0]                    \n",
            "__________________________________________________________________________________________________\n",
            "deep_fc_3 (Dense)               (None, 128)          32896       deep_fc_2[0][0]                  \n",
            "__________________________________________________________________________________________________\n",
            "concatenate (Concatenate)       (None, 100128)       0           wide_feature_layer[0][0]         \n",
            "                                                                 deep_fc_3[0][0]                  \n",
            "__________________________________________________________________________________________________\n",
            "deep_output (Dense)             (None, 10)           1001290     concatenate[0][0]                \n",
            "==================================================================================================\n",
            "Total params: 1,196,550\n",
            "Trainable params: 1,196,550\n",
            "Non-trainable params: 0\n",
            "__________________________________________________________________________________________________\n"
          ],
          "name": "stdout"
        },
        {
          "output_type": "execute_result",
          "data": {
            "application/vnd.google.colaboratory.intrinsic+json": {
              "type": "string"
            },
            "text/plain": [
              "'\\n#simple early stopping\\nwd_1_es = tf.keras.callbacks.EarlyStopping(monitor=\\'val_loss\\', mode=\\'min\\', verbose=1, patience=10)\\nwd_1_mc = tf.keras.callbacks.ModelCheckpoint(str(wdmodel_1_checkpoint_path), monitor=\\'val_accuracy\\', mode=\\'max\\', verbose=1, save_best_only=True)\\n\\n#Build the Wide Model\\nw_feature_layer = tf.keras.layers.DenseFeatures(wide_wd_1_feature_columns, name=\"wide_feature_layer\")(inputs)\\n\\n#Build the Deep Model\\nd_feature_layer = tf.keras.layers.DenseFeatures(deep_wd_1_feature_columns, name=\"deep_feature_layer\")(inputs)\\nd_hidden_layer_1 = tf.keras.layers.Dense(deep_wd_1_hidden_units[0], activation=\"relu\", name=\"deep_fc_1\")(d_feature_layer)\\nd_hidden_layer_2 = tf.keras.layers.Dense(deep_wd_1_hidden_units[1], activation=\"relu\", name=\"deep_fc_2\")(d_hidden_layer_1)\\nd_hidden_layer_3 = tf.keras.layers.Dense(deep_wd_1_hidden_units[2], activation=\"relu\", name=\"deep_fc_3\")(d_hidden_layer_2)\\n\\n#Combine the Wide & Deep\\nwd_1_both = tf.keras.layers.concatenate([w_feature_layer, d_hidden_layer_3])\\nwd_1_output_layer = tf.keras.layers.Dense(10, activation=\"softmax\", name=\"deep_output\")(wd_1_both)\\n\\nwd_1_model = tf.keras.Model(inputs = inputs, outputs=wd_1_output_layer)\\nwd_1_model.compile(optimizer=\"adam\", \\n               loss=\"categorical_crossentropy\", \\n               metrics=[\\'accuracy\\', tf.keras.metrics.AUC()])\\nwd_1_model.summary()\\n'"
            ]
          },
          "metadata": {
            "tags": []
          },
          "execution_count": 27
        }
      ]
    },
    {
      "cell_type": "code",
      "metadata": {
        "id": "dtolveIzcK0T",
        "colab": {
          "base_uri": "https://localhost:8080/",
          "height": 69
        },
        "outputId": "3a5639e9-a628-4ecc-aa81-e52ad13b92c8"
      },
      "source": [
        "\"\"\"\n",
        "#Model is already trained - load the model directly\n",
        "\n",
        "H = wd_1_model.fit(train_dl, batch_size=batch_size, epochs=n_epochs, \n",
        "               validation_data=val_dl, shuffle=False, \n",
        "               validation_batch_size=batch_size, callbacks=[wd_1_es, wd_1_mc])\n",
        "\"\"\""
      ],
      "execution_count": 28,
      "outputs": [
        {
          "output_type": "execute_result",
          "data": {
            "application/vnd.google.colaboratory.intrinsic+json": {
              "type": "string"
            },
            "text/plain": [
              "'\\n#Model is already trained - load the model directly\\n\\nH = wd_1_model.fit(train_dl, batch_size=batch_size, epochs=n_epochs, \\n               validation_data=val_dl, shuffle=False, \\n               validation_batch_size=batch_size, callbacks=[wd_1_es, wd_1_mc])\\n'"
            ]
          },
          "metadata": {
            "tags": []
          },
          "execution_count": 28
        }
      ]
    },
    {
      "cell_type": "code",
      "metadata": {
        "id": "lTkc6R5DcK_G",
        "colab": {
          "base_uri": "https://localhost:8080/",
          "height": 86
        },
        "outputId": "15d98185-0d7c-4af8-8fdb-9f1af6187815"
      },
      "source": [
        "\"\"\"\"\n",
        "#Plot the training & validation loss/accuracy curve\n",
        "plt.figure()\n",
        "plt.style.use('ggplot')\n",
        "plt.plot(H.history['accuracy'], label='Training Accuracy')\n",
        "plt.plot(H.history['val_accuracy'], label='Validation Accuracy')\n",
        "plt.plot(H.history['loss'], label='Training Loss')\n",
        "plt.plot(H.history['val_loss'], label='Validation Loss')\n",
        "plt.legend()\n",
        "plt.title('Accuracy/Loss vs Epochs')\n",
        "plt.xlabel('Epoch Number')\n",
        "plt.ylabel('Accuracy/Loss')\n",
        "plt.show()\n",
        "\"\"\""
      ],
      "execution_count": 29,
      "outputs": [
        {
          "output_type": "execute_result",
          "data": {
            "application/vnd.google.colaboratory.intrinsic+json": {
              "type": "string"
            },
            "text/plain": [
              "'\"\\n#Plot the training & validation loss/accuracy curve\\nplt.figure()\\nplt.style.use(\\'ggplot\\')\\nplt.plot(H.history[\\'accuracy\\'], label=\\'Training Accuracy\\')\\nplt.plot(H.history[\\'val_accuracy\\'], label=\\'Validation Accuracy\\')\\nplt.plot(H.history[\\'loss\\'], label=\\'Training Loss\\')\\nplt.plot(H.history[\\'val_loss\\'], label=\\'Validation Loss\\')\\nplt.legend()\\nplt.title(\\'Accuracy/Loss vs Epochs\\')\\nplt.xlabel(\\'Epoch Number\\')\\nplt.ylabel(\\'Accuracy/Loss\\')\\nplt.show()\\n'"
            ]
          },
          "metadata": {
            "tags": []
          },
          "execution_count": 29
        }
      ]
    },
    {
      "cell_type": "code",
      "metadata": {
        "id": "1Lh-scY6cmco",
        "colab": {
          "base_uri": "https://localhost:8080/",
          "height": 52
        },
        "outputId": "24775450-553d-4887-af4f-294c0f9b7973"
      },
      "source": [
        "\"\"\"\n",
        "#Generate the predictions to a variable\n",
        "wd_1_predictions = wd_1_model.predict(test_dl, batch_size=batch_size, verbose=1)\n",
        "results[\"wide_deep_1\"] = np.argmax(wd_1_predictions, axis=1)\n",
        "\"\"\""
      ],
      "execution_count": 30,
      "outputs": [
        {
          "output_type": "execute_result",
          "data": {
            "application/vnd.google.colaboratory.intrinsic+json": {
              "type": "string"
            },
            "text/plain": [
              "'\\n#Generate the predictions to a variable\\nwd_1_predictions = wd_1_model.predict(test_dl, batch_size=batch_size, verbose=1)\\nresults[\"wide_deep_1\"] = np.argmax(wd_1_predictions, axis=1)\\n'"
            ]
          },
          "metadata": {
            "tags": []
          },
          "execution_count": 30
        }
      ]
    },
    {
      "cell_type": "code",
      "metadata": {
        "id": "P4KiAgiYcoEQ",
        "colab": {
          "base_uri": "https://localhost:8080/",
          "height": 35
        },
        "outputId": "20573504-571e-4140-b5c9-8c1644fe23dc"
      },
      "source": [
        "\"\"\"\n",
        "wd_1_model.save(str(wdmodel_1_path))\n",
        "del wd_1_model\n",
        "del H\n",
        "gc.collect()\n",
        "\"\"\""
      ],
      "execution_count": 31,
      "outputs": [
        {
          "output_type": "execute_result",
          "data": {
            "application/vnd.google.colaboratory.intrinsic+json": {
              "type": "string"
            },
            "text/plain": [
              "'\\nwd_1_model.save(str(wdmodel_1_path))\\ndel wd_1_model\\ndel H\\ngc.collect()\\n'"
            ]
          },
          "metadata": {
            "tags": []
          },
          "execution_count": 31
        }
      ]
    },
    {
      "cell_type": "markdown",
      "metadata": {
        "id": "VJO1-rFtQb4S"
      },
      "source": [
        "## Wide & Deep Model 2\n",
        "\n",
        "Wide part receives the crossed columns\n",
        "Deep part receives the numeric features (No embeddings)"
      ]
    },
    {
      "cell_type": "code",
      "metadata": {
        "id": "BYSH3BRhorx8",
        "colab": {
          "base_uri": "https://localhost:8080/"
        },
        "outputId": "6e89ad74-8882-42e6-c9dd-a88456e83edf"
      },
      "source": [
        "wide_wd_2_feature_columns = user_campaign_cross_col\n",
        "deep_wd_2_feature_columns = numeric_feature_columns\n",
        "\n",
        "deep_wd_2_hidden_units = [512, 256, 128]\n",
        "\n",
        "wdmodel_2_path = wdmodel_dir/\"wdmodel_2.h5\"\n",
        "wdmodel_2_checkpoint_path = wdmodel_dir/\"wdmodel_2_checkpoint.h5\"\n",
        "\n",
        "#simple early stopping\n",
        "wd_2_es = tf.keras.callbacks.EarlyStopping(monitor='val_loss', mode='min', verbose=1, patience=10)\n",
        "wd_2_mc = tf.keras.callbacks.ModelCheckpoint(str(wdmodel_2_checkpoint_path), monitor='val_accuracy', mode='max', verbose=1, save_best_only=True)\n",
        "\n",
        "#Build the Wide Model\n",
        "w_feature_layer = tf.keras.layers.DenseFeatures(wide_wd_2_feature_columns, name=\"wide_feature_layer\")(inputs)\n",
        "\n",
        "#Build the Deep Model\n",
        "d_feature_layer = tf.keras.layers.DenseFeatures(deep_wd_2_feature_columns, name=\"deep_feature_layer\")(inputs)\n",
        "d_hidden_layer_1 = tf.keras.layers.Dense(deep_wd_2_hidden_units[0], activation=\"relu\", name=\"deep_fc_1\")(d_feature_layer)\n",
        "d_hidden_layer_2 = tf.keras.layers.Dense(deep_wd_2_hidden_units[1], activation=\"relu\", name=\"deep_fc_2\")(d_hidden_layer_1)\n",
        "d_hidden_layer_3 = tf.keras.layers.Dense(deep_wd_2_hidden_units[2], activation=\"relu\", name=\"deep_fc_3\")(d_hidden_layer_2)\n",
        "\n",
        "#Combine the Wide & Deep\n",
        "wd_2_both = tf.keras.layers.concatenate([w_feature_layer, d_hidden_layer_3])\n",
        "wd_2_output_layer = tf.keras.layers.Dense(10, activation=\"softmax\", name=\"deep_output\")(wd_2_both)\n",
        "\n",
        "wd_2_model = tf.keras.Model(inputs = inputs, outputs=wd_2_output_layer)\n",
        "wd_2_model.compile(optimizer=\"adam\", \n",
        "               loss=\"categorical_crossentropy\", \n",
        "               metrics=['accuracy', tf.keras.metrics.AUC()])\n",
        "wd_2_model.summary()"
      ],
      "execution_count": 32,
      "outputs": [
        {
          "output_type": "stream",
          "text": [
            "Model: \"model_2\"\n",
            "__________________________________________________________________________________________________\n",
            "Layer (type)                    Output Shape         Param #     Connected to                     \n",
            "==================================================================================================\n",
            "campaign_feature_1 (InputLayer) [(None,)]            0                                            \n",
            "__________________________________________________________________________________________________\n",
            "campaign_feature_2 (InputLayer) [(None,)]            0                                            \n",
            "__________________________________________________________________________________________________\n",
            "campaign_id (InputLayer)        [(None,)]            0                                            \n",
            "__________________________________________________________________________________________________\n",
            "user_feature_1 (InputLayer)     [(None,)]            0                                            \n",
            "__________________________________________________________________________________________________\n",
            "user_feature_2 (InputLayer)     [(None,)]            0                                            \n",
            "__________________________________________________________________________________________________\n",
            "user_id (InputLayer)            [(None,)]            0                                            \n",
            "__________________________________________________________________________________________________\n",
            "deep_feature_layer (DenseFeatur (None, 4)            0           campaign_feature_1[0][0]         \n",
            "                                                                 campaign_feature_2[0][0]         \n",
            "                                                                 campaign_id[0][0]                \n",
            "                                                                 user_feature_1[0][0]             \n",
            "                                                                 user_feature_2[0][0]             \n",
            "                                                                 user_id[0][0]                    \n",
            "__________________________________________________________________________________________________\n",
            "deep_fc_1 (Dense)               (None, 512)          2560        deep_feature_layer[0][0]         \n",
            "__________________________________________________________________________________________________\n",
            "deep_fc_2 (Dense)               (None, 256)          131328      deep_fc_1[0][0]                  \n",
            "__________________________________________________________________________________________________\n",
            "wide_feature_layer (DenseFeatur (None, 100000)       0           campaign_feature_1[0][0]         \n",
            "                                                                 campaign_feature_2[0][0]         \n",
            "                                                                 campaign_id[0][0]                \n",
            "                                                                 user_feature_1[0][0]             \n",
            "                                                                 user_feature_2[0][0]             \n",
            "                                                                 user_id[0][0]                    \n",
            "__________________________________________________________________________________________________\n",
            "deep_fc_3 (Dense)               (None, 128)          32896       deep_fc_2[0][0]                  \n",
            "__________________________________________________________________________________________________\n",
            "concatenate (Concatenate)       (None, 100128)       0           wide_feature_layer[0][0]         \n",
            "                                                                 deep_fc_3[0][0]                  \n",
            "__________________________________________________________________________________________________\n",
            "deep_output (Dense)             (None, 10)           1001290     concatenate[0][0]                \n",
            "==================================================================================================\n",
            "Total params: 1,168,074\n",
            "Trainable params: 1,168,074\n",
            "Non-trainable params: 0\n",
            "__________________________________________________________________________________________________\n"
          ],
          "name": "stdout"
        }
      ]
    },
    {
      "cell_type": "code",
      "metadata": {
        "id": "7rdeE5vjch1q",
        "colab": {
          "base_uri": "https://localhost:8080/",
          "height": 52
        },
        "outputId": "8ad1e6b1-12ef-44a2-c315-099dcc64fa59"
      },
      "source": [
        "\"\"\"\n",
        "H = wd_2_model.fit(train_dl, batch_size=batch_size, epochs=n_epochs, \n",
        "               validation_data=val_dl, shuffle=False, \n",
        "               validation_batch_size=batch_size, callbacks=[wd_2_es, wd_2_mc])\n",
        "\"\"\""
      ],
      "execution_count": 33,
      "outputs": [
        {
          "output_type": "execute_result",
          "data": {
            "application/vnd.google.colaboratory.intrinsic+json": {
              "type": "string"
            },
            "text/plain": [
              "'\\nH = wd_2_model.fit(train_dl, batch_size=batch_size, epochs=n_epochs, \\n               validation_data=val_dl, shuffle=False, \\n               validation_batch_size=batch_size, callbacks=[wd_2_es, wd_2_mc])\\n'"
            ]
          },
          "metadata": {
            "tags": []
          },
          "execution_count": 33
        }
      ]
    },
    {
      "cell_type": "code",
      "metadata": {
        "id": "gJtvS04pe2Dy",
        "colab": {
          "base_uri": "https://localhost:8080/",
          "height": 86
        },
        "outputId": "070b2299-c58c-4406-f2d3-7443752f7724"
      },
      "source": [
        "\"\"\"\n",
        "#Plot the training & validation loss/accuracy curve\n",
        "plt.figure()\n",
        "plt.style.use('ggplot')\n",
        "plt.plot(H.history['accuracy'], label='Training Accuracy')\n",
        "plt.plot(H.history['val_accuracy'], label='Validation Accuracy')\n",
        "plt.plot(H.history['loss'], label='Training Loss')\n",
        "plt.plot(H.history['val_loss'], label='Validation Loss')\n",
        "plt.legend()\n",
        "plt.title('Accuracy/Loss vs Epochs')\n",
        "plt.xlabel('Epoch Number')\n",
        "plt.ylabel('Accuracy/Loss')\n",
        "plt.show()\n",
        "\"\"\""
      ],
      "execution_count": 34,
      "outputs": [
        {
          "output_type": "execute_result",
          "data": {
            "application/vnd.google.colaboratory.intrinsic+json": {
              "type": "string"
            },
            "text/plain": [
              "\"\\n#Plot the training & validation loss/accuracy curve\\nplt.figure()\\nplt.style.use('ggplot')\\nplt.plot(H.history['accuracy'], label='Training Accuracy')\\nplt.plot(H.history['val_accuracy'], label='Validation Accuracy')\\nplt.plot(H.history['loss'], label='Training Loss')\\nplt.plot(H.history['val_loss'], label='Validation Loss')\\nplt.legend()\\nplt.title('Accuracy/Loss vs Epochs')\\nplt.xlabel('Epoch Number')\\nplt.ylabel('Accuracy/Loss')\\nplt.show()\\n\""
            ]
          },
          "metadata": {
            "tags": []
          },
          "execution_count": 34
        }
      ]
    },
    {
      "cell_type": "code",
      "metadata": {
        "id": "AGyGyUNge14F",
        "colab": {
          "base_uri": "https://localhost:8080/",
          "height": 52
        },
        "outputId": "bbbe8bcc-852f-4489-8568-aec0488e14b1"
      },
      "source": [
        "\"\"\"\n",
        "#Generate the predictions to a variable\n",
        "wd_2_predictions = wd_2_model.predict(test_dl, batch_size=batch_size, verbose=1)\n",
        "results[\"wide_deep_2\"] = np.argmax(wd_2_predictions, axis=1)\n",
        "\"\"\""
      ],
      "execution_count": 35,
      "outputs": [
        {
          "output_type": "execute_result",
          "data": {
            "application/vnd.google.colaboratory.intrinsic+json": {
              "type": "string"
            },
            "text/plain": [
              "'\\n#Generate the predictions to a variable\\nwd_2_predictions = wd_2_model.predict(test_dl, batch_size=batch_size, verbose=1)\\nresults[\"wide_deep_2\"] = np.argmax(wd_2_predictions, axis=1)\\n'"
            ]
          },
          "metadata": {
            "tags": []
          },
          "execution_count": 35
        }
      ]
    },
    {
      "cell_type": "code",
      "metadata": {
        "id": "oXJSM41vch71",
        "colab": {
          "base_uri": "https://localhost:8080/",
          "height": 35
        },
        "outputId": "2a40390e-10ba-49b8-a49b-2c95ed6e89c3"
      },
      "source": [
        "\"\"\"\n",
        "wd_2_model.save(str(wdmodel_2_path))\n",
        "del wd_2_model\n",
        "del H\n",
        "gc.collect()\n",
        "\"\"\""
      ],
      "execution_count": 36,
      "outputs": [
        {
          "output_type": "execute_result",
          "data": {
            "application/vnd.google.colaboratory.intrinsic+json": {
              "type": "string"
            },
            "text/plain": [
              "'\\nwd_2_model.save(str(wdmodel_2_path))\\ndel wd_2_model\\ndel H\\ngc.collect()\\n'"
            ]
          },
          "metadata": {
            "tags": []
          },
          "execution_count": 36
        }
      ]
    },
    {
      "cell_type": "markdown",
      "metadata": {
        "id": "8gsWFJ9Qlxie"
      },
      "source": [
        "## Bayesian Wide & Deep Model"
      ]
    },
    {
      "cell_type": "code",
      "metadata": {
        "colab": {
          "base_uri": "https://localhost:8080/",
          "height": 171
        },
        "id": "jsE9gkwzl0DM",
        "outputId": "0094a7ce-8deb-4214-dc71-a9b224c85046"
      },
      "source": [
        "bayesian_path = bayesian_dir/\"bayesian_2.h5\"\n",
        "bayesian_checkpoint_path = bayesian_dir/\"bayesian_checkpoint_2.h5\"\n",
        "\n",
        "\"\"\"\n",
        "bayesian_wide_feature_columns = user_campaign_cross_col\n",
        "bayesian_deep_feature_columns = numeric_feature_columns + embedding_feature_columns\n",
        "\n",
        "bayesian_deep_hidden_units = [512, 256, 128]\n",
        "\n",
        "#simple early stopping\n",
        "bayesian_es = tf.keras.callbacks.EarlyStopping(monitor='val_loss', mode='min', verbose=1, patience=10)\n",
        "bayesian_mc = tf.keras.callbacks.ModelCheckpoint(str(bayesian_checkpoint_path), monitor='val_accuracy', mode='max', verbose=1, save_best_only=True)\n",
        "\n",
        "#Build the Wide Model\n",
        "w_feature_layer = tf.keras.layers.DenseFeatures(wide_wd_1_feature_columns, name=\"wide_feature_layer\")(inputs)\n",
        "\n",
        "#Build the Deep Model\n",
        "d_feature_layer = tf.keras.layers.DenseFeatures(deep_wd_1_feature_columns, name=\"deep_feature_layer\")(inputs)\n",
        "d_hidden_layer_1 = tf.keras.layers.Dense(deep_wd_1_hidden_units[0], activation=\"relu\", name=\"deep_fc_1\")(d_feature_layer)\n",
        "d_hidden_layer_2 = tf.keras.layers.Dense(deep_wd_1_hidden_units[1], activation=\"relu\", name=\"deep_fc_2\")(d_hidden_layer_1)\n",
        "d_hidden_layer_3 = tf.keras.layers.Dense(deep_wd_1_hidden_units[2], activation=\"relu\", name=\"deep_fc_3\")(d_hidden_layer_2)\n",
        "\n",
        "#Combine the Wide & Deep\n",
        "bayesian_both = tf.keras.layers.concatenate([w_feature_layer, d_hidden_layer_3], name=\"concatenate\") #Name is concatenate_1 for this\n",
        "\n",
        "#bayesian_pre_multihead_dropout = tf.keras.layers.Dropout(0.3)(bayesian_both, training=True) - Commented out to solve OOM issues\n",
        "bayesian_multihead = tf.keras.layers.Dense(64, activation=\"relu\", name=\"multihead\")(bayesian_both)\n",
        "bayesian_dropout = tf.keras.layers.Dropout(0.3, name=\"dropout\")(bayesian_multihead, training=True)\n",
        "\n",
        "bayesian_output_layer = tf.keras.layers.Dense(10, activation=\"softmax\", name=\"bayesian_model_output\")(bayesian_dropout)\n",
        "\n",
        "bayesian_model = tf.keras.Model(inputs = inputs, outputs=bayesian_output_layer)\n",
        "\n",
        "bayesian_model.compile(optimizer=\"adam\", \n",
        "               loss=\"categorical_crossentropy\", \n",
        "               metrics=['accuracy', tf.keras.metrics.AUC()])\n",
        "bayesian_model.summary()\n",
        "\"\"\""
      ],
      "execution_count": 37,
      "outputs": [
        {
          "output_type": "execute_result",
          "data": {
            "application/vnd.google.colaboratory.intrinsic+json": {
              "type": "string"
            },
            "text/plain": [
              "'\\nbayesian_wide_feature_columns = user_campaign_cross_col\\nbayesian_deep_feature_columns = numeric_feature_columns + embedding_feature_columns\\n\\nbayesian_deep_hidden_units = [512, 256, 128]\\n\\n#simple early stopping\\nbayesian_es = tf.keras.callbacks.EarlyStopping(monitor=\\'val_loss\\', mode=\\'min\\', verbose=1, patience=10)\\nbayesian_mc = tf.keras.callbacks.ModelCheckpoint(str(bayesian_checkpoint_path), monitor=\\'val_accuracy\\', mode=\\'max\\', verbose=1, save_best_only=True)\\n\\n#Build the Wide Model\\nw_feature_layer = tf.keras.layers.DenseFeatures(wide_wd_1_feature_columns, name=\"wide_feature_layer\")(inputs)\\n\\n#Build the Deep Model\\nd_feature_layer = tf.keras.layers.DenseFeatures(deep_wd_1_feature_columns, name=\"deep_feature_layer\")(inputs)\\nd_hidden_layer_1 = tf.keras.layers.Dense(deep_wd_1_hidden_units[0], activation=\"relu\", name=\"deep_fc_1\")(d_feature_layer)\\nd_hidden_layer_2 = tf.keras.layers.Dense(deep_wd_1_hidden_units[1], activation=\"relu\", name=\"deep_fc_2\")(d_hidden_layer_1)\\nd_hidden_layer_3 = tf.keras.layers.Dense(deep_wd_1_hidden_units[2], activation=\"relu\", name=\"deep_fc_3\")(d_hidden_layer_2)\\n\\n#Combine the Wide & Deep\\nbayesian_both = tf.keras.layers.concatenate([w_feature_layer, d_hidden_layer_3], name=\"concatenate\") #Name is concatenate_1 for this\\n\\n#bayesian_pre_multihead_dropout = tf.keras.layers.Dropout(0.3)(bayesian_both, training=True) - Commented out to solve OOM issues\\nbayesian_multihead = tf.keras.layers.Dense(64, activation=\"relu\", name=\"multihead\")(bayesian_both)\\nbayesian_dropout = tf.keras.layers.Dropout(0.3, name=\"dropout\")(bayesian_multihead, training=True)\\n\\nbayesian_output_layer = tf.keras.layers.Dense(10, activation=\"softmax\", name=\"bayesian_model_output\")(bayesian_dropout)\\n\\nbayesian_model = tf.keras.Model(inputs = inputs, outputs=bayesian_output_layer)\\n\\nbayesian_model.compile(optimizer=\"adam\", \\n               loss=\"categorical_crossentropy\", \\n               metrics=[\\'accuracy\\', tf.keras.metrics.AUC()])\\nbayesian_model.summary()\\n'"
            ]
          },
          "metadata": {
            "tags": []
          },
          "execution_count": 37
        }
      ]
    },
    {
      "cell_type": "code",
      "metadata": {
        "colab": {
          "base_uri": "https://localhost:8080/",
          "height": 52
        },
        "id": "LQWnREwh439c",
        "outputId": "5e27937f-5d22-471e-f0f9-04093067a2e5"
      },
      "source": [
        "\"\"\"\n",
        "#For simplicity, enumerate over the test model layers\n",
        "print(\"[INFO] The layers of the Bayesian W&D model are:\\n\")\n",
        "for i, layer in enumerate(bayesian_model.layers):\n",
        "  print(f\"Layer @ index{i}: {layer} with name {layer.name}\")\n",
        "\"\"\""
      ],
      "execution_count": 38,
      "outputs": [
        {
          "output_type": "execute_result",
          "data": {
            "application/vnd.google.colaboratory.intrinsic+json": {
              "type": "string"
            },
            "text/plain": [
              "'\\n#For simplicity, enumerate over the test model layers\\nprint(\"[INFO] The layers of the Bayesian W&D model are:\\n\")\\nfor i, layer in enumerate(bayesian_model.layers):\\n  print(f\"Layer @ index{i}: {layer} with name {layer.name}\")\\n'"
            ]
          },
          "metadata": {
            "tags": []
          },
          "execution_count": 38
        }
      ]
    },
    {
      "cell_type": "code",
      "metadata": {
        "colab": {
          "base_uri": "https://localhost:8080/",
          "height": 69
        },
        "id": "bpYtlAQVp77Q",
        "outputId": "7106438a-ef67-4b09-8316-ee951d33b133"
      },
      "source": [
        "\"\"\"\n",
        "#Load the latest checkpoint and resume training\n",
        "bayesian_model = tf.keras.models.load_model(str(bayesian_checkpoint_path))\n",
        "H = bayesian_model.fit(train_dl, batch_size=batch_size, epochs=n_epochs, \n",
        "               validation_data=val_dl, shuffle=False, \n",
        "               validation_batch_size=batch_size, callbacks=[bayesian_es, bayesian_mc])\n",
        "\"\"\""
      ],
      "execution_count": 39,
      "outputs": [
        {
          "output_type": "execute_result",
          "data": {
            "application/vnd.google.colaboratory.intrinsic+json": {
              "type": "string"
            },
            "text/plain": [
              "'\\n#Load the latest checkpoint and resume training\\nbayesian_model = tf.keras.models.load_model(str(bayesian_checkpoint_path))\\nH = bayesian_model.fit(train_dl, batch_size=batch_size, epochs=n_epochs, \\n               validation_data=val_dl, shuffle=False, \\n               validation_batch_size=batch_size, callbacks=[bayesian_es, bayesian_mc])\\n'"
            ]
          },
          "metadata": {
            "tags": []
          },
          "execution_count": 39
        }
      ]
    },
    {
      "cell_type": "code",
      "metadata": {
        "id": "5xb5mlYVp8Hb",
        "colab": {
          "base_uri": "https://localhost:8080/",
          "height": 86
        },
        "outputId": "beff4cb1-978c-46ac-e867-7596926d2c41"
      },
      "source": [
        "\"\"\"\n",
        "#Plot the training & validation loss/accuracy curve\n",
        "plt.figure()\n",
        "plt.style.use('ggplot')\n",
        "plt.plot(H.history['accuracy'], label='Training Accuracy')\n",
        "plt.plot(H.history['val_accuracy'], label='Validation Accuracy')\n",
        "plt.plot(H.history['loss'], label='Training Loss')\n",
        "plt.plot(H.history['val_loss'], label='Validation Loss')\n",
        "plt.legend()\n",
        "plt.title('Accuracy/Loss vs Epochs')\n",
        "plt.xlabel('Epoch Number')\n",
        "plt.ylabel('Accuracy/Loss')\n",
        "plt.show()\n",
        "\"\"\""
      ],
      "execution_count": 40,
      "outputs": [
        {
          "output_type": "execute_result",
          "data": {
            "application/vnd.google.colaboratory.intrinsic+json": {
              "type": "string"
            },
            "text/plain": [
              "\"\\n#Plot the training & validation loss/accuracy curve\\nplt.figure()\\nplt.style.use('ggplot')\\nplt.plot(H.history['accuracy'], label='Training Accuracy')\\nplt.plot(H.history['val_accuracy'], label='Validation Accuracy')\\nplt.plot(H.history['loss'], label='Training Loss')\\nplt.plot(H.history['val_loss'], label='Validation Loss')\\nplt.legend()\\nplt.title('Accuracy/Loss vs Epochs')\\nplt.xlabel('Epoch Number')\\nplt.ylabel('Accuracy/Loss')\\nplt.show()\\n\""
            ]
          },
          "metadata": {
            "tags": []
          },
          "execution_count": 40
        }
      ]
    },
    {
      "cell_type": "code",
      "metadata": {
        "colab": {
          "base_uri": "https://localhost:8080/",
          "height": 35
        },
        "id": "33v443kbp8Ps",
        "outputId": "efbb4dad-8e6f-48b9-8dd1-bad5079c3281"
      },
      "source": [
        "\"\"\"\n",
        "bayesian_model.save(str(bayesian_path))\n",
        "gc.collect()\n",
        "\"\"\""
      ],
      "execution_count": 41,
      "outputs": [
        {
          "output_type": "execute_result",
          "data": {
            "application/vnd.google.colaboratory.intrinsic+json": {
              "type": "string"
            },
            "text/plain": [
              "'\\nbayesian_model.save(str(bayesian_path))\\ngc.collect()\\n'"
            ]
          },
          "metadata": {
            "tags": []
          },
          "execution_count": 41
        }
      ]
    },
    {
      "cell_type": "markdown",
      "metadata": {
        "id": "As3sgNLbIh55"
      },
      "source": [
        "### Bandits: TS & UCB"
      ]
    },
    {
      "cell_type": "code",
      "metadata": {
        "colab": {
          "base_uri": "https://localhost:8080/",
          "height": 35
        },
        "id": "gPfeKVvHDE_F",
        "outputId": "64b8c920-7dd8-4594-8db7-c39e4386157e"
      },
      "source": [
        "\"\"\"\n",
        "test_model = tf.keras.models.load_model(str(bayesian_path))\n",
        "test_model.summary()\n",
        "\"\"\""
      ],
      "execution_count": 42,
      "outputs": [
        {
          "output_type": "execute_result",
          "data": {
            "application/vnd.google.colaboratory.intrinsic+json": {
              "type": "string"
            },
            "text/plain": [
              "'\\ntest_model = tf.keras.models.load_model(str(bayesian_path))\\ntest_model.summary()\\n'"
            ]
          },
          "metadata": {
            "tags": []
          },
          "execution_count": 42
        }
      ]
    },
    {
      "cell_type": "code",
      "metadata": {
        "colab": {
          "base_uri": "https://localhost:8080/",
          "height": 52
        },
        "id": "qcERwvDSAgWK",
        "outputId": "22dc6337-19c8-4053-8fa0-f0f963c2843a"
      },
      "source": [
        "\"\"\"\n",
        "#For simplicity, enumerate over the test model layers\n",
        "print(\"[INFO] The layers of the Bayesian W&D model are:\\n\")\n",
        "for i, layer in enumerate(test_model.layers):\n",
        "  print(f\"Layer @ index{i}: {layer} with name {layer.name}\")\n",
        "\"\"\"  "
      ],
      "execution_count": 43,
      "outputs": [
        {
          "output_type": "execute_result",
          "data": {
            "application/vnd.google.colaboratory.intrinsic+json": {
              "type": "string"
            },
            "text/plain": [
              "'\\n#For simplicity, enumerate over the test model layers\\nprint(\"[INFO] The layers of the Bayesian W&D model are:\\n\")\\nfor i, layer in enumerate(test_model.layers):\\n  print(f\"Layer @ index{i}: {layer} with name {layer.name}\")\\n'"
            ]
          },
          "metadata": {
            "tags": []
          },
          "execution_count": 43
        }
      ]
    },
    {
      "cell_type": "code",
      "metadata": {
        "colab": {
          "base_uri": "https://localhost:8080/",
          "height": 69
        },
        "id": "_-ACKQeLqWdH",
        "outputId": "1c5262fe-17d2-428e-99be-5588b633e318"
      },
      "source": [
        "\"\"\"\n",
        "#Constructing a intermediate wide and deep model to get the static concatenated outputs\n",
        "layer_name = \"multihead\"\n",
        "till_multihead_model = tf.keras.Model(inputs=test_model.input, outputs=test_model.get_layer(layer_name).output)\n",
        "till_multihead_model.summary()\n",
        "\"\"\""
      ],
      "execution_count": 44,
      "outputs": [
        {
          "output_type": "execute_result",
          "data": {
            "application/vnd.google.colaboratory.intrinsic+json": {
              "type": "string"
            },
            "text/plain": [
              "'\\n#Constructing a intermediate wide and deep model to get the static concatenated outputs\\nlayer_name = \"multihead\"\\ntill_multihead_model = tf.keras.Model(inputs=test_model.input, outputs=test_model.get_layer(layer_name).output)\\ntill_multihead_model.summary()\\n'"
            ]
          },
          "metadata": {
            "tags": []
          },
          "execution_count": 44
        }
      ]
    },
    {
      "cell_type": "code",
      "metadata": {
        "id": "nD4g9C2SJUdx",
        "colab": {
          "base_uri": "https://localhost:8080/",
          "height": 86
        },
        "outputId": "931f6435-3cfd-4cda-9eab-fc1ec8df61d5"
      },
      "source": [
        "\"\"\"\n",
        "#Now, constructing the multi-head that the concatenated input has to run through\n",
        "dropout_input = tf.keras.Input(shape=(64, ), dtype=tf.float32, name=\"multihead_output\")\n",
        "next_layer = dropout_input\n",
        "for layer in test_model.layers[13:]:\n",
        "  if \"dropout\" in layer.name:\n",
        "    next_layer = layer(next_layer, training=True)\n",
        "  else:\n",
        "    next_layer = layer(next_layer)\n",
        "post_multihead_model = tf.keras.Model(inputs=dropout_input, outputs=next_layer)\n",
        "post_multihead_model.summary()\n",
        "\"\"\""
      ],
      "execution_count": 45,
      "outputs": [
        {
          "output_type": "execute_result",
          "data": {
            "application/vnd.google.colaboratory.intrinsic+json": {
              "type": "string"
            },
            "text/plain": [
              "'\\n#Now, constructing the multi-head that the concatenated input has to run through\\ndropout_input = tf.keras.Input(shape=(64, ), dtype=tf.float32, name=\"multihead_output\")\\nnext_layer = dropout_input\\nfor layer in test_model.layers[13:]:\\n  if \"dropout\" in layer.name:\\n    next_layer = layer(next_layer, training=True)\\n  else:\\n    next_layer = layer(next_layer)\\npost_multihead_model = tf.keras.Model(inputs=dropout_input, outputs=next_layer)\\npost_multihead_model.summary()\\n'"
            ]
          },
          "metadata": {
            "tags": []
          },
          "execution_count": 45
        }
      ]
    },
    {
      "cell_type": "code",
      "metadata": {
        "colab": {
          "base_uri": "https://localhost:8080/",
          "height": 86
        },
        "id": "ZAv8zsqbOaZS",
        "outputId": "8e05be9f-573c-45a0-b2ed-073ed8025e46"
      },
      "source": [
        "\"\"\"\n",
        "#Demonstrating how Bayesian network outputs are probabilistic in nature\n",
        "features_batch, _ = iter(test_dl).get_next()\n",
        "multihead_output = till_multihead_model.predict(features_batch)\n",
        "for cnt in range(5):  \n",
        "  print(f\"[INFO] Drawing {cnt + 1} sample for the 1st data point:\")\n",
        "  print(\"Multihead:\", post_multihead_model.predict(multihead_output)[0:1])\n",
        "  print(\"Full Model:\", test_model.predict(features_batch)[0:1], \"\\n\")\n",
        "\"\"\""
      ],
      "execution_count": 46,
      "outputs": [
        {
          "output_type": "execute_result",
          "data": {
            "application/vnd.google.colaboratory.intrinsic+json": {
              "type": "string"
            },
            "text/plain": [
              "'\\n#Demonstrating how Bayesian network outputs are probabilistic in nature\\nfeatures_batch, _ = iter(test_dl).get_next()\\nmultihead_output = till_multihead_model.predict(features_batch)\\nfor cnt in range(5):  \\n  print(f\"[INFO] Drawing {cnt + 1} sample for the 1st data point:\")\\n  print(\"Multihead:\", post_multihead_model.predict(multihead_output)[0:1])\\n  print(\"Full Model:\", test_model.predict(features_batch)[0:1], \"\\n\")\\n'"
            ]
          },
          "metadata": {
            "tags": []
          },
          "execution_count": 46
        }
      ]
    },
    {
      "cell_type": "code",
      "metadata": {
        "id": "E2pCmzDvdFep"
      },
      "source": [
        "def find_ucb(raw_samples_l, value_index):\n",
        "  \n",
        "  \"\"\"\n",
        "  Given a (100, batch_size, 10) list —>\n",
        "  1) Convert into array\n",
        "  2) Sort it along axis=0 in descending order\n",
        "  3) Pick the 5th largest value for every class\n",
        "  4) Repeat this for all data points\n",
        "  5) Return a (2048, 10) array\n",
        "\n",
        "  \"\"\"\n",
        "  raw_samples_array = np.array(raw_samples_l)\n",
        "\n",
        "  #Array is 3D - 0: Samples, 1: Row, 2: Column\n",
        "  #Sort the array along 0th axis\n",
        "  raw_samples_array[::-1].sort(axis=0)\n",
        "\n",
        "  #Pick the 5th largest value\n",
        "  ucb_batch = raw_samples_array[value_index-1]\n",
        "\n",
        "  #Return the value\n",
        "  return ucb_batch"
      ],
      "execution_count": 47,
      "outputs": []
    },
    {
      "cell_type": "code",
      "metadata": {
        "id": "PSglMGx4qN6b",
        "colab": {
          "base_uri": "https://localhost:8080/",
          "height": 171
        },
        "outputId": "6df6d520-5f3e-4458-e382-34511161532b"
      },
      "source": [
        "\"\"\"\n",
        "num_of_samples = 100\n",
        "value_index = num_of_samples - int(0.95 * num_of_samples)\n",
        "batch_cnt = 0\n",
        "ts_bandit_output_l = []\n",
        "ucb_bandit_output_l = []\n",
        "\n",
        "#Iterate through the Batched Dataset, one batch at a time\n",
        "for features, _ in test_dl:\n",
        "  \n",
        "  if (batch_cnt + 1) % 5 == 0:\n",
        "    print(f\"[INFO] Working on Test Set Batch #{batch_cnt + 1}\")\n",
        "\n",
        "  #Generate predictions of wide_and_deep_model for a given batch\n",
        "  multihead_output = till_multihead_model.predict(features)\n",
        "  ucb_working_l = []\n",
        "\n",
        "  for multi_cnt in range(num_of_samples):\n",
        "\n",
        "    if not((batch_cnt + 1) % 5) and not((multi_cnt + 1) % 5):\n",
        "      print(f\"[INFO] Drawing sample #{multi_cnt + 1} from the Posterior...\")\n",
        "\n",
        "    output = post_multihead_model.predict(multihead_output)\n",
        "    \n",
        "    ucb_working_l.append(output) #Draw multiple samples for UCB\n",
        "    \n",
        "    if not(multi_cnt): #Draw only one sample for TS\n",
        "      ts_bandit_output_l.append(output)\n",
        "  \n",
        "  ucb_batch = find_ucb(ucb_working_l, value_index) \n",
        "  del multihead_output\n",
        "  del ucb_working_l\n",
        "  ucb_bandit_output_l.append(ucb_batch)  \n",
        "  batch_cnt += 1\n",
        "  gc.collect()\n",
        "\n",
        "ts_bandit_output = np.concatenate(ts_bandit_output_l, axis=0)\n",
        "del ts_bandit_output_l\n",
        "ucb_bandit_output = np.concatenate(ucb_bandit_output_l, axis=0)\n",
        "del ucb_bandit_output_l\n",
        "\"\"\""
      ],
      "execution_count": 48,
      "outputs": [
        {
          "output_type": "execute_result",
          "data": {
            "application/vnd.google.colaboratory.intrinsic+json": {
              "type": "string"
            },
            "text/plain": [
              "'\\nnum_of_samples = 100\\nvalue_index = num_of_samples - int(0.95 * num_of_samples)\\nbatch_cnt = 0\\nts_bandit_output_l = []\\nucb_bandit_output_l = []\\n\\n#Iterate through the Batched Dataset, one batch at a time\\nfor features, _ in test_dl:\\n  \\n  if (batch_cnt + 1) % 5 == 0:\\n    print(f\"[INFO] Working on Test Set Batch #{batch_cnt + 1}\")\\n\\n  #Generate predictions of wide_and_deep_model for a given batch\\n  multihead_output = till_multihead_model.predict(features)\\n  ucb_working_l = []\\n\\n  for multi_cnt in range(num_of_samples):\\n\\n    if not((batch_cnt + 1) % 5) and not((multi_cnt + 1) % 5):\\n      print(f\"[INFO] Drawing sample #{multi_cnt + 1} from the Posterior...\")\\n\\n    output = post_multihead_model.predict(multihead_output)\\n    \\n    ucb_working_l.append(output) #Draw multiple samples for UCB\\n    \\n    if not(multi_cnt): #Draw only one sample for TS\\n      ts_bandit_output_l.append(output)\\n  \\n  ucb_batch = find_ucb(ucb_working_l, value_index) \\n  del multihead_output\\n  del ucb_working_l\\n  ucb_bandit_output_l.append(ucb_batch)  \\n  batch_cnt += 1\\n  gc.collect()\\n\\nts_bandit_output = np.concatenate(ts_bandit_output_l, axis=0)\\ndel ts_bandit_output_l\\nucb_bandit_output = np.concatenate(ucb_bandit_output_l, axis=0)\\ndel ucb_bandit_output_l\\n'"
            ]
          },
          "metadata": {
            "tags": []
          },
          "execution_count": 48
        }
      ]
    },
    {
      "cell_type": "code",
      "metadata": {
        "colab": {
          "base_uri": "https://localhost:8080/",
          "height": 103
        },
        "id": "HeDDlonnlAu2",
        "outputId": "0de74831-db6a-4431-a6d8-b13e505a4d53"
      },
      "source": [
        "\"\"\"\n",
        "#Check whether the shapes are the same\n",
        "assert (ts_bandit_output.shape) == (ucb_bandit_output.shape)\n",
        "\n",
        "#Print the 1st element of both TS and UCB\n",
        "print(\"[INFO] TS output for 1st data point:\")\n",
        "pprint(ts_bandit_output[0])\n",
        "print(\"[INFO] UCB output for 1st data point:\")\n",
        "pprint(ucb_bandit_output[0])\n",
        "\n",
        "#Save results of the run\n",
        "ts_bandit_result_path = project_folder/\"ts.npy\"\n",
        "np.save(ts_bandit_result_path, ts_bandit_output)\n",
        "ucb_bandit_result_path = project_folder/\"ucb.npy\"\n",
        "np.save(ucb_bandit_result_path, ucb_bandit_output)\n",
        "\n",
        "gc.collect()\n",
        "\"\"\""
      ],
      "execution_count": 49,
      "outputs": [
        {
          "output_type": "execute_result",
          "data": {
            "application/vnd.google.colaboratory.intrinsic+json": {
              "type": "string"
            },
            "text/plain": [
              "'\\n#Check whether the shapes are the same\\nassert (ts_bandit_output.shape) == (ucb_bandit_output.shape)\\n\\n#Print the 1st element of both TS and UCB\\nprint(\"[INFO] TS output for 1st data point:\")\\npprint(ts_bandit_output[0])\\nprint(\"[INFO] UCB output for 1st data point:\")\\npprint(ucb_bandit_output[0])\\n\\n#Save results of the run\\nts_bandit_result_path = project_folder/\"ts.npy\"\\nnp.save(ts_bandit_result_path, ts_bandit_output)\\nucb_bandit_result_path = project_folder/\"ucb.npy\"\\nnp.save(ucb_bandit_result_path, ucb_bandit_output)\\n\\ngc.collect()\\n'"
            ]
          },
          "metadata": {
            "tags": []
          },
          "execution_count": 49
        }
      ]
    },
    {
      "cell_type": "markdown",
      "metadata": {
        "id": "tVdKUDJ7lZSh"
      },
      "source": [
        "# Results"
      ]
    },
    {
      "cell_type": "markdown",
      "metadata": {
        "id": "Zg_DuJS0ld-p"
      },
      "source": [
        "## Loading prediction results"
      ]
    },
    {
      "cell_type": "code",
      "metadata": {
        "id": "L077Aa16lgdA"
      },
      "source": [
        "results = pd.read_csv(result_csv_path, header=[0])\n",
        "#results[\"w&d_1_ts\"] = np.argmax(ts_bandit_output, axis=1)\n",
        "#results[\"w&d_1_ucb\"] = np.argmax(ucb_bandit_output, axis=1)"
      ],
      "execution_count": 50,
      "outputs": []
    },
    {
      "cell_type": "markdown",
      "metadata": {
        "id": "GhjKemGmfIPu"
      },
      "source": [
        "## Saving prediction results "
      ]
    },
    {
      "cell_type": "code",
      "metadata": {
        "id": "iAEhPKU1yuQD",
        "colab": {
          "base_uri": "https://localhost:8080/",
          "height": 204
        },
        "outputId": "075652d2-a962-4799-9a14-d1fcddc7c0dd"
      },
      "source": [
        "#results.to_csv(result_csv_path, header=True, index=False)\n",
        "results.head()"
      ],
      "execution_count": 51,
      "outputs": [
        {
          "output_type": "execute_result",
          "data": {
            "text/html": [
              "<div>\n",
              "<style scoped>\n",
              "    .dataframe tbody tr th:only-of-type {\n",
              "        vertical-align: middle;\n",
              "    }\n",
              "\n",
              "    .dataframe tbody tr th {\n",
              "        vertical-align: top;\n",
              "    }\n",
              "\n",
              "    .dataframe thead th {\n",
              "        text-align: right;\n",
              "    }\n",
              "</style>\n",
              "<table border=\"1\" class=\"dataframe\">\n",
              "  <thead>\n",
              "    <tr style=\"text-align: right;\">\n",
              "      <th></th>\n",
              "      <th>wide_deep_1</th>\n",
              "      <th>wide_deep_2</th>\n",
              "      <th>wide_only</th>\n",
              "      <th>deep_only</th>\n",
              "      <th>target</th>\n",
              "      <th>w&amp;d_1_ts</th>\n",
              "      <th>w&amp;d_1_ucb</th>\n",
              "    </tr>\n",
              "  </thead>\n",
              "  <tbody>\n",
              "    <tr>\n",
              "      <th>0</th>\n",
              "      <td>4</td>\n",
              "      <td>4</td>\n",
              "      <td>4</td>\n",
              "      <td>4</td>\n",
              "      <td>4</td>\n",
              "      <td>4</td>\n",
              "      <td>4</td>\n",
              "    </tr>\n",
              "    <tr>\n",
              "      <th>1</th>\n",
              "      <td>1</td>\n",
              "      <td>2</td>\n",
              "      <td>2</td>\n",
              "      <td>4</td>\n",
              "      <td>0</td>\n",
              "      <td>1</td>\n",
              "      <td>1</td>\n",
              "    </tr>\n",
              "    <tr>\n",
              "      <th>2</th>\n",
              "      <td>4</td>\n",
              "      <td>4</td>\n",
              "      <td>5</td>\n",
              "      <td>4</td>\n",
              "      <td>4</td>\n",
              "      <td>4</td>\n",
              "      <td>4</td>\n",
              "    </tr>\n",
              "    <tr>\n",
              "      <th>3</th>\n",
              "      <td>2</td>\n",
              "      <td>2</td>\n",
              "      <td>2</td>\n",
              "      <td>2</td>\n",
              "      <td>2</td>\n",
              "      <td>2</td>\n",
              "      <td>2</td>\n",
              "    </tr>\n",
              "    <tr>\n",
              "      <th>4</th>\n",
              "      <td>9</td>\n",
              "      <td>9</td>\n",
              "      <td>4</td>\n",
              "      <td>9</td>\n",
              "      <td>9</td>\n",
              "      <td>9</td>\n",
              "      <td>9</td>\n",
              "    </tr>\n",
              "  </tbody>\n",
              "</table>\n",
              "</div>"
            ],
            "text/plain": [
              "   wide_deep_1  wide_deep_2  wide_only  deep_only  target  w&d_1_ts  w&d_1_ucb\n",
              "0            4            4          4          4       4         4          4\n",
              "1            1            2          2          4       0         1          1\n",
              "2            4            4          5          4       4         4          4\n",
              "3            2            2          2          2       2         2          2\n",
              "4            9            9          4          9       9         9          9"
            ]
          },
          "metadata": {
            "tags": []
          },
          "execution_count": 51
        }
      ]
    },
    {
      "cell_type": "code",
      "metadata": {
        "id": "432Wh_d_0J7o",
        "colab": {
          "base_uri": "https://localhost:8080/"
        },
        "outputId": "b3fdfb0f-f1a8-44d4-ec08-6f062f2e2367"
      },
      "source": [
        "for model_type in [\"wide_only\", \"deep_only\", \"wide_deep_1\", \"wide_deep_2\",\"w&d_1_ts\", \"w&d_1_ucb\"]:\n",
        "  acc = ((results[model_type] == results[\"target\"]).astype(int).sum())/len(results)\n",
        "  print(f\"[INFO] {model_type} accuracy: {acc}\")"
      ],
      "execution_count": 52,
      "outputs": [
        {
          "output_type": "stream",
          "text": [
            "[INFO] wide_only accuracy: 0.3360835\n",
            "[INFO] deep_only accuracy: 0.807614\n",
            "[INFO] wide_deep_1 accuracy: 0.806596\n",
            "[INFO] wide_deep_2 accuracy: 0.772791\n",
            "[INFO] w&d_1_ts accuracy: 0.792291\n",
            "[INFO] w&d_1_ucb accuracy: 0.802016\n"
          ],
          "name": "stdout"
        }
      ]
    },
    {
      "cell_type": "markdown",
      "metadata": {
        "id": "awY6Kx026xNI"
      },
      "source": [
        "## Evaluating Accuracy vs. freq of seeing user\n",
        "\n",
        "For all models, run through the full dataset and evaluate how user accuracy varies with the frequence of seeing users."
      ]
    },
    {
      "cell_type": "code",
      "metadata": {
        "id": "1JB6cDJ9EfzK"
      },
      "source": [
        "\"\"\"\n",
        "def build_user_freq_dictionary(batched_ds):\n",
        "  \n",
        "  #Editing this out because the next function can handle this functionality\n",
        "  #Given a Batched Dataset, build a dictionary of unique user IDs along\n",
        "  #with the # of times they have been seen in the full Batched Dataset\n",
        "  \n",
        "  user_freqs = defaultdict(int)\n",
        "  \n",
        "  with tqdm(total=len(batched_ds)) as progress_bar:        \n",
        "  \n",
        "    for feature_batch, _ in batched_ds:\n",
        "\n",
        "      #Get unique values of \"user_id\" from feature_batch\n",
        "      unique_ids, unique_counts = np.unique(feature_batch['user_id'].numpy(), return_counts=True)\n",
        "\n",
        "      #Iterate and increment\n",
        "      for id, count in zip(unique_ids, unique_counts):\n",
        "        user_freqs[id] += count\n",
        "      \n",
        "      progress_bar.update(1)\n",
        "    \n",
        "  return user_freqs\n",
        "\"\"\""
      ],
      "execution_count": 53,
      "outputs": []
    },
    {
      "cell_type": "code",
      "metadata": {
        "colab": {
          "base_uri": "https://localhost:8080/",
          "height": 154
        },
        "id": "j-uDayA_LZBH",
        "outputId": "97d5b800-b8c2-4639-922b-cbbbb00530ef"
      },
      "source": [
        "start = int(0*batch_size)\n",
        "stop = int(batch_size)\n",
        "model_output_batch = pred_outputs[start:stop]\n",
        "feature_batch, label_batch = iter(main_ds).get_next()\n",
        "label_batch_array = np.argmax(label_batch.numpy(), axis=1)\n",
        "print(model_output_batch)\n",
        "print(model_output_batch.shape)\n",
        "print(label_batch_array)\n",
        "print(label_batch_array.shape)\n",
        "comparison = (model_output_batch == label_batch_array).astype(int)\n",
        "print(comparison)\n",
        "print(np.sum(comparison)/comparison.shape[0])\n",
        "\"\"\"\n",
        "count = 0\n",
        "accu = 0\n",
        "\n",
        "temp_dict = defaultdict(int)\n",
        "feature_batch, label_batch = iter(main_ds).get_next()\n",
        "user_id_array = feature_batch['user_id'].numpy()\n",
        "label_array = label_batch.numpy()\n",
        "\n",
        "\"\"\""
      ],
      "execution_count": 64,
      "outputs": [
        {
          "output_type": "stream",
          "text": [
            "[1 7 2 ... 7 2 8]\n",
            "(2048,)\n",
            "[2 6 2 ... 8 2 8]\n",
            "(2048,)\n",
            "[0 0 1 ... 0 1 1]\n",
            "0.861328125\n"
          ],
          "name": "stdout"
        },
        {
          "output_type": "execute_result",
          "data": {
            "application/vnd.google.colaboratory.intrinsic+json": {
              "type": "string"
            },
            "text/plain": [
              "\"\\ncount = 0\\naccu = 0\\n\\ntemp_dict = defaultdict(int)\\nfeature_batch, label_batch = iter(main_ds).get_next()\\nuser_id_array = feature_batch['user_id'].numpy()\\nlabel_array = label_batch.numpy()\\n\\n\""
            ]
          },
          "metadata": {
            "tags": []
          },
          "execution_count": 64
        }
      ]
    },
    {
      "cell_type": "code",
      "metadata": {
        "id": "HK4jrY-zEu85"
      },
      "source": [
        "def build_user_accuracy_dictionary(batched_ds, model_outputs):\n",
        "\n",
        "  \"\"\" \n",
        "  Given a Batched Dataset and a model, build a dictionary of unique user IDs \n",
        "  along with their accuracy values in the batched dataset. As an interim step,\n",
        "  we use a list of 1s and 0s denoting correct/incorrect predictions to compute\n",
        "  these accuracy values\n",
        "  \"\"\"\n",
        "  user_results = defaultdict(list)\n",
        "  user_acc = defaultdict(int)\n",
        "  counter = 0 #For subsetting model_outputs\n",
        "  \n",
        "  with tqdm(total=len(batched_ds)) as progress_bar:  \n",
        "    for feature_batch, label_batch in batched_ds:    \n",
        "\n",
        "      model_output_batch = model_outputs[int(counter*batch_size):int((counter+1)*batch_size)]\n",
        "      user_id_numpy = feature_batch[\"user_id\"].numpy()\n",
        "      unique_ids = np.unique(user_id_numpy)    \n",
        "      #pred_batch = np.argmax(model.predict(feature_batch), axis=1)            \n",
        "      opt_action_numpy = np.argmax(label_batch.numpy(), axis=1)\n",
        "      comparison = (opt_action_numpy == model_output_batch).astype(int)\n",
        "          \n",
        "      for user_id in unique_ids:\n",
        "        \n",
        "        idx = np.where(user_id_numpy == user_id)\n",
        "        user_results[user_id].append(comparison[idx])\n",
        "        #pred_user_id = model_outputs[idx]\n",
        "        #target_user_id = opt_action_numpy[idx]      \n",
        "        #user_results[user_id].append(list((pred_user_id == target_user_id).astype(int)))\n",
        "        \n",
        "      counter += 1\n",
        "      progress_bar.update(1) # update progress\n",
        "      \n",
        "  for key, val in user_results.items():\n",
        "    user_results[key] = np.concatenate(val, axis=0)\n",
        "    user_acc[key] = np.mean(user_results[key])\n",
        "\n",
        "  return user_results, user_acc"
      ],
      "execution_count": 68,
      "outputs": []
    },
    {
      "cell_type": "code",
      "metadata": {
        "id": "arBEwEHoFZ3W"
      },
      "source": [
        "def plot_accuracy_frequency(user_results, user_acc_scores, bin_interval = 500):\n",
        "  \"\"\"\n",
        "  Given a user frequency dictionary and a user accuracy dictionary, \n",
        "  generate an accuracy vs. frequency plot. Both dicts share the same keys.\n",
        "  \"\"\"\n",
        "  #Get frequency of each user ID\n",
        "  freqs = [user_result.shape[0] for _, user_result in user_results.items()]\n",
        "\n",
        "  #Get accuracy of each user ID\n",
        "  accs = [user_acc for _, user_acc in user_acc_scores.items()]\n",
        "  \n",
        "  #If freqs repeat, take their mean accuracy + keep only 1 occurrence in the freq vector\n",
        "  #One strategy is to convert the 2 lists to a DataFrame and use groupby\n",
        "  df = pd.DataFrame({'frequency': freqs, 'accuracy': accs})\n",
        "  df_unique = df.groupby(\"frequency\", sort=True)[\"accuracy\"].mean().reset_index()\n",
        "  df_unique.plot.scatter(x=\"frequency\", y=\"accuracy\", figsize=(20,6), title=\"Accuracy vs. Frequency\", ylabel=\"Accuracy (Full Dataset)\", xlabel=\"Seen Frequency\")\n",
        "\n",
        "  #Bin the frequency data\n",
        "  bins = range(0, 20100, bin_interval)\n",
        "  df_unique[\"frequency_bins\"] = pd.cut(df_unique[\"frequency\"], bins)\n",
        "\n",
        "  #Group as per the bin\n",
        "  df_bin_group = df_unique.groupby(\"frequency_bins\", sort=True)[\"accuracy\"].mean().reset_index()\n",
        "  ax = df_bin_group.plot.bar(x=\"frequency_bins\", y=\"accuracy\", rot=45, figsize=(20,6), title=\"Accuracy vs. Frequency Bins\", ylabel=\"accuracy\", xlabel=\"frequency (Bins)\")"
      ],
      "execution_count": 118,
      "outputs": []
    },
    {
      "cell_type": "code",
      "metadata": {
        "id": "-Zu4ULjnGDkq"
      },
      "source": [
        "#Create the main batched dataset\n",
        "main_ds = df_to_dataloader(Path(\"/content/drive/MyDrive/Bandit_Project/BanditsData/generated4.csv\"), \n",
        "                 feature_columns, \n",
        "                 target_column, \n",
        "                 batch_size=batch_size,\n",
        "                 shuffle=False,\n",
        "                 subtract=True)"
      ],
      "execution_count": 57,
      "outputs": []
    },
    {
      "cell_type": "code",
      "metadata": {
        "colab": {
          "base_uri": "https://localhost:8080/"
        },
        "id": "F1ateaqvPmYk",
        "outputId": "d6acd32d-cf85-4ac0-f811-53d59b891bc5"
      },
      "source": [
        "#Generate the user frequency dictionary\n",
        "#user_freq = build_user_freq_dictionary(main_ds)"
      ],
      "execution_count": 58,
      "outputs": [
        {
          "output_type": "stream",
          "text": [
            "100%|██████████| 4883/4883 [00:21<00:00, 228.37it/s]\n"
          ],
          "name": "stderr"
        }
      ]
    },
    {
      "cell_type": "code",
      "metadata": {
        "colab": {
          "base_uri": "https://localhost:8080/"
        },
        "id": "T6Nt0g4qUYcC",
        "outputId": "809a7c7f-66cf-48a1-8fcd-6fe622fd7e6a"
      },
      "source": [
        "\"\"\"\n",
        "#Editing this out because next function handles this functionality\n",
        "#Display outputs for inspection\n",
        "num_users, num_times = (0, 0)\n",
        "for key, val in user_freq.items():\n",
        "  num_users += 1\n",
        "  num_times += val\n",
        "\n",
        "#Display purposes\n",
        "print(f\"[INFO] There are {num_users} unique users and {num_times} observations.\")\n",
        "cnt = 0\n",
        "for key, val in user_freq.items():\n",
        "  print(f\"[INFO] User #{key} has been seen {val} times\")\n",
        "  cnt += 1\n",
        "  if cnt == 10:\n",
        "    break\n",
        "\"\"\""
      ],
      "execution_count": 59,
      "outputs": [
        {
          "output_type": "stream",
          "text": [
            "[INFO] There are 1000 unique users and 10000000 observations.\n",
            "[INFO] User #1 has been seen 12060 times\n",
            "[INFO] User #4 has been seen 11641 times\n",
            "[INFO] User #5 has been seen 1273 times\n",
            "[INFO] User #7 has been seen 9216 times\n",
            "[INFO] User #8 has been seen 16001 times\n",
            "[INFO] User #9 has been seen 2857 times\n",
            "[INFO] User #10 has been seen 17601 times\n",
            "[INFO] User #11 has been seen 4839 times\n",
            "[INFO] User #12 has been seen 9091 times\n",
            "[INFO] User #14 has been seen 5810 times\n"
          ],
          "name": "stdout"
        }
      ]
    },
    {
      "cell_type": "code",
      "metadata": {
        "colab": {
          "base_uri": "https://localhost:8080/"
        },
        "id": "gEQ_VzY-lpzx",
        "outputId": "86f1bedd-9be0-45c2-b891-969be19e7357"
      },
      "source": [
        "#Generate softmax and class outputs\n",
        "predictions = wdmodel_1.predict(main_ds, verbose=1)\n",
        "pred_outputs = np.argmax(predictions, axis=1)\n",
        "\n",
        "#Evaluate on the full set —> This was done for debugging. Passed.\n",
        "#results = wdmodel_1.evaluate(main_ds)\n",
        "#results"
      ],
      "execution_count": 60,
      "outputs": [
        {
          "output_type": "stream",
          "text": [
            "4883/4883 [==============================] - 133s 27ms/step\n"
          ],
          "name": "stdout"
        }
      ]
    },
    {
      "cell_type": "code",
      "metadata": {
        "colab": {
          "base_uri": "https://localhost:8080/"
        },
        "id": "ktC7KY0XYosd",
        "outputId": "d91fd105-eaa6-414f-c8b2-5052f8297c9b"
      },
      "source": [
        "user_results, user_acc_scores = build_user_accuracy_dictionary(main_ds, pred_outputs)"
      ],
      "execution_count": 69,
      "outputs": [
        {
          "output_type": "stream",
          "text": [
            "100%|██████████| 4883/4883 [00:39<00:00, 122.37it/s]\n"
          ],
          "name": "stderr"
        }
      ]
    },
    {
      "cell_type": "code",
      "metadata": {
        "id": "SGvOp0Azq_Np",
        "colab": {
          "base_uri": "https://localhost:8080/"
        },
        "outputId": "09ef04a0-fdf4-4c4f-c2d5-916ec5d51295"
      },
      "source": [
        "#Display outputs for inspection\n",
        "num_users, num_times = (0, 0)\n",
        "for key, val in user_results.items():\n",
        "  num_users += 1\n",
        "  num_times += val.shape[0]\n",
        "\n",
        "#Display to see what's going on\n",
        "print(f\"[INFO] There are {num_users} unique users and {num_times} observations.\")\n",
        "cnt = 0\n",
        "for key, val in user_results.items():\n",
        "  print(f\"[INFO] User ID {key}: Seen {val.shape[0]} times, Avg Acc. {user_acc_scores[key]:.3f}\")\n",
        "  cnt += 1\n",
        "  if cnt == 10:\n",
        "    break"
      ],
      "execution_count": 73,
      "outputs": [
        {
          "output_type": "stream",
          "text": [
            "[INFO] There are 1000 unique users and 10000000 observations.\n",
            "[INFO] User ID 1: Seen 12060 times, Avg Acc. 0.818\n",
            "[INFO] User ID 4: Seen 11641 times, Avg Acc. 0.798\n",
            "[INFO] User ID 5: Seen 1273 times, Avg Acc. 0.817\n",
            "[INFO] User ID 7: Seen 9216 times, Avg Acc. 0.741\n",
            "[INFO] User ID 8: Seen 16001 times, Avg Acc. 0.935\n",
            "[INFO] User ID 9: Seen 2857 times, Avg Acc. 0.779\n",
            "[INFO] User ID 10: Seen 17601 times, Avg Acc. 0.847\n",
            "[INFO] User ID 11: Seen 4839 times, Avg Acc. 0.872\n",
            "[INFO] User ID 12: Seen 9091 times, Avg Acc. 0.786\n",
            "[INFO] User ID 14: Seen 5810 times, Avg Acc. 0.714\n"
          ],
          "name": "stdout"
        }
      ]
    },
    {
      "cell_type": "code",
      "metadata": {
        "id": "BpPmCaGtrqTG",
        "colab": {
          "base_uri": "https://localhost:8080/",
          "height": 731
        },
        "outputId": "ab9ebe67-506b-4f27-e9fc-0c0c37c46317"
      },
      "source": [
        "plot_accuracy_frequency(user_results, user_acc_scores)"
      ],
      "execution_count": 119,
      "outputs": [
        {
          "output_type": "display_data",
          "data": {
            "image/png": "[encoded data removed]",
            "text/plain": [
              "<Figure size 1440x432 with 1 Axes>"
            ]
          },
          "metadata": {
            "tags": [],
            "needs_background": "light"
          }
        },
        {
          "output_type": "display_data",
          "data": {
            "image/png": "[encoded data removed]",
            "text/plain": [
              "<Figure size 1440x432 with 1 Axes>"
            ]
          },
          "metadata": {
            "tags": [],
            "needs_background": "light"
          }
        }
      ]
    }
  ]
}