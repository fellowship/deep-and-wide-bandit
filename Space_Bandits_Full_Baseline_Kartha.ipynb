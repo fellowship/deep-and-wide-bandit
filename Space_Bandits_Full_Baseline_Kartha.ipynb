{
  "nbformat": 4,
  "nbformat_minor": 0,
  "metadata": {
    "colab": {
      "name": "Space_Bandits_Full_Baseline_Kartha.ipynb",
      "provenance": [],
      "toc_visible": true,
      "authorship_tag": "ABX9TyOflVG4Bx6VsGAKVDBjJxjX",
      "include_colab_link": true
    },
    "kernelspec": {
      "name": "python3",
      "display_name": "Python 3"
    }
  },
  "cells": [
    {
      "cell_type": "markdown",
      "metadata": {
        "id": "view-in-github",
        "colab_type": "text"
      },
      "source": [
        "<a href=\"https://colab.research.google.com/github/fellowship/deep-and-wide-bandit/blob/dev/Space_Bandits_Full_Baseline_Kartha.ipynb\" target=\"_parent\"><img src=\"https://colab.research.google.com/assets/colab-badge.svg\" alt=\"Open In Colab\"/></a>"
      ]
    },
    {
      "cell_type": "code",
      "metadata": {
        "colab": {
          "base_uri": "https://localhost:8080/"
        },
        "id": "5vhJOAyQiSkY",
        "outputId": "3c0cd443-9fb5-484a-eb8f-7e4dab9bbf42"
      },
      "source": [
        "!pip install space-bandits"
      ],
      "execution_count": 1,
      "outputs": [
        {
          "output_type": "stream",
          "text": [
            "Collecting space-bandits\n",
            "  Downloading https://files.pythonhosted.org/packages/38/25/1e2b2b5c6692dd334ab1c73cc19a4b160124efc6c54c7a90293e02228b72/space-bandits-0.0.992.tar.gz\n",
            "Requirement already satisfied: torch in /usr/local/lib/python3.6/dist-packages (from space-bandits) (1.7.0+cu101)\n",
            "Requirement already satisfied: numpy in /usr/local/lib/python3.6/dist-packages (from space-bandits) (1.19.5)\n",
            "Requirement already satisfied: scipy in /usr/local/lib/python3.6/dist-packages (from space-bandits) (1.4.1)\n",
            "Requirement already satisfied: pandas in /usr/local/lib/python3.6/dist-packages (from space-bandits) (1.1.5)\n",
            "Requirement already satisfied: cython in /usr/local/lib/python3.6/dist-packages (from space-bandits) (0.29.21)\n",
            "Requirement already satisfied: scikit-learn in /usr/local/lib/python3.6/dist-packages (from space-bandits) (0.22.2.post1)\n",
            "Requirement already satisfied: dataclasses in /usr/local/lib/python3.6/dist-packages (from torch->space-bandits) (0.8)\n",
            "Requirement already satisfied: typing-extensions in /usr/local/lib/python3.6/dist-packages (from torch->space-bandits) (3.7.4.3)\n",
            "Requirement already satisfied: future in /usr/local/lib/python3.6/dist-packages (from torch->space-bandits) (0.16.0)\n",
            "Requirement already satisfied: python-dateutil>=2.7.3 in /usr/local/lib/python3.6/dist-packages (from pandas->space-bandits) (2.8.1)\n",
            "Requirement already satisfied: pytz>=2017.2 in /usr/local/lib/python3.6/dist-packages (from pandas->space-bandits) (2018.9)\n",
            "Requirement already satisfied: joblib>=0.11 in /usr/local/lib/python3.6/dist-packages (from scikit-learn->space-bandits) (1.0.0)\n",
            "Requirement already satisfied: six>=1.5 in /usr/local/lib/python3.6/dist-packages (from python-dateutil>=2.7.3->pandas->space-bandits) (1.15.0)\n",
            "Building wheels for collected packages: space-bandits\n",
            "  Building wheel for space-bandits (setup.py) ... \u001b[?25l\u001b[?25hdone\n",
            "  Created wheel for space-bandits: filename=space_bandits-0.0.992-cp36-none-any.whl size=17441 sha256=59b2c0f4a4867e0796c2b7a13d42400ecba92ffa50758cbfba2c3d0167b39e8a\n",
            "  Stored in directory: /root/.cache/pip/wheels/a7/0c/a7/4bae68f8e665b4c68e7cb7ae7fff88269f3551a4b56b598a42\n",
            "Successfully built space-bandits\n",
            "Installing collected packages: space-bandits\n",
            "Successfully installed space-bandits-0.0.992\n"
          ],
          "name": "stdout"
        }
      ]
    },
    {
      "cell_type": "markdown",
      "metadata": {
        "id": "-e57NOs1k8NJ"
      },
      "source": [
        "#Importing packages"
      ]
    },
    {
      "cell_type": "code",
      "metadata": {
        "colab": {
          "base_uri": "https://localhost:8080/"
        },
        "id": "q-HbCWh_nAV8",
        "outputId": "0ed41473-197f-4a22-e2ae-7c826160957a"
      },
      "source": [
        "from google.colab import drive\n",
        "drive.mount('/content/gdrive')"
      ],
      "execution_count": 2,
      "outputs": [
        {
          "output_type": "stream",
          "text": [
            "Mounted at /content/gdrive\n"
          ],
          "name": "stdout"
        }
      ]
    },
    {
      "cell_type": "code",
      "metadata": {
        "id": "GuXbHt7FnK9E"
      },
      "source": [
        "import pandas as pd\n",
        "\n",
        "#Formatting .describe() calls s.t. floats are displayed in non-scientific notation\n",
        "pd.set_option('display.float_format', lambda x: '%.5f' % x)\n",
        "\n",
        "from pathlib import Path\n",
        "%matplotlib inline\n",
        "import matplotlib.pyplot as plt\n",
        "import random\n",
        "import seaborn as sns\n",
        "import numpy as np\n",
        "import json\n",
        "import pickle as pkl\n",
        "import warnings\n",
        "from pprint import pprint\n",
        "from sklearn.metrics import confusion_matrix\n",
        "\n",
        "warnings.filterwarnings(\"ignore\", category=DeprecationWarning)\n",
        "\n",
        "from IPython.core.interactiveshell import InteractiveShell  \n",
        "InteractiveShell.ast_node_interactivity = \"all\""
      ],
      "execution_count": 3,
      "outputs": []
    },
    {
      "cell_type": "markdown",
      "metadata": {
        "id": "MnqGNTKllBXh"
      },
      "source": [
        "#Importing Supporting Files + Dataset\n"
      ]
    },
    {
      "cell_type": "markdown",
      "metadata": {
        "id": "noM7XlW_odkq"
      },
      "source": [
        "##Importing dtypes.json"
      ]
    },
    {
      "cell_type": "code",
      "metadata": {
        "colab": {
          "base_uri": "https://localhost:8080/"
        },
        "id": "1yoS5-P0okqX",
        "outputId": "9b41b814-2a80-4e06-8a69-305eb14e2885"
      },
      "source": [
        "#Set the filepath\n",
        "dtypes_filepath = '/content/gdrive/MyDrive/Bandit_Project/dtypes.json'\n",
        "\n",
        "#Load dtypes.json to a dtypes dictionary\n",
        "with open(dtypes_filepath, mode='r') as dtypes_file:\n",
        "  dtypes_dict = json.load(dtypes_file)\n",
        "\n",
        "#Print the keys and values of dtypes_dict to cross-check\n",
        "print(\"[INFO] Printing the dtypes dictionary... \")\n",
        "pprint(dtypes_dict)"
      ],
      "execution_count": 4,
      "outputs": [
        {
          "output_type": "stream",
          "text": [
            "[INFO] Printing the dtypes dictionary... \n",
            "{'aq_dow': 'object',\n",
            " 'aq_mo': 'object',\n",
            " 'aq_period': 'bool',\n",
            " 'campaign_Brand': 'int64',\n",
            " 'campaign_Collection': 'int64',\n",
            " 'campaign_Core': 'int64',\n",
            " 'campaign_Dedicated': 'int64',\n",
            " 'campaign_InnovationSpotlight': 'int64',\n",
            " 'campaign_NewArrivals': 'int64',\n",
            " 'campaign_Other': 'int64',\n",
            " 'campaign_ProductSpotlight': 'int64',\n",
            " 'campaign_Replen': 'int64',\n",
            " 'campaign_Tops': 'int64',\n",
            " 'campaign_Trend': 'int64',\n",
            " 'campaign_id': 'int64',\n",
            " 'days_subscr': 'int64',\n",
            " 'discount': 'int64',\n",
            " 'free_shipping': 'int64',\n",
            " 'frequency_score': 'int64',\n",
            " 'has_urgency': 'int64',\n",
            " 'is_discount_mentioned': 'int64',\n",
            " 'is_exclusive': 'int64',\n",
            " 'is_one_for_free': 'int64',\n",
            " 'message_size': 'int64',\n",
            " 'opened': 'int64',\n",
            " 'optimal_action': 'int64',\n",
            " 'promo': 'int64',\n",
            " 'recency_score': 'float64',\n",
            " 'retention_score': 'float64',\n",
            " 'rev_3dv2': 'float64',\n",
            " 'reward': 'int64',\n",
            " 'riid': 'int64',\n",
            " 'sale': 'int64',\n",
            " 'sends_since_last_open': 'int64',\n",
            " 'sent_dayofweek': 'int64',\n",
            " 'sent_hr': 'int64',\n",
            " 'sent_week': 'UInt32',\n",
            " 'sl_contains_price': 'int64',\n",
            " 'unsub': 'int64'}\n"
          ],
          "name": "stdout"
        }
      ]
    },
    {
      "cell_type": "markdown",
      "metadata": {
        "id": "CbvwRCy9odwC"
      },
      "source": [
        "##Importing rolling_statistics.pkl"
      ]
    },
    {
      "cell_type": "code",
      "metadata": {
        "colab": {
          "base_uri": "https://localhost:8080/"
        },
        "id": "6RkxnbvbpdiX",
        "outputId": "edd467c1-58bf-4e03-fe7f-b018591b2cfc"
      },
      "source": [
        "#Set the filepath\n",
        "rolling_stats_filepath = '/content/gdrive/MyDrive/Bandit_Project/rolling_statistics.pkl'\n",
        "\n",
        "#Load rolling_statistics.pkl to a rolling  dictionary\n",
        "with open(rolling_stats_filepath, mode='rb') as rolling_stats_file:\n",
        "  rolling_stats = pkl.load(rolling_stats_file)\n",
        "\n",
        "#Print the keys and values of the dictionary to cross-check\n",
        "print(\"[INFO] Printing the rolling_stats dictionary... \")\n",
        "pprint(rolling_stats)"
      ],
      "execution_count": 5,
      "outputs": [
        {
          "output_type": "stream",
          "text": [
            "[INFO] Printing the rolling_stats dictionary... \n",
            "{'days_subscr': {'max': 3917,\n",
            "                 'mean': 1332.471434552341,\n",
            "                 'min': 0,\n",
            "                 'std': 822.6802670330655},\n",
            " 'discount': {'max': 75,\n",
            "              'mean': 11.300244227332426,\n",
            "              'min': 0,\n",
            "              'std': 19.60056341212265},\n",
            " 'frequency_score': {'max': 163,\n",
            "                     'mean': 14.977138288600283,\n",
            "                     'min': 0,\n",
            "                     'std': 20.754428265423773},\n",
            " 'message_size': {'max': 354737,\n",
            "                  'mean': 155242.30496730257,\n",
            "                  'min': 80267,\n",
            "                  'std': 36298.15284468782},\n",
            " 'previous_n_so_far': 88653468,\n",
            " 'recency_score': {'max': 27.428571428571427,\n",
            "                   'mean': 1.23904221901564,\n",
            "                   'min': 0.0,\n",
            "                   'std': 2.216794122042123},\n",
            " 'retention_score': {'max': 28.0,\n",
            "                     'mean': 11.467980895825553,\n",
            "                     'min': 0.15384615384615385,\n",
            "                     'std': 11.35391986430546},\n",
            " 'rev_3dv2': {'max': 3526.84,\n",
            "              'mean': 0.059812179033985384,\n",
            "              'min': -14.0,\n",
            "              'std': 2.792981337202308},\n",
            " 'sends_since_last_open': {'max': 182,\n",
            "                           'mean': 11.36886785974351,\n",
            "                           'min': 0,\n",
            "                           'std': 14.997835900332081},\n",
            " 'sent_dayofweek': {'max': 6,\n",
            "                    'mean': 2.638369149867888,\n",
            "                    'min': 0,\n",
            "                    'std': 2.163983074344224},\n",
            " 'sent_hr': {'max': 23,\n",
            "             'mean': 17.291778162586947,\n",
            "             'min': 0,\n",
            "             'std': 3.9303658889007997},\n",
            " 'sent_week': {'max': 52,\n",
            "               'mean': 28.594960628048973,\n",
            "               'min': 1,\n",
            "               'std': 14.377041994557581}}\n"
          ],
          "name": "stdout"
        }
      ]
    },
    {
      "cell_type": "markdown",
      "metadata": {
        "id": "8P0q7bp4E9u7"
      },
      "source": [
        "## Train-Valid Split"
      ]
    },
    {
      "cell_type": "code",
      "metadata": {
        "colab": {
          "base_uri": "https://localhost:8080/",
          "height": 1000
        },
        "id": "ePJ2RiXJ2hHY",
        "outputId": "ef6863f2-ff55-402a-bfa2-555781ed54bf"
      },
      "source": [
        "#Create a sorted list of path objects & path object names for each of the weekly files\n",
        "weekly_file_names_generator = Path(\"/content/gdrive/MyDrive/Bandit_Project\").glob('df_20*.csv.gz')\n",
        "weekly_file_paths_list = sorted(list(weekly_file_names_generator))\n",
        "weekly_file_names_list = [str(path_obj) for path_obj in weekly_file_paths_list]\n",
        "\n",
        "\"\"\"\n",
        "Code for adding a new variable that stores the sizes of each weekly csv\n",
        "for train_test_split\n",
        "\n",
        "#Initialize a dictionary to keep track of the count\n",
        "weekly_numbers = {}\n",
        "\n",
        "#Iterate through the weekly file paths list to get length of each dataframe\n",
        "for path_obj, file_name in zip(weekly_file_paths_list, weekly_file_names_list):\n",
        "\n",
        "  #Print status update\n",
        "  pprint(f\"[INFO] Working on {file_name}...\")\n",
        "\n",
        "  #Get the length of the dataframe\n",
        "  df = pd.read_csv(path_obj, header=None)\n",
        "  length = len(df)\n",
        "\n",
        "  #Update the count dictionary\n",
        "  weekly_numbers[file_name] = length\n",
        "\n",
        "#Set the filepath\n",
        "obj_to_pickle = weekly_numbers\n",
        "filepath = Path(r\"/content/gdrive/MyDrive/Bandit_Project\")/'weekly_df_counts.pkl'\n",
        "\n",
        "#Pickle it\n",
        "with open(filepath, mode='wb') as file:\n",
        "  pkl.dump(obj_to_pickle, file)\n",
        "\n",
        "#Load it\n",
        "with open(filepath, mode='rb') as file:\n",
        "  obj_from_pickle = pkl.load(file)\n",
        "\"\"\"\n",
        "#Load already saved weekly numbers file\n",
        "filepath = Path(r\"/content/gdrive/MyDrive/Bandit_Project\")/'weekly_df_counts.pkl'\n",
        "\n",
        "with filepath.open(mode='rb') as file:\n",
        "  weekly_numbers = pkl.load(file)\n",
        "\n",
        "#Pprint the loaded object\n",
        "print(\"[INFO] Printing the object... \")\n",
        "pprint(weekly_numbers)"
      ],
      "execution_count": 6,
      "outputs": [
        {
          "output_type": "execute_result",
          "data": {
            "application/vnd.google.colaboratory.intrinsic+json": {
              "type": "string"
            },
            "text/plain": [
              "'\\nCode for adding a new variable that stores the sizes of each weekly csv\\nfor train_test_split\\n\\n#Initialize a dictionary to keep track of the count\\nweekly_numbers = {}\\n\\n#Iterate through the weekly file paths list to get length of each dataframe\\nfor path_obj, file_name in zip(weekly_file_paths_list, weekly_file_names_list):\\n\\n  #Print status update\\n  pprint(f\"[INFO] Working on {file_name}...\")\\n\\n  #Get the length of the dataframe\\n  df = pd.read_csv(path_obj, header=None)\\n  length = len(df)\\n\\n  #Update the count dictionary\\n  weekly_numbers[file_name] = length\\n\\n#Set the filepath\\nobj_to_pickle = weekly_numbers\\nfilepath = Path(r\"/content/gdrive/MyDrive/Bandit_Project\")/\\'weekly_df_counts.pkl\\'\\n\\n#Pickle it\\nwith open(filepath, mode=\\'wb\\') as file:\\n  pkl.dump(obj_to_pickle, file)\\n\\n#Load it\\nwith open(filepath, mode=\\'rb\\') as file:\\n  obj_from_pickle = pkl.load(file)\\n'"
            ]
          },
          "metadata": {
            "tags": []
          },
          "execution_count": 6
        },
        {
          "output_type": "stream",
          "text": [
            "[INFO] Printing the object... \n",
            "{'/content/gdrive/MyDrive/Bandit_Project/df_2019_27.csv.gz': 1063807,\n",
            " '/content/gdrive/MyDrive/Bandit_Project/df_2019_28.csv.gz': 954637,\n",
            " '/content/gdrive/MyDrive/Bandit_Project/df_2019_29.csv.gz': 1004258,\n",
            " '/content/gdrive/MyDrive/Bandit_Project/df_2019_30.csv.gz': 990866,\n",
            " '/content/gdrive/MyDrive/Bandit_Project/df_2019_31.csv.gz': 1176926,\n",
            " '/content/gdrive/MyDrive/Bandit_Project/df_2019_32.csv.gz': 1400196,\n",
            " '/content/gdrive/MyDrive/Bandit_Project/df_2019_33.csv.gz': 963034,\n",
            " '/content/gdrive/MyDrive/Bandit_Project/df_2019_34.csv.gz': 900302,\n",
            " '/content/gdrive/MyDrive/Bandit_Project/df_2019_35.csv.gz': 1120356,\n",
            " '/content/gdrive/MyDrive/Bandit_Project/df_2019_36.csv.gz': 1340893,\n",
            " '/content/gdrive/MyDrive/Bandit_Project/df_2019_37.csv.gz': 1147006,\n",
            " '/content/gdrive/MyDrive/Bandit_Project/df_2019_38.csv.gz': 925911,\n",
            " '/content/gdrive/MyDrive/Bandit_Project/df_2019_39.csv.gz': 1446852,\n",
            " '/content/gdrive/MyDrive/Bandit_Project/df_2019_40.csv.gz': 1714915,\n",
            " '/content/gdrive/MyDrive/Bandit_Project/df_2019_41.csv.gz': 1216350,\n",
            " '/content/gdrive/MyDrive/Bandit_Project/df_2019_42.csv.gz': 998665,\n",
            " '/content/gdrive/MyDrive/Bandit_Project/df_2019_43.csv.gz': 1492158,\n",
            " '/content/gdrive/MyDrive/Bandit_Project/df_2019_44.csv.gz': 1125608,\n",
            " '/content/gdrive/MyDrive/Bandit_Project/df_2019_45.csv.gz': 1197820,\n",
            " '/content/gdrive/MyDrive/Bandit_Project/df_2019_46.csv.gz': 1604118,\n",
            " '/content/gdrive/MyDrive/Bandit_Project/df_2019_47.csv.gz': 968214,\n",
            " '/content/gdrive/MyDrive/Bandit_Project/df_2019_48.csv.gz': 4308332,\n",
            " '/content/gdrive/MyDrive/Bandit_Project/df_2019_49.csv.gz': 2446435,\n",
            " '/content/gdrive/MyDrive/Bandit_Project/df_2019_50.csv.gz': 1442802,\n",
            " '/content/gdrive/MyDrive/Bandit_Project/df_2019_51.csv.gz': 1069451,\n",
            " '/content/gdrive/MyDrive/Bandit_Project/df_2019_52.csv.gz': 1509395,\n",
            " '/content/gdrive/MyDrive/Bandit_Project/df_2020_01.csv.gz': 2530361,\n",
            " '/content/gdrive/MyDrive/Bandit_Project/df_2020_02.csv.gz': 1204526,\n",
            " '/content/gdrive/MyDrive/Bandit_Project/df_2020_03.csv.gz': 1143742,\n",
            " '/content/gdrive/MyDrive/Bandit_Project/df_2020_04.csv.gz': 1865781,\n",
            " '/content/gdrive/MyDrive/Bandit_Project/df_2020_05.csv.gz': 765901,\n",
            " '/content/gdrive/MyDrive/Bandit_Project/df_2020_06.csv.gz': 1200701,\n",
            " '/content/gdrive/MyDrive/Bandit_Project/df_2020_07.csv.gz': 1217747,\n",
            " '/content/gdrive/MyDrive/Bandit_Project/df_2020_08.csv.gz': 865273,\n",
            " '/content/gdrive/MyDrive/Bandit_Project/df_2020_09.csv.gz': 800686,\n",
            " '/content/gdrive/MyDrive/Bandit_Project/df_2020_10.csv.gz': 1096510,\n",
            " '/content/gdrive/MyDrive/Bandit_Project/df_2020_11.csv.gz': 2391710,\n",
            " '/content/gdrive/MyDrive/Bandit_Project/df_2020_12.csv.gz': 1855921,\n",
            " '/content/gdrive/MyDrive/Bandit_Project/df_2020_13.csv.gz': 750746,\n",
            " '/content/gdrive/MyDrive/Bandit_Project/df_2020_14.csv.gz': 1570088,\n",
            " '/content/gdrive/MyDrive/Bandit_Project/df_2020_15.csv.gz': 1188052,\n",
            " '/content/gdrive/MyDrive/Bandit_Project/df_2020_16.csv.gz': 1004923,\n",
            " '/content/gdrive/MyDrive/Bandit_Project/df_2020_17.csv.gz': 1461307,\n",
            " '/content/gdrive/MyDrive/Bandit_Project/df_2020_18.csv.gz': 770727,\n",
            " '/content/gdrive/MyDrive/Bandit_Project/df_2020_19.csv.gz': 770718,\n",
            " '/content/gdrive/MyDrive/Bandit_Project/df_2020_20.csv.gz': 1958198,\n",
            " '/content/gdrive/MyDrive/Bandit_Project/df_2020_21.csv.gz': 1883131,\n",
            " '/content/gdrive/MyDrive/Bandit_Project/df_2020_22.csv.gz': 751662,\n",
            " '/content/gdrive/MyDrive/Bandit_Project/df_2020_23.csv.gz': 1368351,\n",
            " '/content/gdrive/MyDrive/Bandit_Project/df_2020_24.csv.gz': 913887,\n",
            " '/content/gdrive/MyDrive/Bandit_Project/df_2020_25.csv.gz': 1179534,\n",
            " '/content/gdrive/MyDrive/Bandit_Project/df_2020_26.csv.gz': 1906193,\n",
            " '/content/gdrive/MyDrive/Bandit_Project/df_2020_27.csv.gz': 783701,\n",
            " '/content/gdrive/MyDrive/Bandit_Project/df_2020_28.csv.gz': 1906203,\n",
            " '/content/gdrive/MyDrive/Bandit_Project/df_2020_29.csv.gz': 1038333,\n",
            " '/content/gdrive/MyDrive/Bandit_Project/df_2020_30.csv.gz': 738911,\n",
            " '/content/gdrive/MyDrive/Bandit_Project/df_2020_31.csv.gz': 1847411,\n",
            " '/content/gdrive/MyDrive/Bandit_Project/df_2020_32.csv.gz': 860892,\n",
            " '/content/gdrive/MyDrive/Bandit_Project/df_2020_33.csv.gz': 1888343,\n",
            " '/content/gdrive/MyDrive/Bandit_Project/df_2020_34.csv.gz': 1957786,\n",
            " '/content/gdrive/MyDrive/Bandit_Project/df_2020_35.csv.gz': 888180,\n",
            " '/content/gdrive/MyDrive/Bandit_Project/df_2020_36.csv.gz': 2007110,\n",
            " '/content/gdrive/MyDrive/Bandit_Project/df_2020_37.csv.gz': 1664062,\n",
            " '/content/gdrive/MyDrive/Bandit_Project/df_2020_38.csv.gz': 1195653,\n",
            " '/content/gdrive/MyDrive/Bandit_Project/df_2020_39.csv.gz': 1467785}\n"
          ],
          "name": "stdout"
        }
      ]
    },
    {
      "cell_type": "code",
      "metadata": {
        "colab": {
          "base_uri": "https://localhost:8080/"
        },
        "id": "mPNWht1w7CrQ",
        "outputId": "3fde3834-8ebf-4e1e-b12a-f5e92d90efa4"
      },
      "source": [
        "#Need to find out at which weekly csv corresponds to 80% from start OR 20% from end\n",
        "split_ratio = 0.8\n",
        "train_split = int(split_ratio * rolling_stats['previous_n_so_far'])\n",
        "valid_split = rolling_stats['previous_n_so_far'] - train_split\n",
        "\n",
        "#Iterate over the sorted weekly_file_names_list backwards, get corresponding val \n",
        "#from weekly_numbers dict + Use a counter to exit the loop when we have crossed the valid_split\n",
        "cnt = 0\n",
        "split_key = ''\n",
        "split_index = 0\n",
        "reversed_weekly_file_names_list = sorted(weekly_file_names_list, reverse=True)\n",
        "\n",
        "for index, filename_key in enumerate(reversed_weekly_file_names_list):\n",
        "  cnt += weekly_numbers[filename_key]\n",
        "  if cnt >= valid_split:\n",
        "    split_key = filename_key\n",
        "    split_index = index\n",
        "    break\n",
        "\n",
        "valid_list = [reversed_weekly_file_names_list[i] for i in range(0, split_index + 1)][::-1]\n",
        "train_list = [el for el in weekly_file_names_list if el not in valid_list]\n",
        "\n",
        "print(f\"[INFO] Training Set: {reversed_weekly_file_names_list[-1]} to {reversed_weekly_file_names_list[split_index+1]}, Size: {rolling_stats['previous_n_so_far'] - cnt} examples\")\n",
        "print(f\"[INFO] Validation Set: {split_key} to {reversed_weekly_file_names_list[0]}, Size: {cnt} examples\")"
      ],
      "execution_count": 7,
      "outputs": [
        {
          "output_type": "stream",
          "text": [
            "[INFO] Training Set: /content/gdrive/MyDrive/Bandit_Project/df_2019_27.csv.gz to /content/gdrive/MyDrive/Bandit_Project/df_2020_26.csv.gz, Size: 70409098 examples\n",
            "[INFO] Validation Set: /content/gdrive/MyDrive/Bandit_Project/df_2020_27.csv.gz to /content/gdrive/MyDrive/Bandit_Project/df_2020_39.csv.gz, Size: 18244370 examples\n"
          ],
          "name": "stdout"
        }
      ]
    },
    {
      "cell_type": "code",
      "metadata": {
        "colab": {
          "base_uri": "https://localhost:8080/",
          "height": 1000
        },
        "id": "15wTDePkChxp",
        "outputId": "3e82b853-991f-448b-9c8d-6d451b6b678d"
      },
      "source": [
        "\"\"\"\n",
        "#Pretty print the training and validation set\n",
        "print(\"[INFO] The training set is :\")\n",
        "pprint(train_list)\n",
        "print(\"\\n[INFO] The validation set is :\")\n",
        "pprint(valid_list)\n",
        "\n",
        "#Set the filepath\n",
        "obj_to_save = {'train': train_list, 'valid':valid_list}\n",
        "filepath = Path(r\"/content/gdrive/MyDrive/Bandit_Project\")/'train_valid_files.json'\n",
        "\n",
        "#Pickle it\n",
        "with open(filepath, mode='w') as file:\n",
        "  json.dump(obj_to_save, file)\n",
        "\"\"\"\n",
        "#Load train-valid split\n",
        "filepath = Path(r\"/content/gdrive/MyDrive/Bandit_Project\")/'train_valid_files.json'\n",
        "with open(filepath, mode='r') as file:\n",
        "  train_valid_files = json.load(file)\n",
        "\n",
        "#Pprint the loaded object\n",
        "print(\"[INFO] Printing the object... \")\n",
        "pprint(train_valid_files)"
      ],
      "execution_count": 8,
      "outputs": [
        {
          "output_type": "execute_result",
          "data": {
            "application/vnd.google.colaboratory.intrinsic+json": {
              "type": "string"
            },
            "text/plain": [
              "'\\n#Pretty print the training and validation set\\nprint(\"[INFO] The training set is :\")\\npprint(train_list)\\nprint(\"\\n[INFO] The validation set is :\")\\npprint(valid_list)\\n\\n#Set the filepath\\nobj_to_save = {\\'train\\': train_list, \\'valid\\':valid_list}\\nfilepath = Path(r\"/content/gdrive/MyDrive/Bandit_Project\")/\\'train_valid_files.json\\'\\n\\n#Pickle it\\nwith open(filepath, mode=\\'w\\') as file:\\n  json.dump(obj_to_save, file)\\n'"
            ]
          },
          "metadata": {
            "tags": []
          },
          "execution_count": 8
        },
        {
          "output_type": "stream",
          "text": [
            "[INFO] Printing the object... \n",
            "{'train': ['/content/gdrive/MyDrive/Bandit_Project/df_2019_27.csv.gz',\n",
            "           '/content/gdrive/MyDrive/Bandit_Project/df_2019_28.csv.gz',\n",
            "           '/content/gdrive/MyDrive/Bandit_Project/df_2019_29.csv.gz',\n",
            "           '/content/gdrive/MyDrive/Bandit_Project/df_2019_30.csv.gz',\n",
            "           '/content/gdrive/MyDrive/Bandit_Project/df_2019_31.csv.gz',\n",
            "           '/content/gdrive/MyDrive/Bandit_Project/df_2019_32.csv.gz',\n",
            "           '/content/gdrive/MyDrive/Bandit_Project/df_2019_33.csv.gz',\n",
            "           '/content/gdrive/MyDrive/Bandit_Project/df_2019_34.csv.gz',\n",
            "           '/content/gdrive/MyDrive/Bandit_Project/df_2019_35.csv.gz',\n",
            "           '/content/gdrive/MyDrive/Bandit_Project/df_2019_36.csv.gz',\n",
            "           '/content/gdrive/MyDrive/Bandit_Project/df_2019_37.csv.gz',\n",
            "           '/content/gdrive/MyDrive/Bandit_Project/df_2019_38.csv.gz',\n",
            "           '/content/gdrive/MyDrive/Bandit_Project/df_2019_39.csv.gz',\n",
            "           '/content/gdrive/MyDrive/Bandit_Project/df_2019_40.csv.gz',\n",
            "           '/content/gdrive/MyDrive/Bandit_Project/df_2019_41.csv.gz',\n",
            "           '/content/gdrive/MyDrive/Bandit_Project/df_2019_42.csv.gz',\n",
            "           '/content/gdrive/MyDrive/Bandit_Project/df_2019_43.csv.gz',\n",
            "           '/content/gdrive/MyDrive/Bandit_Project/df_2019_44.csv.gz',\n",
            "           '/content/gdrive/MyDrive/Bandit_Project/df_2019_45.csv.gz',\n",
            "           '/content/gdrive/MyDrive/Bandit_Project/df_2019_46.csv.gz',\n",
            "           '/content/gdrive/MyDrive/Bandit_Project/df_2019_47.csv.gz',\n",
            "           '/content/gdrive/MyDrive/Bandit_Project/df_2019_48.csv.gz',\n",
            "           '/content/gdrive/MyDrive/Bandit_Project/df_2019_49.csv.gz',\n",
            "           '/content/gdrive/MyDrive/Bandit_Project/df_2019_50.csv.gz',\n",
            "           '/content/gdrive/MyDrive/Bandit_Project/df_2019_51.csv.gz',\n",
            "           '/content/gdrive/MyDrive/Bandit_Project/df_2019_52.csv.gz',\n",
            "           '/content/gdrive/MyDrive/Bandit_Project/df_2020_01.csv.gz',\n",
            "           '/content/gdrive/MyDrive/Bandit_Project/df_2020_02.csv.gz',\n",
            "           '/content/gdrive/MyDrive/Bandit_Project/df_2020_03.csv.gz',\n",
            "           '/content/gdrive/MyDrive/Bandit_Project/df_2020_04.csv.gz',\n",
            "           '/content/gdrive/MyDrive/Bandit_Project/df_2020_05.csv.gz',\n",
            "           '/content/gdrive/MyDrive/Bandit_Project/df_2020_06.csv.gz',\n",
            "           '/content/gdrive/MyDrive/Bandit_Project/df_2020_07.csv.gz',\n",
            "           '/content/gdrive/MyDrive/Bandit_Project/df_2020_08.csv.gz',\n",
            "           '/content/gdrive/MyDrive/Bandit_Project/df_2020_09.csv.gz',\n",
            "           '/content/gdrive/MyDrive/Bandit_Project/df_2020_10.csv.gz',\n",
            "           '/content/gdrive/MyDrive/Bandit_Project/df_2020_11.csv.gz',\n",
            "           '/content/gdrive/MyDrive/Bandit_Project/df_2020_12.csv.gz',\n",
            "           '/content/gdrive/MyDrive/Bandit_Project/df_2020_13.csv.gz',\n",
            "           '/content/gdrive/MyDrive/Bandit_Project/df_2020_14.csv.gz',\n",
            "           '/content/gdrive/MyDrive/Bandit_Project/df_2020_15.csv.gz',\n",
            "           '/content/gdrive/MyDrive/Bandit_Project/df_2020_16.csv.gz',\n",
            "           '/content/gdrive/MyDrive/Bandit_Project/df_2020_17.csv.gz',\n",
            "           '/content/gdrive/MyDrive/Bandit_Project/df_2020_18.csv.gz',\n",
            "           '/content/gdrive/MyDrive/Bandit_Project/df_2020_19.csv.gz',\n",
            "           '/content/gdrive/MyDrive/Bandit_Project/df_2020_20.csv.gz',\n",
            "           '/content/gdrive/MyDrive/Bandit_Project/df_2020_21.csv.gz',\n",
            "           '/content/gdrive/MyDrive/Bandit_Project/df_2020_22.csv.gz',\n",
            "           '/content/gdrive/MyDrive/Bandit_Project/df_2020_23.csv.gz',\n",
            "           '/content/gdrive/MyDrive/Bandit_Project/df_2020_24.csv.gz',\n",
            "           '/content/gdrive/MyDrive/Bandit_Project/df_2020_25.csv.gz',\n",
            "           '/content/gdrive/MyDrive/Bandit_Project/df_2020_26.csv.gz'],\n",
            " 'valid': ['/content/gdrive/MyDrive/Bandit_Project/df_2020_27.csv.gz',\n",
            "           '/content/gdrive/MyDrive/Bandit_Project/df_2020_28.csv.gz',\n",
            "           '/content/gdrive/MyDrive/Bandit_Project/df_2020_29.csv.gz',\n",
            "           '/content/gdrive/MyDrive/Bandit_Project/df_2020_30.csv.gz',\n",
            "           '/content/gdrive/MyDrive/Bandit_Project/df_2020_31.csv.gz',\n",
            "           '/content/gdrive/MyDrive/Bandit_Project/df_2020_32.csv.gz',\n",
            "           '/content/gdrive/MyDrive/Bandit_Project/df_2020_33.csv.gz',\n",
            "           '/content/gdrive/MyDrive/Bandit_Project/df_2020_34.csv.gz',\n",
            "           '/content/gdrive/MyDrive/Bandit_Project/df_2020_35.csv.gz',\n",
            "           '/content/gdrive/MyDrive/Bandit_Project/df_2020_36.csv.gz',\n",
            "           '/content/gdrive/MyDrive/Bandit_Project/df_2020_37.csv.gz',\n",
            "           '/content/gdrive/MyDrive/Bandit_Project/df_2020_38.csv.gz',\n",
            "           '/content/gdrive/MyDrive/Bandit_Project/df_2020_39.csv.gz']}\n"
          ],
          "name": "stdout"
        }
      ]
    },
    {
      "cell_type": "markdown",
      "metadata": {
        "id": "M-9vMbiGsS-B"
      },
      "source": [
        "## Visualizing the Confusion Matrix"
      ]
    },
    {
      "cell_type": "code",
      "metadata": {
        "id": "E_Te0wahsWod"
      },
      "source": [
        "def make_confusion_matrix(cf,\n",
        "                          group_names=None,\n",
        "                          categories='auto',\n",
        "                          count=True,\n",
        "                          percent=True,\n",
        "                          cbar=True,\n",
        "                          xyticks=True,\n",
        "                          xyplotlabels=True,\n",
        "                          sum_stats=True,\n",
        "                          figsize=None,\n",
        "                          cmap='Blues',\n",
        "                          title=None):\n",
        "    '''\n",
        "    This function will make a pretty plot of an sklearn Confusion Matrix cm using a Seaborn heatmap visualization.\n",
        "    Arguments\n",
        "    ---------\n",
        "    cf:            confusion matrix to be passed in\n",
        "    group_names:   List of strings that represent the labels row by row to be shown in each square.\n",
        "    categories:    List of strings containing the categories to be displayed on the x,y axis. Default is 'auto'\n",
        "    count:         If True, show the raw number in the confusion matrix. Default is True.\n",
        "    normalize:     If True, show the proportions for each category. Default is True.\n",
        "    cbar:          If True, show the color bar. The cbar values are based off the values in the confusion matrix.\n",
        "                   Default is True.\n",
        "    xyticks:       If True, show x and y ticks. Default is True.\n",
        "    xyplotlabels:  If True, show 'True Label' and 'Predicted Label' on the figure. Default is True.\n",
        "    sum_stats:     If True, display summary statistics below the figure. Default is True.\n",
        "    figsize:       Tuple representing the figure size. Default will be the matplotlib rcParams value.\n",
        "    cmap:          Colormap of the values displayed from matplotlib.pyplot.cm. Default is 'Blues'\n",
        "                   See http://matplotlib.org/examples/color/colormaps_reference.html\n",
        "                   \n",
        "    title:         Title for the heatmap. Default is None.\n",
        "    '''\n",
        "\n",
        "\n",
        "    # CODE TO GENERATE TEXT INSIDE EACH SQUARE\n",
        "    blanks = ['' for i in range(cf.size)]\n",
        "\n",
        "    if group_names and len(group_names)==cf.size:\n",
        "        group_labels = [\"{}\\n\".format(value) for value in group_names]\n",
        "    else:\n",
        "        group_labels = blanks\n",
        "\n",
        "    if count:\n",
        "        group_counts = [\"{0:0.0f}\\n\".format(value) for value in cf.flatten()]\n",
        "    else:\n",
        "        group_counts = blanks\n",
        "\n",
        "    if percent:\n",
        "        group_percentages = [\"{0:.2%}\".format(value) for value in cf.flatten()/np.sum(cf)]\n",
        "    else:\n",
        "        group_percentages = blanks\n",
        "\n",
        "    box_labels = [f\"{v1}{v2}{v3}\".strip() for v1, v2, v3 in zip(group_labels,group_counts,group_percentages)]\n",
        "    box_labels = np.asarray(box_labels).reshape(cf.shape[0],cf.shape[1])\n",
        "\n",
        "\n",
        "    # CODE TO GENERATE SUMMARY STATISTICS & TEXT FOR SUMMARY STATS\n",
        "    if sum_stats:\n",
        "        #Accuracy is sum of diagonal divided by total observations\n",
        "        accuracy  = np.trace(cf) / float(np.sum(cf))\n",
        "\n",
        "        #if it is a binary confusion matrix, show some more stats\n",
        "        if len(cf)==2:\n",
        "            #Metrics for Binary Confusion Matrices\n",
        "            precision = cf[1,1] / sum(cf[:,1])\n",
        "            recall    = cf[1,1] / sum(cf[1,:])\n",
        "            f1_score  = 2*precision*recall / (precision + recall)\n",
        "            stats_text = \"\\n\\nAccuracy={:0.3f}\\nPrecision={:0.3f}\\nRecall={:0.3f}\\nF1 Score={:0.3f}\".format(\n",
        "                accuracy,precision,recall,f1_score)\n",
        "        else:\n",
        "            stats_text = \"\\n\\nAccuracy={:0.3f}\".format(accuracy)\n",
        "    else:\n",
        "        stats_text = \"\"\n",
        "\n",
        "\n",
        "    # SET FIGURE PARAMETERS ACCORDING TO OTHER ARGUMENTS\n",
        "    if figsize==None:\n",
        "        #Get default figure size if not set\n",
        "        figsize = plt.rcParams.get('figure.figsize')\n",
        "\n",
        "    if xyticks==False:\n",
        "        #Do not show categories if xyticks is False\n",
        "        categories=False\n",
        "\n",
        "\n",
        "    # MAKE THE HEATMAP VISUALIZATION\n",
        "    plt.figure(figsize=figsize)\n",
        "    sns.heatmap(cf,annot=box_labels,fmt=\"\",cmap=cmap,cbar=cbar,xticklabels=categories,yticklabels=categories)\n",
        "\n",
        "    if xyplotlabels:\n",
        "        plt.ylabel('True label')\n",
        "        plt.xlabel('Predicted label' + stats_text)\n",
        "    else:\n",
        "        plt.xlabel(stats_text)\n",
        "    \n",
        "    if title:\n",
        "        plt.title(title)"
      ],
      "execution_count": 9,
      "outputs": []
    },
    {
      "cell_type": "markdown",
      "metadata": {
        "id": "8_RLwNI9lauY"
      },
      "source": [
        "#Establishing baseline\n",
        "\n",
        "##Importing the model"
      ]
    },
    {
      "cell_type": "code",
      "metadata": {
        "colab": {
          "base_uri": "https://localhost:8080/"
        },
        "id": "0ln51gbgxslD",
        "outputId": "1652f857-ba3b-408d-ea14-e2fce2cce608"
      },
      "source": [
        "from space_bandits import load_model\n",
        "linear_model = load_model('/content/gdrive/MyDrive/Bandit_Project/models/900_bandit')\n",
        "print(f\"[INFO] The type of model is {linear_model.name}\")\n",
        "print(\"[INFO] The model has the following hparams:\")\n",
        "pprint(linear_model.hparams)"
      ],
      "execution_count": 10,
      "outputs": [
        {
          "output_type": "stream",
          "text": [
            "[INFO] The type of model is linear_model\n",
            "[INFO] The model has the following hparams:\n",
            "{'a0': 6,\n",
            " 'b0': 6,\n",
            " 'context_dim': 20,\n",
            " 'initial_pulls': 2,\n",
            " 'lambda_prior': 0.25,\n",
            " 'num_actions': 2}\n"
          ],
          "name": "stdout"
        }
      ]
    },
    {
      "cell_type": "markdown",
      "metadata": {
        "id": "U0k_2PEBFQ4N"
      },
      "source": [
        "##Fixing the columns\n",
        "\n",
        "Using the column subset that Marko shared. However, there are 2 missing features.\n",
        "\n",
        "1. campaign_type_Outerwear —> Was present in previous version.\n",
        "2. **campaign_type_Customer Reviews**\n",
        "\n",
        "Additionally, `campaign_Collection` from our data is not present from the campaign types."
      ]
    },
    {
      "cell_type": "code",
      "metadata": {
        "id": "iMFQkofRFdjo"
      },
      "source": [
        "baseline_context = ['retention_score', 'frequency_score', 'recency_score',  'sl_contains_price',\n",
        "                    'is_discount_mentioned','is_one_for_free','is_exclusive', 'has_urgency', 'free_shipping',\n",
        "                    'campaign_Brand', 'campaign_Core', 'campaign_CustomerReviews', 'campaign_Dedicated',\n",
        "                    'campaign_InnovationSpotlight', 'campaign_NewArrivals','campaign_Other',\n",
        "                    'campaign_ProductSpotlight','campaign_Replen','campaign_Tops','campaign_Trend']\n",
        "\n",
        "#We do not have Customer Reviews in our dataset currently\n",
        "#TBD: Edit the code out with new export\n",
        "baseline_context_temp = baseline_context.copy()\n",
        "baseline_context_temp.remove('campaign_CustomerReviews') #For now\n",
        "\n",
        "baseline_outcome = ['opened', 'unsub', 'rev_3dv2']\n",
        "baseline_reward = ['reward']\n",
        "baseline_optimal_action = ['optimal_action']"
      ],
      "execution_count": 11,
      "outputs": []
    },
    {
      "cell_type": "markdown",
      "metadata": {
        "id": "w8tb2GC4Fc4W"
      },
      "source": [
        "## Experiment Code\n",
        "\n",
        "This is a re-usable code to evaluate the model on a validation set (defined by a list of filepath strings pointing to respective csv sheets)"
      ]
    },
    {
      "cell_type": "code",
      "metadata": {
        "id": "RUTvHOy4Fgq7"
      },
      "source": [
        "def eval_model(model, start_i=0, end_i=len(train_valid_files[\"valid\"]), thompson=True, scaled=True, n_partitions=1):\n",
        "  \n",
        "  #Initialize lists to store values\n",
        "  #TBD: For saving storage, only keep track of cf_matrix_l\n",
        "  pred_action_l = []\n",
        "  optimal_action_l = []\n",
        "  cf_matrix_l = []\n",
        "\n",
        "  for i in range(start_i, end_i):\n",
        "\n",
        "    #Pick a file from validation set and read the CSV file\n",
        "    df_context = pd.read_csv(train_valid_files[\"valid\"][i], header=None, names=list(dtypes_dict.keys()), usecols=baseline_context_temp)[baseline_context_temp]\n",
        "\n",
        "    #Add a column after campaign_Core full of 0s for campaign_CustomerReviews\n",
        "    #TBD: Once the new export comes through, will edit this section out \n",
        "    index = baseline_context.index('campaign_CustomerReviews')\n",
        "    df_context.insert(index, 'campaign_CustomerReviews', 0)\n",
        "    \n",
        "    #Print status update\n",
        "    #if i % 5 == 0:\n",
        "    print(f\"[INFO] Working on Dataset #{i+1}/{end_i}...\")\n",
        "\n",
        "    #Scale numeric parts of the context with global statistics if scaled=True\n",
        "    if scaled:\n",
        "      for col_name in df_context.columns:\n",
        "        if col_name in rolling_stats.keys():\n",
        "          df_context[col_name] = (df_context[col_name] - rolling_stats[col_name][\"mean\"])/rolling_stats[col_name][\"std\"]\n",
        "\n",
        "    #Create optimal action and reward Series\n",
        "    #TBD: Change _temp file\n",
        "    df_optimal_action = pd.read_csv(train_valid_files[\"valid\"][i], header=None, names=list(dtypes_dict.keys()), usecols=baseline_optimal_action)[baseline_optimal_action]\n",
        "    df_reward = pd.read_csv(train_valid_files[\"valid\"][i], header=None, names=list(dtypes_dict.keys()), usecols=baseline_reward)[baseline_reward]\n",
        "    reward = df_reward.values\n",
        "\n",
        "    #Split the numpy array associated with df_context along n_partitions\n",
        "    for pred_chunk, opt_act_chunk in zip(np.array_split(df_context.values, n_partitions), np.array_split(df_optimal_action.values, n_partitions)):\n",
        "    \n",
        "      #Predict on the context\n",
        "      pred_action_partition = linear_model.predict(pred_chunk, thompson=thompson).reshape(-1)\n",
        "      pred_action_l.append(pred_action_partition)\n",
        "      optimal_action_l.append(opt_act_chunk)\n",
        "\n",
        "    #Generate the confusion matrix\n",
        "    pred_action = np.concatenate(pred_action_l, axis=0)\n",
        "    optimal_action = np.concatenate(optimal_action_l, axis=0)\n",
        "    cf_matrix = confusion_matrix(optimal_action, pred_action)\n",
        "    \n",
        "    #Append model output and optimal action to a list\n",
        "    #TBD: For saving storage, only keep track of cf_matrix_l\n",
        "    #pred_action_l.append(pred_action)\n",
        "    #optimal_action_l.append(optimal_action)\n",
        "    cf_matrix_l.append(cf_matrix)\n",
        "    \n",
        "  #Convert list files to arrays\n",
        "  #TBD: For saving storage, only keep track of cf_matrix_l\n",
        "  #pred_actions = np.array(pred_action_l).reshape(-1)\n",
        "  #optimal_actions = np.array(optimal_action_l).reshape(-1)\n",
        "  cf_matrix = np.array(cf_matrix_l).sum(axis=0)\n",
        "\n",
        "  #Return confusion matrix\n",
        "  return cf_matrix"
      ],
      "execution_count": 35,
      "outputs": []
    },
    {
      "cell_type": "markdown",
      "metadata": {
        "id": "4lUOo-BmFYlo"
      },
      "source": [
        "## Should We Sample Or Not?\n",
        "\n",
        "Predictions are made by calling `model.predict(contexts)`. We can influence the behaviour of this call through the following arguments:\n",
        "\n",
        "1.   `thompson`: bool\n",
        "2.   `parallelize`: bool\n",
        "3.   `n_threads`: int\n",
        "\n",
        "Arguments (2) and (3) are set to `True` and `-1` respectively. However, the Space Bandits code is not GPU-compatible.\n",
        "\n",
        "1.   They use numpy arrays instead of Torch tensors\n",
        "2.   The `parallelize` argument is used to call a function `parallelize_multivar` that: [1] uses only NUMPY ARRAYS, [2] uses CPU + multiprocessing to parallelize ONLY THE LAST STEP of sampling from a multivariate normal posterior distribution (i.e., not involved with iterating over actions, setting up the mean & covariance matrices for sampling etc.)\n",
        "\n",
        "We track the time difference in validating our model with and without Thompson sampling. "
      ]
    },
    {
      "cell_type": "markdown",
      "metadata": {
        "id": "7lFY_xMrJqE-"
      },
      "source": [
        "### Without Thompson Sampling"
      ]
    },
    {
      "cell_type": "code",
      "metadata": {
        "colab": {
          "base_uri": "https://localhost:8080/",
          "height": 1000
        },
        "id": "4Jkkeon2DgEu",
        "outputId": "c112880a-83e1-4440-b1bb-1d54438c8414"
      },
      "source": [
        "#Evaluate model without Thompson Sampling on full validation set\n",
        "%time cf_matrix_no_thompson_no_scaling = eval_model(linear_model, thompson=False, scaled=False)\n",
        "\n",
        "#Visualize the confusion matrix\n",
        "labels = [\"True Pos\",\"False Neg\",\"False Pos\",\"True Neg\"]\n",
        "categories = [\"Send\", \"Don't Send\"]\n",
        "make_confusion_matrix(cf_matrix_no_thompson_no_scaling, \n",
        "                      group_names=labels,\n",
        "                      categories=categories, \n",
        "                      cbar=False,\n",
        "                      figsize=(8, 8),\n",
        "                      title=f\"{linear_model.name}: Without Thompson Sampling, Without Scaling\")\n",
        "\n",
        "#Evaluate model without Thompson Sampling on full validation set\n",
        "%time cf_matrix_no_thompson_scaling = eval_model(linear_model, thompson=False, scaled=True)\n",
        "\n",
        "#Visualize the confusion matrix\n",
        "labels = [\"True Pos\",\"False Neg\",\"False Pos\",\"True Neg\"]\n",
        "categories = [\"Send\", \"Don't Send\"]\n",
        "make_confusion_matrix(cf_matrix_no_thompson_scaling, \n",
        "                      group_names=labels,\n",
        "                      categories=categories, \n",
        "                      cbar=False,\n",
        "                      figsize=(8, 8),\n",
        "                      title=f\"{linear_model.name}: Without Thompson Sampling, With Scaling\")"
      ],
      "execution_count": 33,
      "outputs": [
        {
          "output_type": "stream",
          "text": [
            "[INFO] Working on Dataset #1/13...\n",
            "[INFO] Working on Dataset #6/13...\n",
            "[INFO] Working on Dataset #11/13...\n",
            "CPU times: user 3min 29s, sys: 5.35 s, total: 3min 34s\n",
            "Wall time: 3min 40s\n",
            "[INFO] Working on Dataset #1/13...\n",
            "[INFO] Working on Dataset #6/13...\n",
            "[INFO] Working on Dataset #11/13...\n",
            "CPU times: user 3min 24s, sys: 3.46 s, total: 3min 27s\n",
            "Wall time: 3min 26s\n"
          ],
          "name": "stdout"
        },
        {
          "output_type": "stream",
          "text": [
            "/usr/local/lib/python3.6/dist-packages/ipykernel_launcher.py:65: RuntimeWarning: invalid value encountered in long_scalars\n"
          ],
          "name": "stderr"
        },
        {
          "output_type": "display_data",
          "data": {
            "image/png": "[encoded data removed]",
            "text/plain": [
              "<Figure size 576x576 with 1 Axes>"
            ]
          },
          "metadata": {
            "tags": [],
            "needs_background": "light"
          }
        },
        {
          "output_type": "display_data",
          "data": {
            "image/png": "[encoded data removed]",
            "text/plain": [
              "<Figure size 576x576 with 1 Axes>"
            ]
          },
          "metadata": {
            "tags": [],
            "needs_background": "light"
          }
        }
      ]
    },
    {
      "cell_type": "markdown",
      "metadata": {
        "id": "XfwN9nBeMd4V"
      },
      "source": [
        "### With Thompson Sampling"
      ]
    },
    {
      "cell_type": "code",
      "metadata": {
        "colab": {
          "base_uri": "https://localhost:8080/",
          "height": 776
        },
        "id": "sKVxI0i6MR7r",
        "outputId": "fbe3f814-b379-4d40-ff22-36e47b1850fd"
      },
      "source": [
        "#Evaluate model with Thompson Sampling & No Scaling on full validation set\n",
        "%time cf_matrix_thompson_no_scaling = eval_model(linear_model, end_i = 4, thompson=True, scaled=False, n_partitions=50)\n",
        "\n",
        "#Visualize the confusion matrix\n",
        "labels = [\"True Pos\",\"False Neg\",\"False Pos\",\"True Neg\"]\n",
        "categories = [\"Send\", \"Don't Send\"]\n",
        "make_confusion_matrix(cf_matrix_thompson_no_scaling, \n",
        "                      group_names=labels,\n",
        "                      categories=categories, \n",
        "                      cbar=False,\n",
        "                      figsize=(8, 8),\n",
        "                      title=f\"{linear_model.name}: With Thompson Sampling, Without Scaling\",)\n",
        "\"\"\"\n",
        "#Evaluate model with Thompson Sampling & Scaling on full validation set\n",
        "%time cf_matrix_thompson_scaling = eval_model(linear_model, end_i = 4, thompson=True, scaled=True, n_partitions=50)\n",
        "\n",
        "#Visualize the confusion matrix\n",
        "labels = [\"True Pos\",\"False Neg\",\"False Pos\",\"True Neg\"]\n",
        "categories = [\"Send\", \"Don't Send\"]\n",
        "make_confusion_matrix(cf_matrix_thompson_scaling, \n",
        "                      group_names=labels,\n",
        "                      categories=categories, \n",
        "                      cbar=False,\n",
        "                      figsize=(8, 8),\n",
        "                      title=f\"{linear_model.name}: With Thompson Sampling, With Scaling\",)\n",
        "\"\"\""
      ],
      "execution_count": 39,
      "outputs": [
        {
          "output_type": "stream",
          "text": [
            "[INFO] Working on Dataset #1/4...\n",
            "[INFO] Working on Dataset #2/4...\n",
            "[INFO] Working on Dataset #3/4...\n",
            "[INFO] Working on Dataset #4/4...\n",
            "CPU times: user 1min 54s, sys: 40.2 s, total: 2min 34s\n",
            "Wall time: 1h 16min 13s\n"
          ],
          "name": "stdout"
        },
        {
          "output_type": "execute_result",
          "data": {
            "application/vnd.google.colaboratory.intrinsic+json": {
              "type": "string"
            },
            "text/plain": [
              "'\\n#Evaluate model with Thompson Sampling & Scaling on full validation set\\n%time cf_matrix_thompson_scaling = eval_model(linear_model, end_i = 4, thompson=True, scaled=True, n_partitions=50)\\n\\n#Visualize the confusion matrix\\nlabels = [\"True Pos\",\"False Neg\",\"False Pos\",\"True Neg\"]\\ncategories = [\"Send\", \"Don\\'t Send\"]\\nmake_confusion_matrix(cf_matrix_thompson_scaling, \\n                      group_names=labels,\\n                      categories=categories, \\n                      cbar=False,\\n                      figsize=(8, 8),\\n                      title=f\"{linear_model.name}: With Thompson Sampling, With Scaling\",)\\n'"
            ]
          },
          "metadata": {
            "tags": []
          },
          "execution_count": 39
        },
        {
          "output_type": "display_data",
          "data": {
            "image/png": "[encoded data removed]",
            "text/plain": [
              "<Figure size 576x576 with 1 Axes>"
            ]
          },
          "metadata": {
            "tags": [],
            "needs_background": "light"
          }
        }
      ]
    },
    {
      "cell_type": "markdown",
      "metadata": {
        "id": "spX8HLaXyOW5"
      },
      "source": [
        "## Non-Linear Space Bandits Model "
      ]
    }
  ]
}