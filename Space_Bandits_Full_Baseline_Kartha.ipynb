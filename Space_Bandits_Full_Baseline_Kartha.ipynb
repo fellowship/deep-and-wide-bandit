{
  "nbformat": 4,
  "nbformat_minor": 0,
  "metadata": {
    "colab": {
      "name": "Space_Bandits_Full_Baseline_Kartha.ipynb",
      "provenance": [],
      "authorship_tag": "ABX9TyOGrDKA3Vvxm1/OT6jb3cCa",
      "include_colab_link": true
    },
    "kernelspec": {
      "name": "python3",
      "display_name": "Python 3"
    }
  },
  "cells": [
    {
      "cell_type": "markdown",
      "metadata": {
        "id": "view-in-github",
        "colab_type": "text"
      },
      "source": [
        "<a href=\"https://colab.research.google.com/github/fellowship/deep-and-wide-bandit/blob/dev/Space_Bandits_Full_Baseline_Kartha.ipynb\" target=\"_parent\"><img src=\"https://colab.research.google.com/assets/colab-badge.svg\" alt=\"Open In Colab\"/></a>"
      ]
    },
    {
      "cell_type": "code",
      "metadata": {
        "colab": {
          "base_uri": "https://localhost:8080/"
        },
        "id": "5vhJOAyQiSkY",
        "outputId": "df31cda2-b474-4a01-f978-39ac54a7c00a"
      },
      "source": [
        "!pip install space-bandits"
      ],
      "execution_count": 1,
      "outputs": [
        {
          "output_type": "stream",
          "text": [
            "Collecting space-bandits\n",
            "  Downloading https://files.pythonhosted.org/packages/38/25/1e2b2b5c6692dd334ab1c73cc19a4b160124efc6c54c7a90293e02228b72/space-bandits-0.0.992.tar.gz\n",
            "Requirement already satisfied: torch in /usr/local/lib/python3.6/dist-packages (from space-bandits) (1.7.0+cu101)\n",
            "Requirement already satisfied: numpy in /usr/local/lib/python3.6/dist-packages (from space-bandits) (1.19.5)\n",
            "Requirement already satisfied: scipy in /usr/local/lib/python3.6/dist-packages (from space-bandits) (1.4.1)\n",
            "Requirement already satisfied: pandas in /usr/local/lib/python3.6/dist-packages (from space-bandits) (1.1.5)\n",
            "Requirement already satisfied: cython in /usr/local/lib/python3.6/dist-packages (from space-bandits) (0.29.21)\n",
            "Requirement already satisfied: scikit-learn in /usr/local/lib/python3.6/dist-packages (from space-bandits) (0.22.2.post1)\n",
            "Requirement already satisfied: typing-extensions in /usr/local/lib/python3.6/dist-packages (from torch->space-bandits) (3.7.4.3)\n",
            "Requirement already satisfied: dataclasses in /usr/local/lib/python3.6/dist-packages (from torch->space-bandits) (0.8)\n",
            "Requirement already satisfied: future in /usr/local/lib/python3.6/dist-packages (from torch->space-bandits) (0.16.0)\n",
            "Requirement already satisfied: pytz>=2017.2 in /usr/local/lib/python3.6/dist-packages (from pandas->space-bandits) (2018.9)\n",
            "Requirement already satisfied: python-dateutil>=2.7.3 in /usr/local/lib/python3.6/dist-packages (from pandas->space-bandits) (2.8.1)\n",
            "Requirement already satisfied: joblib>=0.11 in /usr/local/lib/python3.6/dist-packages (from scikit-learn->space-bandits) (1.0.0)\n",
            "Requirement already satisfied: six>=1.5 in /usr/local/lib/python3.6/dist-packages (from python-dateutil>=2.7.3->pandas->space-bandits) (1.15.0)\n",
            "Building wheels for collected packages: space-bandits\n",
            "  Building wheel for space-bandits (setup.py) ... \u001b[?25l\u001b[?25hdone\n",
            "  Created wheel for space-bandits: filename=space_bandits-0.0.992-cp36-none-any.whl size=17441 sha256=d3802b0651c791d0cdac14e8b21662c23177eed1e4d0187b6cff1ccdfa1042bc\n",
            "  Stored in directory: /root/.cache/pip/wheels/a7/0c/a7/4bae68f8e665b4c68e7cb7ae7fff88269f3551a4b56b598a42\n",
            "Successfully built space-bandits\n",
            "Installing collected packages: space-bandits\n",
            "Successfully installed space-bandits-0.0.992\n"
          ],
          "name": "stdout"
        }
      ]
    },
    {
      "cell_type": "markdown",
      "metadata": {
        "id": "-e57NOs1k8NJ"
      },
      "source": [
        "#Importing packages"
      ]
    },
    {
      "cell_type": "code",
      "metadata": {
        "colab": {
          "base_uri": "https://localhost:8080/"
        },
        "id": "q-HbCWh_nAV8",
        "outputId": "e7b36016-a541-42e5-97c6-a9177017bc2e"
      },
      "source": [
        "from google.colab import drive\n",
        "drive.mount('/content/gdrive')"
      ],
      "execution_count": 2,
      "outputs": [
        {
          "output_type": "stream",
          "text": [
            "Mounted at /content/gdrive\n"
          ],
          "name": "stdout"
        }
      ]
    },
    {
      "cell_type": "code",
      "metadata": {
        "id": "GuXbHt7FnK9E"
      },
      "source": [
        "import pandas as pd\n",
        "\n",
        "#Formatting .describe() calls s.t. floats are displayed in non-scientific notation\n",
        "pd.set_option('display.float_format', lambda x: '%.5f' % x)\n",
        "\n",
        "from pathlib import Path\n",
        "import matplotlib.pyplot as plt\n",
        "%matplotlib inline\n",
        "import random\n",
        "import seaborn as sns\n",
        "import numpy as np\n",
        "import json\n",
        "import pickle as pkl\n",
        "import warnings\n",
        "from pprint import pprint\n",
        "warnings.filterwarnings(\"ignore\", category=DeprecationWarning)"
      ],
      "execution_count": 3,
      "outputs": []
    },
    {
      "cell_type": "markdown",
      "metadata": {
        "id": "MnqGNTKllBXh"
      },
      "source": [
        "#Importing Supporting Files + Dataset\n"
      ]
    },
    {
      "cell_type": "markdown",
      "metadata": {
        "id": "noM7XlW_odkq"
      },
      "source": [
        "##Importing dtypes.json"
      ]
    },
    {
      "cell_type": "code",
      "metadata": {
        "colab": {
          "base_uri": "https://localhost:8080/"
        },
        "id": "1yoS5-P0okqX",
        "outputId": "758848ad-3e93-4b17-b393-22650ff7c704"
      },
      "source": [
        "#Set the filepath\n",
        "dtypes_filepath = '/content/gdrive/MyDrive/Bandit_Project/dtypes.json'\n",
        "\n",
        "#Load dtypes.json to a dtypes dictionary\n",
        "with open(dtypes_filepath, mode='r') as dtypes_file:\n",
        "  dtypes_dict = json.load(dtypes_file)\n",
        "\n",
        "#Print the keys and values of dtypes_dict to cross-check\n",
        "print(\"[INFO] Printing the dtypes dictionary... \")\n",
        "pprint(dtypes_dict)"
      ],
      "execution_count": 4,
      "outputs": [
        {
          "output_type": "stream",
          "text": [
            "[INFO] Printing the dtypes dictionary... \n",
            "{'aq_dow': 'object',\n",
            " 'aq_mo': 'object',\n",
            " 'aq_period': 'bool',\n",
            " 'campaign_Brand': 'int64',\n",
            " 'campaign_Collection': 'int64',\n",
            " 'campaign_Core': 'int64',\n",
            " 'campaign_Dedicated': 'int64',\n",
            " 'campaign_InnovationSpotlight': 'int64',\n",
            " 'campaign_NewArrivals': 'int64',\n",
            " 'campaign_Other': 'int64',\n",
            " 'campaign_ProductSpotlight': 'int64',\n",
            " 'campaign_Replen': 'int64',\n",
            " 'campaign_Tops': 'int64',\n",
            " 'campaign_Trend': 'int64',\n",
            " 'campaign_id': 'int64',\n",
            " 'days_subscr': 'int64',\n",
            " 'discount': 'int64',\n",
            " 'free_shipping': 'int64',\n",
            " 'frequency_score': 'int64',\n",
            " 'has_urgency': 'int64',\n",
            " 'is_discount_mentioned': 'int64',\n",
            " 'is_exclusive': 'int64',\n",
            " 'is_one_for_free': 'int64',\n",
            " 'message_size': 'int64',\n",
            " 'opened': 'int64',\n",
            " 'optimal_action': 'int64',\n",
            " 'promo': 'int64',\n",
            " 'recency_score': 'float64',\n",
            " 'retention_score': 'float64',\n",
            " 'rev_3dv2': 'float64',\n",
            " 'reward': 'int64',\n",
            " 'riid': 'int64',\n",
            " 'sale': 'int64',\n",
            " 'sends_since_last_open': 'int64',\n",
            " 'sent_dayofweek': 'int64',\n",
            " 'sent_hr': 'int64',\n",
            " 'sent_week': 'UInt32',\n",
            " 'sl_contains_price': 'int64',\n",
            " 'unsub': 'int64'}\n"
          ],
          "name": "stdout"
        }
      ]
    },
    {
      "cell_type": "markdown",
      "metadata": {
        "id": "CbvwRCy9odwC"
      },
      "source": [
        "##Importing rolling_statistics.pkl"
      ]
    },
    {
      "cell_type": "code",
      "metadata": {
        "colab": {
          "base_uri": "https://localhost:8080/"
        },
        "id": "6RkxnbvbpdiX",
        "outputId": "44af582c-1570-47c0-f734-6c2a4c905993"
      },
      "source": [
        "#Set the filepath\n",
        "rolling_stats_filepath = '/content/gdrive/MyDrive/Bandit_Project/rolling_statistics.pkl'\n",
        "\n",
        "#Load rolling_statistics.pkl to a rolling  dictionary\n",
        "with open(rolling_stats_filepath, mode='rb') as rolling_stats_file:\n",
        "  rolling_stats = pkl.load(rolling_stats_file)\n",
        "\n",
        "#Print the keys and values of the dictionary to cross-check\n",
        "print(\"[INFO] Printing the rolling_stats dictionary... \")\n",
        "pprint(rolling_stats)"
      ],
      "execution_count": 5,
      "outputs": [
        {
          "output_type": "stream",
          "text": [
            "[INFO] Printing the rolling_stats dictionary... \n",
            "{'days_subscr': {'max': 3917,\n",
            "                 'mean': 1332.471434552341,\n",
            "                 'min': 0,\n",
            "                 'std': 822.6802670330655},\n",
            " 'discount': {'max': 75,\n",
            "              'mean': 11.300244227332426,\n",
            "              'min': 0,\n",
            "              'std': 19.60056341212265},\n",
            " 'frequency_score': {'max': 163,\n",
            "                     'mean': 14.977138288600283,\n",
            "                     'min': 0,\n",
            "                     'std': 20.754428265423773},\n",
            " 'message_size': {'max': 354737,\n",
            "                  'mean': 155242.30496730257,\n",
            "                  'min': 80267,\n",
            "                  'std': 36298.15284468782},\n",
            " 'previous_n_so_far': 88653468,\n",
            " 'recency_score': {'max': 27.428571428571427,\n",
            "                   'mean': 1.23904221901564,\n",
            "                   'min': 0.0,\n",
            "                   'std': 2.216794122042123},\n",
            " 'retention_score': {'max': 28.0,\n",
            "                     'mean': 11.467980895825553,\n",
            "                     'min': 0.15384615384615385,\n",
            "                     'std': 11.35391986430546},\n",
            " 'rev_3dv2': {'max': 3526.84,\n",
            "              'mean': 0.059812179033985384,\n",
            "              'min': -14.0,\n",
            "              'std': 2.792981337202308},\n",
            " 'sends_since_last_open': {'max': 182,\n",
            "                           'mean': 11.36886785974351,\n",
            "                           'min': 0,\n",
            "                           'std': 14.997835900332081},\n",
            " 'sent_dayofweek': {'max': 6,\n",
            "                    'mean': 2.638369149867888,\n",
            "                    'min': 0,\n",
            "                    'std': 2.163983074344224},\n",
            " 'sent_hr': {'max': 23,\n",
            "             'mean': 17.291778162586947,\n",
            "             'min': 0,\n",
            "             'std': 3.9303658889007997},\n",
            " 'sent_week': {'max': 52,\n",
            "               'mean': 28.594960628048973,\n",
            "               'min': 1,\n",
            "               'std': 14.377041994557581}}\n"
          ],
          "name": "stdout"
        }
      ]
    },
    {
      "cell_type": "code",
      "metadata": {
        "colab": {
          "base_uri": "https://localhost:8080/"
        },
        "id": "ePJ2RiXJ2hHY",
        "outputId": "2bc3f674-701b-45fa-cd17-00d117b46ec0"
      },
      "source": [
        "\"\"\"\n",
        "Code for adding a new variable that stores the sizes of each weekly csv\n",
        "for train_test_split\n",
        "\n",
        "#Create a sorted list of path objects & path object names for each of the weekly files\n",
        "from pathlib import Path\n",
        "weekly_file_names_generator = Path(\"/content/gdrive/MyDrive/Bandit_Project\").glob('df_20*.csv.gz')\n",
        "weekly_file_paths_list = sorted(list(weekly_file_names_generator))\n",
        "weekly_file_names_list = [path_obj.stem for path_obj in weekly_file_paths_list]\n",
        "\n",
        "#Initialize a dictionary to keep track of the count\n",
        "weekly_numbers = {}\n",
        "\n",
        "#Iterate through the weekly file paths list to get length of each dataframe\n",
        "for path_obj, file_name in zip(weekly_file_paths_list, weekly_file_names_list):\n",
        "\n",
        "  #Print status update\n",
        "  pprint(f\"[INFO] Working on {file_name}...\")\n",
        "\n",
        "  #Get the length of the dataframe\n",
        "  df = pd.read_csv(path_obj, header=None)\n",
        "  length = len(df)\n",
        "\n",
        "  #Update the count dictionary\n",
        "  weekly_numbers[file_name] = length\n",
        "\n",
        "#Set the filepath\n",
        "obj_to_pickle = weekly_numbers\n",
        "filepath = Path(r\"/content/gdrive/MyDrive/Bandit_Project\")/'weekly_df_counts.pkl'\n",
        "\n",
        "#Pickle it\n",
        "with open(filepath, mode='wb') as file:\n",
        "  pkl.dump(obj_to_pickle, file)\n",
        "\n",
        "#Load it\n",
        "with open(filepath, mode='rb') as file:\n",
        "  obj_from_pickle = pkl.load(file)\n",
        "\"\"\"\n",
        "#Load already saved weekly numbers file\n",
        "filepath = Path(r\"/content/gdrive/MyDrive/Bandit_Project\")/'weekly_df_counts.pkl'\n",
        "weekly_numbers = filepath.read_bytes()\n",
        "\n",
        "#with open(filepath, mode='rb') as file:\n",
        "#  obj_from_pickle = pkl.load(file)\n",
        "\n",
        "#Pprint the loaded object\n",
        "print(\"[INFO] Printing the object... \")\n",
        "pprint(weekly_numbers)"
      ],
      "execution_count": 13,
      "outputs": [
        {
          "output_type": "stream",
          "text": [
            "'[INFO] Working on df_2019_27.csv...'\n",
            "'[INFO] Working on df_2019_28.csv...'\n",
            "'[INFO] Working on df_2019_29.csv...'\n",
            "'[INFO] Working on df_2019_30.csv...'\n",
            "'[INFO] Working on df_2019_31.csv...'\n",
            "'[INFO] Working on df_2019_32.csv...'\n",
            "'[INFO] Working on df_2019_33.csv...'\n",
            "'[INFO] Working on df_2019_34.csv...'\n",
            "'[INFO] Working on df_2019_35.csv...'\n",
            "'[INFO] Working on df_2019_36.csv...'\n",
            "'[INFO] Working on df_2019_37.csv...'\n",
            "'[INFO] Working on df_2019_38.csv...'\n",
            "'[INFO] Working on df_2019_39.csv...'\n",
            "'[INFO] Working on df_2019_40.csv...'\n",
            "'[INFO] Working on df_2019_41.csv...'\n",
            "'[INFO] Working on df_2019_42.csv...'\n",
            "'[INFO] Working on df_2019_43.csv...'\n",
            "'[INFO] Working on df_2019_44.csv...'\n",
            "'[INFO] Working on df_2019_45.csv...'\n",
            "'[INFO] Working on df_2019_46.csv...'\n",
            "'[INFO] Working on df_2019_47.csv...'\n",
            "'[INFO] Working on df_2019_48.csv...'\n",
            "'[INFO] Working on df_2019_49.csv...'\n",
            "'[INFO] Working on df_2019_50.csv...'\n",
            "'[INFO] Working on df_2019_51.csv...'\n",
            "'[INFO] Working on df_2019_52.csv...'\n",
            "'[INFO] Working on df_2020_01.csv...'\n"
          ],
          "name": "stdout"
        },
        {
          "output_type": "stream",
          "text": [
            "/usr/local/lib/python3.6/dist-packages/IPython/core/interactiveshell.py:2718: DtypeWarning: Columns (7) have mixed types.Specify dtype option on import or set low_memory=False.\n",
            "  interactivity=interactivity, compiler=compiler, result=result)\n"
          ],
          "name": "stderr"
        },
        {
          "output_type": "stream",
          "text": [
            "'[INFO] Working on df_2020_02.csv...'\n",
            "'[INFO] Working on df_2020_03.csv...'\n",
            "'[INFO] Working on df_2020_04.csv...'\n",
            "'[INFO] Working on df_2020_05.csv...'\n",
            "'[INFO] Working on df_2020_06.csv...'\n",
            "'[INFO] Working on df_2020_07.csv...'\n",
            "'[INFO] Working on df_2020_08.csv...'\n",
            "'[INFO] Working on df_2020_09.csv...'\n",
            "'[INFO] Working on df_2020_10.csv...'\n",
            "'[INFO] Working on df_2020_11.csv...'\n",
            "'[INFO] Working on df_2020_12.csv...'\n",
            "'[INFO] Working on df_2020_13.csv...'\n",
            "'[INFO] Working on df_2020_14.csv...'\n",
            "'[INFO] Working on df_2020_15.csv...'\n",
            "'[INFO] Working on df_2020_16.csv...'\n",
            "'[INFO] Working on df_2020_17.csv...'\n",
            "'[INFO] Working on df_2020_18.csv...'\n",
            "'[INFO] Working on df_2020_19.csv...'\n",
            "'[INFO] Working on df_2020_20.csv...'\n",
            "'[INFO] Working on df_2020_21.csv...'\n",
            "'[INFO] Working on df_2020_22.csv...'\n",
            "'[INFO] Working on df_2020_23.csv...'\n",
            "'[INFO] Working on df_2020_24.csv...'\n",
            "'[INFO] Working on df_2020_25.csv...'\n",
            "'[INFO] Working on df_2020_26.csv...'\n",
            "'[INFO] Working on df_2020_27.csv...'\n",
            "'[INFO] Working on df_2020_28.csv...'\n",
            "'[INFO] Working on df_2020_29.csv...'\n",
            "'[INFO] Working on df_2020_30.csv...'\n",
            "'[INFO] Working on df_2020_31.csv...'\n",
            "'[INFO] Working on df_2020_32.csv...'\n",
            "'[INFO] Working on df_2020_33.csv...'\n",
            "'[INFO] Working on df_2020_34.csv...'\n",
            "'[INFO] Working on df_2020_35.csv...'\n",
            "'[INFO] Working on df_2020_36.csv...'\n",
            "'[INFO] Working on df_2020_37.csv...'\n",
            "'[INFO] Working on df_2020_38.csv...'\n",
            "'[INFO] Working on df_2020_39.csv...'\n",
            "[INFO] Printing the object... \n",
            "{'df_2019_27.csv': 1063807,\n",
            " 'df_2019_28.csv': 954637,\n",
            " 'df_2019_29.csv': 1004258,\n",
            " 'df_2019_30.csv': 990866,\n",
            " 'df_2019_31.csv': 1176926,\n",
            " 'df_2019_32.csv': 1400196,\n",
            " 'df_2019_33.csv': 963034,\n",
            " 'df_2019_34.csv': 900302,\n",
            " 'df_2019_35.csv': 1120356,\n",
            " 'df_2019_36.csv': 1340893,\n",
            " 'df_2019_37.csv': 1147006,\n",
            " 'df_2019_38.csv': 925911,\n",
            " 'df_2019_39.csv': 1446852,\n",
            " 'df_2019_40.csv': 1714915,\n",
            " 'df_2019_41.csv': 1216350,\n",
            " 'df_2019_42.csv': 998665,\n",
            " 'df_2019_43.csv': 1492158,\n",
            " 'df_2019_44.csv': 1125608,\n",
            " 'df_2019_45.csv': 1197820,\n",
            " 'df_2019_46.csv': 1604118,\n",
            " 'df_2019_47.csv': 968214,\n",
            " 'df_2019_48.csv': 4308332,\n",
            " 'df_2019_49.csv': 2446435,\n",
            " 'df_2019_50.csv': 1442802,\n",
            " 'df_2019_51.csv': 1069451,\n",
            " 'df_2019_52.csv': 1509395,\n",
            " 'df_2020_01.csv': 2530361,\n",
            " 'df_2020_02.csv': 1204526,\n",
            " 'df_2020_03.csv': 1143742,\n",
            " 'df_2020_04.csv': 1865781,\n",
            " 'df_2020_05.csv': 765901,\n",
            " 'df_2020_06.csv': 1200701,\n",
            " 'df_2020_07.csv': 1217747,\n",
            " 'df_2020_08.csv': 865273,\n",
            " 'df_2020_09.csv': 800686,\n",
            " 'df_2020_10.csv': 1096510,\n",
            " 'df_2020_11.csv': 2391710,\n",
            " 'df_2020_12.csv': 1855921,\n",
            " 'df_2020_13.csv': 750746,\n",
            " 'df_2020_14.csv': 1570088,\n",
            " 'df_2020_15.csv': 1188052,\n",
            " 'df_2020_16.csv': 1004923,\n",
            " 'df_2020_17.csv': 1461307,\n",
            " 'df_2020_18.csv': 770727,\n",
            " 'df_2020_19.csv': 770718,\n",
            " 'df_2020_20.csv': 1958198,\n",
            " 'df_2020_21.csv': 1883131,\n",
            " 'df_2020_22.csv': 751662,\n",
            " 'df_2020_23.csv': 1368351,\n",
            " 'df_2020_24.csv': 913887,\n",
            " 'df_2020_25.csv': 1179534,\n",
            " 'df_2020_26.csv': 1906193,\n",
            " 'df_2020_27.csv': 783701,\n",
            " 'df_2020_28.csv': 1906203,\n",
            " 'df_2020_29.csv': 1038333,\n",
            " 'df_2020_30.csv': 738911,\n",
            " 'df_2020_31.csv': 1847411,\n",
            " 'df_2020_32.csv': 860892,\n",
            " 'df_2020_33.csv': 1888343,\n",
            " 'df_2020_34.csv': 1957786,\n",
            " 'df_2020_35.csv': 888180,\n",
            " 'df_2020_36.csv': 2007110,\n",
            " 'df_2020_37.csv': 1664062,\n",
            " 'df_2020_38.csv': 1195653,\n",
            " 'df_2020_39.csv': 1467785}\n"
          ],
          "name": "stdout"
        }
      ]
    },
    {
      "cell_type": "markdown",
      "metadata": {
        "id": "8_RLwNI9lauY"
      },
      "source": [
        "#Loading Baseline Model"
      ]
    },
    {
      "cell_type": "code",
      "metadata": {
        "colab": {
          "base_uri": "https://localhost:8080/"
        },
        "id": "0ln51gbgxslD",
        "outputId": "9660a98b-538f-41d7-be01-098ce6c79128"
      },
      "source": [
        "from space_bandits import load_model\n",
        "linear_model = load_model('/content/gdrive/MyDrive/Bandit_Project/models/900_bandit')\n",
        "print(type(linear_model))"
      ],
      "execution_count": 7,
      "outputs": [
        {
          "output_type": "stream",
          "text": [
            "<class 'space_bandits.linear.LinearBandits'>\n"
          ],
          "name": "stdout"
        }
      ]
    }
  ]
}