{
  "nbformat": 4,
  "nbformat_minor": 0,
  "metadata": {
    "colab": {
      "name": "Space_Bandits_Full_Baseline_Kartha.ipynb",
      "provenance": [],
      "authorship_tag": "ABX9TyMF/CWbk3vZBKTFbKu5OpME",
      "include_colab_link": true
    },
    "kernelspec": {
      "name": "python3",
      "display_name": "Python 3"
    }
  },
  "cells": [
    {
      "cell_type": "markdown",
      "metadata": {
        "id": "view-in-github",
        "colab_type": "text"
      },
      "source": [
        "<a href=\"https://colab.research.google.com/github/fellowship/deep-and-wide-bandit/blob/dev/Space_Bandits_Full_Baseline_Kartha.ipynb\" target=\"_parent\"><img src=\"https://colab.research.google.com/assets/colab-badge.svg\" alt=\"Open In Colab\"/></a>"
      ]
    },
    {
      "cell_type": "code",
      "metadata": {
        "colab": {
          "base_uri": "https://localhost:8080/"
        },
        "id": "5vhJOAyQiSkY",
        "outputId": "385f0703-4da4-4952-a358-a06c9cc96645"
      },
      "source": [
        "!pip install space-bandits"
      ],
      "execution_count": 1,
      "outputs": [
        {
          "output_type": "stream",
          "text": [
            "Collecting space-bandits\n",
            "  Downloading https://files.pythonhosted.org/packages/38/25/1e2b2b5c6692dd334ab1c73cc19a4b160124efc6c54c7a90293e02228b72/space-bandits-0.0.992.tar.gz\n",
            "Requirement already satisfied: torch in /usr/local/lib/python3.6/dist-packages (from space-bandits) (1.7.0+cu101)\n",
            "Requirement already satisfied: numpy in /usr/local/lib/python3.6/dist-packages (from space-bandits) (1.19.5)\n",
            "Requirement already satisfied: scipy in /usr/local/lib/python3.6/dist-packages (from space-bandits) (1.4.1)\n",
            "Requirement already satisfied: pandas in /usr/local/lib/python3.6/dist-packages (from space-bandits) (1.1.5)\n",
            "Requirement already satisfied: cython in /usr/local/lib/python3.6/dist-packages (from space-bandits) (0.29.21)\n",
            "Requirement already satisfied: scikit-learn in /usr/local/lib/python3.6/dist-packages (from space-bandits) (0.22.2.post1)\n",
            "Requirement already satisfied: dataclasses in /usr/local/lib/python3.6/dist-packages (from torch->space-bandits) (0.8)\n",
            "Requirement already satisfied: future in /usr/local/lib/python3.6/dist-packages (from torch->space-bandits) (0.16.0)\n",
            "Requirement already satisfied: typing-extensions in /usr/local/lib/python3.6/dist-packages (from torch->space-bandits) (3.7.4.3)\n",
            "Requirement already satisfied: python-dateutil>=2.7.3 in /usr/local/lib/python3.6/dist-packages (from pandas->space-bandits) (2.8.1)\n",
            "Requirement already satisfied: pytz>=2017.2 in /usr/local/lib/python3.6/dist-packages (from pandas->space-bandits) (2018.9)\n",
            "Requirement already satisfied: joblib>=0.11 in /usr/local/lib/python3.6/dist-packages (from scikit-learn->space-bandits) (1.0.0)\n",
            "Requirement already satisfied: six>=1.5 in /usr/local/lib/python3.6/dist-packages (from python-dateutil>=2.7.3->pandas->space-bandits) (1.15.0)\n",
            "Building wheels for collected packages: space-bandits\n",
            "  Building wheel for space-bandits (setup.py) ... \u001b[?25l\u001b[?25hdone\n",
            "  Created wheel for space-bandits: filename=space_bandits-0.0.992-cp36-none-any.whl size=17441 sha256=060e92d86a19b55dc293e4b81a804cf464b7b1337a919b1dc63f3fc633b7ee75\n",
            "  Stored in directory: /root/.cache/pip/wheels/a7/0c/a7/4bae68f8e665b4c68e7cb7ae7fff88269f3551a4b56b598a42\n",
            "Successfully built space-bandits\n",
            "Installing collected packages: space-bandits\n",
            "Successfully installed space-bandits-0.0.992\n"
          ],
          "name": "stdout"
        }
      ]
    },
    {
      "cell_type": "markdown",
      "metadata": {
        "id": "-e57NOs1k8NJ"
      },
      "source": [
        "#Importing packages"
      ]
    },
    {
      "cell_type": "code",
      "metadata": {
        "colab": {
          "base_uri": "https://localhost:8080/"
        },
        "id": "q-HbCWh_nAV8",
        "outputId": "3c5e1330-63e0-43bd-bdc9-8f0e18ea4d72"
      },
      "source": [
        "from google.colab import drive\n",
        "drive.mount('/content/gdrive')"
      ],
      "execution_count": 2,
      "outputs": [
        {
          "output_type": "stream",
          "text": [
            "Mounted at /content/gdrive\n"
          ],
          "name": "stdout"
        }
      ]
    },
    {
      "cell_type": "code",
      "metadata": {
        "id": "GuXbHt7FnK9E"
      },
      "source": [
        "import pandas as pd\n",
        "\n",
        "#Formatting .describe() calls s.t. floats are displayed in non-scientific notation\n",
        "pd.set_option('display.float_format', lambda x: '%.5f' % x)\n",
        "\n",
        "import matplotlib.pyplot as plt\n",
        "%matplotlib inline\n",
        "import random\n",
        "import seaborn as sns\n",
        "import numpy as np\n",
        "import json\n",
        "import pickle as pkl\n",
        "import warnings\n",
        "from pprint import pprint\n",
        "warnings.filterwarnings(\"ignore\", category=DeprecationWarning)"
      ],
      "execution_count": 6,
      "outputs": []
    },
    {
      "cell_type": "markdown",
      "metadata": {
        "id": "MnqGNTKllBXh"
      },
      "source": [
        "#Importing Supporting Files + Dataset\n"
      ]
    },
    {
      "cell_type": "markdown",
      "metadata": {
        "id": "noM7XlW_odkq"
      },
      "source": [
        "##Importing dtypes.json"
      ]
    },
    {
      "cell_type": "code",
      "metadata": {
        "colab": {
          "base_uri": "https://localhost:8080/"
        },
        "id": "1yoS5-P0okqX",
        "outputId": "12453b15-0a1a-422b-a0be-f3352d5dc22e"
      },
      "source": [
        "#Set the filepath\n",
        "dtypes_filepath = '/content/gdrive/MyDrive/Bandit_Project/dtypes.json'\n",
        "\n",
        "#Load dtypes.json to a dtypes dictionary\n",
        "with open(dtypes_filepath, mode='r') as dtypes_file:\n",
        "  dtypes_dict = json.load(dtypes_file)\n",
        "\n",
        "#Print the keys and values of dtypes_dict to cross-check\n",
        "print(\"[INFO] Printing the dtypes dictionary... \")\n",
        "pprint(dtypes_dict)"
      ],
      "execution_count": 7,
      "outputs": [
        {
          "output_type": "stream",
          "text": [
            "[INFO] Printing the dictionary... \n",
            "{'aq_dow': 'object',\n",
            " 'aq_mo': 'object',\n",
            " 'aq_period': 'bool',\n",
            " 'campaign_Brand': 'int64',\n",
            " 'campaign_Collection': 'int64',\n",
            " 'campaign_Core': 'int64',\n",
            " 'campaign_Dedicated': 'int64',\n",
            " 'campaign_InnovationSpotlight': 'int64',\n",
            " 'campaign_NewArrivals': 'int64',\n",
            " 'campaign_Other': 'int64',\n",
            " 'campaign_ProductSpotlight': 'int64',\n",
            " 'campaign_Replen': 'int64',\n",
            " 'campaign_Tops': 'int64',\n",
            " 'campaign_Trend': 'int64',\n",
            " 'campaign_id': 'int64',\n",
            " 'days_subscr': 'int64',\n",
            " 'discount': 'int64',\n",
            " 'free_shipping': 'int64',\n",
            " 'frequency_score': 'int64',\n",
            " 'has_urgency': 'int64',\n",
            " 'is_discount_mentioned': 'int64',\n",
            " 'is_exclusive': 'int64',\n",
            " 'is_one_for_free': 'int64',\n",
            " 'message_size': 'int64',\n",
            " 'opened': 'int64',\n",
            " 'optimal_action': 'int64',\n",
            " 'promo': 'int64',\n",
            " 'recency_score': 'float64',\n",
            " 'retention_score': 'float64',\n",
            " 'rev_3dv2': 'float64',\n",
            " 'reward': 'int64',\n",
            " 'riid': 'int64',\n",
            " 'sale': 'int64',\n",
            " 'sends_since_last_open': 'int64',\n",
            " 'sent_dayofweek': 'int64',\n",
            " 'sent_hr': 'int64',\n",
            " 'sent_week': 'UInt32',\n",
            " 'sl_contains_price': 'int64',\n",
            " 'unsub': 'int64'}\n"
          ],
          "name": "stdout"
        }
      ]
    },
    {
      "cell_type": "markdown",
      "metadata": {
        "id": "CbvwRCy9odwC"
      },
      "source": [
        "##Importing rolling_statistics.pkl"
      ]
    },
    {
      "cell_type": "code",
      "metadata": {
        "colab": {
          "base_uri": "https://localhost:8080/"
        },
        "id": "6RkxnbvbpdiX",
        "outputId": "782574c8-623b-4ba9-fff1-d8349d8305fb"
      },
      "source": [
        "#Set the filepath\n",
        "rolling_stats_filepath = '/content/gdrive/MyDrive/Bandit_Project/rolling_statistics.pkl'\n",
        "\n",
        "#Load rolling_statistics.pkl to a rolling  dictionary\n",
        "with open(rolling_stats_filepath, mode='rb') as rolling_stats_file:\n",
        "  rolling_stats = pkl.load(rolling_stats_file)\n",
        "\n",
        "#Print the keys and values of the dictionary to cross-check\n",
        "print(\"[INFO] Printing the rolling_stats dictionary... \")\n",
        "pprint(rolling_stats)"
      ],
      "execution_count": 10,
      "outputs": [
        {
          "output_type": "stream",
          "text": [
            "[INFO] Printing the rolling_stats dictionary... \n",
            "{'days_subscr': {'max': 3917,\n",
            "                 'mean': 1332.471434552341,\n",
            "                 'min': 0,\n",
            "                 'std': 822.6802670330655},\n",
            " 'discount': {'max': 75,\n",
            "              'mean': 11.300244227332426,\n",
            "              'min': 0,\n",
            "              'std': 19.60056341212265},\n",
            " 'frequency_score': {'max': 163,\n",
            "                     'mean': 14.977138288600283,\n",
            "                     'min': 0,\n",
            "                     'std': 20.754428265423773},\n",
            " 'message_size': {'max': 354737,\n",
            "                  'mean': 155242.30496730257,\n",
            "                  'min': 80267,\n",
            "                  'std': 36298.15284468782},\n",
            " 'previous_n_so_far': 88653468,\n",
            " 'recency_score': {'max': 27.428571428571427,\n",
            "                   'mean': 1.23904221901564,\n",
            "                   'min': 0.0,\n",
            "                   'std': 2.216794122042123},\n",
            " 'retention_score': {'max': 28.0,\n",
            "                     'mean': 11.467980895825553,\n",
            "                     'min': 0.15384615384615385,\n",
            "                     'std': 11.35391986430546},\n",
            " 'rev_3dv2': {'max': 3526.84,\n",
            "              'mean': 0.059812179033985384,\n",
            "              'min': -14.0,\n",
            "              'std': 2.792981337202308},\n",
            " 'sends_since_last_open': {'max': 182,\n",
            "                           'mean': 11.36886785974351,\n",
            "                           'min': 0,\n",
            "                           'std': 14.997835900332081},\n",
            " 'sent_dayofweek': {'max': 6,\n",
            "                    'mean': 2.638369149867888,\n",
            "                    'min': 0,\n",
            "                    'std': 2.163983074344224},\n",
            " 'sent_hr': {'max': 23,\n",
            "             'mean': 17.291778162586947,\n",
            "             'min': 0,\n",
            "             'std': 3.9303658889007997},\n",
            " 'sent_week': {'max': 52,\n",
            "               'mean': 28.594960628048973,\n",
            "               'min': 1,\n",
            "               'std': 14.377041994557581}}\n"
          ],
          "name": "stdout"
        }
      ]
    },
    {
      "cell_type": "markdown",
      "metadata": {
        "id": "8_RLwNI9lauY"
      },
      "source": [
        "#Loading Baseline Model"
      ]
    }
  ]
}