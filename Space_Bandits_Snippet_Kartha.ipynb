{
  "nbformat": 4,
  "nbformat_minor": 0,
  "metadata": {
    "colab": {
      "name": "Space_Bandits_Snippet_Kartha.ipynb",
      "provenance": [],
      "collapsed_sections": [],
      "authorship_tag": "ABX9TyNsiS1vLbX2jx+w4eTQvh6T",
      "include_colab_link": true
    },
    "kernelspec": {
      "name": "python3",
      "display_name": "Python 3"
    }
  },
  "cells": [
    {
      "cell_type": "markdown",
      "metadata": {
        "id": "view-in-github",
        "colab_type": "text"
      },
      "source": [
        "<a href=\"https://colab.research.google.com/github/fellowship/deep-and-wide-bandit/blob/dev/Space_Bandits_Snippet_Kartha.ipynb\" target=\"_parent\"><img src=\"https://colab.research.google.com/assets/colab-badge.svg\" alt=\"Open In Colab\"/></a>"
      ]
    },
    {
      "cell_type": "markdown",
      "metadata": {
        "id": "7F2orf72mZcL"
      },
      "source": [
        "# Installs"
      ]
    },
    {
      "cell_type": "code",
      "metadata": {
        "id": "r_Qp7ou_mcxz",
        "colab": {
          "base_uri": "https://localhost:8080/"
        },
        "outputId": "3e14f163-9dff-439c-8a01-745050ff4e86"
      },
      "source": [
        "!pip install space-bandits"
      ],
      "execution_count": 31,
      "outputs": [
        {
          "output_type": "stream",
          "text": [
            "Requirement already satisfied: space-bandits in /usr/local/lib/python3.6/dist-packages (0.0.992)\n",
            "Requirement already satisfied: numpy in /usr/local/lib/python3.6/dist-packages (from space-bandits) (1.19.5)\n",
            "Requirement already satisfied: cython in /usr/local/lib/python3.6/dist-packages (from space-bandits) (0.29.21)\n",
            "Requirement already satisfied: torch in /usr/local/lib/python3.6/dist-packages (from space-bandits) (1.7.0+cu101)\n",
            "Requirement already satisfied: scipy in /usr/local/lib/python3.6/dist-packages (from space-bandits) (1.4.1)\n",
            "Requirement already satisfied: scikit-learn in /usr/local/lib/python3.6/dist-packages (from space-bandits) (0.22.2.post1)\n",
            "Requirement already satisfied: pandas in /usr/local/lib/python3.6/dist-packages (from space-bandits) (1.1.5)\n",
            "Requirement already satisfied: future in /usr/local/lib/python3.6/dist-packages (from torch->space-bandits) (0.16.0)\n",
            "Requirement already satisfied: typing-extensions in /usr/local/lib/python3.6/dist-packages (from torch->space-bandits) (3.7.4.3)\n",
            "Requirement already satisfied: dataclasses in /usr/local/lib/python3.6/dist-packages (from torch->space-bandits) (0.8)\n",
            "Requirement already satisfied: joblib>=0.11 in /usr/local/lib/python3.6/dist-packages (from scikit-learn->space-bandits) (1.0.0)\n",
            "Requirement already satisfied: pytz>=2017.2 in /usr/local/lib/python3.6/dist-packages (from pandas->space-bandits) (2018.9)\n",
            "Requirement already satisfied: python-dateutil>=2.7.3 in /usr/local/lib/python3.6/dist-packages (from pandas->space-bandits) (2.8.1)\n",
            "Requirement already satisfied: six>=1.5 in /usr/local/lib/python3.6/dist-packages (from python-dateutil>=2.7.3->pandas->space-bandits) (1.15.0)\n"
          ],
          "name": "stdout"
        }
      ]
    },
    {
      "cell_type": "markdown",
      "metadata": {
        "id": "7jMnk4DFbXx1"
      },
      "source": [
        "# Imports & Data Loading "
      ]
    },
    {
      "cell_type": "markdown",
      "metadata": {
        "id": "ThgB7bhkmg8n"
      },
      "source": [
        "The 2 codeblocks below, lifted from [this sample pandas-profiling notebook](https://colab.research.google.com/github/pandas-profiling/pandas-profiling/blob/master/examples/meteorites/meteorites.ipynb#scrollTo=aWCGSUOWkRDL), are apparently required to make the `pandas_profiling` package work in Google Colab :/"
      ]
    },
    {
      "cell_type": "code",
      "metadata": {
        "id": "lWfEQsjCkXLL",
        "colab": {
          "base_uri": "https://localhost:8080/"
        },
        "outputId": "de5b13fa-c630-4c25-fe44-f8d4df66d7d1"
      },
      "source": [
        "%load_ext autoreload\n",
        "%autoreload 2"
      ],
      "execution_count": 32,
      "outputs": [
        {
          "output_type": "stream",
          "text": [
            "The autoreload extension is already loaded. To reload it, use:\n",
            "  %reload_ext autoreload\n"
          ],
          "name": "stdout"
        }
      ]
    },
    {
      "cell_type": "code",
      "metadata": {
        "id": "YGuSItJjkZED"
      },
      "source": [
        "import sys\n",
        "\n",
        "#Profile Report Generation takes times - Do only if required\n",
        "do_profile_report = False\n",
        "\n",
        "if do_profile_report:\n",
        "  !{sys.executable} -m pip install -U pandas-profiling[notebook]\n",
        "  !jupyter nbextension enable --py widgetsnbextension"
      ],
      "execution_count": 33,
      "outputs": []
    },
    {
      "cell_type": "markdown",
      "metadata": {
        "id": "neByOjJblgNy"
      },
      "source": [
        "For some reason, again according to the notebook linked above, restarting the kernel at this point makes it work :/ :/"
      ]
    },
    {
      "cell_type": "code",
      "metadata": {
        "colab": {
          "base_uri": "https://localhost:8080/"
        },
        "id": "EWGHN6aXT8-U",
        "outputId": "34c2a66f-6393-4ecc-db46-fd7f909b9422"
      },
      "source": [
        "from google.colab import drive\n",
        "drive.mount('/content/gdrive')"
      ],
      "execution_count": 34,
      "outputs": [
        {
          "output_type": "stream",
          "text": [
            "Drive already mounted at /content/gdrive; to attempt to forcibly remount, call drive.mount(\"/content/gdrive\", force_remount=True).\n"
          ],
          "name": "stdout"
        }
      ]
    },
    {
      "cell_type": "code",
      "metadata": {
        "id": "hJPm7J5gXgAW"
      },
      "source": [
        "#Downloading and loading the data onto a Dataframe\n",
        "import pandas as pd\n",
        "df = pd.read_csv('/content/gdrive/MyDrive/data_snippet.csv')\n",
        "\n",
        "#Formatting .describe() calls s.t. floats are displayed in non-scientific notation\n",
        "pd.set_option('display.float_format', lambda x: '%.5f' % x)"
      ],
      "execution_count": 35,
      "outputs": []
    },
    {
      "cell_type": "code",
      "metadata": {
        "id": "i81xeCQWbnyw"
      },
      "source": [
        "import matplotlib.pyplot as plt\n",
        "from pandas_profiling import ProfileReport\n",
        "import random\n",
        "%matplotlib inline\n",
        "import seaborn as sns\n",
        "import numpy as np\n",
        "from sklearn.preprocessing import MinMaxScaler\n",
        "import warnings\n",
        "warnings.filterwarnings(\"ignore\", category=DeprecationWarning)"
      ],
      "execution_count": 36,
      "outputs": []
    },
    {
      "cell_type": "code",
      "metadata": {
        "colab": {
          "base_uri": "https://localhost:8080/",
          "height": 204
        },
        "id": "VTL3Hl-DXzJU",
        "outputId": "01ffa397-0184-4a84-dc21-6f50eb65a268"
      },
      "source": [
        "df.head()"
      ],
      "execution_count": 37,
      "outputs": [
        {
          "output_type": "execute_result",
          "data": {
            "text/html": [
              "<div>\n",
              "<style scoped>\n",
              "    .dataframe tbody tr th:only-of-type {\n",
              "        vertical-align: middle;\n",
              "    }\n",
              "\n",
              "    .dataframe tbody tr th {\n",
              "        vertical-align: top;\n",
              "    }\n",
              "\n",
              "    .dataframe thead th {\n",
              "        text-align: right;\n",
              "    }\n",
              "</style>\n",
              "<table border=\"1\" class=\"dataframe\">\n",
              "  <thead>\n",
              "    <tr style=\"text-align: right;\">\n",
              "      <th></th>\n",
              "      <th>riid</th>\n",
              "      <th>opened</th>\n",
              "      <th>rev_3dv2</th>\n",
              "      <th>unsub</th>\n",
              "      <th>campaign_type</th>\n",
              "      <th>retention_score</th>\n",
              "      <th>recency_score</th>\n",
              "      <th>frequency_score</th>\n",
              "    </tr>\n",
              "  </thead>\n",
              "  <tbody>\n",
              "    <tr>\n",
              "      <th>0</th>\n",
              "      <td>242697842</td>\n",
              "      <td>1</td>\n",
              "      <td>75.00000</td>\n",
              "      <td>0</td>\n",
              "      <td>Dedicated</td>\n",
              "      <td>14.00000</td>\n",
              "      <td>1.63742</td>\n",
              "      <td>31</td>\n",
              "    </tr>\n",
              "    <tr>\n",
              "      <th>1</th>\n",
              "      <td>275469002</td>\n",
              "      <td>1</td>\n",
              "      <td>75.00000</td>\n",
              "      <td>0</td>\n",
              "      <td>Dedicated</td>\n",
              "      <td>2.80000</td>\n",
              "      <td>0.00000</td>\n",
              "      <td>0</td>\n",
              "    </tr>\n",
              "    <tr>\n",
              "      <th>2</th>\n",
              "      <td>4319542</td>\n",
              "      <td>1</td>\n",
              "      <td>19.98000</td>\n",
              "      <td>0</td>\n",
              "      <td>Dedicated</td>\n",
              "      <td>1.00000</td>\n",
              "      <td>0.08424</td>\n",
              "      <td>4</td>\n",
              "    </tr>\n",
              "    <tr>\n",
              "      <th>3</th>\n",
              "      <td>166170102</td>\n",
              "      <td>1</td>\n",
              "      <td>19.98000</td>\n",
              "      <td>0</td>\n",
              "      <td>Dedicated</td>\n",
              "      <td>0.75676</td>\n",
              "      <td>0.01087</td>\n",
              "      <td>1</td>\n",
              "    </tr>\n",
              "    <tr>\n",
              "      <th>4</th>\n",
              "      <td>6998482</td>\n",
              "      <td>1</td>\n",
              "      <td>150.00000</td>\n",
              "      <td>0</td>\n",
              "      <td>Dedicated</td>\n",
              "      <td>28.00000</td>\n",
              "      <td>1.84589</td>\n",
              "      <td>18</td>\n",
              "    </tr>\n",
              "  </tbody>\n",
              "</table>\n",
              "</div>"
            ],
            "text/plain": [
              "        riid  opened  rev_3dv2  ...  retention_score recency_score  frequency_score\n",
              "0  242697842       1  75.00000  ...         14.00000       1.63742               31\n",
              "1  275469002       1  75.00000  ...          2.80000       0.00000                0\n",
              "2    4319542       1  19.98000  ...          1.00000       0.08424                4\n",
              "3  166170102       1  19.98000  ...          0.75676       0.01087                1\n",
              "4    6998482       1 150.00000  ...         28.00000       1.84589               18\n",
              "\n",
              "[5 rows x 8 columns]"
            ]
          },
          "metadata": {
            "tags": []
          },
          "execution_count": 37
        }
      ]
    },
    {
      "cell_type": "markdown",
      "metadata": {
        "id": "QkrEx0g8betE"
      },
      "source": [
        "# EDA"
      ]
    },
    {
      "cell_type": "code",
      "metadata": {
        "colab": {
          "base_uri": "https://localhost:8080/"
        },
        "id": "5AF3qjsfdGNx",
        "outputId": "e628d88b-d661-44e6-a701-ff3ac62a9acc"
      },
      "source": [
        "df_size = len(df)\n",
        "print(df.info())"
      ],
      "execution_count": 38,
      "outputs": [
        {
          "output_type": "stream",
          "text": [
            "<class 'pandas.core.frame.DataFrame'>\n",
            "RangeIndex: 6240490 entries, 0 to 6240489\n",
            "Data columns (total 8 columns):\n",
            " #   Column           Dtype  \n",
            "---  ------           -----  \n",
            " 0   riid             int64  \n",
            " 1   opened           int64  \n",
            " 2   rev_3dv2         float64\n",
            " 3   unsub            int64  \n",
            " 4   campaign_type    object \n",
            " 5   retention_score  float64\n",
            " 6   recency_score    float64\n",
            " 7   frequency_score  int64  \n",
            "dtypes: float64(3), int64(4), object(1)\n",
            "memory usage: 380.9+ MB\n",
            "None\n"
          ],
          "name": "stdout"
        }
      ]
    },
    {
      "cell_type": "markdown",
      "metadata": {
        "id": "KsnprBXxne6Q"
      },
      "source": [
        "Just 2 quick points to note:\n",
        "\n",
        "1.   A total of 6M+ entries. We will see that the number of uniques are MUCH lesser.\n",
        "2. Boolean features (open, unsub etc.) are currently int64.\n"
      ]
    },
    {
      "cell_type": "code",
      "metadata": {
        "id": "qF3hHbrOX5Oj",
        "colab": {
          "base_uri": "https://localhost:8080/",
          "height": 171
        },
        "outputId": "1ac0afb9-3618-4c21-a1e3-96d01acd6207"
      },
      "source": [
        "\"\"\"\n",
        "Descriptive Statistics of Features, taken one at a time.\n",
        "Frequency Counts for riid, campaign type, opened & subscribed\n",
        "Summary for the 3 scores & purchase\n",
        "\n",
        "Not required with pandas_profiling\n",
        "\n",
        "#User: riid\n",
        "print(\"[INFO] Context — User IDs:\")\n",
        "df_riid = df[\"riid\"].value_counts().rename_axis('riid').to_frame(name='counts')\n",
        "print(df_riid)\n",
        "\n",
        "#Email: Campaign Type\n",
        "print(\"\\n[INFO] Context - Campaign Type:\")\n",
        "df_ctype = df[\"campaign_type\"].value_counts(normalize=True).rename_axis('Campaign Type').to_frame(name='% counts')\n",
        "print(df_ctype)\n",
        "\n",
        "#User-Email: Retention, Recency & Freqyency\n",
        "print(\"\\n[INFO] Context - Retention, Recency & Frequency Score:\")\n",
        "df_scores = df[[\"retention_score\",\"recency_score\",\"frequency_score\"]].describe()\n",
        "print(df_scores)\n",
        "\n",
        "#Reward: Opened\n",
        "print(\"\\n[INFO] Reward - Opened/Not Opened:\")\n",
        "df_opened = df[\"opened\"].value_counts(normalize=True).rename_axis('Opened (1=Yes)').to_frame(name='% counts')\n",
        "print(df_opened)\n",
        "\n",
        "#Reward: Subscribed\n",
        "print(\"\\n[INFO] Reward - Subscribed or Not:\")\n",
        "df_unsub = df[\"unsub\"].value_counts(normalize=True).rename_axis('Unsubscribed (1=Yes)').to_frame(name='counts')\n",
        "print(df_unsub)\n",
        "\n",
        "#Reward: Purchased\n",
        "print(\"\\n[INFO] Reward - Purchased/Not Purchased:\")\n",
        "df_purchased = df[df[\"rev_3dv2\"] > 0]\n",
        "total_purchased = len(df_purchased)\n",
        "percent_purchased = total_purchased/len(df)\n",
        "print(f\"Only {percent_purchased*100:.2f}% of people purchased. Their spends are:\\n\")\n",
        "df_purchase_beh = df_purchased[\"rev_3dv2\"].describe()\n",
        "print(df_purchase_beh)\n",
        "\"\"\""
      ],
      "execution_count": 39,
      "outputs": [
        {
          "output_type": "execute_result",
          "data": {
            "application/vnd.google.colaboratory.intrinsic+json": {
              "type": "string"
            },
            "text/plain": [
              "'\\nDescriptive Statistics of Features, taken one at a time.\\nFrequency Counts for riid, campaign type, opened & subscribed\\nSummary for the 3 scores & purchase\\n\\nNot required with pandas_profiling\\n\\n#User: riid\\nprint(\"[INFO] Context — User IDs:\")\\ndf_riid = df[\"riid\"].value_counts().rename_axis(\\'riid\\').to_frame(name=\\'counts\\')\\nprint(df_riid)\\n\\n#Email: Campaign Type\\nprint(\"\\n[INFO] Context - Campaign Type:\")\\ndf_ctype = df[\"campaign_type\"].value_counts(normalize=True).rename_axis(\\'Campaign Type\\').to_frame(name=\\'% counts\\')\\nprint(df_ctype)\\n\\n#User-Email: Retention, Recency & Freqyency\\nprint(\"\\n[INFO] Context - Retention, Recency & Frequency Score:\")\\ndf_scores = df[[\"retention_score\",\"recency_score\",\"frequency_score\"]].describe()\\nprint(df_scores)\\n\\n#Reward: Opened\\nprint(\"\\n[INFO] Reward - Opened/Not Opened:\")\\ndf_opened = df[\"opened\"].value_counts(normalize=True).rename_axis(\\'Opened (1=Yes)\\').to_frame(name=\\'% counts\\')\\nprint(df_opened)\\n\\n#Reward: Subscribed\\nprint(\"\\n[INFO] Reward - Subscribed or Not:\")\\ndf_unsub = df[\"unsub\"].value_counts(normalize=True).rename_axis(\\'Unsubscribed (1=Yes)\\').to_frame(name=\\'counts\\')\\nprint(df_unsub)\\n\\n#Reward: Purchased\\nprint(\"\\n[INFO] Reward - Purchased/Not Purchased:\")\\ndf_purchased = df[df[\"rev_3dv2\"] > 0]\\ntotal_purchased = len(df_purchased)\\npercent_purchased = total_purchased/len(df)\\nprint(f\"Only {percent_purchased*100:.2f}% of people purchased. Their spends are:\\n\")\\ndf_purchase_beh = df_purchased[\"rev_3dv2\"].describe()\\nprint(df_purchase_beh)\\n'"
            ]
          },
          "metadata": {
            "tags": []
          },
          "execution_count": 39
        }
      ]
    },
    {
      "cell_type": "code",
      "metadata": {
        "id": "m3_gbeqofjBq"
      },
      "source": [
        "if do_profile_report:\n",
        "  profile_report = df.profile_report(\n",
        "    explorative=True, html={\"style\": {\"full_width\": True}}\n",
        "  )\n",
        "  profile_report"
      ],
      "execution_count": 40,
      "outputs": []
    },
    {
      "cell_type": "markdown",
      "metadata": {
        "id": "hr4FuZk-BS4n"
      },
      "source": [
        "A few salient points:\n",
        "\n",
        "1. Over 0.5Mn duplicate entries.\n",
        "2. ~99.9% of rev_3dv2 is 0.0\n",
        "3. ~99.9% of unsub is 0\n",
        "4. Both recency and frequency scores have exactly 620461 zero entries. Their distributions look like exponential decay. \n",
        "5. 4 variables are strongly correlated — opened, retention score, recency score and frequency score.\n",
        "6. Specific riids have measurable interactions with the 3 scores and rev3dv2."
      ]
    },
    {
      "cell_type": "code",
      "metadata": {
        "colab": {
          "base_uri": "https://localhost:8080/",
          "height": 333
        },
        "id": "SqeoU8mWUaCx",
        "outputId": "bd9bc7be-0239-4c5a-f07b-6f2d171d5045"
      },
      "source": [
        "#Visualizing riid counts distribution to ascertain the mix of receipts in data\n",
        "df_riid = df[\"riid\"].value_counts().rename_axis('riid').to_frame(name='counts')\n",
        "sns.distplot(df_riid[\"counts\"])\n",
        "plt.show()"
      ],
      "execution_count": 41,
      "outputs": [
        {
          "output_type": "stream",
          "text": [
            "/usr/local/lib/python3.6/dist-packages/seaborn/distributions.py:2557: FutureWarning: `distplot` is a deprecated function and will be removed in a future version. Please adapt your code to use either `displot` (a figure-level function with similar flexibility) or `histplot` (an axes-level function for histograms).\n",
            "  warnings.warn(msg, FutureWarning)\n"
          ],
          "name": "stderr"
        },
        {
          "output_type": "display_data",
          "data": {
            "image/png": "[encoded data removed]",
            "text/plain": [
              "<Figure size 432x288 with 1 Axes>"
            ]
          },
          "metadata": {
            "tags": [],
            "needs_background": "light"
          }
        }
      ]
    },
    {
      "cell_type": "markdown",
      "metadata": {
        "id": "Thy5uTljC9qC"
      },
      "source": [
        "A few points to note:\n",
        "\n",
        "1. 1 out of 3 riids occur exactly ONCE in the dataset.\n",
        "2. 15% of riids occur exactly TWICE in the dataset.\n",
        "\n",
        "Effectively, 50%+ of riids occur $\\leq$ 3 times in the dataset."
      ]
    },
    {
      "cell_type": "markdown",
      "metadata": {
        "id": "TSpVottvwYn1"
      },
      "source": [
        "# Data Preprocessing"
      ]
    },
    {
      "cell_type": "markdown",
      "metadata": {
        "id": "Z2uWvIsn3spj"
      },
      "source": [
        "## Dropping Duplicate Rows"
      ]
    },
    {
      "cell_type": "markdown",
      "metadata": {
        "id": "fVJMJJ8dD4cy"
      },
      "source": [
        "Over 0.5Mn duplicate entries in the dataframe. Eliminate them."
      ]
    },
    {
      "cell_type": "code",
      "metadata": {
        "colab": {
          "base_uri": "https://localhost:8080/"
        },
        "id": "ElmiPQJUD-ML",
        "outputId": "bcb758f9-1d75-4163-dafe-c4e5f0442bd1"
      },
      "source": [
        "#Make a copy of the dataframe\n",
        "df2 = df.copy()\n",
        "\n",
        "#Drop duplicates\n",
        "df2.drop_duplicates(keep='first', inplace=True, ignore_index=True)\n",
        "i = df2.duplicated().any()\n",
        "print(f\"Are there any duplicates in the dataframe now? {i}\")"
      ],
      "execution_count": 42,
      "outputs": [
        {
          "output_type": "stream",
          "text": [
            "Are there any duplicates in the dataframe now? False\n"
          ],
          "name": "stdout"
        }
      ]
    },
    {
      "cell_type": "markdown",
      "metadata": {
        "id": "GOPuzDXQO3gu"
      },
      "source": [
        "## Normalizing Numeric Attributes"
      ]
    },
    {
      "cell_type": "markdown",
      "metadata": {
        "id": "nLiewMYzO680"
      },
      "source": [
        "The descriptive statistics for each numeric attributes have different scales. We use **min-max feature scaling** to ensure they have the same scales"
      ]
    },
    {
      "cell_type": "code",
      "metadata": {
        "colab": {
          "base_uri": "https://localhost:8080/",
          "height": 204
        },
        "id": "MX_giNHdO5nF",
        "outputId": "9686ecac-3846-41df-f9da-b0ca48ec58e9"
      },
      "source": [
        "#Scale\n",
        "scaler = MinMaxScaler()\n",
        "numeric_columns = [\"rev_3dv2\",\"retention_score\",\"recency_score\",\"frequency_score\"]\n",
        "scaled_columns = scaler.fit_transform(df2[numeric_columns])\n",
        "scaled_columns_df = pd.DataFrame(scaled_columns, columns=numeric_columns)\n",
        "\n",
        "#Drop the old columns\n",
        "df2.drop(columns=numeric_columns, inplace=True)\n",
        "\n",
        "#Add the new ones\n",
        "df3 = pd.concat([df2, scaled_columns_df], axis=1)\n",
        "df3.head()"
      ],
      "execution_count": 43,
      "outputs": [
        {
          "output_type": "execute_result",
          "data": {
            "text/html": [
              "<div>\n",
              "<style scoped>\n",
              "    .dataframe tbody tr th:only-of-type {\n",
              "        vertical-align: middle;\n",
              "    }\n",
              "\n",
              "    .dataframe tbody tr th {\n",
              "        vertical-align: top;\n",
              "    }\n",
              "\n",
              "    .dataframe thead th {\n",
              "        text-align: right;\n",
              "    }\n",
              "</style>\n",
              "<table border=\"1\" class=\"dataframe\">\n",
              "  <thead>\n",
              "    <tr style=\"text-align: right;\">\n",
              "      <th></th>\n",
              "      <th>riid</th>\n",
              "      <th>opened</th>\n",
              "      <th>unsub</th>\n",
              "      <th>campaign_type</th>\n",
              "      <th>rev_3dv2</th>\n",
              "      <th>retention_score</th>\n",
              "      <th>recency_score</th>\n",
              "      <th>frequency_score</th>\n",
              "    </tr>\n",
              "  </thead>\n",
              "  <tbody>\n",
              "    <tr>\n",
              "      <th>0</th>\n",
              "      <td>242697842</td>\n",
              "      <td>1</td>\n",
              "      <td>0</td>\n",
              "      <td>Dedicated</td>\n",
              "      <td>0.03974</td>\n",
              "      <td>0.49682</td>\n",
              "      <td>0.13567</td>\n",
              "      <td>0.20261</td>\n",
              "    </tr>\n",
              "    <tr>\n",
              "      <th>1</th>\n",
              "      <td>275469002</td>\n",
              "      <td>1</td>\n",
              "      <td>0</td>\n",
              "      <td>Dedicated</td>\n",
              "      <td>0.03974</td>\n",
              "      <td>0.09427</td>\n",
              "      <td>0.00000</td>\n",
              "      <td>0.00000</td>\n",
              "    </tr>\n",
              "    <tr>\n",
              "      <th>2</th>\n",
              "      <td>4319542</td>\n",
              "      <td>1</td>\n",
              "      <td>0</td>\n",
              "      <td>Dedicated</td>\n",
              "      <td>0.01059</td>\n",
              "      <td>0.02957</td>\n",
              "      <td>0.00698</td>\n",
              "      <td>0.02614</td>\n",
              "    </tr>\n",
              "    <tr>\n",
              "      <th>3</th>\n",
              "      <td>166170102</td>\n",
              "      <td>1</td>\n",
              "      <td>0</td>\n",
              "      <td>Dedicated</td>\n",
              "      <td>0.01059</td>\n",
              "      <td>0.02083</td>\n",
              "      <td>0.00090</td>\n",
              "      <td>0.00654</td>\n",
              "    </tr>\n",
              "    <tr>\n",
              "      <th>4</th>\n",
              "      <td>6998482</td>\n",
              "      <td>1</td>\n",
              "      <td>0</td>\n",
              "      <td>Dedicated</td>\n",
              "      <td>0.07948</td>\n",
              "      <td>1.00000</td>\n",
              "      <td>0.15295</td>\n",
              "      <td>0.11765</td>\n",
              "    </tr>\n",
              "  </tbody>\n",
              "</table>\n",
              "</div>"
            ],
            "text/plain": [
              "        riid  opened  unsub  ... retention_score  recency_score  frequency_score\n",
              "0  242697842       1      0  ...         0.49682        0.13567          0.20261\n",
              "1  275469002       1      0  ...         0.09427        0.00000          0.00000\n",
              "2    4319542       1      0  ...         0.02957        0.00698          0.02614\n",
              "3  166170102       1      0  ...         0.02083        0.00090          0.00654\n",
              "4    6998482       1      0  ...         1.00000        0.15295          0.11765\n",
              "\n",
              "[5 rows x 8 columns]"
            ]
          },
          "metadata": {
            "tags": []
          },
          "execution_count": 43
        }
      ]
    },
    {
      "cell_type": "markdown",
      "metadata": {
        "id": "3fLt5vfx3yBz"
      },
      "source": [
        "## One-Hot Encoding & dtype Conversion "
      ]
    },
    {
      "cell_type": "markdown",
      "metadata": {
        "id": "9iRlmXo4FRjy"
      },
      "source": [
        "1. Campaign_type has to be one-hot encoded.\n",
        "2. Opened & Unsub has to converted to categorical variables."
      ]
    },
    {
      "cell_type": "code",
      "metadata": {
        "colab": {
          "base_uri": "https://localhost:8080/",
          "height": 241
        },
        "id": "M05OgQ8SE5ef",
        "outputId": "8f6fe0de-fa35-4a0b-c312-dd59a38a6fa5"
      },
      "source": [
        "#Convert only campaign-type to one-hot\n",
        "campaign_one_hot = pd.get_dummies(df3[\"campaign_type\"], prefix=\"Email\")\n",
        "\n",
        "#Replace old-column with new column(s)\n",
        "df3.drop(columns=[\"campaign_type\"], inplace=True)\n",
        "df4 = pd.concat([df3, campaign_one_hot], axis=1)\n",
        "\n",
        "#Cast opened & unsub columns to categorical variables\n",
        "df4[\"opened\"].astype('category')\n",
        "df4[\"unsub\"].astype('category')\n",
        "\n",
        "#Print the head to see \n",
        "df4.head()"
      ],
      "execution_count": 44,
      "outputs": [
        {
          "output_type": "execute_result",
          "data": {
            "text/html": [
              "<div>\n",
              "<style scoped>\n",
              "    .dataframe tbody tr th:only-of-type {\n",
              "        vertical-align: middle;\n",
              "    }\n",
              "\n",
              "    .dataframe tbody tr th {\n",
              "        vertical-align: top;\n",
              "    }\n",
              "\n",
              "    .dataframe thead th {\n",
              "        text-align: right;\n",
              "    }\n",
              "</style>\n",
              "<table border=\"1\" class=\"dataframe\">\n",
              "  <thead>\n",
              "    <tr style=\"text-align: right;\">\n",
              "      <th></th>\n",
              "      <th>riid</th>\n",
              "      <th>opened</th>\n",
              "      <th>unsub</th>\n",
              "      <th>rev_3dv2</th>\n",
              "      <th>retention_score</th>\n",
              "      <th>recency_score</th>\n",
              "      <th>frequency_score</th>\n",
              "      <th>Email_Brand</th>\n",
              "      <th>Email_Collection</th>\n",
              "      <th>Email_Core</th>\n",
              "      <th>Email_Dedicated</th>\n",
              "      <th>Email_Innovation Spotlight</th>\n",
              "      <th>Email_New Arrivals</th>\n",
              "      <th>Email_Other</th>\n",
              "      <th>Email_Product Spotlight</th>\n",
              "      <th>Email_Replen</th>\n",
              "      <th>Email_Tops</th>\n",
              "      <th>Email_Trend</th>\n",
              "    </tr>\n",
              "  </thead>\n",
              "  <tbody>\n",
              "    <tr>\n",
              "      <th>0</th>\n",
              "      <td>242697842</td>\n",
              "      <td>1</td>\n",
              "      <td>0</td>\n",
              "      <td>0.03974</td>\n",
              "      <td>0.49682</td>\n",
              "      <td>0.13567</td>\n",
              "      <td>0.20261</td>\n",
              "      <td>0</td>\n",
              "      <td>0</td>\n",
              "      <td>0</td>\n",
              "      <td>1</td>\n",
              "      <td>0</td>\n",
              "      <td>0</td>\n",
              "      <td>0</td>\n",
              "      <td>0</td>\n",
              "      <td>0</td>\n",
              "      <td>0</td>\n",
              "      <td>0</td>\n",
              "    </tr>\n",
              "    <tr>\n",
              "      <th>1</th>\n",
              "      <td>275469002</td>\n",
              "      <td>1</td>\n",
              "      <td>0</td>\n",
              "      <td>0.03974</td>\n",
              "      <td>0.09427</td>\n",
              "      <td>0.00000</td>\n",
              "      <td>0.00000</td>\n",
              "      <td>0</td>\n",
              "      <td>0</td>\n",
              "      <td>0</td>\n",
              "      <td>1</td>\n",
              "      <td>0</td>\n",
              "      <td>0</td>\n",
              "      <td>0</td>\n",
              "      <td>0</td>\n",
              "      <td>0</td>\n",
              "      <td>0</td>\n",
              "      <td>0</td>\n",
              "    </tr>\n",
              "    <tr>\n",
              "      <th>2</th>\n",
              "      <td>4319542</td>\n",
              "      <td>1</td>\n",
              "      <td>0</td>\n",
              "      <td>0.01059</td>\n",
              "      <td>0.02957</td>\n",
              "      <td>0.00698</td>\n",
              "      <td>0.02614</td>\n",
              "      <td>0</td>\n",
              "      <td>0</td>\n",
              "      <td>0</td>\n",
              "      <td>1</td>\n",
              "      <td>0</td>\n",
              "      <td>0</td>\n",
              "      <td>0</td>\n",
              "      <td>0</td>\n",
              "      <td>0</td>\n",
              "      <td>0</td>\n",
              "      <td>0</td>\n",
              "    </tr>\n",
              "    <tr>\n",
              "      <th>3</th>\n",
              "      <td>166170102</td>\n",
              "      <td>1</td>\n",
              "      <td>0</td>\n",
              "      <td>0.01059</td>\n",
              "      <td>0.02083</td>\n",
              "      <td>0.00090</td>\n",
              "      <td>0.00654</td>\n",
              "      <td>0</td>\n",
              "      <td>0</td>\n",
              "      <td>0</td>\n",
              "      <td>1</td>\n",
              "      <td>0</td>\n",
              "      <td>0</td>\n",
              "      <td>0</td>\n",
              "      <td>0</td>\n",
              "      <td>0</td>\n",
              "      <td>0</td>\n",
              "      <td>0</td>\n",
              "    </tr>\n",
              "    <tr>\n",
              "      <th>4</th>\n",
              "      <td>6998482</td>\n",
              "      <td>1</td>\n",
              "      <td>0</td>\n",
              "      <td>0.07948</td>\n",
              "      <td>1.00000</td>\n",
              "      <td>0.15295</td>\n",
              "      <td>0.11765</td>\n",
              "      <td>0</td>\n",
              "      <td>0</td>\n",
              "      <td>0</td>\n",
              "      <td>1</td>\n",
              "      <td>0</td>\n",
              "      <td>0</td>\n",
              "      <td>0</td>\n",
              "      <td>0</td>\n",
              "      <td>0</td>\n",
              "      <td>0</td>\n",
              "      <td>0</td>\n",
              "    </tr>\n",
              "  </tbody>\n",
              "</table>\n",
              "</div>"
            ],
            "text/plain": [
              "        riid  opened  unsub  ...  Email_Replen  Email_Tops  Email_Trend\n",
              "0  242697842       1      0  ...             0           0            0\n",
              "1  275469002       1      0  ...             0           0            0\n",
              "2    4319542       1      0  ...             0           0            0\n",
              "3  166170102       1      0  ...             0           0            0\n",
              "4    6998482       1      0  ...             0           0            0\n",
              "\n",
              "[5 rows x 18 columns]"
            ]
          },
          "metadata": {
            "tags": []
          },
          "execution_count": 44
        }
      ]
    },
    {
      "cell_type": "markdown",
      "metadata": {
        "id": "1xRWA1SnT-Rh"
      },
      "source": [
        "## Adding Actions column"
      ]
    },
    {
      "cell_type": "markdown",
      "metadata": {
        "id": "pBiP-wj4UDYk"
      },
      "source": [
        "For now, the only action is 1 (Send)."
      ]
    },
    {
      "cell_type": "code",
      "metadata": {
        "colab": {
          "base_uri": "https://localhost:8080/",
          "height": 241
        },
        "id": "LhmhEXpbUHae",
        "outputId": "cc52ebe0-c56f-4080-97c7-9da90e091d97"
      },
      "source": [
        "#Add a column with name Action to the dataframe and assign 1\n",
        "df4[\"Action\"] = 1\n",
        "df4.head()"
      ],
      "execution_count": 45,
      "outputs": [
        {
          "output_type": "execute_result",
          "data": {
            "text/html": [
              "<div>\n",
              "<style scoped>\n",
              "    .dataframe tbody tr th:only-of-type {\n",
              "        vertical-align: middle;\n",
              "    }\n",
              "\n",
              "    .dataframe tbody tr th {\n",
              "        vertical-align: top;\n",
              "    }\n",
              "\n",
              "    .dataframe thead th {\n",
              "        text-align: right;\n",
              "    }\n",
              "</style>\n",
              "<table border=\"1\" class=\"dataframe\">\n",
              "  <thead>\n",
              "    <tr style=\"text-align: right;\">\n",
              "      <th></th>\n",
              "      <th>riid</th>\n",
              "      <th>opened</th>\n",
              "      <th>unsub</th>\n",
              "      <th>rev_3dv2</th>\n",
              "      <th>retention_score</th>\n",
              "      <th>recency_score</th>\n",
              "      <th>frequency_score</th>\n",
              "      <th>Email_Brand</th>\n",
              "      <th>Email_Collection</th>\n",
              "      <th>Email_Core</th>\n",
              "      <th>Email_Dedicated</th>\n",
              "      <th>Email_Innovation Spotlight</th>\n",
              "      <th>Email_New Arrivals</th>\n",
              "      <th>Email_Other</th>\n",
              "      <th>Email_Product Spotlight</th>\n",
              "      <th>Email_Replen</th>\n",
              "      <th>Email_Tops</th>\n",
              "      <th>Email_Trend</th>\n",
              "      <th>Action</th>\n",
              "    </tr>\n",
              "  </thead>\n",
              "  <tbody>\n",
              "    <tr>\n",
              "      <th>0</th>\n",
              "      <td>242697842</td>\n",
              "      <td>1</td>\n",
              "      <td>0</td>\n",
              "      <td>0.03974</td>\n",
              "      <td>0.49682</td>\n",
              "      <td>0.13567</td>\n",
              "      <td>0.20261</td>\n",
              "      <td>0</td>\n",
              "      <td>0</td>\n",
              "      <td>0</td>\n",
              "      <td>1</td>\n",
              "      <td>0</td>\n",
              "      <td>0</td>\n",
              "      <td>0</td>\n",
              "      <td>0</td>\n",
              "      <td>0</td>\n",
              "      <td>0</td>\n",
              "      <td>0</td>\n",
              "      <td>1</td>\n",
              "    </tr>\n",
              "    <tr>\n",
              "      <th>1</th>\n",
              "      <td>275469002</td>\n",
              "      <td>1</td>\n",
              "      <td>0</td>\n",
              "      <td>0.03974</td>\n",
              "      <td>0.09427</td>\n",
              "      <td>0.00000</td>\n",
              "      <td>0.00000</td>\n",
              "      <td>0</td>\n",
              "      <td>0</td>\n",
              "      <td>0</td>\n",
              "      <td>1</td>\n",
              "      <td>0</td>\n",
              "      <td>0</td>\n",
              "      <td>0</td>\n",
              "      <td>0</td>\n",
              "      <td>0</td>\n",
              "      <td>0</td>\n",
              "      <td>0</td>\n",
              "      <td>1</td>\n",
              "    </tr>\n",
              "    <tr>\n",
              "      <th>2</th>\n",
              "      <td>4319542</td>\n",
              "      <td>1</td>\n",
              "      <td>0</td>\n",
              "      <td>0.01059</td>\n",
              "      <td>0.02957</td>\n",
              "      <td>0.00698</td>\n",
              "      <td>0.02614</td>\n",
              "      <td>0</td>\n",
              "      <td>0</td>\n",
              "      <td>0</td>\n",
              "      <td>1</td>\n",
              "      <td>0</td>\n",
              "      <td>0</td>\n",
              "      <td>0</td>\n",
              "      <td>0</td>\n",
              "      <td>0</td>\n",
              "      <td>0</td>\n",
              "      <td>0</td>\n",
              "      <td>1</td>\n",
              "    </tr>\n",
              "    <tr>\n",
              "      <th>3</th>\n",
              "      <td>166170102</td>\n",
              "      <td>1</td>\n",
              "      <td>0</td>\n",
              "      <td>0.01059</td>\n",
              "      <td>0.02083</td>\n",
              "      <td>0.00090</td>\n",
              "      <td>0.00654</td>\n",
              "      <td>0</td>\n",
              "      <td>0</td>\n",
              "      <td>0</td>\n",
              "      <td>1</td>\n",
              "      <td>0</td>\n",
              "      <td>0</td>\n",
              "      <td>0</td>\n",
              "      <td>0</td>\n",
              "      <td>0</td>\n",
              "      <td>0</td>\n",
              "      <td>0</td>\n",
              "      <td>1</td>\n",
              "    </tr>\n",
              "    <tr>\n",
              "      <th>4</th>\n",
              "      <td>6998482</td>\n",
              "      <td>1</td>\n",
              "      <td>0</td>\n",
              "      <td>0.07948</td>\n",
              "      <td>1.00000</td>\n",
              "      <td>0.15295</td>\n",
              "      <td>0.11765</td>\n",
              "      <td>0</td>\n",
              "      <td>0</td>\n",
              "      <td>0</td>\n",
              "      <td>1</td>\n",
              "      <td>0</td>\n",
              "      <td>0</td>\n",
              "      <td>0</td>\n",
              "      <td>0</td>\n",
              "      <td>0</td>\n",
              "      <td>0</td>\n",
              "      <td>0</td>\n",
              "      <td>1</td>\n",
              "    </tr>\n",
              "  </tbody>\n",
              "</table>\n",
              "</div>"
            ],
            "text/plain": [
              "        riid  opened  unsub  ...  Email_Tops  Email_Trend  Action\n",
              "0  242697842       1      0  ...           0            0       1\n",
              "1  275469002       1      0  ...           0            0       1\n",
              "2    4319542       1      0  ...           0            0       1\n",
              "3  166170102       1      0  ...           0            0       1\n",
              "4    6998482       1      0  ...           0            0       1\n",
              "\n",
              "[5 rows x 19 columns]"
            ]
          },
          "metadata": {
            "tags": []
          },
          "execution_count": 45
        }
      ]
    },
    {
      "cell_type": "markdown",
      "metadata": {
        "id": "vKykqcbsFlW6"
      },
      "source": [
        "## Implementing a Reward Function"
      ]
    },
    {
      "cell_type": "markdown",
      "metadata": {
        "id": "9tgihpJoNMV3"
      },
      "source": [
        "There are 3 features in the normalized dataset that can be leveraged to implement the reward function:\n",
        "\n",
        "1.   Opened (or not)\n",
        "2.   Unsubscribed (or not)\n",
        "3.   (Normalized) Value of Purchase\n",
        "\n",
        "With a [similar interpretation to Alexis](https://github.com/fellowship/deep-and-wide-bandit/blob/dev/DataExploration/RewardFunction.pdf), the reward value for each row is injected by a linear combination of the outcome features — $open$, $unsub$ and $buy$: $$r_{out features} = w_oopen + w_uunsub + w_bbuy + k$$\n",
        "\n",
        "where $w_i$ are weights corresponding to the variables. For simplicity, we set:\n",
        "\n",
        "1. $w_o$ to 1\n",
        "2. $w_b$ to 1\n",
        "3. $w_u$ to -1\n",
        "4. $k$ to -1 to penalise unengaged emails. "
      ]
    },
    {
      "cell_type": "code",
      "metadata": {
        "colab": {
          "base_uri": "https://localhost:8080/",
          "height": 241
        },
        "id": "GjNLycd9e1jg",
        "outputId": "5670a21e-73ae-42e3-f6f7-86999d9c27eb"
      },
      "source": [
        "df4[\"reward\"] = df4[\"opened\"] - df4[\"unsub\"] + df4[\"rev_3dv2\"] - 0.5\n",
        "\n",
        "#Eliminate all the outcome columns\n",
        "#processed_df_normed_with_ar = processed_df_normed.drop(columns=[\"opened\", \"unsub\", \"rev_3dv2\"])\n",
        "processed_df_normed_with_ar = df4.copy()\n",
        "processed_df_normed_with_ar.head(5)"
      ],
      "execution_count": 46,
      "outputs": [
        {
          "output_type": "execute_result",
          "data": {
            "text/html": [
              "<div>\n",
              "<style scoped>\n",
              "    .dataframe tbody tr th:only-of-type {\n",
              "        vertical-align: middle;\n",
              "    }\n",
              "\n",
              "    .dataframe tbody tr th {\n",
              "        vertical-align: top;\n",
              "    }\n",
              "\n",
              "    .dataframe thead th {\n",
              "        text-align: right;\n",
              "    }\n",
              "</style>\n",
              "<table border=\"1\" class=\"dataframe\">\n",
              "  <thead>\n",
              "    <tr style=\"text-align: right;\">\n",
              "      <th></th>\n",
              "      <th>riid</th>\n",
              "      <th>opened</th>\n",
              "      <th>unsub</th>\n",
              "      <th>rev_3dv2</th>\n",
              "      <th>retention_score</th>\n",
              "      <th>recency_score</th>\n",
              "      <th>frequency_score</th>\n",
              "      <th>Email_Brand</th>\n",
              "      <th>Email_Collection</th>\n",
              "      <th>Email_Core</th>\n",
              "      <th>Email_Dedicated</th>\n",
              "      <th>Email_Innovation Spotlight</th>\n",
              "      <th>Email_New Arrivals</th>\n",
              "      <th>Email_Other</th>\n",
              "      <th>Email_Product Spotlight</th>\n",
              "      <th>Email_Replen</th>\n",
              "      <th>Email_Tops</th>\n",
              "      <th>Email_Trend</th>\n",
              "      <th>Action</th>\n",
              "      <th>reward</th>\n",
              "    </tr>\n",
              "  </thead>\n",
              "  <tbody>\n",
              "    <tr>\n",
              "      <th>0</th>\n",
              "      <td>242697842</td>\n",
              "      <td>1</td>\n",
              "      <td>0</td>\n",
              "      <td>0.03974</td>\n",
              "      <td>0.49682</td>\n",
              "      <td>0.13567</td>\n",
              "      <td>0.20261</td>\n",
              "      <td>0</td>\n",
              "      <td>0</td>\n",
              "      <td>0</td>\n",
              "      <td>1</td>\n",
              "      <td>0</td>\n",
              "      <td>0</td>\n",
              "      <td>0</td>\n",
              "      <td>0</td>\n",
              "      <td>0</td>\n",
              "      <td>0</td>\n",
              "      <td>0</td>\n",
              "      <td>1</td>\n",
              "      <td>0.53974</td>\n",
              "    </tr>\n",
              "    <tr>\n",
              "      <th>1</th>\n",
              "      <td>275469002</td>\n",
              "      <td>1</td>\n",
              "      <td>0</td>\n",
              "      <td>0.03974</td>\n",
              "      <td>0.09427</td>\n",
              "      <td>0.00000</td>\n",
              "      <td>0.00000</td>\n",
              "      <td>0</td>\n",
              "      <td>0</td>\n",
              "      <td>0</td>\n",
              "      <td>1</td>\n",
              "      <td>0</td>\n",
              "      <td>0</td>\n",
              "      <td>0</td>\n",
              "      <td>0</td>\n",
              "      <td>0</td>\n",
              "      <td>0</td>\n",
              "      <td>0</td>\n",
              "      <td>1</td>\n",
              "      <td>0.53974</td>\n",
              "    </tr>\n",
              "    <tr>\n",
              "      <th>2</th>\n",
              "      <td>4319542</td>\n",
              "      <td>1</td>\n",
              "      <td>0</td>\n",
              "      <td>0.01059</td>\n",
              "      <td>0.02957</td>\n",
              "      <td>0.00698</td>\n",
              "      <td>0.02614</td>\n",
              "      <td>0</td>\n",
              "      <td>0</td>\n",
              "      <td>0</td>\n",
              "      <td>1</td>\n",
              "      <td>0</td>\n",
              "      <td>0</td>\n",
              "      <td>0</td>\n",
              "      <td>0</td>\n",
              "      <td>0</td>\n",
              "      <td>0</td>\n",
              "      <td>0</td>\n",
              "      <td>1</td>\n",
              "      <td>0.51059</td>\n",
              "    </tr>\n",
              "    <tr>\n",
              "      <th>3</th>\n",
              "      <td>166170102</td>\n",
              "      <td>1</td>\n",
              "      <td>0</td>\n",
              "      <td>0.01059</td>\n",
              "      <td>0.02083</td>\n",
              "      <td>0.00090</td>\n",
              "      <td>0.00654</td>\n",
              "      <td>0</td>\n",
              "      <td>0</td>\n",
              "      <td>0</td>\n",
              "      <td>1</td>\n",
              "      <td>0</td>\n",
              "      <td>0</td>\n",
              "      <td>0</td>\n",
              "      <td>0</td>\n",
              "      <td>0</td>\n",
              "      <td>0</td>\n",
              "      <td>0</td>\n",
              "      <td>1</td>\n",
              "      <td>0.51059</td>\n",
              "    </tr>\n",
              "    <tr>\n",
              "      <th>4</th>\n",
              "      <td>6998482</td>\n",
              "      <td>1</td>\n",
              "      <td>0</td>\n",
              "      <td>0.07948</td>\n",
              "      <td>1.00000</td>\n",
              "      <td>0.15295</td>\n",
              "      <td>0.11765</td>\n",
              "      <td>0</td>\n",
              "      <td>0</td>\n",
              "      <td>0</td>\n",
              "      <td>1</td>\n",
              "      <td>0</td>\n",
              "      <td>0</td>\n",
              "      <td>0</td>\n",
              "      <td>0</td>\n",
              "      <td>0</td>\n",
              "      <td>0</td>\n",
              "      <td>0</td>\n",
              "      <td>1</td>\n",
              "      <td>0.57948</td>\n",
              "    </tr>\n",
              "  </tbody>\n",
              "</table>\n",
              "</div>"
            ],
            "text/plain": [
              "        riid  opened  unsub  rev_3dv2  ...  Email_Tops  Email_Trend  Action  reward\n",
              "0  242697842       1      0   0.03974  ...           0            0       1 0.53974\n",
              "1  275469002       1      0   0.03974  ...           0            0       1 0.53974\n",
              "2    4319542       1      0   0.01059  ...           0            0       1 0.51059\n",
              "3  166170102       1      0   0.01059  ...           0            0       1 0.51059\n",
              "4    6998482       1      0   0.07948  ...           0            0       1 0.57948\n",
              "\n",
              "[5 rows x 20 columns]"
            ]
          },
          "metadata": {
            "tags": []
          },
          "execution_count": 46
        }
      ]
    },
    {
      "cell_type": "code",
      "metadata": {
        "colab": {
          "base_uri": "https://localhost:8080/",
          "height": 333
        },
        "id": "HybKqMQAKEql",
        "outputId": "35c10fc8-0ae0-4a39-f6a7-1cea935f5d2b"
      },
      "source": [
        "#What is the distribution of the rewards, as per the function?\n",
        "sns.distplot(processed_df_normed_with_ar[\"reward\"])\n",
        "plt.show()"
      ],
      "execution_count": 47,
      "outputs": [
        {
          "output_type": "stream",
          "text": [
            "/usr/local/lib/python3.6/dist-packages/seaborn/distributions.py:2557: FutureWarning: `distplot` is a deprecated function and will be removed in a future version. Please adapt your code to use either `displot` (a figure-level function with similar flexibility) or `histplot` (an axes-level function for histograms).\n",
            "  warnings.warn(msg, FutureWarning)\n"
          ],
          "name": "stderr"
        },
        {
          "output_type": "display_data",
          "data": {
            "image/png": "[encoded data removed]",
            "text/plain": [
              "<Figure size 432x288 with 1 Axes>"
            ]
          },
          "metadata": {
            "tags": [],
            "needs_background": "light"
          }
        }
      ]
    },
    {
      "cell_type": "markdown",
      "metadata": {
        "id": "k2upXLRAKxXm"
      },
      "source": [
        "\n",
        "1.  Most $buy$ entries are 0 (99.9% of *rev_3dv2* entries are 0) —> they do not contribute to 99.9% of reward values. That makes the reward function $r_{out features} = w_oopen + w_uunsub + k$ for 99.9% of cases.\n",
        "2.  Most (99.9%) $unsub$ entries are also 0 —> they, too, do not contribute to 99.9% of reward values. It is the equation $r_{out features} = w_oopen + k$ that holds for the vaaaast majority of the cases.\n",
        "3.  There are ~60% $open=1$ and ~40% $open=0$ entries, which explains the 2 sharp peaks at $r=+1-1=0$ and $r=0-1=-1$\n",
        "\n",
        "Sadly, for all practical purposes, our reward function effectively reduces to 0 if user opens the email and -1 otherwise.\n"
      ]
    },
    {
      "cell_type": "markdown",
      "metadata": {
        "id": "YNHibRvTG0yN"
      },
      "source": [
        "### Marko's Reward Function"
      ]
    },
    {
      "cell_type": "code",
      "metadata": {
        "colab": {
          "base_uri": "https://localhost:8080/",
          "height": 86
        },
        "id": "jAwqrdppG3_k",
        "outputId": "3437d2d5-ac08-47f6-cc49-0a2d7800a913"
      },
      "source": [
        "\"\"\"\n",
        "def rew(row):\n",
        "    sl = -1 * (1+max(row['sends_since_last_open'], 0))\n",
        "    #op = 5  * max(row['opened'], 0)\n",
        "    if row['rev_3dv2'] > 0:\n",
        "        cl = 10\n",
        "    else:\n",
        "        cl = 0\n",
        "    un = -50 * max(row['unsub'], 0)\n",
        "    fu = -50 * row['frequency_score'] * max(row['unsub'],0)\n",
        "    return sl+cl+un+fu\n",
        "\n",
        "df['reward'] = df.apply(lambda row: rew(row), axis=1)\n",
        "\"\"\""
      ],
      "execution_count": 48,
      "outputs": [
        {
          "output_type": "execute_result",
          "data": {
            "application/vnd.google.colaboratory.intrinsic+json": {
              "type": "string"
            },
            "text/plain": [
              "\"\\ndef rew(row):\\n    sl = -1 * (1+max(row['sends_since_last_open'], 0))\\n    #op = 5  * max(row['opened'], 0)\\n    if row['rev_3dv2'] > 0:\\n        cl = 10\\n    else:\\n        cl = 0\\n    un = -50 * max(row['unsub'], 0)\\n    fu = -50 * row['frequency_score'] * max(row['unsub'],0)\\n    return sl+cl+un+fu\\n\\ndf['reward'] = df.apply(lambda row: rew(row), axis=1)\\n\""
            ]
          },
          "metadata": {
            "tags": []
          },
          "execution_count": 48
        }
      ]
    },
    {
      "cell_type": "markdown",
      "metadata": {
        "id": "CXa2lmXA3-SS"
      },
      "source": [
        "## Generating riid embeddings"
      ]
    },
    {
      "cell_type": "markdown",
      "metadata": {
        "id": "S8GMhN4E4yoN"
      },
      "source": [
        "1. How do you generate sensible riid embeddings? Neither do we have a large sparse user ID vs email ID matrices, nor do we have some sequence of email ID matrices per user ID.\n",
        "\n",
        "2. How do you generate riid embeddings for a new user? What side information do we use to map that user to the embedding space? Whatever we choose to map, should that not be the same side information that we use to map the current users as well? But, for current users, even the 3 scores are dependent on user-email_campaign (not even email ID!) cross-feature combination, right?\n",
        "\n",
        "3. How about we average all the recency, retention & frequency scores?"
      ]
    },
    {
      "cell_type": "markdown",
      "metadata": {
        "id": "fat6iWaM3qCj"
      },
      "source": [
        "## Generating Counterfactuals"
      ]
    },
    {
      "cell_type": "markdown",
      "metadata": {
        "id": "GVDdcIgU-jVa"
      },
      "source": [
        "The quickest way is to generate (x, ~a, -r) triplets."
      ]
    },
    {
      "cell_type": "code",
      "metadata": {
        "colab": {
          "base_uri": "https://localhost:8080/",
          "height": 241
        },
        "id": "ClQXk5vV-x0q",
        "outputId": "512f29ae-937d-4e1e-c6a7-55ee529ea988"
      },
      "source": [
        "#Get a copy\n",
        "processed_df_normed_with_ar_neg = processed_df_normed_with_ar.copy()\n",
        "\n",
        "#Convert actions from 1s to 0s\n",
        "processed_df_normed_with_ar_neg[\"Action\"] = 0\n",
        "\n",
        "#Flip sign of reward\n",
        "processed_df_normed_with_ar_neg[\"reward\"] *= -1\n",
        "\n",
        "#We are making some assumption here: Set all numeric columns to 0\n",
        "processed_df_normed_with_ar_neg.head()"
      ],
      "execution_count": 50,
      "outputs": [
        {
          "output_type": "execute_result",
          "data": {
            "text/html": [
              "<div>\n",
              "<style scoped>\n",
              "    .dataframe tbody tr th:only-of-type {\n",
              "        vertical-align: middle;\n",
              "    }\n",
              "\n",
              "    .dataframe tbody tr th {\n",
              "        vertical-align: top;\n",
              "    }\n",
              "\n",
              "    .dataframe thead th {\n",
              "        text-align: right;\n",
              "    }\n",
              "</style>\n",
              "<table border=\"1\" class=\"dataframe\">\n",
              "  <thead>\n",
              "    <tr style=\"text-align: right;\">\n",
              "      <th></th>\n",
              "      <th>riid</th>\n",
              "      <th>opened</th>\n",
              "      <th>unsub</th>\n",
              "      <th>rev_3dv2</th>\n",
              "      <th>retention_score</th>\n",
              "      <th>recency_score</th>\n",
              "      <th>frequency_score</th>\n",
              "      <th>Email_Brand</th>\n",
              "      <th>Email_Collection</th>\n",
              "      <th>Email_Core</th>\n",
              "      <th>Email_Dedicated</th>\n",
              "      <th>Email_Innovation Spotlight</th>\n",
              "      <th>Email_New Arrivals</th>\n",
              "      <th>Email_Other</th>\n",
              "      <th>Email_Product Spotlight</th>\n",
              "      <th>Email_Replen</th>\n",
              "      <th>Email_Tops</th>\n",
              "      <th>Email_Trend</th>\n",
              "      <th>Action</th>\n",
              "      <th>reward</th>\n",
              "    </tr>\n",
              "  </thead>\n",
              "  <tbody>\n",
              "    <tr>\n",
              "      <th>0</th>\n",
              "      <td>242697842</td>\n",
              "      <td>1</td>\n",
              "      <td>0</td>\n",
              "      <td>0.03974</td>\n",
              "      <td>0.49682</td>\n",
              "      <td>0.13567</td>\n",
              "      <td>0.20261</td>\n",
              "      <td>0</td>\n",
              "      <td>0</td>\n",
              "      <td>0</td>\n",
              "      <td>1</td>\n",
              "      <td>0</td>\n",
              "      <td>0</td>\n",
              "      <td>0</td>\n",
              "      <td>0</td>\n",
              "      <td>0</td>\n",
              "      <td>0</td>\n",
              "      <td>0</td>\n",
              "      <td>0</td>\n",
              "      <td>-0.53974</td>\n",
              "    </tr>\n",
              "    <tr>\n",
              "      <th>1</th>\n",
              "      <td>275469002</td>\n",
              "      <td>1</td>\n",
              "      <td>0</td>\n",
              "      <td>0.03974</td>\n",
              "      <td>0.09427</td>\n",
              "      <td>0.00000</td>\n",
              "      <td>0.00000</td>\n",
              "      <td>0</td>\n",
              "      <td>0</td>\n",
              "      <td>0</td>\n",
              "      <td>1</td>\n",
              "      <td>0</td>\n",
              "      <td>0</td>\n",
              "      <td>0</td>\n",
              "      <td>0</td>\n",
              "      <td>0</td>\n",
              "      <td>0</td>\n",
              "      <td>0</td>\n",
              "      <td>0</td>\n",
              "      <td>-0.53974</td>\n",
              "    </tr>\n",
              "    <tr>\n",
              "      <th>2</th>\n",
              "      <td>4319542</td>\n",
              "      <td>1</td>\n",
              "      <td>0</td>\n",
              "      <td>0.01059</td>\n",
              "      <td>0.02957</td>\n",
              "      <td>0.00698</td>\n",
              "      <td>0.02614</td>\n",
              "      <td>0</td>\n",
              "      <td>0</td>\n",
              "      <td>0</td>\n",
              "      <td>1</td>\n",
              "      <td>0</td>\n",
              "      <td>0</td>\n",
              "      <td>0</td>\n",
              "      <td>0</td>\n",
              "      <td>0</td>\n",
              "      <td>0</td>\n",
              "      <td>0</td>\n",
              "      <td>0</td>\n",
              "      <td>-0.51059</td>\n",
              "    </tr>\n",
              "    <tr>\n",
              "      <th>3</th>\n",
              "      <td>166170102</td>\n",
              "      <td>1</td>\n",
              "      <td>0</td>\n",
              "      <td>0.01059</td>\n",
              "      <td>0.02083</td>\n",
              "      <td>0.00090</td>\n",
              "      <td>0.00654</td>\n",
              "      <td>0</td>\n",
              "      <td>0</td>\n",
              "      <td>0</td>\n",
              "      <td>1</td>\n",
              "      <td>0</td>\n",
              "      <td>0</td>\n",
              "      <td>0</td>\n",
              "      <td>0</td>\n",
              "      <td>0</td>\n",
              "      <td>0</td>\n",
              "      <td>0</td>\n",
              "      <td>0</td>\n",
              "      <td>-0.51059</td>\n",
              "    </tr>\n",
              "    <tr>\n",
              "      <th>4</th>\n",
              "      <td>6998482</td>\n",
              "      <td>1</td>\n",
              "      <td>0</td>\n",
              "      <td>0.07948</td>\n",
              "      <td>1.00000</td>\n",
              "      <td>0.15295</td>\n",
              "      <td>0.11765</td>\n",
              "      <td>0</td>\n",
              "      <td>0</td>\n",
              "      <td>0</td>\n",
              "      <td>1</td>\n",
              "      <td>0</td>\n",
              "      <td>0</td>\n",
              "      <td>0</td>\n",
              "      <td>0</td>\n",
              "      <td>0</td>\n",
              "      <td>0</td>\n",
              "      <td>0</td>\n",
              "      <td>0</td>\n",
              "      <td>-0.57948</td>\n",
              "    </tr>\n",
              "  </tbody>\n",
              "</table>\n",
              "</div>"
            ],
            "text/plain": [
              "        riid  opened  unsub  rev_3dv2  ...  Email_Tops  Email_Trend  Action   reward\n",
              "0  242697842       1      0   0.03974  ...           0            0       0 -0.53974\n",
              "1  275469002       1      0   0.03974  ...           0            0       0 -0.53974\n",
              "2    4319542       1      0   0.01059  ...           0            0       0 -0.51059\n",
              "3  166170102       1      0   0.01059  ...           0            0       0 -0.51059\n",
              "4    6998482       1      0   0.07948  ...           0            0       0 -0.57948\n",
              "\n",
              "[5 rows x 20 columns]"
            ]
          },
          "metadata": {
            "tags": []
          },
          "execution_count": 50
        }
      ]
    },
    {
      "cell_type": "markdown",
      "metadata": {
        "id": "n7NJDpPRNXHD"
      },
      "source": [
        "After everything, order DataFrame columns for [legibility using this](https://stackoverflow.com/questions/13148429/how-to-change-the-order-of-dataframe-columns)."
      ]
    },
    {
      "cell_type": "markdown",
      "metadata": {
        "id": "wKhNlIbcLpal"
      },
      "source": [
        "# Space Bandits"
      ]
    },
    {
      "cell_type": "markdown",
      "metadata": {
        "id": "0o6i7XCJsn9M"
      },
      "source": [
        "Since user embeddings have not been generated, we ignore the riid column for now.\n",
        "\n",
        "> *Context*: 11 OHE columns for category_type & the 3 Scores\n",
        "\n",
        "> *Action*: \"action\" column with 0/1 values\n",
        "\n",
        "> Reward: Real-valued \"reward\" column\n",
        "\n",
        "## Training \n",
        "\n",
        "We perform a 80-20 split of the positive sample and negative sample datasets into a training set and a validation set. \n",
        "\n",
        "The same random seed is used to shuffle the training sets of both datasets."
      ]
    },
    {
      "cell_type": "code",
      "metadata": {
        "id": "xYIgBgWuM4IF"
      },
      "source": [
        "#Define a function that generates training & validation indices\n",
        "def get_train_val_indices(num_data, train_size, shuffle=True, seed=42):\n",
        "  \n",
        "  dataset_size = len(processed_df_normed_with_ar)\n",
        "  val_size = num_data - train_size\n",
        "  \n",
        "  if shuffle:            \n",
        "    full_ind_l = list(range(dataset_size))\n",
        "    train_split_ind_l = random.Random(seed).sample(full_ind_l, train_size)\n",
        "    val_split_ind_l = random.Random(seed).sample(list(set(full_ind_l) - set(train_split_ind_l)), val_size)\n",
        "  else:    \n",
        "    train_split_ind_l = list(range(train_size))\n",
        "    train_split_ind_l = random.Random(seed).shuffle(train_split_ind_l)\n",
        "    val_split_ind_l = list(range(train_size, num_data)) \n",
        "  \n",
        "  return train_split_ind_l, val_split_ind_l"
      ],
      "execution_count": 69,
      "outputs": []
    },
    {
      "cell_type": "code",
      "metadata": {
        "colab": {
          "base_uri": "https://localhost:8080/"
        },
        "id": "e6q9HRDyNk7U",
        "outputId": "b8575ddc-2286-46f0-e36b-1e33bd43eb00"
      },
      "source": [
        "#Generate training and validation indices\n",
        "num_data = 50000 #Not the full because was getting kicked out\n",
        "train_split = 0.7\n",
        "train_size = int(train_split * num_data)\n",
        "\n",
        "#Shuffle control variables that influence train-valid set creation\n",
        "shuffle = True\n",
        "seed = 42\n",
        "train_split_ind_l, val_split_ind_l = get_train_val_indices(num_data, train_size, shuffle, seed)\n",
        "\n",
        "#Generate the pos-neg train & val dataframes\n",
        "pos_train = processed_df_normed_with_ar.iloc[train_split_ind_l, :]\n",
        "pos_val = processed_df_normed_with_ar.iloc[val_split_ind_l, :]\n",
        "neg_train = processed_df_normed_with_ar_neg.iloc[train_split_ind_l, :]\n",
        "neg_val = processed_df_normed_with_ar_neg.iloc[val_split_ind_l, :]\n",
        "\n",
        "#Check whether the riids for the first 10 entries in both shuffled datasets are the same\n",
        "pos_head_riids = pos_train[\"riid\"]\n",
        "neg_head_riids = neg_train[\"riid\"]\n",
        "riid_check = pos_head_riids.equals(neg_head_riids)\n",
        "print(f\"Same riids for the entries for both datasets? {riid_check}\")"
      ],
      "execution_count": 70,
      "outputs": [
        {
          "output_type": "stream",
          "text": [
            "Same riids for the entries for both datasets? True\n"
          ],
          "name": "stdout"
        }
      ]
    },
    {
      "cell_type": "code",
      "metadata": {
        "id": "cCPvowvxXsSq"
      },
      "source": [
        "#Import the models from space_bandits\n",
        "from space_bandits import LinearBandits\n",
        "from space_bandits import NeuralBandits\n",
        "\n",
        "#How many explicit rounds for pure exploration?\n",
        "explore_rounds = train_size//1e3"
      ],
      "execution_count": 68,
      "outputs": []
    },
    {
      "cell_type": "markdown",
      "metadata": {
        "id": "Pyib8xMMkrmL"
      },
      "source": [
        "### Purely Linear Model"
      ]
    },
    {
      "cell_type": "code",
      "metadata": {
        "id": "gYmYfXxDk_RN"
      },
      "source": [
        "num_actions = 2\n",
        "num_features = 14\n",
        "linear_model = LinearBandits(num_actions, num_features, initial_pulls=explore_rounds)"
      ],
      "execution_count": 71,
      "outputs": []
    },
    {
      "cell_type": "code",
      "metadata": {
        "id": "vNhS-_7Dx7Wk"
      },
      "source": [
        "#Context: 11 OHE campaign_types, 3 scores\n",
        "#2 Actions: 1 for Send, 0 for Dont Send\n",
        "#Rewards: Real-valued, \"rewards\" column\n",
        "\n",
        "def get_optimal_choice(index, pos_d, neg_d):\n",
        "  \n",
        "  #Get the reward for send & dont send \n",
        "  send = pos_d.iloc[index, -1]\n",
        "  dont_send = neg_d.iloc[index, -1]\n",
        "  \n",
        "  if send > dont_send:\n",
        "    return (1, send) #If reward for sending > not sending\n",
        "  elif send < dont_send:\n",
        "    return (0, dont_send) #If reward for not sending > sending\n",
        "  else:\n",
        "    l = [send, dont_send]\n",
        "    i = np.random.randint(0, 2)\n",
        "    return (i, l[i]) #Send either send or dont send at random\n",
        "\n",
        "def iterate_model(model, steps, records=None, plot_frequency=250, avg_length=150):\n",
        "    \"\"\"Goes through online learning simulation with model.\"\"\"\n",
        "    #these will track values for plotting\n",
        "    if records is None:\n",
        "        records = dict()\n",
        "        records['best_choices'] = []\n",
        "        records['choices'] = []\n",
        "        records['timesteps'] = []\n",
        "        records['c_reward'] = []\n",
        "        records['cumulative_reward'] = 0.0\n",
        "        records['m_reward'] = []\n",
        "        records['maximum_reward'] = 0.0\n",
        "        records['regret_record'] = []\n",
        "        records['avg_regret'] = []\n",
        "        start = 0\n",
        "    else:\n",
        "        start = records['timesteps'][-1]\n",
        "\n",
        "    for i in range(start, start+steps):\n",
        "        records['timesteps'].append(i)\n",
        "        \n",
        "        #prepare features for model\n",
        "        context = (pos_train.iloc[i, 4:18]).values\n",
        "        \n",
        "        #Get the best choice and reward as per the dataset\n",
        "        best_choice, best_reward = get_optimal_choice(i, pos_train, neg_train)\n",
        "        records['best_choices'].append(best_choice)\n",
        "\n",
        "        #get reward for 'best' choice\n",
        "        records['maximum_reward'] += best_reward\n",
        "        records['m_reward'].append(records['maximum_reward'])\n",
        "        action = model.action(context)\n",
        "        records['choices'].append(action)\n",
        "\n",
        "        #get reward for the action chosen by model\n",
        "        if action == 1:\n",
        "          reward = pos_train.iloc[i, -1]\n",
        "        else:\n",
        "          reward = neg_train.iloc[i, -1]\n",
        "\n",
        "        #regret is the opportunity cost of not choosing the optimal promotion\n",
        "        regret = best_reward - reward\n",
        "        records['regret_record'].append(regret)\n",
        "        records['cumulative_reward'] += reward\n",
        "        records['c_reward'].append(records['cumulative_reward'])\n",
        "        model.update(context, action, reward)\n",
        "\n",
        "        #plot occasionally\n",
        "        if i <= avg_length:\n",
        "            if i < avg_length:\n",
        "                moving_avg=0\n",
        "            else:\n",
        "                moving_avg = np.array(records['regret_record']).mean()\n",
        "                records['avg_regret'] = [moving_avg] * avg_length\n",
        "        else:\n",
        "            moving_avg = sum(records['regret_record'][-avg_length:])/avg_length\n",
        "        \n",
        "        records['avg_regret'].append(moving_avg)\n",
        "        \n",
        "        if (i+1) % plot_frequency == 0 and i > 0:\n",
        "            \n",
        "            c_rewardplt = np.array(records['c_reward'])/max(records['m_reward'])\n",
        "            m_rewardplt = np.array(records['m_reward'])/max(records['m_reward'])\n",
        "            #regretplt = np.array(records['avg_regret'])/max(records['avg_regret'])\n",
        "            \n",
        "            #c_rewardplt is cumulative reward @ each time step, divided by max cumulative reward\n",
        "            plt.plot(records['timesteps'], c_rewardplt, label='cumulative reward')\n",
        "            \n",
        "            #m_rewardplt is cumulative max reward @ each time step, divided by max cumulative reward\n",
        "            plt.plot(records['timesteps'], m_rewardplt, label='maximum reward')\n",
        "\n",
        "            #regretplt is avg_regret @ each time step, divided by max avg regret\n",
        "            #plt.plot(records['timesteps'], regretplt, color='red', label='mean regret')\n",
        "            plt.title('Normalized Reward & Regret')\n",
        "            plt.legend()\n",
        "            plt.show()\n",
        "\n",
        "    return records"
      ],
      "execution_count": 72,
      "outputs": []
    },
    {
      "cell_type": "code",
      "metadata": {
        "colab": {
          "base_uri": "https://localhost:8080/",
          "height": 1000
        },
        "id": "qWSzJClolHqB",
        "outputId": "452e483e-d02b-4f18-f08b-c942e5d8f413"
      },
      "source": [
        "#Train the model - plotting happens as usual\n",
        "records_linear = iterate_model(model=linear_model, steps=len(pos_train), plot_frequency=len(pos_train)//10)"
      ],
      "execution_count": 73,
      "outputs": [
        {
          "output_type": "display_data",
          "data": {
            "image/png": "[encoded data removed]",
            "text/plain": [
              "<Figure size 432x288 with 1 Axes>"
            ]
          },
          "metadata": {
            "tags": [],
            "needs_background": "light"
          }
        },
        {
          "output_type": "display_data",
          "data": {
            "image/png": "[encoded data removed]",
            "text/plain": [
              "<Figure size 432x288 with 1 Axes>"
            ]
          },
          "metadata": {
            "tags": [],
            "needs_background": "light"
          }
        },
        {
          "output_type": "display_data",
          "data": {
            "image/png": "[encoded data removed]",
            "text/plain": [
              "<Figure size 432x288 with 1 Axes>"
            ]
          },
          "metadata": {
            "tags": [],
            "needs_background": "light"
          }
        },
        {
          "output_type": "display_data",
          "data": {
            "image/png": "[encoded data removed]",
            "text/plain": [
              "<Figure size 432x288 with 1 Axes>"
            ]
          },
          "metadata": {
            "tags": [],
            "needs_background": "light"
          }
        },
        {
          "output_type": "display_data",
          "data": {
            "image/png": "[encoded data removed]",
            "text/plain": [
              "<Figure size 432x288 with 1 Axes>"
            ]
          },
          "metadata": {
            "tags": [],
            "needs_background": "light"
          }
        },
        {
          "output_type": "display_data",
          "data": {
            "image/png": "[encoded data removed]",
            "text/plain": [
              "<Figure size 432x288 with 1 Axes>"
            ]
          },
          "metadata": {
            "tags": [],
            "needs_background": "light"
          }
        },
        {
          "output_type": "display_data",
          "data": {
            "image/png": "[encoded data removed]",
            "text/plain": [
              "<Figure size 432x288 with 1 Axes>"
            ]
          },
          "metadata": {
            "tags": [],
            "needs_background": "light"
          }
        },
        {
          "output_type": "display_data",
          "data": {
            "image/png": "[encoded data removed]",
            "text/plain": [
              "<Figure size 432x288 with 1 Axes>"
            ]
          },
          "metadata": {
            "tags": [],
            "needs_background": "light"
          }
        },
        {
          "output_type": "display_data",
          "data": {
            "image/png": "[encoded data removed]",
            "text/plain": [
              "<Figure size 432x288 with 1 Axes>"
            ]
          },
          "metadata": {
            "tags": [],
            "needs_background": "light"
          }
        },
        {
          "output_type": "display_data",
          "data": {
            "image/png": "[encoded data removed]",
            "text/plain": [
              "<Figure size 432x288 with 1 Axes>"
            ]
          },
          "metadata": {
            "tags": [],
            "needs_background": "light"
          }
        }
      ]
    },
    {
      "cell_type": "markdown",
      "metadata": {
        "id": "wNig7burkt5M"
      },
      "source": [
        "### Non-Linear Model"
      ]
    },
    {
      "cell_type": "code",
      "metadata": {
        "id": "laJYYqEfk3Xs"
      },
      "source": [
        "#Context: 11 OHE campaign_types, 3 scores\n",
        "#2 Actions: 0/1\n",
        "#Rewards: Real-valued, \"rewards\" column           \n",
        "num_actions = 2\n",
        "num_features = 14\n",
        "memory_size = 10000\n",
        "\n",
        "#Creating a simple 2-layer FF network initially\n",
        "layer_sizes = [32, 14]\n",
        "\n",
        "neural_model = NeuralBandits(num_actions, num_features, initial_pulls=explore_rounds, memory_size=memory_size, layer_sizes=layer_sizes)\n",
        "assert neural_model.data_h.memory_size == memory_size"
      ],
      "execution_count": 80,
      "outputs": []
    },
    {
      "cell_type": "code",
      "metadata": {
        "colab": {
          "base_uri": "https://localhost:8080/",
          "height": 1000
        },
        "id": "BhsW3q6qM7j0",
        "outputId": "2b0709cf-de01-4581-b031-0d15176d4035"
      },
      "source": [
        "#Train the model - plotting happens as usual\n",
        "records_neural = iterate_model(model=neural_model, steps=len(pos_train), plot_frequency=len(pos_train)//10)"
      ],
      "execution_count": 81,
      "outputs": [
        {
          "output_type": "stream",
          "text": [
            "Training neural_model-bnn for 100 steps...\n",
            "Training neural_model-bnn for 100 steps...\n",
            "Training neural_model-bnn for 100 steps...\n",
            "Training neural_model-bnn for 100 steps...\n",
            "Training neural_model-bnn for 100 steps...\n",
            "Training neural_model-bnn for 100 steps...\n",
            "Training neural_model-bnn for 100 steps...\n",
            "Training neural_model-bnn for 100 steps...\n",
            "Training neural_model-bnn for 100 steps...\n",
            "Training neural_model-bnn for 100 steps...\n",
            "Training neural_model-bnn for 100 steps...\n",
            "Training neural_model-bnn for 100 steps...\n",
            "Training neural_model-bnn for 100 steps...\n",
            "Training neural_model-bnn for 100 steps...\n",
            "Training neural_model-bnn for 100 steps...\n",
            "Training neural_model-bnn for 100 steps...\n",
            "Training neural_model-bnn for 100 steps...\n",
            "Training neural_model-bnn for 100 steps...\n",
            "Training neural_model-bnn for 100 steps...\n",
            "Training neural_model-bnn for 100 steps...\n",
            "Training neural_model-bnn for 100 steps...\n",
            "Training neural_model-bnn for 100 steps...\n",
            "Training neural_model-bnn for 100 steps...\n",
            "Training neural_model-bnn for 100 steps...\n",
            "Training neural_model-bnn for 100 steps...\n",
            "Training neural_model-bnn for 100 steps...\n",
            "Training neural_model-bnn for 100 steps...\n",
            "Training neural_model-bnn for 100 steps...\n",
            "Training neural_model-bnn for 100 steps...\n",
            "Training neural_model-bnn for 100 steps...\n",
            "Training neural_model-bnn for 100 steps...\n",
            "Training neural_model-bnn for 100 steps...\n",
            "Training neural_model-bnn for 100 steps...\n",
            "Training neural_model-bnn for 100 steps...\n",
            "Training neural_model-bnn for 100 steps...\n",
            "Training neural_model-bnn for 100 steps...\n",
            "Training neural_model-bnn for 100 steps...\n",
            "Training neural_model-bnn for 100 steps...\n",
            "Training neural_model-bnn for 100 steps...\n",
            "Training neural_model-bnn for 100 steps...\n",
            "Training neural_model-bnn for 100 steps...\n",
            "Training neural_model-bnn for 100 steps...\n",
            "Training neural_model-bnn for 100 steps...\n",
            "Training neural_model-bnn for 100 steps...\n",
            "Training neural_model-bnn for 100 steps...\n",
            "Training neural_model-bnn for 100 steps...\n",
            "Training neural_model-bnn for 100 steps...\n",
            "Training neural_model-bnn for 100 steps...\n",
            "Training neural_model-bnn for 100 steps...\n",
            "Training neural_model-bnn for 100 steps...\n",
            "Training neural_model-bnn for 100 steps...\n",
            "Training neural_model-bnn for 100 steps...\n",
            "Training neural_model-bnn for 100 steps...\n",
            "Training neural_model-bnn for 100 steps...\n",
            "Training neural_model-bnn for 100 steps...\n",
            "Training neural_model-bnn for 100 steps...\n",
            "Training neural_model-bnn for 100 steps...\n",
            "Training neural_model-bnn for 100 steps...\n",
            "Training neural_model-bnn for 100 steps...\n",
            "Training neural_model-bnn for 100 steps...\n",
            "Training neural_model-bnn for 100 steps...\n",
            "Training neural_model-bnn for 100 steps...\n",
            "Training neural_model-bnn for 100 steps...\n",
            "Training neural_model-bnn for 100 steps...\n",
            "Training neural_model-bnn for 100 steps...\n",
            "Training neural_model-bnn for 100 steps...\n",
            "Training neural_model-bnn for 100 steps...\n",
            "Training neural_model-bnn for 100 steps...\n",
            "Training neural_model-bnn for 100 steps...\n",
            "Training neural_model-bnn for 100 steps...\n"
          ],
          "name": "stdout"
        },
        {
          "output_type": "display_data",
          "data": {
            "image/png": "[encoded data removed]",
            "text/plain": [
              "<Figure size 432x288 with 1 Axes>"
            ]
          },
          "metadata": {
            "tags": [],
            "needs_background": "light"
          }
        },
        {
          "output_type": "stream",
          "text": [
            "Training neural_model-bnn for 100 steps...\n",
            "Training neural_model-bnn for 100 steps...\n",
            "Training neural_model-bnn for 100 steps...\n",
            "Training neural_model-bnn for 100 steps...\n",
            "Training neural_model-bnn for 100 steps...\n",
            "Training neural_model-bnn for 100 steps...\n",
            "Training neural_model-bnn for 100 steps...\n",
            "Training neural_model-bnn for 100 steps...\n",
            "Training neural_model-bnn for 100 steps...\n",
            "Training neural_model-bnn for 100 steps...\n",
            "Training neural_model-bnn for 100 steps...\n",
            "Training neural_model-bnn for 100 steps...\n",
            "Training neural_model-bnn for 100 steps...\n",
            "Training neural_model-bnn for 100 steps...\n",
            "Training neural_model-bnn for 100 steps...\n",
            "Training neural_model-bnn for 100 steps...\n",
            "Training neural_model-bnn for 100 steps...\n",
            "Training neural_model-bnn for 100 steps...\n",
            "Training neural_model-bnn for 100 steps...\n",
            "Training neural_model-bnn for 100 steps...\n",
            "Training neural_model-bnn for 100 steps...\n",
            "Training neural_model-bnn for 100 steps...\n",
            "Training neural_model-bnn for 100 steps...\n",
            "Training neural_model-bnn for 100 steps...\n",
            "Training neural_model-bnn for 100 steps...\n",
            "Training neural_model-bnn for 100 steps...\n",
            "Training neural_model-bnn for 100 steps...\n",
            "Training neural_model-bnn for 100 steps...\n",
            "Training neural_model-bnn for 100 steps...\n",
            "Training neural_model-bnn for 100 steps...\n",
            "Training neural_model-bnn for 100 steps...\n",
            "Training neural_model-bnn for 100 steps...\n",
            "Training neural_model-bnn for 100 steps...\n",
            "Training neural_model-bnn for 100 steps...\n",
            "Training neural_model-bnn for 100 steps...\n",
            "Training neural_model-bnn for 100 steps...\n",
            "Training neural_model-bnn for 100 steps...\n",
            "Training neural_model-bnn for 100 steps...\n",
            "Training neural_model-bnn for 100 steps...\n",
            "Training neural_model-bnn for 100 steps...\n",
            "Training neural_model-bnn for 100 steps...\n",
            "Training neural_model-bnn for 100 steps...\n",
            "Training neural_model-bnn for 100 steps...\n",
            "Training neural_model-bnn for 100 steps...\n",
            "Training neural_model-bnn for 100 steps...\n",
            "Training neural_model-bnn for 100 steps...\n",
            "Training neural_model-bnn for 100 steps...\n",
            "Training neural_model-bnn for 100 steps...\n",
            "Training neural_model-bnn for 100 steps...\n",
            "Training neural_model-bnn for 100 steps...\n",
            "Training neural_model-bnn for 100 steps...\n",
            "Training neural_model-bnn for 100 steps...\n",
            "Training neural_model-bnn for 100 steps...\n",
            "Training neural_model-bnn for 100 steps...\n",
            "Training neural_model-bnn for 100 steps...\n",
            "Training neural_model-bnn for 100 steps...\n",
            "Training neural_model-bnn for 100 steps...\n",
            "Training neural_model-bnn for 100 steps...\n",
            "Training neural_model-bnn for 100 steps...\n",
            "Training neural_model-bnn for 100 steps...\n",
            "Training neural_model-bnn for 100 steps...\n",
            "Training neural_model-bnn for 100 steps...\n",
            "Training neural_model-bnn for 100 steps...\n",
            "Training neural_model-bnn for 100 steps...\n",
            "Training neural_model-bnn for 100 steps...\n",
            "Training neural_model-bnn for 100 steps...\n",
            "Training neural_model-bnn for 100 steps...\n",
            "Training neural_model-bnn for 100 steps...\n",
            "Training neural_model-bnn for 100 steps...\n",
            "Training neural_model-bnn for 100 steps...\n"
          ],
          "name": "stdout"
        },
        {
          "output_type": "display_data",
          "data": {
            "image/png": "[encoded data removed]",
            "text/plain": [
              "<Figure size 432x288 with 1 Axes>"
            ]
          },
          "metadata": {
            "tags": [],
            "needs_background": "light"
          }
        },
        {
          "output_type": "stream",
          "text": [
            "Training neural_model-bnn for 100 steps...\n",
            "Training neural_model-bnn for 100 steps...\n",
            "Training neural_model-bnn for 100 steps...\n",
            "Training neural_model-bnn for 100 steps...\n",
            "Training neural_model-bnn for 100 steps...\n",
            "Training neural_model-bnn for 100 steps...\n",
            "Training neural_model-bnn for 100 steps...\n",
            "Training neural_model-bnn for 100 steps...\n",
            "Training neural_model-bnn for 100 steps...\n",
            "Training neural_model-bnn for 100 steps...\n",
            "Training neural_model-bnn for 100 steps...\n",
            "Training neural_model-bnn for 100 steps...\n",
            "Training neural_model-bnn for 100 steps...\n",
            "Training neural_model-bnn for 100 steps...\n",
            "Training neural_model-bnn for 100 steps...\n",
            "Training neural_model-bnn for 100 steps...\n",
            "Training neural_model-bnn for 100 steps...\n",
            "Training neural_model-bnn for 100 steps...\n",
            "Training neural_model-bnn for 100 steps...\n",
            "Training neural_model-bnn for 100 steps...\n",
            "Training neural_model-bnn for 100 steps...\n",
            "Training neural_model-bnn for 100 steps...\n",
            "Training neural_model-bnn for 100 steps...\n",
            "Training neural_model-bnn for 100 steps...\n",
            "Training neural_model-bnn for 100 steps...\n",
            "Training neural_model-bnn for 100 steps...\n",
            "Training neural_model-bnn for 100 steps...\n",
            "Training neural_model-bnn for 100 steps...\n",
            "Training neural_model-bnn for 100 steps...\n",
            "Training neural_model-bnn for 100 steps...\n",
            "Training neural_model-bnn for 100 steps...\n",
            "Training neural_model-bnn for 100 steps...\n",
            "Training neural_model-bnn for 100 steps...\n",
            "Training neural_model-bnn for 100 steps...\n",
            "Training neural_model-bnn for 100 steps...\n",
            "Training neural_model-bnn for 100 steps...\n",
            "Training neural_model-bnn for 100 steps...\n",
            "Training neural_model-bnn for 100 steps...\n",
            "Training neural_model-bnn for 100 steps...\n",
            "Training neural_model-bnn for 100 steps...\n",
            "Training neural_model-bnn for 100 steps...\n",
            "Training neural_model-bnn for 100 steps...\n",
            "Training neural_model-bnn for 100 steps...\n",
            "Training neural_model-bnn for 100 steps...\n",
            "Training neural_model-bnn for 100 steps...\n",
            "Training neural_model-bnn for 100 steps...\n",
            "Training neural_model-bnn for 100 steps...\n",
            "Training neural_model-bnn for 100 steps...\n",
            "Training neural_model-bnn for 100 steps...\n",
            "Training neural_model-bnn for 100 steps...\n",
            "Training neural_model-bnn for 100 steps...\n",
            "Training neural_model-bnn for 100 steps...\n",
            "Training neural_model-bnn for 100 steps...\n",
            "Training neural_model-bnn for 100 steps...\n",
            "Training neural_model-bnn for 100 steps...\n",
            "Training neural_model-bnn for 100 steps...\n",
            "Training neural_model-bnn for 100 steps...\n",
            "Training neural_model-bnn for 100 steps...\n",
            "Training neural_model-bnn for 100 steps...\n",
            "Training neural_model-bnn for 100 steps...\n",
            "Training neural_model-bnn for 100 steps...\n",
            "Training neural_model-bnn for 100 steps...\n",
            "Training neural_model-bnn for 100 steps...\n",
            "Training neural_model-bnn for 100 steps...\n",
            "Training neural_model-bnn for 100 steps...\n",
            "Training neural_model-bnn for 100 steps...\n",
            "Training neural_model-bnn for 100 steps...\n",
            "Training neural_model-bnn for 100 steps...\n",
            "Training neural_model-bnn for 100 steps...\n",
            "Training neural_model-bnn for 100 steps...\n"
          ],
          "name": "stdout"
        },
        {
          "output_type": "display_data",
          "data": {
            "image/png": "[encoded data removed]",
            "text/plain": [
              "<Figure size 432x288 with 1 Axes>"
            ]
          },
          "metadata": {
            "tags": [],
            "needs_background": "light"
          }
        },
        {
          "output_type": "stream",
          "text": [
            "Training neural_model-bnn for 100 steps...\n",
            "Training neural_model-bnn for 100 steps...\n",
            "Training neural_model-bnn for 100 steps...\n",
            "Training neural_model-bnn for 100 steps...\n",
            "Training neural_model-bnn for 100 steps...\n",
            "Training neural_model-bnn for 100 steps...\n",
            "Training neural_model-bnn for 100 steps...\n",
            "Training neural_model-bnn for 100 steps...\n",
            "Training neural_model-bnn for 100 steps...\n",
            "Training neural_model-bnn for 100 steps...\n",
            "Training neural_model-bnn for 100 steps...\n",
            "Training neural_model-bnn for 100 steps...\n",
            "Training neural_model-bnn for 100 steps...\n",
            "Training neural_model-bnn for 100 steps...\n",
            "Training neural_model-bnn for 100 steps...\n",
            "Training neural_model-bnn for 100 steps...\n",
            "Training neural_model-bnn for 100 steps...\n",
            "Training neural_model-bnn for 100 steps...\n",
            "Training neural_model-bnn for 100 steps...\n",
            "Training neural_model-bnn for 100 steps...\n",
            "Training neural_model-bnn for 100 steps...\n",
            "Training neural_model-bnn for 100 steps...\n",
            "Training neural_model-bnn for 100 steps...\n",
            "Training neural_model-bnn for 100 steps...\n",
            "Training neural_model-bnn for 100 steps...\n",
            "Training neural_model-bnn for 100 steps...\n",
            "Training neural_model-bnn for 100 steps...\n",
            "Training neural_model-bnn for 100 steps...\n",
            "Training neural_model-bnn for 100 steps...\n",
            "Training neural_model-bnn for 100 steps...\n",
            "Training neural_model-bnn for 100 steps...\n",
            "Training neural_model-bnn for 100 steps...\n",
            "Training neural_model-bnn for 100 steps...\n",
            "Training neural_model-bnn for 100 steps...\n",
            "Training neural_model-bnn for 100 steps...\n",
            "Training neural_model-bnn for 100 steps...\n",
            "Training neural_model-bnn for 100 steps...\n",
            "Training neural_model-bnn for 100 steps...\n",
            "Training neural_model-bnn for 100 steps...\n",
            "Training neural_model-bnn for 100 steps...\n",
            "Training neural_model-bnn for 100 steps...\n",
            "Training neural_model-bnn for 100 steps...\n",
            "Training neural_model-bnn for 100 steps...\n",
            "Training neural_model-bnn for 100 steps...\n",
            "Training neural_model-bnn for 100 steps...\n",
            "Training neural_model-bnn for 100 steps...\n",
            "Training neural_model-bnn for 100 steps...\n",
            "Training neural_model-bnn for 100 steps...\n",
            "Training neural_model-bnn for 100 steps...\n",
            "Training neural_model-bnn for 100 steps...\n",
            "Training neural_model-bnn for 100 steps...\n",
            "Training neural_model-bnn for 100 steps...\n",
            "Training neural_model-bnn for 100 steps...\n",
            "Training neural_model-bnn for 100 steps...\n",
            "Training neural_model-bnn for 100 steps...\n",
            "Training neural_model-bnn for 100 steps...\n",
            "Training neural_model-bnn for 100 steps...\n",
            "Training neural_model-bnn for 100 steps...\n",
            "Training neural_model-bnn for 100 steps...\n",
            "Training neural_model-bnn for 100 steps...\n",
            "Training neural_model-bnn for 100 steps...\n",
            "Training neural_model-bnn for 100 steps...\n",
            "Training neural_model-bnn for 100 steps...\n",
            "Training neural_model-bnn for 100 steps...\n",
            "Training neural_model-bnn for 100 steps...\n",
            "Training neural_model-bnn for 100 steps...\n",
            "Training neural_model-bnn for 100 steps...\n",
            "Training neural_model-bnn for 100 steps...\n",
            "Training neural_model-bnn for 100 steps...\n",
            "Training neural_model-bnn for 100 steps...\n"
          ],
          "name": "stdout"
        },
        {
          "output_type": "display_data",
          "data": {
            "image/png": "[encoded data removed]",
            "text/plain": [
              "<Figure size 432x288 with 1 Axes>"
            ]
          },
          "metadata": {
            "tags": [],
            "needs_background": "light"
          }
        },
        {
          "output_type": "stream",
          "text": [
            "Training neural_model-bnn for 100 steps...\n",
            "Training neural_model-bnn for 100 steps...\n",
            "Training neural_model-bnn for 100 steps...\n",
            "Training neural_model-bnn for 100 steps...\n",
            "Training neural_model-bnn for 100 steps...\n",
            "Training neural_model-bnn for 100 steps...\n",
            "Training neural_model-bnn for 100 steps...\n",
            "Training neural_model-bnn for 100 steps...\n",
            "Training neural_model-bnn for 100 steps...\n",
            "Training neural_model-bnn for 100 steps...\n",
            "Training neural_model-bnn for 100 steps...\n",
            "Training neural_model-bnn for 100 steps...\n",
            "Training neural_model-bnn for 100 steps...\n",
            "Training neural_model-bnn for 100 steps...\n",
            "Training neural_model-bnn for 100 steps...\n",
            "Training neural_model-bnn for 100 steps...\n",
            "Training neural_model-bnn for 100 steps...\n",
            "Training neural_model-bnn for 100 steps...\n",
            "Training neural_model-bnn for 100 steps...\n",
            "Training neural_model-bnn for 100 steps...\n",
            "Training neural_model-bnn for 100 steps...\n",
            "Training neural_model-bnn for 100 steps...\n",
            "Training neural_model-bnn for 100 steps...\n",
            "Training neural_model-bnn for 100 steps...\n",
            "Training neural_model-bnn for 100 steps...\n",
            "Training neural_model-bnn for 100 steps...\n",
            "Training neural_model-bnn for 100 steps...\n",
            "Training neural_model-bnn for 100 steps...\n",
            "Training neural_model-bnn for 100 steps...\n",
            "Training neural_model-bnn for 100 steps...\n",
            "Training neural_model-bnn for 100 steps...\n",
            "Training neural_model-bnn for 100 steps...\n",
            "Training neural_model-bnn for 100 steps...\n",
            "Training neural_model-bnn for 100 steps...\n",
            "Training neural_model-bnn for 100 steps...\n",
            "Training neural_model-bnn for 100 steps...\n",
            "Training neural_model-bnn for 100 steps...\n",
            "Training neural_model-bnn for 100 steps...\n",
            "Training neural_model-bnn for 100 steps...\n",
            "Training neural_model-bnn for 100 steps...\n",
            "Training neural_model-bnn for 100 steps...\n",
            "Training neural_model-bnn for 100 steps...\n",
            "Training neural_model-bnn for 100 steps...\n",
            "Training neural_model-bnn for 100 steps...\n",
            "Training neural_model-bnn for 100 steps...\n",
            "Training neural_model-bnn for 100 steps...\n",
            "Training neural_model-bnn for 100 steps...\n",
            "Training neural_model-bnn for 100 steps...\n",
            "Training neural_model-bnn for 100 steps...\n",
            "Training neural_model-bnn for 100 steps...\n",
            "Training neural_model-bnn for 100 steps...\n",
            "Training neural_model-bnn for 100 steps...\n",
            "Training neural_model-bnn for 100 steps...\n",
            "Training neural_model-bnn for 100 steps...\n",
            "Training neural_model-bnn for 100 steps...\n",
            "Training neural_model-bnn for 100 steps...\n",
            "Training neural_model-bnn for 100 steps...\n",
            "Training neural_model-bnn for 100 steps...\n",
            "Training neural_model-bnn for 100 steps...\n",
            "Training neural_model-bnn for 100 steps...\n",
            "Training neural_model-bnn for 100 steps...\n",
            "Training neural_model-bnn for 100 steps...\n",
            "Training neural_model-bnn for 100 steps...\n",
            "Training neural_model-bnn for 100 steps...\n",
            "Training neural_model-bnn for 100 steps...\n",
            "Training neural_model-bnn for 100 steps...\n",
            "Training neural_model-bnn for 100 steps...\n",
            "Training neural_model-bnn for 100 steps...\n",
            "Training neural_model-bnn for 100 steps...\n",
            "Training neural_model-bnn for 100 steps...\n"
          ],
          "name": "stdout"
        },
        {
          "output_type": "display_data",
          "data": {
            "image/png": "[encoded data removed]",
            "text/plain": [
              "<Figure size 432x288 with 1 Axes>"
            ]
          },
          "metadata": {
            "tags": [],
            "needs_background": "light"
          }
        },
        {
          "output_type": "stream",
          "text": [
            "Training neural_model-bnn for 100 steps...\n",
            "Training neural_model-bnn for 100 steps...\n",
            "Training neural_model-bnn for 100 steps...\n",
            "Training neural_model-bnn for 100 steps...\n",
            "Training neural_model-bnn for 100 steps...\n",
            "Training neural_model-bnn for 100 steps...\n",
            "Training neural_model-bnn for 100 steps...\n",
            "Training neural_model-bnn for 100 steps...\n",
            "Training neural_model-bnn for 100 steps...\n",
            "Training neural_model-bnn for 100 steps...\n",
            "Training neural_model-bnn for 100 steps...\n",
            "Training neural_model-bnn for 100 steps...\n",
            "Training neural_model-bnn for 100 steps...\n",
            "Training neural_model-bnn for 100 steps...\n",
            "Training neural_model-bnn for 100 steps...\n",
            "Training neural_model-bnn for 100 steps...\n",
            "Training neural_model-bnn for 100 steps...\n",
            "Training neural_model-bnn for 100 steps...\n",
            "Training neural_model-bnn for 100 steps...\n",
            "Training neural_model-bnn for 100 steps...\n",
            "Training neural_model-bnn for 100 steps...\n",
            "Training neural_model-bnn for 100 steps...\n",
            "Training neural_model-bnn for 100 steps...\n",
            "Training neural_model-bnn for 100 steps...\n",
            "Training neural_model-bnn for 100 steps...\n",
            "Training neural_model-bnn for 100 steps...\n",
            "Training neural_model-bnn for 100 steps...\n",
            "Training neural_model-bnn for 100 steps...\n",
            "Training neural_model-bnn for 100 steps...\n",
            "Training neural_model-bnn for 100 steps...\n",
            "Training neural_model-bnn for 100 steps...\n",
            "Training neural_model-bnn for 100 steps...\n",
            "Training neural_model-bnn for 100 steps...\n",
            "Training neural_model-bnn for 100 steps...\n",
            "Training neural_model-bnn for 100 steps...\n",
            "Training neural_model-bnn for 100 steps...\n",
            "Training neural_model-bnn for 100 steps...\n",
            "Training neural_model-bnn for 100 steps...\n",
            "Training neural_model-bnn for 100 steps...\n",
            "Training neural_model-bnn for 100 steps...\n",
            "Training neural_model-bnn for 100 steps...\n",
            "Training neural_model-bnn for 100 steps...\n",
            "Training neural_model-bnn for 100 steps...\n",
            "Training neural_model-bnn for 100 steps...\n",
            "Training neural_model-bnn for 100 steps...\n",
            "Training neural_model-bnn for 100 steps...\n",
            "Training neural_model-bnn for 100 steps...\n",
            "Training neural_model-bnn for 100 steps...\n",
            "Training neural_model-bnn for 100 steps...\n",
            "Training neural_model-bnn for 100 steps...\n",
            "Training neural_model-bnn for 100 steps...\n",
            "Training neural_model-bnn for 100 steps...\n",
            "Training neural_model-bnn for 100 steps...\n",
            "Training neural_model-bnn for 100 steps...\n",
            "Training neural_model-bnn for 100 steps...\n",
            "Training neural_model-bnn for 100 steps...\n",
            "Training neural_model-bnn for 100 steps...\n",
            "Training neural_model-bnn for 100 steps...\n",
            "Training neural_model-bnn for 100 steps...\n",
            "Training neural_model-bnn for 100 steps...\n",
            "Training neural_model-bnn for 100 steps...\n",
            "Training neural_model-bnn for 100 steps...\n",
            "Training neural_model-bnn for 100 steps...\n",
            "Training neural_model-bnn for 100 steps...\n",
            "Training neural_model-bnn for 100 steps...\n",
            "Training neural_model-bnn for 100 steps...\n",
            "Training neural_model-bnn for 100 steps...\n",
            "Training neural_model-bnn for 100 steps...\n",
            "Training neural_model-bnn for 100 steps...\n",
            "Training neural_model-bnn for 100 steps...\n"
          ],
          "name": "stdout"
        },
        {
          "output_type": "display_data",
          "data": {
            "image/png": "[encoded data removed]",
            "text/plain": [
              "<Figure size 432x288 with 1 Axes>"
            ]
          },
          "metadata": {
            "tags": [],
            "needs_background": "light"
          }
        },
        {
          "output_type": "stream",
          "text": [
            "Training neural_model-bnn for 100 steps...\n",
            "Training neural_model-bnn for 100 steps...\n",
            "Training neural_model-bnn for 100 steps...\n",
            "Training neural_model-bnn for 100 steps...\n",
            "Training neural_model-bnn for 100 steps...\n",
            "Training neural_model-bnn for 100 steps...\n",
            "Training neural_model-bnn for 100 steps...\n",
            "Training neural_model-bnn for 100 steps...\n",
            "Training neural_model-bnn for 100 steps...\n",
            "Training neural_model-bnn for 100 steps...\n",
            "Training neural_model-bnn for 100 steps...\n",
            "Training neural_model-bnn for 100 steps...\n",
            "Training neural_model-bnn for 100 steps...\n",
            "Training neural_model-bnn for 100 steps...\n",
            "Training neural_model-bnn for 100 steps...\n",
            "Training neural_model-bnn for 100 steps...\n",
            "Training neural_model-bnn for 100 steps...\n",
            "Training neural_model-bnn for 100 steps...\n",
            "Training neural_model-bnn for 100 steps...\n",
            "Training neural_model-bnn for 100 steps...\n",
            "Training neural_model-bnn for 100 steps...\n",
            "Training neural_model-bnn for 100 steps...\n",
            "Training neural_model-bnn for 100 steps...\n",
            "Training neural_model-bnn for 100 steps...\n",
            "Training neural_model-bnn for 100 steps...\n",
            "Training neural_model-bnn for 100 steps...\n",
            "Training neural_model-bnn for 100 steps...\n",
            "Training neural_model-bnn for 100 steps...\n",
            "Training neural_model-bnn for 100 steps...\n",
            "Training neural_model-bnn for 100 steps...\n",
            "Training neural_model-bnn for 100 steps...\n",
            "Training neural_model-bnn for 100 steps...\n",
            "Training neural_model-bnn for 100 steps...\n",
            "Training neural_model-bnn for 100 steps...\n",
            "Training neural_model-bnn for 100 steps...\n",
            "Training neural_model-bnn for 100 steps...\n",
            "Training neural_model-bnn for 100 steps...\n",
            "Training neural_model-bnn for 100 steps...\n",
            "Training neural_model-bnn for 100 steps...\n",
            "Training neural_model-bnn for 100 steps...\n",
            "Training neural_model-bnn for 100 steps...\n",
            "Training neural_model-bnn for 100 steps...\n",
            "Training neural_model-bnn for 100 steps...\n",
            "Training neural_model-bnn for 100 steps...\n",
            "Training neural_model-bnn for 100 steps...\n",
            "Training neural_model-bnn for 100 steps...\n",
            "Training neural_model-bnn for 100 steps...\n",
            "Training neural_model-bnn for 100 steps...\n",
            "Training neural_model-bnn for 100 steps...\n",
            "Training neural_model-bnn for 100 steps...\n",
            "Training neural_model-bnn for 100 steps...\n",
            "Training neural_model-bnn for 100 steps...\n",
            "Training neural_model-bnn for 100 steps...\n",
            "Training neural_model-bnn for 100 steps...\n",
            "Training neural_model-bnn for 100 steps...\n",
            "Training neural_model-bnn for 100 steps...\n",
            "Training neural_model-bnn for 100 steps...\n",
            "Training neural_model-bnn for 100 steps...\n",
            "Training neural_model-bnn for 100 steps...\n",
            "Training neural_model-bnn for 100 steps...\n",
            "Training neural_model-bnn for 100 steps...\n",
            "Training neural_model-bnn for 100 steps...\n",
            "Training neural_model-bnn for 100 steps...\n",
            "Training neural_model-bnn for 100 steps...\n",
            "Training neural_model-bnn for 100 steps...\n",
            "Training neural_model-bnn for 100 steps...\n",
            "Training neural_model-bnn for 100 steps...\n",
            "Training neural_model-bnn for 100 steps...\n",
            "Training neural_model-bnn for 100 steps...\n",
            "Training neural_model-bnn for 100 steps...\n"
          ],
          "name": "stdout"
        },
        {
          "output_type": "display_data",
          "data": {
            "image/png": "[encoded data removed]",
            "text/plain": [
              "<Figure size 432x288 with 1 Axes>"
            ]
          },
          "metadata": {
            "tags": [],
            "needs_background": "light"
          }
        },
        {
          "output_type": "stream",
          "text": [
            "Training neural_model-bnn for 100 steps...\n",
            "Training neural_model-bnn for 100 steps...\n",
            "Training neural_model-bnn for 100 steps...\n",
            "Training neural_model-bnn for 100 steps...\n",
            "Training neural_model-bnn for 100 steps...\n",
            "Training neural_model-bnn for 100 steps...\n",
            "Training neural_model-bnn for 100 steps...\n",
            "Training neural_model-bnn for 100 steps...\n",
            "Training neural_model-bnn for 100 steps...\n",
            "Training neural_model-bnn for 100 steps...\n",
            "Training neural_model-bnn for 100 steps...\n",
            "Training neural_model-bnn for 100 steps...\n",
            "Training neural_model-bnn for 100 steps...\n",
            "Training neural_model-bnn for 100 steps...\n",
            "Training neural_model-bnn for 100 steps...\n",
            "Training neural_model-bnn for 100 steps...\n",
            "Training neural_model-bnn for 100 steps...\n",
            "Training neural_model-bnn for 100 steps...\n",
            "Training neural_model-bnn for 100 steps...\n",
            "Training neural_model-bnn for 100 steps...\n",
            "Training neural_model-bnn for 100 steps...\n",
            "Training neural_model-bnn for 100 steps...\n",
            "Training neural_model-bnn for 100 steps...\n",
            "Training neural_model-bnn for 100 steps...\n",
            "Training neural_model-bnn for 100 steps...\n",
            "Training neural_model-bnn for 100 steps...\n",
            "Training neural_model-bnn for 100 steps...\n",
            "Training neural_model-bnn for 100 steps...\n",
            "Training neural_model-bnn for 100 steps...\n",
            "Training neural_model-bnn for 100 steps...\n",
            "Training neural_model-bnn for 100 steps...\n",
            "Training neural_model-bnn for 100 steps...\n",
            "Training neural_model-bnn for 100 steps...\n",
            "Training neural_model-bnn for 100 steps...\n",
            "Training neural_model-bnn for 100 steps...\n",
            "Training neural_model-bnn for 100 steps...\n",
            "Training neural_model-bnn for 100 steps...\n",
            "Training neural_model-bnn for 100 steps...\n",
            "Training neural_model-bnn for 100 steps...\n",
            "Training neural_model-bnn for 100 steps...\n",
            "Training neural_model-bnn for 100 steps...\n",
            "Training neural_model-bnn for 100 steps...\n",
            "Training neural_model-bnn for 100 steps...\n",
            "Training neural_model-bnn for 100 steps...\n",
            "Training neural_model-bnn for 100 steps...\n",
            "Training neural_model-bnn for 100 steps...\n",
            "Training neural_model-bnn for 100 steps...\n",
            "Training neural_model-bnn for 100 steps...\n",
            "Training neural_model-bnn for 100 steps...\n",
            "Training neural_model-bnn for 100 steps...\n",
            "Training neural_model-bnn for 100 steps...\n",
            "Training neural_model-bnn for 100 steps...\n",
            "Training neural_model-bnn for 100 steps...\n",
            "Training neural_model-bnn for 100 steps...\n",
            "Training neural_model-bnn for 100 steps...\n",
            "Training neural_model-bnn for 100 steps...\n",
            "Training neural_model-bnn for 100 steps...\n",
            "Training neural_model-bnn for 100 steps...\n",
            "Training neural_model-bnn for 100 steps...\n",
            "Training neural_model-bnn for 100 steps...\n",
            "Training neural_model-bnn for 100 steps...\n",
            "Training neural_model-bnn for 100 steps...\n",
            "Training neural_model-bnn for 100 steps...\n",
            "Training neural_model-bnn for 100 steps...\n",
            "Training neural_model-bnn for 100 steps...\n",
            "Training neural_model-bnn for 100 steps...\n",
            "Training neural_model-bnn for 100 steps...\n",
            "Training neural_model-bnn for 100 steps...\n",
            "Training neural_model-bnn for 100 steps...\n",
            "Training neural_model-bnn for 100 steps...\n"
          ],
          "name": "stdout"
        },
        {
          "output_type": "display_data",
          "data": {
            "image/png": "[encoded data removed]",
            "text/plain": [
              "<Figure size 432x288 with 1 Axes>"
            ]
          },
          "metadata": {
            "tags": [],
            "needs_background": "light"
          }
        },
        {
          "output_type": "stream",
          "text": [
            "Training neural_model-bnn for 100 steps...\n",
            "Training neural_model-bnn for 100 steps...\n",
            "Training neural_model-bnn for 100 steps...\n",
            "Training neural_model-bnn for 100 steps...\n",
            "Training neural_model-bnn for 100 steps...\n",
            "Training neural_model-bnn for 100 steps...\n",
            "Training neural_model-bnn for 100 steps...\n",
            "Training neural_model-bnn for 100 steps...\n",
            "Training neural_model-bnn for 100 steps...\n",
            "Training neural_model-bnn for 100 steps...\n",
            "Training neural_model-bnn for 100 steps...\n",
            "Training neural_model-bnn for 100 steps...\n",
            "Training neural_model-bnn for 100 steps...\n",
            "Training neural_model-bnn for 100 steps...\n",
            "Training neural_model-bnn for 100 steps...\n",
            "Training neural_model-bnn for 100 steps...\n",
            "Training neural_model-bnn for 100 steps...\n",
            "Training neural_model-bnn for 100 steps...\n",
            "Training neural_model-bnn for 100 steps...\n",
            "Training neural_model-bnn for 100 steps...\n",
            "Training neural_model-bnn for 100 steps...\n",
            "Training neural_model-bnn for 100 steps...\n",
            "Training neural_model-bnn for 100 steps...\n",
            "Training neural_model-bnn for 100 steps...\n",
            "Training neural_model-bnn for 100 steps...\n",
            "Training neural_model-bnn for 100 steps...\n",
            "Training neural_model-bnn for 100 steps...\n",
            "Training neural_model-bnn for 100 steps...\n",
            "Training neural_model-bnn for 100 steps...\n",
            "Training neural_model-bnn for 100 steps...\n",
            "Training neural_model-bnn for 100 steps...\n",
            "Training neural_model-bnn for 100 steps...\n",
            "Training neural_model-bnn for 100 steps...\n",
            "Training neural_model-bnn for 100 steps...\n",
            "Training neural_model-bnn for 100 steps...\n",
            "Training neural_model-bnn for 100 steps...\n",
            "Training neural_model-bnn for 100 steps...\n",
            "Training neural_model-bnn for 100 steps...\n",
            "Training neural_model-bnn for 100 steps...\n",
            "Training neural_model-bnn for 100 steps...\n",
            "Training neural_model-bnn for 100 steps...\n",
            "Training neural_model-bnn for 100 steps...\n",
            "Training neural_model-bnn for 100 steps...\n",
            "Training neural_model-bnn for 100 steps...\n",
            "Training neural_model-bnn for 100 steps...\n",
            "Training neural_model-bnn for 100 steps...\n",
            "Training neural_model-bnn for 100 steps...\n",
            "Training neural_model-bnn for 100 steps...\n",
            "Training neural_model-bnn for 100 steps...\n",
            "Training neural_model-bnn for 100 steps...\n",
            "Training neural_model-bnn for 100 steps...\n",
            "Training neural_model-bnn for 100 steps...\n",
            "Training neural_model-bnn for 100 steps...\n",
            "Training neural_model-bnn for 100 steps...\n",
            "Training neural_model-bnn for 100 steps...\n",
            "Training neural_model-bnn for 100 steps...\n",
            "Training neural_model-bnn for 100 steps...\n",
            "Training neural_model-bnn for 100 steps...\n",
            "Training neural_model-bnn for 100 steps...\n",
            "Training neural_model-bnn for 100 steps...\n",
            "Training neural_model-bnn for 100 steps...\n",
            "Training neural_model-bnn for 100 steps...\n",
            "Training neural_model-bnn for 100 steps...\n",
            "Training neural_model-bnn for 100 steps...\n",
            "Training neural_model-bnn for 100 steps...\n",
            "Training neural_model-bnn for 100 steps...\n",
            "Training neural_model-bnn for 100 steps...\n",
            "Training neural_model-bnn for 100 steps...\n",
            "Training neural_model-bnn for 100 steps...\n",
            "Training neural_model-bnn for 100 steps...\n"
          ],
          "name": "stdout"
        },
        {
          "output_type": "display_data",
          "data": {
            "image/png": "[encoded data removed]",
            "text/plain": [
              "<Figure size 432x288 with 1 Axes>"
            ]
          },
          "metadata": {
            "tags": [],
            "needs_background": "light"
          }
        },
        {
          "output_type": "stream",
          "text": [
            "Training neural_model-bnn for 100 steps...\n",
            "Training neural_model-bnn for 100 steps...\n",
            "Training neural_model-bnn for 100 steps...\n",
            "Training neural_model-bnn for 100 steps...\n",
            "Training neural_model-bnn for 100 steps...\n",
            "Training neural_model-bnn for 100 steps...\n",
            "Training neural_model-bnn for 100 steps...\n",
            "Training neural_model-bnn for 100 steps...\n",
            "Training neural_model-bnn for 100 steps...\n",
            "Training neural_model-bnn for 100 steps...\n",
            "Training neural_model-bnn for 100 steps...\n",
            "Training neural_model-bnn for 100 steps...\n",
            "Training neural_model-bnn for 100 steps...\n",
            "Training neural_model-bnn for 100 steps...\n",
            "Training neural_model-bnn for 100 steps...\n",
            "Training neural_model-bnn for 100 steps...\n",
            "Training neural_model-bnn for 100 steps...\n",
            "Training neural_model-bnn for 100 steps...\n",
            "Training neural_model-bnn for 100 steps...\n",
            "Training neural_model-bnn for 100 steps...\n",
            "Training neural_model-bnn for 100 steps...\n",
            "Training neural_model-bnn for 100 steps...\n",
            "Training neural_model-bnn for 100 steps...\n",
            "Training neural_model-bnn for 100 steps...\n",
            "Training neural_model-bnn for 100 steps...\n",
            "Training neural_model-bnn for 100 steps...\n",
            "Training neural_model-bnn for 100 steps...\n",
            "Training neural_model-bnn for 100 steps...\n",
            "Training neural_model-bnn for 100 steps...\n",
            "Training neural_model-bnn for 100 steps...\n",
            "Training neural_model-bnn for 100 steps...\n",
            "Training neural_model-bnn for 100 steps...\n",
            "Training neural_model-bnn for 100 steps...\n",
            "Training neural_model-bnn for 100 steps...\n",
            "Training neural_model-bnn for 100 steps...\n",
            "Training neural_model-bnn for 100 steps...\n",
            "Training neural_model-bnn for 100 steps...\n",
            "Training neural_model-bnn for 100 steps...\n",
            "Training neural_model-bnn for 100 steps...\n",
            "Training neural_model-bnn for 100 steps...\n",
            "Training neural_model-bnn for 100 steps...\n",
            "Training neural_model-bnn for 100 steps...\n",
            "Training neural_model-bnn for 100 steps...\n",
            "Training neural_model-bnn for 100 steps...\n",
            "Training neural_model-bnn for 100 steps...\n",
            "Training neural_model-bnn for 100 steps...\n",
            "Training neural_model-bnn for 100 steps...\n",
            "Training neural_model-bnn for 100 steps...\n",
            "Training neural_model-bnn for 100 steps...\n",
            "Training neural_model-bnn for 100 steps...\n",
            "Training neural_model-bnn for 100 steps...\n",
            "Training neural_model-bnn for 100 steps...\n",
            "Training neural_model-bnn for 100 steps...\n",
            "Training neural_model-bnn for 100 steps...\n",
            "Training neural_model-bnn for 100 steps...\n",
            "Training neural_model-bnn for 100 steps...\n",
            "Training neural_model-bnn for 100 steps...\n",
            "Training neural_model-bnn for 100 steps...\n",
            "Training neural_model-bnn for 100 steps...\n",
            "Training neural_model-bnn for 100 steps...\n",
            "Training neural_model-bnn for 100 steps...\n",
            "Training neural_model-bnn for 100 steps...\n",
            "Training neural_model-bnn for 100 steps...\n",
            "Training neural_model-bnn for 100 steps...\n",
            "Training neural_model-bnn for 100 steps...\n",
            "Training neural_model-bnn for 100 steps...\n",
            "Training neural_model-bnn for 100 steps...\n",
            "Training neural_model-bnn for 100 steps...\n",
            "Training neural_model-bnn for 100 steps...\n",
            "Training neural_model-bnn for 100 steps...\n"
          ],
          "name": "stdout"
        },
        {
          "output_type": "display_data",
          "data": {
            "image/png": "[encoded data removed]",
            "text/plain": [
              "<Figure size 432x288 with 1 Axes>"
            ]
          },
          "metadata": {
            "tags": [],
            "needs_background": "light"
          }
        }
      ]
    },
    {
      "cell_type": "markdown",
      "metadata": {
        "id": "6w1KCxgTm16B"
      },
      "source": [
        "## Saving the Models"
      ]
    },
    {
      "cell_type": "code",
      "metadata": {
        "id": "xzDP2_nrm7SK"
      },
      "source": [
        "linear_model.save('linear_model.pkl')\n",
        "neural_model.save('neural_model')"
      ],
      "execution_count": 76,
      "outputs": []
    },
    {
      "cell_type": "markdown",
      "metadata": {
        "id": "KprWi00-HShu"
      },
      "source": [
        "## Evaluating Accuracy"
      ]
    },
    {
      "cell_type": "markdown",
      "metadata": {
        "id": "eu9_zF91HW5x"
      },
      "source": [
        "We treat the contextual bandit problem as a simple binary classification exercise where the bandit assigns either Send or Don't Send actions. The trained model is evaluated on a validation set."
      ]
    },
    {
      "cell_type": "code",
      "metadata": {
        "id": "Fay1_HphOdQF"
      },
      "source": [
        "def evaluate_bandit(model):\n",
        "  \n",
        "  #Initialize variables\n",
        "  n_tp = 0\n",
        "  n_tn = 0\n",
        "  n_fp = 0\n",
        "  n_fn = 0\n",
        "  contexts = (pos_val.iloc[:, 4:18]).values\n",
        "  size = len(contexts)\n",
        "\n",
        "  for i in range(0, size):\n",
        "\n",
        "    #Generate model outputs for the provided context\n",
        "    choice = model.action(contexts[i])        \n",
        "\n",
        "    #Get optimal choice for the provided context\n",
        "    best_choice, _ = get_optimal_choice(i, pos_val, neg_val)\n",
        "\n",
        "    #Compare model output with optimal choice\n",
        "    if best_choice: #Actual positive \n",
        "      if choice: #Predicted positive\n",
        "        n_tp += 1\n",
        "      else:     #Predicted negative\n",
        "        n_fn += 1\n",
        "    else:           #Actual negative\n",
        "      if choice: #Predicted positive\n",
        "        n_fp += 1\n",
        "      else:      #Predicted negative\n",
        "        n_tn += 1\n",
        "  \n",
        "  #Compute accuracy  \n",
        "  acc = (n_tp + n_tn)/size*100\n",
        "\n",
        "  #Compute the confusion matrix as a DataFrame\n",
        "  confusion_matrix = np.array([[n_tp, n_fp], [n_fn, n_tn]])\n",
        "  confusion_matrix_df = pd.DataFrame(data=confusion_matrix,\n",
        "      index=[\"Predicted 1 (Send)\",\"Predicted 0 (No Send)\"],\n",
        "      columns=[\"Actual 1 (Send)\", \"Actual 0 (No Send)\"])\n",
        "  \n",
        "  return acc, confusion_matrix_df"
      ],
      "execution_count": 77,
      "outputs": []
    },
    {
      "cell_type": "markdown",
      "metadata": {
        "id": "_QVXvWK7X7Vn"
      },
      "source": [
        "### Purely Linear Model"
      ]
    },
    {
      "cell_type": "code",
      "metadata": {
        "colab": {
          "base_uri": "https://localhost:8080/"
        },
        "id": "BqTA1ED5XzeG",
        "outputId": "6c9c7dd0-e908-4e63-8d9a-865819647d22"
      },
      "source": [
        "#Evaluate the Linear Model\n",
        "linear_acc, linear_confusion_matrix = evaluate_bandit(linear_model)\n",
        "print(f\"Accuracy of the linear model: {linear_acc:.2f}%\")\n",
        "print(\"Confusion Matrix of the linear model:\\n\")\n",
        "print(linear_confusion_matrix)"
      ],
      "execution_count": 78,
      "outputs": [
        {
          "output_type": "stream",
          "text": [
            "Accuracy of the linear model: 76.87%\n",
            "Confusion Matrix of the linear model:\n",
            "\n",
            "                       Actual 1 (Send)  Actual 0 (No Send)\n",
            "Predicted 1 (Send)                6815                1896\n",
            "Predicted 0 (No Send)             1573                4716\n"
          ],
          "name": "stdout"
        }
      ]
    },
    {
      "cell_type": "markdown",
      "metadata": {
        "id": "cJRb1UpwX-SA"
      },
      "source": [
        "### Non-Linear Model"
      ]
    },
    {
      "cell_type": "code",
      "metadata": {
        "colab": {
          "base_uri": "https://localhost:8080/"
        },
        "id": "ltKO95-UX_7c",
        "outputId": "44c334bd-ed54-4bd0-930f-77c625f1f2e6"
      },
      "source": [
        "#Evaluate the Non-Linear Model\n",
        "neural_acc, neural_confusion_matrix = evaluate_bandit(neural_model)\n",
        "print(f\"Accuracy of the non-linear model: {neural_acc:.2f}%\")\n",
        "print(\"Confusion Matrix of the non-linear model:\\n\")\n",
        "print(neural_confusion_matrix)"
      ],
      "execution_count": 82,
      "outputs": [
        {
          "output_type": "stream",
          "text": [
            "Accuracy of the non-linear model: 76.35%\n",
            "Confusion Matrix of the non-linear model:\n",
            "\n",
            "                       Actual 1 (Send)  Actual 0 (No Send)\n",
            "Predicted 1 (Send)                6506                1665\n",
            "Predicted 0 (No Send)             1882                4947\n"
          ],
          "name": "stdout"
        }
      ]
    }
  ]
}