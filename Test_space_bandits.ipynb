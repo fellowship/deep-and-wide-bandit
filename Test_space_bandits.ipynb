{
  "nbformat": 4,
  "nbformat_minor": 0,
  "metadata": {
    "colab": {
      "name": "Test_space-bandits.ipynb",
      "provenance": [],
      "collapsed_sections": []
    },
    "kernelspec": {
      "name": "python3",
      "display_name": "Python 3"
    }
  },
  "cells": [
    {
      "cell_type": "code",
      "metadata": {
        "id": "PiKHuRjW-YHS"
      },
      "source": [
        "import os\n",
        "import pandas as pd\n",
        "import numpy as np\n",
        "import random\n",
        "\n",
        "import torch\n",
        "import torch.nn as nn\n",
        "from torch.utils.data import Dataset, DataLoader\n",
        "\n",
        "from sklearn.model_selection import train_test_split"
      ],
      "execution_count": 1,
      "outputs": []
    },
    {
      "cell_type": "code",
      "metadata": {
        "colab": {
          "base_uri": "https://localhost:8080/",
          "height": 35
        },
        "id": "62bulMRDKBW-",
        "outputId": "25d88647-cdb3-48d3-ad76-deb017ff2a0c"
      },
      "source": [
        "path = '/content/drive/MyDrive/Fellowship_Deep_and_Wide_Bandit/' ## Path to data_snippet.csv\n",
        "os.chdir(path)\n",
        "os.getcwd()"
      ],
      "execution_count": 2,
      "outputs": [
        {
          "output_type": "execute_result",
          "data": {
            "application/vnd.google.colaboratory.intrinsic+json": {
              "type": "string"
            },
            "text/plain": [
              "'/content/drive/MyDrive/Fellowship_Deep_and_Wide_Bandit'"
            ]
          },
          "metadata": {
            "tags": []
          },
          "execution_count": 2
        }
      ]
    },
    {
      "cell_type": "code",
      "metadata": {
        "id": "xFhe05BEJ_8Y",
        "colab": {
          "base_uri": "https://localhost:8080/",
          "height": 204
        },
        "outputId": "3a472164-0707-45de-8487-8279daf95fde"
      },
      "source": [
        "## Load data\n",
        "data_snippet = pd.read_csv(path+'data_snippet.csv') ## Takes about 7 seconds\n",
        "data_snippet.head()"
      ],
      "execution_count": 4,
      "outputs": [
        {
          "output_type": "execute_result",
          "data": {
            "text/html": [
              "<div>\n",
              "<style scoped>\n",
              "    .dataframe tbody tr th:only-of-type {\n",
              "        vertical-align: middle;\n",
              "    }\n",
              "\n",
              "    .dataframe tbody tr th {\n",
              "        vertical-align: top;\n",
              "    }\n",
              "\n",
              "    .dataframe thead th {\n",
              "        text-align: right;\n",
              "    }\n",
              "</style>\n",
              "<table border=\"1\" class=\"dataframe\">\n",
              "  <thead>\n",
              "    <tr style=\"text-align: right;\">\n",
              "      <th></th>\n",
              "      <th>riid</th>\n",
              "      <th>opened</th>\n",
              "      <th>rev_3dv2</th>\n",
              "      <th>unsub</th>\n",
              "      <th>campaign_type</th>\n",
              "      <th>retention_score</th>\n",
              "      <th>recency_score</th>\n",
              "      <th>frequency_score</th>\n",
              "    </tr>\n",
              "  </thead>\n",
              "  <tbody>\n",
              "    <tr>\n",
              "      <th>0</th>\n",
              "      <td>242697842</td>\n",
              "      <td>1</td>\n",
              "      <td>75.00</td>\n",
              "      <td>0</td>\n",
              "      <td>Dedicated</td>\n",
              "      <td>14.000000</td>\n",
              "      <td>1.637422</td>\n",
              "      <td>31</td>\n",
              "    </tr>\n",
              "    <tr>\n",
              "      <th>1</th>\n",
              "      <td>275469002</td>\n",
              "      <td>1</td>\n",
              "      <td>75.00</td>\n",
              "      <td>0</td>\n",
              "      <td>Dedicated</td>\n",
              "      <td>2.800000</td>\n",
              "      <td>0.000000</td>\n",
              "      <td>0</td>\n",
              "    </tr>\n",
              "    <tr>\n",
              "      <th>2</th>\n",
              "      <td>4319542</td>\n",
              "      <td>1</td>\n",
              "      <td>19.98</td>\n",
              "      <td>0</td>\n",
              "      <td>Dedicated</td>\n",
              "      <td>1.000000</td>\n",
              "      <td>0.084239</td>\n",
              "      <td>4</td>\n",
              "    </tr>\n",
              "    <tr>\n",
              "      <th>3</th>\n",
              "      <td>166170102</td>\n",
              "      <td>1</td>\n",
              "      <td>19.98</td>\n",
              "      <td>0</td>\n",
              "      <td>Dedicated</td>\n",
              "      <td>0.756757</td>\n",
              "      <td>0.010870</td>\n",
              "      <td>1</td>\n",
              "    </tr>\n",
              "    <tr>\n",
              "      <th>4</th>\n",
              "      <td>6998482</td>\n",
              "      <td>1</td>\n",
              "      <td>150.00</td>\n",
              "      <td>0</td>\n",
              "      <td>Dedicated</td>\n",
              "      <td>28.000000</td>\n",
              "      <td>1.845885</td>\n",
              "      <td>18</td>\n",
              "    </tr>\n",
              "  </tbody>\n",
              "</table>\n",
              "</div>"
            ],
            "text/plain": [
              "        riid  opened  rev_3dv2  ...  retention_score recency_score  frequency_score\n",
              "0  242697842       1     75.00  ...        14.000000      1.637422               31\n",
              "1  275469002       1     75.00  ...         2.800000      0.000000                0\n",
              "2    4319542       1     19.98  ...         1.000000      0.084239                4\n",
              "3  166170102       1     19.98  ...         0.756757      0.010870                1\n",
              "4    6998482       1    150.00  ...        28.000000      1.845885               18\n",
              "\n",
              "[5 rows x 8 columns]"
            ]
          },
          "metadata": {
            "tags": []
          },
          "execution_count": 4
        }
      ]
    },
    {
      "cell_type": "code",
      "metadata": {
        "id": "hAkUfP85KyRp"
      },
      "source": [
        "## Use label encoding for campaign_type\n",
        "data_snippet[\"campaign_type\"] = data_snippet[\"campaign_type\"].astype('category')\n",
        "data_snippet[\"campaign_type_cat\"] = data_snippet[\"campaign_type\"].cat.codes"
      ],
      "execution_count": 5,
      "outputs": []
    },
    {
      "cell_type": "code",
      "metadata": {
        "id": "hYJfQ25dLbet",
        "colab": {
          "base_uri": "https://localhost:8080/"
        },
        "outputId": "a2df027d-fa32-4908-e66b-b00f203bf1c1"
      },
      "source": [
        "## Use opened and rev_3dv2 as rewards, but set rewards to negative if unsub == 1\n",
        "data_snippet['rewards'] = data_snippet['opened'] + data_snippet['rev_3dv2'] / 100.\n",
        "data_snippet['rewards'][data_snippet['unsub']==1] = -1"
      ],
      "execution_count": 6,
      "outputs": [
        {
          "output_type": "stream",
          "text": [
            "/usr/local/lib/python3.6/dist-packages/ipykernel_launcher.py:3: SettingWithCopyWarning: \n",
            "A value is trying to be set on a copy of a slice from a DataFrame\n",
            "\n",
            "See the caveats in the documentation: https://pandas.pydata.org/pandas-docs/stable/user_guide/indexing.html#returning-a-view-versus-a-copy\n",
            "  This is separate from the ipykernel package so we can avoid doing imports until\n"
          ],
          "name": "stderr"
        }
      ]
    },
    {
      "cell_type": "code",
      "metadata": {
        "colab": {
          "base_uri": "https://localhost:8080/",
          "height": 204
        },
        "id": "OrrdqJUuImHv",
        "outputId": "95faaca8-f4a6-4ff1-e0ac-61d156d3ebb6"
      },
      "source": [
        "## Take a look at modified dataframe\n",
        "data_snippet.head()"
      ],
      "execution_count": 10,
      "outputs": [
        {
          "output_type": "execute_result",
          "data": {
            "text/html": [
              "<div>\n",
              "<style scoped>\n",
              "    .dataframe tbody tr th:only-of-type {\n",
              "        vertical-align: middle;\n",
              "    }\n",
              "\n",
              "    .dataframe tbody tr th {\n",
              "        vertical-align: top;\n",
              "    }\n",
              "\n",
              "    .dataframe thead th {\n",
              "        text-align: right;\n",
              "    }\n",
              "</style>\n",
              "<table border=\"1\" class=\"dataframe\">\n",
              "  <thead>\n",
              "    <tr style=\"text-align: right;\">\n",
              "      <th></th>\n",
              "      <th>riid</th>\n",
              "      <th>opened</th>\n",
              "      <th>rev_3dv2</th>\n",
              "      <th>unsub</th>\n",
              "      <th>campaign_type</th>\n",
              "      <th>retention_score</th>\n",
              "      <th>recency_score</th>\n",
              "      <th>frequency_score</th>\n",
              "      <th>campaign_type_cat</th>\n",
              "      <th>rewards</th>\n",
              "    </tr>\n",
              "  </thead>\n",
              "  <tbody>\n",
              "    <tr>\n",
              "      <th>0</th>\n",
              "      <td>242697842</td>\n",
              "      <td>1</td>\n",
              "      <td>75.00</td>\n",
              "      <td>0</td>\n",
              "      <td>Dedicated</td>\n",
              "      <td>14.000000</td>\n",
              "      <td>1.637422</td>\n",
              "      <td>31</td>\n",
              "      <td>3</td>\n",
              "      <td>1.7500</td>\n",
              "    </tr>\n",
              "    <tr>\n",
              "      <th>1</th>\n",
              "      <td>275469002</td>\n",
              "      <td>1</td>\n",
              "      <td>75.00</td>\n",
              "      <td>0</td>\n",
              "      <td>Dedicated</td>\n",
              "      <td>2.800000</td>\n",
              "      <td>0.000000</td>\n",
              "      <td>0</td>\n",
              "      <td>3</td>\n",
              "      <td>1.7500</td>\n",
              "    </tr>\n",
              "    <tr>\n",
              "      <th>2</th>\n",
              "      <td>4319542</td>\n",
              "      <td>1</td>\n",
              "      <td>19.98</td>\n",
              "      <td>0</td>\n",
              "      <td>Dedicated</td>\n",
              "      <td>1.000000</td>\n",
              "      <td>0.084239</td>\n",
              "      <td>4</td>\n",
              "      <td>3</td>\n",
              "      <td>1.1998</td>\n",
              "    </tr>\n",
              "    <tr>\n",
              "      <th>3</th>\n",
              "      <td>166170102</td>\n",
              "      <td>1</td>\n",
              "      <td>19.98</td>\n",
              "      <td>0</td>\n",
              "      <td>Dedicated</td>\n",
              "      <td>0.756757</td>\n",
              "      <td>0.010870</td>\n",
              "      <td>1</td>\n",
              "      <td>3</td>\n",
              "      <td>1.1998</td>\n",
              "    </tr>\n",
              "    <tr>\n",
              "      <th>4</th>\n",
              "      <td>6998482</td>\n",
              "      <td>1</td>\n",
              "      <td>150.00</td>\n",
              "      <td>0</td>\n",
              "      <td>Dedicated</td>\n",
              "      <td>28.000000</td>\n",
              "      <td>1.845885</td>\n",
              "      <td>18</td>\n",
              "      <td>3</td>\n",
              "      <td>2.5000</td>\n",
              "    </tr>\n",
              "  </tbody>\n",
              "</table>\n",
              "</div>"
            ],
            "text/plain": [
              "        riid  opened  rev_3dv2  ...  frequency_score campaign_type_cat  rewards\n",
              "0  242697842       1     75.00  ...               31                 3   1.7500\n",
              "1  275469002       1     75.00  ...                0                 3   1.7500\n",
              "2    4319542       1     19.98  ...                4                 3   1.1998\n",
              "3  166170102       1     19.98  ...                1                 3   1.1998\n",
              "4    6998482       1    150.00  ...               18                 3   2.5000\n",
              "\n",
              "[5 rows x 10 columns]"
            ]
          },
          "metadata": {
            "tags": []
          },
          "execution_count": 10
        }
      ]
    },
    {
      "cell_type": "code",
      "metadata": {
        "id": "SitxVeKCB0rM"
      },
      "source": [
        "## Define Dataset for data snippet\n",
        "class BanditTestDataset(Dataset):\n",
        "    def __init__(self, data, user_col, context_col, rewards_col, action_col=None):\n",
        "        super(BanditTestDataset, self).__init__()\n",
        "        ## data - pandas dataframe\n",
        "        ## user_col - user IDs column name\n",
        "        ## action_col - action column name\n",
        "        ## context_col - context column names\n",
        "        ## rewards_col - reward column name\n",
        "        self.user_ids = data[user_col]\n",
        "        self.context = data[context_col]\n",
        "        self.rewards = data[rewards_col]\n",
        "        if action_col != None:\n",
        "          self.actions = data[action_col]\n",
        "        \n",
        "    def __len__(self):\n",
        "        return len(self.user_ids)\n",
        "\n",
        "    def __getitem__(self, index):\n",
        "        ## returns numpy arrays\n",
        "        user_id = self.user_ids.iloc[index].values[0]\n",
        "        context = self.context.iloc[index].values\n",
        "        reward = self.rewards.iloc[index].values[0]\n",
        "        if action_col != None:\n",
        "          action = self.actions.iloc[index].values[0]\n",
        "        else:\n",
        "          ## Randomly choose to send or not send email\n",
        "          randnum = random.random() ## draw a random number between 0 and 1\n",
        "          threshold = 0.2 ## if thresehold = 0.2, send email 80% of the time\n",
        "          if randnum >= threshold:\n",
        "            action = 1 ## send email if random number larger than threshold, get the associated reward\n",
        "          else:\n",
        "            action = 0 ## don't send email if random number smaller than threshold\n",
        "            r1 = reward ## copy the reward before changing it\n",
        "            reward = reward * -1. ## Get opposite reward compared to send email\n",
        "\n",
        "            if (r1==0): \n",
        "              reward = 1 ## Set reward to 1 for not annoying recipients who would not open email\n",
        "\n",
        "        return user_id, action, context, reward"
      ],
      "execution_count": 17,
      "outputs": []
    },
    {
      "cell_type": "code",
      "metadata": {
        "id": "eLuKoeXTNGib"
      },
      "source": [
        "## Split 80/20 into train and val. Create dataloaders.\n",
        "## val not used in this version, just trying to run space-bandits at this point...\n",
        "\n",
        "train, val = train_test_split(data_snippet, test_size=0.2)\n",
        "\n",
        "user_col = ['riid']\n",
        "context_col = ['retention_score','recency_score','frequency_score','campaign_type_cat']\n",
        "rewards_col = ['rewards']\n",
        "action_col = None\n",
        "\n",
        "train_dataset = BanditTestDataset(train, user_col, context_col, rewards_col, action_col=None)\n",
        "train_dataloader = DataLoader(train_dataset, batch_size=2048, shuffle=True)\n",
        "del train\n",
        "\n",
        "val_dataset = BanditTestDataset(val, user_col, context_col, rewards_col, action_col=None)\n",
        "val_dataloader = DataLoader(val_dataset, batch_size=2048, shuffle=True)\n",
        "del val"
      ],
      "execution_count": 18,
      "outputs": []
    },
    {
      "cell_type": "markdown",
      "metadata": {
        "id": "-y_e2bYdxDVY"
      },
      "source": [
        "# Try using space-bandits neural linear model"
      ]
    },
    {
      "cell_type": "code",
      "metadata": {
        "id": "px1uXCR_mnYe"
      },
      "source": [
        "## Install and import space-bandits\n",
        "!pip install space-bandits\n",
        "from space_bandits import NeuralBandits"
      ],
      "execution_count": null,
      "outputs": []
    },
    {
      "cell_type": "code",
      "metadata": {
        "id": "N4Vaew3tmyoX"
      },
      "source": [
        "## Initialize model\n",
        "num_actions = 2\n",
        "num_features = len(context_col)\n",
        "model = NeuralBandits(num_actions, num_features)"
      ],
      "execution_count": 14,
      "outputs": []
    },
    {
      "cell_type": "code",
      "metadata": {
        "id": "qkRtWQdonMyl"
      },
      "source": [
        "## Load some data and train the model\n",
        "## Model training gets noticeable slower as more data is added\n",
        "\n",
        "iterator = iter(train_dataloader)\n",
        "user_id, action, context, reward = iterator.next()\n",
        "\n",
        "for i in range(1000):\n",
        "  context1 = context[i]\n",
        "  action1 = action[i]\n",
        "  reward1 = reward[i]\n",
        "  model.update(context1, action1, reward1)"
      ],
      "execution_count": null,
      "outputs": []
    },
    {
      "cell_type": "code",
      "metadata": {
        "id": "sLsNVPuAnoVZ"
      },
      "source": [
        "## Load some data and see what actions the model recommends, \n",
        "## 1 for send email, 0 for don't send email, \n",
        "## seem to bias toward 1: sending email\n",
        "\n",
        "user_id, action, context, reward = iterator.next()\n",
        "\n",
        "for i in range(100):\n",
        "  context1 = context[i]\n",
        "  print(model.action(context1))"
      ],
      "execution_count": null,
      "outputs": []
    }
  ]
}