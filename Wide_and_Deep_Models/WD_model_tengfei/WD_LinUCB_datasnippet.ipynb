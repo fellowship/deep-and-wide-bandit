{
  "nbformat": 4,
  "nbformat_minor": 0,
  "metadata": {
    "colab": {
      "name": "WD_LinUCB_datasnippet.ipynb",
      "provenance": [],
      "collapsed_sections": []
    },
    "kernelspec": {
      "name": "python3",
      "display_name": "Python 3"
    },
    "accelerator": "GPU"
  },
  "cells": [
    {
      "cell_type": "code",
      "metadata": {
        "id": "rhKBSWlPeQjF"
      },
      "source": [
        "import torch\r\n",
        "import torch.nn as nn\r\n",
        "import torch.optim as optim\r\n",
        "from collections import OrderedDict\r\n",
        "import numpy as np\r\n",
        "import time\r\n",
        "\r\n",
        "class W_D(nn.Module):\r\n",
        "    def __init__(self,         \r\n",
        "                 deep_in_dim=63, \r\n",
        "                 action_dim=3, \r\n",
        "                 num_embedding=100, \r\n",
        "                 embed_dim=16, \r\n",
        "                 deep_neurons=[32, 16], \r\n",
        "                 activation=nn.ReLU()):\r\n",
        "        \r\n",
        "        super(W_D, self).__init__()\r\n",
        "        self.context_dim = 1 + deep_in_dim\r\n",
        "        self.action_dim = action_dim\r\n",
        "        self.z_dim = embed_dim + deep_neurons[-1]\r\n",
        "        self.activation = activation\r\n",
        "        \r\n",
        "        self.wide = nn.Embedding(num_embedding, embed_dim)\r\n",
        "        \r\n",
        "        deep_dict = OrderedDict([])\r\n",
        "        in_features = deep_in_dim\r\n",
        "        for i, out_features in enumerate(deep_neurons):\r\n",
        "            deep_dict[f\"fc{i}\"] = nn.Linear(in_features, out_features)\r\n",
        "            deep_dict[f\"activation{i}\"] = activation\r\n",
        "            in_features = out_features\r\n",
        "\r\n",
        "        self.deep = nn.Sequential(deep_dict)\r\n",
        "        # define the final layer\r\n",
        "        self.lastlayer = nn.Linear(self.z_dim, self.action_dim)\r\n",
        "        \r\n",
        "    def forward(self, x):\r\n",
        "        \r\n",
        "        z = self.get_z(x)\r\n",
        "        out = self.activation(self.lastlayer(z))\r\n",
        "        return out\r\n",
        "    \r\n",
        "    def get_z(self, x):\r\n",
        "        w_in = x[:,0].long()\r\n",
        "        w_out = self.wide(w_in)\r\n",
        "        d_in = x[:,1:]\r\n",
        "        d_out = self.deep(d_in)\r\n",
        "        z = torch.cat((w_out, d_out),dim=1)\r\n",
        "        return z\r\n",
        "        \r\n",
        "\r\n",
        "class ContextualBandit():\r\n",
        "    \r\n",
        "    def __init__(self, device, model, optimizer, loss_func, algorithm):\r\n",
        "        self.device = device\r\n",
        "        self.model = model.to(device)\r\n",
        "        self.context_dim = model.context_dim\r\n",
        "        self.z_dim = model.z_dim\r\n",
        "        self.action_dim = model.action_dim\r\n",
        "        self.optimizer = optimizer\r\n",
        "        self.loss_func = loss_func\r\n",
        "        self.algorithm = algorithm\r\n",
        "        self.reset()\r\n",
        "        \r\n",
        "    def reset(self):\r\n",
        "        self.dataset = []\r\n",
        "    \r\n",
        "    def observe_data(self, context_source):\r\n",
        "        x_t = np.array(context_source)\r\n",
        "        assert x_t.shape == (self.action_dim, self.context_dim)\r\n",
        "        return x_t \r\n",
        "    \r\n",
        "    def get_reward(self, reward_source, a_t):\r\n",
        "        r_t = float(reward_source[a_t])\r\n",
        "        return r_t\r\n",
        "\r\n",
        "    def run(self, context_source, reward_source):\r\n",
        "        x_t = self.observe_data(context_source) # x_t np.array size=(action_dim, context_dim)\r\n",
        "        x_t_tensor = torch.tensor(x_t).float().to(self.device)\r\n",
        "        z_t = self.model.get_z(x_t_tensor).detach().cpu().numpy() # z_t np.array size=(action_dim, context_dim)\r\n",
        "        a_t = self.algorithm.select_action(z_t) # a_t int range (0, action_dim)\r\n",
        "        r_t = self.get_reward(reward_source, a_t) # r_t float either from an online simulation or from a reward vertor(size=action_dim)  \r\n",
        "        data = (x_t[a_t], z_t[a_t], a_t, r_t)\r\n",
        "        self.dataset.append(data)\r\n",
        "        self.algorithm.update(data) # update selection strategy (parameters of algorithm)\r\n",
        "        \r\n",
        "        return a_t\r\n",
        "    \r\n",
        "    def train(self, start_index=0, batch_size=16, num_epoch=100):\r\n",
        "        # prepare dataset and dataloader for training\r\n",
        "        train_dataset = BanditDataset(self.dataset[start_index:])\r\n",
        "        train_dataloader = torch.utils.data.DataLoader(dataset=train_dataset, batch_size=batch_size, shuffle=True)\r\n",
        "        # train num_epoch epoches\r\n",
        "        for i in range(num_epoch):\r\n",
        "            for data_batch in train_dataloader:\r\n",
        "                contexts, _, actions, rewards = data_batch\r\n",
        "                contexts = contexts.float().to(self.device)\r\n",
        "                actions = actions.long().to(self.device)\r\n",
        "                rewards = rewards.float().to(self.device)\r\n",
        "                outputs = model(contexts)\r\n",
        "                pred_rewards = outputs[range(outputs.shape[0]),actions]\r\n",
        "                loss = self.loss_func(pred_rewards, rewards)\r\n",
        "                self.optimizer.zero_grad()\r\n",
        "                loss.backward()\r\n",
        "                self.optimizer.step()                \r\n",
        "        # update algorithm's parameters after training\r\n",
        "        self.algorithm.reset()\r\n",
        "        for data in self.dataset:\r\n",
        "            x_t_a_t, _, a_t, r_t = data\r\n",
        "            x_t_a_t_tensor = torch.tensor(x_t_a_t).float().unsqueeze(0).to(self.device)\r\n",
        "            with torch.no_grad():\r\n",
        "                z_t_a_t = self.model.get_z(x_t_a_t_tensor).detach().cpu().numpy().reshape(-1)\r\n",
        "            self.algorithm.update((x_t_a_t, z_t_a_t, a_t, r_t))\r\n",
        "    \r\n",
        "class BanditDataset(torch.utils.data.Dataset):\r\n",
        "    \r\n",
        "    def __init__(self, raw_dataset):\r\n",
        "        self.dataset = raw_dataset\r\n",
        "        \r\n",
        "    def __getitem__(self, index):\r\n",
        "        context, z, action, reward = self.dataset[index]\r\n",
        "        return np.array(context), np.array(z), action, reward\r\n",
        "    \r\n",
        "    def __len__(self):\r\n",
        "        return len(self.dataset)\r\n",
        "    \r\n",
        "class LinUCB():\r\n",
        "    \r\n",
        "    def __init__(self, z_dim, action_dim, delta=0.05):\r\n",
        "        self.action_dim = action_dim\r\n",
        "        self.z_dim = z_dim\r\n",
        "        self.alpha = 1.0 + np.sqrt(np.log(2 / delta) / 2)\r\n",
        "        self.reset()\r\n",
        "    \r\n",
        "    def reset(self):\r\n",
        "        self.A = [np.eye(self.z_dim) for i in range(self.action_dim)]\r\n",
        "        self.b = [np.zeros(self.z_dim) for i in range(self.action_dim)]\r\n",
        "    \r\n",
        "    def select_action(self, z_t):\r\n",
        "        theta = np.zeros((self.action_dim, self.z_dim))\r\n",
        "        ucb = np.zeros(self.action_dim)\r\n",
        "        for a in range(self.action_dim):\r\n",
        "            A_inv = np.linalg.inv(self.A[a])\r\n",
        "            theta[a] = np.dot(A_inv, self.b[a])\r\n",
        "            ucb[a] = np.dot(z_t[a], theta[a]) + self.alpha * np.sqrt(np.dot(np.dot(z_t[a], A_inv), z_t[a]))\r\n",
        "        \r\n",
        "        return np.argmax(ucb)\r\n",
        "    \r\n",
        "    def update(self, data):\r\n",
        "        _, z_t_a_t, a_t, r_t = data\r\n",
        "        assert z_t_a_t.shape == (self.z_dim, )\r\n",
        "        assert type(a_t) == np.int64\r\n",
        "        assert type(r_t) == float\r\n",
        "        self.A[a_t] += np.dot(z_t_a_t.reshape((self.z_dim, 1)), z_t_a_t.reshape((1, self.z_dim)))\r\n",
        "        self.b[a_t] += r_t * z_t_a_t\r\n",
        "    \r\n",
        "    \r\n",
        "class TS():\r\n",
        "    \r\n",
        "    def __init__(self, ):\r\n",
        "        pass\r\n",
        "    \r\n",
        "    def reset(self, ):\r\n",
        "        pass\r\n",
        "    \r\n",
        "    def select_action(self, ):\r\n",
        "        pass\r\n",
        "    \r\n",
        "    def update(self, ):\r\n",
        "        pass\r\n"
      ],
      "execution_count": 1,
      "outputs": []
    },
    {
      "cell_type": "code",
      "metadata": {
        "colab": {
          "base_uri": "https://localhost:8080/",
          "height": 204
        },
        "id": "WkoDW55iVEZf",
        "outputId": "da68a01f-f077-4e27-b650-eeb930a07636"
      },
      "source": [
        "import pandas as pd\r\n",
        "import numpy as np\r\n",
        "file_path = \"/content/drive/MyDrive/Fellowship.AI/P1_bandit/data_snippet.csv\"\r\n",
        "df = pd.read_csv(file_path)\r\n",
        "df.head()"
      ],
      "execution_count": 2,
      "outputs": [
        {
          "output_type": "execute_result",
          "data": {
            "text/html": [
              "<div>\n",
              "<style scoped>\n",
              "    .dataframe tbody tr th:only-of-type {\n",
              "        vertical-align: middle;\n",
              "    }\n",
              "\n",
              "    .dataframe tbody tr th {\n",
              "        vertical-align: top;\n",
              "    }\n",
              "\n",
              "    .dataframe thead th {\n",
              "        text-align: right;\n",
              "    }\n",
              "</style>\n",
              "<table border=\"1\" class=\"dataframe\">\n",
              "  <thead>\n",
              "    <tr style=\"text-align: right;\">\n",
              "      <th></th>\n",
              "      <th>riid</th>\n",
              "      <th>opened</th>\n",
              "      <th>rev_3dv2</th>\n",
              "      <th>unsub</th>\n",
              "      <th>campaign_type</th>\n",
              "      <th>retention_score</th>\n",
              "      <th>recency_score</th>\n",
              "      <th>frequency_score</th>\n",
              "    </tr>\n",
              "  </thead>\n",
              "  <tbody>\n",
              "    <tr>\n",
              "      <th>0</th>\n",
              "      <td>242697842</td>\n",
              "      <td>1</td>\n",
              "      <td>75.00</td>\n",
              "      <td>0</td>\n",
              "      <td>Dedicated</td>\n",
              "      <td>14.000000</td>\n",
              "      <td>1.637422</td>\n",
              "      <td>31</td>\n",
              "    </tr>\n",
              "    <tr>\n",
              "      <th>1</th>\n",
              "      <td>275469002</td>\n",
              "      <td>1</td>\n",
              "      <td>75.00</td>\n",
              "      <td>0</td>\n",
              "      <td>Dedicated</td>\n",
              "      <td>2.800000</td>\n",
              "      <td>0.000000</td>\n",
              "      <td>0</td>\n",
              "    </tr>\n",
              "    <tr>\n",
              "      <th>2</th>\n",
              "      <td>4319542</td>\n",
              "      <td>1</td>\n",
              "      <td>19.98</td>\n",
              "      <td>0</td>\n",
              "      <td>Dedicated</td>\n",
              "      <td>1.000000</td>\n",
              "      <td>0.084239</td>\n",
              "      <td>4</td>\n",
              "    </tr>\n",
              "    <tr>\n",
              "      <th>3</th>\n",
              "      <td>166170102</td>\n",
              "      <td>1</td>\n",
              "      <td>19.98</td>\n",
              "      <td>0</td>\n",
              "      <td>Dedicated</td>\n",
              "      <td>0.756757</td>\n",
              "      <td>0.010870</td>\n",
              "      <td>1</td>\n",
              "    </tr>\n",
              "    <tr>\n",
              "      <th>4</th>\n",
              "      <td>6998482</td>\n",
              "      <td>1</td>\n",
              "      <td>150.00</td>\n",
              "      <td>0</td>\n",
              "      <td>Dedicated</td>\n",
              "      <td>28.000000</td>\n",
              "      <td>1.845885</td>\n",
              "      <td>18</td>\n",
              "    </tr>\n",
              "  </tbody>\n",
              "</table>\n",
              "</div>"
            ],
            "text/plain": [
              "        riid  opened  rev_3dv2  ...  retention_score recency_score  frequency_score\n",
              "0  242697842       1     75.00  ...        14.000000      1.637422               31\n",
              "1  275469002       1     75.00  ...         2.800000      0.000000                0\n",
              "2    4319542       1     19.98  ...         1.000000      0.084239                4\n",
              "3  166170102       1     19.98  ...         0.756757      0.010870                1\n",
              "4    6998482       1    150.00  ...        28.000000      1.845885               18\n",
              "\n",
              "[5 rows x 8 columns]"
            ]
          },
          "metadata": {
            "tags": []
          },
          "execution_count": 2
        }
      ]
    },
    {
      "cell_type": "code",
      "metadata": {
        "colab": {
          "base_uri": "https://localhost:8080/"
        },
        "id": "VY72wwmCZZOX",
        "outputId": "2f505c96-61aa-457d-afdf-b49fb75f33ad"
      },
      "source": [
        "len(df)"
      ],
      "execution_count": 3,
      "outputs": [
        {
          "output_type": "execute_result",
          "data": {
            "text/plain": [
              "6240490"
            ]
          },
          "metadata": {
            "tags": []
          },
          "execution_count": 3
        }
      ]
    },
    {
      "cell_type": "code",
      "metadata": {
        "id": "Q26m4nfHi0Y5"
      },
      "source": [
        "num_data = 100000\r\n",
        "indices = np.random.choice(len(df),size=num_data)\r\n",
        "df_subset = df.iloc[indices]"
      ],
      "execution_count": 4,
      "outputs": []
    },
    {
      "cell_type": "code",
      "metadata": {
        "id": "aBmGyVObZC_F"
      },
      "source": [
        "vocab = {riid:i for i, riid in enumerate(df_subset.riid.unique())}"
      ],
      "execution_count": 5,
      "outputs": []
    },
    {
      "cell_type": "code",
      "metadata": {
        "colab": {
          "base_uri": "https://localhost:8080/"
        },
        "id": "4MohzyBqe17A",
        "outputId": "62253e62-78e8-4801-b4c8-916b15d68740"
      },
      "source": [
        "len(vocab)"
      ],
      "execution_count": 6,
      "outputs": [
        {
          "output_type": "execute_result",
          "data": {
            "text/plain": [
              "87455"
            ]
          },
          "metadata": {
            "tags": []
          },
          "execution_count": 6
        }
      ]
    },
    {
      "cell_type": "code",
      "metadata": {
        "id": "SVyDfnE2ZTz_"
      },
      "source": [
        "user_ids = df_subset.riid.apply(lambda x:vocab[x])\r\n",
        "c_t = pd.get_dummies(df_subset.campaign_type)"
      ],
      "execution_count": 7,
      "outputs": []
    },
    {
      "cell_type": "code",
      "metadata": {
        "id": "AeRlUSQ3Z8kh"
      },
      "source": [
        "datasource = pd.DataFrame()\r\n",
        "datasource['user_ids'] = user_ids"
      ],
      "execution_count": 8,
      "outputs": []
    },
    {
      "cell_type": "code",
      "metadata": {
        "id": "kwfGYpUKbMtf"
      },
      "source": [
        "datasource = pd.concat((datasource, c_t),axis=1)"
      ],
      "execution_count": 9,
      "outputs": []
    },
    {
      "cell_type": "code",
      "metadata": {
        "id": "VH0a-jHqbaHv"
      },
      "source": [
        "datasource[[\"retention_score\",\t\"recency_score\",\t\"frequency_score\"]] = df_subset[[\"retention_score\",\t\"recency_score\",\t\"frequency_score\"]]"
      ],
      "execution_count": 10,
      "outputs": []
    },
    {
      "cell_type": "code",
      "metadata": {
        "colab": {
          "base_uri": "https://localhost:8080/",
          "height": 436
        },
        "id": "MQrrwcfubqqk",
        "outputId": "a0e8b6e8-514d-4542-8f97-a0826060972d"
      },
      "source": [
        "datasource"
      ],
      "execution_count": 11,
      "outputs": [
        {
          "output_type": "execute_result",
          "data": {
            "text/html": [
              "<div>\n",
              "<style scoped>\n",
              "    .dataframe tbody tr th:only-of-type {\n",
              "        vertical-align: middle;\n",
              "    }\n",
              "\n",
              "    .dataframe tbody tr th {\n",
              "        vertical-align: top;\n",
              "    }\n",
              "\n",
              "    .dataframe thead th {\n",
              "        text-align: right;\n",
              "    }\n",
              "</style>\n",
              "<table border=\"1\" class=\"dataframe\">\n",
              "  <thead>\n",
              "    <tr style=\"text-align: right;\">\n",
              "      <th></th>\n",
              "      <th>user_ids</th>\n",
              "      <th>Brand</th>\n",
              "      <th>Collection</th>\n",
              "      <th>Core</th>\n",
              "      <th>Dedicated</th>\n",
              "      <th>Innovation Spotlight</th>\n",
              "      <th>New Arrivals</th>\n",
              "      <th>Other</th>\n",
              "      <th>Product Spotlight</th>\n",
              "      <th>Replen</th>\n",
              "      <th>Tops</th>\n",
              "      <th>Trend</th>\n",
              "      <th>retention_score</th>\n",
              "      <th>recency_score</th>\n",
              "      <th>frequency_score</th>\n",
              "    </tr>\n",
              "  </thead>\n",
              "  <tbody>\n",
              "    <tr>\n",
              "      <th>1959596</th>\n",
              "      <td>0</td>\n",
              "      <td>0</td>\n",
              "      <td>0</td>\n",
              "      <td>0</td>\n",
              "      <td>1</td>\n",
              "      <td>0</td>\n",
              "      <td>0</td>\n",
              "      <td>0</td>\n",
              "      <td>0</td>\n",
              "      <td>0</td>\n",
              "      <td>0</td>\n",
              "      <td>0</td>\n",
              "      <td>4.666667</td>\n",
              "      <td>0.402562</td>\n",
              "      <td>9</td>\n",
              "    </tr>\n",
              "    <tr>\n",
              "      <th>89701</th>\n",
              "      <td>1</td>\n",
              "      <td>0</td>\n",
              "      <td>0</td>\n",
              "      <td>1</td>\n",
              "      <td>0</td>\n",
              "      <td>0</td>\n",
              "      <td>0</td>\n",
              "      <td>0</td>\n",
              "      <td>0</td>\n",
              "      <td>0</td>\n",
              "      <td>0</td>\n",
              "      <td>0</td>\n",
              "      <td>4.666667</td>\n",
              "      <td>0.267857</td>\n",
              "      <td>5</td>\n",
              "    </tr>\n",
              "    <tr>\n",
              "      <th>3300811</th>\n",
              "      <td>2</td>\n",
              "      <td>0</td>\n",
              "      <td>0</td>\n",
              "      <td>0</td>\n",
              "      <td>1</td>\n",
              "      <td>0</td>\n",
              "      <td>0</td>\n",
              "      <td>0</td>\n",
              "      <td>0</td>\n",
              "      <td>0</td>\n",
              "      <td>0</td>\n",
              "      <td>0</td>\n",
              "      <td>0.823529</td>\n",
              "      <td>0.010870</td>\n",
              "      <td>1</td>\n",
              "    </tr>\n",
              "    <tr>\n",
              "      <th>2007318</th>\n",
              "      <td>3</td>\n",
              "      <td>0</td>\n",
              "      <td>0</td>\n",
              "      <td>0</td>\n",
              "      <td>0</td>\n",
              "      <td>1</td>\n",
              "      <td>0</td>\n",
              "      <td>0</td>\n",
              "      <td>0</td>\n",
              "      <td>0</td>\n",
              "      <td>0</td>\n",
              "      <td>0</td>\n",
              "      <td>3.500000</td>\n",
              "      <td>0.589868</td>\n",
              "      <td>29</td>\n",
              "    </tr>\n",
              "    <tr>\n",
              "      <th>729105</th>\n",
              "      <td>4</td>\n",
              "      <td>0</td>\n",
              "      <td>0</td>\n",
              "      <td>1</td>\n",
              "      <td>0</td>\n",
              "      <td>0</td>\n",
              "      <td>0</td>\n",
              "      <td>0</td>\n",
              "      <td>0</td>\n",
              "      <td>0</td>\n",
              "      <td>0</td>\n",
              "      <td>0</td>\n",
              "      <td>3.111111</td>\n",
              "      <td>0.153727</td>\n",
              "      <td>2</td>\n",
              "    </tr>\n",
              "    <tr>\n",
              "      <th>...</th>\n",
              "      <td>...</td>\n",
              "      <td>...</td>\n",
              "      <td>...</td>\n",
              "      <td>...</td>\n",
              "      <td>...</td>\n",
              "      <td>...</td>\n",
              "      <td>...</td>\n",
              "      <td>...</td>\n",
              "      <td>...</td>\n",
              "      <td>...</td>\n",
              "      <td>...</td>\n",
              "      <td>...</td>\n",
              "      <td>...</td>\n",
              "      <td>...</td>\n",
              "      <td>...</td>\n",
              "    </tr>\n",
              "    <tr>\n",
              "      <th>2424174</th>\n",
              "      <td>87451</td>\n",
              "      <td>1</td>\n",
              "      <td>0</td>\n",
              "      <td>0</td>\n",
              "      <td>0</td>\n",
              "      <td>0</td>\n",
              "      <td>0</td>\n",
              "      <td>0</td>\n",
              "      <td>0</td>\n",
              "      <td>0</td>\n",
              "      <td>0</td>\n",
              "      <td>0</td>\n",
              "      <td>28.000000</td>\n",
              "      <td>3.428183</td>\n",
              "      <td>70</td>\n",
              "    </tr>\n",
              "    <tr>\n",
              "      <th>2428826</th>\n",
              "      <td>87452</td>\n",
              "      <td>0</td>\n",
              "      <td>0</td>\n",
              "      <td>0</td>\n",
              "      <td>0</td>\n",
              "      <td>0</td>\n",
              "      <td>0</td>\n",
              "      <td>0</td>\n",
              "      <td>0</td>\n",
              "      <td>0</td>\n",
              "      <td>0</td>\n",
              "      <td>1</td>\n",
              "      <td>28.000000</td>\n",
              "      <td>1.491071</td>\n",
              "      <td>5</td>\n",
              "    </tr>\n",
              "    <tr>\n",
              "      <th>3185285</th>\n",
              "      <td>87453</td>\n",
              "      <td>1</td>\n",
              "      <td>0</td>\n",
              "      <td>0</td>\n",
              "      <td>0</td>\n",
              "      <td>0</td>\n",
              "      <td>0</td>\n",
              "      <td>0</td>\n",
              "      <td>0</td>\n",
              "      <td>0</td>\n",
              "      <td>0</td>\n",
              "      <td>0</td>\n",
              "      <td>5.600000</td>\n",
              "      <td>0.407803</td>\n",
              "      <td>16</td>\n",
              "    </tr>\n",
              "    <tr>\n",
              "      <th>622949</th>\n",
              "      <td>87454</td>\n",
              "      <td>0</td>\n",
              "      <td>0</td>\n",
              "      <td>0</td>\n",
              "      <td>1</td>\n",
              "      <td>0</td>\n",
              "      <td>0</td>\n",
              "      <td>0</td>\n",
              "      <td>0</td>\n",
              "      <td>0</td>\n",
              "      <td>0</td>\n",
              "      <td>0</td>\n",
              "      <td>14.000000</td>\n",
              "      <td>0.237966</td>\n",
              "      <td>6</td>\n",
              "    </tr>\n",
              "    <tr>\n",
              "      <th>260866</th>\n",
              "      <td>77325</td>\n",
              "      <td>0</td>\n",
              "      <td>0</td>\n",
              "      <td>0</td>\n",
              "      <td>0</td>\n",
              "      <td>0</td>\n",
              "      <td>0</td>\n",
              "      <td>0</td>\n",
              "      <td>0</td>\n",
              "      <td>1</td>\n",
              "      <td>0</td>\n",
              "      <td>0</td>\n",
              "      <td>28.000000</td>\n",
              "      <td>4.964286</td>\n",
              "      <td>20</td>\n",
              "    </tr>\n",
              "  </tbody>\n",
              "</table>\n",
              "<p>100000 rows × 15 columns</p>\n",
              "</div>"
            ],
            "text/plain": [
              "         user_ids  Brand  ...  recency_score  frequency_score\n",
              "1959596         0      0  ...       0.402562                9\n",
              "89701           1      0  ...       0.267857                5\n",
              "3300811         2      0  ...       0.010870                1\n",
              "2007318         3      0  ...       0.589868               29\n",
              "729105          4      0  ...       0.153727                2\n",
              "...           ...    ...  ...            ...              ...\n",
              "2424174     87451      1  ...       3.428183               70\n",
              "2428826     87452      0  ...       1.491071                5\n",
              "3185285     87453      1  ...       0.407803               16\n",
              "622949      87454      0  ...       0.237966                6\n",
              "260866      77325      0  ...       4.964286               20\n",
              "\n",
              "[100000 rows x 15 columns]"
            ]
          },
          "metadata": {
            "tags": []
          },
          "execution_count": 11
        }
      ]
    },
    {
      "cell_type": "code",
      "metadata": {
        "id": "ghLBFVtpbwHx"
      },
      "source": [
        "rewardsource = pd.DataFrame()\r\n",
        "rewardsource[\"reward_send\"] = df_subset.opened * 1.2 - 0.2 + (df_subset.rev_3dv2 > 0) + df_subset.rev_3dv2/75.0 - 5.0*df_subset.unsub\r\n",
        "rewardsource[\"reward_not_send\"] = -rewardsource[\"reward_send\"]"
      ],
      "execution_count": 12,
      "outputs": []
    },
    {
      "cell_type": "code",
      "metadata": {
        "colab": {
          "base_uri": "https://localhost:8080/",
          "height": 419
        },
        "id": "YsgwSNeFd3Qj",
        "outputId": "f6dd9ec9-2e2f-4533-f679-8a0900b15c46"
      },
      "source": [
        "rewardsource"
      ],
      "execution_count": 13,
      "outputs": [
        {
          "output_type": "execute_result",
          "data": {
            "text/html": [
              "<div>\n",
              "<style scoped>\n",
              "    .dataframe tbody tr th:only-of-type {\n",
              "        vertical-align: middle;\n",
              "    }\n",
              "\n",
              "    .dataframe tbody tr th {\n",
              "        vertical-align: top;\n",
              "    }\n",
              "\n",
              "    .dataframe thead th {\n",
              "        text-align: right;\n",
              "    }\n",
              "</style>\n",
              "<table border=\"1\" class=\"dataframe\">\n",
              "  <thead>\n",
              "    <tr style=\"text-align: right;\">\n",
              "      <th></th>\n",
              "      <th>reward_send</th>\n",
              "      <th>reward_not_send</th>\n",
              "    </tr>\n",
              "  </thead>\n",
              "  <tbody>\n",
              "    <tr>\n",
              "      <th>1959596</th>\n",
              "      <td>1.0</td>\n",
              "      <td>-1.0</td>\n",
              "    </tr>\n",
              "    <tr>\n",
              "      <th>89701</th>\n",
              "      <td>1.0</td>\n",
              "      <td>-1.0</td>\n",
              "    </tr>\n",
              "    <tr>\n",
              "      <th>3300811</th>\n",
              "      <td>-0.2</td>\n",
              "      <td>0.2</td>\n",
              "    </tr>\n",
              "    <tr>\n",
              "      <th>2007318</th>\n",
              "      <td>1.0</td>\n",
              "      <td>-1.0</td>\n",
              "    </tr>\n",
              "    <tr>\n",
              "      <th>729105</th>\n",
              "      <td>1.0</td>\n",
              "      <td>-1.0</td>\n",
              "    </tr>\n",
              "    <tr>\n",
              "      <th>...</th>\n",
              "      <td>...</td>\n",
              "      <td>...</td>\n",
              "    </tr>\n",
              "    <tr>\n",
              "      <th>2424174</th>\n",
              "      <td>1.0</td>\n",
              "      <td>-1.0</td>\n",
              "    </tr>\n",
              "    <tr>\n",
              "      <th>2428826</th>\n",
              "      <td>1.0</td>\n",
              "      <td>-1.0</td>\n",
              "    </tr>\n",
              "    <tr>\n",
              "      <th>3185285</th>\n",
              "      <td>1.0</td>\n",
              "      <td>-1.0</td>\n",
              "    </tr>\n",
              "    <tr>\n",
              "      <th>622949</th>\n",
              "      <td>1.0</td>\n",
              "      <td>-1.0</td>\n",
              "    </tr>\n",
              "    <tr>\n",
              "      <th>260866</th>\n",
              "      <td>1.0</td>\n",
              "      <td>-1.0</td>\n",
              "    </tr>\n",
              "  </tbody>\n",
              "</table>\n",
              "<p>100000 rows × 2 columns</p>\n",
              "</div>"
            ],
            "text/plain": [
              "         reward_send  reward_not_send\n",
              "1959596          1.0             -1.0\n",
              "89701            1.0             -1.0\n",
              "3300811         -0.2              0.2\n",
              "2007318          1.0             -1.0\n",
              "729105           1.0             -1.0\n",
              "...              ...              ...\n",
              "2424174          1.0             -1.0\n",
              "2428826          1.0             -1.0\n",
              "3185285          1.0             -1.0\n",
              "622949           1.0             -1.0\n",
              "260866           1.0             -1.0\n",
              "\n",
              "[100000 rows x 2 columns]"
            ]
          },
          "metadata": {
            "tags": []
          },
          "execution_count": 13
        }
      ]
    },
    {
      "cell_type": "code",
      "metadata": {
        "id": "swLZ47qcgFSr"
      },
      "source": [
        "opt_a = (rewardsource['reward_send'] < 0).astype(int)"
      ],
      "execution_count": 22,
      "outputs": []
    },
    {
      "cell_type": "code",
      "metadata": {
        "colab": {
          "base_uri": "https://localhost:8080/"
        },
        "id": "DgAqyRBUgdbE",
        "outputId": "434df897-2bd8-4956-941c-042aa22781db"
      },
      "source": [
        "opt_a"
      ],
      "execution_count": 23,
      "outputs": [
        {
          "output_type": "execute_result",
          "data": {
            "text/plain": [
              "1959596    0\n",
              "89701      0\n",
              "3300811    1\n",
              "2007318    0\n",
              "729105     0\n",
              "          ..\n",
              "2424174    0\n",
              "2428826    0\n",
              "3185285    0\n",
              "622949     0\n",
              "260866     0\n",
              "Name: reward_send, Length: 100000, dtype: int64"
            ]
          },
          "metadata": {
            "tags": []
          },
          "execution_count": 23
        }
      ]
    },
    {
      "cell_type": "code",
      "metadata": {
        "colab": {
          "base_uri": "https://localhost:8080/"
        },
        "id": "G6H_J1u-kuQy",
        "outputId": "64089859-40f4-4373-90d0-165d9e3cb0f5"
      },
      "source": [
        "device = \"cuda:0\" if torch.cuda.is_available() else \"cpu\"\r\n",
        "print(device)"
      ],
      "execution_count": 16,
      "outputs": [
        {
          "output_type": "stream",
          "text": [
            "cuda:0\n"
          ],
          "name": "stdout"
        }
      ]
    },
    {
      "cell_type": "code",
      "metadata": {
        "id": "9ljb3WWMeUKg",
        "colab": {
          "base_uri": "https://localhost:8080/"
        },
        "outputId": "8a4a650f-3f44-4b3c-9c77-68f0da29e9f5"
      },
      "source": [
        "model = W_D(deep_in_dim=14, action_dim=2, num_embedding=len(vocab), deep_neurons=[128, 64]).to(device)\r\n",
        "optimizer = optim.Adam(model.parameters(), lr=0.005)\r\n",
        "loss_func = nn.MSELoss()\r\n",
        "algorithm = LinUCB(model.z_dim, model.action_dim, delta=0.05)\r\n",
        "CB = ContextualBandit(device, model, optimizer, loss_func, algorithm)\r\n",
        "\r\n",
        "train_batch_size = 64\r\n",
        "num_epoch = 100\r\n",
        "\r\n",
        "contexts = datasource.values\r\n",
        "reward_vectors = rewardsource.values\r\n",
        "opt_actions = opt_a.values\r\n",
        "\r\n",
        "train_start_index = 0\r\n",
        "start_time = time.time()\r\n",
        "pred_actions = []\r\n",
        "for t in range(num_data):\r\n",
        "    context_source = np.array([contexts[t] for i in range(model.action_dim)])\r\n",
        "    reward_source = reward_vectors[t]\r\n",
        "    pred_a = CB.run(context_source, reward_source)\r\n",
        "    pred_actions.append(pred_a)\r\n",
        "    if (t+1)%1000 == 0:\r\n",
        "        CB.train(start_index=train_start_index, batch_size=train_batch_size, num_epoch=num_epoch)\r\n",
        "        train_start_index = t + 1\r\n",
        "        print(\"{} --- {} seconds ---\".format(t+1,(time.time() - start_time)))\r\n",
        "        start_time = time.time()\r\n",
        "\r\n",
        "cum_rewards_pred_action = []\r\n",
        "cum_rewards_opt_action = []\r\n",
        "p_i = 0\r\n",
        "o_i = 0\r\n",
        "for i in range(num_data):\r\n",
        "    p_i += reward_vectors[i][pred_actions[i]]\r\n",
        "    o_i += reward_vectors[i][opt_actions[i]]\r\n",
        "    cum_rewards_pred_action.append(p_i)\r\n",
        "    cum_rewards_opt_action.append(o_i)"
      ],
      "execution_count": 17,
      "outputs": [
        {
          "output_type": "stream",
          "text": [
            "1000 --- 6.512449026107788 seconds ---\n",
            "2000 --- 6.609957218170166 seconds ---\n",
            "3000 --- 7.1211323738098145 seconds ---\n",
            "4000 --- 7.5754334926605225 seconds ---\n",
            "5000 --- 8.490346908569336 seconds ---\n",
            "6000 --- 8.84685206413269 seconds ---\n",
            "7000 --- 9.481447219848633 seconds ---\n",
            "8000 --- 9.780700445175171 seconds ---\n",
            "9000 --- 9.808608055114746 seconds ---\n",
            "10000 --- 10.160597562789917 seconds ---\n",
            "11000 --- 10.738828420639038 seconds ---\n",
            "12000 --- 10.976967334747314 seconds ---\n",
            "13000 --- 11.423095703125 seconds ---\n",
            "14000 --- 12.14676570892334 seconds ---\n",
            "15000 --- 12.634242296218872 seconds ---\n",
            "16000 --- 12.613028764724731 seconds ---\n",
            "17000 --- 12.987432956695557 seconds ---\n",
            "18000 --- 13.461091041564941 seconds ---\n",
            "19000 --- 14.481666803359985 seconds ---\n",
            "20000 --- 14.14306378364563 seconds ---\n",
            "21000 --- 15.08195686340332 seconds ---\n",
            "22000 --- 15.027835130691528 seconds ---\n",
            "23000 --- 15.15207576751709 seconds ---\n",
            "24000 --- 16.098599195480347 seconds ---\n",
            "25000 --- 16.48054528236389 seconds ---\n",
            "26000 --- 16.92017126083374 seconds ---\n",
            "27000 --- 17.518645524978638 seconds ---\n",
            "28000 --- 17.77658438682556 seconds ---\n",
            "29000 --- 17.519097089767456 seconds ---\n",
            "30000 --- 18.432327032089233 seconds ---\n",
            "31000 --- 18.903311491012573 seconds ---\n",
            "32000 --- 19.186498403549194 seconds ---\n",
            "33000 --- 19.504765033721924 seconds ---\n",
            "34000 --- 19.520418643951416 seconds ---\n",
            "35000 --- 20.7023503780365 seconds ---\n",
            "36000 --- 21.434025764465332 seconds ---\n",
            "37000 --- 21.115811586380005 seconds ---\n",
            "38000 --- 21.676255226135254 seconds ---\n",
            "39000 --- 21.967997789382935 seconds ---\n",
            "40000 --- 22.318804502487183 seconds ---\n",
            "41000 --- 22.741905450820923 seconds ---\n",
            "42000 --- 23.064584493637085 seconds ---\n",
            "43000 --- 23.826270580291748 seconds ---\n",
            "44000 --- 23.50190496444702 seconds ---\n",
            "45000 --- 24.78600525856018 seconds ---\n",
            "46000 --- 24.58760714530945 seconds ---\n",
            "47000 --- 25.1893470287323 seconds ---\n",
            "48000 --- 25.14597249031067 seconds ---\n",
            "49000 --- 26.51490092277527 seconds ---\n",
            "50000 --- 26.84298801422119 seconds ---\n",
            "51000 --- 26.631333589553833 seconds ---\n",
            "52000 --- 28.05768346786499 seconds ---\n",
            "53000 --- 27.691585302352905 seconds ---\n",
            "54000 --- 28.466591119766235 seconds ---\n",
            "55000 --- 28.317742347717285 seconds ---\n",
            "56000 --- 29.267313718795776 seconds ---\n",
            "57000 --- 28.980089902877808 seconds ---\n",
            "58000 --- 29.77370047569275 seconds ---\n",
            "59000 --- 30.36266827583313 seconds ---\n",
            "60000 --- 30.84883737564087 seconds ---\n",
            "61000 --- 30.340901851654053 seconds ---\n",
            "62000 --- 31.192625284194946 seconds ---\n",
            "63000 --- 31.571390867233276 seconds ---\n",
            "64000 --- 32.84752106666565 seconds ---\n",
            "65000 --- 32.92881417274475 seconds ---\n",
            "66000 --- 32.57037615776062 seconds ---\n",
            "67000 --- 32.8886353969574 seconds ---\n",
            "68000 --- 33.13922047615051 seconds ---\n",
            "69000 --- 34.34701943397522 seconds ---\n",
            "70000 --- 35.317326068878174 seconds ---\n",
            "71000 --- 35.08648681640625 seconds ---\n",
            "72000 --- 35.71459722518921 seconds ---\n",
            "73000 --- 35.6084520816803 seconds ---\n",
            "74000 --- 36.875340938568115 seconds ---\n",
            "75000 --- 36.5763521194458 seconds ---\n",
            "76000 --- 36.5352737903595 seconds ---\n",
            "77000 --- 36.83952045440674 seconds ---\n",
            "78000 --- 39.07934308052063 seconds ---\n",
            "79000 --- 38.16457557678223 seconds ---\n",
            "80000 --- 39.2062246799469 seconds ---\n",
            "81000 --- 38.888633012771606 seconds ---\n",
            "82000 --- 40.483747243881226 seconds ---\n",
            "83000 --- 39.93547248840332 seconds ---\n",
            "84000 --- 40.29895067214966 seconds ---\n",
            "85000 --- 40.9571738243103 seconds ---\n",
            "86000 --- 41.09060764312744 seconds ---\n",
            "87000 --- 41.47450017929077 seconds ---\n",
            "88000 --- 42.62054967880249 seconds ---\n",
            "89000 --- 41.76886868476868 seconds ---\n",
            "90000 --- 43.14161443710327 seconds ---\n",
            "91000 --- 42.7081458568573 seconds ---\n",
            "92000 --- 43.8846001625061 seconds ---\n",
            "93000 --- 44.19536733627319 seconds ---\n",
            "94000 --- 44.889931201934814 seconds ---\n",
            "95000 --- 44.715564250946045 seconds ---\n",
            "96000 --- 44.73113012313843 seconds ---\n",
            "97000 --- 45.533475399017334 seconds ---\n",
            "98000 --- 46.11813831329346 seconds ---\n",
            "99000 --- 46.65982532501221 seconds ---\n",
            "100000 --- 46.6525559425354 seconds ---\n"
          ],
          "name": "stdout"
        }
      ]
    },
    {
      "cell_type": "code",
      "metadata": {
        "id": "15SjzxXHeV0q",
        "colab": {
          "base_uri": "https://localhost:8080/",
          "height": 279
        },
        "outputId": "ad3ee9d4-a8ab-4c7f-e365-da716dc10de3"
      },
      "source": [
        "import matplotlib.pyplot as plt\r\n",
        "plt.plot(cum_rewards_pred_action, label = 'cum_rewards_pred_action')\r\n",
        "plt.plot(cum_rewards_opt_action, label = 'cum_rewards_opt_action')\r\n",
        "plt.legend()\r\n",
        "plt.xlabel('num data')\r\n",
        "_ = plt.ylabel('cum rewards')"
      ],
      "execution_count": 31,
      "outputs": [
        {
          "output_type": "display_data",
          "data": {
            "image/png": "[encoded data removed]",
            "text/plain": [
              "<Figure size 432x288 with 1 Axes>"
            ]
          },
          "metadata": {
            "tags": [],
            "needs_background": "light"
          }
        }
      ]
    },
    {
      "cell_type": "code",
      "metadata": {
        "id": "85a0LauFeXQP",
        "colab": {
          "base_uri": "https://localhost:8080/"
        },
        "outputId": "056ff5c1-7c43-44fb-94b9-cf4adea04bb6"
      },
      "source": [
        "np.sum(pred_actions == opt_actions)/num_data"
      ],
      "execution_count": 33,
      "outputs": [
        {
          "output_type": "execute_result",
          "data": {
            "text/plain": [
              "0.70799"
            ]
          },
          "metadata": {
            "tags": []
          },
          "execution_count": 33
        }
      ]
    },
    {
      "cell_type": "markdown",
      "metadata": {
        "id": "T4msNAfHwsAK"
      },
      "source": [
        "Randomly choose 100000 from the data snippet. \r\n",
        "run the ContextualBandit on this sub dataset.\r\n",
        "For every 1000 data points,\r\n",
        "1. run the LinUCB\r\n",
        "2. then train the Wide and Deep model on that 1000 data points for 100 epoches.\r\n",
        "3. then update the LinUCB parameters (A matrix and B vector) according to all the seen data points in order to keep the LinUCB knowledge by far.\r\n",
        "4. output the time spent on this 1000 data points."
      ]
    },
    {
      "cell_type": "code",
      "metadata": {
        "id": "wi2ayFeHyFki"
      },
      "source": [
        ""
      ],
      "execution_count": null,
      "outputs": []
    }
  ]
}