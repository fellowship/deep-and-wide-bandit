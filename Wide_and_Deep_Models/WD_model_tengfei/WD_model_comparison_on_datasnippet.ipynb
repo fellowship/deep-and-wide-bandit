{
  "nbformat": 4,
  "nbformat_minor": 0,
  "metadata": {
    "accelerator": "GPU",
    "colab": {
      "name": "WD_model_comparison_on_datasnippet.ipynb",
      "provenance": [],
      "collapsed_sections": []
    },
    "kernelspec": {
      "display_name": "Python 3",
      "name": "python3"
    }
  },
  "cells": [
    {
      "cell_type": "markdown",
      "metadata": {
        "id": "d-C1gyBgDRMR"
      },
      "source": [
        "# Train and compare two Wide and Deep models on the data snippet"
      ]
    },
    {
      "cell_type": "code",
      "metadata": {
        "colab": {
          "base_uri": "https://localhost:8080/",
          "height": 204
        },
        "id": "WkoDW55iVEZf",
        "outputId": "7d7b8448-5ea8-4677-ce67-b6ddd37bbfbd"
      },
      "source": [
        "import pandas as pd\r\n",
        "import numpy as np\r\n",
        "file_path = \"/content/drive/MyDrive/Fellowship.AI/P1_bandit/data_snippet.csv\"\r\n",
        "df = pd.read_csv(file_path)\r\n",
        "df.head()"
      ],
      "execution_count": 1,
      "outputs": [
        {
          "output_type": "execute_result",
          "data": {
            "text/html": [
              "<div>\n",
              "<style scoped>\n",
              "    .dataframe tbody tr th:only-of-type {\n",
              "        vertical-align: middle;\n",
              "    }\n",
              "\n",
              "    .dataframe tbody tr th {\n",
              "        vertical-align: top;\n",
              "    }\n",
              "\n",
              "    .dataframe thead th {\n",
              "        text-align: right;\n",
              "    }\n",
              "</style>\n",
              "<table border=\"1\" class=\"dataframe\">\n",
              "  <thead>\n",
              "    <tr style=\"text-align: right;\">\n",
              "      <th></th>\n",
              "      <th>riid</th>\n",
              "      <th>opened</th>\n",
              "      <th>rev_3dv2</th>\n",
              "      <th>unsub</th>\n",
              "      <th>campaign_type</th>\n",
              "      <th>retention_score</th>\n",
              "      <th>recency_score</th>\n",
              "      <th>frequency_score</th>\n",
              "    </tr>\n",
              "  </thead>\n",
              "  <tbody>\n",
              "    <tr>\n",
              "      <th>0</th>\n",
              "      <td>242697842</td>\n",
              "      <td>1</td>\n",
              "      <td>75.00</td>\n",
              "      <td>0</td>\n",
              "      <td>Dedicated</td>\n",
              "      <td>14.000000</td>\n",
              "      <td>1.637422</td>\n",
              "      <td>31</td>\n",
              "    </tr>\n",
              "    <tr>\n",
              "      <th>1</th>\n",
              "      <td>275469002</td>\n",
              "      <td>1</td>\n",
              "      <td>75.00</td>\n",
              "      <td>0</td>\n",
              "      <td>Dedicated</td>\n",
              "      <td>2.800000</td>\n",
              "      <td>0.000000</td>\n",
              "      <td>0</td>\n",
              "    </tr>\n",
              "    <tr>\n",
              "      <th>2</th>\n",
              "      <td>4319542</td>\n",
              "      <td>1</td>\n",
              "      <td>19.98</td>\n",
              "      <td>0</td>\n",
              "      <td>Dedicated</td>\n",
              "      <td>1.000000</td>\n",
              "      <td>0.084239</td>\n",
              "      <td>4</td>\n",
              "    </tr>\n",
              "    <tr>\n",
              "      <th>3</th>\n",
              "      <td>166170102</td>\n",
              "      <td>1</td>\n",
              "      <td>19.98</td>\n",
              "      <td>0</td>\n",
              "      <td>Dedicated</td>\n",
              "      <td>0.756757</td>\n",
              "      <td>0.010870</td>\n",
              "      <td>1</td>\n",
              "    </tr>\n",
              "    <tr>\n",
              "      <th>4</th>\n",
              "      <td>6998482</td>\n",
              "      <td>1</td>\n",
              "      <td>150.00</td>\n",
              "      <td>0</td>\n",
              "      <td>Dedicated</td>\n",
              "      <td>28.000000</td>\n",
              "      <td>1.845885</td>\n",
              "      <td>18</td>\n",
              "    </tr>\n",
              "  </tbody>\n",
              "</table>\n",
              "</div>"
            ],
            "text/plain": [
              "        riid  opened  rev_3dv2  ...  retention_score recency_score  frequency_score\n",
              "0  242697842       1     75.00  ...        14.000000      1.637422               31\n",
              "1  275469002       1     75.00  ...         2.800000      0.000000                0\n",
              "2    4319542       1     19.98  ...         1.000000      0.084239                4\n",
              "3  166170102       1     19.98  ...         0.756757      0.010870                1\n",
              "4    6998482       1    150.00  ...        28.000000      1.845885               18\n",
              "\n",
              "[5 rows x 8 columns]"
            ]
          },
          "metadata": {
            "tags": []
          },
          "execution_count": 1
        }
      ]
    },
    {
      "cell_type": "code",
      "metadata": {
        "colab": {
          "base_uri": "https://localhost:8080/"
        },
        "id": "VY72wwmCZZOX",
        "outputId": "3d55db44-a4b5-4c3f-dd73-644874342ca3"
      },
      "source": [
        "print(\"Total number of data in the data snippet: {}.\".format(len(df)))"
      ],
      "execution_count": 2,
      "outputs": [
        {
          "output_type": "stream",
          "text": [
            "Total number of data in the data snippet: 6240490.\n"
          ],
          "name": "stdout"
        }
      ]
    },
    {
      "cell_type": "code",
      "metadata": {
        "id": "Q26m4nfHi0Y5"
      },
      "source": [
        "# randomly chose a subset with size num_data\r\n",
        "num_data = 100000\r\n",
        "indices = np.random.choice(len(df),size=num_data)\r\n",
        "df_subset = df.iloc[indices]"
      ],
      "execution_count": 3,
      "outputs": []
    },
    {
      "cell_type": "code",
      "metadata": {
        "colab": {
          "base_uri": "https://localhost:8080/"
        },
        "id": "4MohzyBqe17A",
        "outputId": "bf804d5f-114a-41d5-ed59-dc0fd9f3265f"
      },
      "source": [
        "# create a vocabulary mapping each riid to an index \r\n",
        "vocab = {riid:i for i, riid in enumerate(df_subset.riid.unique())}\r\n",
        "print(\"{} unique users\".format(len(vocab)))"
      ],
      "execution_count": 4,
      "outputs": [
        {
          "output_type": "stream",
          "text": [
            "87864 unique users\n"
          ],
          "name": "stdout"
        }
      ]
    },
    {
      "cell_type": "markdown",
      "metadata": {
        "id": "8QHf_gfLZIHJ"
      },
      "source": [
        "Archetecture of the Wide and Deep Model\r\n",
        "\r\n",
        "![WD.PNG](data:image/png;base64,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)"
      ]
    },
    {
      "cell_type": "markdown",
      "metadata": {
        "id": "BIWOUGo0_h93"
      },
      "source": [
        "## Model 1 (class W_D): user_id as input of the DEEP part"
      ]
    },
    {
      "cell_type": "code",
      "metadata": {
        "id": "rhKBSWlPeQjF"
      },
      "source": [
        "import torch\r\n",
        "import torch.nn as nn\r\n",
        "import torch.optim as optim\r\n",
        "from collections import OrderedDict\r\n",
        "import numpy as np\r\n",
        "import time\r\n",
        "\r\n",
        "# this model use user_id as input of the Deep part\r\n",
        "class W_D(nn.Module):\r\n",
        "    def __init__(self,         \r\n",
        "                 wide_in_dim=3,\r\n",
        "                 deep_in_dim=3, \r\n",
        "                 action_dim=3, \r\n",
        "                 num_embedding=100, \r\n",
        "                 embed_dim=16, \r\n",
        "                 deep_neurons=[32, 16], \r\n",
        "                 activation=nn.ReLU()):\r\n",
        "        \r\n",
        "        super(W_D, self).__init__()\r\n",
        "        self.wide_in_dim = wide_in_dim\r\n",
        "        self.context_dim = wide_in_dim + deep_in_dim\r\n",
        "        self.z_dim = wide_in_dim + deep_neurons[-1]\r\n",
        "        self.action_dim = action_dim\r\n",
        "        self.activation = activation\r\n",
        "        \r\n",
        "        self.embedding = nn.Embedding(num_embedding, embed_dim)\r\n",
        "        deep_dict = OrderedDict([])\r\n",
        "        in_features = deep_in_dim -1 + embed_dim \r\n",
        "        for i, out_features in enumerate(deep_neurons):\r\n",
        "            deep_dict[f\"fc{i}\"] = nn.Linear(in_features, out_features)\r\n",
        "            deep_dict[f\"activation{i}\"] = activation\r\n",
        "            in_features = out_features\r\n",
        "\r\n",
        "        self.deep = nn.Sequential(deep_dict)\r\n",
        "        # define the final layer\r\n",
        "        self.lastlayer = nn.Linear(self.z_dim, self.action_dim)\r\n",
        "        \r\n",
        "    def forward(self, x):\r\n",
        "        z = self.get_z(x)\r\n",
        "        out = self.lastlayer(z)\r\n",
        "        return out\r\n",
        "    \r\n",
        "    def get_z(self, x):\r\n",
        "\r\n",
        "        w_in = x[:, :self.wide_in_dim]\r\n",
        "        d_in = x[:, self.wide_in_dim:]\r\n",
        "        \r\n",
        "        embed_in = d_in[:,0].long()\r\n",
        "        embed_out = self.embedding(embed_in)\r\n",
        "        nn_in = torch.cat((embed_out, d_in[:,1:]), dim=1)\r\n",
        "        d_out = self.deep(nn_in)\r\n",
        "        z = torch.cat((w_in, d_out),dim=1)\r\n",
        "        return z\r\n"
      ],
      "execution_count": 5,
      "outputs": []
    },
    {
      "cell_type": "code",
      "metadata": {
        "id": "AeRlUSQ3Z8kh"
      },
      "source": [
        "user_ids = df_subset.riid.apply(lambda x:vocab[x])\r\n",
        "c_t = pd.get_dummies(df_subset.campaign_type)\r\n",
        "# prepare the context for model 1\r\n",
        "datasource = pd.DataFrame()\r\n",
        "datasource['user_ids'] = user_ids\r\n",
        "datasource = pd.concat((c_t, datasource),axis=1)\r\n",
        "datasource[[\"retention_score\",\t\"recency_score\",\t\"frequency_score\"]] = df_subset[[\"retention_score\",\t\"recency_score\",\t\"frequency_score\"]]"
      ],
      "execution_count": 6,
      "outputs": []
    },
    {
      "cell_type": "code",
      "metadata": {
        "id": "ghLBFVtpbwHx"
      },
      "source": [
        "# prepare the reward vectors for model 1\r\n",
        "rewardsource = pd.DataFrame()\r\n",
        "rewardsource[\"reward_send\"] = df_subset.opened * 1.2 - 0.2 + (df_subset.rev_3dv2 > 0) + df_subset.rev_3dv2/75.0 - 5.0*df_subset.unsub\r\n",
        "rewardsource[\"reward_not_send\"] = -rewardsource[\"reward_send\"]"
      ],
      "execution_count": 7,
      "outputs": []
    },
    {
      "cell_type": "code",
      "metadata": {
        "id": "swLZ47qcgFSr"
      },
      "source": [
        "# optimal actions considerinng the reward vectors defined above\r\n",
        "opt_a = (rewardsource['reward_send'] < 0).astype(int)"
      ],
      "execution_count": 8,
      "outputs": []
    },
    {
      "cell_type": "code",
      "metadata": {
        "id": "iLkR2VskZjgS"
      },
      "source": [
        "# A custumized class of torch dataset for the training\r\n",
        "class Mydataset(torch.utils.data.Dataset):\r\n",
        "    def __init__(self, contexts, reward_vectors, optimal_actions):\r\n",
        "      self.contexts = np.array(contexts)\r\n",
        "      self.reward_vectors = np.array(reward_vectors)\r\n",
        "      self.optimal_actions = np.array(optimal_actions)\r\n",
        "\r\n",
        "    def __getitem__(self, index):\r\n",
        "        context = self.contexts[index]\r\n",
        "        reward_vector = self.reward_vectors[index]\r\n",
        "        optimal_action = self.optimal_actions[index]\r\n",
        "        return context, reward_vector, optimal_action\r\n",
        "\r\n",
        "    def __len__(self):\r\n",
        "        return self.contexts.shape[0]"
      ],
      "execution_count": 9,
      "outputs": []
    },
    {
      "cell_type": "code",
      "metadata": {
        "id": "1Mfd5dc1ZKDg"
      },
      "source": [
        "split = 0.7\r\n",
        "batch_size = 1024\r\n",
        "#define datasets and dataloaders for training of model 1\r\n",
        "dataset_train = Mydataset(datasource.iloc[:int(num_data * split)],rewardsource.iloc[:int(num_data * split)], opt_a.iloc[:int(num_data * split)])\r\n",
        "dataset_valid = Mydataset(datasource.iloc[int(num_data * split):],rewardsource.iloc[int(num_data * split):], opt_a.iloc[int(num_data * split):])\r\n",
        "dataloader_train = torch.utils.data.DataLoader(dataset_train, batch_size=batch_size, shuffle=True)\r\n",
        "dataloader_valid = torch.utils.data.DataLoader(dataset_valid, batch_size=batch_size, shuffle=True)"
      ],
      "execution_count": 10,
      "outputs": []
    },
    {
      "cell_type": "code",
      "metadata": {
        "id": "9ljb3WWMeUKg"
      },
      "source": [
        "# A function to train and valid the model for each epoch, output the losses and accuracies.\r\n",
        "def train(device, model, optimizer, loss_func, dataloader_train, dataloader_valid, num_epoch):\r\n",
        "    start_time = time.time()\r\n",
        "    accuracy_train = []\r\n",
        "    loss_record_train = []\r\n",
        "    accuracy_valid = []\r\n",
        "    loss_record_valid = []\r\n",
        "    s_time = start_time\r\n",
        "    for i in range(num_epoch):\r\n",
        "        model.train()\r\n",
        "        corrects = 0.0\r\n",
        "        train_loss = 0.0\r\n",
        "        for c_train, r_train, opt_a_train in dataloader_train:\r\n",
        "            c_train = c_train.float().to(device)\r\n",
        "            r_train = r_train.float().to(device)\r\n",
        "            opt_a_train = opt_a_train.long().to(device)\r\n",
        "            pred_r_train = model(c_train)\r\n",
        "            loss = loss_func(pred_r_train, r_train)\r\n",
        "            pred_a_train = torch.argmax(pred_r_train, dim=1)\r\n",
        "            corrects += torch.sum(pred_a_train==opt_a_train).item()\r\n",
        "            train_loss += loss.item() * c_train.shape[0]\r\n",
        "\r\n",
        "            optimizer.zero_grad()\r\n",
        "            loss.backward()\r\n",
        "            optimizer.step()\r\n",
        "        accuracy_train.append(corrects/len(dataloader_train.dataset))\r\n",
        "        loss_record_train.append(train_loss/len(dataloader_train.dataset))\r\n",
        "\r\n",
        "        model.eval()\r\n",
        "        corrects = 0.0\r\n",
        "        valid_loss = 0.0\r\n",
        "        for c_valid, r_valid, opt_a_valid in dataloader_valid:\r\n",
        "            c_valid = c_valid.float().to(device)\r\n",
        "            r_valid = r_valid.float().to(device)\r\n",
        "            opt_a_valid = opt_a_valid.long().to(device)\r\n",
        "            pred_r_valid = model(c_valid)\r\n",
        "            loss = loss_func(pred_r_valid, r_valid)\r\n",
        "            pred_a_valid = torch.argmax(pred_r_valid, dim=1)\r\n",
        "            corrects += torch.sum(pred_a_valid==opt_a_valid).item()\r\n",
        "            valid_loss += loss.item() * c_valid.shape[0]\r\n",
        "\r\n",
        "        accuracy_valid.append(corrects/len(dataloader_valid.dataset))\r\n",
        "        loss_record_valid.append(valid_loss/len(dataloader_valid.dataset))\r\n",
        "\r\n",
        "        print(\"Epoch:{:>4}\\t Training Loss: {:6.3f}\\t Valid Loss: {:6.3f}\\t Training Accuracy: {:.3f}\\t Valid Accuracy: {:.3f}\\t time used: {:.3f} sec\".format(i+1, loss_record_train[i], loss_record_valid[i], accuracy_train[i], accuracy_valid[i], time.time()-s_time))\r\n",
        "        s_time = time.time()\r\n",
        "    end_time = time.time()\r\n",
        "    total_time = end_time - start_time\r\n",
        "    print(\"total time used: {} hrs {} min {:.3f} sec\".format(int(total_time//3600), int((total_time%3600)//60), total_time%60))\r\n"
      ],
      "execution_count": 11,
      "outputs": []
    },
    {
      "cell_type": "code",
      "metadata": {
        "colab": {
          "base_uri": "https://localhost:8080/"
        },
        "id": "mDPnfrF8k5Bb",
        "outputId": "d2cd2212-e974-45ed-c2b9-546024af3cc8"
      },
      "source": [
        "device = \"cuda:0\" if torch.cuda.is_available() else \"cpu\"\r\n",
        "print(\"train on device: \", device)\r\n",
        "model = W_D(wide_in_dim=11, deep_in_dim=4, action_dim=2, num_embedding=len(vocab), embed_dim=64, deep_neurons=[128, 64]).to(device)\r\n",
        "optimizer = optim.Adam(model.parameters(), lr=0.001)\r\n",
        "loss_func = nn.MSELoss()\r\n",
        "num_epoch = 20\r\n",
        "train(device, model, optimizer, loss_func, dataloader_train, dataloader_valid, num_epoch)"
      ],
      "execution_count": 12,
      "outputs": [
        {
          "output_type": "stream",
          "text": [
            "train on device:  cuda:0\n",
            "Epoch:   1\t Training Loss:  0.377\t Valid Loss:  0.342\t Training Accuracy: 0.673\t Valid Accuracy: 0.684\t time used: 1.055 sec\n",
            "Epoch:   2\t Training Loss:  0.344\t Valid Loss:  0.338\t Training Accuracy: 0.701\t Valid Accuracy: 0.698\t time used: 1.062 sec\n",
            "Epoch:   3\t Training Loss:  0.337\t Valid Loss:  0.337\t Training Accuracy: 0.709\t Valid Accuracy: 0.699\t time used: 1.061 sec\n",
            "Epoch:   4\t Training Loss:  0.330\t Valid Loss:  0.338\t Training Accuracy: 0.714\t Valid Accuracy: 0.696\t time used: 1.076 sec\n",
            "Epoch:   5\t Training Loss:  0.320\t Valid Loss:  0.343\t Training Accuracy: 0.723\t Valid Accuracy: 0.686\t time used: 1.046 sec\n",
            "Epoch:   6\t Training Loss:  0.307\t Valid Loss:  0.351\t Training Accuracy: 0.730\t Valid Accuracy: 0.687\t time used: 1.039 sec\n",
            "Epoch:   7\t Training Loss:  0.291\t Valid Loss:  0.363\t Training Accuracy: 0.746\t Valid Accuracy: 0.692\t time used: 1.050 sec\n",
            "Epoch:   8\t Training Loss:  0.272\t Valid Loss:  0.372\t Training Accuracy: 0.764\t Valid Accuracy: 0.691\t time used: 1.043 sec\n",
            "Epoch:   9\t Training Loss:  0.250\t Valid Loss:  0.398\t Training Accuracy: 0.784\t Valid Accuracy: 0.686\t time used: 1.052 sec\n",
            "Epoch:  10\t Training Loss:  0.228\t Valid Loss:  0.414\t Training Accuracy: 0.804\t Valid Accuracy: 0.683\t time used: 1.052 sec\n",
            "Epoch:  11\t Training Loss:  0.205\t Valid Loss:  0.437\t Training Accuracy: 0.825\t Valid Accuracy: 0.680\t time used: 1.062 sec\n",
            "Epoch:  12\t Training Loss:  0.183\t Valid Loss:  0.465\t Training Accuracy: 0.845\t Valid Accuracy: 0.682\t time used: 1.059 sec\n",
            "Epoch:  13\t Training Loss:  0.163\t Valid Loss:  0.480\t Training Accuracy: 0.865\t Valid Accuracy: 0.672\t time used: 1.055 sec\n",
            "Epoch:  14\t Training Loss:  0.143\t Valid Loss:  0.501\t Training Accuracy: 0.880\t Valid Accuracy: 0.677\t time used: 1.050 sec\n",
            "Epoch:  15\t Training Loss:  0.126\t Valid Loss:  0.538\t Training Accuracy: 0.895\t Valid Accuracy: 0.680\t time used: 1.060 sec\n",
            "Epoch:  16\t Training Loss:  0.111\t Valid Loss:  0.562\t Training Accuracy: 0.909\t Valid Accuracy: 0.680\t time used: 1.060 sec\n",
            "Epoch:  17\t Training Loss:  0.095\t Valid Loss:  0.589\t Training Accuracy: 0.923\t Valid Accuracy: 0.674\t time used: 1.068 sec\n",
            "Epoch:  18\t Training Loss:  0.083\t Valid Loss:  0.602\t Training Accuracy: 0.933\t Valid Accuracy: 0.676\t time used: 1.069 sec\n",
            "Epoch:  19\t Training Loss:  0.072\t Valid Loss:  0.635\t Training Accuracy: 0.941\t Valid Accuracy: 0.671\t time used: 1.074 sec\n",
            "Epoch:  20\t Training Loss:  0.063\t Valid Loss:  0.686\t Training Accuracy: 0.949\t Valid Accuracy: 0.667\t time used: 1.057 sec\n",
            "total time used: 0 hrs 0 min 21.154 sec\n"
          ],
          "name": "stdout"
        }
      ]
    },
    {
      "cell_type": "markdown",
      "metadata": {
        "id": "NRG44AdgqPGs"
      },
      "source": [
        "if always send email the accurcy:"
      ]
    },
    {
      "cell_type": "code",
      "metadata": {
        "id": "wi2ayFeHyFki",
        "colab": {
          "base_uri": "https://localhost:8080/"
        },
        "outputId": "669d61bd-e282-43cb-992b-005889796809"
      },
      "source": [
        "(rewardsource[\"reward_send\"]>0).sum()/len(rewardsource)"
      ],
      "execution_count": 13,
      "outputs": [
        {
          "output_type": "execute_result",
          "data": {
            "text/plain": [
              "0.59637"
            ]
          },
          "metadata": {
            "tags": []
          },
          "execution_count": 13
        }
      ]
    },
    {
      "cell_type": "markdown",
      "metadata": {
        "id": "OSbIAkoeCYWN"
      },
      "source": [
        "## Model_2 (class W_D_2): user_id as input of WIDE part"
      ]
    },
    {
      "cell_type": "code",
      "metadata": {
        "id": "zywbt-7Gq0Uh"
      },
      "source": [
        "# user_id in wide\r\n",
        "class W_D_2(nn.Module):\r\n",
        "    def __init__(self,         \r\n",
        "                 wide_in_dim=3,\r\n",
        "                 deep_in_dim=3, \r\n",
        "                 action_dim=3, \r\n",
        "                 num_embedding=100, \r\n",
        "                 embed_dim=16, \r\n",
        "                 deep_neurons=[32, 16], \r\n",
        "                 activation=nn.ReLU()):\r\n",
        "        \r\n",
        "        super(W_D_2, self).__init__()\r\n",
        "        self.wide_in_dim = wide_in_dim\r\n",
        "        self.context_dim = wide_in_dim + deep_in_dim\r\n",
        "        self.z_dim = embed_dim + deep_neurons[-1]\r\n",
        "        self.action_dim = action_dim\r\n",
        "        self.activation = activation\r\n",
        "        \r\n",
        "        self.embedding = nn.Embedding(num_embedding, embed_dim)\r\n",
        "\r\n",
        "        deep_dict = OrderedDict([])\r\n",
        "        in_features = deep_in_dim \r\n",
        "        for i, out_features in enumerate(deep_neurons):\r\n",
        "            deep_dict[f\"fc{i}\"] = nn.Linear(in_features, out_features)\r\n",
        "            deep_dict[f\"activation{i}\"] = activation\r\n",
        "            in_features = out_features\r\n",
        "\r\n",
        "        self.deep = nn.Sequential(deep_dict)\r\n",
        "        # define the final layer\r\n",
        "        self.lastlayer = nn.Linear(self.z_dim, self.action_dim)\r\n",
        "        \r\n",
        "    def forward(self, x):\r\n",
        "        z = self.get_z(x)\r\n",
        "        out = self.lastlayer(z)\r\n",
        "        return out\r\n",
        "    \r\n",
        "    def get_z(self, x):\r\n",
        "\r\n",
        "        w_in = x[:, :self.wide_in_dim]\r\n",
        "        d_in = x[:, self.wide_in_dim:]\r\n",
        "        \r\n",
        "        embed_in = w_in[:,0].long()\r\n",
        "        embed_out = self.embedding(embed_in)\r\n",
        "        nn_in = d_in\r\n",
        "        d_out = self.deep(nn_in)\r\n",
        "        z = torch.cat((embed_out, d_out),dim=1)\r\n",
        "        return z"
      ],
      "execution_count": 14,
      "outputs": []
    },
    {
      "cell_type": "code",
      "metadata": {
        "id": "JJfr2TbNpIWE"
      },
      "source": [
        "datasource_2 = pd.DataFrame()\r\n",
        "datasource_2['user_ids'] = user_ids\r\n",
        "datasource_2 = pd.concat((datasource_2, c_t),axis=1)\r\n",
        "datasource_2[[\"retention_score\",\t\"recency_score\",\t\"frequency_score\"]] = df_subset[[\"retention_score\",\t\"recency_score\",\t\"frequency_score\"]]"
      ],
      "execution_count": 15,
      "outputs": []
    },
    {
      "cell_type": "code",
      "metadata": {
        "colab": {
          "base_uri": "https://localhost:8080/",
          "height": 436
        },
        "id": "XcCgseXiqwoA",
        "outputId": "18c3d933-3e0d-4bf1-d5ad-f99ed300953d"
      },
      "source": [
        "datasource_2"
      ],
      "execution_count": 16,
      "outputs": [
        {
          "output_type": "execute_result",
          "data": {
            "text/html": [
              "<div>\n",
              "<style scoped>\n",
              "    .dataframe tbody tr th:only-of-type {\n",
              "        vertical-align: middle;\n",
              "    }\n",
              "\n",
              "    .dataframe tbody tr th {\n",
              "        vertical-align: top;\n",
              "    }\n",
              "\n",
              "    .dataframe thead th {\n",
              "        text-align: right;\n",
              "    }\n",
              "</style>\n",
              "<table border=\"1\" class=\"dataframe\">\n",
              "  <thead>\n",
              "    <tr style=\"text-align: right;\">\n",
              "      <th></th>\n",
              "      <th>user_ids</th>\n",
              "      <th>Brand</th>\n",
              "      <th>Collection</th>\n",
              "      <th>Core</th>\n",
              "      <th>Dedicated</th>\n",
              "      <th>Innovation Spotlight</th>\n",
              "      <th>New Arrivals</th>\n",
              "      <th>Other</th>\n",
              "      <th>Product Spotlight</th>\n",
              "      <th>Replen</th>\n",
              "      <th>Tops</th>\n",
              "      <th>Trend</th>\n",
              "      <th>retention_score</th>\n",
              "      <th>recency_score</th>\n",
              "      <th>frequency_score</th>\n",
              "    </tr>\n",
              "  </thead>\n",
              "  <tbody>\n",
              "    <tr>\n",
              "      <th>5914695</th>\n",
              "      <td>0</td>\n",
              "      <td>0</td>\n",
              "      <td>0</td>\n",
              "      <td>0</td>\n",
              "      <td>0</td>\n",
              "      <td>0</td>\n",
              "      <td>0</td>\n",
              "      <td>0</td>\n",
              "      <td>0</td>\n",
              "      <td>0</td>\n",
              "      <td>0</td>\n",
              "      <td>1</td>\n",
              "      <td>28.000000</td>\n",
              "      <td>1.547943</td>\n",
              "      <td>13</td>\n",
              "    </tr>\n",
              "    <tr>\n",
              "      <th>2119291</th>\n",
              "      <td>1</td>\n",
              "      <td>1</td>\n",
              "      <td>0</td>\n",
              "      <td>0</td>\n",
              "      <td>0</td>\n",
              "      <td>0</td>\n",
              "      <td>0</td>\n",
              "      <td>0</td>\n",
              "      <td>0</td>\n",
              "      <td>0</td>\n",
              "      <td>0</td>\n",
              "      <td>0</td>\n",
              "      <td>28.000000</td>\n",
              "      <td>1.772127</td>\n",
              "      <td>28</td>\n",
              "    </tr>\n",
              "    <tr>\n",
              "      <th>3439182</th>\n",
              "      <td>2</td>\n",
              "      <td>0</td>\n",
              "      <td>0</td>\n",
              "      <td>0</td>\n",
              "      <td>1</td>\n",
              "      <td>0</td>\n",
              "      <td>0</td>\n",
              "      <td>0</td>\n",
              "      <td>0</td>\n",
              "      <td>0</td>\n",
              "      <td>0</td>\n",
              "      <td>0</td>\n",
              "      <td>14.000000</td>\n",
              "      <td>1.635287</td>\n",
              "      <td>8</td>\n",
              "    </tr>\n",
              "    <tr>\n",
              "      <th>4883836</th>\n",
              "      <td>3</td>\n",
              "      <td>0</td>\n",
              "      <td>0</td>\n",
              "      <td>0</td>\n",
              "      <td>0</td>\n",
              "      <td>0</td>\n",
              "      <td>0</td>\n",
              "      <td>0</td>\n",
              "      <td>0</td>\n",
              "      <td>0</td>\n",
              "      <td>0</td>\n",
              "      <td>1</td>\n",
              "      <td>28.000000</td>\n",
              "      <td>3.230590</td>\n",
              "      <td>30</td>\n",
              "    </tr>\n",
              "    <tr>\n",
              "      <th>4495739</th>\n",
              "      <td>4</td>\n",
              "      <td>1</td>\n",
              "      <td>0</td>\n",
              "      <td>0</td>\n",
              "      <td>0</td>\n",
              "      <td>0</td>\n",
              "      <td>0</td>\n",
              "      <td>0</td>\n",
              "      <td>0</td>\n",
              "      <td>0</td>\n",
              "      <td>0</td>\n",
              "      <td>0</td>\n",
              "      <td>1.217391</td>\n",
              "      <td>0.497283</td>\n",
              "      <td>27</td>\n",
              "    </tr>\n",
              "    <tr>\n",
              "      <th>...</th>\n",
              "      <td>...</td>\n",
              "      <td>...</td>\n",
              "      <td>...</td>\n",
              "      <td>...</td>\n",
              "      <td>...</td>\n",
              "      <td>...</td>\n",
              "      <td>...</td>\n",
              "      <td>...</td>\n",
              "      <td>...</td>\n",
              "      <td>...</td>\n",
              "      <td>...</td>\n",
              "      <td>...</td>\n",
              "      <td>...</td>\n",
              "      <td>...</td>\n",
              "      <td>...</td>\n",
              "    </tr>\n",
              "    <tr>\n",
              "      <th>5586953</th>\n",
              "      <td>87861</td>\n",
              "      <td>0</td>\n",
              "      <td>0</td>\n",
              "      <td>0</td>\n",
              "      <td>0</td>\n",
              "      <td>0</td>\n",
              "      <td>1</td>\n",
              "      <td>0</td>\n",
              "      <td>0</td>\n",
              "      <td>0</td>\n",
              "      <td>0</td>\n",
              "      <td>0</td>\n",
              "      <td>5.600000</td>\n",
              "      <td>0.195846</td>\n",
              "      <td>4</td>\n",
              "    </tr>\n",
              "    <tr>\n",
              "      <th>2953364</th>\n",
              "      <td>87862</td>\n",
              "      <td>0</td>\n",
              "      <td>0</td>\n",
              "      <td>0</td>\n",
              "      <td>1</td>\n",
              "      <td>0</td>\n",
              "      <td>0</td>\n",
              "      <td>0</td>\n",
              "      <td>0</td>\n",
              "      <td>0</td>\n",
              "      <td>0</td>\n",
              "      <td>0</td>\n",
              "      <td>28.000000</td>\n",
              "      <td>4.984084</td>\n",
              "      <td>47</td>\n",
              "    </tr>\n",
              "    <tr>\n",
              "      <th>3056985</th>\n",
              "      <td>25482</td>\n",
              "      <td>0</td>\n",
              "      <td>0</td>\n",
              "      <td>0</td>\n",
              "      <td>0</td>\n",
              "      <td>1</td>\n",
              "      <td>0</td>\n",
              "      <td>0</td>\n",
              "      <td>0</td>\n",
              "      <td>0</td>\n",
              "      <td>0</td>\n",
              "      <td>0</td>\n",
              "      <td>14.000000</td>\n",
              "      <td>2.091809</td>\n",
              "      <td>35</td>\n",
              "    </tr>\n",
              "    <tr>\n",
              "      <th>2154817</th>\n",
              "      <td>87863</td>\n",
              "      <td>0</td>\n",
              "      <td>0</td>\n",
              "      <td>0</td>\n",
              "      <td>0</td>\n",
              "      <td>0</td>\n",
              "      <td>0</td>\n",
              "      <td>0</td>\n",
              "      <td>1</td>\n",
              "      <td>0</td>\n",
              "      <td>0</td>\n",
              "      <td>0</td>\n",
              "      <td>28.000000</td>\n",
              "      <td>4.742624</td>\n",
              "      <td>70</td>\n",
              "    </tr>\n",
              "    <tr>\n",
              "      <th>919801</th>\n",
              "      <td>32703</td>\n",
              "      <td>0</td>\n",
              "      <td>0</td>\n",
              "      <td>0</td>\n",
              "      <td>0</td>\n",
              "      <td>1</td>\n",
              "      <td>0</td>\n",
              "      <td>0</td>\n",
              "      <td>0</td>\n",
              "      <td>0</td>\n",
              "      <td>0</td>\n",
              "      <td>0</td>\n",
              "      <td>28.000000</td>\n",
              "      <td>5.717003</td>\n",
              "      <td>63</td>\n",
              "    </tr>\n",
              "  </tbody>\n",
              "</table>\n",
              "<p>100000 rows × 15 columns</p>\n",
              "</div>"
            ],
            "text/plain": [
              "         user_ids  Brand  ...  recency_score  frequency_score\n",
              "5914695         0      0  ...       1.547943               13\n",
              "2119291         1      1  ...       1.772127               28\n",
              "3439182         2      0  ...       1.635287                8\n",
              "4883836         3      0  ...       3.230590               30\n",
              "4495739         4      1  ...       0.497283               27\n",
              "...           ...    ...  ...            ...              ...\n",
              "5586953     87861      0  ...       0.195846                4\n",
              "2953364     87862      0  ...       4.984084               47\n",
              "3056985     25482      0  ...       2.091809               35\n",
              "2154817     87863      0  ...       4.742624               70\n",
              "919801      32703      0  ...       5.717003               63\n",
              "\n",
              "[100000 rows x 15 columns]"
            ]
          },
          "metadata": {
            "tags": []
          },
          "execution_count": 16
        }
      ]
    },
    {
      "cell_type": "code",
      "metadata": {
        "id": "j97FRKCbsVmT"
      },
      "source": [
        "dataset_train_2 = Mydataset(datasource_2.iloc[:int(num_data * split)],rewardsource.iloc[:int(num_data * split)], opt_a.iloc[:int(num_data * split)])\r\n",
        "dataset_valid_2 = Mydataset(datasource_2.iloc[int(num_data * split):],rewardsource.iloc[int(num_data * split):], opt_a.iloc[int(num_data * split):])\r\n",
        "dataloader_train_2 = torch.utils.data.DataLoader(dataset_train_2, batch_size=batch_size, shuffle=True)\r\n",
        "dataloader_valid_2 = torch.utils.data.DataLoader(dataset_valid_2, batch_size=batch_size, shuffle=True)"
      ],
      "execution_count": 17,
      "outputs": []
    },
    {
      "cell_type": "code",
      "metadata": {
        "colab": {
          "base_uri": "https://localhost:8080/"
        },
        "id": "Fq8zYTCksf7e",
        "outputId": "351e1820-fd0e-4968-e30e-b563638e1120"
      },
      "source": [
        "model_2 = W_D_2(wide_in_dim=1, deep_in_dim=14, action_dim=2, num_embedding=len(vocab), embed_dim=64, deep_neurons=[128, 64]).to(device)\r\n",
        "optimizer_2 = optim.Adam(model_2.parameters(), lr=0.001)\r\n",
        "loss_func = nn.MSELoss()\r\n",
        "num_epoch = 20\r\n",
        "train(device, model_2, optimizer_2, loss_func, dataloader_train_2, dataloader_valid_2, num_epoch)"
      ],
      "execution_count": 18,
      "outputs": [
        {
          "output_type": "stream",
          "text": [
            "Epoch:   1\t Training Loss:  0.438\t Valid Loss:  0.354\t Training Accuracy: 0.691\t Valid Accuracy: 0.694\t time used: 1.051 sec\n",
            "Epoch:   2\t Training Loss:  0.349\t Valid Loss:  0.341\t Training Accuracy: 0.696\t Valid Accuracy: 0.695\t time used: 1.001 sec\n",
            "Epoch:   3\t Training Loss:  0.341\t Valid Loss:  0.334\t Training Accuracy: 0.700\t Valid Accuracy: 0.697\t time used: 1.048 sec\n",
            "Epoch:   4\t Training Loss:  0.337\t Valid Loss:  0.333\t Training Accuracy: 0.705\t Valid Accuracy: 0.696\t time used: 1.042 sec\n",
            "Epoch:   5\t Training Loss:  0.334\t Valid Loss:  0.335\t Training Accuracy: 0.706\t Valid Accuracy: 0.699\t time used: 1.046 sec\n",
            "Epoch:   6\t Training Loss:  0.331\t Valid Loss:  0.341\t Training Accuracy: 0.711\t Valid Accuracy: 0.691\t time used: 1.042 sec\n",
            "Epoch:   7\t Training Loss:  0.326\t Valid Loss:  0.343\t Training Accuracy: 0.711\t Valid Accuracy: 0.692\t time used: 1.069 sec\n",
            "Epoch:   8\t Training Loss:  0.318\t Valid Loss:  0.349\t Training Accuracy: 0.718\t Valid Accuracy: 0.685\t time used: 1.039 sec\n",
            "Epoch:   9\t Training Loss:  0.310\t Valid Loss:  0.361\t Training Accuracy: 0.727\t Valid Accuracy: 0.679\t time used: 1.076 sec\n",
            "Epoch:  10\t Training Loss:  0.299\t Valid Loss:  0.370\t Training Accuracy: 0.736\t Valid Accuracy: 0.681\t time used: 1.092 sec\n",
            "Epoch:  11\t Training Loss:  0.286\t Valid Loss:  0.383\t Training Accuracy: 0.751\t Valid Accuracy: 0.676\t time used: 1.045 sec\n",
            "Epoch:  12\t Training Loss:  0.270\t Valid Loss:  0.398\t Training Accuracy: 0.767\t Valid Accuracy: 0.672\t time used: 1.055 sec\n",
            "Epoch:  13\t Training Loss:  0.254\t Valid Loss:  0.418\t Training Accuracy: 0.787\t Valid Accuracy: 0.673\t time used: 1.048 sec\n",
            "Epoch:  14\t Training Loss:  0.238\t Valid Loss:  0.445\t Training Accuracy: 0.806\t Valid Accuracy: 0.670\t time used: 1.092 sec\n",
            "Epoch:  15\t Training Loss:  0.222\t Valid Loss:  0.453\t Training Accuracy: 0.827\t Valid Accuracy: 0.668\t time used: 1.133 sec\n",
            "Epoch:  16\t Training Loss:  0.205\t Valid Loss:  0.477\t Training Accuracy: 0.844\t Valid Accuracy: 0.665\t time used: 1.110 sec\n",
            "Epoch:  17\t Training Loss:  0.190\t Valid Loss:  0.493\t Training Accuracy: 0.863\t Valid Accuracy: 0.665\t time used: 1.115 sec\n",
            "Epoch:  18\t Training Loss:  0.175\t Valid Loss:  0.522\t Training Accuracy: 0.878\t Valid Accuracy: 0.657\t time used: 1.132 sec\n",
            "Epoch:  19\t Training Loss:  0.162\t Valid Loss:  0.534\t Training Accuracy: 0.894\t Valid Accuracy: 0.661\t time used: 1.134 sec\n",
            "Epoch:  20\t Training Loss:  0.149\t Valid Loss:  0.557\t Training Accuracy: 0.908\t Valid Accuracy: 0.661\t time used: 1.156 sec\n",
            "total time used: 0 hrs 0 min 21.527 sec\n"
          ],
          "name": "stdout"
        }
      ]
    },
    {
      "cell_type": "code",
      "metadata": {
        "id": "-muSf1O3s6O-"
      },
      "source": [
        ""
      ],
      "execution_count": null,
      "outputs": []
    }
  ]
}