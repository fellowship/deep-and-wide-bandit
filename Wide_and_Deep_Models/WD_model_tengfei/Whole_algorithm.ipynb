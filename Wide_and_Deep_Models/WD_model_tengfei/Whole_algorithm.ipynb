{
  "nbformat": 4,
  "nbformat_minor": 0,
  "metadata": {
    "colab": {
      "name": "Whole algorithm.ipynb",
      "provenance": [],
      "collapsed_sections": []
    },
    "kernelspec": {
      "name": "python3",
      "display_name": "Python 3"
    },
    "accelerator": "GPU"
  },
  "cells": [
    {
      "cell_type": "markdown",
      "metadata": {
        "id": "T4msNAfHwsAK"
      },
      "source": [
        "## Summary of the progress:\r\n",
        "- Randomly choose 100000 data points from the data snippet. \r\n",
        "- Construct the contexts and the reward vectors.\r\n",
        "- Run the ContextualBandit: for every 1000 contexts seen, the following steps are done:\r\n",
        "    1. Run the algorithm(in this example it is LinUCB), store the 1000 seen rewards together with their contexts.\r\n",
        "    2. Then train the Wide and Deep model on these 1000 data points for 10 epoches.\r\n",
        "    3. Then update the algorithm's parameters (For LinUCB, they are A matrix and B vector) according to all the historical data points in order to keep the algorithm's knowledge by far.\r\n",
        "    4. Output the time spent on this 1000 data points. \r\n",
        "\r\n",
        "- finally plot the cumulative rewards, and print the accuracy."
      ]
    },
    {
      "cell_type": "code",
      "metadata": {
        "id": "rhKBSWlPeQjF"
      },
      "source": [
        "import torch\r\n",
        "import torch.nn as nn\r\n",
        "import torch.optim as optim\r\n",
        "import numpy as np\r\n",
        "import time\r\n",
        "from collections import OrderedDict\r\n",
        "\r\n",
        "class Wide_Deep(nn.Module):\r\n",
        "    def __init__(self, wide_dim, deep_dim, action_dim, embeddings={}, deep_neurons=[32, 16], activation=nn.ReLU()):\r\n",
        "        \r\n",
        "        super(Wide_Deep, self).__init__()\r\n",
        "        self.wide_dim = wide_dim\r\n",
        "        self.deep_dim = deep_dim\r\n",
        "        self.context_dim = wide_dim + deep_dim\r\n",
        "        self.action_dim = action_dim\r\n",
        "        self.deep_neurons = deep_neurons\r\n",
        "\r\n",
        "        self.add_module('wide', nn.Module())\r\n",
        "        self.add_module('deep', nn.Module())\r\n",
        "\r\n",
        "        dims = {'wide':wide_dim, 'deep':deep_dim}\r\n",
        "        for name, child_module in self.named_children():\r\n",
        "            if name in embeddings.keys():\r\n",
        "                assert dims[name] >= len(embeddings[name]), \"Number of {} embedding features defined in embeddings should not more than {}_dim.\".format(name, name)\r\n",
        "                for embed in embeddings[name]:\r\n",
        "                    child_module.add_module(embed[0], nn.Embedding(embed[1], embed[2]))\r\n",
        "                    dims[name] += -1\r\n",
        "                    dims[name] += embed[2]  \r\n",
        "        self.dims = dims\r\n",
        "\r\n",
        "        if self.dims['deep'] == 0:\r\n",
        "            assert (self.dims['wide'] > 0), \"Both wide_dim and deep_dim are 0, at least one of them needs a positive value.\" \r\n",
        "            print(\"This is a wide-only model.\")\r\n",
        "            self.z_dim = self.dims['wide']\r\n",
        "        else:\r\n",
        "            if self.dims['wide'] == 0:\r\n",
        "                print(\"This is a deep-only model.\")\r\n",
        "            else:\r\n",
        "                print(\"This is a wide and deep model.\")\r\n",
        "            assert len(deep_neurons) > 0, \"deep_neurons must not be empty for the deep part.\"\r\n",
        "            deep_layers = OrderedDict()\r\n",
        "            layer_in = self.dims['deep']\r\n",
        "            for i, layer_out in enumerate(deep_neurons):\r\n",
        "                deep_layers['fc{}'.format(i)] = nn.Linear(layer_in, layer_out)\r\n",
        "                deep_layers['activ{}'.format(i)] = activation\r\n",
        "                layer_in = layer_out\r\n",
        "            self.deep.add_module('NN', nn.Sequential(deep_layers))\r\n",
        "            self.z_dim = self.dims['wide'] + deep_neurons[-1]\r\n",
        "\r\n",
        "        self.lastlayer = nn.Linear(self.z_dim, self.action_dim)\r\n",
        "\r\n",
        "    def get_z(self, x):\r\n",
        "        inputs = {'wide':x[:, :self.wide_dim], 'deep':x[:, self.wide_dim:]}\r\n",
        "        \r\n",
        "        after_embed = {}\r\n",
        "        for name, module in self.named_children():\r\n",
        "            if name not in ['wide', 'deep']:\r\n",
        "                break;\r\n",
        "            i = 0\r\n",
        "            for child in module.children():\r\n",
        "                if 'Embedding' in torch.typename(child):\r\n",
        "                    if name not in after_embed:\r\n",
        "                        after_embed[name] = child(inputs[name][:, i].long())\r\n",
        "                        i += 1\r\n",
        "                    else:\r\n",
        "                        after_embed[name] = torch.cat((after_embed[name], child(inputs[name][:, i].long())), dim=1)\r\n",
        "                        i += 1 \r\n",
        "            if name not in after_embed:\r\n",
        "                after_embed[name] = inputs[name]\r\n",
        "            else:\r\n",
        "                after_embed[name] = torch.cat((after_embed[name], inputs[name][:, i:]), dim=1)\r\n",
        "\r\n",
        "        if self.dims['deep'] == 0:\r\n",
        "            z = after_embed['wide']\r\n",
        "        elif self.dims['wide'] == 0:\r\n",
        "            z = self.deep.NN(after_embed['deep'])\r\n",
        "        else:\r\n",
        "            z = torch.cat((after_embed['wide'], self.deep.NN(after_embed['deep'])), dim=1)\r\n",
        "        \r\n",
        "        return z\r\n",
        "\r\n",
        "    def forward(self, x):\r\n",
        "        z = self.get_z(x)\r\n",
        "        out = self.lastlayer(z)\r\n",
        "        return out\r\n",
        "                \r\n",
        "\r\n",
        "class ContextualBandit():\r\n",
        "    \r\n",
        "    def __init__(self, device, model, optimizer, loss_func, algorithm):\r\n",
        "        self.device = device\r\n",
        "        self.model = model.to(device)\r\n",
        "        self.context_dim = model.context_dim\r\n",
        "        self.z_dim = model.z_dim\r\n",
        "        self.action_dim = model.action_dim\r\n",
        "        self.optimizer = optimizer\r\n",
        "        self.loss_func = loss_func\r\n",
        "        self.algorithm = algorithm\r\n",
        "        self.reset()\r\n",
        "        \r\n",
        "    def reset(self):\r\n",
        "        self.dataset = []\r\n",
        "    \r\n",
        "    def observe_data(self, context_source):\r\n",
        "        x_t = np.array(context_source)\r\n",
        "        assert x_t.shape == (self.action_dim, self.context_dim)\r\n",
        "        return x_t \r\n",
        "    \r\n",
        "    def get_reward(self, reward_source, a_t):\r\n",
        "        r_t = float(reward_source[a_t])\r\n",
        "        return r_t\r\n",
        "\r\n",
        "    def run(self, context_source, reward_source):\r\n",
        "        x_t = self.observe_data(context_source) # x_t np.array size=(action_dim, context_dim)\r\n",
        "        x_t_tensor = torch.tensor(x_t).float().to(self.device)\r\n",
        "        z_t = self.model.get_z(x_t_tensor).detach().cpu().numpy() # z_t np.array size=(action_dim, context_dim)\r\n",
        "        a_t = self.algorithm.select_action(z_t) # a_t int range (0, action_dim)\r\n",
        "        r_t = self.get_reward(reward_source, a_t) # r_t float either from an online simulation or from a reward vertor(size=action_dim)  \r\n",
        "        data = (x_t[a_t], z_t[a_t], a_t, r_t)\r\n",
        "        self.dataset.append(data)\r\n",
        "        self.algorithm.update(data) # update selection strategy (parameters of algorithm)\r\n",
        "        \r\n",
        "        return a_t\r\n",
        "    \r\n",
        "    def train(self, start_index=0, batch_size=16, num_epoch=100):\r\n",
        "        # prepare dataset and dataloader for training\r\n",
        "        train_dataset = BanditDataset(self.dataset[start_index:])\r\n",
        "        train_dataloader = torch.utils.data.DataLoader(dataset=train_dataset, batch_size=batch_size, shuffle=True)\r\n",
        "        # train num_epoch epoches\r\n",
        "        for i in range(num_epoch):\r\n",
        "            for data_batch in train_dataloader:\r\n",
        "                contexts, _, actions, rewards = data_batch\r\n",
        "                contexts = contexts.float().to(self.device)\r\n",
        "                actions = actions.long().to(self.device)\r\n",
        "                rewards = rewards.float().to(self.device)\r\n",
        "                outputs = model(contexts)\r\n",
        "                pred_rewards = outputs[range(outputs.shape[0]),actions]\r\n",
        "                loss = self.loss_func(pred_rewards, rewards)\r\n",
        "                self.optimizer.zero_grad()\r\n",
        "                loss.backward()\r\n",
        "                self.optimizer.step()                \r\n",
        "        # update algorithm's parameters after training\r\n",
        "        self.algorithm.reset()\r\n",
        "        for data in self.dataset:\r\n",
        "            x_t_a_t, _, a_t, r_t = data\r\n",
        "            x_t_a_t_tensor = torch.tensor(x_t_a_t).float().unsqueeze(0).to(self.device)\r\n",
        "            with torch.no_grad():\r\n",
        "                z_t_a_t = self.model.get_z(x_t_a_t_tensor).detach().cpu().numpy().reshape(-1)\r\n",
        "            self.algorithm.update((x_t_a_t, z_t_a_t, a_t, r_t))\r\n",
        "    \r\n",
        "class BanditDataset(torch.utils.data.Dataset):\r\n",
        "    \r\n",
        "    def __init__(self, raw_dataset):\r\n",
        "        self.dataset = raw_dataset\r\n",
        "        \r\n",
        "    def __getitem__(self, index):\r\n",
        "        context, z, action, reward = self.dataset[index]\r\n",
        "        return np.array(context), np.array(z), action, reward\r\n",
        "    \r\n",
        "    def __len__(self):\r\n",
        "        return len(self.dataset)\r\n",
        "    \r\n",
        "class LinUCB():\r\n",
        "    \r\n",
        "    def __init__(self, z_dim, action_dim, delta=0.05):\r\n",
        "        self.action_dim = action_dim\r\n",
        "        self.z_dim = z_dim\r\n",
        "        self.alpha = 1.0 + np.sqrt(np.log(2 / delta) / 2)\r\n",
        "        self.reset()\r\n",
        "    \r\n",
        "    def reset(self):\r\n",
        "        self.A = [np.eye(self.z_dim) for i in range(self.action_dim)]\r\n",
        "        self.b = [np.zeros(self.z_dim) for i in range(self.action_dim)]\r\n",
        "    \r\n",
        "    def select_action(self, z_t):\r\n",
        "        theta = np.zeros((self.action_dim, self.z_dim))\r\n",
        "        ucb = np.zeros(self.action_dim)\r\n",
        "        for a in range(self.action_dim):\r\n",
        "            A_inv = np.linalg.inv(self.A[a])\r\n",
        "            theta[a] = np.dot(A_inv, self.b[a])\r\n",
        "            ucb[a] = np.dot(z_t[a], theta[a]) + self.alpha * np.sqrt(np.dot(np.dot(z_t[a], A_inv), z_t[a]))\r\n",
        "        \r\n",
        "        return np.argmax(ucb)\r\n",
        "    \r\n",
        "    def update(self, data):\r\n",
        "        _, z_t_a_t, a_t, r_t = data\r\n",
        "        assert z_t_a_t.shape == (self.z_dim, )\r\n",
        "        assert type(a_t) == np.int64\r\n",
        "        assert type(r_t) == float\r\n",
        "        self.A[a_t] += np.dot(z_t_a_t.reshape((self.z_dim, 1)), z_t_a_t.reshape((1, self.z_dim)))\r\n",
        "        self.b[a_t] += r_t * z_t_a_t\r\n",
        "    \r\n",
        "    \r\n",
        "class TS():\r\n",
        "    \r\n",
        "    def __init__(self, z_dim, action_dim, beta=0.0):\r\n",
        "        pass\r\n",
        "    \r\n",
        "    def reset(self):\r\n",
        "        pass\r\n",
        "    \r\n",
        "    def select_action(self, z_t):\r\n",
        "        pass\r\n",
        "    \r\n",
        "    def update(self, data):\r\n",
        "        pass\r\n"
      ],
      "execution_count": 3,
      "outputs": []
    },
    {
      "cell_type": "code",
      "metadata": {
        "colab": {
          "base_uri": "https://localhost:8080/"
        },
        "id": "dnww6BW4b7Yz",
        "outputId": "fedd1136-0503-4067-caba-4f942781c8e2"
      },
      "source": [
        "from google.colab import drive\n",
        "drive.mount('/content/drive')"
      ],
      "execution_count": 2,
      "outputs": [
        {
          "output_type": "stream",
          "text": [
            "Drive already mounted at /content/drive; to attempt to forcibly remount, call drive.mount(\"/content/drive\", force_remount=True).\n"
          ],
          "name": "stdout"
        }
      ]
    },
    {
      "cell_type": "code",
      "metadata": {
        "colab": {
          "base_uri": "https://localhost:8080/",
          "height": 204
        },
        "id": "WkoDW55iVEZf",
        "outputId": "2ccc1c47-f024-41d1-9f4b-f2a720a9cfc1"
      },
      "source": [
        "import pandas as pd\r\n",
        "import numpy as np\r\n",
        "file_path = \"/content/drive/MyDrive/Fellowship.AI/P1_bandit/data_snippet.csv\"\r\n",
        "df = pd.read_csv(file_path)\r\n",
        "df.head()"
      ],
      "execution_count": 4,
      "outputs": [
        {
          "output_type": "execute_result",
          "data": {
            "text/html": [
              "<div>\n",
              "<style scoped>\n",
              "    .dataframe tbody tr th:only-of-type {\n",
              "        vertical-align: middle;\n",
              "    }\n",
              "\n",
              "    .dataframe tbody tr th {\n",
              "        vertical-align: top;\n",
              "    }\n",
              "\n",
              "    .dataframe thead th {\n",
              "        text-align: right;\n",
              "    }\n",
              "</style>\n",
              "<table border=\"1\" class=\"dataframe\">\n",
              "  <thead>\n",
              "    <tr style=\"text-align: right;\">\n",
              "      <th></th>\n",
              "      <th>riid</th>\n",
              "      <th>opened</th>\n",
              "      <th>rev_3dv2</th>\n",
              "      <th>unsub</th>\n",
              "      <th>campaign_type</th>\n",
              "      <th>retention_score</th>\n",
              "      <th>recency_score</th>\n",
              "      <th>frequency_score</th>\n",
              "    </tr>\n",
              "  </thead>\n",
              "  <tbody>\n",
              "    <tr>\n",
              "      <th>0</th>\n",
              "      <td>242697842</td>\n",
              "      <td>1</td>\n",
              "      <td>75.00</td>\n",
              "      <td>0</td>\n",
              "      <td>Dedicated</td>\n",
              "      <td>14.000000</td>\n",
              "      <td>1.637422</td>\n",
              "      <td>31</td>\n",
              "    </tr>\n",
              "    <tr>\n",
              "      <th>1</th>\n",
              "      <td>275469002</td>\n",
              "      <td>1</td>\n",
              "      <td>75.00</td>\n",
              "      <td>0</td>\n",
              "      <td>Dedicated</td>\n",
              "      <td>2.800000</td>\n",
              "      <td>0.000000</td>\n",
              "      <td>0</td>\n",
              "    </tr>\n",
              "    <tr>\n",
              "      <th>2</th>\n",
              "      <td>4319542</td>\n",
              "      <td>1</td>\n",
              "      <td>19.98</td>\n",
              "      <td>0</td>\n",
              "      <td>Dedicated</td>\n",
              "      <td>1.000000</td>\n",
              "      <td>0.084239</td>\n",
              "      <td>4</td>\n",
              "    </tr>\n",
              "    <tr>\n",
              "      <th>3</th>\n",
              "      <td>166170102</td>\n",
              "      <td>1</td>\n",
              "      <td>19.98</td>\n",
              "      <td>0</td>\n",
              "      <td>Dedicated</td>\n",
              "      <td>0.756757</td>\n",
              "      <td>0.010870</td>\n",
              "      <td>1</td>\n",
              "    </tr>\n",
              "    <tr>\n",
              "      <th>4</th>\n",
              "      <td>6998482</td>\n",
              "      <td>1</td>\n",
              "      <td>150.00</td>\n",
              "      <td>0</td>\n",
              "      <td>Dedicated</td>\n",
              "      <td>28.000000</td>\n",
              "      <td>1.845885</td>\n",
              "      <td>18</td>\n",
              "    </tr>\n",
              "  </tbody>\n",
              "</table>\n",
              "</div>"
            ],
            "text/plain": [
              "        riid  opened  rev_3dv2  ...  retention_score recency_score  frequency_score\n",
              "0  242697842       1     75.00  ...        14.000000      1.637422               31\n",
              "1  275469002       1     75.00  ...         2.800000      0.000000                0\n",
              "2    4319542       1     19.98  ...         1.000000      0.084239                4\n",
              "3  166170102       1     19.98  ...         0.756757      0.010870                1\n",
              "4    6998482       1    150.00  ...        28.000000      1.845885               18\n",
              "\n",
              "[5 rows x 8 columns]"
            ]
          },
          "metadata": {
            "tags": []
          },
          "execution_count": 4
        }
      ]
    },
    {
      "cell_type": "code",
      "metadata": {
        "colab": {
          "base_uri": "https://localhost:8080/"
        },
        "id": "VY72wwmCZZOX",
        "outputId": "5d3109b8-176c-454d-d711-6f575c4ba850"
      },
      "source": [
        "len(df)"
      ],
      "execution_count": 5,
      "outputs": [
        {
          "output_type": "execute_result",
          "data": {
            "text/plain": [
              "6240490"
            ]
          },
          "metadata": {
            "tags": []
          },
          "execution_count": 5
        }
      ]
    },
    {
      "cell_type": "code",
      "metadata": {
        "id": "Q26m4nfHi0Y5"
      },
      "source": [
        "num_data = 100000\r\n",
        "indices = np.random.choice(len(df),size=num_data)\r\n",
        "df_subset = df.iloc[indices]"
      ],
      "execution_count": 6,
      "outputs": []
    },
    {
      "cell_type": "code",
      "metadata": {
        "id": "aBmGyVObZC_F"
      },
      "source": [
        "vocab = {riid:i for i, riid in enumerate(df_subset.riid.unique())}"
      ],
      "execution_count": 7,
      "outputs": []
    },
    {
      "cell_type": "code",
      "metadata": {
        "colab": {
          "base_uri": "https://localhost:8080/"
        },
        "id": "4MohzyBqe17A",
        "outputId": "e3a2f521-a108-4fc0-9087-7e9ca908e6f0"
      },
      "source": [
        "len(vocab)"
      ],
      "execution_count": 8,
      "outputs": [
        {
          "output_type": "execute_result",
          "data": {
            "text/plain": [
              "87736"
            ]
          },
          "metadata": {
            "tags": []
          },
          "execution_count": 8
        }
      ]
    },
    {
      "cell_type": "code",
      "metadata": {
        "id": "SVyDfnE2ZTz_"
      },
      "source": [
        "user_ids = df_subset.riid.apply(lambda x:vocab[x])\r\n",
        "c_t = pd.get_dummies(df_subset.campaign_type)"
      ],
      "execution_count": 9,
      "outputs": []
    },
    {
      "cell_type": "code",
      "metadata": {
        "id": "AeRlUSQ3Z8kh"
      },
      "source": [
        "datasource = pd.DataFrame()\r\n",
        "datasource['user_ids'] = user_ids"
      ],
      "execution_count": 10,
      "outputs": []
    },
    {
      "cell_type": "code",
      "metadata": {
        "id": "kwfGYpUKbMtf"
      },
      "source": [
        "datasource = pd.concat((datasource, c_t),axis=1)"
      ],
      "execution_count": 11,
      "outputs": []
    },
    {
      "cell_type": "code",
      "metadata": {
        "id": "VH0a-jHqbaHv"
      },
      "source": [
        "datasource[[\"retention_score\",\t\"recency_score\",\t\"frequency_score\"]] = df_subset[[\"retention_score\",\t\"recency_score\",\t\"frequency_score\"]]"
      ],
      "execution_count": 12,
      "outputs": []
    },
    {
      "cell_type": "code",
      "metadata": {
        "colab": {
          "base_uri": "https://localhost:8080/",
          "height": 419
        },
        "id": "MQrrwcfubqqk",
        "outputId": "80ebb0e5-4741-476c-b4a6-553de3c8f86d"
      },
      "source": [
        "datasource"
      ],
      "execution_count": 13,
      "outputs": [
        {
          "output_type": "execute_result",
          "data": {
            "text/html": [
              "<div>\n",
              "<style scoped>\n",
              "    .dataframe tbody tr th:only-of-type {\n",
              "        vertical-align: middle;\n",
              "    }\n",
              "\n",
              "    .dataframe tbody tr th {\n",
              "        vertical-align: top;\n",
              "    }\n",
              "\n",
              "    .dataframe thead th {\n",
              "        text-align: right;\n",
              "    }\n",
              "</style>\n",
              "<table border=\"1\" class=\"dataframe\">\n",
              "  <thead>\n",
              "    <tr style=\"text-align: right;\">\n",
              "      <th></th>\n",
              "      <th>user_ids</th>\n",
              "      <th>Brand</th>\n",
              "      <th>Collection</th>\n",
              "      <th>Core</th>\n",
              "      <th>Dedicated</th>\n",
              "      <th>Innovation Spotlight</th>\n",
              "      <th>New Arrivals</th>\n",
              "      <th>Other</th>\n",
              "      <th>Product Spotlight</th>\n",
              "      <th>Replen</th>\n",
              "      <th>Tops</th>\n",
              "      <th>Trend</th>\n",
              "      <th>retention_score</th>\n",
              "      <th>recency_score</th>\n",
              "      <th>frequency_score</th>\n",
              "    </tr>\n",
              "  </thead>\n",
              "  <tbody>\n",
              "    <tr>\n",
              "      <th>2504873</th>\n",
              "      <td>0</td>\n",
              "      <td>0</td>\n",
              "      <td>0</td>\n",
              "      <td>0</td>\n",
              "      <td>1</td>\n",
              "      <td>0</td>\n",
              "      <td>0</td>\n",
              "      <td>0</td>\n",
              "      <td>0</td>\n",
              "      <td>0</td>\n",
              "      <td>0</td>\n",
              "      <td>0</td>\n",
              "      <td>28.0</td>\n",
              "      <td>2.286491</td>\n",
              "      <td>38</td>\n",
              "    </tr>\n",
              "    <tr>\n",
              "      <th>4053721</th>\n",
              "      <td>1</td>\n",
              "      <td>0</td>\n",
              "      <td>0</td>\n",
              "      <td>0</td>\n",
              "      <td>1</td>\n",
              "      <td>0</td>\n",
              "      <td>0</td>\n",
              "      <td>0</td>\n",
              "      <td>0</td>\n",
              "      <td>0</td>\n",
              "      <td>0</td>\n",
              "      <td>0</td>\n",
              "      <td>0.7</td>\n",
              "      <td>0.010870</td>\n",
              "      <td>1</td>\n",
              "    </tr>\n",
              "    <tr>\n",
              "      <th>6038640</th>\n",
              "      <td>2</td>\n",
              "      <td>0</td>\n",
              "      <td>0</td>\n",
              "      <td>0</td>\n",
              "      <td>0</td>\n",
              "      <td>0</td>\n",
              "      <td>0</td>\n",
              "      <td>0</td>\n",
              "      <td>0</td>\n",
              "      <td>0</td>\n",
              "      <td>0</td>\n",
              "      <td>1</td>\n",
              "      <td>28.0</td>\n",
              "      <td>4.077834</td>\n",
              "      <td>50</td>\n",
              "    </tr>\n",
              "    <tr>\n",
              "      <th>887277</th>\n",
              "      <td>3</td>\n",
              "      <td>0</td>\n",
              "      <td>0</td>\n",
              "      <td>0</td>\n",
              "      <td>0</td>\n",
              "      <td>0</td>\n",
              "      <td>0</td>\n",
              "      <td>0</td>\n",
              "      <td>1</td>\n",
              "      <td>0</td>\n",
              "      <td>0</td>\n",
              "      <td>0</td>\n",
              "      <td>28.0</td>\n",
              "      <td>1.660132</td>\n",
              "      <td>48</td>\n",
              "    </tr>\n",
              "    <tr>\n",
              "      <th>1493858</th>\n",
              "      <td>4</td>\n",
              "      <td>1</td>\n",
              "      <td>0</td>\n",
              "      <td>0</td>\n",
              "      <td>0</td>\n",
              "      <td>0</td>\n",
              "      <td>0</td>\n",
              "      <td>0</td>\n",
              "      <td>0</td>\n",
              "      <td>0</td>\n",
              "      <td>0</td>\n",
              "      <td>0</td>\n",
              "      <td>28.0</td>\n",
              "      <td>4.900427</td>\n",
              "      <td>78</td>\n",
              "    </tr>\n",
              "    <tr>\n",
              "      <th>...</th>\n",
              "      <td>...</td>\n",
              "      <td>...</td>\n",
              "      <td>...</td>\n",
              "      <td>...</td>\n",
              "      <td>...</td>\n",
              "      <td>...</td>\n",
              "      <td>...</td>\n",
              "      <td>...</td>\n",
              "      <td>...</td>\n",
              "      <td>...</td>\n",
              "      <td>...</td>\n",
              "      <td>...</td>\n",
              "      <td>...</td>\n",
              "      <td>...</td>\n",
              "      <td>...</td>\n",
              "    </tr>\n",
              "    <tr>\n",
              "      <th>1176854</th>\n",
              "      <td>87732</td>\n",
              "      <td>0</td>\n",
              "      <td>0</td>\n",
              "      <td>0</td>\n",
              "      <td>0</td>\n",
              "      <td>0</td>\n",
              "      <td>0</td>\n",
              "      <td>0</td>\n",
              "      <td>0</td>\n",
              "      <td>0</td>\n",
              "      <td>0</td>\n",
              "      <td>1</td>\n",
              "      <td>28.0</td>\n",
              "      <td>3.608113</td>\n",
              "      <td>67</td>\n",
              "    </tr>\n",
              "    <tr>\n",
              "      <th>2577873</th>\n",
              "      <td>87733</td>\n",
              "      <td>0</td>\n",
              "      <td>0</td>\n",
              "      <td>0</td>\n",
              "      <td>1</td>\n",
              "      <td>0</td>\n",
              "      <td>0</td>\n",
              "      <td>0</td>\n",
              "      <td>0</td>\n",
              "      <td>0</td>\n",
              "      <td>0</td>\n",
              "      <td>0</td>\n",
              "      <td>28.0</td>\n",
              "      <td>4.888393</td>\n",
              "      <td>14</td>\n",
              "    </tr>\n",
              "    <tr>\n",
              "      <th>4755602</th>\n",
              "      <td>25052</td>\n",
              "      <td>0</td>\n",
              "      <td>0</td>\n",
              "      <td>1</td>\n",
              "      <td>0</td>\n",
              "      <td>0</td>\n",
              "      <td>0</td>\n",
              "      <td>0</td>\n",
              "      <td>0</td>\n",
              "      <td>0</td>\n",
              "      <td>0</td>\n",
              "      <td>0</td>\n",
              "      <td>28.0</td>\n",
              "      <td>4.756988</td>\n",
              "      <td>42</td>\n",
              "    </tr>\n",
              "    <tr>\n",
              "      <th>3063729</th>\n",
              "      <td>87734</td>\n",
              "      <td>0</td>\n",
              "      <td>0</td>\n",
              "      <td>0</td>\n",
              "      <td>0</td>\n",
              "      <td>0</td>\n",
              "      <td>0</td>\n",
              "      <td>0</td>\n",
              "      <td>0</td>\n",
              "      <td>1</td>\n",
              "      <td>0</td>\n",
              "      <td>0</td>\n",
              "      <td>28.0</td>\n",
              "      <td>7.209239</td>\n",
              "      <td>69</td>\n",
              "    </tr>\n",
              "    <tr>\n",
              "      <th>974716</th>\n",
              "      <td>87735</td>\n",
              "      <td>1</td>\n",
              "      <td>0</td>\n",
              "      <td>0</td>\n",
              "      <td>0</td>\n",
              "      <td>0</td>\n",
              "      <td>0</td>\n",
              "      <td>0</td>\n",
              "      <td>0</td>\n",
              "      <td>0</td>\n",
              "      <td>0</td>\n",
              "      <td>0</td>\n",
              "      <td>14.0</td>\n",
              "      <td>1.283967</td>\n",
              "      <td>20</td>\n",
              "    </tr>\n",
              "  </tbody>\n",
              "</table>\n",
              "<p>100000 rows × 15 columns</p>\n",
              "</div>"
            ],
            "text/plain": [
              "         user_ids  Brand  ...  recency_score  frequency_score\n",
              "2504873         0      0  ...       2.286491               38\n",
              "4053721         1      0  ...       0.010870                1\n",
              "6038640         2      0  ...       4.077834               50\n",
              "887277          3      0  ...       1.660132               48\n",
              "1493858         4      1  ...       4.900427               78\n",
              "...           ...    ...  ...            ...              ...\n",
              "1176854     87732      0  ...       3.608113               67\n",
              "2577873     87733      0  ...       4.888393               14\n",
              "4755602     25052      0  ...       4.756988               42\n",
              "3063729     87734      0  ...       7.209239               69\n",
              "974716      87735      1  ...       1.283967               20\n",
              "\n",
              "[100000 rows x 15 columns]"
            ]
          },
          "metadata": {
            "tags": []
          },
          "execution_count": 13
        }
      ]
    },
    {
      "cell_type": "code",
      "metadata": {
        "id": "ghLBFVtpbwHx"
      },
      "source": [
        "rewardsource = pd.DataFrame()\r\n",
        "rewardsource[\"reward_send\"] = df_subset.opened * 1.2 - 0.2 + (df_subset.rev_3dv2 > 0) + df_subset.rev_3dv2/75.0 - 5.0*df_subset.unsub\r\n",
        "rewardsource[\"reward_not_send\"] = -rewardsource[\"reward_send\"]"
      ],
      "execution_count": 14,
      "outputs": []
    },
    {
      "cell_type": "code",
      "metadata": {
        "colab": {
          "base_uri": "https://localhost:8080/",
          "height": 419
        },
        "id": "YsgwSNeFd3Qj",
        "outputId": "4dda036d-01c7-4d6c-b9f5-ed636e8862c7"
      },
      "source": [
        "rewardsource"
      ],
      "execution_count": 15,
      "outputs": [
        {
          "output_type": "execute_result",
          "data": {
            "text/html": [
              "<div>\n",
              "<style scoped>\n",
              "    .dataframe tbody tr th:only-of-type {\n",
              "        vertical-align: middle;\n",
              "    }\n",
              "\n",
              "    .dataframe tbody tr th {\n",
              "        vertical-align: top;\n",
              "    }\n",
              "\n",
              "    .dataframe thead th {\n",
              "        text-align: right;\n",
              "    }\n",
              "</style>\n",
              "<table border=\"1\" class=\"dataframe\">\n",
              "  <thead>\n",
              "    <tr style=\"text-align: right;\">\n",
              "      <th></th>\n",
              "      <th>reward_send</th>\n",
              "      <th>reward_not_send</th>\n",
              "    </tr>\n",
              "  </thead>\n",
              "  <tbody>\n",
              "    <tr>\n",
              "      <th>2504873</th>\n",
              "      <td>1.0</td>\n",
              "      <td>-1.0</td>\n",
              "    </tr>\n",
              "    <tr>\n",
              "      <th>4053721</th>\n",
              "      <td>-0.2</td>\n",
              "      <td>0.2</td>\n",
              "    </tr>\n",
              "    <tr>\n",
              "      <th>6038640</th>\n",
              "      <td>-0.2</td>\n",
              "      <td>0.2</td>\n",
              "    </tr>\n",
              "    <tr>\n",
              "      <th>887277</th>\n",
              "      <td>1.0</td>\n",
              "      <td>-1.0</td>\n",
              "    </tr>\n",
              "    <tr>\n",
              "      <th>1493858</th>\n",
              "      <td>1.0</td>\n",
              "      <td>-1.0</td>\n",
              "    </tr>\n",
              "    <tr>\n",
              "      <th>...</th>\n",
              "      <td>...</td>\n",
              "      <td>...</td>\n",
              "    </tr>\n",
              "    <tr>\n",
              "      <th>1176854</th>\n",
              "      <td>1.0</td>\n",
              "      <td>-1.0</td>\n",
              "    </tr>\n",
              "    <tr>\n",
              "      <th>2577873</th>\n",
              "      <td>1.0</td>\n",
              "      <td>-1.0</td>\n",
              "    </tr>\n",
              "    <tr>\n",
              "      <th>4755602</th>\n",
              "      <td>1.0</td>\n",
              "      <td>-1.0</td>\n",
              "    </tr>\n",
              "    <tr>\n",
              "      <th>3063729</th>\n",
              "      <td>1.0</td>\n",
              "      <td>-1.0</td>\n",
              "    </tr>\n",
              "    <tr>\n",
              "      <th>974716</th>\n",
              "      <td>1.0</td>\n",
              "      <td>-1.0</td>\n",
              "    </tr>\n",
              "  </tbody>\n",
              "</table>\n",
              "<p>100000 rows × 2 columns</p>\n",
              "</div>"
            ],
            "text/plain": [
              "         reward_send  reward_not_send\n",
              "2504873          1.0             -1.0\n",
              "4053721         -0.2              0.2\n",
              "6038640         -0.2              0.2\n",
              "887277           1.0             -1.0\n",
              "1493858          1.0             -1.0\n",
              "...              ...              ...\n",
              "1176854          1.0             -1.0\n",
              "2577873          1.0             -1.0\n",
              "4755602          1.0             -1.0\n",
              "3063729          1.0             -1.0\n",
              "974716           1.0             -1.0\n",
              "\n",
              "[100000 rows x 2 columns]"
            ]
          },
          "metadata": {
            "tags": []
          },
          "execution_count": 15
        }
      ]
    },
    {
      "cell_type": "code",
      "metadata": {
        "id": "swLZ47qcgFSr"
      },
      "source": [
        "opt_a = (rewardsource['reward_send'] < 0).astype(int)"
      ],
      "execution_count": 16,
      "outputs": []
    },
    {
      "cell_type": "code",
      "metadata": {
        "colab": {
          "base_uri": "https://localhost:8080/"
        },
        "id": "DgAqyRBUgdbE",
        "outputId": "9a7f2203-c7e6-4cae-9b1b-c98c5480c86c"
      },
      "source": [
        "opt_a"
      ],
      "execution_count": 17,
      "outputs": [
        {
          "output_type": "execute_result",
          "data": {
            "text/plain": [
              "2504873    0\n",
              "4053721    1\n",
              "6038640    1\n",
              "887277     0\n",
              "1493858    0\n",
              "          ..\n",
              "1176854    0\n",
              "2577873    0\n",
              "4755602    0\n",
              "3063729    0\n",
              "974716     0\n",
              "Name: reward_send, Length: 100000, dtype: int64"
            ]
          },
          "metadata": {
            "tags": []
          },
          "execution_count": 17
        }
      ]
    },
    {
      "cell_type": "code",
      "metadata": {
        "colab": {
          "base_uri": "https://localhost:8080/"
        },
        "id": "G6H_J1u-kuQy",
        "outputId": "c61bb58c-b083-4ae7-a0f6-f8d60c199011"
      },
      "source": [
        "device = \"cuda:0\" if torch.cuda.is_available() else \"cpu\"\r\n",
        "print(\"training on device: \", device)"
      ],
      "execution_count": 21,
      "outputs": [
        {
          "output_type": "stream",
          "text": [
            "training on device:  cuda:0\n"
          ],
          "name": "stdout"
        }
      ]
    },
    {
      "cell_type": "code",
      "metadata": {
        "id": "9ljb3WWMeUKg",
        "colab": {
          "base_uri": "https://localhost:8080/"
        },
        "outputId": "66a26c0a-a871-4677-b2c4-cfca2bf53eca"
      },
      "source": [
        "wide_dim = 1\r\n",
        "deep_dim = 14\r\n",
        "action_dim = 2\r\n",
        "embeddings={'wide':[['user_id', len(vocab), 64]]}\r\n",
        "\r\n",
        "model = Wide_Deep(wide_dim, deep_dim, action_dim, embeddings=embeddings, deep_neurons=[128, 64]).to(device)\r\n",
        "\r\n",
        "optimizer = optim.Adam(model.parameters(), lr=0.005)\r\n",
        "loss_func = nn.MSELoss()\r\n",
        "algorithm = LinUCB(model.z_dim, model.action_dim, delta=0.05)\r\n",
        "CB = ContextualBandit(device, model, optimizer, loss_func, algorithm)\r\n",
        "\r\n",
        "train_batch_size = 64\r\n",
        "num_epoch = 10\r\n",
        "train_every = 1000\r\n",
        "contexts = datasource.values\r\n",
        "reward_vectors = rewardsource.values\r\n",
        "opt_actions = opt_a.values\r\n",
        "\r\n",
        "train_start_index = 0\r\n",
        "start_time = time.time()\r\n",
        "pred_actions = []\r\n",
        "s_time = start_time\r\n",
        "for t in range(num_data):\r\n",
        "    context_source = np.array([contexts[t] for i in range(model.action_dim)])\r\n",
        "    reward_source = reward_vectors[t]\r\n",
        "    pred_a = CB.run(context_source, reward_source)\r\n",
        "    pred_actions.append(pred_a)\r\n",
        "    if (t+1) % train_every == 0:\r\n",
        "        CB.train(start_index=train_start_index, batch_size=train_batch_size, num_epoch=num_epoch)\r\n",
        "        train_start_index = t + 1\r\n",
        "        print(\"number of data seen: {:>6} \\t time used for previous {} data: {:.3f} sec\".format(t+1, train_every, (time.time() - s_time)))\r\n",
        "        s_time = time.time()\r\n",
        "end_time = time.time()\r\n",
        "total_time = end_time - start_time\r\n",
        "print(\"Total time used: {} hrs {} min {} sec\".format(int(total_time//3600), int((total_time%3600)//60), total_time%60))\r\n",
        "\r\n",
        "cum_rewards_pred_action = []\r\n",
        "cum_rewards_opt_action = []\r\n",
        "p_i = 0\r\n",
        "o_i = 0\r\n",
        "for i in range(num_data):\r\n",
        "    p_i += reward_vectors[i][pred_actions[i]]\r\n",
        "    o_i += reward_vectors[i][opt_actions[i]]\r\n",
        "    cum_rewards_pred_action.append(p_i)\r\n",
        "    cum_rewards_opt_action.append(o_i)"
      ],
      "execution_count": 24,
      "outputs": [
        {
          "output_type": "stream",
          "text": [
            "This is a wide and deep model.\n",
            "number of data seen:   1000 \t time used for previous 1000 data: 3.404 sec\n",
            "number of data seen:   2000 \t time used for previous 1000 data: 3.921 sec\n",
            "number of data seen:   3000 \t time used for previous 1000 data: 4.218 sec\n",
            "number of data seen:   4000 \t time used for previous 1000 data: 5.017 sec\n",
            "number of data seen:   5000 \t time used for previous 1000 data: 5.215 sec\n",
            "number of data seen:   6000 \t time used for previous 1000 data: 5.761 sec\n",
            "number of data seen:   7000 \t time used for previous 1000 data: 6.297 sec\n",
            "number of data seen:   8000 \t time used for previous 1000 data: 6.793 sec\n",
            "number of data seen:   9000 \t time used for previous 1000 data: 7.563 sec\n",
            "number of data seen:  10000 \t time used for previous 1000 data: 7.833 sec\n",
            "number of data seen:  11000 \t time used for previous 1000 data: 8.445 sec\n",
            "number of data seen:  12000 \t time used for previous 1000 data: 8.567 sec\n",
            "number of data seen:  13000 \t time used for previous 1000 data: 9.021 sec\n",
            "number of data seen:  14000 \t time used for previous 1000 data: 9.872 sec\n",
            "number of data seen:  15000 \t time used for previous 1000 data: 10.247 sec\n",
            "number of data seen:  16000 \t time used for previous 1000 data: 10.952 sec\n",
            "number of data seen:  17000 \t time used for previous 1000 data: 11.222 sec\n",
            "number of data seen:  18000 \t time used for previous 1000 data: 12.071 sec\n",
            "number of data seen:  19000 \t time used for previous 1000 data: 11.981 sec\n",
            "number of data seen:  20000 \t time used for previous 1000 data: 13.005 sec\n",
            "number of data seen:  21000 \t time used for previous 1000 data: 13.006 sec\n",
            "number of data seen:  22000 \t time used for previous 1000 data: 13.902 sec\n",
            "number of data seen:  23000 \t time used for previous 1000 data: 14.574 sec\n",
            "number of data seen:  24000 \t time used for previous 1000 data: 14.332 sec\n",
            "number of data seen:  25000 \t time used for previous 1000 data: 14.714 sec\n",
            "number of data seen:  26000 \t time used for previous 1000 data: 15.526 sec\n",
            "number of data seen:  27000 \t time used for previous 1000 data: 16.456 sec\n",
            "number of data seen:  28000 \t time used for previous 1000 data: 16.199 sec\n",
            "number of data seen:  29000 \t time used for previous 1000 data: 16.572 sec\n",
            "number of data seen:  30000 \t time used for previous 1000 data: 17.773 sec\n",
            "number of data seen:  31000 \t time used for previous 1000 data: 18.411 sec\n",
            "number of data seen:  32000 \t time used for previous 1000 data: 19.352 sec\n",
            "number of data seen:  33000 \t time used for previous 1000 data: 18.929 sec\n",
            "number of data seen:  34000 \t time used for previous 1000 data: 19.466 sec\n",
            "number of data seen:  35000 \t time used for previous 1000 data: 20.002 sec\n",
            "number of data seen:  36000 \t time used for previous 1000 data: 20.645 sec\n",
            "number of data seen:  37000 \t time used for previous 1000 data: 21.244 sec\n",
            "number of data seen:  38000 \t time used for previous 1000 data: 21.549 sec\n",
            "number of data seen:  39000 \t time used for previous 1000 data: 22.487 sec\n",
            "number of data seen:  40000 \t time used for previous 1000 data: 23.113 sec\n",
            "number of data seen:  41000 \t time used for previous 1000 data: 22.121 sec\n",
            "number of data seen:  42000 \t time used for previous 1000 data: 23.608 sec\n",
            "number of data seen:  43000 \t time used for previous 1000 data: 24.619 sec\n",
            "number of data seen:  44000 \t time used for previous 1000 data: 24.790 sec\n",
            "number of data seen:  45000 \t time used for previous 1000 data: 25.074 sec\n",
            "number of data seen:  46000 \t time used for previous 1000 data: 26.500 sec\n",
            "number of data seen:  47000 \t time used for previous 1000 data: 26.158 sec\n",
            "number of data seen:  48000 \t time used for previous 1000 data: 26.149 sec\n",
            "number of data seen:  49000 \t time used for previous 1000 data: 26.955 sec\n",
            "number of data seen:  50000 \t time used for previous 1000 data: 27.571 sec\n",
            "number of data seen:  51000 \t time used for previous 1000 data: 28.041 sec\n",
            "number of data seen:  52000 \t time used for previous 1000 data: 29.534 sec\n",
            "number of data seen:  53000 \t time used for previous 1000 data: 28.554 sec\n",
            "number of data seen:  54000 \t time used for previous 1000 data: 28.976 sec\n",
            "number of data seen:  55000 \t time used for previous 1000 data: 30.048 sec\n",
            "number of data seen:  56000 \t time used for previous 1000 data: 30.661 sec\n",
            "number of data seen:  57000 \t time used for previous 1000 data: 31.204 sec\n",
            "number of data seen:  58000 \t time used for previous 1000 data: 31.627 sec\n",
            "number of data seen:  59000 \t time used for previous 1000 data: 31.883 sec\n",
            "number of data seen:  60000 \t time used for previous 1000 data: 32.901 sec\n",
            "number of data seen:  61000 \t time used for previous 1000 data: 32.772 sec\n",
            "number of data seen:  62000 \t time used for previous 1000 data: 33.105 sec\n",
            "number of data seen:  63000 \t time used for previous 1000 data: 34.207 sec\n",
            "number of data seen:  64000 \t time used for previous 1000 data: 34.591 sec\n",
            "number of data seen:  65000 \t time used for previous 1000 data: 35.249 sec\n",
            "number of data seen:  66000 \t time used for previous 1000 data: 35.285 sec\n",
            "number of data seen:  67000 \t time used for previous 1000 data: 36.806 sec\n",
            "number of data seen:  68000 \t time used for previous 1000 data: 35.852 sec\n",
            "number of data seen:  69000 \t time used for previous 1000 data: 36.443 sec\n",
            "number of data seen:  70000 \t time used for previous 1000 data: 37.744 sec\n",
            "number of data seen:  71000 \t time used for previous 1000 data: 37.655 sec\n",
            "number of data seen:  72000 \t time used for previous 1000 data: 37.639 sec\n",
            "number of data seen:  73000 \t time used for previous 1000 data: 38.775 sec\n",
            "number of data seen:  74000 \t time used for previous 1000 data: 40.148 sec\n",
            "number of data seen:  75000 \t time used for previous 1000 data: 40.619 sec\n",
            "number of data seen:  76000 \t time used for previous 1000 data: 40.370 sec\n",
            "number of data seen:  77000 \t time used for previous 1000 data: 40.413 sec\n",
            "number of data seen:  78000 \t time used for previous 1000 data: 41.152 sec\n",
            "number of data seen:  79000 \t time used for previous 1000 data: 41.895 sec\n",
            "number of data seen:  80000 \t time used for previous 1000 data: 42.501 sec\n",
            "number of data seen:  81000 \t time used for previous 1000 data: 42.909 sec\n",
            "number of data seen:  82000 \t time used for previous 1000 data: 43.376 sec\n",
            "number of data seen:  83000 \t time used for previous 1000 data: 44.035 sec\n",
            "number of data seen:  84000 \t time used for previous 1000 data: 43.429 sec\n",
            "number of data seen:  85000 \t time used for previous 1000 data: 44.761 sec\n",
            "number of data seen:  86000 \t time used for previous 1000 data: 45.409 sec\n",
            "number of data seen:  87000 \t time used for previous 1000 data: 46.572 sec\n",
            "number of data seen:  88000 \t time used for previous 1000 data: 46.262 sec\n",
            "number of data seen:  89000 \t time used for previous 1000 data: 46.968 sec\n",
            "number of data seen:  90000 \t time used for previous 1000 data: 48.080 sec\n",
            "number of data seen:  91000 \t time used for previous 1000 data: 47.835 sec\n",
            "number of data seen:  92000 \t time used for previous 1000 data: 49.500 sec\n",
            "number of data seen:  93000 \t time used for previous 1000 data: 48.639 sec\n",
            "number of data seen:  94000 \t time used for previous 1000 data: 48.844 sec\n",
            "number of data seen:  95000 \t time used for previous 1000 data: 49.390 sec\n",
            "number of data seen:  96000 \t time used for previous 1000 data: 49.864 sec\n",
            "number of data seen:  97000 \t time used for previous 1000 data: 51.076 sec\n",
            "number of data seen:  98000 \t time used for previous 1000 data: 52.350 sec\n",
            "number of data seen:  99000 \t time used for previous 1000 data: 52.243 sec\n",
            "number of data seen: 100000 \t time used for previous 1000 data: 52.652 sec\n",
            "Total time used: -1 hrs 13 min 35.9398775100708 sec\n"
          ],
          "name": "stdout"
        }
      ]
    },
    {
      "cell_type": "code",
      "metadata": {
        "colab": {
          "base_uri": "https://localhost:8080/"
        },
        "id": "ONE-QJH4qiuz",
        "outputId": "3803062c-18a1-4857-802a-afc8bc766f0c"
      },
      "source": [
        "total_time = end_time - start_time\r\n",
        "print(\"Total time used: {} hrs {} min {} sec\".format(int(total_time//3600), int((total_time%3600)//60), total_time%60))"
      ],
      "execution_count": 25,
      "outputs": [
        {
          "output_type": "stream",
          "text": [
            "Total time used: 0 hrs 46 min 24.0601224899292 sec\n"
          ],
          "name": "stdout"
        }
      ]
    },
    {
      "cell_type": "code",
      "metadata": {
        "id": "15SjzxXHeV0q",
        "colab": {
          "base_uri": "https://localhost:8080/",
          "height": 279
        },
        "outputId": "15adeae5-fc5c-4104-c0b4-007d5e77f1ed"
      },
      "source": [
        "import matplotlib.pyplot as plt\r\n",
        "plt.plot(cum_rewards_pred_action, label = 'cum_rewards_pred_action')\r\n",
        "plt.plot(cum_rewards_opt_action, label = 'cum_rewards_opt_action')\r\n",
        "plt.legend()\r\n",
        "plt.xlabel('num data')\r\n",
        "_ = plt.ylabel('cum rewards')"
      ],
      "execution_count": 26,
      "outputs": [
        {
          "output_type": "display_data",
          "data": {
            "image/png": "[encoded data removed]",
            "text/plain": [
              "<Figure size 432x288 with 1 Axes>"
            ]
          },
          "metadata": {
            "tags": [],
            "needs_background": "light"
          }
        }
      ]
    },
    {
      "cell_type": "code",
      "metadata": {
        "id": "85a0LauFeXQP",
        "colab": {
          "base_uri": "https://localhost:8080/"
        },
        "outputId": "714d05ee-4409-406d-b8e7-ecdb3299abe3"
      },
      "source": [
        "np.sum(pred_actions == opt_actions)/num_data"
      ],
      "execution_count": 27,
      "outputs": [
        {
          "output_type": "execute_result",
          "data": {
            "text/plain": [
              "0.70715"
            ]
          },
          "metadata": {
            "tags": []
          },
          "execution_count": 27
        }
      ]
    },
    {
      "cell_type": "code",
      "metadata": {
        "id": "8NQ2GhvBqoSQ"
      },
      "source": [
        ""
      ],
      "execution_count": null,
      "outputs": []
    }
  ]
}