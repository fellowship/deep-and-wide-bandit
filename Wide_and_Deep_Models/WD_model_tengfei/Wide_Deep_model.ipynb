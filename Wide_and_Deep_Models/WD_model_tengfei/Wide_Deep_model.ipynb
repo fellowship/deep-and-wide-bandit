{
  "nbformat": 4,
  "nbformat_minor": 0,
  "metadata": {
    "colab": {
      "name": "WideDeep model.ipynb",
      "provenance": [],
      "collapsed_sections": []
    },
    "kernelspec": {
      "name": "python3",
      "display_name": "Python 3"
    }
  },
  "cells": [
    {
      "cell_type": "code",
      "metadata": {
        "id": "1TEu0CcJBr7y"
      },
      "source": [
        "import torch\r\n",
        "import torch.nn as nn\r\n",
        "from collections import OrderedDict\r\n",
        "\r\n",
        "class Wide_Deep(nn.Module):\r\n",
        "    def __init__(self, wide_dim, deep_dim, action_dim, embeddings={}, deep_neurons=[32, 16], activation=nn.ReLU()):\r\n",
        "        \r\n",
        "        super(Wide_Deep, self).__init__()\r\n",
        "        self.wide_dim = wide_dim\r\n",
        "        self.deep_dim = deep_dim\r\n",
        "        self.context_dim = wide_dim + deep_dim\r\n",
        "        self.action_dim = action_dim\r\n",
        "        self.deep_neurons = deep_neurons\r\n",
        "\r\n",
        "        self.add_module('wide', nn.Module())\r\n",
        "        self.add_module('deep', nn.Module())\r\n",
        "\r\n",
        "        dims = {'wide':wide_dim, 'deep':deep_dim}\r\n",
        "        for name, child_module in self.named_children():\r\n",
        "            if name in embeddings.keys():\r\n",
        "                assert dims[name] >= len(embeddings[name]), \"Number of {} embedding features defined in embeddings should not more than {}_dim.\".format(name, name)\r\n",
        "                for embed in embeddings[name]:\r\n",
        "                    child_module.add_module(embed[0], nn.Embedding(embed[1], embed[2]))\r\n",
        "                    dims[name] += -1\r\n",
        "                    dims[name] += embed[2]  \r\n",
        "        self.dims = dims\r\n",
        "\r\n",
        "        if self.dims['deep'] == 0:\r\n",
        "            assert (self.dims['wide'] > 0), \"Both wide_dim and deep_dim are 0, at least one of them needs a positive value.\" \r\n",
        "            print(\"This is a wide-only model.\")\r\n",
        "            self.z_dim = self.dims['wide']\r\n",
        "        else:\r\n",
        "            if self.dims['wide'] == 0:\r\n",
        "                print(\"This is a deep-only model.\")\r\n",
        "            else:\r\n",
        "                print(\"This is a wide and deep model.\")\r\n",
        "            assert len(deep_neurons) > 0, \"deep_neurons must not be empty for the deep part.\"\r\n",
        "            deep_layers = OrderedDict()\r\n",
        "            layer_in = self.dims['deep']\r\n",
        "            for i, layer_out in enumerate(deep_neurons):\r\n",
        "                deep_layers['fc{}'.format(i)] = nn.Linear(layer_in, layer_out)\r\n",
        "                deep_layers['activ{}'.format(i)] = activation\r\n",
        "                layer_in = layer_out\r\n",
        "            self.deep.add_module('NN', nn.Sequential(deep_layers))\r\n",
        "            self.z_dim = self.dims['wide'] + deep_neurons[-1]\r\n",
        "\r\n",
        "        self.lastlayer = nn.Linear(self.z_dim, self.action_dim)\r\n",
        "\r\n",
        "    def get_z(self, x):\r\n",
        "        inputs = {'wide':x[:, :self.wide_dim], 'deep':x[:, self.wide_dim:]}\r\n",
        "        \r\n",
        "        after_embed = {}\r\n",
        "        for name, module in self.named_children():\r\n",
        "            if name not in ['wide', 'deep']:\r\n",
        "                break;\r\n",
        "            i = 0\r\n",
        "            for child in module.children():\r\n",
        "                if 'Embedding' in torch.typename(child):\r\n",
        "                    if name not in after_embed:\r\n",
        "                        after_embed[name] = child(inputs[name][:, i].long())\r\n",
        "                        i += 1\r\n",
        "                    else:\r\n",
        "                        after_embed[name] = torch.cat((after_embed[name], child(inputs[name][:, i].long())), dim=1)\r\n",
        "                        i += 1 \r\n",
        "            if name not in after_embed:\r\n",
        "                after_embed[name] = inputs[name]\r\n",
        "            else:\r\n",
        "                after_embed[name] = torch.cat((after_embed[name], inputs[name][:, i:]), dim=1)\r\n",
        "\r\n",
        "        if self.dims['deep'] == 0:\r\n",
        "            z = after_embed['wide']\r\n",
        "        elif self.dims['wide'] == 0:\r\n",
        "            z = self.deep.NN(after_embed['deep'])\r\n",
        "        else:\r\n",
        "            z = torch.cat((after_embed['wide'], self.deep.NN(after_embed['deep'])), dim=1)\r\n",
        "        \r\n",
        "        return z\r\n",
        "\r\n",
        "    def forward(self, x):\r\n",
        "        z = self.get_z(x)\r\n",
        "        out = self.lastlayer(z)\r\n",
        "        return out\r\n",
        "                \r\n",
        "            "
      ],
      "execution_count": 122,
      "outputs": []
    },
    {
      "cell_type": "code",
      "metadata": {
        "colab": {
          "base_uri": "https://localhost:8080/"
        },
        "id": "SXFgRGyiQQXJ",
        "outputId": "30d26f9f-8af2-46e3-bcfd-f44c5b5471ec"
      },
      "source": [
        "embeddings={'wide':[['feature_1', 100, 64],\r\n",
        "                    ['feature_2', 200, 64]]\r\n",
        "            }\r\n",
        "\r\n",
        "wide_dim = 10\r\n",
        "deep_dim = 0\r\n",
        "action_dim = 3\r\n",
        "testmodel = Wide_Deep(wide_dim, deep_dim, action_dim, embeddings=embeddings)\r\n",
        "testmodel"
      ],
      "execution_count": 123,
      "outputs": [
        {
          "output_type": "stream",
          "text": [
            "This is a wide-only model.\n"
          ],
          "name": "stdout"
        },
        {
          "output_type": "execute_result",
          "data": {
            "text/plain": [
              "Wide_Deep(\n",
              "  (wide): Module(\n",
              "    (feature_1): Embedding(100, 64)\n",
              "    (feature_2): Embedding(200, 64)\n",
              "  )\n",
              "  (deep): Module()\n",
              "  (lastlayer): Linear(in_features=136, out_features=3, bias=True)\n",
              ")"
            ]
          },
          "metadata": {
            "tags": []
          },
          "execution_count": 123
        }
      ]
    },
    {
      "cell_type": "code",
      "metadata": {
        "colab": {
          "base_uri": "https://localhost:8080/"
        },
        "id": "eFQexblkHYgG",
        "outputId": "71e74c4a-4b91-4192-97a5-cfe1facac2c3"
      },
      "source": [
        "embeddings={'deep':[['feature_3', 300, 64],\r\n",
        "                    ['feature_4', 400, 64],\r\n",
        "                    ['feature_5', 500, 64]]\r\n",
        "            }\r\n",
        "\r\n",
        "wide_dim = 0\r\n",
        "deep_dim = 12\r\n",
        "action_dim = 3\r\n",
        "testmodel = Wide_Deep(wide_dim, deep_dim, action_dim, embeddings=embeddings)\r\n",
        "testmodel"
      ],
      "execution_count": 124,
      "outputs": [
        {
          "output_type": "stream",
          "text": [
            "This is a deep-only model.\n"
          ],
          "name": "stdout"
        },
        {
          "output_type": "execute_result",
          "data": {
            "text/plain": [
              "Wide_Deep(\n",
              "  (wide): Module()\n",
              "  (deep): Module(\n",
              "    (feature_3): Embedding(300, 64)\n",
              "    (feature_4): Embedding(400, 64)\n",
              "    (feature_5): Embedding(500, 64)\n",
              "    (NN): Sequential(\n",
              "      (fc0): Linear(in_features=201, out_features=32, bias=True)\n",
              "      (activ0): ReLU()\n",
              "      (fc1): Linear(in_features=32, out_features=16, bias=True)\n",
              "      (activ1): ReLU()\n",
              "    )\n",
              "  )\n",
              "  (lastlayer): Linear(in_features=16, out_features=3, bias=True)\n",
              ")"
            ]
          },
          "metadata": {
            "tags": []
          },
          "execution_count": 124
        }
      ]
    },
    {
      "cell_type": "code",
      "metadata": {
        "colab": {
          "base_uri": "https://localhost:8080/"
        },
        "id": "jTQnkWXWHrvS",
        "outputId": "053d89db-fd6e-4e2c-9b14-e2fc2d67fbc7"
      },
      "source": [
        "embeddings={'wide':[['feature_1', 100, 64],\r\n",
        "                    ['feature_2', 200, 64]],\r\n",
        "            'deep':[['feature_3', 300, 64],\r\n",
        "                    ['feature_4', 400, 64],\r\n",
        "                    ['feature_5', 500, 64]]\r\n",
        "            }\r\n",
        "\r\n",
        "wide_dim = 10\r\n",
        "deep_dim = 12\r\n",
        "action_dim = 3\r\n",
        "testmodel = Wide_Deep(wide_dim, deep_dim, action_dim, embeddings=embeddings)\r\n",
        "testmodel"
      ],
      "execution_count": 125,
      "outputs": [
        {
          "output_type": "stream",
          "text": [
            "This is a wide and deep model.\n"
          ],
          "name": "stdout"
        },
        {
          "output_type": "execute_result",
          "data": {
            "text/plain": [
              "Wide_Deep(\n",
              "  (wide): Module(\n",
              "    (feature_1): Embedding(100, 64)\n",
              "    (feature_2): Embedding(200, 64)\n",
              "  )\n",
              "  (deep): Module(\n",
              "    (feature_3): Embedding(300, 64)\n",
              "    (feature_4): Embedding(400, 64)\n",
              "    (feature_5): Embedding(500, 64)\n",
              "    (NN): Sequential(\n",
              "      (fc0): Linear(in_features=201, out_features=32, bias=True)\n",
              "      (activ0): ReLU()\n",
              "      (fc1): Linear(in_features=32, out_features=16, bias=True)\n",
              "      (activ1): ReLU()\n",
              "    )\n",
              "  )\n",
              "  (lastlayer): Linear(in_features=152, out_features=3, bias=True)\n",
              ")"
            ]
          },
          "metadata": {
            "tags": []
          },
          "execution_count": 125
        }
      ]
    },
    {
      "cell_type": "code",
      "metadata": {
        "colab": {
          "base_uri": "https://localhost:8080/"
        },
        "id": "3FTVEWJtSNpr",
        "outputId": "786e29d7-ddf2-4371-b29c-0fec4d7bafa0"
      },
      "source": [
        "embeddings = {}\r\n",
        "\r\n",
        "wide_dim = 10\r\n",
        "deep_dim = 12\r\n",
        "action_dim = 3\r\n",
        "testmodel = Wide_Deep(wide_dim, deep_dim, action_dim, embeddings=embeddings)\r\n",
        "testmodel"
      ],
      "execution_count": 126,
      "outputs": [
        {
          "output_type": "stream",
          "text": [
            "This is a wide and deep model.\n"
          ],
          "name": "stdout"
        },
        {
          "output_type": "execute_result",
          "data": {
            "text/plain": [
              "Wide_Deep(\n",
              "  (wide): Module()\n",
              "  (deep): Module(\n",
              "    (NN): Sequential(\n",
              "      (fc0): Linear(in_features=12, out_features=32, bias=True)\n",
              "      (activ0): ReLU()\n",
              "      (fc1): Linear(in_features=32, out_features=16, bias=True)\n",
              "      (activ1): ReLU()\n",
              "    )\n",
              "  )\n",
              "  (lastlayer): Linear(in_features=26, out_features=3, bias=True)\n",
              ")"
            ]
          },
          "metadata": {
            "tags": []
          },
          "execution_count": 126
        }
      ]
    },
    {
      "cell_type": "markdown",
      "metadata": {
        "id": "xZagzkAbIe0F"
      },
      "source": [
        "**Note:**\r\n",
        "1. `wide_dim` and `deep_dim` should NOT be `0` at the same time, other wise the model will raise an error.\r\n",
        "2. Number of `embeddings` of each part (wide/deep) should not larger than the input dimension (`wide_dim`/`deep_dim`) of that part, otherwise the model will raise an error.\r\n",
        "3. if `deep_dim` > 0, `deep_neurons` should not be empty.\r\n"
      ]
    },
    {
      "cell_type": "code",
      "metadata": {
        "colab": {
          "base_uri": "https://localhost:8080/"
        },
        "id": "y9-9VEcRNOO0",
        "outputId": "50d7666e-c0e4-473c-c81b-3aa9aeffa127"
      },
      "source": [
        "embeddings={'wide':[['feature_1', 100, 64],\r\n",
        "                    ['feature_2', 200, 64]],\r\n",
        "            'deep':[['feature_3', 300, 64],\r\n",
        "                    ['feature_4', 400, 64],\r\n",
        "                    ['feature_5', 500, 64]]\r\n",
        "            }\r\n",
        "\r\n",
        "wide_dim = 10\r\n",
        "deep_dim = 12\r\n",
        "action_dim = 3\r\n",
        "testmodel = Wide_Deep(wide_dim, deep_dim, action_dim, embeddings=embeddings)\r\n",
        "testmodel"
      ],
      "execution_count": 127,
      "outputs": [
        {
          "output_type": "stream",
          "text": [
            "This is a wide and deep model.\n"
          ],
          "name": "stdout"
        },
        {
          "output_type": "execute_result",
          "data": {
            "text/plain": [
              "Wide_Deep(\n",
              "  (wide): Module(\n",
              "    (feature_1): Embedding(100, 64)\n",
              "    (feature_2): Embedding(200, 64)\n",
              "  )\n",
              "  (deep): Module(\n",
              "    (feature_3): Embedding(300, 64)\n",
              "    (feature_4): Embedding(400, 64)\n",
              "    (feature_5): Embedding(500, 64)\n",
              "    (NN): Sequential(\n",
              "      (fc0): Linear(in_features=201, out_features=32, bias=True)\n",
              "      (activ0): ReLU()\n",
              "      (fc1): Linear(in_features=32, out_features=16, bias=True)\n",
              "      (activ1): ReLU()\n",
              "    )\n",
              "  )\n",
              "  (lastlayer): Linear(in_features=152, out_features=3, bias=True)\n",
              ")"
            ]
          },
          "metadata": {
            "tags": []
          },
          "execution_count": 127
        }
      ]
    },
    {
      "cell_type": "code",
      "metadata": {
        "colab": {
          "base_uri": "https://localhost:8080/"
        },
        "id": "3FglX6EdIEH9",
        "outputId": "aaf0d516-c258-41c1-b3dd-c6097a490678"
      },
      "source": [
        "# A simple test on the get_z and forward functions.\r\n",
        "\r\n",
        "batch_size = 16\r\n",
        "embed_inputs = {}\r\n",
        "embed_inputs['feature_1'] = torch.tensor(np.random.randint(100, size=(batch_size, 1))).float()\r\n",
        "embed_inputs['feature_2'] = torch.tensor(np.random.randint(200, size=(batch_size, 1))).float()\r\n",
        "embed_inputs['feature_3'] = torch.tensor(np.random.randint(300, size=(batch_size, 1))).float()\r\n",
        "embed_inputs['feature_4'] = torch.tensor(np.random.randint(400, size=(batch_size, 1))).float()\r\n",
        "embed_inputs['feature_5'] = torch.tensor(np.random.randint(500, size=(batch_size, 1))).float()\r\n",
        "\r\n",
        "wide_others = torch.tensor(np.random.random(size=(batch_size, wide_dim-2))).float()\r\n",
        "deep_others = torch.tensor(np.random.random(size=(batch_size, deep_dim-3))).float()\r\n",
        "wide_inputs = torch.cat((embed_inputs['feature_1'], embed_inputs['feature_2'], wide_others), dim=1)\r\n",
        "deep_inputs = torch.cat((embed_inputs['feature_3'], embed_inputs['feature_4'], embed_inputs['feature_5'], deep_others), dim=1)\r\n",
        "\r\n",
        "inputs = torch.cat((wide_inputs, deep_inputs), dim=1)\r\n",
        "zs = testmodel.get_z(inputs)\r\n",
        "print(zs.shape)\r\n",
        "outs = testmodel(inputs)\r\n",
        "print(outs.shape)"
      ],
      "execution_count": 128,
      "outputs": [
        {
          "output_type": "stream",
          "text": [
            "torch.Size([16, 152])\n",
            "torch.Size([16, 3])\n"
          ],
          "name": "stdout"
        }
      ]
    },
    {
      "cell_type": "code",
      "metadata": {
        "id": "brKXAf2KR3iZ"
      },
      "source": [
        ""
      ],
      "execution_count": null,
      "outputs": []
    }
  ]
}