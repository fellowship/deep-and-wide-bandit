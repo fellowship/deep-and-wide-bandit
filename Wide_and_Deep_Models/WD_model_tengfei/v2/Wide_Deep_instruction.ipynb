{
  "nbformat": 4,
  "nbformat_minor": 0,
  "metadata": {
    "colab": {
      "name": "Wide_Deep instruction.ipynb",
      "provenance": [],
      "collapsed_sections": []
    },
    "kernelspec": {
      "name": "python3",
      "display_name": "Python 3"
    }
  },
  "cells": [
    {
      "cell_type": "markdown",
      "metadata": {
        "id": "q589vdxqj16m"
      },
      "source": [
        "# Wide_Deep instructions\r\n",
        "Wide_Deep class helps the user to build a wide and deep neuron network for their contextual bandit algorithm, which is useful in the recommendation/personalization domain.\r\n",
        "The class allow the user to easily build a model with multiple embeddings in both the wide and deep part. And also allow the user to build a wide-only or deep-only model.\r\n"
      ]
    },
    {
      "cell_type": "code",
      "metadata": {
        "id": "1TEu0CcJBr7y"
      },
      "source": [
        "import torch\r\n",
        "import torch.nn as nn\r\n",
        "import numpy as np\r\n",
        "from Wide_and_Deep_model import Wide_Deep"
      ],
      "execution_count": 14,
      "outputs": []
    },
    {
      "cell_type": "markdown",
      "metadata": {
        "id": "hW_ENZg1luXC"
      },
      "source": [
        "Here is how to build a wide and deep model with multiple embeddings in both parts.\r\n",
        "\r\n",
        "For each element in the list `['feature_1', 100, 64]`:\r\n",
        "- `'feature_1'` is the name of the feature that will be feed into  the `'wide'` part of the model. this is just for the user's tracking purpose on the data.\r\n",
        "- `100` is the num_embedding of that feature, for example how many unique user in the dataset.\r\n",
        "- `64` is the embedding dimension this feature."
      ]
    },
    {
      "cell_type": "code",
      "metadata": {
        "colab": {
          "base_uri": "https://localhost:8080/"
        },
        "id": "jTQnkWXWHrvS",
        "outputId": "68451e5f-8dfa-438e-e50c-e044aeac54e7"
      },
      "source": [
        "\r\n",
        "embeddings={'wide':[['feature_1', 100, 64],\r\n",
        "                    ['feature_2', 200, 64]],\r\n",
        "            'deep':[['feature_3', 300, 64],\r\n",
        "                    ['feature_4', 400, 64],\r\n",
        "                    ['feature_5', 500, 64]]\r\n",
        "            }\r\n",
        "\r\n",
        "wide_dim = 10\r\n",
        "deep_dim = 12\r\n",
        "action_dim = 3\r\n",
        "testmodel = Wide_Deep(wide_dim, deep_dim, action_dim, embeddings=embeddings, deep_neurons=[32, 16], activation=nn.ReLU())\r\n",
        "testmodel"
      ],
      "execution_count": 15,
      "outputs": [
        {
          "output_type": "stream",
          "text": [
            "This is a wide and deep model.\n"
          ],
          "name": "stdout"
        },
        {
          "output_type": "execute_result",
          "data": {
            "text/plain": [
              "Wide_Deep(\n",
              "  (wide): Module(\n",
              "    (feature_1): Embedding(100, 64)\n",
              "    (feature_2): Embedding(200, 64)\n",
              "  )\n",
              "  (deep): Module(\n",
              "    (feature_3): Embedding(300, 64)\n",
              "    (feature_4): Embedding(400, 64)\n",
              "    (feature_5): Embedding(500, 64)\n",
              "    (NN): Sequential(\n",
              "      (fc0): Linear(in_features=201, out_features=32, bias=True)\n",
              "      (activ0): ReLU()\n",
              "      (fc1): Linear(in_features=32, out_features=16, bias=True)\n",
              "      (activ1): ReLU()\n",
              "    )\n",
              "  )\n",
              "  (lastlayer): Linear(in_features=152, out_features=3, bias=True)\n",
              ")"
            ]
          },
          "metadata": {
            "tags": []
          },
          "execution_count": 15
        }
      ]
    },
    {
      "cell_type": "markdown",
      "metadata": {
        "id": "yH5jzAnHl8_N"
      },
      "source": [
        "Here is how to build a wide-only model with embeddings, the user only need to set the `deep_dim=0`"
      ]
    },
    {
      "cell_type": "code",
      "metadata": {
        "colab": {
          "base_uri": "https://localhost:8080/"
        },
        "id": "SXFgRGyiQQXJ",
        "outputId": "ed9f8d34-7f58-4ce0-b672-ded804a68712"
      },
      "source": [
        "embeddings={'wide':[['feature_1', 100, 64],\r\n",
        "                    ['feature_2', 200, 64]]\r\n",
        "            }\r\n",
        "\r\n",
        "wide_dim = 10\r\n",
        "deep_dim = 0\r\n",
        "action_dim = 3\r\n",
        "testmodel = Wide_Deep(wide_dim, deep_dim, action_dim, embeddings=embeddings)\r\n",
        "testmodel"
      ],
      "execution_count": 16,
      "outputs": [
        {
          "output_type": "stream",
          "text": [
            "This is a wide-only model.\n"
          ],
          "name": "stdout"
        },
        {
          "output_type": "execute_result",
          "data": {
            "text/plain": [
              "Wide_Deep(\n",
              "  (wide): Module(\n",
              "    (feature_1): Embedding(100, 64)\n",
              "    (feature_2): Embedding(200, 64)\n",
              "  )\n",
              "  (deep): Module()\n",
              "  (lastlayer): Linear(in_features=136, out_features=3, bias=True)\n",
              ")"
            ]
          },
          "metadata": {
            "tags": []
          },
          "execution_count": 16
        }
      ]
    },
    {
      "cell_type": "markdown",
      "metadata": {
        "id": "R_6X7xmYl_DG"
      },
      "source": [
        "Here is how to build a deep-only model with embeddings. the user only need to set the `wide_dim=0` and make sure the `deep_neurons` is not empty."
      ]
    },
    {
      "cell_type": "code",
      "metadata": {
        "colab": {
          "base_uri": "https://localhost:8080/"
        },
        "id": "eFQexblkHYgG",
        "outputId": "21a31c44-a429-464d-a00d-c5a4c751eac6"
      },
      "source": [
        "embeddings={'deep':[['feature_3', 300, 64],\r\n",
        "                    ['feature_4', 400, 64],\r\n",
        "                    ['feature_5', 500, 64]]\r\n",
        "            }\r\n",
        "\r\n",
        "wide_dim = 0\r\n",
        "deep_dim = 12\r\n",
        "action_dim = 3\r\n",
        "testmodel = Wide_Deep(wide_dim, deep_dim, action_dim, embeddings=embeddings, deep_neurons=[32, 16], activation=nn.ReLU())\r\n",
        "testmodel"
      ],
      "execution_count": 17,
      "outputs": [
        {
          "output_type": "stream",
          "text": [
            "This is a deep-only model.\n"
          ],
          "name": "stdout"
        },
        {
          "output_type": "execute_result",
          "data": {
            "text/plain": [
              "Wide_Deep(\n",
              "  (wide): Module()\n",
              "  (deep): Module(\n",
              "    (feature_3): Embedding(300, 64)\n",
              "    (feature_4): Embedding(400, 64)\n",
              "    (feature_5): Embedding(500, 64)\n",
              "    (NN): Sequential(\n",
              "      (fc0): Linear(in_features=201, out_features=32, bias=True)\n",
              "      (activ0): ReLU()\n",
              "      (fc1): Linear(in_features=32, out_features=16, bias=True)\n",
              "      (activ1): ReLU()\n",
              "    )\n",
              "  )\n",
              "  (lastlayer): Linear(in_features=16, out_features=3, bias=True)\n",
              ")"
            ]
          },
          "metadata": {
            "tags": []
          },
          "execution_count": 17
        }
      ]
    },
    {
      "cell_type": "markdown",
      "metadata": {
        "id": "EQ3HB2zjmB9h"
      },
      "source": [
        "Here is how to build a wide and deep model without embeddings."
      ]
    },
    {
      "cell_type": "code",
      "metadata": {
        "colab": {
          "base_uri": "https://localhost:8080/"
        },
        "id": "3FTVEWJtSNpr",
        "outputId": "01c93cf8-0d50-4bb3-fddd-ee1a2f39ff47"
      },
      "source": [
        "embeddings = {}\r\n",
        "\r\n",
        "wide_dim = 10\r\n",
        "deep_dim = 12\r\n",
        "action_dim = 3\r\n",
        "testmodel = Wide_Deep(wide_dim, deep_dim, action_dim, embeddings=embeddings, deep_neurons=[32, 16], activation=nn.ReLU())\r\n",
        "testmodel"
      ],
      "execution_count": 18,
      "outputs": [
        {
          "output_type": "stream",
          "text": [
            "This is a wide and deep model.\n"
          ],
          "name": "stdout"
        },
        {
          "output_type": "execute_result",
          "data": {
            "text/plain": [
              "Wide_Deep(\n",
              "  (wide): Module()\n",
              "  (deep): Module(\n",
              "    (NN): Sequential(\n",
              "      (fc0): Linear(in_features=12, out_features=32, bias=True)\n",
              "      (activ0): ReLU()\n",
              "      (fc1): Linear(in_features=32, out_features=16, bias=True)\n",
              "      (activ1): ReLU()\n",
              "    )\n",
              "  )\n",
              "  (lastlayer): Linear(in_features=26, out_features=3, bias=True)\n",
              ")"
            ]
          },
          "metadata": {
            "tags": []
          },
          "execution_count": 18
        }
      ]
    },
    {
      "cell_type": "markdown",
      "metadata": {
        "id": "xZagzkAbIe0F"
      },
      "source": [
        "**Note:**\r\n",
        "1. `wide_dim` and `deep_dim` should NOT be `0` at the same time, other wise the model will raise an error.\r\n",
        "2. Number of `embeddings` of each part (wide/deep) should not larger than the input dimension (`wide_dim`/`deep_dim`) of that part, otherwise the model will raise an error.\r\n",
        "3. if `deep_dim` > 0, `deep_neurons` should not be empty.\r\n"
      ]
    },
    {
      "cell_type": "markdown",
      "metadata": {
        "id": "UrQxodB3nUSY"
      },
      "source": [
        "## An example to test the model"
      ]
    },
    {
      "cell_type": "code",
      "metadata": {
        "colab": {
          "base_uri": "https://localhost:8080/"
        },
        "id": "y9-9VEcRNOO0",
        "outputId": "e000ad16-c485-4a16-9d6d-ff5a2bc76153"
      },
      "source": [
        "embeddings={'wide':[['feature_1', 100, 64],\r\n",
        "                    ['feature_2', 200, 64]],\r\n",
        "            'deep':[['feature_3', 300, 64],\r\n",
        "                    ['feature_4', 400, 64],\r\n",
        "                    ['feature_5', 500, 64]]\r\n",
        "            }\r\n",
        "\r\n",
        "wide_dim = 10\r\n",
        "deep_dim = 12\r\n",
        "action_dim = 3\r\n",
        "testmodel = Wide_Deep(wide_dim, deep_dim, action_dim, embeddings=embeddings)\r\n",
        "testmodel"
      ],
      "execution_count": 19,
      "outputs": [
        {
          "output_type": "stream",
          "text": [
            "This is a wide and deep model.\n"
          ],
          "name": "stdout"
        },
        {
          "output_type": "execute_result",
          "data": {
            "text/plain": [
              "Wide_Deep(\n",
              "  (wide): Module(\n",
              "    (feature_1): Embedding(100, 64)\n",
              "    (feature_2): Embedding(200, 64)\n",
              "  )\n",
              "  (deep): Module(\n",
              "    (feature_3): Embedding(300, 64)\n",
              "    (feature_4): Embedding(400, 64)\n",
              "    (feature_5): Embedding(500, 64)\n",
              "    (NN): Sequential(\n",
              "      (fc0): Linear(in_features=201, out_features=32, bias=True)\n",
              "      (activ0): ReLU()\n",
              "      (fc1): Linear(in_features=32, out_features=16, bias=True)\n",
              "      (activ1): ReLU()\n",
              "    )\n",
              "  )\n",
              "  (lastlayer): Linear(in_features=152, out_features=3, bias=True)\n",
              ")"
            ]
          },
          "metadata": {
            "tags": []
          },
          "execution_count": 19
        }
      ]
    },
    {
      "cell_type": "code",
      "metadata": {
        "colab": {
          "base_uri": "https://localhost:8080/"
        },
        "id": "3FglX6EdIEH9",
        "outputId": "5300a0db-65b3-4a31-e342-e615176a0977"
      },
      "source": [
        "# A simple test on the get_z and forward functions.\r\n",
        "# get_z function is to extract the representation which is the input of the last layer of wide and deep model. The representation is useful in algorithms like LinUCB, Thompson Sampling, etc.\r\n",
        "\r\n",
        "batch_size = 16\r\n",
        "embed_inputs = {}\r\n",
        "embed_inputs['feature_1'] = torch.tensor(np.random.randint(100, size=(batch_size, 1))).float()\r\n",
        "embed_inputs['feature_2'] = torch.tensor(np.random.randint(200, size=(batch_size, 1))).float()\r\n",
        "embed_inputs['feature_3'] = torch.tensor(np.random.randint(300, size=(batch_size, 1))).float()\r\n",
        "embed_inputs['feature_4'] = torch.tensor(np.random.randint(400, size=(batch_size, 1))).float()\r\n",
        "embed_inputs['feature_5'] = torch.tensor(np.random.randint(500, size=(batch_size, 1))).float()\r\n",
        "\r\n",
        "wide_others = torch.tensor(np.random.random(size=(batch_size, wide_dim-2))).float()\r\n",
        "deep_others = torch.tensor(np.random.random(size=(batch_size, deep_dim-3))).float()\r\n",
        "wide_inputs = torch.cat((embed_inputs['feature_1'], embed_inputs['feature_2'], wide_others), dim=1)\r\n",
        "deep_inputs = torch.cat((embed_inputs['feature_3'], embed_inputs['feature_4'], embed_inputs['feature_5'], deep_others), dim=1)\r\n",
        "\r\n",
        "inputs = torch.cat((wide_inputs, deep_inputs), dim=1)\r\n",
        "#\r\n",
        "zs = testmodel.get_z(inputs)\r\n",
        "print(zs.shape)\r\n",
        "outs = testmodel(inputs)\r\n",
        "print(outs.shape)"
      ],
      "execution_count": 20,
      "outputs": [
        {
          "output_type": "stream",
          "text": [
            "torch.Size([16, 152])\n",
            "torch.Size([16, 3])\n"
          ],
          "name": "stdout"
        }
      ]
    },
    {
      "cell_type": "markdown",
      "metadata": {
        "id": "GtkSXmT8qBvK"
      },
      "source": [
        "If you are interested in how to use this wide and deep model in ContextualBandit algorithm, please go to [demo_Wide_and_Deep_Contextual_Bandits.ipynb](https://github.com/fellowship/space-bandits/blob/dev_tfl/Wide_and_Deep_Contextual_Bandits/demo_Wide_and_Deep_Contextual_Bandits.ipynb)"
      ]
    },
    {
      "cell_type": "code",
      "metadata": {
        "id": "Q48sk8okqCPp"
      },
      "source": [
        ""
      ],
      "execution_count": null,
      "outputs": []
    }
  ]
}