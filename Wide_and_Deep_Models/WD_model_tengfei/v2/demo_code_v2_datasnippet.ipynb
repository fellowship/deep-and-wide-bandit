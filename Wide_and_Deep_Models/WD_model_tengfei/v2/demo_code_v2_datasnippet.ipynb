{
  "nbformat": 4,
  "nbformat_minor": 0,
  "metadata": {
    "accelerator": "GPU",
    "colab": {
      "name": "demo_code_v2_datasnippet.ipynb",
      "provenance": [],
      "collapsed_sections": [
        "pNjwV-69wtYP"
      ]
    },
    "kernelspec": {
      "display_name": "Python 3",
      "name": "python3"
    }
  },
  "cells": [
    {
      "cell_type": "markdown",
      "metadata": {
        "id": "mrBWZDSpvJmB"
      },
      "source": [
        "# Demo of code v2 on datasnippet"
      ]
    },
    {
      "cell_type": "markdown",
      "metadata": {
        "id": "c7EsC3ZswqTJ"
      },
      "source": [
        "## Updates in version 2:\r\n",
        "- Thompson Sampling added in algorithms.py\r\n",
        "- GPU compatibility for both LinUCB and Thompson Samplling"
      ]
    },
    {
      "cell_type": "markdown",
      "metadata": {
        "id": "pNjwV-69wtYP"
      },
      "source": [
        "## data preparation"
      ]
    },
    {
      "cell_type": "code",
      "metadata": {
        "colab": {
          "base_uri": "https://localhost:8080/"
        },
        "id": "yqUwdZxNZIXf",
        "outputId": "a7ffd9e8-f609-463f-c63a-e59d96411cae"
      },
      "source": [
        "from google.colab import drive\n",
        "drive.mount('/content/drive')"
      ],
      "execution_count": 1,
      "outputs": [
        {
          "output_type": "stream",
          "text": [
            "Mounted at /content/drive\n"
          ],
          "name": "stdout"
        }
      ]
    },
    {
      "cell_type": "code",
      "metadata": {
        "colab": {
          "base_uri": "https://localhost:8080/",
          "height": 204
        },
        "id": "WkoDW55iVEZf",
        "outputId": "f659adf3-965f-4d4e-f1f9-adce421be1e5"
      },
      "source": [
        "import pandas as pd\r\n",
        "import numpy as np\r\n",
        "file_path = \"/content/drive/MyDrive/Fellowship.AI/P1_bandit/data_snippet.csv\"\r\n",
        "df = pd.read_csv(file_path)\r\n",
        "df.head()"
      ],
      "execution_count": 2,
      "outputs": [
        {
          "output_type": "execute_result",
          "data": {
            "text/html": [
              "<div>\n",
              "<style scoped>\n",
              "    .dataframe tbody tr th:only-of-type {\n",
              "        vertical-align: middle;\n",
              "    }\n",
              "\n",
              "    .dataframe tbody tr th {\n",
              "        vertical-align: top;\n",
              "    }\n",
              "\n",
              "    .dataframe thead th {\n",
              "        text-align: right;\n",
              "    }\n",
              "</style>\n",
              "<table border=\"1\" class=\"dataframe\">\n",
              "  <thead>\n",
              "    <tr style=\"text-align: right;\">\n",
              "      <th></th>\n",
              "      <th>riid</th>\n",
              "      <th>opened</th>\n",
              "      <th>rev_3dv2</th>\n",
              "      <th>unsub</th>\n",
              "      <th>campaign_type</th>\n",
              "      <th>retention_score</th>\n",
              "      <th>recency_score</th>\n",
              "      <th>frequency_score</th>\n",
              "    </tr>\n",
              "  </thead>\n",
              "  <tbody>\n",
              "    <tr>\n",
              "      <th>0</th>\n",
              "      <td>242697842</td>\n",
              "      <td>1</td>\n",
              "      <td>75.00</td>\n",
              "      <td>0</td>\n",
              "      <td>Dedicated</td>\n",
              "      <td>14.000000</td>\n",
              "      <td>1.637422</td>\n",
              "      <td>31</td>\n",
              "    </tr>\n",
              "    <tr>\n",
              "      <th>1</th>\n",
              "      <td>275469002</td>\n",
              "      <td>1</td>\n",
              "      <td>75.00</td>\n",
              "      <td>0</td>\n",
              "      <td>Dedicated</td>\n",
              "      <td>2.800000</td>\n",
              "      <td>0.000000</td>\n",
              "      <td>0</td>\n",
              "    </tr>\n",
              "    <tr>\n",
              "      <th>2</th>\n",
              "      <td>4319542</td>\n",
              "      <td>1</td>\n",
              "      <td>19.98</td>\n",
              "      <td>0</td>\n",
              "      <td>Dedicated</td>\n",
              "      <td>1.000000</td>\n",
              "      <td>0.084239</td>\n",
              "      <td>4</td>\n",
              "    </tr>\n",
              "    <tr>\n",
              "      <th>3</th>\n",
              "      <td>166170102</td>\n",
              "      <td>1</td>\n",
              "      <td>19.98</td>\n",
              "      <td>0</td>\n",
              "      <td>Dedicated</td>\n",
              "      <td>0.756757</td>\n",
              "      <td>0.010870</td>\n",
              "      <td>1</td>\n",
              "    </tr>\n",
              "    <tr>\n",
              "      <th>4</th>\n",
              "      <td>6998482</td>\n",
              "      <td>1</td>\n",
              "      <td>150.00</td>\n",
              "      <td>0</td>\n",
              "      <td>Dedicated</td>\n",
              "      <td>28.000000</td>\n",
              "      <td>1.845885</td>\n",
              "      <td>18</td>\n",
              "    </tr>\n",
              "  </tbody>\n",
              "</table>\n",
              "</div>"
            ],
            "text/plain": [
              "        riid  opened  rev_3dv2  ...  retention_score recency_score  frequency_score\n",
              "0  242697842       1     75.00  ...        14.000000      1.637422               31\n",
              "1  275469002       1     75.00  ...         2.800000      0.000000                0\n",
              "2    4319542       1     19.98  ...         1.000000      0.084239                4\n",
              "3  166170102       1     19.98  ...         0.756757      0.010870                1\n",
              "4    6998482       1    150.00  ...        28.000000      1.845885               18\n",
              "\n",
              "[5 rows x 8 columns]"
            ]
          },
          "metadata": {
            "tags": []
          },
          "execution_count": 2
        }
      ]
    },
    {
      "cell_type": "code",
      "metadata": {
        "colab": {
          "base_uri": "https://localhost:8080/"
        },
        "id": "VY72wwmCZZOX",
        "outputId": "c09dea01-2d40-4955-c154-d6425b97b6c0"
      },
      "source": [
        "len(df)"
      ],
      "execution_count": 3,
      "outputs": [
        {
          "output_type": "execute_result",
          "data": {
            "text/plain": [
              "6240490"
            ]
          },
          "metadata": {
            "tags": []
          },
          "execution_count": 3
        }
      ]
    },
    {
      "cell_type": "code",
      "metadata": {
        "id": "Q26m4nfHi0Y5"
      },
      "source": [
        "num_data = 100000\r\n",
        "indices = np.random.choice(len(df),size=num_data)\r\n",
        "df_subset = df.iloc[indices]"
      ],
      "execution_count": 4,
      "outputs": []
    },
    {
      "cell_type": "code",
      "metadata": {
        "id": "aBmGyVObZC_F"
      },
      "source": [
        "vocab = {riid:i for i, riid in enumerate(df_subset.riid.unique())}"
      ],
      "execution_count": 5,
      "outputs": []
    },
    {
      "cell_type": "code",
      "metadata": {
        "colab": {
          "base_uri": "https://localhost:8080/"
        },
        "id": "4MohzyBqe17A",
        "outputId": "f5da31d8-e374-4ad5-d9eb-e6954f23987f"
      },
      "source": [
        "len(vocab)"
      ],
      "execution_count": 6,
      "outputs": [
        {
          "output_type": "execute_result",
          "data": {
            "text/plain": [
              "87706"
            ]
          },
          "metadata": {
            "tags": []
          },
          "execution_count": 6
        }
      ]
    },
    {
      "cell_type": "code",
      "metadata": {
        "id": "SVyDfnE2ZTz_"
      },
      "source": [
        "user_ids = df_subset.riid.apply(lambda x:vocab[x])\r\n",
        "c_t = pd.get_dummies(df_subset.campaign_type)"
      ],
      "execution_count": 7,
      "outputs": []
    },
    {
      "cell_type": "code",
      "metadata": {
        "id": "AeRlUSQ3Z8kh"
      },
      "source": [
        "datasource = pd.DataFrame()\r\n",
        "datasource['user_ids'] = user_ids"
      ],
      "execution_count": 8,
      "outputs": []
    },
    {
      "cell_type": "code",
      "metadata": {
        "id": "kwfGYpUKbMtf"
      },
      "source": [
        "datasource = pd.concat((datasource, c_t),axis=1)"
      ],
      "execution_count": 9,
      "outputs": []
    },
    {
      "cell_type": "code",
      "metadata": {
        "id": "VH0a-jHqbaHv"
      },
      "source": [
        "datasource[[\"retention_score\",\t\"recency_score\",\t\"frequency_score\"]] = df_subset[[\"retention_score\",\t\"recency_score\",\t\"frequency_score\"]]"
      ],
      "execution_count": 10,
      "outputs": []
    },
    {
      "cell_type": "code",
      "metadata": {
        "colab": {
          "base_uri": "https://localhost:8080/",
          "height": 436
        },
        "id": "MQrrwcfubqqk",
        "outputId": "f77d3989-9589-420b-da35-75ad6e0b82b3"
      },
      "source": [
        "datasource"
      ],
      "execution_count": 11,
      "outputs": [
        {
          "output_type": "execute_result",
          "data": {
            "text/html": [
              "<div>\n",
              "<style scoped>\n",
              "    .dataframe tbody tr th:only-of-type {\n",
              "        vertical-align: middle;\n",
              "    }\n",
              "\n",
              "    .dataframe tbody tr th {\n",
              "        vertical-align: top;\n",
              "    }\n",
              "\n",
              "    .dataframe thead th {\n",
              "        text-align: right;\n",
              "    }\n",
              "</style>\n",
              "<table border=\"1\" class=\"dataframe\">\n",
              "  <thead>\n",
              "    <tr style=\"text-align: right;\">\n",
              "      <th></th>\n",
              "      <th>user_ids</th>\n",
              "      <th>Brand</th>\n",
              "      <th>Collection</th>\n",
              "      <th>Core</th>\n",
              "      <th>Dedicated</th>\n",
              "      <th>Innovation Spotlight</th>\n",
              "      <th>New Arrivals</th>\n",
              "      <th>Other</th>\n",
              "      <th>Product Spotlight</th>\n",
              "      <th>Replen</th>\n",
              "      <th>Tops</th>\n",
              "      <th>Trend</th>\n",
              "      <th>retention_score</th>\n",
              "      <th>recency_score</th>\n",
              "      <th>frequency_score</th>\n",
              "    </tr>\n",
              "  </thead>\n",
              "  <tbody>\n",
              "    <tr>\n",
              "      <th>508553</th>\n",
              "      <td>0</td>\n",
              "      <td>0</td>\n",
              "      <td>0</td>\n",
              "      <td>0</td>\n",
              "      <td>1</td>\n",
              "      <td>0</td>\n",
              "      <td>0</td>\n",
              "      <td>0</td>\n",
              "      <td>0</td>\n",
              "      <td>0</td>\n",
              "      <td>0</td>\n",
              "      <td>0</td>\n",
              "      <td>0.411765</td>\n",
              "      <td>0.000000</td>\n",
              "      <td>0</td>\n",
              "    </tr>\n",
              "    <tr>\n",
              "      <th>2651043</th>\n",
              "      <td>1</td>\n",
              "      <td>0</td>\n",
              "      <td>0</td>\n",
              "      <td>0</td>\n",
              "      <td>1</td>\n",
              "      <td>0</td>\n",
              "      <td>0</td>\n",
              "      <td>0</td>\n",
              "      <td>0</td>\n",
              "      <td>0</td>\n",
              "      <td>0</td>\n",
              "      <td>0</td>\n",
              "      <td>28.000000</td>\n",
              "      <td>3.099185</td>\n",
              "      <td>65</td>\n",
              "    </tr>\n",
              "    <tr>\n",
              "      <th>1775678</th>\n",
              "      <td>2</td>\n",
              "      <td>0</td>\n",
              "      <td>0</td>\n",
              "      <td>0</td>\n",
              "      <td>0</td>\n",
              "      <td>0</td>\n",
              "      <td>0</td>\n",
              "      <td>0</td>\n",
              "      <td>1</td>\n",
              "      <td>0</td>\n",
              "      <td>0</td>\n",
              "      <td>0</td>\n",
              "      <td>7.000000</td>\n",
              "      <td>0.940800</td>\n",
              "      <td>37</td>\n",
              "    </tr>\n",
              "    <tr>\n",
              "      <th>5412341</th>\n",
              "      <td>3</td>\n",
              "      <td>1</td>\n",
              "      <td>0</td>\n",
              "      <td>0</td>\n",
              "      <td>0</td>\n",
              "      <td>0</td>\n",
              "      <td>0</td>\n",
              "      <td>0</td>\n",
              "      <td>0</td>\n",
              "      <td>0</td>\n",
              "      <td>0</td>\n",
              "      <td>0</td>\n",
              "      <td>2.153846</td>\n",
              "      <td>0.062500</td>\n",
              "      <td>2</td>\n",
              "    </tr>\n",
              "    <tr>\n",
              "      <th>3935687</th>\n",
              "      <td>4</td>\n",
              "      <td>1</td>\n",
              "      <td>0</td>\n",
              "      <td>0</td>\n",
              "      <td>0</td>\n",
              "      <td>0</td>\n",
              "      <td>0</td>\n",
              "      <td>0</td>\n",
              "      <td>0</td>\n",
              "      <td>0</td>\n",
              "      <td>0</td>\n",
              "      <td>0</td>\n",
              "      <td>28.000000</td>\n",
              "      <td>4.975155</td>\n",
              "      <td>21</td>\n",
              "    </tr>\n",
              "    <tr>\n",
              "      <th>...</th>\n",
              "      <td>...</td>\n",
              "      <td>...</td>\n",
              "      <td>...</td>\n",
              "      <td>...</td>\n",
              "      <td>...</td>\n",
              "      <td>...</td>\n",
              "      <td>...</td>\n",
              "      <td>...</td>\n",
              "      <td>...</td>\n",
              "      <td>...</td>\n",
              "      <td>...</td>\n",
              "      <td>...</td>\n",
              "      <td>...</td>\n",
              "      <td>...</td>\n",
              "      <td>...</td>\n",
              "    </tr>\n",
              "    <tr>\n",
              "      <th>2421076</th>\n",
              "      <td>87703</td>\n",
              "      <td>0</td>\n",
              "      <td>0</td>\n",
              "      <td>0</td>\n",
              "      <td>0</td>\n",
              "      <td>0</td>\n",
              "      <td>0</td>\n",
              "      <td>0</td>\n",
              "      <td>0</td>\n",
              "      <td>0</td>\n",
              "      <td>0</td>\n",
              "      <td>1</td>\n",
              "      <td>28.000000</td>\n",
              "      <td>3.554542</td>\n",
              "      <td>29</td>\n",
              "    </tr>\n",
              "    <tr>\n",
              "      <th>2439643</th>\n",
              "      <td>55639</td>\n",
              "      <td>1</td>\n",
              "      <td>0</td>\n",
              "      <td>0</td>\n",
              "      <td>0</td>\n",
              "      <td>0</td>\n",
              "      <td>0</td>\n",
              "      <td>0</td>\n",
              "      <td>0</td>\n",
              "      <td>0</td>\n",
              "      <td>0</td>\n",
              "      <td>0</td>\n",
              "      <td>14.000000</td>\n",
              "      <td>3.156832</td>\n",
              "      <td>47</td>\n",
              "    </tr>\n",
              "    <tr>\n",
              "      <th>2622314</th>\n",
              "      <td>87704</td>\n",
              "      <td>0</td>\n",
              "      <td>0</td>\n",
              "      <td>0</td>\n",
              "      <td>0</td>\n",
              "      <td>0</td>\n",
              "      <td>1</td>\n",
              "      <td>0</td>\n",
              "      <td>0</td>\n",
              "      <td>0</td>\n",
              "      <td>0</td>\n",
              "      <td>0</td>\n",
              "      <td>28.000000</td>\n",
              "      <td>4.543284</td>\n",
              "      <td>41</td>\n",
              "    </tr>\n",
              "    <tr>\n",
              "      <th>1160901</th>\n",
              "      <td>5132</td>\n",
              "      <td>0</td>\n",
              "      <td>0</td>\n",
              "      <td>0</td>\n",
              "      <td>1</td>\n",
              "      <td>0</td>\n",
              "      <td>0</td>\n",
              "      <td>0</td>\n",
              "      <td>0</td>\n",
              "      <td>0</td>\n",
              "      <td>0</td>\n",
              "      <td>0</td>\n",
              "      <td>1.333333</td>\n",
              "      <td>0.146739</td>\n",
              "      <td>6</td>\n",
              "    </tr>\n",
              "    <tr>\n",
              "      <th>4256137</th>\n",
              "      <td>87705</td>\n",
              "      <td>0</td>\n",
              "      <td>0</td>\n",
              "      <td>0</td>\n",
              "      <td>0</td>\n",
              "      <td>0</td>\n",
              "      <td>0</td>\n",
              "      <td>0</td>\n",
              "      <td>0</td>\n",
              "      <td>0</td>\n",
              "      <td>0</td>\n",
              "      <td>1</td>\n",
              "      <td>1.217391</td>\n",
              "      <td>0.062500</td>\n",
              "      <td>2</td>\n",
              "    </tr>\n",
              "  </tbody>\n",
              "</table>\n",
              "<p>100000 rows × 15 columns</p>\n",
              "</div>"
            ],
            "text/plain": [
              "         user_ids  Brand  ...  recency_score  frequency_score\n",
              "508553          0      0  ...       0.000000                0\n",
              "2651043         1      0  ...       3.099185               65\n",
              "1775678         2      0  ...       0.940800               37\n",
              "5412341         3      1  ...       0.062500                2\n",
              "3935687         4      1  ...       4.975155               21\n",
              "...           ...    ...  ...            ...              ...\n",
              "2421076     87703      0  ...       3.554542               29\n",
              "2439643     55639      1  ...       3.156832               47\n",
              "2622314     87704      0  ...       4.543284               41\n",
              "1160901      5132      0  ...       0.146739                6\n",
              "4256137     87705      0  ...       0.062500                2\n",
              "\n",
              "[100000 rows x 15 columns]"
            ]
          },
          "metadata": {
            "tags": []
          },
          "execution_count": 11
        }
      ]
    },
    {
      "cell_type": "code",
      "metadata": {
        "id": "ghLBFVtpbwHx"
      },
      "source": [
        "rewardsource = pd.DataFrame()\r\n",
        "rewardsource[\"reward_send\"] = df_subset.opened * 1.2 - 0.2 + (df_subset.rev_3dv2 > 0) + df_subset.rev_3dv2/75.0 - 5.0*df_subset.unsub\r\n",
        "rewardsource[\"reward_not_send\"] = -rewardsource[\"reward_send\"]"
      ],
      "execution_count": 12,
      "outputs": []
    },
    {
      "cell_type": "code",
      "metadata": {
        "colab": {
          "base_uri": "https://localhost:8080/",
          "height": 419
        },
        "id": "YsgwSNeFd3Qj",
        "outputId": "ac059013-b8ef-4f10-e096-e454ca133dd6"
      },
      "source": [
        "rewardsource"
      ],
      "execution_count": 13,
      "outputs": [
        {
          "output_type": "execute_result",
          "data": {
            "text/html": [
              "<div>\n",
              "<style scoped>\n",
              "    .dataframe tbody tr th:only-of-type {\n",
              "        vertical-align: middle;\n",
              "    }\n",
              "\n",
              "    .dataframe tbody tr th {\n",
              "        vertical-align: top;\n",
              "    }\n",
              "\n",
              "    .dataframe thead th {\n",
              "        text-align: right;\n",
              "    }\n",
              "</style>\n",
              "<table border=\"1\" class=\"dataframe\">\n",
              "  <thead>\n",
              "    <tr style=\"text-align: right;\">\n",
              "      <th></th>\n",
              "      <th>reward_send</th>\n",
              "      <th>reward_not_send</th>\n",
              "    </tr>\n",
              "  </thead>\n",
              "  <tbody>\n",
              "    <tr>\n",
              "      <th>508553</th>\n",
              "      <td>1.0</td>\n",
              "      <td>-1.0</td>\n",
              "    </tr>\n",
              "    <tr>\n",
              "      <th>2651043</th>\n",
              "      <td>1.0</td>\n",
              "      <td>-1.0</td>\n",
              "    </tr>\n",
              "    <tr>\n",
              "      <th>1775678</th>\n",
              "      <td>1.0</td>\n",
              "      <td>-1.0</td>\n",
              "    </tr>\n",
              "    <tr>\n",
              "      <th>5412341</th>\n",
              "      <td>-0.2</td>\n",
              "      <td>0.2</td>\n",
              "    </tr>\n",
              "    <tr>\n",
              "      <th>3935687</th>\n",
              "      <td>-0.2</td>\n",
              "      <td>0.2</td>\n",
              "    </tr>\n",
              "    <tr>\n",
              "      <th>...</th>\n",
              "      <td>...</td>\n",
              "      <td>...</td>\n",
              "    </tr>\n",
              "    <tr>\n",
              "      <th>2421076</th>\n",
              "      <td>1.0</td>\n",
              "      <td>-1.0</td>\n",
              "    </tr>\n",
              "    <tr>\n",
              "      <th>2439643</th>\n",
              "      <td>1.0</td>\n",
              "      <td>-1.0</td>\n",
              "    </tr>\n",
              "    <tr>\n",
              "      <th>2622314</th>\n",
              "      <td>1.0</td>\n",
              "      <td>-1.0</td>\n",
              "    </tr>\n",
              "    <tr>\n",
              "      <th>1160901</th>\n",
              "      <td>1.0</td>\n",
              "      <td>-1.0</td>\n",
              "    </tr>\n",
              "    <tr>\n",
              "      <th>4256137</th>\n",
              "      <td>-0.2</td>\n",
              "      <td>0.2</td>\n",
              "    </tr>\n",
              "  </tbody>\n",
              "</table>\n",
              "<p>100000 rows × 2 columns</p>\n",
              "</div>"
            ],
            "text/plain": [
              "         reward_send  reward_not_send\n",
              "508553           1.0             -1.0\n",
              "2651043          1.0             -1.0\n",
              "1775678          1.0             -1.0\n",
              "5412341         -0.2              0.2\n",
              "3935687         -0.2              0.2\n",
              "...              ...              ...\n",
              "2421076          1.0             -1.0\n",
              "2439643          1.0             -1.0\n",
              "2622314          1.0             -1.0\n",
              "1160901          1.0             -1.0\n",
              "4256137         -0.2              0.2\n",
              "\n",
              "[100000 rows x 2 columns]"
            ]
          },
          "metadata": {
            "tags": []
          },
          "execution_count": 13
        }
      ]
    },
    {
      "cell_type": "code",
      "metadata": {
        "id": "swLZ47qcgFSr"
      },
      "source": [
        "opt_a = (rewardsource['reward_send'] < 0).astype(int)"
      ],
      "execution_count": 14,
      "outputs": []
    },
    {
      "cell_type": "code",
      "metadata": {
        "colab": {
          "base_uri": "https://localhost:8080/"
        },
        "id": "DgAqyRBUgdbE",
        "outputId": "34d8f4c3-09cd-4511-ecdf-1fd1c1067b28"
      },
      "source": [
        "opt_a"
      ],
      "execution_count": 15,
      "outputs": [
        {
          "output_type": "execute_result",
          "data": {
            "text/plain": [
              "508553     0\n",
              "2651043    0\n",
              "1775678    0\n",
              "5412341    1\n",
              "3935687    1\n",
              "          ..\n",
              "2421076    0\n",
              "2439643    0\n",
              "2622314    0\n",
              "1160901    0\n",
              "4256137    1\n",
              "Name: reward_send, Length: 100000, dtype: int64"
            ]
          },
          "metadata": {
            "tags": []
          },
          "execution_count": 15
        }
      ]
    },
    {
      "cell_type": "markdown",
      "metadata": {
        "id": "X9Tr5WXIw0TL"
      },
      "source": [
        "## Run the code and compare with space bandits"
      ]
    },
    {
      "cell_type": "code",
      "metadata": {
        "colab": {
          "base_uri": "https://localhost:8080/"
        },
        "id": "G6H_J1u-kuQy",
        "outputId": "ee358eb1-32a7-404f-9aa8-932baac1f41f"
      },
      "source": [
        "import torch\r\n",
        "device = \"cuda:0\" if torch.cuda.is_available() else \"cpu\"\r\n",
        "print(device)"
      ],
      "execution_count": 16,
      "outputs": [
        {
          "output_type": "stream",
          "text": [
            "cuda:0\n"
          ],
          "name": "stdout"
        }
      ]
    },
    {
      "cell_type": "code",
      "metadata": {
        "id": "qzXJmsSowV6W"
      },
      "source": [
        "import Wide_and_Deep_model\r\n",
        "import Contextual_bandits_v2\r\n",
        "import algorithms_v2\r\n",
        "import importlib\r\n",
        "importlib.reload(Wide_and_Deep_model)\r\n",
        "importlib.reload(Contextual_bandits_v2)\r\n",
        "importlib.reload(algorithms_v2)\r\n",
        "Wide_Deep = Wide_and_Deep_model.Wide_Deep\r\n",
        "ContextualBandit = Contextual_bandits_v2.ContextualBandit\r\n",
        "LinUCB = algorithms_v2.LinUCB\r\n",
        "TS = algorithms_v2.TS\r\n",
        "import torch.optim as optim\r\n",
        "import torch.nn as nn\r\n",
        "import time"
      ],
      "execution_count": 17,
      "outputs": []
    },
    {
      "cell_type": "code",
      "metadata": {
        "id": "WpqVK8QYmdFo"
      },
      "source": [
        "def run_CB(CB, contexts, reward_vectors, opt_actions, num_data_run = 20480, update_every=1, train_every=1024, train_batch_size=256, num_epoch=20, report_every=1024):\r\n",
        "    start_time = time.time()\r\n",
        "    train_start_index = 0\r\n",
        "    pred_actions = []\r\n",
        "    for t in range(num_data_run):\r\n",
        "        context_source = np.array([contexts[t] for i in range(CB.action_dim)])\r\n",
        "        reward_source = reward_vectors[t]\r\n",
        "        pred_a = CB.run(context_source, reward_source)\r\n",
        "        pred_actions.append(pred_a)\r\n",
        "\r\n",
        "        if (t+1) % train_every == 0:\r\n",
        "            CB.train(start_index=train_start_index, batch_size=train_batch_size, num_epoch=num_epoch)\r\n",
        "            train_start_index = t + 1\r\n",
        "\r\n",
        "        if (t+1) % update_every == 0:\r\n",
        "            CB.algorithm.update_all(CB.dataset)\r\n",
        "\r\n",
        "        if (t+1) % report_every == 0:\r\n",
        "            print(\"{} data points seen in total; Time used for previous {} data points: {:.3f} seconds\".format(t+1, report_every, (time.time() - start_time)))\r\n",
        "            start_time = time.time()\r\n",
        "\r\n",
        "    cum_rewards_pred_action = []\r\n",
        "    cum_rewards_opt_action = []\r\n",
        "    p_i = 0\r\n",
        "    o_i = 0\r\n",
        "    for i in range(num_data_run):\r\n",
        "        p_i += reward_vectors[i][pred_actions[i]]\r\n",
        "        o_i += reward_vectors[i][opt_actions[i]]\r\n",
        "        cum_rewards_pred_action.append(p_i)\r\n",
        "        cum_rewards_opt_action.append(o_i)\r\n",
        "    \r\n",
        "    return cum_rewards_pred_action, cum_rewards_opt_action"
      ],
      "execution_count": 20,
      "outputs": []
    },
    {
      "cell_type": "markdown",
      "metadata": {
        "id": "x6YEGlJgxOYF"
      },
      "source": [
        "### Wide and Deep model + LinUCB + GPU "
      ]
    },
    {
      "cell_type": "code",
      "metadata": {
        "colab": {
          "base_uri": "https://localhost:8080/"
        },
        "id": "YApQhVCq_R3s",
        "outputId": "cc67c5c4-289e-4d02-845d-da8878a564a2"
      },
      "source": [
        "embeddings = {'wide':[['user_id', len(vocab), 64]]}\r\n",
        "model_LinUCB = Wide_Deep(1, 14, 2, embeddings=embeddings, deep_neurons=[128, 64]).to(device)\r\n",
        "optimizer_LinUCB = optim.Adam(model_LinUCB.parameters(), lr=0.005)\r\n",
        "loss_func = nn.MSELoss()\r\n",
        "algorithm_LinUCB = LinUCB(device, model_LinUCB.z_dim, model_LinUCB.action_dim, delta=0.05)\r\n",
        "CB_LinUCB = ContextualBandit(device, model_LinUCB, optimizer_LinUCB, loss_func, algorithm_LinUCB)\r\n",
        "\r\n",
        "contexts = datasource.values\r\n",
        "reward_vectors = rewardsource.values\r\n",
        "opt_actions = opt_a.values\r\n",
        "\r\n",
        "cum_rewards_pred_action_LinCB, cum_rewards_opt_action_LinCB = run_CB(CB_LinUCB, contexts, reward_vectors, opt_actions, num_data_run = 20480, update_every=1, train_every=1024, train_batch_size=256, num_epoch=20, report_every = 1024)"
      ],
      "execution_count": 21,
      "outputs": [
        {
          "output_type": "stream",
          "text": [
            "This is a wide and deep model.\n",
            "1024 data points seen in total; Time used for previous 1024 data points: 3.593 seconds\n",
            "2048 data points seen in total; Time used for previous 1024 data points: 3.267 seconds\n",
            "3072 data points seen in total; Time used for previous 1024 data points: 3.306 seconds\n",
            "4096 data points seen in total; Time used for previous 1024 data points: 3.273 seconds\n",
            "5120 data points seen in total; Time used for previous 1024 data points: 3.346 seconds\n",
            "6144 data points seen in total; Time used for previous 1024 data points: 3.453 seconds\n",
            "7168 data points seen in total; Time used for previous 1024 data points: 3.508 seconds\n",
            "8192 data points seen in total; Time used for previous 1024 data points: 3.528 seconds\n",
            "9216 data points seen in total; Time used for previous 1024 data points: 3.557 seconds\n",
            "10240 data points seen in total; Time used for previous 1024 data points: 3.515 seconds\n",
            "11264 data points seen in total; Time used for previous 1024 data points: 3.558 seconds\n",
            "12288 data points seen in total; Time used for previous 1024 data points: 3.590 seconds\n",
            "13312 data points seen in total; Time used for previous 1024 data points: 3.672 seconds\n",
            "14336 data points seen in total; Time used for previous 1024 data points: 3.621 seconds\n",
            "15360 data points seen in total; Time used for previous 1024 data points: 3.636 seconds\n",
            "16384 data points seen in total; Time used for previous 1024 data points: 3.673 seconds\n",
            "17408 data points seen in total; Time used for previous 1024 data points: 3.709 seconds\n",
            "18432 data points seen in total; Time used for previous 1024 data points: 3.603 seconds\n",
            "19456 data points seen in total; Time used for previous 1024 data points: 3.677 seconds\n",
            "20480 data points seen in total; Time used for previous 1024 data points: 3.735 seconds\n"
          ],
          "name": "stdout"
        }
      ]
    },
    {
      "cell_type": "code",
      "metadata": {
        "id": "mpZdKK1h7Hz_",
        "colab": {
          "base_uri": "https://localhost:8080/",
          "height": 279
        },
        "outputId": "eb53f3b8-bf7a-4128-8981-eff3fbad21cc"
      },
      "source": [
        "import matplotlib.pyplot as plt\r\n",
        "plt.plot(cum_rewards_pred_action_LinCB, label = 'cum_rewards_pred_action_LinUCB')\r\n",
        "plt.plot(cum_rewards_opt_action_LinCB, label = 'cum_rewards_opt_action_LinUCB')\r\n",
        "plt.legend()\r\n",
        "plt.xlabel('num data')\r\n",
        "_ = plt.ylabel('cum rewards')"
      ],
      "execution_count": 22,
      "outputs": [
        {
          "output_type": "display_data",
          "data": {
            "image/png": "[encoded data removed]",
            "text/plain": [
              "<Figure size 432x288 with 1 Axes>"
            ]
          },
          "metadata": {
            "tags": [],
            "needs_background": "light"
          }
        }
      ]
    },
    {
      "cell_type": "markdown",
      "metadata": {
        "id": "VgrmbKxzxkvd"
      },
      "source": [
        "### Wide and Deep model + Thompson Sampling + GPU"
      ]
    },
    {
      "cell_type": "code",
      "metadata": {
        "colab": {
          "base_uri": "https://localhost:8080/"
        },
        "id": "9ljb3WWMeUKg",
        "outputId": "1e855b5d-08c4-4e7f-9fba-70147f5ee55c"
      },
      "source": [
        "embeddings = {'wide':[['user_id', len(vocab), 64]]}\r\n",
        "model_TS = Wide_Deep(1, 14, 2, embeddings=embeddings, deep_neurons=[128, 64]).to(device)\r\n",
        "optimizer_TS = optim.Adam(model_TS.parameters(), lr=0.005)\r\n",
        "loss_func = nn.MSELoss()\r\n",
        "algorithm_TS = TS(model_TS.z_dim, model_TS.action_dim, lambda_=0.25)\r\n",
        "CB_TS = ContextualBandit(device, model_TS, optimizer_TS, loss_func, algorithm_TS)\r\n",
        "\r\n",
        "cum_rewards_pred_action_TS, cum_rewards_opt_action_TS = run_CB(CB_TS, contexts, reward_vectors, opt_actions, num_data_run = 20480, update_every=1, train_every=1024, train_batch_size=256, num_epoch=20, report_every = 1024)"
      ],
      "execution_count": 24,
      "outputs": [
        {
          "output_type": "stream",
          "text": [
            "This is a wide and deep model.\n"
          ],
          "name": "stdout"
        },
        {
          "output_type": "stream",
          "text": [
            "/content/algorithms_v2.py:72: RuntimeWarning: covariance is not positive-semidefinite.\n",
            "  beta = np.random.multivariate_normal(mu, cov)\n"
          ],
          "name": "stderr"
        },
        {
          "output_type": "stream",
          "text": [
            "1024 data points seen in total; Time used for previous 1024 data points: 23.070 seconds\n",
            "2048 data points seen in total; Time used for previous 1024 data points: 21.860 seconds\n",
            "3072 data points seen in total; Time used for previous 1024 data points: 23.164 seconds\n",
            "4096 data points seen in total; Time used for previous 1024 data points: 22.882 seconds\n",
            "5120 data points seen in total; Time used for previous 1024 data points: 22.835 seconds\n",
            "6144 data points seen in total; Time used for previous 1024 data points: 23.532 seconds\n",
            "7168 data points seen in total; Time used for previous 1024 data points: 22.809 seconds\n",
            "8192 data points seen in total; Time used for previous 1024 data points: 22.826 seconds\n",
            "9216 data points seen in total; Time used for previous 1024 data points: 23.667 seconds\n",
            "10240 data points seen in total; Time used for previous 1024 data points: 23.211 seconds\n",
            "11264 data points seen in total; Time used for previous 1024 data points: 23.263 seconds\n",
            "12288 data points seen in total; Time used for previous 1024 data points: 22.782 seconds\n",
            "13312 data points seen in total; Time used for previous 1024 data points: 23.438 seconds\n",
            "14336 data points seen in total; Time used for previous 1024 data points: 23.623 seconds\n",
            "15360 data points seen in total; Time used for previous 1024 data points: 23.028 seconds\n",
            "16384 data points seen in total; Time used for previous 1024 data points: 23.208 seconds\n",
            "17408 data points seen in total; Time used for previous 1024 data points: 23.581 seconds\n",
            "18432 data points seen in total; Time used for previous 1024 data points: 22.803 seconds\n",
            "19456 data points seen in total; Time used for previous 1024 data points: 23.361 seconds\n",
            "20480 data points seen in total; Time used for previous 1024 data points: 23.500 seconds\n"
          ],
          "name": "stdout"
        }
      ]
    },
    {
      "cell_type": "code",
      "metadata": {
        "colab": {
          "base_uri": "https://localhost:8080/",
          "height": 279
        },
        "id": "15SjzxXHeV0q",
        "outputId": "7022e3e7-259e-4317-b279-df27fad6f7ce"
      },
      "source": [
        "plt.plot(cum_rewards_pred_action_TS, label = 'cum_rewards_pred_action_TS')\r\n",
        "plt.plot(cum_rewards_pred_action_LinCB, label = 'cum_rewards_pred_action_LinUCB')\r\n",
        "plt.plot(cum_rewards_opt_action_TS, label = 'cum_rewards_opt_action')\r\n",
        "plt.legend()\r\n",
        "plt.xlabel('num data')\r\n",
        "_ = plt.ylabel('cum rewards')"
      ],
      "execution_count": 25,
      "outputs": [
        {
          "output_type": "display_data",
          "data": {
            "image/png": "[encoded data removed]",
            "text/plain": [
              "<Figure size 432x288 with 1 Axes>"
            ]
          },
          "metadata": {
            "tags": [],
            "needs_background": "light"
          }
        }
      ]
    },
    {
      "cell_type": "markdown",
      "metadata": {
        "id": "9gyag7GbxyWp"
      },
      "source": [
        "### Space Bandits"
      ]
    },
    {
      "cell_type": "code",
      "metadata": {
        "id": "_JziyxfwHt7i",
        "colab": {
          "base_uri": "https://localhost:8080/"
        },
        "outputId": "5dff879a-baf6-437e-c7d4-75f182b13d98"
      },
      "source": [
        "!pip install space-bandits"
      ],
      "execution_count": 26,
      "outputs": [
        {
          "output_type": "stream",
          "text": [
            "Collecting space-bandits\n",
            "  Downloading https://files.pythonhosted.org/packages/38/25/1e2b2b5c6692dd334ab1c73cc19a4b160124efc6c54c7a90293e02228b72/space-bandits-0.0.992.tar.gz\n",
            "Requirement already satisfied: torch in /usr/local/lib/python3.6/dist-packages (from space-bandits) (1.7.0+cu101)\n",
            "Requirement already satisfied: numpy in /usr/local/lib/python3.6/dist-packages (from space-bandits) (1.19.5)\n",
            "Requirement already satisfied: scipy in /usr/local/lib/python3.6/dist-packages (from space-bandits) (1.4.1)\n",
            "Requirement already satisfied: pandas in /usr/local/lib/python3.6/dist-packages (from space-bandits) (1.1.5)\n",
            "Requirement already satisfied: cython in /usr/local/lib/python3.6/dist-packages (from space-bandits) (0.29.21)\n",
            "Requirement already satisfied: scikit-learn in /usr/local/lib/python3.6/dist-packages (from space-bandits) (0.22.2.post1)\n",
            "Requirement already satisfied: future in /usr/local/lib/python3.6/dist-packages (from torch->space-bandits) (0.16.0)\n",
            "Requirement already satisfied: dataclasses in /usr/local/lib/python3.6/dist-packages (from torch->space-bandits) (0.8)\n",
            "Requirement already satisfied: typing-extensions in /usr/local/lib/python3.6/dist-packages (from torch->space-bandits) (3.7.4.3)\n",
            "Requirement already satisfied: python-dateutil>=2.7.3 in /usr/local/lib/python3.6/dist-packages (from pandas->space-bandits) (2.8.1)\n",
            "Requirement already satisfied: pytz>=2017.2 in /usr/local/lib/python3.6/dist-packages (from pandas->space-bandits) (2018.9)\n",
            "Requirement already satisfied: joblib>=0.11 in /usr/local/lib/python3.6/dist-packages (from scikit-learn->space-bandits) (1.0.0)\n",
            "Requirement already satisfied: six>=1.5 in /usr/local/lib/python3.6/dist-packages (from python-dateutil>=2.7.3->pandas->space-bandits) (1.15.0)\n",
            "Building wheels for collected packages: space-bandits\n",
            "  Building wheel for space-bandits (setup.py) ... \u001b[?25l\u001b[?25hdone\n",
            "  Created wheel for space-bandits: filename=space_bandits-0.0.992-cp36-none-any.whl size=17441 sha256=056a762bcfc24d92c17f5193765578d4103b11b491b91e71fbb01a1e2df3e2e4\n",
            "  Stored in directory: /root/.cache/pip/wheels/a7/0c/a7/4bae68f8e665b4c68e7cb7ae7fff88269f3551a4b56b598a42\n",
            "Successfully built space-bandits\n",
            "Installing collected packages: space-bandits\n",
            "Successfully installed space-bandits-0.0.992\n"
          ],
          "name": "stdout"
        }
      ]
    },
    {
      "cell_type": "code",
      "metadata": {
        "colab": {
          "base_uri": "https://localhost:8080/"
        },
        "id": "j61pvbaWhn67",
        "outputId": "e71ca816-72ae-49e2-ab53-89e4fe4f3fe3"
      },
      "source": [
        "from space_bandits import NeuralBandits\r\n",
        "\r\n",
        "model_sb = NeuralBandits(2, 14, training_freq_network=1024, training_epochs=80, batch_size=256)\r\n",
        "start_time = time.time()\r\n",
        "pred_actions = []\r\n",
        "for i in range(20480):\r\n",
        "    context = contexts[:,1:][i]\r\n",
        "    action = model_sb.action(context)\r\n",
        "    pred_actions.append(action)\r\n",
        "    reward = reward_vectors[i][action]\r\n",
        "    model_sb.update(context, action, reward)\r\n",
        "    if (i+1) % 1024 == 0:\r\n",
        "        print(\"{} data points seen in total; Time used for previous {} data points: {:.3f} seconds\".format(i+1, 1024, (time.time() - start_time)))\r\n",
        "        start_time = time.time()"
      ],
      "execution_count": 29,
      "outputs": [
        {
          "output_type": "stream",
          "text": [
            "Training neural_model-bnn for 80 steps...\n",
            "1024 data points seen in total; Time used for previous 1024 data points: 7.699 seconds\n",
            "Training neural_model-bnn for 80 steps...\n",
            "2048 data points seen in total; Time used for previous 1024 data points: 10.427 seconds\n",
            "Training neural_model-bnn for 80 steps...\n",
            "3072 data points seen in total; Time used for previous 1024 data points: 11.594 seconds\n",
            "Training neural_model-bnn for 80 steps...\n",
            "4096 data points seen in total; Time used for previous 1024 data points: 12.975 seconds\n",
            "Training neural_model-bnn for 80 steps...\n",
            "5120 data points seen in total; Time used for previous 1024 data points: 14.563 seconds\n",
            "Training neural_model-bnn for 80 steps...\n",
            "6144 data points seen in total; Time used for previous 1024 data points: 15.614 seconds\n",
            "Training neural_model-bnn for 80 steps...\n",
            "7168 data points seen in total; Time used for previous 1024 data points: 16.876 seconds\n",
            "Training neural_model-bnn for 80 steps...\n",
            "8192 data points seen in total; Time used for previous 1024 data points: 18.569 seconds\n",
            "Training neural_model-bnn for 80 steps...\n",
            "9216 data points seen in total; Time used for previous 1024 data points: 20.255 seconds\n",
            "Training neural_model-bnn for 80 steps...\n",
            "10240 data points seen in total; Time used for previous 1024 data points: 20.826 seconds\n",
            "Training neural_model-bnn for 80 steps...\n",
            "11264 data points seen in total; Time used for previous 1024 data points: 23.932 seconds\n",
            "Training neural_model-bnn for 80 steps...\n",
            "12288 data points seen in total; Time used for previous 1024 data points: 24.732 seconds\n",
            "Training neural_model-bnn for 80 steps...\n",
            "13312 data points seen in total; Time used for previous 1024 data points: 26.616 seconds\n",
            "Training neural_model-bnn for 80 steps...\n",
            "14336 data points seen in total; Time used for previous 1024 data points: 28.729 seconds\n",
            "Training neural_model-bnn for 80 steps...\n",
            "15360 data points seen in total; Time used for previous 1024 data points: 29.565 seconds\n",
            "Training neural_model-bnn for 80 steps...\n",
            "16384 data points seen in total; Time used for previous 1024 data points: 31.112 seconds\n",
            "Training neural_model-bnn for 80 steps...\n",
            "17408 data points seen in total; Time used for previous 1024 data points: 33.932 seconds\n",
            "Training neural_model-bnn for 80 steps...\n",
            "18432 data points seen in total; Time used for previous 1024 data points: 35.900 seconds\n",
            "Training neural_model-bnn for 80 steps...\n",
            "19456 data points seen in total; Time used for previous 1024 data points: 36.965 seconds\n",
            "Training neural_model-bnn for 80 steps...\n",
            "20480 data points seen in total; Time used for previous 1024 data points: 38.781 seconds\n"
          ],
          "name": "stdout"
        }
      ]
    },
    {
      "cell_type": "code",
      "metadata": {
        "id": "6vFRJ8aNpc7r"
      },
      "source": [
        "cum_rewards_pred_action_sb = []\r\n",
        "cum_rewards_opt_action_sb = []\r\n",
        "p_i = 0\r\n",
        "o_i = 0\r\n",
        "for i in range(20480):\r\n",
        "    p_i += reward_vectors[i][pred_actions[i]]\r\n",
        "    o_i += reward_vectors[i][opt_actions[i]]\r\n",
        "    cum_rewards_pred_action_sb.append(p_i)\r\n",
        "    cum_rewards_opt_action_sb.append(o_i)"
      ],
      "execution_count": 30,
      "outputs": []
    },
    {
      "cell_type": "code",
      "metadata": {
        "colab": {
          "base_uri": "https://localhost:8080/",
          "height": 279
        },
        "id": "qs8NdMSx0y3i",
        "outputId": "ccec3fad-5fd0-42ec-ddbb-0fdfb2d966de"
      },
      "source": [
        "plt.plot(cum_rewards_pred_action_LinCB, label = 'cum_rewards_pred_action_LinUCB')\r\n",
        "plt.plot(cum_rewards_pred_action_TS, label = 'cum_rewards_pred_action_TS')\r\n",
        "plt.plot(cum_rewards_pred_action_sb, label = 'cum_rewards_pred_action_sb')\r\n",
        "plt.plot(cum_rewards_opt_action_sb, label = 'cum_rewards_opt_action')\r\n",
        "plt.legend()\r\n",
        "plt.xlabel('num data')\r\n",
        "_ = plt.ylabel('cum rewards')"
      ],
      "execution_count": 33,
      "outputs": [
        {
          "output_type": "display_data",
          "data": {
            "image/png": "[encoded data removed]",
            "text/plain": [
              "<Figure size 432x288 with 1 Axes>"
            ]
          },
          "metadata": {
            "tags": [],
            "needs_background": "light"
          }
        }
      ]
    }
  ]
}