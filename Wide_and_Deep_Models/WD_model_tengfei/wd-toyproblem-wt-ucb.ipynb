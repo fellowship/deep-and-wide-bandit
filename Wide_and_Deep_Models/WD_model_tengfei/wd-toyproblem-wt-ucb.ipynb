{
 "cells": [
  {
   "cell_type": "code",
   "execution_count": 1,
   "metadata": {
    "execution": {
     "iopub.execute_input": "2021-02-03T20:17:04.896885Z",
     "iopub.status.busy": "2021-02-03T20:17:04.896154Z",
     "iopub.status.idle": "2021-02-03T20:17:06.689455Z",
     "shell.execute_reply": "2021-02-03T20:17:06.688584Z"
    },
    "papermill": {
     "duration": 1.80843,
     "end_time": "2021-02-03T20:17:06.689741",
     "exception": false,
     "start_time": "2021-02-03T20:17:04.881311",
     "status": "completed"
    },
    "tags": []
   },
   "outputs": [
    {
     "name": "stdout",
     "output_type": "stream",
     "text": [
      "cuda\n"
     ]
    }
   ],
   "source": [
    "import torch\n",
    "import torch.nn as nn\n",
    "import torch.nn.functional as F\n",
    "import torch.utils.data as data\n",
    "import torch.optim as optim\n",
    "import numpy as np\n",
    "from collections import OrderedDict\n",
    "\n",
    "device = 'cuda'if torch.cuda.is_available() else 'cpu'\n",
    "print(device)"
   ]
  },
  {
   "cell_type": "code",
   "execution_count": 2,
   "metadata": {
    "execution": {
     "iopub.execute_input": "2021-02-03T20:17:06.732454Z",
     "iopub.status.busy": "2021-02-03T20:17:06.722524Z",
     "iopub.status.idle": "2021-02-03T20:17:07.149770Z",
     "shell.execute_reply": "2021-02-03T20:17:07.148939Z"
    },
    "papermill": {
     "duration": 0.449665,
     "end_time": "2021-02-03T20:17:07.149970",
     "exception": false,
     "start_time": "2021-02-03T20:17:06.700305",
     "status": "completed"
    },
    "tags": []
   },
   "outputs": [],
   "source": [
    "import numpy as np\n",
    "\n",
    "def get_customer(ctype=None):\n",
    "    \"\"\"Customers come from two feature distributions.\n",
    "    Class 1: mean age 25, var 5 years, min age 18\n",
    "             mean ARPU 100, var 15\n",
    "    Class 2: mean age 45, var 6 years\n",
    "             mean ARPU 50, var 25\n",
    "    \"\"\"\n",
    "    if ctype is None:\n",
    "        if np.random.random() > .5: #coin toss\n",
    "            ctype = 1\n",
    "        else:\n",
    "            ctype = 2\n",
    "    age = 0\n",
    "    ft = -1\n",
    "    if ctype == 1:\n",
    "        while age < 18:\n",
    "            age = np.random.normal(25, 5)\n",
    "        while ft < 0:\n",
    "            ft = np.random.normal(100, 15)\n",
    "    if ctype == 2:\n",
    "        while age < 18:\n",
    "            age = np.random.normal(45, 6)\n",
    "        while ft < 0:\n",
    "            ft = np.random.normal(50, 25)\n",
    "    age = round(age)\n",
    "    return ctype, (age, ft)\n",
    "\n",
    "def get_rewards(customer):\n",
    "    \"\"\"\n",
    "    There are three actions:\n",
    "    promo 1: low value. 10 dollar if accept\n",
    "    promo 2: mid value. 25 dollar if accept\n",
    "    promo 3: high value. 100 dollar if accept\n",
    "    Both groups are unlikely to accept promo 2.\n",
    "    Group 1 is more likely to accept promo 1.\n",
    "    Group 2 is slightly more likely to accept promo 3.\n",
    "    The optimal choice for group 1 is promo 1; 90% acceptance for\n",
    "    an expected reward of 9 dollars each.\n",
    "    Group 2 accepts with 25% rate for expected 2.5 dollar reward\n",
    "    The optimal choice for group 2 is promo 3; 20% acceptance for an expected\n",
    "    reward of 20 dollars each.\n",
    "    Group 1 accepts with 2% for expected reward of 2 dollars.\n",
    "    The least optimal choice in all cases is promo 2; 10% acceptance rate for both groups\n",
    "    for an expected reward of 2.5 dollars.\n",
    "    \"\"\"\n",
    "    if customer[0] == 1: #group 1 customer\n",
    "        if np.random.random() > .1:\n",
    "            reward1 = 10\n",
    "        else:\n",
    "            reward1 = 0\n",
    "        if np.random.random() > .90:\n",
    "            reward2 = 25\n",
    "        else:\n",
    "            reward2 = 0\n",
    "        if np.random.random() > .98:\n",
    "            reward3 = 100\n",
    "        else:\n",
    "            reward3 = 0\n",
    "    if customer[0] == 2: #group 2 customer\n",
    "        if np.random.random() > .75:\n",
    "            reward1 = 10\n",
    "        else:\n",
    "            reward1 = 0\n",
    "        if np.random.random() > .90:\n",
    "            reward2 = 25\n",
    "        else:\n",
    "            reward2 = 0\n",
    "        if np.random.random() > .80:\n",
    "            reward3 = 100\n",
    "        else:\n",
    "            reward3 = 0\n",
    "    return np.array([reward1, reward2, reward3])\n",
    "\n",
    "def generate_data(n_rows):\n",
    "    contexts = []\n",
    "    actions = []\n",
    "    rewards = []\n",
    "    opt_actions = []\n",
    "    reward_vectors = []\n",
    "    for i in range(n_rows):\n",
    "        ctype, (age, ARPU) = get_customer()\n",
    "        reward_vector = get_rewards((ctype, (age, ARPU)))\n",
    "        action = np.random.randint(0,3)\n",
    "        reward = reward_vector[action]\n",
    "        if ctype == 1:\n",
    "            user_id = np.random.randint(0,20)\n",
    "            opt_action = 0\n",
    "        else:\n",
    "            user_id = np.random.randint(20,40)\n",
    "            opt_action = 2\n",
    "        contexts.append([user_id, age, ARPU])\n",
    "        actions.append(action)\n",
    "        rewards.append(reward)\n",
    "        opt_actions.append(opt_action)\n",
    "        reward_vectors.append(reward_vector)\n",
    "    return np.array(contexts), np.array(actions), np.array(rewards), np.array(opt_actions), np.array(reward_vectors)\n",
    "\n",
    "\n",
    "num_data_train = 10240\n",
    "data_train = generate_data(num_data_train)\n",
    "num_data_test = 1024\n",
    "data_valid = generate_data(num_data_test)"
   ]
  },
  {
   "cell_type": "code",
   "execution_count": 3,
   "metadata": {
    "execution": {
     "iopub.execute_input": "2021-02-03T20:17:07.177625Z",
     "iopub.status.busy": "2021-02-03T20:17:07.176343Z",
     "iopub.status.idle": "2021-02-03T20:17:07.178851Z",
     "shell.execute_reply": "2021-02-03T20:17:07.179340Z"
    },
    "papermill": {
     "duration": 0.020425,
     "end_time": "2021-02-03T20:17:07.179512",
     "exception": false,
     "start_time": "2021-02-03T20:17:07.159087",
     "status": "completed"
    },
    "tags": []
   },
   "outputs": [],
   "source": [
    "class Toydataset(data.Dataset):\n",
    "    def __init__(self, data_input):\n",
    "        contexts, actions, rewards, opt_actions, reward_vectors = data_input\n",
    "        self.contexts = contexts\n",
    "        self.rewards = rewards\n",
    "        self.actions = actions\n",
    "        self.opt_actions = opt_actions\n",
    "        self.reward_vectors = reward_vectors\n",
    "\n",
    "    def __getitem__(self, index):\n",
    "        return self.contexts[index], self.actions[index], self.rewards[index], self.opt_actions[index], self.reward_vectors[index]\n",
    "\n",
    "    def __len__(self):\n",
    "        return self.contexts.shape[0]\n",
    "    \n",
    "dataset_train = Toydataset(data_train)\n",
    "dataloader_train = data.DataLoader(dataset=dataset_train, batch_size=64, shuffle=True)\n",
    "dataset_valid = Toydataset(data_valid)\n",
    "dataloader_valid = data.DataLoader(dataset=dataset_valid, batch_size=64, shuffle=True)"
   ]
  },
  {
   "cell_type": "code",
   "execution_count": 4,
   "metadata": {
    "execution": {
     "iopub.execute_input": "2021-02-03T20:17:07.209733Z",
     "iopub.status.busy": "2021-02-03T20:17:07.205005Z",
     "iopub.status.idle": "2021-02-03T20:17:11.742424Z",
     "shell.execute_reply": "2021-02-03T20:17:11.741792Z"
    },
    "papermill": {
     "duration": 4.554384,
     "end_time": "2021-02-03T20:17:11.742601",
     "exception": false,
     "start_time": "2021-02-03T20:17:07.188217",
     "status": "completed"
    },
    "tags": []
   },
   "outputs": [],
   "source": [
    "class WDmodel(nn.Module):\n",
    "    def __init__(self,         \n",
    "                 deep_in_dim=63, \n",
    "                 action_dim=3, \n",
    "                 num_embedding=100, \n",
    "                 embed_dim=16, \n",
    "                 deep_neurons=[32, 16], \n",
    "                 activation=nn.ReLU()):\n",
    "        \n",
    "        super(WDmodel, self).__init__()\n",
    "        \n",
    "        self.action_dim = action_dim\n",
    "        self.z_dim = embed_dim + deep_neurons[-1]\n",
    "        self.activation = activation\n",
    "        \n",
    "        self.wide = nn.Embedding(num_embedding, embed_dim)\n",
    "        \n",
    "        deep_dict = OrderedDict([])\n",
    "        in_features = deep_in_dim\n",
    "        for i, out_features in enumerate(deep_neurons):\n",
    "            deep_dict[f\"fc{i}\"] = nn.Linear(in_features, out_features)\n",
    "            deep_dict[f\"activation{i}\"] = activation\n",
    "            in_features = out_features\n",
    "\n",
    "        self.deep = nn.Sequential(deep_dict)\n",
    "        # define the final layer\n",
    "        self.lastlayer = nn.Linear(self.z_dim, self.action_dim)\n",
    "        \n",
    "    def forward(self, x):\n",
    "        \n",
    "        w_in = x[:,0].long()\n",
    "        w_out = self.wide(w_in)\n",
    "        d_in = x[:,1:]\n",
    "        d_out = self.deep(d_in)\n",
    "        lastlayer_in = torch.cat((w_out, d_out),dim=1)\n",
    "        out = self.activation(self.lastlayer(lastlayer_in))\n",
    "        return out\n",
    "    \n",
    "model = WDmodel(deep_in_dim=2, action_dim=3, num_embedding=40, deep_neurons=[128, 64]).to(device)\n",
    "loss_func = nn.MSELoss()\n",
    "optimizer = optim.Adam(model.parameters(), lr=0.005)"
   ]
  },
  {
   "cell_type": "code",
   "execution_count": 5,
   "metadata": {
    "execution": {
     "iopub.execute_input": "2021-02-03T20:17:11.776537Z",
     "iopub.status.busy": "2021-02-03T20:17:11.774735Z",
     "iopub.status.idle": "2021-02-03T20:17:11.777234Z",
     "shell.execute_reply": "2021-02-03T20:17:11.777712Z"
    },
    "papermill": {
     "duration": 0.024626,
     "end_time": "2021-02-03T20:17:11.777849",
     "exception": false,
     "start_time": "2021-02-03T20:17:11.753223",
     "status": "completed"
    },
    "tags": []
   },
   "outputs": [],
   "source": [
    "def train(device, model, dataloader_train, dataloader_valid, loss_func, optimizer, num_epoches):\n",
    "    training_losses = []\n",
    "    valid_losses = []\n",
    "    for i in range(num_epoches):\n",
    "        running_loss = 0.0\n",
    "        training_average_loss = 0.0\n",
    "        for contexts, actions, rewards, _, _ in dataloader_train:\n",
    "            contexts = contexts.float().to(device)\n",
    "            actions = actions.long().to(device)\n",
    "            rewards = rewards.float().to(device)\n",
    "            outputs = model(contexts)\n",
    "            outs = outputs[range(outputs.shape[0]),actions]\n",
    "            loss = loss_func(outs, rewards)\n",
    "            optimizer.zero_grad()\n",
    "            loss.backward()\n",
    "            optimizer.step()\n",
    "            running_loss += loss.item() * len(contexts)\n",
    "        training_average_loss = running_loss/float(len(dataloader_train.dataset))\n",
    "        training_losses.append(training_average_loss)\n",
    "        \n",
    "        running_loss = 0.0\n",
    "        valid_average_loss = 0.0\n",
    "        for contexts, actions, rewards, _, _ in dataloader_valid:\n",
    "            contexts = contexts.float().to(device)\n",
    "            actions = actions.long().to(device)\n",
    "            rewards = rewards.float().to(device)\n",
    "            outputs = model(contexts)\n",
    "            outs = outputs[range(outputs.shape[0]),actions]\n",
    "            loss = loss_func(outs, rewards)\n",
    "            running_loss += loss.item() * len(contexts)\n",
    "        valid_average_loss = running_loss/float(len(dataloader_valid.dataset))\n",
    "        valid_losses.append(valid_average_loss)\n",
    "        \n",
    "        if (i+1) % 10 == 0:\n",
    "            print(\"Epoch: {}\\t training loss: {}\\t validation loss: {}\".format(i+1, training_average_loss, valid_average_loss))\n",
    "\n",
    "    return training_losses, valid_losses"
   ]
  },
  {
   "cell_type": "code",
   "execution_count": 6,
   "metadata": {
    "execution": {
     "iopub.execute_input": "2021-02-03T20:17:11.802017Z",
     "iopub.status.busy": "2021-02-03T20:17:11.801192Z",
     "iopub.status.idle": "2021-02-03T20:22:17.056332Z",
     "shell.execute_reply": "2021-02-03T20:22:17.057107Z"
    },
    "papermill": {
     "duration": 305.270223,
     "end_time": "2021-02-03T20:22:17.057332",
     "exception": false,
     "start_time": "2021-02-03T20:17:11.787109",
     "status": "completed"
    },
    "tags": []
   },
   "outputs": [
    {
     "name": "stdout",
     "output_type": "stream",
     "text": [
      "Epoch: 10\t training loss: 404.66058203577995\t validation loss: 349.6391587257385\n",
      "Epoch: 20\t training loss: 332.13119757175446\t validation loss: 298.52150535583496\n",
      "Epoch: 30\t training loss: 329.4204173564911\t validation loss: 303.15284180641174\n",
      "Epoch: 40\t training loss: 329.35611884593965\t validation loss: 299.01494550704956\n",
      "Epoch: 50\t training loss: 328.95172383785246\t validation loss: 297.8904995918274\n",
      "Epoch: 60\t training loss: 328.59171333312986\t validation loss: 297.7688331604004\n",
      "Epoch: 70\t training loss: 328.6592695713043\t validation loss: 298.60061168670654\n",
      "Epoch: 80\t training loss: 328.4677109003067\t validation loss: 297.49351263046265\n",
      "Epoch: 90\t training loss: 327.9155864238739\t validation loss: 296.45688819885254\n",
      "Epoch: 100\t training loss: 328.63290376663207\t validation loss: 296.54957914352417\n",
      "Epoch: 110\t training loss: 328.5711685776711\t validation loss: 297.0093367099762\n",
      "Epoch: 120\t training loss: 328.365360045433\t validation loss: 296.6597979068756\n",
      "Epoch: 130\t training loss: 329.260116314888\t validation loss: 295.9953851699829\n",
      "Epoch: 140\t training loss: 327.95217607021334\t validation loss: 297.0048351287842\n",
      "Epoch: 150\t training loss: 327.7283926486969\t validation loss: 296.5029926300049\n",
      "Epoch: 160\t training loss: 328.04887154102323\t validation loss: 296.63639187812805\n",
      "Epoch: 170\t training loss: 327.92322115898133\t validation loss: 296.22752571105957\n",
      "Epoch: 180\t training loss: 328.11732218265536\t validation loss: 296.75694847106934\n",
      "Epoch: 190\t training loss: 328.1574062347412\t validation loss: 296.5309624671936\n",
      "Epoch: 200\t training loss: 327.7429988861084\t validation loss: 296.25900387763977\n",
      "Epoch: 210\t training loss: 327.8324068784714\t validation loss: 296.1013698577881\n",
      "Epoch: 220\t training loss: 327.6583883047104\t validation loss: 296.0021848678589\n",
      "Epoch: 230\t training loss: 327.74999806880953\t validation loss: 296.7376141548157\n",
      "Epoch: 240\t training loss: 328.1821094751358\t validation loss: 296.34583616256714\n",
      "Epoch: 250\t training loss: 327.9236776828766\t validation loss: 296.0664978027344\n",
      "Epoch: 260\t training loss: 327.9398031234741\t validation loss: 296.91575145721436\n",
      "Epoch: 270\t training loss: 327.76200177669523\t validation loss: 297.39792680740356\n",
      "Epoch: 280\t training loss: 327.84047894477845\t validation loss: 296.69291639328003\n",
      "Epoch: 290\t training loss: 328.04841659069064\t validation loss: 296.6344051361084\n",
      "Epoch: 300\t training loss: 327.6740647315979\t validation loss: 298.05618381500244\n",
      "Epoch: 310\t training loss: 327.6710956096649\t validation loss: 296.08326041698456\n",
      "Epoch: 320\t training loss: 327.53906004428865\t validation loss: 295.89026165008545\n",
      "Epoch: 330\t training loss: 327.7589912414551\t validation loss: 296.3383934497833\n",
      "Epoch: 340\t training loss: 327.87628185749054\t validation loss: 296.0814723968506\n",
      "Epoch: 350\t training loss: 327.7648877620697\t validation loss: 295.9279990196228\n",
      "Epoch: 360\t training loss: 327.6795111179352\t validation loss: 296.25779819488525\n",
      "Epoch: 370\t training loss: 327.6196451187134\t validation loss: 296.1971538066864\n",
      "Epoch: 380\t training loss: 327.5226311922073\t validation loss: 296.9296078681946\n",
      "Epoch: 390\t training loss: 327.2230300426483\t validation loss: 295.4272520542145\n",
      "Epoch: 400\t training loss: 327.63878016471864\t validation loss: 296.17502784729004\n",
      "Epoch: 410\t training loss: 327.7707241296768\t validation loss: 295.6609869003296\n",
      "Epoch: 420\t training loss: 327.3889115333557\t validation loss: 295.9653797149658\n",
      "Epoch: 430\t training loss: 327.6089408636093\t validation loss: 296.206157207489\n",
      "Epoch: 440\t training loss: 327.8636305809021\t validation loss: 295.5954604148865\n",
      "Epoch: 450\t training loss: 327.44625239372255\t validation loss: 295.5554509162903\n",
      "Epoch: 460\t training loss: 327.6314003944397\t validation loss: 295.86796522140503\n",
      "Epoch: 470\t training loss: 327.61525251865385\t validation loss: 297.4197287559509\n",
      "Epoch: 480\t training loss: 327.56657581329347\t validation loss: 296.2901978492737\n",
      "Epoch: 490\t training loss: 327.5498792886734\t validation loss: 295.84050846099854\n",
      "Epoch: 500\t training loss: 327.58449625968933\t validation loss: 296.2661895751953\n"
     ]
    }
   ],
   "source": [
    "num_epoches = 500\n",
    "training_losses, valid_losses = train(device, model, dataloader_train, dataloader_valid, loss_func, optimizer, num_epoches)"
   ]
  },
  {
   "cell_type": "code",
   "execution_count": 7,
   "metadata": {
    "execution": {
     "iopub.execute_input": "2021-02-03T20:22:17.140215Z",
     "iopub.status.busy": "2021-02-03T20:22:17.139420Z",
     "iopub.status.idle": "2021-02-03T20:22:17.424069Z",
     "shell.execute_reply": "2021-02-03T20:22:17.425315Z"
    },
    "papermill": {
     "duration": 0.330647,
     "end_time": "2021-02-03T20:22:17.425583",
     "exception": false,
     "start_time": "2021-02-03T20:22:17.094936",
     "status": "completed"
    },
    "tags": []
   },
   "outputs": [
    {
     "data": {
      "image/png": "[encoded data removed]",
      "text/plain": [
       "<Figure size 432x288 with 1 Axes>"
      ]
     },
     "metadata": {
      "needs_background": "light"
     },
     "output_type": "display_data"
    }
   ],
   "source": [
    "import matplotlib.pyplot as plt\n",
    "plt.plot(training_losses, label = 'train_loss')\n",
    "plt.plot(valid_losses, label = 'valid_loss')\n",
    "plt.legend()\n",
    "plt.xlabel('epoch')\n",
    "_ = plt.ylabel('loss')"
   ]
  },
  {
   "cell_type": "code",
   "execution_count": 8,
   "metadata": {
    "execution": {
     "iopub.execute_input": "2021-02-03T20:22:17.525990Z",
     "iopub.status.busy": "2021-02-03T20:22:17.523868Z",
     "iopub.status.idle": "2021-02-03T20:22:17.526855Z",
     "shell.execute_reply": "2021-02-03T20:22:17.527368Z"
    },
    "papermill": {
     "duration": 0.055995,
     "end_time": "2021-02-03T20:22:17.527541",
     "exception": false,
     "start_time": "2021-02-03T20:22:17.471546",
     "status": "completed"
    },
    "tags": []
   },
   "outputs": [],
   "source": [
    "def evaluate(device, model, dataloader):\n",
    "    corrects = 0\n",
    "    cumu_r_p_a = 0.0\n",
    "    cumu_r_o_a = 0.0\n",
    "    for contexts, _, _, opt_actions, reward_vectors in dataloader:\n",
    "        contexts = contexts.float().to(device)\n",
    "        opt_actions = opt_actions.long().to(device)\n",
    "        outputs = model(contexts)\n",
    "        pred_actions = torch.argmax(outputs,dim=1)\n",
    "        corrects += torch.sum(pred_actions==opt_actions).item()\n",
    "        cumu_r_p_a += torch.sum(reward_vectors[range(len(reward_vectors)),pred_actions]).item()\n",
    "        cumu_r_o_a += torch.sum(reward_vectors[range(len(reward_vectors)),opt_actions]).item()\n",
    "    accuracy = corrects/len(dataloader.dataset)\n",
    "    print(\"accuracy of predicted actions: {}\\nCumulative reward for predicted actions: {}\\nCumulative reward for optimal actions: {}\".format(accuracy, cumu_r_p_a, cumu_r_o_a))\n",
    "    \n",
    "    #return accuracy, cumu_r_p_a, cumu_r_o_a\n",
    "    "
   ]
  },
  {
   "cell_type": "code",
   "execution_count": 9,
   "metadata": {
    "execution": {
     "iopub.execute_input": "2021-02-03T20:22:17.591727Z",
     "iopub.status.busy": "2021-02-03T20:22:17.590919Z",
     "iopub.status.idle": "2021-02-03T20:22:17.881298Z",
     "shell.execute_reply": "2021-02-03T20:22:17.881875Z"
    },
    "papermill": {
     "duration": 0.324826,
     "end_time": "2021-02-03T20:22:17.882069",
     "exception": false,
     "start_time": "2021-02-03T20:22:17.557243",
     "status": "completed"
    },
    "tags": []
   },
   "outputs": [
    {
     "name": "stdout",
     "output_type": "stream",
     "text": [
      "accuracy of predicted actions: 0.99833984375\n",
      "Cumulative reward for predicted actions: 150220.0\n",
      "Cumulative reward for optimal actions: 150380.0\n"
     ]
    }
   ],
   "source": [
    "evaluate(device, model, dataloader_train)"
   ]
  },
  {
   "cell_type": "code",
   "execution_count": 10,
   "metadata": {
    "execution": {
     "iopub.execute_input": "2021-02-03T20:22:17.942427Z",
     "iopub.status.busy": "2021-02-03T20:22:17.941481Z",
     "iopub.status.idle": "2021-02-03T20:22:17.974732Z",
     "shell.execute_reply": "2021-02-03T20:22:17.974239Z"
    },
    "papermill": {
     "duration": 0.065025,
     "end_time": "2021-02-03T20:22:17.974859",
     "exception": false,
     "start_time": "2021-02-03T20:22:17.909834",
     "status": "completed"
    },
    "tags": []
   },
   "outputs": [
    {
     "name": "stdout",
     "output_type": "stream",
     "text": [
      "accuracy of predicted actions: 0.9990234375\n",
      "Cumulative reward for predicted actions: 12950.0\n",
      "Cumulative reward for optimal actions: 12960.0\n"
     ]
    }
   ],
   "source": [
    "evaluate(device, model, dataloader_valid)"
   ]
  },
  {
   "cell_type": "code",
   "execution_count": null,
   "metadata": {
    "papermill": {
     "duration": 0.028056,
     "end_time": "2021-02-03T20:22:18.031063",
     "exception": false,
     "start_time": "2021-02-03T20:22:18.003007",
     "status": "completed"
    },
    "tags": []
   },
   "outputs": [],
   "source": []
  }
 ],
 "metadata": {
  "kernelspec": {
   "display_name": "Python 3",
   "language": "python",
   "name": "python3"
  },
  "language_info": {
   "codemirror_mode": {
    "name": "ipython",
    "version": 3
   },
   "file_extension": ".py",
   "mimetype": "text/x-python",
   "name": "python",
   "nbconvert_exporter": "python",
   "pygments_lexer": "ipython3",
   "version": "3.7.9"
  },
  "papermill": {
   "default_parameters": {},
   "duration": 319.749511,
   "end_time": "2021-02-03T20:22:19.068185",
   "environment_variables": {},
   "exception": null,
   "input_path": "__notebook__.ipynb",
   "output_path": "__notebook__.ipynb",
   "parameters": {},
   "start_time": "2021-02-03T20:16:59.318674",
   "version": "2.2.2"
  }
 },
 "nbformat": 4,
 "nbformat_minor": 4
}
