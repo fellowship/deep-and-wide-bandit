{
  "nbformat": 4,
  "nbformat_minor": 0,
  "metadata": {
    "colab": {
      "name": "Generated_Dataset_Aleksey_keras.ipynb",
      "provenance": [],
      "collapsed_sections": [],
      "toc_visible": true,
      "authorship_tag": "ABX9TyP75+fJRB+uSb9msSCHSjtx",
      "include_colab_link": true
    },
    "kernelspec": {
      "name": "python3",
      "display_name": "Python 3"
    },
    "accelerator": "GPU"
  },
  "cells": [
    {
      "cell_type": "markdown",
      "metadata": {
        "id": "view-in-github",
        "colab_type": "text"
      },
      "source": [
        "<a href=\"https://colab.research.google.com/github/fellowship/deep-and-wide-bandit/blob/dev/generated_dataset4_csv_Aleksey_TF_keras.ipynb\" target=\"_parent\"><img src=\"https://colab.research.google.com/assets/colab-badge.svg\" alt=\"Open In Colab\"/></a>"
      ]
    },
    {
      "cell_type": "markdown",
      "metadata": {
        "id": "APMFc3DBzZx2"
      },
      "source": [
        "# Package Imports"
      ]
    },
    {
      "cell_type": "code",
      "metadata": {
        "colab": {
          "base_uri": "https://localhost:8080/",
          "height": 35
        },
        "id": "Xv4ks7Mc0A8A",
        "outputId": "17636e48-b767-40f2-b08a-c696f843f7ef"
      },
      "source": [
        "import tensorflow as tf\n",
        "tf.test.gpu_device_name()"
      ],
      "execution_count": 1,
      "outputs": [
        {
          "output_type": "execute_result",
          "data": {
            "application/vnd.google.colaboratory.intrinsic+json": {
              "type": "string"
            },
            "text/plain": [
              "'/device:GPU:0'"
            ]
          },
          "metadata": {
            "tags": []
          },
          "execution_count": 1
        }
      ]
    },
    {
      "cell_type": "code",
      "metadata": {
        "colab": {
          "base_uri": "https://localhost:8080/"
        },
        "id": "SlVg5b3-1MDp",
        "outputId": "24bf42dc-ef03-4666-f287-77e06a7cf032"
      },
      "source": [
        "#Mount Google Drive\n",
        "from google.colab import drive\n",
        "drive.mount('/content/drive')"
      ],
      "execution_count": 2,
      "outputs": [
        {
          "output_type": "stream",
          "text": [
            "Mounted at /content/drive\n"
          ],
          "name": "stdout"
        }
      ]
    },
    {
      "cell_type": "code",
      "metadata": {
        "id": "tCzbE5P81Pnk"
      },
      "source": [
        "from pathlib import Path\n",
        "import pandas as pd\n",
        "import numpy as np\n",
        "import re\n",
        "import json\n",
        "import pickle as pkl\n",
        "import gc\n",
        "\n",
        "%matplotlib inline\n",
        "import matplotlib.pyplot as plt\n",
        "\n",
        "import random\n",
        "import seaborn as sns\n",
        "from pprint import pprint\n",
        "from sklearn.metrics import confusion_matrix\n",
        "\n",
        "from IPython.core.interactiveshell import InteractiveShell  \n",
        "InteractiveShell.ast_node_interactivity = \"all\"\n",
        "\n",
        "#Makes panda and numpy easier to read\n",
        "pd.set_option('display.float_format', lambda x: '%.3f' % x)\n",
        "np.set_printoptions(precision=3, suppress=True)"
      ],
      "execution_count": 3,
      "outputs": []
    },
    {
      "cell_type": "markdown",
      "metadata": {
        "id": "bSmePRcqzc9r"
      },
      "source": [
        "# Importing the Data"
      ]
    },
    {
      "cell_type": "code",
      "metadata": {
        "id": "7GL8gR9W8Rd7"
      },
      "source": [
        "#Initialize a control variable that determines whether we will import data\n",
        "reexport_var = False\n",
        "project_folder = Path(\"/content/drive/MyDrive/Bandit_Project/generated_data_4_project\")\n",
        "train_path = project_folder/\"train.csv\"\n",
        "val_path = project_folder/\"val.csv\"\n",
        "test_path = project_folder/\"test.csv\""
      ],
      "execution_count": 4,
      "outputs": []
    },
    {
      "cell_type": "code",
      "metadata": {
        "id": "XOIU2Kk51X3w"
      },
      "source": [
        "if reexport_var:\n",
        "  input_file = Path(\"/content/drive/MyDrive/Bandit_Project/BanditsData/generated4.csv\")\n",
        "  df = pd.read_csv(input_file, header=[0])\n",
        "\n",
        "  #Subtract the optimal_action by 1 so as to make them compatible with tf.estimator\n",
        "  df[\"optimal_action\"] = df[\"optimal_action\"] - 1\n",
        "  df.head()"
      ],
      "execution_count": 5,
      "outputs": []
    },
    {
      "cell_type": "code",
      "metadata": {
        "id": "_ji1YxSszszZ"
      },
      "source": [
        "if reexport_var:\n",
        "  #Splitting into training & test set - 60-20-20 split\n",
        "  train_split_index = int(0.6 * len(df))\n",
        "  val_split_index = int(0.8 * len(df))\n",
        "\n",
        "  df_temp = df.copy()\n",
        "  df_temp = df_temp.sample(frac=1, random_state=42).reset_index()\n",
        "\n",
        "  train_df = df_temp.loc[:train_split_index, :]\n",
        "  val_df = df_temp.loc[train_split_index:val_split_index, :]\n",
        "  test_df = df_temp.loc[val_split_index:, :]\n",
        "\n",
        "  #Printing the dataframes\n",
        "  print(f\"[INFO] The training dataframe has {len(train_df)} instances from indices {0} to {train_split_index-1}\")\n",
        "  train_df.head()\n",
        "  print(f\"[INFO] The validation dataframe has {len(val_df)} instances from indices {train_split_index} to {val_split_index - 1}\")\n",
        "  val_df.head()\n",
        "  print(f\"[INFO] The training dataframe has {len(test_df)} instances from indices {val_split_index} to {len(df)}\")\n",
        "  test_df.head()\n",
        "\n",
        "  #Export training and test set into separate CSV files\n",
        "  train_df.to_csv(train_path, index=False, header=True)\n",
        "  val_df.to_csv(val_path, index=False, header=True)\n",
        "  test_df.to_csv(test_path, index=False, header=True)"
      ],
      "execution_count": 6,
      "outputs": []
    },
    {
      "cell_type": "code",
      "metadata": {
        "colab": {
          "base_uri": "https://localhost:8080/"
        },
        "id": "CCbTJC0T-M5E",
        "outputId": "1c170b55-737c-421d-dc47-b9ed3711bd6a"
      },
      "source": [
        "print(f\"[INFO] Does training data exist? {train_path.exists()}\")\n",
        "print(f\"[INFO] Does val data exist? {val_path.exists()}\")\n",
        "print(f\"[INFO] Does test data exist? {test_path.exists()}\")"
      ],
      "execution_count": 7,
      "outputs": [
        {
          "output_type": "stream",
          "text": [
            "[INFO] Does training data exist? True\n",
            "[INFO] Does val data exist? True\n",
            "[INFO] Does test data exist? True\n"
          ],
          "name": "stdout"
        }
      ]
    },
    {
      "cell_type": "markdown",
      "metadata": {
        "id": "Xhg07ElKzfgG"
      },
      "source": [
        "# Preparing Dataset for evaluation"
      ]
    },
    {
      "cell_type": "code",
      "metadata": {
        "id": "BGKItoJb12kP"
      },
      "source": [
        "#Given a df patterns, convert them to DL\n",
        "def df_to_dataloader(file_path, feature_columns, target, batch_size=32, shuffle=True):\n",
        "  \n",
        "  use_cols = feature_columns + [target]\n",
        "  dataframe = pd.read_csv(file_path, usecols=use_cols)[use_cols]\n",
        "  labels = dataframe.pop(target)\n",
        "  labels = tf.one_hot(labels, depth=10)\n",
        "  ds = tf.data.Dataset.from_tensor_slices((dict(dataframe), labels))\n",
        "  if shuffle:\n",
        "    ds = ds.shuffle(buffer_size=len(dataframe))\n",
        "  dl = ds.batch(batch_size)\n",
        "  return dl"
      ],
      "execution_count": 8,
      "outputs": []
    },
    {
      "cell_type": "code",
      "metadata": {
        "id": "HRNgRMezTs-5"
      },
      "source": [
        "#Given CSV file patterns, convert them to DL\n",
        "def csv_to_dataloader(file_pattern, feature_cols, target_col, shuffle=True, \n",
        "                       batch_size=1024, n_epochs = None):\n",
        "  \n",
        "  select_cols = feature_cols + [target_col]\n",
        "  return tf.data.experimental.make_csv_dataset(file_pattern = file_pattern, \n",
        "                                             batch_size = batch_size,\n",
        "                                             label_name = target_col,\n",
        "                                             select_columns = select_cols,\n",
        "                                             header=True, \n",
        "                                             num_epochs=n_epochs,\n",
        "                                             shuffle=shuffle,  \n",
        "                                             shuffle_seed=42,\n",
        "                                             ignore_errors=True)"
      ],
      "execution_count": 9,
      "outputs": []
    },
    {
      "cell_type": "code",
      "metadata": {
        "colab": {
          "base_uri": "https://localhost:8080/"
        },
        "id": "vfGiTQQb8ibn",
        "outputId": "7e7fde35-aa7b-43ae-d862-c64a49f92264"
      },
      "source": [
        "batch_size=2048\n",
        "n_epochs=500\n",
        "\n",
        "feature_columns = [\"user_id\", \"user_feature_1\", \"user_feature_2\", \"campaign_id\", \n",
        "\"campaign_feature_1\", \"campaign_feature_2\"]\n",
        "target_column = \"optimal_action\"\n",
        "\n",
        "train_dl = df_to_dataloader(train_path, feature_columns, target_column, batch_size=batch_size)\n",
        "val_dl = df_to_dataloader(val_path, feature_columns, target_column, batch_size=batch_size)\n",
        "test_dl = df_to_dataloader(test_path, feature_columns, target_column, shuffle = False, batch_size=batch_size)\n",
        "\n",
        "#train_dl = csv_to_dataloader(str(train_path), feature_columns, target_column, batch_size=batch_size, n_epochs = n_epochs)\n",
        "#val_dl = csv_to_dataloader(str(val_path), feature_columns, target_column, batch_size=batch_size, n_epochs = n_epochs)\n",
        "#test_dl = csv_to_dataloader(str(test_path), feature_columns, target_column, shuffle = False, batch_size=batch_size, n_epochs = n_epochs)\n",
        "\n",
        "print(\"[INFO] Train dataloader:\")\n",
        "pprint(train_dl)\n",
        "print(\"[INFO] Val dataloader:\")\n",
        "pprint(val_dl)\n",
        "print(\"[INFO] Test dataloader:\")\n",
        "pprint(test_dl)"
      ],
      "execution_count": 10,
      "outputs": [
        {
          "output_type": "stream",
          "text": [
            "[INFO] Train dataloader:\n",
            "<BatchDataset shapes: ({user_id: (None,), user_feature_1: (None,), user_feature_2: (None,), campaign_id: (None,), campaign_feature_1: (None,), campaign_feature_2: (None,)}, (None, 10)), types: ({user_id: tf.int64, user_feature_1: tf.float64, user_feature_2: tf.float64, campaign_id: tf.int64, campaign_feature_1: tf.float64, campaign_feature_2: tf.float64}, tf.float32)>\n",
            "[INFO] Val dataloader:\n",
            "<BatchDataset shapes: ({user_id: (None,), user_feature_1: (None,), user_feature_2: (None,), campaign_id: (None,), campaign_feature_1: (None,), campaign_feature_2: (None,)}, (None, 10)), types: ({user_id: tf.int64, user_feature_1: tf.float64, user_feature_2: tf.float64, campaign_id: tf.int64, campaign_feature_1: tf.float64, campaign_feature_2: tf.float64}, tf.float32)>\n",
            "[INFO] Test dataloader:\n",
            "<BatchDataset shapes: ({user_id: (None,), user_feature_1: (None,), user_feature_2: (None,), campaign_id: (None,), campaign_feature_1: (None,), campaign_feature_2: (None,)}, (None, 10)), types: ({user_id: tf.int64, user_feature_1: tf.float64, user_feature_2: tf.float64, campaign_id: tf.int64, campaign_feature_1: tf.float64, campaign_feature_2: tf.float64}, tf.float32)>\n"
          ],
          "name": "stdout"
        }
      ]
    },
    {
      "cell_type": "markdown",
      "metadata": {
        "id": "7yxYAw5-5dgH"
      },
      "source": [
        "# Creating TF Feature Columns"
      ]
    },
    {
      "cell_type": "markdown",
      "metadata": {
        "id": "Fc7jlP2c3bi8"
      },
      "source": [
        "## Numeric"
      ]
    },
    {
      "cell_type": "code",
      "metadata": {
        "id": "HkJb_Php3qaR"
      },
      "source": [
        "#Initialize\n",
        "numeric_feature_columns = []\n",
        "numeric_feature_column_inputs = {}\n",
        "numeric_df_col_names = [\"user_feature_1\", \"user_feature_2\", \n",
        "                        \"campaign_feature_1\", \"campaign_feature_2\"]\n",
        "\n",
        "for col_name in numeric_df_col_names:\n",
        "  tf_nfc = tf.feature_column.numeric_column(col_name)\n",
        "  numeric_feature_columns.append(tf_nfc)\n",
        "  numeric_feature_column_inputs[col_name] = tf.keras.Input(shape=(), name=col_name)"
      ],
      "execution_count": 11,
      "outputs": []
    },
    {
      "cell_type": "markdown",
      "metadata": {
        "id": "8OBaABIF5VMl"
      },
      "source": [
        "## Embedding\n",
        "\n"
      ]
    },
    {
      "cell_type": "code",
      "metadata": {
        "id": "RRUOexmo5orU"
      },
      "source": [
        "#Initialize\n",
        "embedding_feature_columns = []\n",
        "embedding_feature_column_inputs = {}\n",
        "\n",
        "user_id = tf.feature_column.categorical_column_with_hash_bucket(\"user_id\", hash_bucket_size=1000, dtype=tf.int64)\n",
        "campaign_id = tf.feature_column.categorical_column_with_hash_bucket(\"campaign_id\", hash_bucket_size=100, dtype=tf.int64)\n",
        "\n",
        "user_id_embedding = tf.feature_column.embedding_column(user_id, dimension=16)\n",
        "embedding_feature_columns.append(user_id_embedding)\n",
        "embedding_feature_column_inputs[\"user_id\"] = tf.keras.Input(shape=(), name=\"user_id\", dtype=tf.int64)\n",
        "\n",
        "campaign_id_embedding = tf.feature_column.embedding_column(campaign_id, dimension=7)\n",
        "embedding_feature_columns.append(campaign_id_embedding)\n",
        "embedding_feature_column_inputs[\"campaign_id\"] = tf.keras.Input(shape=(), name=\"campaign_id\", dtype=tf.int64)"
      ],
      "execution_count": 12,
      "outputs": []
    },
    {
      "cell_type": "markdown",
      "metadata": {
        "id": "XVHYdGYd5mBx"
      },
      "source": [
        "## Crossed Columns"
      ]
    },
    {
      "cell_type": "code",
      "metadata": {
        "id": "hL8M3Rf47M1E"
      },
      "source": [
        "user_campaign_cross = tf.feature_column.crossed_column([\"user_id\", \"campaign_id\"], hash_bucket_size=100000)\n",
        "user_campaign_cross_col = [tf.feature_column.indicator_column(user_campaign_cross)]"
      ],
      "execution_count": 13,
      "outputs": []
    },
    {
      "cell_type": "code",
      "metadata": {
        "id": "dUzFoe_TB-wE"
      },
      "source": [
        "#Defining the inputs that will be fed to each model\n",
        "#For W only —> numeric used as it is, categorical used in crosses\n",
        "#For D only —> numeric used as it is, categorical used through embeddings\n",
        "#For W&D —> numeric + categorical embedding IN deep, categorical crosses in Wide\n",
        "inputs = {**numeric_feature_column_inputs, **embedding_feature_column_inputs}"
      ],
      "execution_count": 14,
      "outputs": []
    },
    {
      "cell_type": "markdown",
      "metadata": {
        "id": "QYjRlJP68d2o"
      },
      "source": [
        "# Models"
      ]
    },
    {
      "cell_type": "code",
      "metadata": {
        "id": "G0CSYr4ld4rv"
      },
      "source": [
        "#Results CSV file to save predictions from each of the models\n",
        "results = pd.DataFrame()\n",
        "result_csv_path = project_folder/\"results.csv\""
      ],
      "execution_count": 15,
      "outputs": []
    },
    {
      "cell_type": "code",
      "metadata": {
        "colab": {
          "base_uri": "https://localhost:8080/"
        },
        "id": "FIr5KAf7-Dc0",
        "outputId": "a32cd4b9-3685-4741-8e6d-c0bf4d2fa555"
      },
      "source": [
        "models_dir = project_folder/\"models\"\n",
        "models_dir.mkdir(exist_ok=True)\n",
        "\n",
        "#Create the folders to save the checkpoints\n",
        "wmodel_dir = (models_dir/\"Wide\")\n",
        "dmodel_dir = (models_dir/\"Deep\")\n",
        "wdmodel_dir = (models_dir/\"W&D\")\n",
        "\n",
        "wmodel_dir.mkdir(exist_ok=True)\n",
        "print(f\"[INFO] Model folder created for wide only model: {wmodel_dir.exists()}\")\n",
        "dmodel_dir.mkdir(exist_ok=True)\n",
        "print(f\"[INFO] Model folder created for deep only model: {dmodel_dir.exists()}\")\n",
        "wdmodel_dir.mkdir(exist_ok=True)\n",
        "print(f\"[INFO] Model folder created for wide + deep model: {wdmodel_dir.exists()}\")\n",
        "\n",
        "#Setting hyperparams\n",
        "lr = 1e-3\n",
        "gc.collect()"
      ],
      "execution_count": 16,
      "outputs": [
        {
          "output_type": "stream",
          "text": [
            "[INFO] Model folder created for wide only model: True\n",
            "[INFO] Model folder created for deep only model: True\n",
            "[INFO] Model folder created for wide + deep model: True\n"
          ],
          "name": "stdout"
        },
        {
          "output_type": "execute_result",
          "data": {
            "text/plain": [
              "0"
            ]
          },
          "metadata": {
            "tags": []
          },
          "execution_count": 16
        }
      ]
    },
    {
      "cell_type": "markdown",
      "metadata": {
        "id": "gZa01re48kRt"
      },
      "source": [
        "## Wide Only Model"
      ]
    },
    {
      "cell_type": "code",
      "metadata": {
        "colab": {
          "base_uri": "https://localhost:8080/"
        },
        "id": "XPYYZ5Zw8jTp",
        "outputId": "d4135853-954d-4151-f898-126ea9de9500"
      },
      "source": [
        "wide_only_feature_columns = numeric_feature_columns + user_campaign_cross_col\n",
        "wmodel_path = wmodel_dir/\"wmodel.h5\"\n",
        "wmodel_checkpoint_path = wmodel_dir/\"wmodel_checkpoint.h5\"\n",
        "\n",
        "#simple early stopping\n",
        "w_es = tf.keras.callbacks.EarlyStopping(monitor='val_loss', mode='min', verbose=1, patience=5)\n",
        "w_mc = tf.keras.callbacks.ModelCheckpoint(str(wmodel_checkpoint_path), monitor='val_accuracy', mode='max', verbose=1, save_best_only=True)\n",
        "\n",
        "#Build the Wide Only Model\n",
        "w_feature_layer = tf.keras.layers.DenseFeatures(wide_only_feature_columns, name=\"dense_feature_layer\")(inputs)\n",
        "w_linear_layer = tf.keras.layers.Dense(10, activation=\"softmax\", name=\"wide_output\")(w_feature_layer)\n",
        "wmodel = tf.keras.Model(inputs = inputs, outputs=w_linear_layer)\n",
        "wmodel.compile(optimizer=\"adam\", \n",
        "               loss=\"categorical_crossentropy\", \n",
        "               metrics=['accuracy', tf.keras.metrics.AUC()])\n",
        "wmodel.summary()"
      ],
      "execution_count": 39,
      "outputs": [
        {
          "output_type": "stream",
          "text": [
            "Model: \"model_2\"\n",
            "__________________________________________________________________________________________________\n",
            "Layer (type)                    Output Shape         Param #     Connected to                     \n",
            "==================================================================================================\n",
            "campaign_feature_1 (InputLayer) [(None,)]            0                                            \n",
            "__________________________________________________________________________________________________\n",
            "campaign_feature_2 (InputLayer) [(None,)]            0                                            \n",
            "__________________________________________________________________________________________________\n",
            "campaign_id (InputLayer)        [(None,)]            0                                            \n",
            "__________________________________________________________________________________________________\n",
            "user_feature_1 (InputLayer)     [(None,)]            0                                            \n",
            "__________________________________________________________________________________________________\n",
            "user_feature_2 (InputLayer)     [(None,)]            0                                            \n",
            "__________________________________________________________________________________________________\n",
            "user_id (InputLayer)            [(None,)]            0                                            \n",
            "__________________________________________________________________________________________________\n",
            "dense_feature_layer (DenseFeatu (None, 100004)       0           campaign_feature_1[0][0]         \n",
            "                                                                 campaign_feature_2[0][0]         \n",
            "                                                                 campaign_id[0][0]                \n",
            "                                                                 user_feature_1[0][0]             \n",
            "                                                                 user_feature_2[0][0]             \n",
            "                                                                 user_id[0][0]                    \n",
            "__________________________________________________________________________________________________\n",
            "wide_output (Dense)             (None, 10)           1000050     dense_feature_layer[0][0]        \n",
            "==================================================================================================\n",
            "Total params: 1,000,050\n",
            "Trainable params: 1,000,050\n",
            "Non-trainable params: 0\n",
            "__________________________________________________________________________________________________\n"
          ],
          "name": "stdout"
        }
      ]
    },
    {
      "cell_type": "code",
      "metadata": {
        "colab": {
          "base_uri": "https://localhost:8080/"
        },
        "id": "eSNu8LszFaPs",
        "outputId": "4a73551d-dfc3-4a4e-89dc-c0e3d1a09dd5"
      },
      "source": [
        "H = wmodel.fit(train_dl, batch_size=batch_size, epochs=n_epochs, \n",
        "               validation_data=val_dl, shuffle=False, \n",
        "               validation_batch_size=batch_size, callbacks=[w_es, w_mc])"
      ],
      "execution_count": 40,
      "outputs": [
        {
          "output_type": "stream",
          "text": [
            "Epoch 1/500\n",
            "2930/2930 [==============================] - 180s 59ms/step - loss: 2.1955 - accuracy: 0.2193 - auc_2: 0.6744 - val_loss: 2.0262 - val_accuracy: 0.3125 - val_auc_2: 0.7836\n",
            "\n",
            "Epoch 00001: val_accuracy improved from -inf to 0.31246, saving model to /content/drive/MyDrive/Bandit_Project/generated_data_4_project/models/Wide/wmodel_checkpoint.h5\n",
            "Epoch 2/500\n",
            "2930/2930 [==============================] - 179s 59ms/step - loss: 1.9761 - accuracy: 0.3323 - auc_2: 0.8014 - val_loss: 1.8893 - val_accuracy: 0.3271 - val_auc_2: 0.8128\n",
            "\n",
            "Epoch 00002: val_accuracy improved from 0.31246 to 0.32706, saving model to /content/drive/MyDrive/Bandit_Project/generated_data_4_project/models/Wide/wmodel_checkpoint.h5\n",
            "Epoch 3/500\n",
            "2930/2930 [==============================] - 179s 59ms/step - loss: 1.8446 - accuracy: 0.3450 - auc_2: 0.8261 - val_loss: 1.8040 - val_accuracy: 0.3315 - val_auc_2: 0.8227\n",
            "\n",
            "Epoch 00003: val_accuracy improved from 0.32706 to 0.33151, saving model to /content/drive/MyDrive/Bandit_Project/generated_data_4_project/models/Wide/wmodel_checkpoint.h5\n",
            "Epoch 4/500\n",
            "2930/2930 [==============================] - 179s 59ms/step - loss: 1.7609 - accuracy: 0.3496 - auc_2: 0.8351 - val_loss: 1.7525 - val_accuracy: 0.3337 - val_auc_2: 0.8264\n",
            "\n",
            "Epoch 00004: val_accuracy improved from 0.33151 to 0.33370, saving model to /content/drive/MyDrive/Bandit_Project/generated_data_4_project/models/Wide/wmodel_checkpoint.h5\n",
            "Epoch 5/500\n",
            "2930/2930 [==============================] - 178s 59ms/step - loss: 1.7091 - accuracy: 0.3517 - auc_2: 0.8386 - val_loss: 1.7219 - val_accuracy: 0.3344 - val_auc_2: 0.8280\n",
            "\n",
            "Epoch 00005: val_accuracy improved from 0.33370 to 0.33438, saving model to /content/drive/MyDrive/Bandit_Project/generated_data_4_project/models/Wide/wmodel_checkpoint.h5\n",
            "Epoch 6/500\n",
            "2930/2930 [==============================] - 181s 60ms/step - loss: 1.6768 - accuracy: 0.3528 - auc_2: 0.8402 - val_loss: 1.7039 - val_accuracy: 0.3347 - val_auc_2: 0.8287\n",
            "\n",
            "Epoch 00006: val_accuracy improved from 0.33438 to 0.33468, saving model to /content/drive/MyDrive/Bandit_Project/generated_data_4_project/models/Wide/wmodel_checkpoint.h5\n",
            "Epoch 7/500\n",
            "2930/2930 [==============================] - 183s 60ms/step - loss: 1.6556 - accuracy: 0.3537 - auc_2: 0.8412 - val_loss: 1.6933 - val_accuracy: 0.3349 - val_auc_2: 0.8291\n",
            "\n",
            "Epoch 00007: val_accuracy improved from 0.33468 to 0.33487, saving model to /content/drive/MyDrive/Bandit_Project/generated_data_4_project/models/Wide/wmodel_checkpoint.h5\n",
            "Epoch 8/500\n",
            "2930/2930 [==============================] - 178s 59ms/step - loss: 1.6422 - accuracy: 0.3537 - auc_2: 0.8417 - val_loss: 1.6873 - val_accuracy: 0.3351 - val_auc_2: 0.8293\n",
            "\n",
            "Epoch 00008: val_accuracy improved from 0.33487 to 0.33506, saving model to /content/drive/MyDrive/Bandit_Project/generated_data_4_project/models/Wide/wmodel_checkpoint.h5\n",
            "Epoch 9/500\n",
            "2930/2930 [==============================] - 179s 59ms/step - loss: 1.6334 - accuracy: 0.3541 - auc_2: 0.8420 - val_loss: 1.6841 - val_accuracy: 0.3350 - val_auc_2: 0.8295\n",
            "\n",
            "Epoch 00009: val_accuracy did not improve from 0.33506\n",
            "Epoch 10/500\n",
            "2930/2930 [==============================] - 178s 59ms/step - loss: 1.6274 - accuracy: 0.3538 - auc_2: 0.8423 - val_loss: 1.6826 - val_accuracy: 0.3352 - val_auc_2: 0.8296\n",
            "\n",
            "Epoch 00010: val_accuracy improved from 0.33506 to 0.33516, saving model to /content/drive/MyDrive/Bandit_Project/generated_data_4_project/models/Wide/wmodel_checkpoint.h5\n",
            "Epoch 11/500\n",
            "2930/2930 [==============================] - 179s 59ms/step - loss: 1.6230 - accuracy: 0.3544 - auc_2: 0.8425 - val_loss: 1.6822 - val_accuracy: 0.3352 - val_auc_2: 0.8296\n",
            "\n",
            "Epoch 00011: val_accuracy improved from 0.33516 to 0.33517, saving model to /content/drive/MyDrive/Bandit_Project/generated_data_4_project/models/Wide/wmodel_checkpoint.h5\n",
            "Epoch 12/500\n",
            "2930/2930 [==============================] - 179s 59ms/step - loss: 1.6197 - accuracy: 0.3545 - auc_2: 0.8427 - val_loss: 1.6824 - val_accuracy: 0.3352 - val_auc_2: 0.8296\n",
            "\n",
            "Epoch 00012: val_accuracy improved from 0.33517 to 0.33522, saving model to /content/drive/MyDrive/Bandit_Project/generated_data_4_project/models/Wide/wmodel_checkpoint.h5\n",
            "Epoch 13/500\n",
            "2930/2930 [==============================] - 178s 59ms/step - loss: 1.6174 - accuracy: 0.3548 - auc_2: 0.8428 - val_loss: 1.6830 - val_accuracy: 0.3353 - val_auc_2: 0.8296\n",
            "\n",
            "Epoch 00013: val_accuracy improved from 0.33522 to 0.33534, saving model to /content/drive/MyDrive/Bandit_Project/generated_data_4_project/models/Wide/wmodel_checkpoint.h5\n",
            "Epoch 14/500\n",
            "2930/2930 [==============================] - 178s 59ms/step - loss: 1.6162 - accuracy: 0.3546 - auc_2: 0.8428 - val_loss: 1.6838 - val_accuracy: 0.3355 - val_auc_2: 0.8296\n",
            "\n",
            "Epoch 00014: val_accuracy improved from 0.33534 to 0.33552, saving model to /content/drive/MyDrive/Bandit_Project/generated_data_4_project/models/Wide/wmodel_checkpoint.h5\n",
            "Epoch 15/500\n",
            "2930/2930 [==============================] - 178s 59ms/step - loss: 1.6152 - accuracy: 0.3546 - auc_2: 0.8428 - val_loss: 1.6847 - val_accuracy: 0.3354 - val_auc_2: 0.8296\n",
            "\n",
            "Epoch 00015: val_accuracy did not improve from 0.33552\n",
            "Epoch 16/500\n",
            "2930/2930 [==============================] - 179s 59ms/step - loss: 1.6141 - accuracy: 0.3548 - auc_2: 0.8429 - val_loss: 1.6857 - val_accuracy: 0.3355 - val_auc_2: 0.8296\n",
            "\n",
            "Epoch 00016: val_accuracy improved from 0.33552 to 0.33552, saving model to /content/drive/MyDrive/Bandit_Project/generated_data_4_project/models/Wide/wmodel_checkpoint.h5\n",
            "Epoch 00016: early stopping\n"
          ],
          "name": "stdout"
        }
      ]
    },
    {
      "cell_type": "code",
      "metadata": {
        "colab": {
          "base_uri": "https://localhost:8080/",
          "height": 86
        },
        "id": "tiL8X2_qbuOa",
        "outputId": "c736f68d-4762-4141-bf34-14e27234c02f"
      },
      "source": [
        "\"\"\"\n",
        "#Plot the training & validation loss/accuracy curve\n",
        "plt.figure()\n",
        "plt.style.use('ggplot')\n",
        "plt.plot(H.history['accuracy'], label='Training Accuracy')\n",
        "plt.plot(H.history['val_accuracy'], label='Validation Accuracy')\n",
        "plt.plot(H.history['loss'], label='Training Loss')\n",
        "plt.plot(H.history['val_loss'], label='Validation Loss')\n",
        "plt.legend()\n",
        "plt.title('Accuracy/Loss vs Epochs')\n",
        "plt.xlabel('Epoch Number')\n",
        "plt.ylabel('Accuracy/Loss')\n",
        "plt.show()\n",
        "\"\"\""
      ],
      "execution_count": 19,
      "outputs": [
        {
          "output_type": "execute_result",
          "data": {
            "application/vnd.google.colaboratory.intrinsic+json": {
              "type": "string"
            },
            "text/plain": [
              "\"\\n#Plot the training & validation loss/accuracy curve\\nplt.figure()\\nplt.style.use('ggplot')\\nplt.plot(H.history['accuracy'], label='Training Accuracy')\\nplt.plot(H.history['val_accuracy'], label='Validation Accuracy')\\nplt.plot(H.history['loss'], label='Training Loss')\\nplt.plot(H.history['val_loss'], label='Validation Loss')\\nplt.legend()\\nplt.title('Accuracy/Loss vs Epochs')\\nplt.xlabel('Epoch Number')\\nplt.ylabel('Accuracy/Loss')\\nplt.show()\\n\""
            ]
          },
          "metadata": {
            "tags": []
          },
          "execution_count": 19
        }
      ]
    },
    {
      "cell_type": "code",
      "metadata": {
        "colab": {
          "base_uri": "https://localhost:8080/"
        },
        "id": "yViOoW1IevlE",
        "outputId": "baaba95c-c838-4127-cd6d-25b589cbfaea"
      },
      "source": [
        "#Load the latest checkpoint\n",
        "#wmodel = tf.keras.models.load_model(str(wmodel_checkpoint_path))\n",
        "\n",
        "#Generate the predictions to a variable\n",
        "wmodel_predictions = wmodel.predict(test_dl, batch_size=batch_size, verbose=1)\n",
        "results[\"wide_only\"] = np.argmax(wmodel_predictions, axis=1)"
      ],
      "execution_count": 41,
      "outputs": [
        {
          "output_type": "stream",
          "text": [
            "977/977 [==============================] - 31s 31ms/step\n"
          ],
          "name": "stdout"
        }
      ]
    },
    {
      "cell_type": "code",
      "metadata": {
        "id": "Qa3eDzcXckHc",
        "colab": {
          "base_uri": "https://localhost:8080/"
        },
        "outputId": "ea333e53-b4c7-49c3-93dd-2226212393b0"
      },
      "source": [
        "wmodel.save(str(wmodel_path))\n",
        "del wmodel\n",
        "del H\n",
        "gc.collect()"
      ],
      "execution_count": 42,
      "outputs": [
        {
          "output_type": "execute_result",
          "data": {
            "text/plain": [
              "110"
            ]
          },
          "metadata": {
            "tags": []
          },
          "execution_count": 42
        }
      ]
    },
    {
      "cell_type": "markdown",
      "metadata": {
        "id": "-H6t6jvnWeVy"
      },
      "source": [
        "## Deep Only Model"
      ]
    },
    {
      "cell_type": "code",
      "metadata": {
        "id": "XMVQtiRG6N2G",
        "colab": {
          "base_uri": "https://localhost:8080/"
        },
        "outputId": "27bef654-497a-4f1b-8561-9a606716727a"
      },
      "source": [
        "deep_only_feature_columns = numeric_feature_columns + embedding_feature_columns\n",
        "deep_only_hidden_units = [512, 256, 128]\n",
        "dmodel_path = dmodel_dir/\"model.h5\"\n",
        "dmodel_checkpoint_path = dmodel_dir/\"wmodel_checkpoint.h5\"\n",
        "\n",
        "#simple early stopping\n",
        "d_es = tf.keras.callbacks.EarlyStopping(monitor='val_loss', mode='min', verbose=1, patience=5)\n",
        "d_mc = tf.keras.callbacks.ModelCheckpoint(str(dmodel_checkpoint_path), monitor='val_accuracy', mode='max', verbose=1, save_best_only=True)\n",
        "\n",
        "#Build the Wide Only Model\n",
        "d_feature_layer = tf.keras.layers.DenseFeatures(deep_only_feature_columns, name=\"dense_feature_layer\")(inputs)\n",
        "d_hidden_layer_1 = tf.keras.layers.Dense(deep_only_hidden_units[0], activation=\"relu\", name=\"fc_1\")(d_feature_layer)\n",
        "d_hidden_layer_2 = tf.keras.layers.Dense(deep_only_hidden_units[1], activation=\"relu\", name=\"fc_2\")(d_hidden_layer_1)\n",
        "d_hidden_layer_3 = tf.keras.layers.Dense(deep_only_hidden_units[2], activation=\"relu\", name=\"fc_3\")(d_hidden_layer_2)\n",
        "d_output_layer = tf.keras.layers.Dense(10, activation=\"softmax\", name=\"deep_output\")(d_hidden_layer_3)\n",
        "\n",
        "dmodel = tf.keras.Model(inputs = inputs, outputs=d_output_layer)\n",
        "dmodel.compile(optimizer=\"adam\", \n",
        "               loss=\"categorical_crossentropy\", \n",
        "               metrics=['accuracy', tf.keras.metrics.AUC()])\n",
        "dmodel.summary()"
      ],
      "execution_count": 43,
      "outputs": [
        {
          "output_type": "stream",
          "text": [
            "Model: \"model_3\"\n",
            "__________________________________________________________________________________________________\n",
            "Layer (type)                    Output Shape         Param #     Connected to                     \n",
            "==================================================================================================\n",
            "campaign_feature_1 (InputLayer) [(None,)]            0                                            \n",
            "__________________________________________________________________________________________________\n",
            "campaign_feature_2 (InputLayer) [(None,)]            0                                            \n",
            "__________________________________________________________________________________________________\n",
            "campaign_id (InputLayer)        [(None,)]            0                                            \n",
            "__________________________________________________________________________________________________\n",
            "user_feature_1 (InputLayer)     [(None,)]            0                                            \n",
            "__________________________________________________________________________________________________\n",
            "user_feature_2 (InputLayer)     [(None,)]            0                                            \n",
            "__________________________________________________________________________________________________\n",
            "user_id (InputLayer)            [(None,)]            0                                            \n",
            "__________________________________________________________________________________________________\n",
            "dense_feature_layer (DenseFeatu (None, 27)           16700       campaign_feature_1[0][0]         \n",
            "                                                                 campaign_feature_2[0][0]         \n",
            "                                                                 campaign_id[0][0]                \n",
            "                                                                 user_feature_1[0][0]             \n",
            "                                                                 user_feature_2[0][0]             \n",
            "                                                                 user_id[0][0]                    \n",
            "__________________________________________________________________________________________________\n",
            "fc_1 (Dense)                    (None, 512)          14336       dense_feature_layer[0][0]        \n",
            "__________________________________________________________________________________________________\n",
            "fc_2 (Dense)                    (None, 256)          131328      fc_1[0][0]                       \n",
            "__________________________________________________________________________________________________\n",
            "fc_3 (Dense)                    (None, 128)          32896       fc_2[0][0]                       \n",
            "__________________________________________________________________________________________________\n",
            "deep_output (Dense)             (None, 10)           1290        fc_3[0][0]                       \n",
            "==================================================================================================\n",
            "Total params: 196,550\n",
            "Trainable params: 196,550\n",
            "Non-trainable params: 0\n",
            "__________________________________________________________________________________________________\n"
          ],
          "name": "stdout"
        }
      ]
    },
    {
      "cell_type": "code",
      "metadata": {
        "id": "HUuGMh9JZYQA",
        "colab": {
          "base_uri": "https://localhost:8080/"
        },
        "outputId": "e5149d9d-2f07-4612-bed8-368d69abae76"
      },
      "source": [
        "H = dmodel.fit(train_dl, batch_size=batch_size, epochs=n_epochs, \n",
        "               validation_data=val_dl, shuffle=False, \n",
        "               validation_batch_size=batch_size, callbacks=[d_es, d_mc])"
      ],
      "execution_count": 44,
      "outputs": [
        {
          "output_type": "stream",
          "text": [
            "Epoch 1/500\n",
            "2930/2930 [==============================] - 94s 30ms/step - loss: 0.9173 - accuracy: 0.6271 - auc_3: 0.9443 - val_loss: 0.5433 - val_accuracy: 0.7705 - val_auc_3: 0.9816\n",
            "\n",
            "Epoch 00001: val_accuracy improved from -inf to 0.77052, saving model to /content/drive/MyDrive/Bandit_Project/generated_data_4_project/models/Deep/wmodel_checkpoint.h5\n",
            "Epoch 2/500\n",
            "2930/2930 [==============================] - 94s 30ms/step - loss: 0.5326 - accuracy: 0.7754 - auc_3: 0.9823 - val_loss: 0.5043 - val_accuracy: 0.7847 - val_auc_3: 0.9841\n",
            "\n",
            "Epoch 00002: val_accuracy improved from 0.77052 to 0.78471, saving model to /content/drive/MyDrive/Bandit_Project/generated_data_4_project/models/Deep/wmodel_checkpoint.h5\n",
            "Epoch 3/500\n",
            "2930/2930 [==============================] - 94s 30ms/step - loss: 0.5051 - accuracy: 0.7839 - auc_3: 0.9840 - val_loss: 0.4957 - val_accuracy: 0.7855 - val_auc_3: 0.9846\n",
            "\n",
            "Epoch 00003: val_accuracy improved from 0.78471 to 0.78546, saving model to /content/drive/MyDrive/Bandit_Project/generated_data_4_project/models/Deep/wmodel_checkpoint.h5\n",
            "Epoch 4/500\n",
            "2930/2930 [==============================] - 94s 30ms/step - loss: 0.4911 - accuracy: 0.7885 - auc_3: 0.9849 - val_loss: 0.4855 - val_accuracy: 0.7901 - val_auc_3: 0.9852\n",
            "\n",
            "Epoch 00004: val_accuracy improved from 0.78546 to 0.79007, saving model to /content/drive/MyDrive/Bandit_Project/generated_data_4_project/models/Deep/wmodel_checkpoint.h5\n",
            "Epoch 5/500\n",
            "2930/2930 [==============================] - 94s 30ms/step - loss: 0.4830 - accuracy: 0.7910 - auc_3: 0.9853 - val_loss: 0.4768 - val_accuracy: 0.7935 - val_auc_3: 0.9857\n",
            "\n",
            "Epoch 00005: val_accuracy improved from 0.79007 to 0.79353, saving model to /content/drive/MyDrive/Bandit_Project/generated_data_4_project/models/Deep/wmodel_checkpoint.h5\n",
            "Epoch 6/500\n",
            "2930/2930 [==============================] - 94s 30ms/step - loss: 0.4753 - accuracy: 0.7937 - auc_3: 0.9858 - val_loss: 0.4755 - val_accuracy: 0.7929 - val_auc_3: 0.9857\n",
            "\n",
            "Epoch 00006: val_accuracy did not improve from 0.79353\n",
            "Epoch 7/500\n",
            "2930/2930 [==============================] - 93s 30ms/step - loss: 0.4694 - accuracy: 0.7959 - auc_3: 0.9861 - val_loss: 0.4690 - val_accuracy: 0.7957 - val_auc_3: 0.9861\n",
            "\n",
            "Epoch 00007: val_accuracy improved from 0.79353 to 0.79570, saving model to /content/drive/MyDrive/Bandit_Project/generated_data_4_project/models/Deep/wmodel_checkpoint.h5\n",
            "Epoch 8/500\n",
            "2930/2930 [==============================] - 93s 30ms/step - loss: 0.4655 - accuracy: 0.7972 - auc_3: 0.9863 - val_loss: 0.4712 - val_accuracy: 0.7941 - val_auc_3: 0.9860\n",
            "\n",
            "Epoch 00008: val_accuracy did not improve from 0.79570\n",
            "Epoch 9/500\n",
            "2930/2930 [==============================] - 93s 30ms/step - loss: 0.4615 - accuracy: 0.7991 - auc_3: 0.9866 - val_loss: 0.4634 - val_accuracy: 0.7977 - val_auc_3: 0.9864\n",
            "\n",
            "Epoch 00009: val_accuracy improved from 0.79570 to 0.79765, saving model to /content/drive/MyDrive/Bandit_Project/generated_data_4_project/models/Deep/wmodel_checkpoint.h5\n",
            "Epoch 10/500\n",
            "2930/2930 [==============================] - 94s 30ms/step - loss: 0.4591 - accuracy: 0.7996 - auc_3: 0.9867 - val_loss: 0.4559 - val_accuracy: 0.8012 - val_auc_3: 0.9868\n",
            "\n",
            "Epoch 00010: val_accuracy improved from 0.79765 to 0.80124, saving model to /content/drive/MyDrive/Bandit_Project/generated_data_4_project/models/Deep/wmodel_checkpoint.h5\n",
            "Epoch 11/500\n",
            "2930/2930 [==============================] - 93s 30ms/step - loss: 0.4561 - accuracy: 0.8010 - auc_3: 0.9869 - val_loss: 0.4578 - val_accuracy: 0.8001 - val_auc_3: 0.9867\n",
            "\n",
            "Epoch 00011: val_accuracy did not improve from 0.80124\n",
            "Epoch 12/500\n",
            "2930/2930 [==============================] - 94s 30ms/step - loss: 0.4534 - accuracy: 0.8022 - auc_3: 0.9870 - val_loss: 0.4565 - val_accuracy: 0.8002 - val_auc_3: 0.9868\n",
            "\n",
            "Epoch 00012: val_accuracy did not improve from 0.80124\n",
            "Epoch 13/500\n",
            "2930/2930 [==============================] - 93s 30ms/step - loss: 0.4514 - accuracy: 0.8026 - auc_3: 0.9871 - val_loss: 0.4502 - val_accuracy: 0.8032 - val_auc_3: 0.9872\n",
            "\n",
            "Epoch 00013: val_accuracy improved from 0.80124 to 0.80319, saving model to /content/drive/MyDrive/Bandit_Project/generated_data_4_project/models/Deep/wmodel_checkpoint.h5\n",
            "Epoch 14/500\n",
            "2930/2930 [==============================] - 93s 30ms/step - loss: 0.4491 - accuracy: 0.8036 - auc_3: 0.9872 - val_loss: 0.4539 - val_accuracy: 0.8012 - val_auc_3: 0.9869\n",
            "\n",
            "Epoch 00014: val_accuracy did not improve from 0.80319\n",
            "Epoch 15/500\n",
            "2930/2930 [==============================] - 93s 30ms/step - loss: 0.4467 - accuracy: 0.8046 - auc_3: 0.9874 - val_loss: 0.4547 - val_accuracy: 0.8005 - val_auc_3: 0.9869\n",
            "\n",
            "Epoch 00015: val_accuracy did not improve from 0.80319\n",
            "Epoch 16/500\n",
            "2930/2930 [==============================] - 93s 30ms/step - loss: 0.4454 - accuracy: 0.8050 - auc_3: 0.9874 - val_loss: 0.4528 - val_accuracy: 0.8017 - val_auc_3: 0.9870\n",
            "\n",
            "Epoch 00016: val_accuracy did not improve from 0.80319\n",
            "Epoch 17/500\n",
            "2930/2930 [==============================] - 93s 29ms/step - loss: 0.4440 - accuracy: 0.8060 - auc_3: 0.9875 - val_loss: 0.4481 - val_accuracy: 0.8029 - val_auc_3: 0.9873\n",
            "\n",
            "Epoch 00017: val_accuracy did not improve from 0.80319\n",
            "Epoch 18/500\n",
            "2930/2930 [==============================] - 93s 30ms/step - loss: 0.4425 - accuracy: 0.8062 - auc_3: 0.9876 - val_loss: 0.4479 - val_accuracy: 0.8031 - val_auc_3: 0.9873\n",
            "\n",
            "Epoch 00018: val_accuracy did not improve from 0.80319\n",
            "Epoch 19/500\n",
            "2930/2930 [==============================] - 93s 30ms/step - loss: 0.4412 - accuracy: 0.8066 - auc_3: 0.9877 - val_loss: 0.4498 - val_accuracy: 0.8020 - val_auc_3: 0.9872\n",
            "\n",
            "Epoch 00019: val_accuracy did not improve from 0.80319\n",
            "Epoch 20/500\n",
            "2930/2930 [==============================] - 93s 30ms/step - loss: 0.4393 - accuracy: 0.8076 - auc_3: 0.9877 - val_loss: 0.4491 - val_accuracy: 0.8026 - val_auc_3: 0.9871\n",
            "\n",
            "Epoch 00020: val_accuracy did not improve from 0.80319\n",
            "Epoch 21/500\n",
            "2930/2930 [==============================] - 93s 30ms/step - loss: 0.4383 - accuracy: 0.8079 - auc_3: 0.9878 - val_loss: 0.4495 - val_accuracy: 0.8027 - val_auc_3: 0.9871\n",
            "\n",
            "Epoch 00021: val_accuracy did not improve from 0.80319\n",
            "Epoch 22/500\n",
            "2930/2930 [==============================] - 93s 30ms/step - loss: 0.4370 - accuracy: 0.8084 - auc_3: 0.9879 - val_loss: 0.4390 - val_accuracy: 0.8074 - val_auc_3: 0.9878\n",
            "\n",
            "Epoch 00022: val_accuracy improved from 0.80319 to 0.80737, saving model to /content/drive/MyDrive/Bandit_Project/generated_data_4_project/models/Deep/wmodel_checkpoint.h5\n",
            "Epoch 23/500\n",
            "2930/2930 [==============================] - 93s 30ms/step - loss: 0.4369 - accuracy: 0.8082 - auc_3: 0.9879 - val_loss: 0.4412 - val_accuracy: 0.8067 - val_auc_3: 0.9876\n",
            "\n",
            "Epoch 00023: val_accuracy did not improve from 0.80737\n",
            "Epoch 24/500\n",
            "2930/2930 [==============================] - 93s 30ms/step - loss: 0.4352 - accuracy: 0.8094 - auc_3: 0.9880 - val_loss: 0.4430 - val_accuracy: 0.8055 - val_auc_3: 0.9875\n",
            "\n",
            "Epoch 00024: val_accuracy did not improve from 0.80737\n",
            "Epoch 25/500\n",
            "2930/2930 [==============================] - 93s 30ms/step - loss: 0.4344 - accuracy: 0.8094 - auc_3: 0.9880 - val_loss: 0.4428 - val_accuracy: 0.8053 - val_auc_3: 0.9875\n",
            "\n",
            "Epoch 00025: val_accuracy did not improve from 0.80737\n",
            "Epoch 26/500\n",
            "2930/2930 [==============================] - 93s 30ms/step - loss: 0.4331 - accuracy: 0.8099 - auc_3: 0.9881 - val_loss: 0.4424 - val_accuracy: 0.8059 - val_auc_3: 0.9875\n",
            "\n",
            "Epoch 00026: val_accuracy did not improve from 0.80737\n",
            "Epoch 27/500\n",
            "2930/2930 [==============================] - 94s 30ms/step - loss: 0.4328 - accuracy: 0.8099 - auc_3: 0.9881 - val_loss: 0.4369 - val_accuracy: 0.8081 - val_auc_3: 0.9879\n",
            "\n",
            "Epoch 00027: val_accuracy improved from 0.80737 to 0.80807, saving model to /content/drive/MyDrive/Bandit_Project/generated_data_4_project/models/Deep/wmodel_checkpoint.h5\n",
            "Epoch 28/500\n",
            "2930/2930 [==============================] - 94s 30ms/step - loss: 0.4315 - accuracy: 0.8106 - auc_3: 0.9882 - val_loss: 0.4374 - val_accuracy: 0.8075 - val_auc_3: 0.9879\n",
            "\n",
            "Epoch 00028: val_accuracy did not improve from 0.80807\n",
            "Epoch 29/500\n",
            "2930/2930 [==============================] - 94s 30ms/step - loss: 0.4318 - accuracy: 0.8105 - auc_3: 0.9881 - val_loss: 0.4405 - val_accuracy: 0.8062 - val_auc_3: 0.9876\n",
            "\n",
            "Epoch 00029: val_accuracy did not improve from 0.80807\n",
            "Epoch 30/500\n",
            "2930/2930 [==============================] - 93s 30ms/step - loss: 0.4310 - accuracy: 0.8106 - auc_3: 0.9882 - val_loss: 0.4349 - val_accuracy: 0.8088 - val_auc_3: 0.9880\n",
            "\n",
            "Epoch 00030: val_accuracy improved from 0.80807 to 0.80878, saving model to /content/drive/MyDrive/Bandit_Project/generated_data_4_project/models/Deep/wmodel_checkpoint.h5\n",
            "Epoch 31/500\n",
            "2930/2930 [==============================] - 94s 30ms/step - loss: 0.4300 - accuracy: 0.8110 - auc_3: 0.9882 - val_loss: 0.4399 - val_accuracy: 0.8066 - val_auc_3: 0.9877\n",
            "\n",
            "Epoch 00031: val_accuracy did not improve from 0.80878\n",
            "Epoch 32/500\n",
            "2930/2930 [==============================] - 96s 31ms/step - loss: 0.4296 - accuracy: 0.8115 - auc_3: 0.9883 - val_loss: 0.4405 - val_accuracy: 0.8063 - val_auc_3: 0.9876\n",
            "\n",
            "Epoch 00032: val_accuracy did not improve from 0.80878\n",
            "Epoch 33/500\n",
            "2930/2930 [==============================] - 97s 31ms/step - loss: 0.4291 - accuracy: 0.8115 - auc_3: 0.9883 - val_loss: 0.4384 - val_accuracy: 0.8069 - val_auc_3: 0.9878\n",
            "\n",
            "Epoch 00033: val_accuracy did not improve from 0.80878\n",
            "Epoch 34/500\n",
            "2930/2930 [==============================] - 95s 30ms/step - loss: 0.4279 - accuracy: 0.8118 - auc_3: 0.9883 - val_loss: 0.4344 - val_accuracy: 0.8090 - val_auc_3: 0.9880\n",
            "\n",
            "Epoch 00034: val_accuracy improved from 0.80878 to 0.80900, saving model to /content/drive/MyDrive/Bandit_Project/generated_data_4_project/models/Deep/wmodel_checkpoint.h5\n",
            "Epoch 35/500\n",
            "2930/2930 [==============================] - 94s 30ms/step - loss: 0.4279 - accuracy: 0.8117 - auc_3: 0.9883 - val_loss: 0.4377 - val_accuracy: 0.8078 - val_auc_3: 0.9878\n",
            "\n",
            "Epoch 00035: val_accuracy did not improve from 0.80900\n",
            "Epoch 36/500\n",
            "2930/2930 [==============================] - 95s 30ms/step - loss: 0.4266 - accuracy: 0.8125 - auc_3: 0.9884 - val_loss: 0.4344 - val_accuracy: 0.8089 - val_auc_3: 0.9880\n",
            "\n",
            "Epoch 00036: val_accuracy did not improve from 0.80900\n",
            "Epoch 37/500\n",
            "2930/2930 [==============================] - 95s 30ms/step - loss: 0.4265 - accuracy: 0.8124 - auc_3: 0.9884 - val_loss: 0.4406 - val_accuracy: 0.8061 - val_auc_3: 0.9876\n",
            "\n",
            "Epoch 00037: val_accuracy did not improve from 0.80900\n",
            "Epoch 38/500\n",
            "2930/2930 [==============================] - 94s 30ms/step - loss: 0.4264 - accuracy: 0.8126 - auc_3: 0.9884 - val_loss: 0.4347 - val_accuracy: 0.8090 - val_auc_3: 0.9879\n",
            "\n",
            "Epoch 00038: val_accuracy did not improve from 0.80900\n",
            "Epoch 39/500\n",
            "2930/2930 [==============================] - 95s 30ms/step - loss: 0.4254 - accuracy: 0.8128 - auc_3: 0.9885 - val_loss: 0.4346 - val_accuracy: 0.8088 - val_auc_3: 0.9879\n",
            "\n",
            "Epoch 00039: val_accuracy did not improve from 0.80900\n",
            "Epoch 40/500\n",
            "2930/2930 [==============================] - 95s 30ms/step - loss: 0.4253 - accuracy: 0.8131 - auc_3: 0.9885 - val_loss: 0.4352 - val_accuracy: 0.8087 - val_auc_3: 0.9879\n",
            "\n",
            "Epoch 00040: val_accuracy did not improve from 0.80900\n",
            "Epoch 41/500\n",
            "2930/2930 [==============================] - 94s 30ms/step - loss: 0.4246 - accuracy: 0.8132 - auc_3: 0.9885 - val_loss: 0.4377 - val_accuracy: 0.8073 - val_auc_3: 0.9878\n",
            "\n",
            "Epoch 00041: val_accuracy did not improve from 0.80900\n",
            "Epoch 00041: early stopping\n"
          ],
          "name": "stdout"
        }
      ]
    },
    {
      "cell_type": "code",
      "metadata": {
        "id": "ku5jmqlwd4EA",
        "colab": {
          "base_uri": "https://localhost:8080/",
          "height": 86
        },
        "outputId": "16b31254-891c-44bb-80a9-0afbd98d2135"
      },
      "source": [
        "\"\"\"\n",
        "#Plot the training & validation loss/accuracy curve\n",
        "plt.figure()\n",
        "plt.style.use('ggplot')\n",
        "plt.plot(H.history['accuracy'], label='Training Accuracy')\n",
        "plt.plot(H.history['val_accuracy'], label='Validation Accuracy')\n",
        "plt.plot(H.history['loss'], label='Training Loss')\n",
        "plt.plot(H.history['val_loss'], label='Validation Loss')\n",
        "plt.legend()\n",
        "plt.title('Accuracy/Loss vs Epochs')\n",
        "plt.xlabel('Epoch Number')\n",
        "plt.ylabel('Accuracy/Loss')\n",
        "plt.show()\n",
        "\"\"\""
      ],
      "execution_count": 24,
      "outputs": [
        {
          "output_type": "execute_result",
          "data": {
            "application/vnd.google.colaboratory.intrinsic+json": {
              "type": "string"
            },
            "text/plain": [
              "\"\\n#Plot the training & validation loss/accuracy curve\\nplt.figure()\\nplt.style.use('ggplot')\\nplt.plot(H.history['accuracy'], label='Training Accuracy')\\nplt.plot(H.history['val_accuracy'], label='Validation Accuracy')\\nplt.plot(H.history['loss'], label='Training Loss')\\nplt.plot(H.history['val_loss'], label='Validation Loss')\\nplt.legend()\\nplt.title('Accuracy/Loss vs Epochs')\\nplt.xlabel('Epoch Number')\\nplt.ylabel('Accuracy/Loss')\\nplt.show()\\n\""
            ]
          },
          "metadata": {
            "tags": []
          },
          "execution_count": 24
        }
      ]
    },
    {
      "cell_type": "code",
      "metadata": {
        "id": "5uESh9vMfheC",
        "colab": {
          "base_uri": "https://localhost:8080/"
        },
        "outputId": "1df72292-bcc8-442b-8590-c74c0ca478b5"
      },
      "source": [
        "#Generate the predictions to a variable\n",
        "dmodel_predictions = dmodel.predict(test_dl, batch_size=batch_size, verbose=1)\n",
        "results[\"deep_only\"] = np.argmax(dmodel_predictions, axis=1)"
      ],
      "execution_count": 45,
      "outputs": [
        {
          "output_type": "stream",
          "text": [
            "977/977 [==============================] - 11s 11ms/step\n"
          ],
          "name": "stdout"
        }
      ]
    },
    {
      "cell_type": "code",
      "metadata": {
        "id": "WFjn3TgeW9JD",
        "colab": {
          "base_uri": "https://localhost:8080/"
        },
        "outputId": "348be7df-5421-49cb-935d-b37b4c7c5232"
      },
      "source": [
        "dmodel.save(str(dmodel_path))\n",
        "del dmodel\n",
        "del H\n",
        "gc.collect()"
      ],
      "execution_count": 46,
      "outputs": [
        {
          "output_type": "execute_result",
          "data": {
            "text/plain": [
              "183"
            ]
          },
          "metadata": {
            "tags": []
          },
          "execution_count": 46
        }
      ]
    },
    {
      "cell_type": "markdown",
      "metadata": {
        "id": "peeUrdzMWmUA"
      },
      "source": [
        "## Wide & Deep Model: 1\n",
        "\n",
        "Wide part receives the crossed columns\n",
        "Deep part receives the numeric features & embeddings"
      ]
    },
    {
      "cell_type": "code",
      "metadata": {
        "id": "_4tu2ezGordw",
        "colab": {
          "base_uri": "https://localhost:8080/"
        },
        "outputId": "6876ff22-af96-4d56-f834-2bfeb75245fd"
      },
      "source": [
        "wide_wd_1_feature_columns = user_campaign_cross_col\n",
        "deep_wd_1_feature_columns = numeric_feature_columns + embedding_feature_columns\n",
        "\n",
        "deep_wd_1_hidden_units = [512, 256, 128]\n",
        "\n",
        "wdmodel_1_path = wdmodel_dir/\"wdmodel_1.h5\"\n",
        "wdmodel_1_checkpoint_path = wdmodel_dir/\"wdmodel_1_checkpoint.h5\"\n",
        "\n",
        "#simple early stopping\n",
        "wd_1_es = tf.keras.callbacks.EarlyStopping(monitor='val_loss', mode='min', verbose=1, patience=10)\n",
        "wd_1_mc = tf.keras.callbacks.ModelCheckpoint(str(wdmodel_1_checkpoint_path), monitor='val_accuracy', mode='max', verbose=1, save_best_only=True)\n",
        "\n",
        "#Build the Wide Model\n",
        "w_feature_layer = tf.keras.layers.DenseFeatures(wide_wd_1_feature_columns, name=\"wide_feature_layer\")(inputs)\n",
        "\n",
        "#Build the Deep Model\n",
        "d_feature_layer = tf.keras.layers.DenseFeatures(deep_wd_1_feature_columns, name=\"deep_feature_layer\")(inputs)\n",
        "d_hidden_layer_1 = tf.keras.layers.Dense(deep_wd_1_hidden_units[0], activation=\"relu\", name=\"deep_fc_1\")(d_feature_layer)\n",
        "d_hidden_layer_2 = tf.keras.layers.Dense(deep_wd_1_hidden_units[1], activation=\"relu\", name=\"deep_fc_2\")(d_hidden_layer_1)\n",
        "d_hidden_layer_3 = tf.keras.layers.Dense(deep_wd_1_hidden_units[2], activation=\"relu\", name=\"deep_fc_3\")(d_hidden_layer_2)\n",
        "\n",
        "#Combine the Wide & Deep\n",
        "wd_1_both = tf.keras.layers.concatenate([w_feature_layer, d_hidden_layer_3])\n",
        "wd_1_output_layer = tf.keras.layers.Dense(10, activation=\"softmax\", name=\"deep_output\")(wd_1_both)\n",
        "\n",
        "wd_1_model = tf.keras.Model(inputs = inputs, outputs=wd_1_output_layer)\n",
        "wd_1_model.compile(optimizer=\"adam\", \n",
        "               loss=\"categorical_crossentropy\", \n",
        "               metrics=['accuracy', tf.keras.metrics.AUC()])\n",
        "wd_1_model.summary()"
      ],
      "execution_count": 27,
      "outputs": [
        {
          "output_type": "stream",
          "text": [
            "Model: \"model\"\n",
            "__________________________________________________________________________________________________\n",
            "Layer (type)                    Output Shape         Param #     Connected to                     \n",
            "==================================================================================================\n",
            "campaign_feature_1 (InputLayer) [(None,)]            0                                            \n",
            "__________________________________________________________________________________________________\n",
            "campaign_feature_2 (InputLayer) [(None,)]            0                                            \n",
            "__________________________________________________________________________________________________\n",
            "campaign_id (InputLayer)        [(None,)]            0                                            \n",
            "__________________________________________________________________________________________________\n",
            "user_feature_1 (InputLayer)     [(None,)]            0                                            \n",
            "__________________________________________________________________________________________________\n",
            "user_feature_2 (InputLayer)     [(None,)]            0                                            \n",
            "__________________________________________________________________________________________________\n",
            "user_id (InputLayer)            [(None,)]            0                                            \n",
            "__________________________________________________________________________________________________\n",
            "deep_feature_layer (DenseFeatur (None, 27)           16700       campaign_feature_1[0][0]         \n",
            "                                                                 campaign_feature_2[0][0]         \n",
            "                                                                 campaign_id[0][0]                \n",
            "                                                                 user_feature_1[0][0]             \n",
            "                                                                 user_feature_2[0][0]             \n",
            "                                                                 user_id[0][0]                    \n",
            "__________________________________________________________________________________________________\n",
            "deep_fc_1 (Dense)               (None, 512)          14336       deep_feature_layer[0][0]         \n",
            "__________________________________________________________________________________________________\n",
            "deep_fc_2 (Dense)               (None, 256)          131328      deep_fc_1[0][0]                  \n",
            "__________________________________________________________________________________________________\n",
            "wide_feature_layer (DenseFeatur (None, 100000)       0           campaign_feature_1[0][0]         \n",
            "                                                                 campaign_feature_2[0][0]         \n",
            "                                                                 campaign_id[0][0]                \n",
            "                                                                 user_feature_1[0][0]             \n",
            "                                                                 user_feature_2[0][0]             \n",
            "                                                                 user_id[0][0]                    \n",
            "__________________________________________________________________________________________________\n",
            "deep_fc_3 (Dense)               (None, 128)          32896       deep_fc_2[0][0]                  \n",
            "__________________________________________________________________________________________________\n",
            "concatenate (Concatenate)       (None, 100128)       0           wide_feature_layer[0][0]         \n",
            "                                                                 deep_fc_3[0][0]                  \n",
            "__________________________________________________________________________________________________\n",
            "deep_output (Dense)             (None, 10)           1001290     concatenate[0][0]                \n",
            "==================================================================================================\n",
            "Total params: 1,196,550\n",
            "Trainable params: 1,196,550\n",
            "Non-trainable params: 0\n",
            "__________________________________________________________________________________________________\n"
          ],
          "name": "stdout"
        }
      ]
    },
    {
      "cell_type": "code",
      "metadata": {
        "id": "dtolveIzcK0T",
        "colab": {
          "base_uri": "https://localhost:8080/"
        },
        "outputId": "35702e82-86a5-4652-e4d2-6c781a3a8969"
      },
      "source": [
        "H = wd_1_model.fit(train_dl, batch_size=batch_size, epochs=n_epochs, \n",
        "               validation_data=val_dl, shuffle=False, \n",
        "               validation_batch_size=batch_size, callbacks=[wd_1_es, wd_1_mc])"
      ],
      "execution_count": 28,
      "outputs": [
        {
          "output_type": "stream",
          "text": [
            "Epoch 1/500\n",
            "2930/2930 [==============================] - 189s 61ms/step - loss: 0.9502 - accuracy: 0.6163 - auc: 0.9389 - val_loss: 0.5515 - val_accuracy: 0.7741 - val_auc: 0.9811\n",
            "\n",
            "Epoch 00001: val_accuracy improved from -inf to 0.77408, saving model to /content/drive/MyDrive/Bandit_Project/generated_data_4_project/models/W&D/wdmodel_1_checkpoint.h5\n",
            "Epoch 2/500\n",
            "2930/2930 [==============================] - 186s 61ms/step - loss: 0.5383 - accuracy: 0.7785 - auc: 0.9819 - val_loss: 0.5139 - val_accuracy: 0.7841 - val_auc: 0.9835\n",
            "\n",
            "Epoch 00002: val_accuracy improved from 0.77408 to 0.78410, saving model to /content/drive/MyDrive/Bandit_Project/generated_data_4_project/models/W&D/wdmodel_1_checkpoint.h5\n",
            "Epoch 3/500\n",
            "2930/2930 [==============================] - 185s 61ms/step - loss: 0.5024 - accuracy: 0.7889 - auc: 0.9842 - val_loss: 0.5114 - val_accuracy: 0.7801 - val_auc: 0.9835\n",
            "\n",
            "Epoch 00003: val_accuracy did not improve from 0.78410\n",
            "Epoch 4/500\n",
            "2930/2930 [==============================] - 185s 61ms/step - loss: 0.4801 - accuracy: 0.7962 - auc: 0.9856 - val_loss: 0.4853 - val_accuracy: 0.7904 - val_auc: 0.9851\n",
            "\n",
            "Epoch 00004: val_accuracy improved from 0.78410 to 0.79041, saving model to /content/drive/MyDrive/Bandit_Project/generated_data_4_project/models/W&D/wdmodel_1_checkpoint.h5\n",
            "Epoch 5/500\n",
            "2930/2930 [==============================] - 186s 61ms/step - loss: 0.4648 - accuracy: 0.8011 - auc: 0.9864 - val_loss: 0.4794 - val_accuracy: 0.7916 - val_auc: 0.9855\n",
            "\n",
            "Epoch 00005: val_accuracy improved from 0.79041 to 0.79159, saving model to /content/drive/MyDrive/Bandit_Project/generated_data_4_project/models/W&D/wdmodel_1_checkpoint.h5\n",
            "Epoch 6/500\n",
            "2930/2930 [==============================] - 186s 61ms/step - loss: 0.4530 - accuracy: 0.8055 - auc: 0.9871 - val_loss: 0.4712 - val_accuracy: 0.7943 - val_auc: 0.9859\n",
            "\n",
            "Epoch 00006: val_accuracy improved from 0.79159 to 0.79433, saving model to /content/drive/MyDrive/Bandit_Project/generated_data_4_project/models/W&D/wdmodel_1_checkpoint.h5\n",
            "Epoch 7/500\n",
            "2930/2930 [==============================] - 184s 60ms/step - loss: 0.4453 - accuracy: 0.8084 - auc: 0.9875 - val_loss: 0.4673 - val_accuracy: 0.7957 - val_auc: 0.9861\n",
            "\n",
            "Epoch 00007: val_accuracy improved from 0.79433 to 0.79572, saving model to /content/drive/MyDrive/Bandit_Project/generated_data_4_project/models/W&D/wdmodel_1_checkpoint.h5\n",
            "Epoch 8/500\n",
            "2930/2930 [==============================] - 184s 61ms/step - loss: 0.4381 - accuracy: 0.8113 - auc: 0.9879 - val_loss: 0.4612 - val_accuracy: 0.7984 - val_auc: 0.9865\n",
            "\n",
            "Epoch 00008: val_accuracy improved from 0.79572 to 0.79842, saving model to /content/drive/MyDrive/Bandit_Project/generated_data_4_project/models/W&D/wdmodel_1_checkpoint.h5\n",
            "Epoch 9/500\n",
            "2930/2930 [==============================] - 185s 61ms/step - loss: 0.4326 - accuracy: 0.8138 - auc: 0.9882 - val_loss: 0.4561 - val_accuracy: 0.8001 - val_auc: 0.9868\n",
            "\n",
            "Epoch 00009: val_accuracy improved from 0.79842 to 0.80014, saving model to /content/drive/MyDrive/Bandit_Project/generated_data_4_project/models/W&D/wdmodel_1_checkpoint.h5\n",
            "Epoch 10/500\n",
            "2930/2930 [==============================] - 183s 60ms/step - loss: 0.4286 - accuracy: 0.8151 - auc: 0.9884 - val_loss: 0.4594 - val_accuracy: 0.7986 - val_auc: 0.9866\n",
            "\n",
            "Epoch 00010: val_accuracy did not improve from 0.80014\n",
            "Epoch 11/500\n",
            "2930/2930 [==============================] - 185s 61ms/step - loss: 0.4245 - accuracy: 0.8166 - auc: 0.9886 - val_loss: 0.4586 - val_accuracy: 0.7994 - val_auc: 0.9866\n",
            "\n",
            "Epoch 00011: val_accuracy did not improve from 0.80014\n",
            "Epoch 12/500\n",
            "2930/2930 [==============================] - 184s 61ms/step - loss: 0.4209 - accuracy: 0.8183 - auc: 0.9888 - val_loss: 0.4501 - val_accuracy: 0.8026 - val_auc: 0.9871\n",
            "\n",
            "Epoch 00012: val_accuracy improved from 0.80014 to 0.80261, saving model to /content/drive/MyDrive/Bandit_Project/generated_data_4_project/models/W&D/wdmodel_1_checkpoint.h5\n",
            "Epoch 13/500\n",
            "2930/2930 [==============================] - 184s 61ms/step - loss: 0.4175 - accuracy: 0.8195 - auc: 0.9889 - val_loss: 0.4515 - val_accuracy: 0.8020 - val_auc: 0.9870\n",
            "\n",
            "Epoch 00013: val_accuracy did not improve from 0.80261\n",
            "Epoch 14/500\n",
            "2930/2930 [==============================] - 183s 60ms/step - loss: 0.4154 - accuracy: 0.8203 - auc: 0.9891 - val_loss: 0.4503 - val_accuracy: 0.8032 - val_auc: 0.9870\n",
            "\n",
            "Epoch 00014: val_accuracy improved from 0.80261 to 0.80317, saving model to /content/drive/MyDrive/Bandit_Project/generated_data_4_project/models/W&D/wdmodel_1_checkpoint.h5\n",
            "Epoch 15/500\n",
            "2930/2930 [==============================] - 184s 60ms/step - loss: 0.4128 - accuracy: 0.8214 - auc: 0.9892 - val_loss: 0.4506 - val_accuracy: 0.8021 - val_auc: 0.9870\n",
            "\n",
            "Epoch 00015: val_accuracy did not improve from 0.80317\n",
            "Epoch 16/500\n",
            "2930/2930 [==============================] - 184s 60ms/step - loss: 0.4104 - accuracy: 0.8224 - auc: 0.9893 - val_loss: 0.4477 - val_accuracy: 0.8034 - val_auc: 0.9872\n",
            "\n",
            "Epoch 00016: val_accuracy improved from 0.80317 to 0.80345, saving model to /content/drive/MyDrive/Bandit_Project/generated_data_4_project/models/W&D/wdmodel_1_checkpoint.h5\n",
            "Epoch 17/500\n",
            "2930/2930 [==============================] - 183s 60ms/step - loss: 0.4082 - accuracy: 0.8235 - auc: 0.9894 - val_loss: 0.4492 - val_accuracy: 0.8027 - val_auc: 0.9871\n",
            "\n",
            "Epoch 00017: val_accuracy did not improve from 0.80345\n",
            "Epoch 18/500\n",
            "2930/2930 [==============================] - 183s 60ms/step - loss: 0.4061 - accuracy: 0.8241 - auc: 0.9895 - val_loss: 0.4472 - val_accuracy: 0.8036 - val_auc: 0.9872\n",
            "\n",
            "Epoch 00018: val_accuracy improved from 0.80345 to 0.80362, saving model to /content/drive/MyDrive/Bandit_Project/generated_data_4_project/models/W&D/wdmodel_1_checkpoint.h5\n",
            "Epoch 19/500\n",
            "2930/2930 [==============================] - 183s 60ms/step - loss: 0.4043 - accuracy: 0.8246 - auc: 0.9896 - val_loss: 0.4486 - val_accuracy: 0.8027 - val_auc: 0.9871\n",
            "\n",
            "Epoch 00019: val_accuracy did not improve from 0.80362\n",
            "Epoch 20/500\n",
            "2930/2930 [==============================] - 183s 60ms/step - loss: 0.4032 - accuracy: 0.8251 - auc: 0.9896 - val_loss: 0.4448 - val_accuracy: 0.8054 - val_auc: 0.9873\n",
            "\n",
            "Epoch 00020: val_accuracy improved from 0.80362 to 0.80541, saving model to /content/drive/MyDrive/Bandit_Project/generated_data_4_project/models/W&D/wdmodel_1_checkpoint.h5\n",
            "Epoch 21/500\n",
            "2930/2930 [==============================] - 183s 60ms/step - loss: 0.4015 - accuracy: 0.8259 - auc: 0.9897 - val_loss: 0.4476 - val_accuracy: 0.8040 - val_auc: 0.9871\n",
            "\n",
            "Epoch 00021: val_accuracy did not improve from 0.80541\n",
            "Epoch 22/500\n",
            "2930/2930 [==============================] - 183s 60ms/step - loss: 0.4002 - accuracy: 0.8265 - auc: 0.9898 - val_loss: 0.4456 - val_accuracy: 0.8045 - val_auc: 0.9872\n",
            "\n",
            "Epoch 00022: val_accuracy did not improve from 0.80541\n",
            "Epoch 23/500\n",
            "2930/2930 [==============================] - 183s 60ms/step - loss: 0.3989 - accuracy: 0.8271 - auc: 0.9899 - val_loss: 0.4462 - val_accuracy: 0.8046 - val_auc: 0.9872\n",
            "\n",
            "Epoch 00023: val_accuracy did not improve from 0.80541\n",
            "Epoch 24/500\n",
            "2930/2930 [==============================] - 183s 60ms/step - loss: 0.3981 - accuracy: 0.8271 - auc: 0.9899 - val_loss: 0.4440 - val_accuracy: 0.8056 - val_auc: 0.9873\n",
            "\n",
            "Epoch 00024: val_accuracy improved from 0.80541 to 0.80563, saving model to /content/drive/MyDrive/Bandit_Project/generated_data_4_project/models/W&D/wdmodel_1_checkpoint.h5\n",
            "Epoch 25/500\n",
            "2930/2930 [==============================] - 184s 60ms/step - loss: 0.3961 - accuracy: 0.8281 - auc: 0.9900 - val_loss: 0.4545 - val_accuracy: 0.8017 - val_auc: 0.9867\n",
            "\n",
            "Epoch 00025: val_accuracy did not improve from 0.80563\n",
            "Epoch 26/500\n",
            "2930/2930 [==============================] - 184s 61ms/step - loss: 0.3956 - accuracy: 0.8281 - auc: 0.9900 - val_loss: 0.4463 - val_accuracy: 0.8059 - val_auc: 0.9871\n",
            "\n",
            "Epoch 00026: val_accuracy improved from 0.80563 to 0.80591, saving model to /content/drive/MyDrive/Bandit_Project/generated_data_4_project/models/W&D/wdmodel_1_checkpoint.h5\n",
            "Epoch 27/500\n",
            "2930/2930 [==============================] - 184s 60ms/step - loss: 0.3946 - accuracy: 0.8285 - auc: 0.9901 - val_loss: 0.4433 - val_accuracy: 0.8058 - val_auc: 0.9874\n",
            "\n",
            "Epoch 00027: val_accuracy did not improve from 0.80591\n",
            "Epoch 28/500\n",
            "2930/2930 [==============================] - 184s 61ms/step - loss: 0.3934 - accuracy: 0.8292 - auc: 0.9901 - val_loss: 0.4444 - val_accuracy: 0.8057 - val_auc: 0.9873\n",
            "\n",
            "Epoch 00028: val_accuracy did not improve from 0.80591\n",
            "Epoch 29/500\n",
            "2930/2930 [==============================] - 185s 61ms/step - loss: 0.3927 - accuracy: 0.8293 - auc: 0.9901 - val_loss: 0.4446 - val_accuracy: 0.8060 - val_auc: 0.9872\n",
            "\n",
            "Epoch 00029: val_accuracy improved from 0.80591 to 0.80603, saving model to /content/drive/MyDrive/Bandit_Project/generated_data_4_project/models/W&D/wdmodel_1_checkpoint.h5\n",
            "Epoch 30/500\n",
            "2930/2930 [==============================] - 184s 61ms/step - loss: 0.3916 - accuracy: 0.8300 - auc: 0.9902 - val_loss: 0.4417 - val_accuracy: 0.8073 - val_auc: 0.9874\n",
            "\n",
            "Epoch 00030: val_accuracy improved from 0.80603 to 0.80734, saving model to /content/drive/MyDrive/Bandit_Project/generated_data_4_project/models/W&D/wdmodel_1_checkpoint.h5\n",
            "Epoch 31/500\n",
            "2930/2930 [==============================] - 184s 61ms/step - loss: 0.3907 - accuracy: 0.8302 - auc: 0.9902 - val_loss: 0.4456 - val_accuracy: 0.8055 - val_auc: 0.9872\n",
            "\n",
            "Epoch 00031: val_accuracy did not improve from 0.80734\n",
            "Epoch 32/500\n",
            "2930/2930 [==============================] - 184s 61ms/step - loss: 0.3905 - accuracy: 0.8303 - auc: 0.9903 - val_loss: 0.4439 - val_accuracy: 0.8068 - val_auc: 0.9873\n",
            "\n",
            "Epoch 00032: val_accuracy did not improve from 0.80734\n",
            "Epoch 33/500\n",
            "2930/2930 [==============================] - 184s 61ms/step - loss: 0.3894 - accuracy: 0.8307 - auc: 0.9903 - val_loss: 0.4430 - val_accuracy: 0.8070 - val_auc: 0.9873\n",
            "\n",
            "Epoch 00033: val_accuracy did not improve from 0.80734\n",
            "Epoch 34/500\n",
            "2930/2930 [==============================] - 184s 61ms/step - loss: 0.3888 - accuracy: 0.8310 - auc: 0.9903 - val_loss: 0.4452 - val_accuracy: 0.8059 - val_auc: 0.9872\n",
            "\n",
            "Epoch 00034: val_accuracy did not improve from 0.80734\n",
            "Epoch 35/500\n",
            "2930/2930 [==============================] - 184s 61ms/step - loss: 0.3884 - accuracy: 0.8310 - auc: 0.9904 - val_loss: 0.4445 - val_accuracy: 0.8063 - val_auc: 0.9872\n",
            "\n",
            "Epoch 00035: val_accuracy did not improve from 0.80734\n",
            "Epoch 36/500\n",
            "2930/2930 [==============================] - 184s 61ms/step - loss: 0.3875 - accuracy: 0.8316 - auc: 0.9904 - val_loss: 0.4447 - val_accuracy: 0.8058 - val_auc: 0.9872\n",
            "\n",
            "Epoch 00036: val_accuracy did not improve from 0.80734\n",
            "Epoch 37/500\n",
            "2930/2930 [==============================] - 184s 61ms/step - loss: 0.3870 - accuracy: 0.8318 - auc: 0.9904 - val_loss: 0.4441 - val_accuracy: 0.8071 - val_auc: 0.9872\n",
            "\n",
            "Epoch 00037: val_accuracy did not improve from 0.80734\n",
            "Epoch 38/500\n",
            "2930/2930 [==============================] - 184s 61ms/step - loss: 0.3861 - accuracy: 0.8320 - auc: 0.9905 - val_loss: 0.4449 - val_accuracy: 0.8065 - val_auc: 0.9872\n",
            "\n",
            "Epoch 00038: val_accuracy did not improve from 0.80734\n",
            "Epoch 39/500\n",
            "2930/2930 [==============================] - 184s 61ms/step - loss: 0.3854 - accuracy: 0.8322 - auc: 0.9905 - val_loss: 0.4450 - val_accuracy: 0.8069 - val_auc: 0.9872\n",
            "\n",
            "Epoch 00039: val_accuracy did not improve from 0.80734\n",
            "Epoch 40/500\n",
            "2930/2930 [==============================] - 184s 61ms/step - loss: 0.3851 - accuracy: 0.8325 - auc: 0.9905 - val_loss: 0.4449 - val_accuracy: 0.8067 - val_auc: 0.9872\n",
            "\n",
            "Epoch 00040: val_accuracy did not improve from 0.80734\n",
            "Epoch 00040: early stopping\n"
          ],
          "name": "stdout"
        }
      ]
    },
    {
      "cell_type": "code",
      "metadata": {
        "id": "lTkc6R5DcK_G",
        "colab": {
          "base_uri": "https://localhost:8080/",
          "height": 387
        },
        "outputId": "d5f2631e-028f-4927-97f3-cfc81fa5b6ef"
      },
      "source": [
        "#Plot the training & validation loss/accuracy curve\n",
        "plt.figure()\n",
        "plt.style.use('ggplot')\n",
        "plt.plot(H.history['accuracy'], label='Training Accuracy')\n",
        "plt.plot(H.history['val_accuracy'], label='Validation Accuracy')\n",
        "plt.plot(H.history['loss'], label='Training Loss')\n",
        "plt.plot(H.history['val_loss'], label='Validation Loss')\n",
        "plt.legend()\n",
        "plt.title('Accuracy/Loss vs Epochs')\n",
        "plt.xlabel('Epoch Number')\n",
        "plt.ylabel('Accuracy/Loss')\n",
        "plt.show()"
      ],
      "execution_count": 29,
      "outputs": [
        {
          "output_type": "execute_result",
          "data": {
            "text/plain": [
              "<Figure size 432x288 with 0 Axes>"
            ]
          },
          "metadata": {
            "tags": []
          },
          "execution_count": 29
        },
        {
          "output_type": "execute_result",
          "data": {
            "text/plain": [
              "[<matplotlib.lines.Line2D at 0x7ff8542c60d0>]"
            ]
          },
          "metadata": {
            "tags": []
          },
          "execution_count": 29
        },
        {
          "output_type": "execute_result",
          "data": {
            "text/plain": [
              "[<matplotlib.lines.Line2D at 0x7ff8542c6610>]"
            ]
          },
          "metadata": {
            "tags": []
          },
          "execution_count": 29
        },
        {
          "output_type": "execute_result",
          "data": {
            "text/plain": [
              "[<matplotlib.lines.Line2D at 0x7ff8542c6b50>]"
            ]
          },
          "metadata": {
            "tags": []
          },
          "execution_count": 29
        },
        {
          "output_type": "execute_result",
          "data": {
            "text/plain": [
              "[<matplotlib.lines.Line2D at 0x7ff8542d4110>]"
            ]
          },
          "metadata": {
            "tags": []
          },
          "execution_count": 29
        },
        {
          "output_type": "execute_result",
          "data": {
            "text/plain": [
              "<matplotlib.legend.Legend at 0x7ff854303b50>"
            ]
          },
          "metadata": {
            "tags": []
          },
          "execution_count": 29
        },
        {
          "output_type": "execute_result",
          "data": {
            "text/plain": [
              "Text(0.5, 1.0, 'Accuracy/Loss vs Epochs')"
            ]
          },
          "metadata": {
            "tags": []
          },
          "execution_count": 29
        },
        {
          "output_type": "execute_result",
          "data": {
            "text/plain": [
              "Text(0.5, 0, 'Epoch Number')"
            ]
          },
          "metadata": {
            "tags": []
          },
          "execution_count": 29
        },
        {
          "output_type": "execute_result",
          "data": {
            "text/plain": [
              "Text(0, 0.5, 'Accuracy/Loss')"
            ]
          },
          "metadata": {
            "tags": []
          },
          "execution_count": 29
        },
        {
          "output_type": "display_data",
          "data": {
            "image/png": "[encoded data removed]",
            "text/plain": [
              "<Figure size 432x288 with 1 Axes>"
            ]
          },
          "metadata": {
            "tags": [],
            "needs_background": "light"
          }
        }
      ]
    },
    {
      "cell_type": "code",
      "metadata": {
        "id": "1Lh-scY6cmco",
        "colab": {
          "base_uri": "https://localhost:8080/"
        },
        "outputId": "8e251a9a-16a6-42a2-8342-cf4e25726edd"
      },
      "source": [
        "#Generate the predictions to a variable\n",
        "wd_1_predictions = wd_1_model.predict(test_dl, batch_size=batch_size, verbose=1)\n",
        "results[\"wide_deep_1\"] = np.argmax(wd_1_predictions, axis=1)"
      ],
      "execution_count": 30,
      "outputs": [
        {
          "output_type": "stream",
          "text": [
            "977/977 [==============================] - 28s 28ms/step\n"
          ],
          "name": "stdout"
        }
      ]
    },
    {
      "cell_type": "code",
      "metadata": {
        "id": "P4KiAgiYcoEQ",
        "colab": {
          "base_uri": "https://localhost:8080/"
        },
        "outputId": "0d6c8cc1-f125-483f-e27a-076cb8eb8696"
      },
      "source": [
        "wd_1_model.save(str(wdmodel_1_path))\n",
        "del wd_1_model\n",
        "del H\n",
        "gc.collect()"
      ],
      "execution_count": 31,
      "outputs": [
        {
          "output_type": "execute_result",
          "data": {
            "text/plain": [
              "1926"
            ]
          },
          "metadata": {
            "tags": []
          },
          "execution_count": 31
        }
      ]
    },
    {
      "cell_type": "markdown",
      "metadata": {
        "id": "VJO1-rFtQb4S"
      },
      "source": [
        "## Wide & Deep Model 2\n",
        "\n",
        "Wide part receives the crossed columns\n",
        "Deep part receives the numeric features (No embeddings)"
      ]
    },
    {
      "cell_type": "code",
      "metadata": {
        "id": "BYSH3BRhorx8",
        "colab": {
          "base_uri": "https://localhost:8080/"
        },
        "outputId": "055652df-ae0f-4465-e75f-7741254b5645"
      },
      "source": [
        "wide_wd_2_feature_columns = user_campaign_cross_col\n",
        "deep_wd_2_feature_columns = numeric_feature_columns\n",
        "\n",
        "deep_wd_2_hidden_units = [512, 256, 128]\n",
        "\n",
        "wdmodel_2_path = wdmodel_dir/\"wdmodel_2.h5\"\n",
        "wdmodel_2_checkpoint_path = wdmodel_dir/\"wdmodel_2_checkpoint.h5\"\n",
        "\n",
        "#simple early stopping\n",
        "wd_2_es = tf.keras.callbacks.EarlyStopping(monitor='val_loss', mode='min', verbose=1, patience=10)\n",
        "wd_2_mc = tf.keras.callbacks.ModelCheckpoint(str(wdmodel_2_checkpoint_path), monitor='val_accuracy', mode='max', verbose=1, save_best_only=True)\n",
        "\n",
        "#Build the Wide Model\n",
        "w_feature_layer = tf.keras.layers.DenseFeatures(wide_wd_2_feature_columns, name=\"wide_feature_layer\")(inputs)\n",
        "\n",
        "#Build the Deep Model\n",
        "d_feature_layer = tf.keras.layers.DenseFeatures(deep_wd_2_feature_columns, name=\"deep_feature_layer\")(inputs)\n",
        "d_hidden_layer_1 = tf.keras.layers.Dense(deep_wd_2_hidden_units[0], activation=\"relu\", name=\"deep_fc_1\")(d_feature_layer)\n",
        "d_hidden_layer_2 = tf.keras.layers.Dense(deep_wd_2_hidden_units[1], activation=\"relu\", name=\"deep_fc_2\")(d_hidden_layer_1)\n",
        "d_hidden_layer_3 = tf.keras.layers.Dense(deep_wd_2_hidden_units[2], activation=\"relu\", name=\"deep_fc_3\")(d_hidden_layer_2)\n",
        "\n",
        "#Combine the Wide & Deep\n",
        "wd_2_both = tf.keras.layers.concatenate([w_feature_layer, d_hidden_layer_3])\n",
        "wd_2_output_layer = tf.keras.layers.Dense(10, activation=\"softmax\", name=\"deep_output\")(wd_2_both)\n",
        "\n",
        "wd_2_model = tf.keras.Model(inputs = inputs, outputs=wd_2_output_layer)\n",
        "wd_2_model.compile(optimizer=\"adam\", \n",
        "               loss=\"categorical_crossentropy\", \n",
        "               metrics=['accuracy', tf.keras.metrics.AUC()])\n",
        "wd_2_model.summary()"
      ],
      "execution_count": 32,
      "outputs": [
        {
          "output_type": "stream",
          "text": [
            "Model: \"model_1\"\n",
            "__________________________________________________________________________________________________\n",
            "Layer (type)                    Output Shape         Param #     Connected to                     \n",
            "==================================================================================================\n",
            "campaign_feature_1 (InputLayer) [(None,)]            0                                            \n",
            "__________________________________________________________________________________________________\n",
            "campaign_feature_2 (InputLayer) [(None,)]            0                                            \n",
            "__________________________________________________________________________________________________\n",
            "campaign_id (InputLayer)        [(None,)]            0                                            \n",
            "__________________________________________________________________________________________________\n",
            "user_feature_1 (InputLayer)     [(None,)]            0                                            \n",
            "__________________________________________________________________________________________________\n",
            "user_feature_2 (InputLayer)     [(None,)]            0                                            \n",
            "__________________________________________________________________________________________________\n",
            "user_id (InputLayer)            [(None,)]            0                                            \n",
            "__________________________________________________________________________________________________\n",
            "deep_feature_layer (DenseFeatur (None, 4)            0           campaign_feature_1[0][0]         \n",
            "                                                                 campaign_feature_2[0][0]         \n",
            "                                                                 campaign_id[0][0]                \n",
            "                                                                 user_feature_1[0][0]             \n",
            "                                                                 user_feature_2[0][0]             \n",
            "                                                                 user_id[0][0]                    \n",
            "__________________________________________________________________________________________________\n",
            "deep_fc_1 (Dense)               (None, 512)          2560        deep_feature_layer[0][0]         \n",
            "__________________________________________________________________________________________________\n",
            "deep_fc_2 (Dense)               (None, 256)          131328      deep_fc_1[0][0]                  \n",
            "__________________________________________________________________________________________________\n",
            "wide_feature_layer (DenseFeatur (None, 100000)       0           campaign_feature_1[0][0]         \n",
            "                                                                 campaign_feature_2[0][0]         \n",
            "                                                                 campaign_id[0][0]                \n",
            "                                                                 user_feature_1[0][0]             \n",
            "                                                                 user_feature_2[0][0]             \n",
            "                                                                 user_id[0][0]                    \n",
            "__________________________________________________________________________________________________\n",
            "deep_fc_3 (Dense)               (None, 128)          32896       deep_fc_2[0][0]                  \n",
            "__________________________________________________________________________________________________\n",
            "concatenate_1 (Concatenate)     (None, 100128)       0           wide_feature_layer[0][0]         \n",
            "                                                                 deep_fc_3[0][0]                  \n",
            "__________________________________________________________________________________________________\n",
            "deep_output (Dense)             (None, 10)           1001290     concatenate_1[0][0]              \n",
            "==================================================================================================\n",
            "Total params: 1,168,074\n",
            "Trainable params: 1,168,074\n",
            "Non-trainable params: 0\n",
            "__________________________________________________________________________________________________\n"
          ],
          "name": "stdout"
        }
      ]
    },
    {
      "cell_type": "code",
      "metadata": {
        "id": "7rdeE5vjch1q",
        "colab": {
          "base_uri": "https://localhost:8080/"
        },
        "outputId": "bbc08592-be18-46ac-c073-752c6712a274"
      },
      "source": [
        "H = wd_2_model.fit(train_dl, batch_size=batch_size, epochs=n_epochs, \n",
        "               validation_data=val_dl, shuffle=False, \n",
        "               validation_batch_size=batch_size, callbacks=[wd_2_es, wd_2_mc])"
      ],
      "execution_count": 33,
      "outputs": [
        {
          "output_type": "stream",
          "text": [
            "Epoch 1/500\n",
            "2930/2930 [==============================] - 172s 56ms/step - loss: 0.9623 - accuracy: 0.6115 - auc_1: 0.9425 - val_loss: 0.7296 - val_accuracy: 0.6811 - val_auc_1: 0.9682\n",
            "\n",
            "Epoch 00001: val_accuracy improved from -inf to 0.68111, saving model to /content/drive/MyDrive/Bandit_Project/generated_data_4_project/models/W&D/wdmodel_2_checkpoint.h5\n",
            "Epoch 2/500\n",
            "2930/2930 [==============================] - 171s 56ms/step - loss: 0.7098 - accuracy: 0.6927 - auc_1: 0.9700 - val_loss: 0.7042 - val_accuracy: 0.6877 - val_auc_1: 0.9703\n",
            "\n",
            "Epoch 00002: val_accuracy improved from 0.68111 to 0.68767, saving model to /content/drive/MyDrive/Bandit_Project/generated_data_4_project/models/W&D/wdmodel_2_checkpoint.h5\n",
            "Epoch 3/500\n",
            "2930/2930 [==============================] - 171s 56ms/step - loss: 0.6739 - accuracy: 0.7105 - auc_1: 0.9730 - val_loss: 0.6652 - val_accuracy: 0.7112 - val_auc_1: 0.9736\n",
            "\n",
            "Epoch 00003: val_accuracy improved from 0.68767 to 0.71118, saving model to /content/drive/MyDrive/Bandit_Project/generated_data_4_project/models/W&D/wdmodel_2_checkpoint.h5\n",
            "Epoch 4/500\n",
            "2930/2930 [==============================] - 172s 56ms/step - loss: 0.6493 - accuracy: 0.7231 - auc_1: 0.9750 - val_loss: 0.6627 - val_accuracy: 0.7110 - val_auc_1: 0.9735\n",
            "\n",
            "Epoch 00004: val_accuracy did not improve from 0.71118\n",
            "Epoch 5/500\n",
            "2930/2930 [==============================] - 171s 56ms/step - loss: 0.6328 - accuracy: 0.7311 - auc_1: 0.9763 - val_loss: 0.6362 - val_accuracy: 0.7258 - val_auc_1: 0.9759\n",
            "\n",
            "Epoch 00005: val_accuracy improved from 0.71118 to 0.72578, saving model to /content/drive/MyDrive/Bandit_Project/generated_data_4_project/models/W&D/wdmodel_2_checkpoint.h5\n",
            "Epoch 6/500\n",
            "2930/2930 [==============================] - 172s 57ms/step - loss: 0.6188 - accuracy: 0.7377 - auc_1: 0.9773 - val_loss: 0.6337 - val_accuracy: 0.7246 - val_auc_1: 0.9758\n",
            "\n",
            "Epoch 00006: val_accuracy did not improve from 0.72578\n",
            "Epoch 7/500\n",
            "2930/2930 [==============================] - 173s 57ms/step - loss: 0.6081 - accuracy: 0.7428 - auc_1: 0.9781 - val_loss: 0.6313 - val_accuracy: 0.7263 - val_auc_1: 0.9761\n",
            "\n",
            "Epoch 00007: val_accuracy improved from 0.72578 to 0.72632, saving model to /content/drive/MyDrive/Bandit_Project/generated_data_4_project/models/W&D/wdmodel_2_checkpoint.h5\n",
            "Epoch 8/500\n",
            "2930/2930 [==============================] - 172s 57ms/step - loss: 0.5974 - accuracy: 0.7475 - auc_1: 0.9788 - val_loss: 0.6284 - val_accuracy: 0.7266 - val_auc_1: 0.9761\n",
            "\n",
            "Epoch 00008: val_accuracy improved from 0.72632 to 0.72657, saving model to /content/drive/MyDrive/Bandit_Project/generated_data_4_project/models/W&D/wdmodel_2_checkpoint.h5\n",
            "Epoch 9/500\n",
            "2930/2930 [==============================] - 173s 57ms/step - loss: 0.5897 - accuracy: 0.7509 - auc_1: 0.9793 - val_loss: 0.6128 - val_accuracy: 0.7344 - val_auc_1: 0.9773\n",
            "\n",
            "Epoch 00009: val_accuracy improved from 0.72657 to 0.73444, saving model to /content/drive/MyDrive/Bandit_Project/generated_data_4_project/models/W&D/wdmodel_2_checkpoint.h5\n",
            "Epoch 10/500\n",
            "2930/2930 [==============================] - 172s 57ms/step - loss: 0.5826 - accuracy: 0.7537 - auc_1: 0.9798 - val_loss: 0.6145 - val_accuracy: 0.7333 - val_auc_1: 0.9771\n",
            "\n",
            "Epoch 00010: val_accuracy did not improve from 0.73444\n",
            "Epoch 11/500\n",
            "2930/2930 [==============================] - 172s 56ms/step - loss: 0.5755 - accuracy: 0.7566 - auc_1: 0.9803 - val_loss: 0.6009 - val_accuracy: 0.7397 - val_auc_1: 0.9781\n",
            "\n",
            "Epoch 00011: val_accuracy improved from 0.73444 to 0.73973, saving model to /content/drive/MyDrive/Bandit_Project/generated_data_4_project/models/W&D/wdmodel_2_checkpoint.h5\n",
            "Epoch 12/500\n",
            "2930/2930 [==============================] - 172s 56ms/step - loss: 0.5697 - accuracy: 0.7593 - auc_1: 0.9806 - val_loss: 0.6013 - val_accuracy: 0.7398 - val_auc_1: 0.9779\n",
            "\n",
            "Epoch 00012: val_accuracy improved from 0.73973 to 0.73976, saving model to /content/drive/MyDrive/Bandit_Project/generated_data_4_project/models/W&D/wdmodel_2_checkpoint.h5\n",
            "Epoch 13/500\n",
            "2930/2930 [==============================] - 171s 56ms/step - loss: 0.5637 - accuracy: 0.7617 - auc_1: 0.9810 - val_loss: 0.6003 - val_accuracy: 0.7398 - val_auc_1: 0.9780\n",
            "\n",
            "Epoch 00013: val_accuracy improved from 0.73976 to 0.73982, saving model to /content/drive/MyDrive/Bandit_Project/generated_data_4_project/models/W&D/wdmodel_2_checkpoint.h5\n",
            "Epoch 14/500\n",
            "2930/2930 [==============================] - 172s 56ms/step - loss: 0.5588 - accuracy: 0.7639 - auc_1: 0.9813 - val_loss: 0.5967 - val_accuracy: 0.7404 - val_auc_1: 0.9783\n",
            "\n",
            "Epoch 00014: val_accuracy improved from 0.73982 to 0.74040, saving model to /content/drive/MyDrive/Bandit_Project/generated_data_4_project/models/W&D/wdmodel_2_checkpoint.h5\n",
            "Epoch 15/500\n",
            "2930/2930 [==============================] - 171s 56ms/step - loss: 0.5541 - accuracy: 0.7655 - auc_1: 0.9816 - val_loss: 0.5953 - val_accuracy: 0.7416 - val_auc_1: 0.9784\n",
            "\n",
            "Epoch 00015: val_accuracy improved from 0.74040 to 0.74160, saving model to /content/drive/MyDrive/Bandit_Project/generated_data_4_project/models/W&D/wdmodel_2_checkpoint.h5\n",
            "Epoch 16/500\n",
            "2930/2930 [==============================] - 172s 56ms/step - loss: 0.5495 - accuracy: 0.7674 - auc_1: 0.9819 - val_loss: 0.5865 - val_accuracy: 0.7463 - val_auc_1: 0.9790\n",
            "\n",
            "Epoch 00016: val_accuracy improved from 0.74160 to 0.74626, saving model to /content/drive/MyDrive/Bandit_Project/generated_data_4_project/models/W&D/wdmodel_2_checkpoint.h5\n",
            "Epoch 17/500\n",
            "2930/2930 [==============================] - 172s 57ms/step - loss: 0.5459 - accuracy: 0.7690 - auc_1: 0.9821 - val_loss: 0.5853 - val_accuracy: 0.7460 - val_auc_1: 0.9791\n",
            "\n",
            "Epoch 00017: val_accuracy did not improve from 0.74626\n",
            "Epoch 18/500\n",
            "2930/2930 [==============================] - 173s 57ms/step - loss: 0.5421 - accuracy: 0.7705 - auc_1: 0.9823 - val_loss: 0.5861 - val_accuracy: 0.7463 - val_auc_1: 0.9789\n",
            "\n",
            "Epoch 00018: val_accuracy improved from 0.74626 to 0.74632, saving model to /content/drive/MyDrive/Bandit_Project/generated_data_4_project/models/W&D/wdmodel_2_checkpoint.h5\n",
            "Epoch 19/500\n",
            "2930/2930 [==============================] - 175s 57ms/step - loss: 0.5388 - accuracy: 0.7721 - auc_1: 0.9825 - val_loss: 0.5790 - val_accuracy: 0.7497 - val_auc_1: 0.9794\n",
            "\n",
            "Epoch 00019: val_accuracy improved from 0.74632 to 0.74973, saving model to /content/drive/MyDrive/Bandit_Project/generated_data_4_project/models/W&D/wdmodel_2_checkpoint.h5\n",
            "Epoch 20/500\n",
            "2930/2930 [==============================] - 175s 58ms/step - loss: 0.5363 - accuracy: 0.7731 - auc_1: 0.9827 - val_loss: 0.5785 - val_accuracy: 0.7495 - val_auc_1: 0.9795\n",
            "\n",
            "Epoch 00020: val_accuracy did not improve from 0.74973\n",
            "Epoch 21/500\n",
            "2930/2930 [==============================] - 175s 57ms/step - loss: 0.5330 - accuracy: 0.7743 - auc_1: 0.9829 - val_loss: 0.5793 - val_accuracy: 0.7493 - val_auc_1: 0.9793\n",
            "\n",
            "Epoch 00021: val_accuracy did not improve from 0.74973\n",
            "Epoch 22/500\n",
            "2930/2930 [==============================] - 172s 57ms/step - loss: 0.5300 - accuracy: 0.7757 - auc_1: 0.9830 - val_loss: 0.5766 - val_accuracy: 0.7521 - val_auc_1: 0.9795\n",
            "\n",
            "Epoch 00022: val_accuracy improved from 0.74973 to 0.75215, saving model to /content/drive/MyDrive/Bandit_Project/generated_data_4_project/models/W&D/wdmodel_2_checkpoint.h5\n",
            "Epoch 23/500\n",
            "2930/2930 [==============================] - 172s 57ms/step - loss: 0.5274 - accuracy: 0.7769 - auc_1: 0.9832 - val_loss: 0.5733 - val_accuracy: 0.7519 - val_auc_1: 0.9797\n",
            "\n",
            "Epoch 00023: val_accuracy did not improve from 0.75215\n",
            "Epoch 24/500\n",
            "2930/2930 [==============================] - 172s 57ms/step - loss: 0.5253 - accuracy: 0.7779 - auc_1: 0.9833 - val_loss: 0.5706 - val_accuracy: 0.7537 - val_auc_1: 0.9799\n",
            "\n",
            "Epoch 00024: val_accuracy improved from 0.75215 to 0.75375, saving model to /content/drive/MyDrive/Bandit_Project/generated_data_4_project/models/W&D/wdmodel_2_checkpoint.h5\n",
            "Epoch 25/500\n",
            "2930/2930 [==============================] - 172s 57ms/step - loss: 0.5232 - accuracy: 0.7787 - auc_1: 0.9834 - val_loss: 0.5683 - val_accuracy: 0.7554 - val_auc_1: 0.9800\n",
            "\n",
            "Epoch 00025: val_accuracy improved from 0.75375 to 0.75544, saving model to /content/drive/MyDrive/Bandit_Project/generated_data_4_project/models/W&D/wdmodel_2_checkpoint.h5\n",
            "Epoch 26/500\n",
            "2930/2930 [==============================] - 172s 56ms/step - loss: 0.5209 - accuracy: 0.7796 - auc_1: 0.9835 - val_loss: 0.5670 - val_accuracy: 0.7560 - val_auc_1: 0.9802\n",
            "\n",
            "Epoch 00026: val_accuracy improved from 0.75544 to 0.75597, saving model to /content/drive/MyDrive/Bandit_Project/generated_data_4_project/models/W&D/wdmodel_2_checkpoint.h5\n",
            "Epoch 27/500\n",
            "2930/2930 [==============================] - 172s 56ms/step - loss: 0.5189 - accuracy: 0.7805 - auc_1: 0.9836 - val_loss: 0.5688 - val_accuracy: 0.7545 - val_auc_1: 0.9800\n",
            "\n",
            "Epoch 00027: val_accuracy did not improve from 0.75597\n",
            "Epoch 28/500\n",
            "2930/2930 [==============================] - 172s 57ms/step - loss: 0.5175 - accuracy: 0.7808 - auc_1: 0.9837 - val_loss: 0.5718 - val_accuracy: 0.7533 - val_auc_1: 0.9797\n",
            "\n",
            "Epoch 00028: val_accuracy did not improve from 0.75597\n",
            "Epoch 29/500\n",
            "2930/2930 [==============================] - 172s 56ms/step - loss: 0.5154 - accuracy: 0.7819 - auc_1: 0.9838 - val_loss: 0.5646 - val_accuracy: 0.7572 - val_auc_1: 0.9802\n",
            "\n",
            "Epoch 00029: val_accuracy improved from 0.75597 to 0.75717, saving model to /content/drive/MyDrive/Bandit_Project/generated_data_4_project/models/W&D/wdmodel_2_checkpoint.h5\n",
            "Epoch 30/500\n",
            "2930/2930 [==============================] - 172s 56ms/step - loss: 0.5140 - accuracy: 0.7828 - auc_1: 0.9839 - val_loss: 0.5623 - val_accuracy: 0.7584 - val_auc_1: 0.9804\n",
            "\n",
            "Epoch 00030: val_accuracy improved from 0.75717 to 0.75837, saving model to /content/drive/MyDrive/Bandit_Project/generated_data_4_project/models/W&D/wdmodel_2_checkpoint.h5\n",
            "Epoch 31/500\n",
            "2930/2930 [==============================] - 172s 57ms/step - loss: 0.5126 - accuracy: 0.7833 - auc_1: 0.9840 - val_loss: 0.5640 - val_accuracy: 0.7569 - val_auc_1: 0.9802\n",
            "\n",
            "Epoch 00031: val_accuracy did not improve from 0.75837\n",
            "Epoch 32/500\n",
            "2930/2930 [==============================] - 174s 57ms/step - loss: 0.5107 - accuracy: 0.7839 - auc_1: 0.9841 - val_loss: 0.5648 - val_accuracy: 0.7576 - val_auc_1: 0.9802\n",
            "\n",
            "Epoch 00032: val_accuracy did not improve from 0.75837\n",
            "Epoch 33/500\n",
            "2930/2930 [==============================] - 173s 57ms/step - loss: 0.5099 - accuracy: 0.7843 - auc_1: 0.9841 - val_loss: 0.5614 - val_accuracy: 0.7592 - val_auc_1: 0.9804\n",
            "\n",
            "Epoch 00033: val_accuracy improved from 0.75837 to 0.75920, saving model to /content/drive/MyDrive/Bandit_Project/generated_data_4_project/models/W&D/wdmodel_2_checkpoint.h5\n",
            "Epoch 34/500\n",
            "2930/2930 [==============================] - 173s 57ms/step - loss: 0.5083 - accuracy: 0.7848 - auc_1: 0.9842 - val_loss: 0.5630 - val_accuracy: 0.7583 - val_auc_1: 0.9803\n",
            "\n",
            "Epoch 00034: val_accuracy did not improve from 0.75920\n",
            "Epoch 35/500\n",
            "2930/2930 [==============================] - 173s 57ms/step - loss: 0.5069 - accuracy: 0.7857 - auc_1: 0.9843 - val_loss: 0.5607 - val_accuracy: 0.7601 - val_auc_1: 0.9804\n",
            "\n",
            "Epoch 00035: val_accuracy improved from 0.75920 to 0.76006, saving model to /content/drive/MyDrive/Bandit_Project/generated_data_4_project/models/W&D/wdmodel_2_checkpoint.h5\n",
            "Epoch 36/500\n",
            "2930/2930 [==============================] - 172s 56ms/step - loss: 0.5055 - accuracy: 0.7863 - auc_1: 0.9844 - val_loss: 0.5607 - val_accuracy: 0.7610 - val_auc_1: 0.9804\n",
            "\n",
            "Epoch 00036: val_accuracy improved from 0.76006 to 0.76101, saving model to /content/drive/MyDrive/Bandit_Project/generated_data_4_project/models/W&D/wdmodel_2_checkpoint.h5\n",
            "Epoch 37/500\n",
            "2930/2930 [==============================] - 172s 56ms/step - loss: 0.5048 - accuracy: 0.7865 - auc_1: 0.9844 - val_loss: 0.5599 - val_accuracy: 0.7607 - val_auc_1: 0.9804\n",
            "\n",
            "Epoch 00037: val_accuracy did not improve from 0.76101\n",
            "Epoch 38/500\n",
            "2930/2930 [==============================] - 172s 56ms/step - loss: 0.5034 - accuracy: 0.7870 - auc_1: 0.9845 - val_loss: 0.5636 - val_accuracy: 0.7592 - val_auc_1: 0.9802\n",
            "\n",
            "Epoch 00038: val_accuracy did not improve from 0.76101\n",
            "Epoch 39/500\n",
            "2930/2930 [==============================] - 172s 56ms/step - loss: 0.5023 - accuracy: 0.7877 - auc_1: 0.9845 - val_loss: 0.5625 - val_accuracy: 0.7595 - val_auc_1: 0.9802\n",
            "\n",
            "Epoch 00039: val_accuracy did not improve from 0.76101\n",
            "Epoch 40/500\n",
            "2930/2930 [==============================] - 172s 56ms/step - loss: 0.5011 - accuracy: 0.7878 - auc_1: 0.9846 - val_loss: 0.5559 - val_accuracy: 0.7632 - val_auc_1: 0.9807\n",
            "\n",
            "Epoch 00040: val_accuracy improved from 0.76101 to 0.76319, saving model to /content/drive/MyDrive/Bandit_Project/generated_data_4_project/models/W&D/wdmodel_2_checkpoint.h5\n",
            "Epoch 41/500\n",
            "2930/2930 [==============================] - 172s 56ms/step - loss: 0.4999 - accuracy: 0.7884 - auc_1: 0.9847 - val_loss: 0.5563 - val_accuracy: 0.7628 - val_auc_1: 0.9807\n",
            "\n",
            "Epoch 00041: val_accuracy did not improve from 0.76319\n",
            "Epoch 42/500\n",
            "2930/2930 [==============================] - 172s 56ms/step - loss: 0.4993 - accuracy: 0.7888 - auc_1: 0.9847 - val_loss: 0.5574 - val_accuracy: 0.7624 - val_auc_1: 0.9805\n",
            "\n",
            "Epoch 00042: val_accuracy did not improve from 0.76319\n",
            "Epoch 43/500\n",
            "2930/2930 [==============================] - 172s 57ms/step - loss: 0.4984 - accuracy: 0.7891 - auc_1: 0.9848 - val_loss: 0.5563 - val_accuracy: 0.7631 - val_auc_1: 0.9806\n",
            "\n",
            "Epoch 00043: val_accuracy did not improve from 0.76319\n",
            "Epoch 44/500\n",
            "2930/2930 [==============================] - 172s 56ms/step - loss: 0.4976 - accuracy: 0.7896 - auc_1: 0.9848 - val_loss: 0.5568 - val_accuracy: 0.7624 - val_auc_1: 0.9805\n",
            "\n",
            "Epoch 00044: val_accuracy did not improve from 0.76319\n",
            "Epoch 45/500\n",
            "2930/2930 [==============================] - 172s 56ms/step - loss: 0.4960 - accuracy: 0.7900 - auc_1: 0.9849 - val_loss: 0.5547 - val_accuracy: 0.7644 - val_auc_1: 0.9807\n",
            "\n",
            "Epoch 00045: val_accuracy improved from 0.76319 to 0.76437, saving model to /content/drive/MyDrive/Bandit_Project/generated_data_4_project/models/W&D/wdmodel_2_checkpoint.h5\n",
            "Epoch 46/500\n",
            "2930/2930 [==============================] - 172s 57ms/step - loss: 0.4960 - accuracy: 0.7903 - auc_1: 0.9849 - val_loss: 0.5549 - val_accuracy: 0.7639 - val_auc_1: 0.9807\n",
            "\n",
            "Epoch 00046: val_accuracy did not improve from 0.76437\n",
            "Epoch 47/500\n",
            "2930/2930 [==============================] - 172s 56ms/step - loss: 0.4945 - accuracy: 0.7908 - auc_1: 0.9850 - val_loss: 0.5577 - val_accuracy: 0.7633 - val_auc_1: 0.9804\n",
            "\n",
            "Epoch 00047: val_accuracy did not improve from 0.76437\n",
            "Epoch 48/500\n",
            "2930/2930 [==============================] - 172s 57ms/step - loss: 0.4940 - accuracy: 0.7912 - auc_1: 0.9850 - val_loss: 0.5539 - val_accuracy: 0.7645 - val_auc_1: 0.9807\n",
            "\n",
            "Epoch 00048: val_accuracy improved from 0.76437 to 0.76453, saving model to /content/drive/MyDrive/Bandit_Project/generated_data_4_project/models/W&D/wdmodel_2_checkpoint.h5\n",
            "Epoch 49/500\n",
            "2930/2930 [==============================] - 172s 56ms/step - loss: 0.4936 - accuracy: 0.7912 - auc_1: 0.9850 - val_loss: 0.5554 - val_accuracy: 0.7633 - val_auc_1: 0.9806\n",
            "\n",
            "Epoch 00049: val_accuracy did not improve from 0.76453\n",
            "Epoch 50/500\n",
            "2930/2930 [==============================] - 172s 57ms/step - loss: 0.4925 - accuracy: 0.7915 - auc_1: 0.9851 - val_loss: 0.5542 - val_accuracy: 0.7652 - val_auc_1: 0.9807\n",
            "\n",
            "Epoch 00050: val_accuracy improved from 0.76453 to 0.76522, saving model to /content/drive/MyDrive/Bandit_Project/generated_data_4_project/models/W&D/wdmodel_2_checkpoint.h5\n",
            "Epoch 51/500\n",
            "2930/2930 [==============================] - 173s 57ms/step - loss: 0.4917 - accuracy: 0.7922 - auc_1: 0.9851 - val_loss: 0.5543 - val_accuracy: 0.7643 - val_auc_1: 0.9806\n",
            "\n",
            "Epoch 00051: val_accuracy did not improve from 0.76522\n",
            "Epoch 52/500\n",
            "2930/2930 [==============================] - 173s 57ms/step - loss: 0.4910 - accuracy: 0.7925 - auc_1: 0.9851 - val_loss: 0.5532 - val_accuracy: 0.7656 - val_auc_1: 0.9807\n",
            "\n",
            "Epoch 00052: val_accuracy improved from 0.76522 to 0.76563, saving model to /content/drive/MyDrive/Bandit_Project/generated_data_4_project/models/W&D/wdmodel_2_checkpoint.h5\n",
            "Epoch 53/500\n",
            "2930/2930 [==============================] - 173s 57ms/step - loss: 0.4911 - accuracy: 0.7923 - auc_1: 0.9851 - val_loss: 0.5540 - val_accuracy: 0.7651 - val_auc_1: 0.9806\n",
            "\n",
            "Epoch 00053: val_accuracy did not improve from 0.76563\n",
            "Epoch 54/500\n",
            "2930/2930 [==============================] - 172s 57ms/step - loss: 0.4901 - accuracy: 0.7929 - auc_1: 0.9852 - val_loss: 0.5533 - val_accuracy: 0.7662 - val_auc_1: 0.9807\n",
            "\n",
            "Epoch 00054: val_accuracy improved from 0.76563 to 0.76624, saving model to /content/drive/MyDrive/Bandit_Project/generated_data_4_project/models/W&D/wdmodel_2_checkpoint.h5\n",
            "Epoch 55/500\n",
            "2930/2930 [==============================] - 172s 57ms/step - loss: 0.4892 - accuracy: 0.7931 - auc_1: 0.9852 - val_loss: 0.5542 - val_accuracy: 0.7656 - val_auc_1: 0.9806\n",
            "\n",
            "Epoch 00055: val_accuracy did not improve from 0.76624\n",
            "Epoch 56/500\n",
            "2930/2930 [==============================] - 172s 57ms/step - loss: 0.4884 - accuracy: 0.7938 - auc_1: 0.9853 - val_loss: 0.5530 - val_accuracy: 0.7661 - val_auc_1: 0.9807\n",
            "\n",
            "Epoch 00056: val_accuracy did not improve from 0.76624\n",
            "Epoch 57/500\n",
            "2930/2930 [==============================] - 173s 57ms/step - loss: 0.4884 - accuracy: 0.7938 - auc_1: 0.9853 - val_loss: 0.5522 - val_accuracy: 0.7666 - val_auc_1: 0.9807\n",
            "\n",
            "Epoch 00057: val_accuracy improved from 0.76624 to 0.76660, saving model to /content/drive/MyDrive/Bandit_Project/generated_data_4_project/models/W&D/wdmodel_2_checkpoint.h5\n",
            "Epoch 58/500\n",
            "2930/2930 [==============================] - 173s 57ms/step - loss: 0.4873 - accuracy: 0.7941 - auc_1: 0.9853 - val_loss: 0.5518 - val_accuracy: 0.7669 - val_auc_1: 0.9807\n",
            "\n",
            "Epoch 00058: val_accuracy improved from 0.76660 to 0.76692, saving model to /content/drive/MyDrive/Bandit_Project/generated_data_4_project/models/W&D/wdmodel_2_checkpoint.h5\n",
            "Epoch 59/500\n",
            "2930/2930 [==============================] - 173s 57ms/step - loss: 0.4866 - accuracy: 0.7945 - auc_1: 0.9854 - val_loss: 0.5526 - val_accuracy: 0.7665 - val_auc_1: 0.9806\n",
            "\n",
            "Epoch 00059: val_accuracy did not improve from 0.76692\n",
            "Epoch 60/500\n",
            "2930/2930 [==============================] - 173s 57ms/step - loss: 0.4860 - accuracy: 0.7944 - auc_1: 0.9854 - val_loss: 0.5513 - val_accuracy: 0.7675 - val_auc_1: 0.9807\n",
            "\n",
            "Epoch 00060: val_accuracy improved from 0.76692 to 0.76752, saving model to /content/drive/MyDrive/Bandit_Project/generated_data_4_project/models/W&D/wdmodel_2_checkpoint.h5\n",
            "Epoch 61/500\n",
            "2930/2930 [==============================] - 174s 57ms/step - loss: 0.4854 - accuracy: 0.7950 - auc_1: 0.9854 - val_loss: 0.5560 - val_accuracy: 0.7657 - val_auc_1: 0.9804\n",
            "\n",
            "Epoch 00061: val_accuracy did not improve from 0.76752\n",
            "Epoch 62/500\n",
            "2930/2930 [==============================] - 175s 57ms/step - loss: 0.4850 - accuracy: 0.7949 - auc_1: 0.9854 - val_loss: 0.5513 - val_accuracy: 0.7677 - val_auc_1: 0.9807\n",
            "\n",
            "Epoch 00062: val_accuracy improved from 0.76752 to 0.76772, saving model to /content/drive/MyDrive/Bandit_Project/generated_data_4_project/models/W&D/wdmodel_2_checkpoint.h5\n",
            "Epoch 63/500\n",
            "2930/2930 [==============================] - 175s 57ms/step - loss: 0.4847 - accuracy: 0.7951 - auc_1: 0.9854 - val_loss: 0.5509 - val_accuracy: 0.7674 - val_auc_1: 0.9807\n",
            "\n",
            "Epoch 00063: val_accuracy did not improve from 0.76772\n",
            "Epoch 64/500\n",
            "2930/2930 [==============================] - 174s 57ms/step - loss: 0.4844 - accuracy: 0.7955 - auc_1: 0.9855 - val_loss: 0.5514 - val_accuracy: 0.7685 - val_auc_1: 0.9807\n",
            "\n",
            "Epoch 00064: val_accuracy improved from 0.76772 to 0.76848, saving model to /content/drive/MyDrive/Bandit_Project/generated_data_4_project/models/W&D/wdmodel_2_checkpoint.h5\n",
            "Epoch 65/500\n",
            "2930/2930 [==============================] - 173s 57ms/step - loss: 0.4828 - accuracy: 0.7961 - auc_1: 0.9856 - val_loss: 0.5516 - val_accuracy: 0.7671 - val_auc_1: 0.9807\n",
            "\n",
            "Epoch 00065: val_accuracy did not improve from 0.76848\n",
            "Epoch 66/500\n",
            "2930/2930 [==============================] - 174s 57ms/step - loss: 0.4833 - accuracy: 0.7960 - auc_1: 0.9855 - val_loss: 0.5528 - val_accuracy: 0.7675 - val_auc_1: 0.9806\n",
            "\n",
            "Epoch 00066: val_accuracy did not improve from 0.76848\n",
            "Epoch 67/500\n",
            "2930/2930 [==============================] - 179s 59ms/step - loss: 0.4828 - accuracy: 0.7956 - auc_1: 0.9855 - val_loss: 0.5516 - val_accuracy: 0.7678 - val_auc_1: 0.9806\n",
            "\n",
            "Epoch 00067: val_accuracy did not improve from 0.76848\n",
            "Epoch 68/500\n",
            "2930/2930 [==============================] - 178s 58ms/step - loss: 0.4822 - accuracy: 0.7963 - auc_1: 0.9856 - val_loss: 0.5542 - val_accuracy: 0.7661 - val_auc_1: 0.9804\n",
            "\n",
            "Epoch 00068: val_accuracy did not improve from 0.76848\n",
            "Epoch 69/500\n",
            "2930/2930 [==============================] - 179s 59ms/step - loss: 0.4817 - accuracy: 0.7965 - auc_1: 0.9856 - val_loss: 0.5503 - val_accuracy: 0.7686 - val_auc_1: 0.9807\n",
            "\n",
            "Epoch 00069: val_accuracy improved from 0.76848 to 0.76859, saving model to /content/drive/MyDrive/Bandit_Project/generated_data_4_project/models/W&D/wdmodel_2_checkpoint.h5\n",
            "Epoch 70/500\n",
            "2930/2930 [==============================] - 179s 59ms/step - loss: 0.4815 - accuracy: 0.7965 - auc_1: 0.9856 - val_loss: 0.5527 - val_accuracy: 0.7682 - val_auc_1: 0.9805\n",
            "\n",
            "Epoch 00070: val_accuracy did not improve from 0.76859\n",
            "Epoch 71/500\n",
            "2930/2930 [==============================] - 179s 59ms/step - loss: 0.4807 - accuracy: 0.7970 - auc_1: 0.9856 - val_loss: 0.5503 - val_accuracy: 0.7687 - val_auc_1: 0.9807\n",
            "\n",
            "Epoch 00071: val_accuracy improved from 0.76859 to 0.76870, saving model to /content/drive/MyDrive/Bandit_Project/generated_data_4_project/models/W&D/wdmodel_2_checkpoint.h5\n",
            "Epoch 72/500\n",
            "2930/2930 [==============================] - 180s 59ms/step - loss: 0.4805 - accuracy: 0.7970 - auc_1: 0.9857 - val_loss: 0.5520 - val_accuracy: 0.7678 - val_auc_1: 0.9806\n",
            "\n",
            "Epoch 00072: val_accuracy did not improve from 0.76870\n",
            "Epoch 73/500\n",
            "2930/2930 [==============================] - 180s 59ms/step - loss: 0.4799 - accuracy: 0.7974 - auc_1: 0.9857 - val_loss: 0.5512 - val_accuracy: 0.7692 - val_auc_1: 0.9806\n",
            "\n",
            "Epoch 00073: val_accuracy improved from 0.76870 to 0.76923, saving model to /content/drive/MyDrive/Bandit_Project/generated_data_4_project/models/W&D/wdmodel_2_checkpoint.h5\n",
            "Epoch 74/500\n",
            "2930/2930 [==============================] - 180s 59ms/step - loss: 0.4802 - accuracy: 0.7973 - auc_1: 0.9857 - val_loss: 0.5502 - val_accuracy: 0.7690 - val_auc_1: 0.9807\n",
            "\n",
            "Epoch 00074: val_accuracy did not improve from 0.76923\n",
            "Epoch 75/500\n",
            "2930/2930 [==============================] - 180s 59ms/step - loss: 0.4799 - accuracy: 0.7973 - auc_1: 0.9857 - val_loss: 0.5528 - val_accuracy: 0.7674 - val_auc_1: 0.9805\n",
            "\n",
            "Epoch 00075: val_accuracy did not improve from 0.76923\n",
            "Epoch 76/500\n",
            "2930/2930 [==============================] - 180s 59ms/step - loss: 0.4792 - accuracy: 0.7978 - auc_1: 0.9857 - val_loss: 0.5522 - val_accuracy: 0.7673 - val_auc_1: 0.9805\n",
            "\n",
            "Epoch 00076: val_accuracy did not improve from 0.76923\n",
            "Epoch 77/500\n",
            "2930/2930 [==============================] - 180s 59ms/step - loss: 0.4780 - accuracy: 0.7981 - auc_1: 0.9858 - val_loss: 0.5518 - val_accuracy: 0.7680 - val_auc_1: 0.9806\n",
            "\n",
            "Epoch 00077: val_accuracy did not improve from 0.76923\n",
            "Epoch 78/500\n",
            "2930/2930 [==============================] - 180s 59ms/step - loss: 0.4784 - accuracy: 0.7979 - auc_1: 0.9858 - val_loss: 0.5501 - val_accuracy: 0.7690 - val_auc_1: 0.9806\n",
            "\n",
            "Epoch 00078: val_accuracy did not improve from 0.76923\n",
            "Epoch 79/500\n",
            "2930/2930 [==============================] - 180s 59ms/step - loss: 0.4781 - accuracy: 0.7980 - auc_1: 0.9858 - val_loss: 0.5510 - val_accuracy: 0.7691 - val_auc_1: 0.9806\n",
            "\n",
            "Epoch 00079: val_accuracy did not improve from 0.76923\n",
            "Epoch 80/500\n",
            "2930/2930 [==============================] - 180s 59ms/step - loss: 0.4778 - accuracy: 0.7982 - auc_1: 0.9858 - val_loss: 0.5510 - val_accuracy: 0.7689 - val_auc_1: 0.9806\n",
            "\n",
            "Epoch 00080: val_accuracy did not improve from 0.76923\n",
            "Epoch 81/500\n",
            "2930/2930 [==============================] - 180s 59ms/step - loss: 0.4771 - accuracy: 0.7986 - auc_1: 0.9858 - val_loss: 0.5496 - val_accuracy: 0.7704 - val_auc_1: 0.9806\n",
            "\n",
            "Epoch 00081: val_accuracy improved from 0.76923 to 0.77039, saving model to /content/drive/MyDrive/Bandit_Project/generated_data_4_project/models/W&D/wdmodel_2_checkpoint.h5\n",
            "Epoch 82/500\n",
            "2930/2930 [==============================] - 181s 59ms/step - loss: 0.4766 - accuracy: 0.7989 - auc_1: 0.9859 - val_loss: 0.5486 - val_accuracy: 0.7709 - val_auc_1: 0.9807\n",
            "\n",
            "Epoch 00082: val_accuracy improved from 0.77039 to 0.77095, saving model to /content/drive/MyDrive/Bandit_Project/generated_data_4_project/models/W&D/wdmodel_2_checkpoint.h5\n",
            "Epoch 83/500\n",
            "2930/2930 [==============================] - 182s 60ms/step - loss: 0.4766 - accuracy: 0.7988 - auc_1: 0.9858 - val_loss: 0.5509 - val_accuracy: 0.7697 - val_auc_1: 0.9805\n",
            "\n",
            "Epoch 00083: val_accuracy did not improve from 0.77095\n",
            "Epoch 84/500\n",
            "2930/2930 [==============================] - 181s 60ms/step - loss: 0.4763 - accuracy: 0.7989 - auc_1: 0.9858 - val_loss: 0.5498 - val_accuracy: 0.7706 - val_auc_1: 0.9806\n",
            "\n",
            "Epoch 00084: val_accuracy did not improve from 0.77095\n",
            "Epoch 85/500\n",
            "2930/2930 [==============================] - 180s 59ms/step - loss: 0.4762 - accuracy: 0.7989 - auc_1: 0.9859 - val_loss: 0.5499 - val_accuracy: 0.7707 - val_auc_1: 0.9806\n",
            "\n",
            "Epoch 00085: val_accuracy did not improve from 0.77095\n",
            "Epoch 86/500\n",
            "2930/2930 [==============================] - 180s 59ms/step - loss: 0.4758 - accuracy: 0.7992 - auc_1: 0.9859 - val_loss: 0.5516 - val_accuracy: 0.7695 - val_auc_1: 0.9805\n",
            "\n",
            "Epoch 00086: val_accuracy did not improve from 0.77095\n",
            "Epoch 87/500\n",
            "2930/2930 [==============================] - 180s 59ms/step - loss: 0.4750 - accuracy: 0.7997 - auc_1: 0.9859 - val_loss: 0.5512 - val_accuracy: 0.7695 - val_auc_1: 0.9805\n",
            "\n",
            "Epoch 00087: val_accuracy did not improve from 0.77095\n",
            "Epoch 88/500\n",
            "2930/2930 [==============================] - 180s 59ms/step - loss: 0.4749 - accuracy: 0.7996 - auc_1: 0.9859 - val_loss: 0.5498 - val_accuracy: 0.7706 - val_auc_1: 0.9806\n",
            "\n",
            "Epoch 00088: val_accuracy did not improve from 0.77095\n",
            "Epoch 89/500\n",
            "2930/2930 [==============================] - 180s 59ms/step - loss: 0.4745 - accuracy: 0.7998 - auc_1: 0.9860 - val_loss: 0.5490 - val_accuracy: 0.7715 - val_auc_1: 0.9806\n",
            "\n",
            "Epoch 00089: val_accuracy improved from 0.77095 to 0.77145, saving model to /content/drive/MyDrive/Bandit_Project/generated_data_4_project/models/W&D/wdmodel_2_checkpoint.h5\n",
            "Epoch 90/500\n",
            "2930/2930 [==============================] - 180s 59ms/step - loss: 0.4741 - accuracy: 0.8000 - auc_1: 0.9860 - val_loss: 0.5482 - val_accuracy: 0.7715 - val_auc_1: 0.9807\n",
            "\n",
            "Epoch 00090: val_accuracy improved from 0.77145 to 0.77151, saving model to /content/drive/MyDrive/Bandit_Project/generated_data_4_project/models/W&D/wdmodel_2_checkpoint.h5\n",
            "Epoch 91/500\n",
            "2930/2930 [==============================] - 180s 59ms/step - loss: 0.4742 - accuracy: 0.7998 - auc_1: 0.9860 - val_loss: 0.5489 - val_accuracy: 0.7713 - val_auc_1: 0.9806\n",
            "\n",
            "Epoch 00091: val_accuracy did not improve from 0.77151\n",
            "Epoch 92/500\n",
            "2930/2930 [==============================] - 181s 59ms/step - loss: 0.4735 - accuracy: 0.8002 - auc_1: 0.9860 - val_loss: 0.5504 - val_accuracy: 0.7701 - val_auc_1: 0.9805\n",
            "\n",
            "Epoch 00092: val_accuracy did not improve from 0.77151\n",
            "Epoch 93/500\n",
            "2930/2930 [==============================] - 180s 59ms/step - loss: 0.4733 - accuracy: 0.8003 - auc_1: 0.9860 - val_loss: 0.5516 - val_accuracy: 0.7714 - val_auc_1: 0.9804\n",
            "\n",
            "Epoch 00093: val_accuracy did not improve from 0.77151\n",
            "Epoch 94/500\n",
            "2930/2930 [==============================] - 180s 59ms/step - loss: 0.4731 - accuracy: 0.8002 - auc_1: 0.9860 - val_loss: 0.5500 - val_accuracy: 0.7706 - val_auc_1: 0.9805\n",
            "\n",
            "Epoch 00094: val_accuracy did not improve from 0.77151\n",
            "Epoch 95/500\n",
            "2930/2930 [==============================] - 180s 59ms/step - loss: 0.4724 - accuracy: 0.8007 - auc_1: 0.9860 - val_loss: 0.5495 - val_accuracy: 0.7716 - val_auc_1: 0.9806\n",
            "\n",
            "Epoch 00095: val_accuracy improved from 0.77151 to 0.77160, saving model to /content/drive/MyDrive/Bandit_Project/generated_data_4_project/models/W&D/wdmodel_2_checkpoint.h5\n",
            "Epoch 96/500\n",
            "2930/2930 [==============================] - 180s 59ms/step - loss: 0.4727 - accuracy: 0.8005 - auc_1: 0.9860 - val_loss: 0.5493 - val_accuracy: 0.7717 - val_auc_1: 0.9806\n",
            "\n",
            "Epoch 00096: val_accuracy improved from 0.77160 to 0.77173, saving model to /content/drive/MyDrive/Bandit_Project/generated_data_4_project/models/W&D/wdmodel_2_checkpoint.h5\n",
            "Epoch 97/500\n",
            "2930/2930 [==============================] - 182s 60ms/step - loss: 0.4721 - accuracy: 0.8007 - auc_1: 0.9861 - val_loss: 0.5499 - val_accuracy: 0.7711 - val_auc_1: 0.9805\n",
            "\n",
            "Epoch 00097: val_accuracy did not improve from 0.77173\n",
            "Epoch 98/500\n",
            "2930/2930 [==============================] - 181s 60ms/step - loss: 0.4715 - accuracy: 0.8012 - auc_1: 0.9861 - val_loss: 0.5497 - val_accuracy: 0.7719 - val_auc_1: 0.9805\n",
            "\n",
            "Epoch 00098: val_accuracy improved from 0.77173 to 0.77194, saving model to /content/drive/MyDrive/Bandit_Project/generated_data_4_project/models/W&D/wdmodel_2_checkpoint.h5\n",
            "Epoch 99/500\n",
            "2930/2930 [==============================] - 181s 60ms/step - loss: 0.4713 - accuracy: 0.8011 - auc_1: 0.9861 - val_loss: 0.5479 - val_accuracy: 0.7722 - val_auc_1: 0.9806\n",
            "\n",
            "Epoch 00099: val_accuracy improved from 0.77194 to 0.77217, saving model to /content/drive/MyDrive/Bandit_Project/generated_data_4_project/models/W&D/wdmodel_2_checkpoint.h5\n",
            "Epoch 100/500\n",
            "2930/2930 [==============================] - 181s 60ms/step - loss: 0.4716 - accuracy: 0.8010 - auc_1: 0.9861 - val_loss: 0.5490 - val_accuracy: 0.7722 - val_auc_1: 0.9806\n",
            "\n",
            "Epoch 00100: val_accuracy improved from 0.77217 to 0.77219, saving model to /content/drive/MyDrive/Bandit_Project/generated_data_4_project/models/W&D/wdmodel_2_checkpoint.h5\n",
            "Epoch 101/500\n",
            "2930/2930 [==============================] - 181s 59ms/step - loss: 0.4716 - accuracy: 0.8010 - auc_1: 0.9861 - val_loss: 0.5482 - val_accuracy: 0.7724 - val_auc_1: 0.9806\n",
            "\n",
            "Epoch 00101: val_accuracy improved from 0.77219 to 0.77237, saving model to /content/drive/MyDrive/Bandit_Project/generated_data_4_project/models/W&D/wdmodel_2_checkpoint.h5\n",
            "Epoch 102/500\n",
            "2930/2930 [==============================] - 181s 60ms/step - loss: 0.4709 - accuracy: 0.8012 - auc_1: 0.9861 - val_loss: 0.5481 - val_accuracy: 0.7728 - val_auc_1: 0.9806\n",
            "\n",
            "Epoch 00102: val_accuracy improved from 0.77237 to 0.77280, saving model to /content/drive/MyDrive/Bandit_Project/generated_data_4_project/models/W&D/wdmodel_2_checkpoint.h5\n",
            "Epoch 103/500\n",
            "2930/2930 [==============================] - 181s 60ms/step - loss: 0.4711 - accuracy: 0.8013 - auc_1: 0.9861 - val_loss: 0.5507 - val_accuracy: 0.7708 - val_auc_1: 0.9804\n",
            "\n",
            "Epoch 00103: val_accuracy did not improve from 0.77280\n",
            "Epoch 104/500\n",
            "2930/2930 [==============================] - 181s 59ms/step - loss: 0.4707 - accuracy: 0.8016 - auc_1: 0.9861 - val_loss: 0.5499 - val_accuracy: 0.7724 - val_auc_1: 0.9805\n",
            "\n",
            "Epoch 00104: val_accuracy did not improve from 0.77280\n",
            "Epoch 105/500\n",
            "2930/2930 [==============================] - 181s 60ms/step - loss: 0.4704 - accuracy: 0.8016 - auc_1: 0.9861 - val_loss: 0.5502 - val_accuracy: 0.7714 - val_auc_1: 0.9805\n",
            "\n",
            "Epoch 00105: val_accuracy did not improve from 0.77280\n",
            "Epoch 106/500\n",
            "2930/2930 [==============================] - 180s 59ms/step - loss: 0.4696 - accuracy: 0.8019 - auc_1: 0.9862 - val_loss: 0.5525 - val_accuracy: 0.7714 - val_auc_1: 0.9803\n",
            "\n",
            "Epoch 00106: val_accuracy did not improve from 0.77280\n",
            "Epoch 107/500\n",
            "2930/2930 [==============================] - 181s 60ms/step - loss: 0.4696 - accuracy: 0.8017 - auc_1: 0.9862 - val_loss: 0.5485 - val_accuracy: 0.7725 - val_auc_1: 0.9806\n",
            "\n",
            "Epoch 00107: val_accuracy did not improve from 0.77280\n",
            "Epoch 108/500\n",
            "2930/2930 [==============================] - 181s 60ms/step - loss: 0.4699 - accuracy: 0.8019 - auc_1: 0.9862 - val_loss: 0.5484 - val_accuracy: 0.7732 - val_auc_1: 0.9806\n",
            "\n",
            "Epoch 00108: val_accuracy improved from 0.77280 to 0.77322, saving model to /content/drive/MyDrive/Bandit_Project/generated_data_4_project/models/W&D/wdmodel_2_checkpoint.h5\n",
            "Epoch 109/500\n",
            "2930/2930 [==============================] - 176s 58ms/step - loss: 0.4692 - accuracy: 0.8021 - auc_1: 0.9862 - val_loss: 0.5493 - val_accuracy: 0.7724 - val_auc_1: 0.9805\n",
            "\n",
            "Epoch 00109: val_accuracy did not improve from 0.77322\n",
            "Epoch 00109: early stopping\n"
          ],
          "name": "stdout"
        }
      ]
    },
    {
      "cell_type": "code",
      "metadata": {
        "id": "gJtvS04pe2Dy",
        "colab": {
          "base_uri": "https://localhost:8080/",
          "height": 387
        },
        "outputId": "ca004233-fab2-44f1-d52a-c05b23679386"
      },
      "source": [
        "#Plot the training & validation loss/accuracy curve\n",
        "plt.figure()\n",
        "plt.style.use('ggplot')\n",
        "plt.plot(H.history['accuracy'], label='Training Accuracy')\n",
        "plt.plot(H.history['val_accuracy'], label='Validation Accuracy')\n",
        "plt.plot(H.history['loss'], label='Training Loss')\n",
        "plt.plot(H.history['val_loss'], label='Validation Loss')\n",
        "plt.legend()\n",
        "plt.title('Accuracy/Loss vs Epochs')\n",
        "plt.xlabel('Epoch Number')\n",
        "plt.ylabel('Accuracy/Loss')\n",
        "plt.show()"
      ],
      "execution_count": 34,
      "outputs": [
        {
          "output_type": "execute_result",
          "data": {
            "text/plain": [
              "<Figure size 432x288 with 0 Axes>"
            ]
          },
          "metadata": {
            "tags": []
          },
          "execution_count": 34
        },
        {
          "output_type": "execute_result",
          "data": {
            "text/plain": [
              "[<matplotlib.lines.Line2D at 0x7ff7c71fa550>]"
            ]
          },
          "metadata": {
            "tags": []
          },
          "execution_count": 34
        },
        {
          "output_type": "execute_result",
          "data": {
            "text/plain": [
              "[<matplotlib.lines.Line2D at 0x7ff7c71fad50>]"
            ]
          },
          "metadata": {
            "tags": []
          },
          "execution_count": 34
        },
        {
          "output_type": "execute_result",
          "data": {
            "text/plain": [
              "[<matplotlib.lines.Line2D at 0x7ff7c7201190>]"
            ]
          },
          "metadata": {
            "tags": []
          },
          "execution_count": 34
        },
        {
          "output_type": "execute_result",
          "data": {
            "text/plain": [
              "[<matplotlib.lines.Line2D at 0x7ff7c7201f50>]"
            ]
          },
          "metadata": {
            "tags": []
          },
          "execution_count": 34
        },
        {
          "output_type": "execute_result",
          "data": {
            "text/plain": [
              "<matplotlib.legend.Legend at 0x7ff7c8350d90>"
            ]
          },
          "metadata": {
            "tags": []
          },
          "execution_count": 34
        },
        {
          "output_type": "execute_result",
          "data": {
            "text/plain": [
              "Text(0.5, 1.0, 'Accuracy/Loss vs Epochs')"
            ]
          },
          "metadata": {
            "tags": []
          },
          "execution_count": 34
        },
        {
          "output_type": "execute_result",
          "data": {
            "text/plain": [
              "Text(0.5, 0, 'Epoch Number')"
            ]
          },
          "metadata": {
            "tags": []
          },
          "execution_count": 34
        },
        {
          "output_type": "execute_result",
          "data": {
            "text/plain": [
              "Text(0, 0.5, 'Accuracy/Loss')"
            ]
          },
          "metadata": {
            "tags": []
          },
          "execution_count": 34
        },
        {
          "output_type": "display_data",
          "data": {
            "image/png": "[encoded data removed]",
            "text/plain": [
              "<Figure size 432x288 with 1 Axes>"
            ]
          },
          "metadata": {
            "tags": []
          }
        }
      ]
    },
    {
      "cell_type": "code",
      "metadata": {
        "id": "AGyGyUNge14F",
        "colab": {
          "base_uri": "https://localhost:8080/"
        },
        "outputId": "cbaffb6d-9911-461f-8d6c-c26d77f9d04a"
      },
      "source": [
        "#Generate the predictions to a variable\n",
        "wd_2_predictions = wd_2_model.predict(test_dl, batch_size=batch_size, verbose=1)\n",
        "results[\"wide_deep_2\"] = np.argmax(wd_2_predictions, axis=1)"
      ],
      "execution_count": 35,
      "outputs": [
        {
          "output_type": "stream",
          "text": [
            "977/977 [==============================] - 26s 26ms/step\n"
          ],
          "name": "stdout"
        }
      ]
    },
    {
      "cell_type": "code",
      "metadata": {
        "id": "oXJSM41vch71",
        "colab": {
          "base_uri": "https://localhost:8080/"
        },
        "outputId": "faa6c5d6-1824-476a-8ed8-954b238e41ce"
      },
      "source": [
        "wd_2_model.save(str(wdmodel_2_path))\n",
        "del wd_2_model\n",
        "del H\n",
        "gc.collect()"
      ],
      "execution_count": 36,
      "outputs": [
        {
          "output_type": "execute_result",
          "data": {
            "text/plain": [
              "110"
            ]
          },
          "metadata": {
            "tags": []
          },
          "execution_count": 36
        }
      ]
    },
    {
      "cell_type": "markdown",
      "metadata": {
        "id": "GhjKemGmfIPu"
      },
      "source": [
        "# Saving prediction results "
      ]
    },
    {
      "cell_type": "code",
      "metadata": {
        "colab": {
          "base_uri": "https://localhost:8080/",
          "height": 204
        },
        "id": "iAEhPKU1yuQD",
        "outputId": "243a4a28-fce5-42bd-d505-3d1081a9c0e1"
      },
      "source": [
        "results.to_csv(result_csv_path, header=True, index=False)\n",
        "results.head()"
      ],
      "execution_count": 49,
      "outputs": [
        {
          "output_type": "execute_result",
          "data": {
            "text/html": [
              "<div>\n",
              "<style scoped>\n",
              "    .dataframe tbody tr th:only-of-type {\n",
              "        vertical-align: middle;\n",
              "    }\n",
              "\n",
              "    .dataframe tbody tr th {\n",
              "        vertical-align: top;\n",
              "    }\n",
              "\n",
              "    .dataframe thead th {\n",
              "        text-align: right;\n",
              "    }\n",
              "</style>\n",
              "<table border=\"1\" class=\"dataframe\">\n",
              "  <thead>\n",
              "    <tr style=\"text-align: right;\">\n",
              "      <th></th>\n",
              "      <th>wide_deep_1</th>\n",
              "      <th>wide_deep_2</th>\n",
              "      <th>wide_only</th>\n",
              "      <th>deep_only</th>\n",
              "      <th>target</th>\n",
              "    </tr>\n",
              "  </thead>\n",
              "  <tbody>\n",
              "    <tr>\n",
              "      <th>0</th>\n",
              "      <td>4</td>\n",
              "      <td>4</td>\n",
              "      <td>4</td>\n",
              "      <td>4</td>\n",
              "      <td>4</td>\n",
              "    </tr>\n",
              "    <tr>\n",
              "      <th>1</th>\n",
              "      <td>1</td>\n",
              "      <td>2</td>\n",
              "      <td>2</td>\n",
              "      <td>4</td>\n",
              "      <td>0</td>\n",
              "    </tr>\n",
              "    <tr>\n",
              "      <th>2</th>\n",
              "      <td>4</td>\n",
              "      <td>4</td>\n",
              "      <td>5</td>\n",
              "      <td>4</td>\n",
              "      <td>4</td>\n",
              "    </tr>\n",
              "    <tr>\n",
              "      <th>3</th>\n",
              "      <td>2</td>\n",
              "      <td>2</td>\n",
              "      <td>2</td>\n",
              "      <td>2</td>\n",
              "      <td>2</td>\n",
              "    </tr>\n",
              "    <tr>\n",
              "      <th>4</th>\n",
              "      <td>9</td>\n",
              "      <td>9</td>\n",
              "      <td>4</td>\n",
              "      <td>9</td>\n",
              "      <td>9</td>\n",
              "    </tr>\n",
              "  </tbody>\n",
              "</table>\n",
              "</div>"
            ],
            "text/plain": [
              "   wide_deep_1  wide_deep_2  wide_only  deep_only  target\n",
              "0            4            4          4          4       4\n",
              "1            1            2          2          4       0\n",
              "2            4            4          5          4       4\n",
              "3            2            2          2          2       2\n",
              "4            9            9          4          9       9"
            ]
          },
          "metadata": {
            "tags": []
          },
          "execution_count": 49
        }
      ]
    },
    {
      "cell_type": "code",
      "metadata": {
        "colab": {
          "base_uri": "https://localhost:8080/"
        },
        "id": "432Wh_d_0J7o",
        "outputId": "9ff74dd5-f9ca-469f-d42b-58fd2db207e5"
      },
      "source": [
        "for model_type in [\"wide_only\", \"deep_only\", \"wide_deep_1\", \"wide_deep_2\"]:\n",
        "  acc = ((results[model_type] == results[\"target\"]).astype(int).sum())/len(results)\n",
        "  print(f\"[INFO] {model_type} accuracy: {acc}\")"
      ],
      "execution_count": 52,
      "outputs": [
        {
          "output_type": "stream",
          "text": [
            "[INFO] wide_only accuracy: 0.3360835\n",
            "[INFO] deep_only accuracy: 0.807614\n",
            "[INFO] wide_deep_1 accuracy: 0.806596\n",
            "[INFO] wide_deep_2 accuracy: 0.772791\n"
          ],
          "name": "stdout"
        }
      ]
    }
  ]
}